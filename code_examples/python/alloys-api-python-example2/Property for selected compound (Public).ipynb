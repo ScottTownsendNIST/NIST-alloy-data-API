{
 "cells": [
  {
   "cell_type": "code",
   "execution_count": 1,
   "metadata": {},
   "outputs": [],
   "source": [
    "import json\n",
    "# This loads the decoder table file into a dict for use within the code\n",
    "with open('decoder_table.json') as json_file:\n",
    "    decoder_table = json.load(json_file)"
   ]
  },
  {
   "cell_type": "code",
   "execution_count": 2,
   "metadata": {},
   "outputs": [],
   "source": [
    "# This code is written for TRC Alloys in order to pull alloy or pure metal data directly from the API. This was written by Bryan Dickson using python version 3.9.6, \n",
    "# and if you have any advice or suggestions to improve the code I would like to hear it. \n",
    "# This includes how to structure the data or potential features that could be useful. Please message me at TRCalloy@nist.gov\n",
    "\n",
    "# To use the code, there will need to be some particular packages installed on your computer to use, these include: pandas, numpy, itertools, and plotly\n",
    "# The code should function as listed, unless adding or removing features, please only adjust variables listed for use. Formats for adjusting some parts are within documentation\n",
    "# on the GitHub which examples are listed. \n",
    "\n",
    "import requests\n",
    "\n",
    "# Define the headers to send to the API URI, these should not need to be changed\n",
    "headers = {\n",
    "    'content-type':'application/x-www-form-urlencoded;',\n",
    "    'Access-Control-Allow-Origin':'*',\n",
    "}\n",
    "\n",
    "###################################################################################################\n",
    "### EDIT SEARCH PARAMETERS BELOW THIS LISTED SECTION WITHIN THIS BLOCK ###\n",
    "# Property, representation, and state codes should be provided within a decoder table and are necessary in order to use resource properly\n",
    "\n",
    "#Compound is a list of one or more strings, be sure to use empirical formula i.e. \"Au\", not \"Gold\"\n",
    "compound = [\"Hg\"]\n",
    "#x-axis variable, use code for in decodre table, not name of the variable i.e. Temperature: \"T\"\n",
    "var = \"T\"\n",
    "#property attempting to measure, use code in decoder table, not name i.e. Electrical Resisitivity: \"ER\"\n",
    "prop = \"RSS\"\n",
    "#representation of data, use code in decoder table, i.e. Direct: \"A\", if no representation wanted, use bool False\n",
    "rep = False\n",
    "#state of matter for data, use code in decoder table, i.e. Crystal: \"C\", if all states wanted, use bool False\n",
    "state = False\n",
    "#whether or not you want to show error bars for points on the graph, True to show, False to hide\n",
    "show_uncertainty = True\n",
    "#what units you wish the output to take the form of as a string variable (many units should be available but some may not) MAKE SURE TO PUT THESE IN CORRECT UNITS OR CODE WILL NOT RUN!\n",
    "#default units are left to use, but if you want to use a custom unit replace with a string value of the unit represention. eg: Farenheit = 'F'\n",
    "des_un_var = decoder_table['UnitsStandard'][var]\n",
    "des_un_prop = decoder_table['UnitsStandard'][prop]\n",
    "\n",
    "# Define the search data JSON to send to the API URI\n",
    "# For search parameters, searching by property is standard for this doc, different search parameters are offered within the API Guide on the GitHub\n",
    "# A separate example searching by Author Last name is also provided and commented off for use.\n",
    "search_data = {\"property_search_code\":prop}\n",
    "# search_data = {\"author_last_name\":['Author_Last_Name']}\n",
    "\n",
    "# Define the URL to send the request\n",
    "# Note that this example does require an authentication key to get the data. The one given here is an invalid authkey and will need to be replaced by\n",
    "# a valid authentication key which may be requested free of charge from TRCalloy@nist.gov\n",
    "\n",
    "# This is text to read the key from your desktop to use to access the API\n",
    "api_key = open('TRC-Alloys API Key.txt').read()\n",
    "\n",
    "# This is the URL call, the only thing that should change is that your API key should be called here\n",
    "url=f'https://trc.nist.gov/MetalsAlloyAPI/search?authkey={api_key}'"
   ]
  },
  {
   "cell_type": "code",
   "execution_count": 3,
   "metadata": {},
   "outputs": [],
   "source": [
    "import re\n",
    "# Get the compound data from a requests post, this is what calls the data from the API directly\n",
    "compound_data_response = requests.post(url, json=search_data, headers=headers)\n",
    "\n",
    "# The compound_data object is a \"response\" object and the actual output JSON is in the\n",
    "# text field of that object. So use compound_data_response.text to use the actual output JSON\n",
    "# and this is being written to your .json file which is being called later as well.\n",
    "with open('Test.json', 'w') as fp:\n",
    "    fp.write((re.sub(r'[^\\x00-\\x7f]',r'', compound_data_response.text)))"
   ]
  },
  {
   "cell_type": "code",
   "execution_count": 4,
   "metadata": {},
   "outputs": [],
   "source": [
    "# This loads the .json file into a dict for use within the code\n",
    "with open('Test.json') as json_file:\n",
    "    data = json.load(json_file)"
   ]
  },
  {
   "cell_type": "code",
   "execution_count": 5,
   "metadata": {},
   "outputs": [],
   "source": [
    "from collections import Counter\n",
    "element_ids = []\n",
    "temp_spec = []\n",
    "spec_par = {} #dict which connects the parent specimen to the properties\n",
    "spec_desc = {} #dict which connects the children specimens to their respective parent specimen\n",
    "\n",
    "#This code runs through an initial loop through the .json to access the compound codes in order to call them later on, these are used to identify the elements\n",
    "for a in compound:\n",
    "    for b in data['TRC_data']:\n",
    "        for c in b['compounds']:\n",
    "            if c['formula_hill'] == a:\n",
    "                if c['compound_id'] not in element_ids:\n",
    "                    element_ids.append(c['compound_id'])\n",
    "\n",
    "# This loop creates a set of dicts in order to identify the elements with parent specimens and their according properties\n",
    "for a in compound:\n",
    "    for b in data['TRC_data']:\n",
    "        for d in b['specimens']:\n",
    "            if (Counter(list(set(d['compound_ids']))) == Counter(element_ids)):\n",
    "                if \"parent_ids\" in str(d):\n",
    "                    for e in d['parent_ids']:\n",
    "                        temp_spec.append(e)\n",
    "                    spec_par[d['specimen_id']] = temp_spec\n",
    "                    temp_spec = []\n",
    "            if 'description' in str(d):\n",
    "                spec_desc[d['specimen_id']] = f\"{d['description']['initial']}\""
   ]
  },
  {
   "cell_type": "code",
   "execution_count": 11,
   "metadata": {},
   "outputs": [],
   "source": [
    "import pandas as pd\n",
    "import itertools\n",
    "from conversion_bridge import conversion_bridge\n",
    "\n",
    "temp_x = \"N/A\" # temporary value which houses variable ID for the variable\n",
    "temp_y = \"N/A\" # temporary value which houses variable ID for the property\n",
    "temp_o = \"N/A\" # temporary value which houses variable ID for the secondary variable\n",
    "x_lab = decoder_table['PRP'][var] # axis label to name x\n",
    "y_lab = decoder_table['PRP'][prop] # axis label to name y\n",
    "state_dict = {} # dict which relates state codes to states of matter\n",
    "dataset = [] # data which will be converted to the pandas framwork\n",
    "\n",
    "# With the libraries used to do unit conversion, the output of the change is automatically output, there is no need to pay attention to these values.\n",
    "\n",
    "if var == 'T': #Other sets a value for pressure or temperature for given data since those are the two most common variables for modification of a sample\n",
    "    other = 'P'\n",
    "elif var == 'P':\n",
    "    other = 'T'\n",
    "o_lab = decoder_table['PRP'][other]\n",
    "o_un = decoder_table['UnitsStandard'][other]\n",
    "\n",
    "for a in data['TRC_data']:\n",
    "    for b in a['systems']: # system data tends to be the material compositions, so other aspects can vary within a system with each data set\n",
    "        try: # some intermetallics not explicitly recognized, so the try is to catch data sets which do not have a compound\n",
    "             # only enters if the metal or alloy is the same as listed, is not inclusive of all alloys that contain that element\n",
    "            if (Counter(b['compound_ids']) == Counter(element_ids)): \n",
    "                for p in b['phases']:\n",
    "                    state_dict[p['phase_id']] = p['type'] # this is where the ids and states are related to be called later\n",
    "                for c in b['data_sets']:\n",
    "                    x_axt = []\n",
    "                    y_axt = []\n",
    "                    o_axt = []\n",
    "                    stat_id = []\n",
    "                    y_unc = []\n",
    "                    add_data = False\n",
    "                    method = \"\"\n",
    "                    for s in c['states']:\n",
    "                        stat_id.append(state_dict[s['phase_id']]) # recognizes and lists phase(s) for a given data point\n",
    "                        if (s['specimen_id'] in spec_par): # this section is for listing recognizing the descriptions and purities of specimen\n",
    "                            if len(element_ids) > 1: # this is to go through the data if searching through an alloy\n",
    "                                init_desc = []\n",
    "                                pure = []\n",
    "                                p_un = []\n",
    "                                for t, u in itertools.zip_longest(spec_par[s['specimen_id']],range(len(element_ids)+1)):\n",
    "                                    if t == None:\n",
    "                                        temp_desc = t\n",
    "                                        init_desc.append(t)\n",
    "                                        pure.append(t)\n",
    "                                    else:\n",
    "                                        temp_desc = spec_desc[t]\n",
    "                                        init_desc.append(spec_desc[t])\n",
    "                                        temp_pure = \"\"\n",
    "                                        for i in temp_desc:\n",
    "                                            if i.isdigit() or i == \".\":\n",
    "                                                temp_pure = temp_pure + str(i)\n",
    "                                        if \".\" in temp_pure:\n",
    "                                            pure.append(float(temp_pure))\n",
    "                                        elif temp_pure == '' or temp_pure == None:\n",
    "                                            temp_pure = None\n",
    "                                            pure.append(temp_pure)\n",
    "                                        else:\n",
    "                                            pure.append(int(temp_pure))\n",
    "                                    if (temp_desc == None) or (temp_pure == None):\n",
    "                                        p_un.append(None)\n",
    "                                    elif 'weight %' in temp_desc:\n",
    "                                        p_un.append('Weight %')\n",
    "                                    elif 'mole %' in temp_desc:\n",
    "                                        p_un.append('Mole %')\n",
    "                                    else:\n",
    "                                        p_un.append(\"Not Specified %\")\n",
    "                            else: # this is for identifyig description and purity if a pure element\n",
    "                                init_desc = spec_desc[spec_par[s['specimen_id']][0]]\n",
    "                                pure = \"\"\n",
    "                                for i in init_desc:\n",
    "                                    if i.isdigit() or i == \".\":\n",
    "                                        pure = pure + str(i)\n",
    "                                if \".\" in pure:\n",
    "                                    pure = float(pure)\n",
    "                                elif pure == '':\n",
    "                                    pure = None\n",
    "                                else:\n",
    "                                    pure = int(pure)\n",
    "                                if 'weight %' in init_desc:\n",
    "                                    p_un = 'Weight %'\n",
    "                                elif 'mole %' in init_desc:\n",
    "                                    p_un = 'Mole %'\n",
    "                                elif pure == None:\n",
    "                                    p_un = None\n",
    "                                else:\n",
    "                                    p_un = \"Not Specified %\"\n",
    "                        else: # lists specimen ID for easy recognition if it was not properly added to the spec_par dict\n",
    "                            init_desc = s['specimen_id'] \n",
    "                    for v in c['variables']: # this section of the code is designated to identifying the variable and property for use currently\n",
    "                        if v['variable_name'] == prop:\n",
    "                            temp_y = v['variable_id']\n",
    "                            rep_u = v['representation']\n",
    "                            if (str(rep)[0] == 'R') or (str(rep)[0] == 'X'):\n",
    "                                y_un = '1'\n",
    "                            else:\n",
    "                                y_un = v['units']\n",
    "                            if 'method' in str(v):\n",
    "                                if str(v['method']).upper() in str(decoder_table['Method']):\n",
    "                                    method = decoder_table['Method'][v['method'].upper()]\n",
    "                                else:\n",
    "                                    method = v['method']\n",
    "                            else:\n",
    "                                method = \"N/A\"\n",
    "                            if \"'reference_temperature':\" in str(v):\n",
    "                                ref_temp = v['reference_temperature']\n",
    "                            else:\n",
    "                                ref_temp = \"N/A\"\n",
    "                        if v['variable_name'] == var:\n",
    "                            temp_x = v['variable_id']\n",
    "                            if v['units'] == 'D':\n",
    "                                x_un = decoder_table['UnitsSpecial'][v['units']]\n",
    "                            else:\n",
    "                                x_un = v['units']\n",
    "                        if v['variable_name'] == other:\n",
    "                            temp_o = v['variable_id']\n",
    "                    for d in c['data']: # goes through data tables and eventially data values\n",
    "                        if (f\"'variable_id': {temp_x}\" in str(c['data'])) and (f\"'variable_id': {temp_y}\" in str(c['data'])): # only enters if both property and variable are compatible\n",
    "                            if d['variable_id'] == temp_y:\n",
    "                                for e in d['data_values']:\n",
    "                                    if e['value'] == None:\n",
    "                                        y_axt.append(None)\n",
    "                                        y_unc.append(None)\n",
    "                                    else:\n",
    "                                        if \"'uncertainty':\" in str(e): # adds the uncertainty value for use in the data framework\n",
    "                                            temp_data_y = conversion_bridge(e['value'], e['uncertainty'], prop, y_un, des_un_prop)\n",
    "                                            y_axt.append(temp_data_y[1])\n",
    "                                            y_unc.append(temp_data_y[2])\n",
    "                                        else:\n",
    "                                            temp_data_y = conversion_bridge(e['value'], 0, prop, y_un, des_un_prop)\n",
    "                                            y_axt.append(temp_data_y[1])\n",
    "                                            y_unc.append(None)\n",
    "                            if d['variable_id'] == temp_x:\n",
    "                                for f in d['data_values']:\n",
    "                                    temp_data_x = conversion_bridge(f['value'], 0, var, x_un, des_un_var)\n",
    "                                    x_axt.append(temp_data_x[1]) # these are the data values for the variable being added to the framework\n",
    "                            if d['variable_id'] == temp_o:\n",
    "                                for f in d['data_values']:\n",
    "                                    o_axt.append(f['value'])\n",
    "                            add_data = True # adds a check to make sure that the table knows to add current data set\n",
    "                    if add_data == True:\n",
    "                        for i,j,k,l in itertools.zip_longest(x_axt,y_axt,y_unc,o_axt):\n",
    "                            if i == None:\n",
    "                                i = x_axt[0]\n",
    "                                # These are all of the individual and varying aspects being added to the pandas framework, not all are currently\n",
    "                                # used but are present for use if wanted.\n",
    "                            dataset.append({ \n",
    "                                f'{x_lab}: {des_un_var}': i, # x-axis variable values\n",
    "                                f'{y_lab}: {des_un_prop}': j, # y-axis property values\n",
    "                                'Uncertainty': k, # uncertainty for property\n",
    "                                o_lab: f'{l} {o_un}',\n",
    "                                'Ref Temp': ref_temp, # reference temperature for relative values (K)\n",
    "                                'Data Set ID': str(c['data_set_id']), # Data Set ID for which each value belongs to\n",
    "                                'State': stat_id, # encoded state(s) for each point\n",
    "                                'Representation': rep_u, # encoded representation for each point\n",
    "                                'Method': method, # method for which data was collected\n",
    "                                'Description': init_desc, # initial description of data\n",
    "                                'Purity': pure, # purity value for alloys, in list structure [Purity Element 1, Purity Element 2, ..., Purity Alloy]\n",
    "                                'Purity Units': p_un, # format for purity, corresponds directly to each purity value i.e. weight percent, molar percent, not specified\n",
    "                                'Year': a['citation']['year'] # year of paper's publication\n",
    "                            })\n",
    "        except KeyError:\n",
    "            break\n",
    "\n",
    "df = pd.DataFrame(dataset) # builds the pandas dataframe"
   ]
  },
  {
   "cell_type": "code",
   "execution_count": 12,
   "metadata": {},
   "outputs": [
    {
     "data": {
      "application/vnd.plotly.v1+json": {
       "config": {
        "plotlyServerURL": "https://plot.ly"
       },
       "data": [
        {
         "customdata": [
          [
           "N/A",
           [
            "L"
           ],
           "A",
           "Linear variable-path acoustic interferometer",
           "not stated",
           1928
          ],
          [
           "N/A",
           [
            "L"
           ],
           "A",
           "Linear variable-path acoustic interferometer",
           "not stated",
           1928
          ],
          [
           "N/A",
           [
            "L"
           ],
           "A",
           "Linear variable-path acoustic interferometer",
           "not stated",
           1928
          ],
          [
           "N/A",
           [
            "L"
           ],
           "A",
           "Linear variable-path acoustic interferometer",
           "not stated",
           1928
          ],
          [
           "N/A",
           [
            "L"
           ],
           "A",
           "Linear variable-path acoustic interferometer",
           "not stated",
           1928
          ],
          [
           "N/A",
           [
            "L"
           ],
           "A",
           "Linear variable-path acoustic interferometer",
           "not stated",
           1928
          ],
          [
           "N/A",
           [
            "L"
           ],
           "A",
           "Linear variable-path acoustic interferometer",
           "not stated",
           1928
          ],
          [
           "N/A",
           [
            "L"
           ],
           "A",
           "Linear variable-path acoustic interferometer",
           "not stated",
           1928
          ],
          [
           "N/A",
           [
            "L"
           ],
           "A",
           "Linear variable-path acoustic interferometer",
           "not stated",
           1928
          ],
          [
           "N/A",
           [
            "L"
           ],
           "A",
           "Linear variable-path acoustic interferometer",
           "not stated",
           1928
          ],
          [
           "N/A",
           [
            "L"
           ],
           "A",
           "Linear variable-path acoustic interferometer",
           "not stated",
           1928
          ],
          [
           "N/A",
           [
            "L"
           ],
           "A",
           "Linear variable-path acoustic interferometer",
           "not stated",
           1928
          ],
          [
           "N/A",
           [
            "L"
           ],
           "A",
           "Linear variable-path acoustic interferometer",
           "not stated",
           1928
          ],
          [
           "N/A",
           [
            "L"
           ],
           "A",
           "Linear variable-path acoustic interferometer",
           "not stated",
           1928
          ],
          [
           "N/A",
           [
            "L"
           ],
           "A",
           "Linear variable-path acoustic interferometer",
           "not stated",
           1928
          ],
          [
           "N/A",
           [
            "L"
           ],
           "A",
           "Linear variable-path acoustic interferometer",
           "not stated",
           1928
          ],
          [
           "N/A",
           [
            "L"
           ],
           "A",
           "Linear variable-path acoustic interferometer",
           "not stated",
           1928
          ],
          [
           "N/A",
           [
            "L"
           ],
           "A",
           "Linear variable-path acoustic interferometer",
           "not stated",
           1928
          ]
         ],
         "error_y": {
          "array": [
           1.4603,
           1.4605,
           1.4582,
           1.454,
           1.4541,
           1.4547,
           1.4524,
           1.4514,
           1.4508,
           1.45,
           1.4514,
           1.4525,
           1.4504,
           1.4499,
           1.4497,
           1.4465,
           1.4404,
           1.4416
          ]
         },
         "hovertemplate": "Data Set ID=2572<br>Temperature: K=%{x}<br>Speed of sound: m/s=%{y}<br>Ref Temp=%{customdata[0]}<br>State=%{customdata[1]}<br>Representation=%{customdata[2]}<br>Method=%{customdata[3]}<br>Description=%{customdata[4]}<br>Year=%{customdata[5]}<extra></extra>",
         "legendgroup": "2572",
         "marker": {
          "color": "#636efa",
          "symbol": "circle"
         },
         "mode": "markers",
         "name": "2572",
         "orientation": "v",
         "showlegend": true,
         "type": "scatter",
         "x": [
          275.05,
          275.25,
          279.65,
          285.05,
          285.15,
          286.25,
          292.65,
          293.05,
          293.05,
          293.85,
          294.05,
          294.35,
          294.65,
          294.65,
          295.25,
          303.65,
          312.35,
          312.35
         ],
         "xaxis": "x",
         "y": [
          1460.3,
          1460.5,
          1458.2,
          1454,
          1454.1,
          1454.7,
          1452.4,
          1451.4,
          1450.8,
          1450,
          1451.4,
          1452.5,
          1450.4,
          1449.9,
          1449.7,
          1446.5,
          1440.4,
          1441.6
         ],
         "yaxis": "y"
        },
        {
         "customdata": [
          [
           "N/A",
           [
            "L"
           ],
           "A",
           "Linear variable-path acoustic interferometer",
           "not stated",
           1928
          ],
          [
           "N/A",
           [
            "L"
           ],
           "A",
           "Linear variable-path acoustic interferometer",
           "not stated",
           1928
          ],
          [
           "N/A",
           [
            "L"
           ],
           "A",
           "Linear variable-path acoustic interferometer",
           "not stated",
           1928
          ],
          [
           "N/A",
           [
            "L"
           ],
           "A",
           "Linear variable-path acoustic interferometer",
           "not stated",
           1928
          ],
          [
           "N/A",
           [
            "L"
           ],
           "A",
           "Linear variable-path acoustic interferometer",
           "not stated",
           1928
          ],
          [
           "N/A",
           [
            "L"
           ],
           "A",
           "Linear variable-path acoustic interferometer",
           "not stated",
           1928
          ],
          [
           "N/A",
           [
            "L"
           ],
           "A",
           "Linear variable-path acoustic interferometer",
           "not stated",
           1928
          ],
          [
           "N/A",
           [
            "L"
           ],
           "A",
           "Linear variable-path acoustic interferometer",
           "not stated",
           1928
          ]
         ],
         "error_y": {
          "array": [
           1.4602,
           1.4556,
           1.451,
           1.4464,
           1.4417,
           1.4371,
           1.4324,
           1.4277
          ]
         },
         "hovertemplate": "Data Set ID=2573<br>Temperature: K=%{x}<br>Speed of sound: m/s=%{y}<br>Ref Temp=%{customdata[0]}<br>State=%{customdata[1]}<br>Representation=%{customdata[2]}<br>Method=%{customdata[3]}<br>Description=%{customdata[4]}<br>Year=%{customdata[5]}<extra></extra>",
         "legendgroup": "2573",
         "marker": {
          "color": "#EF553B",
          "symbol": "circle"
         },
         "mode": "markers",
         "name": "2573",
         "orientation": "v",
         "showlegend": true,
         "type": "scatter",
         "x": [
          273.15,
          283.15,
          293.15,
          303.15,
          313.15,
          323.15,
          333.15,
          343.15
         ],
         "xaxis": "x",
         "y": [
          1460.2,
          1455.6,
          1451,
          1446.4,
          1441.7,
          1437.1,
          1432.4,
          1427.7
         ],
         "yaxis": "y"
        },
        {
         "customdata": [
          [
           "N/A",
           [
            "L"
           ],
           "A",
           "Pulse-echo method",
           "origin: commercial source,99.999 %,",
           1963
          ],
          [
           "N/A",
           [
            "L"
           ],
           "A",
           "Pulse-echo method",
           "origin: commercial source,99.999 %,",
           1963
          ],
          [
           "N/A",
           [
            "L"
           ],
           "A",
           "Pulse-echo method",
           "origin: commercial source,99.999 %,",
           1963
          ]
         ],
         "error_y": {
          "array": [
           7.25,
           7,
           6.85
          ]
         },
         "hovertemplate": "Data Set ID=36176<br>Temperature: K=%{x}<br>Speed of sound: m/s=%{y}<br>Ref Temp=%{customdata[0]}<br>State=%{customdata[1]}<br>Representation=%{customdata[2]}<br>Method=%{customdata[3]}<br>Description=%{customdata[4]}<br>Year=%{customdata[5]}<extra></extra>",
         "legendgroup": "36176",
         "marker": {
          "color": "#00cc96",
          "symbol": "circle"
         },
         "mode": "markers",
         "name": "36176",
         "orientation": "v",
         "showlegend": true,
         "type": "scatter",
         "x": [
          298.15,
          401.15,
          477.15
         ],
         "xaxis": "x",
         "y": [
          1450,
          1400,
          1370
         ],
         "yaxis": "y"
        },
        {
         "customdata": [
          [
           "N/A",
           [
            "L"
           ],
           "A",
           "Linear variable-path acoustic interferometer",
           "not stated",
           1963
          ]
         ],
         "error_y": {
          "array": [
           0.2
          ]
         },
         "hovertemplate": "Data Set ID=11840<br>Temperature: K=%{x}<br>Speed of sound: m/s=%{y}<br>Ref Temp=%{customdata[0]}<br>State=%{customdata[1]}<br>Representation=%{customdata[2]}<br>Method=%{customdata[3]}<br>Description=%{customdata[4]}<br>Year=%{customdata[5]}<extra></extra>",
         "legendgroup": "11840",
         "marker": {
          "color": "#ab63fa",
          "symbol": "circle"
         },
         "mode": "markers",
         "name": "11840",
         "orientation": "v",
         "showlegend": true,
         "type": "scatter",
         "x": [
          293.15
         ],
         "xaxis": "x",
         "y": [
          1451
         ],
         "yaxis": "y"
        },
        {
         "customdata": [
          [
           "N/A",
           [
            "L"
           ],
           "A",
           "Linear variable-path acoustic interferometer",
           "not stated",
           1963
          ]
         ],
         "error_y": {
          "array": [
           0.1
          ]
         },
         "hovertemplate": "Data Set ID=11841<br>Temperature: K=%{x}<br>Speed of sound: m/s=%{y}<br>Ref Temp=%{customdata[0]}<br>State=%{customdata[1]}<br>Representation=%{customdata[2]}<br>Method=%{customdata[3]}<br>Description=%{customdata[4]}<br>Year=%{customdata[5]}<extra></extra>",
         "legendgroup": "11841",
         "marker": {
          "color": "#FFA15A",
          "symbol": "circle"
         },
         "mode": "markers",
         "name": "11841",
         "orientation": "v",
         "showlegend": true,
         "type": "scatter",
         "x": [
          293
         ],
         "xaxis": "x",
         "y": [
          1451.4
         ],
         "yaxis": "y"
        },
        {
         "customdata": [
          [
           "N/A",
           [
            "L"
           ],
           "A",
           "Linear variable-path acoustic interferometer",
           "not stated",
           1963
          ]
         ],
         "error_y": {
          "array": [
           0.1
          ]
         },
         "hovertemplate": "Data Set ID=11844<br>Temperature: K=%{x}<br>Speed of sound: m/s=%{y}<br>Ref Temp=%{customdata[0]}<br>State=%{customdata[1]}<br>Representation=%{customdata[2]}<br>Method=%{customdata[3]}<br>Description=%{customdata[4]}<br>Year=%{customdata[5]}<extra></extra>",
         "legendgroup": "11844",
         "marker": {
          "color": "#19d3f3",
          "symbol": "circle"
         },
         "mode": "markers",
         "name": "11844",
         "orientation": "v",
         "showlegend": true,
         "type": "scatter",
         "x": [
          293.15
         ],
         "xaxis": "x",
         "y": [
          1451
         ],
         "yaxis": "y"
        },
        {
         "customdata": [
          [
           "N/A",
           [
            "L"
           ],
           "A",
           "Pulse-echo method",
           "not stated",
           1965
          ],
          [
           "N/A",
           [
            "L"
           ],
           "A",
           "Pulse-echo method",
           "not stated",
           1965
          ],
          [
           "N/A",
           [
            "L"
           ],
           "A",
           "Pulse-echo method",
           "not stated",
           1965
          ],
          [
           "N/A",
           [
            "L"
           ],
           "A",
           "Pulse-echo method",
           "not stated",
           1965
          ],
          [
           "N/A",
           [
            "L"
           ],
           "A",
           "Pulse-echo method",
           "not stated",
           1965
          ],
          [
           "N/A",
           [
            "L"
           ],
           "A",
           "Pulse-echo method",
           "not stated",
           1965
          ],
          [
           "N/A",
           [
            "L"
           ],
           "A",
           "Pulse-echo method",
           "not stated",
           1965
          ],
          [
           "N/A",
           [
            "L"
           ],
           "A",
           "Pulse-echo method",
           "not stated",
           1965
          ],
          [
           "N/A",
           [
            "L"
           ],
           "A",
           "Pulse-echo method",
           "not stated",
           1965
          ],
          [
           "N/A",
           [
            "L"
           ],
           "A",
           "Pulse-echo method",
           "not stated",
           1965
          ],
          [
           "N/A",
           [
            "L"
           ],
           "A",
           "Pulse-echo method",
           "not stated",
           1965
          ],
          [
           "N/A",
           [
            "L"
           ],
           "A",
           "Pulse-echo method",
           "not stated",
           1965
          ],
          [
           "N/A",
           [
            "L"
           ],
           "A",
           "Pulse-echo method",
           "not stated",
           1965
          ],
          [
           "N/A",
           [
            "L"
           ],
           "A",
           "Pulse-echo method",
           "not stated",
           1965
          ],
          [
           "N/A",
           [
            "L"
           ],
           "A",
           "Pulse-echo method",
           "not stated",
           1965
          ],
          [
           "N/A",
           [
            "L"
           ],
           "A",
           "Pulse-echo method",
           "not stated",
           1965
          ],
          [
           "N/A",
           [
            "L"
           ],
           "A",
           "Pulse-echo method",
           "not stated",
           1965
          ],
          [
           "N/A",
           [
            "L"
           ],
           "A",
           "Pulse-echo method",
           "not stated",
           1965
          ],
          [
           "N/A",
           [
            "L"
           ],
           "A",
           "Pulse-echo method",
           "not stated",
           1965
          ],
          [
           "N/A",
           [
            "L"
           ],
           "A",
           "Pulse-echo method",
           "not stated",
           1965
          ],
          [
           "N/A",
           [
            "L"
           ],
           "A",
           "Pulse-echo method",
           "not stated",
           1965
          ],
          [
           "N/A",
           [
            "L"
           ],
           "A",
           "Pulse-echo method",
           "not stated",
           1965
          ],
          [
           "N/A",
           [
            "L"
           ],
           "A",
           "Pulse-echo method",
           "not stated",
           1965
          ],
          [
           "N/A",
           [
            "L"
           ],
           "A",
           "Pulse-echo method",
           "not stated",
           1965
          ],
          [
           "N/A",
           [
            "L"
           ],
           "A",
           "Pulse-echo method",
           "not stated",
           1965
          ],
          [
           "N/A",
           [
            "L"
           ],
           "A",
           "Pulse-echo method",
           "not stated",
           1965
          ],
          [
           "N/A",
           [
            "L"
           ],
           "A",
           "Pulse-echo method",
           "not stated",
           1965
          ],
          [
           "N/A",
           [
            "L"
           ],
           "A",
           "Pulse-echo method",
           "not stated",
           1965
          ],
          [
           "N/A",
           [
            "L"
           ],
           "A",
           "Pulse-echo method",
           "not stated",
           1965
          ],
          [
           "N/A",
           [
            "L"
           ],
           "A",
           "Pulse-echo method",
           "not stated",
           1965
          ],
          [
           "N/A",
           [
            "L"
           ],
           "A",
           "Pulse-echo method",
           "not stated",
           1965
          ],
          [
           "N/A",
           [
            "L"
           ],
           "A",
           "Pulse-echo method",
           "not stated",
           1965
          ],
          [
           "N/A",
           [
            "L"
           ],
           "A",
           "Pulse-echo method",
           "not stated",
           1965
          ],
          [
           "N/A",
           [
            "L"
           ],
           "A",
           "Pulse-echo method",
           "not stated",
           1965
          ],
          [
           "N/A",
           [
            "L"
           ],
           "A",
           "Pulse-echo method",
           "not stated",
           1965
          ]
         ],
         "error_y": {
          "array": [
           2.8948,
           2.89,
           2.8854,
           2.8806,
           2.8758,
           2.8712,
           2.8664,
           2.8616,
           2.857,
           2.8522,
           2.8476,
           2.8428,
           2.838,
           2.8334,
           2.8286,
           2.8238,
           2.8192,
           2.8144,
           2.8096,
           2.805,
           2.8002,
           2.7954,
           2.7908,
           2.786,
           2.7812,
           2.7766,
           2.7718,
           2.767,
           2.7624,
           2.7576,
           2.753,
           2.7482,
           2.7434,
           2.7388,
           2.7368
          ]
         },
         "hovertemplate": "Data Set ID=13441<br>Temperature: K=%{x}<br>Speed of sound: m/s=%{y}<br>Ref Temp=%{customdata[0]}<br>State=%{customdata[1]}<br>Representation=%{customdata[2]}<br>Method=%{customdata[3]}<br>Description=%{customdata[4]}<br>Year=%{customdata[5]}<extra></extra>",
         "legendgroup": "13441",
         "marker": {
          "color": "#FF6692",
          "symbol": "circle"
         },
         "mode": "markers",
         "name": "13441",
         "orientation": "v",
         "showlegend": true,
         "type": "scatter",
         "x": [
          303.15,
          308.15,
          313.15,
          318.15,
          323.15,
          328.15,
          333.15,
          338.15,
          343.15,
          348.15,
          353.15,
          358.15,
          363.15,
          368.15,
          373.15,
          378.15,
          383.15,
          388.15,
          393.15,
          398.15,
          403.15,
          408.15,
          413.15,
          418.15,
          423.15,
          428.15,
          433.15,
          438.15,
          443.15,
          448.15,
          453.15,
          458.15,
          463.15,
          468.15,
          470.15
         ],
         "xaxis": "x",
         "y": [
          1447.4,
          1445,
          1442.7,
          1440.3,
          1437.9,
          1435.6,
          1433.2,
          1430.8,
          1428.5,
          1426.1,
          1423.8,
          1421.4,
          1419,
          1416.7,
          1414.3,
          1411.9,
          1409.6,
          1407.2,
          1404.8,
          1402.5,
          1400.1,
          1397.7,
          1395.4,
          1393,
          1390.6,
          1388.3,
          1385.9,
          1383.5,
          1381.2,
          1378.8,
          1376.5,
          1374.1,
          1371.7,
          1369.4,
          1368.4
         ],
         "yaxis": "y"
        },
        {
         "customdata": [
          [
           "N/A",
           [
            "L"
           ],
           "A",
           "Pulse-echo method",
           "origin: commercial source,99.99 % (total),",
           1965
          ],
          [
           "N/A",
           [
            "L"
           ],
           "A",
           "Pulse-echo method",
           "origin: commercial source,99.99 % (total),",
           1965
          ],
          [
           "N/A",
           [
            "L"
           ],
           "A",
           "Pulse-echo method",
           "origin: commercial source,99.99 % (total),",
           1965
          ],
          [
           "N/A",
           [
            "L"
           ],
           "A",
           "Pulse-echo method",
           "origin: commercial source,99.99 % (total),",
           1965
          ],
          [
           "N/A",
           [
            "L"
           ],
           "A",
           "Pulse-echo method",
           "origin: commercial source,99.99 % (total),",
           1965
          ],
          [
           "N/A",
           [
            "L"
           ],
           "A",
           "Pulse-echo method",
           "origin: commercial source,99.99 % (total),",
           1965
          ],
          [
           "N/A",
           [
            "L"
           ],
           "A",
           "Pulse-echo method",
           "origin: commercial source,99.99 % (total),",
           1965
          ],
          [
           "N/A",
           [
            "L"
           ],
           "A",
           "Pulse-echo method",
           "origin: commercial source,99.99 % (total),",
           1965
          ],
          [
           "N/A",
           [
            "L"
           ],
           "A",
           "Pulse-echo method",
           "origin: commercial source,99.99 % (total),",
           1965
          ],
          [
           "N/A",
           [
            "L"
           ],
           "A",
           "Pulse-echo method",
           "origin: commercial source,99.99 % (total),",
           1965
          ],
          [
           "N/A",
           [
            "L"
           ],
           "A",
           "Pulse-echo method",
           "origin: commercial source,99.99 % (total),",
           1965
          ],
          [
           "N/A",
           [
            "L"
           ],
           "A",
           "Pulse-echo method",
           "origin: commercial source,99.99 % (total),",
           1965
          ],
          [
           "N/A",
           [
            "L"
           ],
           "A",
           "Pulse-echo method",
           "origin: commercial source,99.99 % (total),",
           1965
          ],
          [
           "N/A",
           [
            "L"
           ],
           "A",
           "Pulse-echo method",
           "origin: commercial source,99.99 % (total),",
           1965
          ],
          [
           "N/A",
           [
            "L"
           ],
           "A",
           "Pulse-echo method",
           "origin: commercial source,99.99 % (total),",
           1965
          ],
          [
           "N/A",
           [
            "L"
           ],
           "A",
           "Pulse-echo method",
           "origin: commercial source,99.99 % (total),",
           1965
          ],
          [
           "N/A",
           [
            "L"
           ],
           "A",
           "Pulse-echo method",
           "origin: commercial source,99.99 % (total),",
           1965
          ],
          [
           "N/A",
           [
            "L"
           ],
           "A",
           "Pulse-echo method",
           "origin: commercial source,99.99 % (total),",
           1965
          ],
          [
           "N/A",
           [
            "L"
           ],
           "A",
           "Pulse-echo method",
           "origin: commercial source,99.99 % (total),",
           1965
          ],
          [
           "N/A",
           [
            "L"
           ],
           "A",
           "Pulse-echo method",
           "origin: commercial source,99.99 % (total),",
           1965
          ],
          [
           "N/A",
           [
            "L"
           ],
           "A",
           "Pulse-echo method",
           "origin: commercial source,99.99 % (total),",
           1965
          ],
          [
           "N/A",
           [
            "L"
           ],
           "A",
           "Pulse-echo method",
           "origin: commercial source,99.99 % (total),",
           1965
          ],
          [
           "N/A",
           [
            "L"
           ],
           "A",
           "Pulse-echo method",
           "origin: commercial source,99.99 % (total),",
           1965
          ],
          [
           "N/A",
           [
            "L"
           ],
           "A",
           "Pulse-echo method",
           "origin: commercial source,99.99 % (total),",
           1965
          ],
          [
           "N/A",
           [
            "L"
           ],
           "A",
           "Pulse-echo method",
           "origin: commercial source,99.99 % (total),",
           1965
          ],
          [
           "N/A",
           [
            "L"
           ],
           "A",
           "Pulse-echo method",
           "origin: commercial source,99.99 % (total),",
           1965
          ],
          [
           "N/A",
           [
            "L"
           ],
           "A",
           "Pulse-echo method",
           "origin: commercial source,99.99 % (total),",
           1965
          ],
          [
           "N/A",
           [
            "L"
           ],
           "A",
           "Pulse-echo method",
           "origin: commercial source,99.99 % (total),",
           1965
          ],
          [
           "N/A",
           [
            "L"
           ],
           "A",
           "Pulse-echo method",
           "origin: commercial source,99.99 % (total),",
           1965
          ],
          [
           "N/A",
           [
            "L"
           ],
           "A",
           "Pulse-echo method",
           "origin: commercial source,99.99 % (total),",
           1965
          ],
          [
           "N/A",
           [
            "L"
           ],
           "A",
           "Pulse-echo method",
           "origin: commercial source,99.99 % (total),",
           1965
          ],
          [
           "N/A",
           [
            "L"
           ],
           "A",
           "Pulse-echo method",
           "origin: commercial source,99.99 % (total),",
           1965
          ],
          [
           "N/A",
           [
            "L"
           ],
           "A",
           "Pulse-echo method",
           "origin: commercial source,99.99 % (total),",
           1965
          ],
          [
           "N/A",
           [
            "L"
           ],
           "A",
           "Pulse-echo method",
           "origin: commercial source,99.99 % (total),",
           1965
          ],
          [
           "N/A",
           [
            "L"
           ],
           "A",
           "Pulse-echo method",
           "origin: commercial source,99.99 % (total),",
           1965
          ]
         ],
         "error_y": {
          "array": [
           1.47593,
           1.4732,
           1.47408,
           1.47359,
           1.47097,
           1.47024,
           1.46907,
           1.47017,
           1.46924,
           1.469,
           1.468,
           1.46644,
           1.4609,
           1.45918,
           1.45869,
           1.46003,
           1.45909,
           1.45849,
           1.45674,
           1.45728,
           1.45668,
           1.45702,
           1.45547,
           1.45397,
           1.45512,
           1.45186,
           1.44888,
           1.44934,
           1.44855,
           1.44795,
           1.44346,
           1.44365,
           1.4438,
           1.44226,
           1.44256
          ]
         },
         "hovertemplate": "Data Set ID=13788<br>Temperature: K=%{x}<br>Speed of sound: m/s=%{y}<br>Ref Temp=%{customdata[0]}<br>State=%{customdata[1]}<br>Representation=%{customdata[2]}<br>Method=%{customdata[3]}<br>Description=%{customdata[4]}<br>Year=%{customdata[5]}<extra></extra>",
         "legendgroup": "13788",
         "marker": {
          "color": "#B6E880",
          "symbol": "circle"
         },
         "mode": "markers",
         "name": "13788",
         "orientation": "v",
         "showlegend": true,
         "type": "scatter",
         "x": [
          237.437,
          243.56,
          244.417,
          245.989,
          251.57,
          252.507,
          253.895,
          254.452,
          255.77,
          255.859,
          256.457,
          261.893,
          274.407,
          275.423,
          275.87,
          276.31,
          277.53,
          278.452,
          280.833,
          281.454,
          282.02,
          282.998,
          284.013,
          287.876,
          288.288,
          291.742,
          299.083,
          300.269,
          301.815,
          303.063,
          312.28,
          313.733,
          314.326,
          314.925,
          315.547
         ],
         "xaxis": "x",
         "y": [
          1475.93,
          1473.2,
          1474.08,
          1473.59,
          1470.97,
          1470.24,
          1469.07,
          1470.17,
          1469.24,
          1469,
          1468,
          1466.44,
          1460.9,
          1459.18,
          1458.69,
          1460.03,
          1459.09,
          1458.49,
          1456.74,
          1457.28,
          1456.68,
          1457.02,
          1455.47,
          1453.97,
          1455.12,
          1451.86,
          1448.88,
          1449.34,
          1448.55,
          1447.95,
          1443.46,
          1443.65,
          1443.8,
          1442.26,
          1442.56
         ],
         "yaxis": "y"
        },
        {
         "customdata": [
          [
           "N/A",
           [
            "L"
           ],
           "A",
           "Pulse-echo method",
           "origin: commercial source,99.99 % (total),",
           1965
          ],
          [
           "N/A",
           [
            "L"
           ],
           "A",
           "Pulse-echo method",
           "origin: commercial source,99.99 % (total),",
           1965
          ],
          [
           "N/A",
           [
            "L"
           ],
           "A",
           "Pulse-echo method",
           "origin: commercial source,99.99 % (total),",
           1965
          ],
          [
           "N/A",
           [
            "L"
           ],
           "A",
           "Pulse-echo method",
           "origin: commercial source,99.99 % (total),",
           1965
          ],
          [
           "N/A",
           [
            "L"
           ],
           "A",
           "Pulse-echo method",
           "origin: commercial source,99.99 % (total),",
           1965
          ]
         ],
         "error_y": {
          "array": [
           1.4699,
           1.4608,
           1.4516,
           1.4424,
           1.4333
          ]
         },
         "hovertemplate": "Data Set ID=13789<br>Temperature: K=%{x}<br>Speed of sound: m/s=%{y}<br>Ref Temp=%{customdata[0]}<br>State=%{customdata[1]}<br>Representation=%{customdata[2]}<br>Method=%{customdata[3]}<br>Description=%{customdata[4]}<br>Year=%{customdata[5]}<extra></extra>",
         "legendgroup": "13789",
         "marker": {
          "color": "#FF97FF",
          "symbol": "circle"
         },
         "mode": "markers",
         "name": "13789",
         "orientation": "v",
         "showlegend": true,
         "type": "scatter",
         "x": [
          253.15,
          273.15,
          293.15,
          313.15,
          333.15
         ],
         "xaxis": "x",
         "y": [
          1469.9,
          1460.8,
          1451.6,
          1442.4,
          1433.3
         ],
         "yaxis": "y"
        },
        {
         "customdata": [
          [
           "N/A",
           [
            "L"
           ],
           "A",
           "Pulse-echo method",
           "not stated",
           1967
          ],
          [
           "N/A",
           [
            "L"
           ],
           "A",
           "Pulse-echo method",
           "not stated",
           1967
          ],
          [
           "N/A",
           [
            "L"
           ],
           "A",
           "Pulse-echo method",
           "not stated",
           1967
          ],
          [
           "N/A",
           [
            "L"
           ],
           "A",
           "Pulse-echo method",
           "not stated",
           1967
          ],
          [
           "N/A",
           [
            "L"
           ],
           "A",
           "Pulse-echo method",
           "not stated",
           1967
          ],
          [
           "N/A",
           [
            "L"
           ],
           "A",
           "Pulse-echo method",
           "not stated",
           1967
          ],
          [
           "N/A",
           [
            "L"
           ],
           "A",
           "Pulse-echo method",
           "not stated",
           1967
          ],
          [
           "N/A",
           [
            "L"
           ],
           "A",
           "Pulse-echo method",
           "not stated",
           1967
          ],
          [
           "N/A",
           [
            "L"
           ],
           "A",
           "Pulse-echo method",
           "not stated",
           1967
          ],
          [
           "N/A",
           [
            "L"
           ],
           "A",
           "Pulse-echo method",
           "not stated",
           1967
          ],
          [
           "N/A",
           [
            "L"
           ],
           "A",
           "Pulse-echo method",
           "not stated",
           1967
          ],
          [
           "N/A",
           [
            "L"
           ],
           "A",
           "Pulse-echo method",
           "not stated",
           1967
          ],
          [
           "N/A",
           [
            "L"
           ],
           "A",
           "Pulse-echo method",
           "not stated",
           1967
          ],
          [
           "N/A",
           [
            "L"
           ],
           "A",
           "Pulse-echo method",
           "not stated",
           1967
          ],
          [
           "N/A",
           [
            "L"
           ],
           "A",
           "Pulse-echo method",
           "not stated",
           1967
          ],
          [
           "N/A",
           [
            "L"
           ],
           "A",
           "Pulse-echo method",
           "not stated",
           1967
          ],
          [
           "N/A",
           [
            "L"
           ],
           "A",
           "Pulse-echo method",
           "not stated",
           1967
          ],
          [
           "N/A",
           [
            "L"
           ],
           "A",
           "Pulse-echo method",
           "not stated",
           1967
          ],
          [
           "N/A",
           [
            "L"
           ],
           "A",
           "Pulse-echo method",
           "not stated",
           1967
          ],
          [
           "N/A",
           [
            "L"
           ],
           "A",
           "Pulse-echo method",
           "not stated",
           1967
          ],
          [
           "N/A",
           [
            "L"
           ],
           "A",
           "Pulse-echo method",
           "not stated",
           1967
          ],
          [
           "N/A",
           [
            "L"
           ],
           "A",
           "Pulse-echo method",
           "not stated",
           1967
          ],
          [
           "N/A",
           [
            "L"
           ],
           "A",
           "Pulse-echo method",
           "not stated",
           1967
          ],
          [
           "N/A",
           [
            "L"
           ],
           "A",
           "Pulse-echo method",
           "not stated",
           1967
          ],
          [
           "N/A",
           [
            "L"
           ],
           "A",
           "Pulse-echo method",
           "not stated",
           1967
          ],
          [
           "N/A",
           [
            "L"
           ],
           "A",
           "Pulse-echo method",
           "not stated",
           1967
          ],
          [
           "N/A",
           [
            "L"
           ],
           "A",
           "Pulse-echo method",
           "not stated",
           1967
          ],
          [
           "N/A",
           [
            "L"
           ],
           "A",
           "Pulse-echo method",
           "not stated",
           1967
          ],
          [
           "N/A",
           [
            "L"
           ],
           "A",
           "Pulse-echo method",
           "not stated",
           1967
          ],
          [
           "N/A",
           [
            "L"
           ],
           "A",
           "Pulse-echo method",
           "not stated",
           1967
          ],
          [
           "N/A",
           [
            "L"
           ],
           "A",
           "Pulse-echo method",
           "not stated",
           1967
          ],
          [
           "N/A",
           [
            "L"
           ],
           "A",
           "Pulse-echo method",
           "not stated",
           1967
          ],
          [
           "N/A",
           [
            "L"
           ],
           "A",
           "Pulse-echo method",
           "not stated",
           1967
          ],
          [
           "N/A",
           [
            "L"
           ],
           "A",
           "Pulse-echo method",
           "not stated",
           1967
          ],
          [
           "N/A",
           [
            "L"
           ],
           "A",
           "Pulse-echo method",
           "not stated",
           1967
          ],
          [
           "N/A",
           [
            "L"
           ],
           "A",
           "Pulse-echo method",
           "not stated",
           1967
          ],
          [
           "N/A",
           [
            "L"
           ],
           "A",
           "Pulse-echo method",
           "not stated",
           1967
          ],
          [
           "N/A",
           [
            "L"
           ],
           "A",
           "Pulse-echo method",
           "not stated",
           1967
          ],
          [
           "N/A",
           [
            "L"
           ],
           "A",
           "Pulse-echo method",
           "not stated",
           1967
          ],
          [
           "N/A",
           [
            "L"
           ],
           "A",
           "Pulse-echo method",
           "not stated",
           1967
          ],
          [
           "N/A",
           [
            "L"
           ],
           "A",
           "Pulse-echo method",
           "not stated",
           1967
          ],
          [
           "N/A",
           [
            "L"
           ],
           "A",
           "Pulse-echo method",
           "not stated",
           1967
          ],
          [
           "N/A",
           [
            "L"
           ],
           "A",
           "Pulse-echo method",
           "not stated",
           1967
          ],
          [
           "N/A",
           [
            "L"
           ],
           "A",
           "Pulse-echo method",
           "not stated",
           1967
          ],
          [
           "N/A",
           [
            "L"
           ],
           "A",
           "Pulse-echo method",
           "not stated",
           1967
          ],
          [
           "N/A",
           [
            "L"
           ],
           "A",
           "Pulse-echo method",
           "not stated",
           1967
          ],
          [
           "N/A",
           [
            "L"
           ],
           "A",
           "Pulse-echo method",
           "not stated",
           1967
          ],
          [
           "N/A",
           [
            "L"
           ],
           "A",
           "Pulse-echo method",
           "not stated",
           1967
          ],
          [
           "N/A",
           [
            "L"
           ],
           "A",
           "Pulse-echo method",
           "not stated",
           1967
          ],
          [
           "N/A",
           [
            "L"
           ],
           "A",
           "Pulse-echo method",
           "not stated",
           1967
          ],
          [
           "N/A",
           [
            "L"
           ],
           "A",
           "Pulse-echo method",
           "not stated",
           1967
          ],
          [
           "N/A",
           [
            "L"
           ],
           "A",
           "Pulse-echo method",
           "not stated",
           1967
          ],
          [
           "N/A",
           [
            "L"
           ],
           "A",
           "Pulse-echo method",
           "not stated",
           1967
          ],
          [
           "N/A",
           [
            "L"
           ],
           "A",
           "Pulse-echo method",
           "not stated",
           1967
          ],
          [
           "N/A",
           [
            "L"
           ],
           "A",
           "Pulse-echo method",
           "not stated",
           1967
          ],
          [
           "N/A",
           [
            "L"
           ],
           "A",
           "Pulse-echo method",
           "not stated",
           1967
          ],
          [
           "N/A",
           [
            "L"
           ],
           "A",
           "Pulse-echo method",
           "not stated",
           1967
          ],
          [
           "N/A",
           [
            "L"
           ],
           "A",
           "Pulse-echo method",
           "not stated",
           1967
          ],
          [
           "N/A",
           [
            "L"
           ],
           "A",
           "Pulse-echo method",
           "not stated",
           1967
          ],
          [
           "N/A",
           [
            "L"
           ],
           "A",
           "Pulse-echo method",
           "not stated",
           1967
          ],
          [
           "N/A",
           [
            "L"
           ],
           "A",
           "Pulse-echo method",
           "not stated",
           1967
          ],
          [
           "N/A",
           [
            "L"
           ],
           "A",
           "Pulse-echo method",
           "not stated",
           1967
          ],
          [
           "N/A",
           [
            "L"
           ],
           "A",
           "Pulse-echo method",
           "not stated",
           1967
          ],
          [
           "N/A",
           [
            "L"
           ],
           "A",
           "Pulse-echo method",
           "not stated",
           1967
          ],
          [
           "N/A",
           [
            "L"
           ],
           "A",
           "Pulse-echo method",
           "not stated",
           1967
          ],
          [
           "N/A",
           [
            "L"
           ],
           "A",
           "Pulse-echo method",
           "not stated",
           1967
          ],
          [
           "N/A",
           [
            "L"
           ],
           "A",
           "Pulse-echo method",
           "not stated",
           1967
          ],
          [
           "N/A",
           [
            "L"
           ],
           "A",
           "Pulse-echo method",
           "not stated",
           1967
          ],
          [
           "N/A",
           [
            "L"
           ],
           "A",
           "Pulse-echo method",
           "not stated",
           1967
          ],
          [
           "N/A",
           [
            "L"
           ],
           "A",
           "Pulse-echo method",
           "not stated",
           1967
          ],
          [
           "N/A",
           [
            "L"
           ],
           "A",
           "Pulse-echo method",
           "not stated",
           1967
          ],
          [
           "N/A",
           [
            "L"
           ],
           "A",
           "Pulse-echo method",
           "not stated",
           1967
          ],
          [
           "N/A",
           [
            "L"
           ],
           "A",
           "Pulse-echo method",
           "not stated",
           1967
          ],
          [
           "N/A",
           [
            "L"
           ],
           "A",
           "Pulse-echo method",
           "not stated",
           1967
          ],
          [
           "N/A",
           [
            "L"
           ],
           "A",
           "Pulse-echo method",
           "not stated",
           1967
          ],
          [
           "N/A",
           [
            "L"
           ],
           "A",
           "Pulse-echo method",
           "not stated",
           1967
          ],
          [
           "N/A",
           [
            "L"
           ],
           "A",
           "Pulse-echo method",
           "not stated",
           1967
          ],
          [
           "N/A",
           [
            "L"
           ],
           "A",
           "Pulse-echo method",
           "not stated",
           1967
          ],
          [
           "N/A",
           [
            "L"
           ],
           "A",
           "Pulse-echo method",
           "not stated",
           1967
          ]
         ],
         "error_y": {
          "array": [
           1.4501,
           1.457,
           1.463,
           1.472,
           1.478,
           1.483,
           1.495,
           1.517,
           1.518,
           1.522,
           1.542,
           1.564,
           1.566,
           1.57,
           1.594,
           1.606,
           1.615,
           1.616,
           1.632,
           1.644,
           1.648,
           1.656,
           1.657,
           1.664,
           1.665,
           1.4415,
           1.453,
           1.463,
           1.474,
           1.484,
           1.488,
           1.5,
           1.507,
           1.522,
           1.53,
           1.533,
           1.552,
           1.555,
           1.569,
           1.581,
           1.581,
           1.599,
           1.604,
           1.618,
           1.632,
           1.634,
           1.656,
           1.657,
           1.663,
           1.677,
           1.684,
           1.691,
           1.698,
           1.701,
           1.4358,
           1.447,
           1.457,
           1.469,
           1.478,
           1.49,
           1.491,
           1.5,
           1.524,
           1.53,
           1.537,
           1.546,
           1.572,
           1.573,
           1.587,
           1.595,
           1.616,
           1.623,
           1.639,
           1.642,
           1.647,
           1.651,
           1.669,
           1.67,
           1.675
          ]
         },
         "hovertemplate": "Data Set ID=14761<br>Temperature: K=%{x}<br>Speed of sound: m/s=%{y}<br>Ref Temp=%{customdata[0]}<br>State=%{customdata[1]}<br>Representation=%{customdata[2]}<br>Method=%{customdata[3]}<br>Description=%{customdata[4]}<br>Year=%{customdata[5]}<extra></extra>",
         "legendgroup": "14761",
         "marker": {
          "color": "#FECB52",
          "symbol": "circle"
         },
         "mode": "markers",
         "name": "14761",
         "orientation": "v",
         "showlegend": true,
         "type": "scatter",
         "x": [
          295.05,
          295.05,
          295.05,
          295.05,
          295.05,
          295.05,
          295.05,
          295.05,
          295.05,
          295.05,
          295.05,
          295.05,
          295.05,
          295.05,
          295.05,
          295.05,
          295.05,
          295.05,
          295.05,
          295.05,
          295.05,
          295.05,
          295.05,
          295.05,
          295.05,
          313.65,
          313.65,
          313.65,
          313.65,
          313.65,
          313.65,
          313.65,
          313.65,
          313.65,
          313.65,
          313.65,
          313.65,
          313.65,
          313.65,
          313.65,
          313.65,
          313.65,
          313.65,
          313.65,
          313.65,
          313.65,
          313.65,
          313.65,
          313.65,
          313.65,
          313.65,
          313.65,
          313.65,
          313.65,
          316.05,
          316.05,
          316.05,
          316.05,
          316.05,
          316.05,
          316.05,
          316.05,
          316.05,
          316.05,
          316.05,
          316.05,
          316.05,
          316.05,
          316.05,
          316.05,
          316.05,
          316.05,
          316.05,
          316.05,
          316.05,
          316.05,
          316.05,
          316.05,
          316.05
         ],
         "xaxis": "x",
         "y": [
          1450.1,
          1457,
          1463,
          1472,
          1478,
          1483,
          1495,
          1517,
          1518,
          1522,
          1542,
          1564,
          1566,
          1570,
          1594,
          1606,
          1615,
          1616,
          1632,
          1644,
          1648,
          1656,
          1657,
          1664,
          1665,
          1441.5,
          1453,
          1463,
          1474,
          1484,
          1488,
          1500,
          1507,
          1522,
          1530,
          1533,
          1552,
          1555,
          1569,
          1581,
          1581,
          1599,
          1604,
          1618,
          1632,
          1634,
          1656,
          1657,
          1663,
          1677,
          1684,
          1691,
          1698,
          1701,
          1435.8,
          1447,
          1457,
          1469,
          1478,
          1490,
          1491,
          1500,
          1524,
          1530,
          1537,
          1546,
          1572,
          1573,
          1587,
          1595,
          1616,
          1623,
          1639,
          1642,
          1647,
          1651,
          1669,
          1670,
          1675
         ],
         "yaxis": "y"
        },
        {
         "customdata": [
          [
           "N/A",
           [
            "L"
           ],
           "A",
           "Continous-wave interferometer",
           "not stated,99.999 % (total),",
           1972
          ]
         ],
         "error_y": {
          "array": [
           2
          ]
         },
         "hovertemplate": "Data Set ID=18131<br>Temperature: K=%{x}<br>Speed of sound: m/s=%{y}<br>Ref Temp=%{customdata[0]}<br>State=%{customdata[1]}<br>Representation=%{customdata[2]}<br>Method=%{customdata[3]}<br>Description=%{customdata[4]}<br>Year=%{customdata[5]}<extra></extra>",
         "legendgroup": "18131",
         "marker": {
          "color": "#636efa",
          "symbol": "circle"
         },
         "mode": "markers",
         "name": "18131",
         "orientation": "v",
         "showlegend": true,
         "type": "scatter",
         "x": [
          573.15
         ],
         "xaxis": "x",
         "y": [
          1317
         ],
         "yaxis": "y"
        },
        {
         "customdata": [
          [
           "N/A",
           [
            "L"
           ],
           "A",
           "Phase Comparison Technique",
           "not stated",
           1975
          ],
          [
           "N/A",
           [
            "L"
           ],
           "A",
           "Phase Comparison Technique",
           "not stated",
           1975
          ],
          [
           "N/A",
           [
            "L"
           ],
           "A",
           "Phase Comparison Technique",
           "not stated",
           1975
          ],
          [
           "N/A",
           [
            "L"
           ],
           "A",
           "Phase Comparison Technique",
           "not stated",
           1975
          ],
          [
           "N/A",
           [
            "L"
           ],
           "A",
           "Phase Comparison Technique",
           "not stated",
           1975
          ],
          [
           "N/A",
           [
            "L"
           ],
           "A",
           "Phase Comparison Technique",
           "not stated",
           1975
          ],
          [
           "N/A",
           [
            "L"
           ],
           "A",
           "Phase Comparison Technique",
           "not stated",
           1975
          ],
          [
           "N/A",
           [
            "L"
           ],
           "A",
           "Phase Comparison Technique",
           "not stated",
           1975
          ],
          [
           "N/A",
           [
            "L"
           ],
           "A",
           "Phase Comparison Technique",
           "not stated",
           1975
          ],
          [
           "N/A",
           [
            "L"
           ],
           "A",
           "Phase Comparison Technique",
           "not stated",
           1975
          ],
          [
           "N/A",
           [
            "L"
           ],
           "A",
           "Phase Comparison Technique",
           "not stated",
           1975
          ],
          [
           "N/A",
           [
            "L"
           ],
           "A",
           "Phase Comparison Technique",
           "not stated",
           1975
          ],
          [
           "N/A",
           [
            "L"
           ],
           "A",
           "Phase Comparison Technique",
           "not stated",
           1975
          ],
          [
           "N/A",
           [
            "L"
           ],
           "A",
           "Phase Comparison Technique",
           "not stated",
           1975
          ],
          [
           "N/A",
           [
            "L"
           ],
           "A",
           "Phase Comparison Technique",
           "not stated",
           1975
          ],
          [
           "N/A",
           [
            "L"
           ],
           "A",
           "Phase Comparison Technique",
           "not stated",
           1975
          ],
          [
           "N/A",
           [
            "L"
           ],
           "A",
           "Phase Comparison Technique",
           "not stated",
           1975
          ],
          [
           "N/A",
           [
            "L"
           ],
           "A",
           "Phase Comparison Technique",
           "not stated",
           1975
          ],
          [
           "N/A",
           [
            "L"
           ],
           "A",
           "Phase Comparison Technique",
           "not stated",
           1975
          ],
          [
           "N/A",
           [
            "L"
           ],
           "A",
           "Phase Comparison Technique",
           "not stated",
           1975
          ],
          [
           "N/A",
           [
            "L"
           ],
           "A",
           "Phase Comparison Technique",
           "not stated",
           1975
          ],
          [
           "N/A",
           [
            "L"
           ],
           "A",
           "Phase Comparison Technique",
           "not stated",
           1975
          ],
          [
           "N/A",
           [
            "L"
           ],
           "A",
           "Phase Comparison Technique",
           "not stated",
           1975
          ],
          [
           "N/A",
           [
            "L"
           ],
           "A",
           "Phase Comparison Technique",
           "not stated",
           1975
          ],
          [
           "N/A",
           [
            "L"
           ],
           "A",
           "Phase Comparison Technique",
           "not stated",
           1975
          ],
          [
           "N/A",
           [
            "L"
           ],
           "A",
           "Phase Comparison Technique",
           "not stated",
           1975
          ],
          [
           "N/A",
           [
            "L"
           ],
           "A",
           "Phase Comparison Technique",
           "not stated",
           1975
          ],
          [
           "N/A",
           [
            "L"
           ],
           "A",
           "Phase Comparison Technique",
           "not stated",
           1975
          ],
          [
           "N/A",
           [
            "L"
           ],
           "A",
           "Phase Comparison Technique",
           "not stated",
           1975
          ],
          [
           "N/A",
           [
            "L"
           ],
           "A",
           "Phase Comparison Technique",
           "not stated",
           1975
          ],
          [
           "N/A",
           [
            "L"
           ],
           "A",
           "Phase Comparison Technique",
           "not stated",
           1975
          ],
          [
           "N/A",
           [
            "L"
           ],
           "A",
           "Phase Comparison Technique",
           "not stated",
           1975
          ],
          [
           "N/A",
           [
            "L"
           ],
           "A",
           "Phase Comparison Technique",
           "not stated",
           1975
          ],
          [
           "N/A",
           [
            "L"
           ],
           "A",
           "Phase Comparison Technique",
           "not stated",
           1975
          ],
          [
           "N/A",
           [
            "L"
           ],
           "A",
           "Phase Comparison Technique",
           "not stated",
           1975
          ],
          [
           "N/A",
           [
            "L"
           ],
           "A",
           "Phase Comparison Technique",
           "not stated",
           1975
          ],
          [
           "N/A",
           [
            "L"
           ],
           "A",
           "Phase Comparison Technique",
           "not stated",
           1975
          ],
          [
           "N/A",
           [
            "L"
           ],
           "A",
           "Phase Comparison Technique",
           "not stated",
           1975
          ],
          [
           "N/A",
           [
            "L"
           ],
           "A",
           "Phase Comparison Technique",
           "not stated",
           1975
          ],
          [
           "N/A",
           [
            "L"
           ],
           "A",
           "Phase Comparison Technique",
           "not stated",
           1975
          ],
          [
           "N/A",
           [
            "L"
           ],
           "A",
           "Phase Comparison Technique",
           "not stated",
           1975
          ],
          [
           "N/A",
           [
            "L"
           ],
           "A",
           "Phase Comparison Technique",
           "not stated",
           1975
          ],
          [
           "N/A",
           [
            "L"
           ],
           "A",
           "Phase Comparison Technique",
           "not stated",
           1975
          ],
          [
           "N/A",
           [
            "L"
           ],
           "A",
           "Phase Comparison Technique",
           "not stated",
           1975
          ],
          [
           "N/A",
           [
            "L"
           ],
           "A",
           "Phase Comparison Technique",
           "not stated",
           1975
          ],
          [
           "N/A",
           [
            "L"
           ],
           "A",
           "Phase Comparison Technique",
           "not stated",
           1975
          ],
          [
           "N/A",
           [
            "L"
           ],
           "A",
           "Phase Comparison Technique",
           "not stated",
           1975
          ],
          [
           "N/A",
           [
            "L"
           ],
           "A",
           "Phase Comparison Technique",
           "not stated",
           1975
          ],
          [
           "N/A",
           [
            "L"
           ],
           "A",
           "Phase Comparison Technique",
           "not stated",
           1975
          ],
          [
           "N/A",
           [
            "L"
           ],
           "A",
           "Phase Comparison Technique",
           "not stated",
           1975
          ],
          [
           "N/A",
           [
            "L"
           ],
           "A",
           "Phase Comparison Technique",
           "not stated",
           1975
          ],
          [
           "N/A",
           [
            "L"
           ],
           "A",
           "Phase Comparison Technique",
           "not stated",
           1975
          ],
          [
           "N/A",
           [
            "L"
           ],
           "A",
           "Phase Comparison Technique",
           "not stated",
           1975
          ],
          [
           "N/A",
           [
            "L"
           ],
           "A",
           "Phase Comparison Technique",
           "not stated",
           1975
          ],
          [
           "N/A",
           [
            "L"
           ],
           "A",
           "Phase Comparison Technique",
           "not stated",
           1975
          ],
          [
           "N/A",
           [
            "L"
           ],
           "A",
           "Phase Comparison Technique",
           "not stated",
           1975
          ],
          [
           "N/A",
           [
            "L"
           ],
           "A",
           "Phase Comparison Technique",
           "not stated",
           1975
          ],
          [
           "N/A",
           [
            "L"
           ],
           "A",
           "Phase Comparison Technique",
           "not stated",
           1975
          ],
          [
           "N/A",
           [
            "L"
           ],
           "A",
           "Phase Comparison Technique",
           "not stated",
           1975
          ],
          [
           "N/A",
           [
            "L"
           ],
           "A",
           "Phase Comparison Technique",
           "not stated",
           1975
          ],
          [
           "N/A",
           [
            "L"
           ],
           "A",
           "Phase Comparison Technique",
           "not stated",
           1975
          ],
          [
           "N/A",
           [
            "L"
           ],
           "A",
           "Phase Comparison Technique",
           "not stated",
           1975
          ],
          [
           "N/A",
           [
            "L"
           ],
           "A",
           "Phase Comparison Technique",
           "not stated",
           1975
          ],
          [
           "N/A",
           [
            "L"
           ],
           "A",
           "Phase Comparison Technique",
           "not stated",
           1975
          ],
          [
           "N/A",
           [
            "L"
           ],
           "A",
           "Phase Comparison Technique",
           "not stated",
           1975
          ],
          [
           "N/A",
           [
            "L"
           ],
           "A",
           "Phase Comparison Technique",
           "not stated",
           1975
          ],
          [
           "N/A",
           [
            "L"
           ],
           "A",
           "Phase Comparison Technique",
           "not stated",
           1975
          ],
          [
           "N/A",
           [
            "L"
           ],
           "A",
           "Phase Comparison Technique",
           "not stated",
           1975
          ],
          [
           "N/A",
           [
            "L"
           ],
           "A",
           "Phase Comparison Technique",
           "not stated",
           1975
          ],
          [
           "N/A",
           [
            "L"
           ],
           "A",
           "Phase Comparison Technique",
           "not stated",
           1975
          ],
          [
           "N/A",
           [
            "L"
           ],
           "A",
           "Phase Comparison Technique",
           "not stated",
           1975
          ],
          [
           "N/A",
           [
            "L"
           ],
           "A",
           "Phase Comparison Technique",
           "not stated",
           1975
          ],
          [
           "N/A",
           [
            "L"
           ],
           "A",
           "Phase Comparison Technique",
           "not stated",
           1975
          ],
          [
           "N/A",
           [
            "L"
           ],
           "A",
           "Phase Comparison Technique",
           "not stated",
           1975
          ],
          [
           "N/A",
           [
            "L"
           ],
           "A",
           "Phase Comparison Technique",
           "not stated",
           1975
          ],
          [
           "N/A",
           [
            "L"
           ],
           "A",
           "Phase Comparison Technique",
           "not stated",
           1975
          ],
          [
           "N/A",
           [
            "L"
           ],
           "A",
           "Phase Comparison Technique",
           "not stated",
           1975
          ],
          [
           "N/A",
           [
            "L"
           ],
           "A",
           "Phase Comparison Technique",
           "not stated",
           1975
          ],
          [
           "N/A",
           [
            "L"
           ],
           "A",
           "Phase Comparison Technique",
           "not stated",
           1975
          ]
         ],
         "error_y": {
          "array": [
           29.0128,
           28.8993,
           28.6464,
           28.2544,
           27.7525,
           27.2293,
           26.6407,
           26.2658,
           25.6493,
           24.8637,
           24.0654,
           23.2333,
           22.487,
           21.6238,
           29.9084,
           29.635,
           29.1608,
           28.684,
           28.1786,
           27.6526,
           27.1606,
           26.64,
           25.9893,
           25.3125,
           24.6828,
           24.0948,
           23.27,
           30.6318,
           30.4307,
           30.0227,
           29.7019,
           29.1681,
           28.6553,
           28.215,
           27.6839,
           27.0019,
           26.4499,
           25.9001,
           25.4226,
           24.7511,
           31.3883,
           31.2185,
           30.8223,
           30.5041,
           30.0008,
           29.5187,
           29.1381,
           28.6638,
           28.0644,
           27.551,
           27.0508,
           26.5921,
           26.0707,
           32.0892,
           31.8887,
           31.4941,
           31.1982,
           30.7313,
           30.2976,
           29.9393,
           29.4761,
           28.9306,
           28.4278,
           28.0305,
           27.5967,
           27.1401,
           32.7955,
           32.5703,
           32.1915,
           31.8992,
           31.4865,
           31.0326,
           30.7558,
           30.3278,
           29.8007,
           29.3103,
           28.9919,
           28.5484,
           28.1518
          ]
         },
         "hovertemplate": "Data Set ID=19566<br>Temperature: K=%{x}<br>Speed of sound: m/s=%{y}<br>Ref Temp=%{customdata[0]}<br>State=%{customdata[1]}<br>Representation=%{customdata[2]}<br>Method=%{customdata[3]}<br>Description=%{customdata[4]}<br>Year=%{customdata[5]}<extra></extra>",
         "legendgroup": "19566",
         "marker": {
          "color": "#EF553B",
          "symbol": "circle"
         },
         "mode": "markers",
         "name": "19566",
         "orientation": "v",
         "showlegend": true,
         "type": "scatter",
         "x": [
          299.6,
          312.46,
          344.08,
          386.44,
          440.36,
          496.67,
          559.86,
          600.05,
          656.36,
          727.64,
          795.78,
          865.07,
          928.56,
          998.53,
          299.67,
          329.4,
          387.4,
          445.01,
          504.16,
          562.92,
          613.35,
          668.44,
          734.69,
          803.99,
          865.42,
          921.5,
          999.66,
          299.51,
          332.63,
          392.44,
          437.57,
          506.29,
          566.64,
          616.74,
          673.56,
          749.43,
          813.48,
          874.25,
          927.74,
          999,
          299.84,
          333.3,
          392.57,
          437.28,
          505.6,
          565.97,
          615.95,
          674.18,
          749.84,
          813.34,
          873.17,
          930.72,
          999.19,
          300.15,
          332.97,
          393.54,
          436.87,
          506.87,
          566.86,
          618.66,
          681.54,
          757.6,
          828.18,
          877.77,
          938.33,
          999.09,
          300.19,
          333.6,
          394.82,
          438.69,
          506.71,
          571.22,
          617.07,
          681.12,
          759.38,
          829.54,
          876.92,
          940.96,
          998.89
         ],
         "xaxis": "x",
         "y": [
          1450.64,
          1444.96,
          1432.32,
          1412.72,
          1387.63,
          1361.47,
          1332.03,
          1313.29,
          1282.46,
          1243.18,
          1203.27,
          1161.66,
          1124.35,
          1081.19,
          1495.42,
          1481.75,
          1458.04,
          1434.2,
          1408.93,
          1382.63,
          1358.03,
          1332,
          1299.46,
          1265.63,
          1234.14,
          1204.74,
          1163.5,
          1531.59,
          1521.54,
          1501.14,
          1485.09,
          1458.4,
          1432.77,
          1410.75,
          1384.2,
          1350.09,
          1322.49,
          1295,
          1271.13,
          1237.55,
          1569.41,
          1560.92,
          1541.12,
          1525.2,
          1500.04,
          1475.93,
          1456.9,
          1433.19,
          1403.22,
          1377.55,
          1352.54,
          1329.61,
          1303.54,
          1604.46,
          1594.43,
          1574.7,
          1559.91,
          1536.57,
          1514.88,
          1496.96,
          1473.8,
          1446.53,
          1421.39,
          1401.53,
          1379.84,
          1357.01,
          1639.77,
          1628.51,
          1609.57,
          1594.96,
          1574.33,
          1551.63,
          1537.79,
          1516.39,
          1490.04,
          1465.51,
          1449.6,
          1427.42,
          1407.59
         ],
         "yaxis": "y"
        },
        {
         "customdata": [
          [
           "N/A",
           [
            "L"
           ],
           "A",
           "Single path-length method",
           "not stated",
           1979
          ]
         ],
         "error_y": {
          "array": [
           1.4
          ]
         },
         "hovertemplate": "Data Set ID=20770<br>Temperature: K=%{x}<br>Speed of sound: m/s=%{y}<br>Ref Temp=%{customdata[0]}<br>State=%{customdata[1]}<br>Representation=%{customdata[2]}<br>Method=%{customdata[3]}<br>Description=%{customdata[4]}<br>Year=%{customdata[5]}<extra></extra>",
         "legendgroup": "20770",
         "marker": {
          "color": "#00cc96",
          "symbol": "circle"
         },
         "mode": "markers",
         "name": "20770",
         "orientation": "v",
         "showlegend": true,
         "type": "scatter",
         "x": [
          298.7
         ],
         "xaxis": "x",
         "y": [
          1450.1
         ],
         "yaxis": "y"
        },
        {
         "customdata": [
          [
           "N/A",
           [
            "L"
           ],
           "A",
           "Pulse-echo method",
           "not stated",
           1980
          ],
          [
           "N/A",
           [
            "L"
           ],
           "A",
           "Pulse-echo method",
           "not stated",
           1980
          ],
          [
           "N/A",
           [
            "L"
           ],
           "A",
           "Pulse-echo method",
           "not stated",
           1980
          ],
          [
           "N/A",
           [
            "L"
           ],
           "A",
           "Pulse-echo method",
           "not stated",
           1980
          ],
          [
           "N/A",
           [
            "L"
           ],
           "A",
           "Pulse-echo method",
           "not stated",
           1980
          ],
          [
           "N/A",
           [
            "L"
           ],
           "A",
           "Pulse-echo method",
           "not stated",
           1980
          ],
          [
           "N/A",
           [
            "L"
           ],
           "A",
           "Pulse-echo method",
           "not stated",
           1980
          ],
          [
           "N/A",
           [
            "L"
           ],
           "A",
           "Pulse-echo method",
           "not stated",
           1980
          ],
          [
           "N/A",
           [
            "L"
           ],
           "A",
           "Pulse-echo method",
           "not stated",
           1980
          ],
          [
           "N/A",
           [
            "L"
           ],
           "A",
           "Pulse-echo method",
           "not stated",
           1980
          ],
          [
           "N/A",
           [
            "L"
           ],
           "A",
           "Pulse-echo method",
           "not stated",
           1980
          ],
          [
           "N/A",
           [
            "L"
           ],
           "A",
           "Pulse-echo method",
           "not stated",
           1980
          ],
          [
           "N/A",
           [
            "L"
           ],
           "A",
           "Pulse-echo method",
           "not stated",
           1980
          ],
          [
           "N/A",
           [
            "L"
           ],
           "A",
           "Pulse-echo method",
           "not stated",
           1980
          ],
          [
           "N/A",
           [
            "L"
           ],
           "A",
           "Pulse-echo method",
           "not stated",
           1980
          ],
          [
           "N/A",
           [
            "L"
           ],
           "A",
           "Pulse-echo method",
           "not stated",
           1980
          ],
          [
           "N/A",
           [
            "L"
           ],
           "A",
           "Pulse-echo method",
           "not stated",
           1980
          ],
          [
           "N/A",
           [
            "L"
           ],
           "A",
           "Pulse-echo method",
           "not stated",
           1980
          ],
          [
           "N/A",
           [
            "L"
           ],
           "A",
           "Pulse-echo method",
           "not stated",
           1980
          ],
          [
           "N/A",
           [
            "L"
           ],
           "A",
           "Pulse-echo method",
           "not stated",
           1980
          ],
          [
           "N/A",
           [
            "L"
           ],
           "A",
           "Pulse-echo method",
           "not stated",
           1980
          ],
          [
           "N/A",
           [
            "L"
           ],
           "A",
           "Pulse-echo method",
           "not stated",
           1980
          ],
          [
           "N/A",
           [
            "L"
           ],
           "A",
           "Pulse-echo method",
           "not stated",
           1980
          ],
          [
           "N/A",
           [
            "L"
           ],
           "A",
           "Pulse-echo method",
           "not stated",
           1980
          ],
          [
           "N/A",
           [
            "L"
           ],
           "A",
           "Pulse-echo method",
           "not stated",
           1980
          ],
          [
           "N/A",
           [
            "L"
           ],
           "A",
           "Pulse-echo method",
           "not stated",
           1980
          ],
          [
           "N/A",
           [
            "L"
           ],
           "A",
           "Pulse-echo method",
           "not stated",
           1980
          ],
          [
           "N/A",
           [
            "L"
           ],
           "A",
           "Pulse-echo method",
           "not stated",
           1980
          ],
          [
           "N/A",
           [
            "L"
           ],
           "A",
           "Pulse-echo method",
           "not stated",
           1980
          ],
          [
           "N/A",
           [
            "L"
           ],
           "A",
           "Pulse-echo method",
           "not stated",
           1980
          ],
          [
           "N/A",
           [
            "L"
           ],
           "A",
           "Pulse-echo method",
           "not stated",
           1980
          ],
          [
           "N/A",
           [
            "L"
           ],
           "A",
           "Pulse-echo method",
           "not stated",
           1980
          ],
          [
           "N/A",
           [
            "L"
           ],
           "A",
           "Pulse-echo method",
           "not stated",
           1980
          ],
          [
           "N/A",
           [
            "L"
           ],
           "A",
           "Pulse-echo method",
           "not stated",
           1980
          ],
          [
           "N/A",
           [
            "L"
           ],
           "A",
           "Pulse-echo method",
           "not stated",
           1980
          ],
          [
           "N/A",
           [
            "L"
           ],
           "A",
           "Pulse-echo method",
           "not stated",
           1980
          ],
          [
           "N/A",
           [
            "L"
           ],
           "A",
           "Pulse-echo method",
           "not stated",
           1980
          ],
          [
           "N/A",
           [
            "L"
           ],
           "A",
           "Pulse-echo method",
           "not stated",
           1980
          ],
          [
           "N/A",
           [
            "L"
           ],
           "A",
           "Pulse-echo method",
           "not stated",
           1980
          ],
          [
           "N/A",
           [
            "L"
           ],
           "A",
           "Pulse-echo method",
           "not stated",
           1980
          ],
          [
           "N/A",
           [
            "L"
           ],
           "A",
           "Pulse-echo method",
           "not stated",
           1980
          ],
          [
           "N/A",
           [
            "L"
           ],
           "A",
           "Pulse-echo method",
           "not stated",
           1980
          ],
          [
           "N/A",
           [
            "L"
           ],
           "A",
           "Pulse-echo method",
           "not stated",
           1980
          ],
          [
           "N/A",
           [
            "L"
           ],
           "A",
           "Pulse-echo method",
           "not stated",
           1980
          ],
          [
           "N/A",
           [
            "L"
           ],
           "A",
           "Pulse-echo method",
           "not stated",
           1980
          ],
          [
           "N/A",
           [
            "L"
           ],
           "A",
           "Pulse-echo method",
           "not stated",
           1980
          ],
          [
           "N/A",
           [
            "L"
           ],
           "A",
           "Pulse-echo method",
           "not stated",
           1980
          ],
          [
           "N/A",
           [
            "L"
           ],
           "A",
           "Pulse-echo method",
           "not stated",
           1980
          ],
          [
           "N/A",
           [
            "L"
           ],
           "A",
           "Pulse-echo method",
           "not stated",
           1980
          ],
          [
           "N/A",
           [
            "L"
           ],
           "A",
           "Pulse-echo method",
           "not stated",
           1980
          ],
          [
           "N/A",
           [
            "L"
           ],
           "A",
           "Pulse-echo method",
           "not stated",
           1980
          ],
          [
           "N/A",
           [
            "L"
           ],
           "A",
           "Pulse-echo method",
           "not stated",
           1980
          ],
          [
           "N/A",
           [
            "L"
           ],
           "A",
           "Pulse-echo method",
           "not stated",
           1980
          ],
          [
           "N/A",
           [
            "L"
           ],
           "A",
           "Pulse-echo method",
           "not stated",
           1980
          ],
          [
           "N/A",
           [
            "L"
           ],
           "A",
           "Pulse-echo method",
           "not stated",
           1980
          ],
          [
           "N/A",
           [
            "L"
           ],
           "A",
           "Pulse-echo method",
           "not stated",
           1980
          ],
          [
           "N/A",
           [
            "L"
           ],
           "A",
           "Pulse-echo method",
           "not stated",
           1980
          ],
          [
           "N/A",
           [
            "L"
           ],
           "A",
           "Pulse-echo method",
           "not stated",
           1980
          ]
         ],
         "error_y": {
          "array": [
           28.9736,
           28.8508,
           29.164,
           29.197,
           29.3454,
           29.433,
           29.6858,
           29.77,
           29.8354,
           24.4016,
           24.5898,
           24.6964,
           24.8504,
           25.0342,
           25.1628,
           25.4064,
           25.6326,
           21.1118,
           21.3878,
           21.7202,
           21.895,
           22.2096,
           22.3838,
           22.6844,
           22.896,
           17.7138,
           18.0438,
           18.441,
           18.6554,
           18.9374,
           19.2902,
           19.61,
           14.3666,
           14.8206,
           15.2788,
           15.703,
           16.0538,
           16.355,
           16.627,
           12.4092,
           12.992,
           13.5366,
           14.0584,
           14.517,
           14.8914,
           10.4448,
           10.9108,
           11.3034,
           11.6344,
           11.9864,
           12.2718,
           12.5694,
           12.8074,
           10.3134,
           10.7464,
           11.2896,
           11.4172,
           11.8482
          ]
         },
         "hovertemplate": "Data Set ID=20916<br>Temperature: K=%{x}<br>Speed of sound: m/s=%{y}<br>Ref Temp=%{customdata[0]}<br>State=%{customdata[1]}<br>Representation=%{customdata[2]}<br>Method=%{customdata[3]}<br>Description=%{customdata[4]}<br>Year=%{customdata[5]}<extra></extra>",
         "legendgroup": "20916",
         "marker": {
          "color": "#ab63fa",
          "symbol": "circle"
         },
         "mode": "markers",
         "name": "20916",
         "orientation": "v",
         "showlegend": true,
         "type": "scatter",
         "x": [
          298.15,
          298.15,
          298.15,
          298.15,
          298.15,
          298.15,
          298.15,
          298.15,
          298.15,
          773.15,
          773.15,
          773.15,
          773.15,
          773.15,
          773.15,
          773.15,
          773.15,
          1023.15,
          1023.15,
          1023.15,
          1023.15,
          1023.15,
          1023.15,
          1023.15,
          1023.15,
          1273.15,
          1273.15,
          1273.15,
          1273.15,
          1273.15,
          1273.15,
          1273.15,
          1473.15,
          1473.15,
          1473.15,
          1473.15,
          1473.15,
          1473.15,
          1473.15,
          1573.15,
          1573.15,
          1573.15,
          1573.15,
          1573.15,
          1573.15,
          1673.15,
          1673.15,
          1673.15,
          1673.15,
          1673.15,
          1673.15,
          1673.15,
          1673.15,
          1723.15,
          1723.15,
          1723.15,
          1723.15,
          1723.15
         ],
         "xaxis": "x",
         "y": [
          1448.68,
          1442.54,
          1458.2,
          1459.85,
          1467.27,
          1471.65,
          1484.29,
          1488.5,
          1491.77,
          1220.08,
          1229.49,
          1234.82,
          1242.52,
          1251.71,
          1258.14,
          1270.32,
          1281.63,
          1055.59,
          1069.39,
          1086.01,
          1094.75,
          1110.48,
          1119.19,
          1134.22,
          1144.8,
          885.69,
          902.19,
          922.05,
          932.77,
          946.87,
          964.51,
          980.5,
          718.33,
          741.03,
          763.94,
          785.15,
          802.69,
          817.75,
          831.35,
          620.46,
          649.6,
          676.83,
          702.92,
          725.85,
          744.57,
          522.24,
          545.54,
          565.17,
          581.72,
          599.32,
          613.59,
          628.47,
          640.37,
          515.67,
          537.32,
          564.48,
          570.86,
          592.41
         ],
         "yaxis": "y"
        },
        {
         "customdata": [
          [
           "N/A",
           [
            "G"
           ],
           "A",
           "Pulse-echo method",
           "not stated",
           1980
          ],
          [
           "N/A",
           [
            "G"
           ],
           "A",
           "Pulse-echo method",
           "not stated",
           1980
          ],
          [
           "N/A",
           [
            "G"
           ],
           "A",
           "Pulse-echo method",
           "not stated",
           1980
          ],
          [
           "N/A",
           [
            "G"
           ],
           "A",
           "Pulse-echo method",
           "not stated",
           1980
          ],
          [
           "N/A",
           [
            "G"
           ],
           "A",
           "Pulse-echo method",
           "not stated",
           1980
          ],
          [
           "N/A",
           [
            "G"
           ],
           "A",
           "Pulse-echo method",
           "not stated",
           1980
          ],
          [
           "N/A",
           [
            "G"
           ],
           "A",
           "Pulse-echo method",
           "not stated",
           1980
          ],
          [
           "N/A",
           [
            "G"
           ],
           "A",
           "Pulse-echo method",
           "not stated",
           1980
          ],
          [
           "N/A",
           [
            "G"
           ],
           "A",
           "Pulse-echo method",
           "not stated",
           1980
          ],
          [
           "N/A",
           [
            "G"
           ],
           "A",
           "Pulse-echo method",
           "not stated",
           1980
          ],
          [
           "N/A",
           [
            "G"
           ],
           "A",
           "Pulse-echo method",
           "not stated",
           1980
          ],
          [
           "N/A",
           [
            "G"
           ],
           "A",
           "Pulse-echo method",
           "not stated",
           1980
          ],
          [
           "N/A",
           [
            "G"
           ],
           "A",
           "Pulse-echo method",
           "not stated",
           1980
          ]
         ],
         "error_y": {
          "array": [
           5.8172,
           5.7794,
           5.9408,
           5.8654,
           6.065,
           5.7714,
           6.1774,
           6.0988,
           6.0262,
           6.7722,
           6.7342,
           6.6856,
           6.595
          ]
         },
         "hovertemplate": "Data Set ID=20917<br>Temperature: K=%{x}<br>Speed of sound: m/s=%{y}<br>Ref Temp=%{customdata[0]}<br>State=%{customdata[1]}<br>Representation=%{customdata[2]}<br>Method=%{customdata[3]}<br>Description=%{customdata[4]}<br>Year=%{customdata[5]}<extra></extra>",
         "legendgroup": "20917",
         "marker": {
          "color": "#FFA15A",
          "symbol": "circle"
         },
         "mode": "markers",
         "name": "20917",
         "orientation": "v",
         "showlegend": true,
         "type": "scatter",
         "x": [
          1473.15,
          1473.15,
          1573.15,
          1573.15,
          1673.15,
          1673.15,
          1723.15,
          1723.15,
          1723.15,
          1873.15,
          1873.15,
          1873.15,
          1873.15
         ],
         "xaxis": "x",
         "y": [
          290.86,
          288.97,
          297.04,
          293.27,
          303.25,
          288.57,
          308.87,
          304.94,
          301.31,
          338.61,
          336.71,
          334.28,
          329.75
         ],
         "yaxis": "y"
        },
        {
         "customdata": [
          [
           "N/A",
           [
            "L"
           ],
           "A",
           "Pulse-echo method",
           "not stated",
           1995
          ],
          [
           "N/A",
           [
            "L"
           ],
           "A",
           "Pulse-echo method",
           "not stated",
           1995
          ],
          [
           "N/A",
           [
            "L"
           ],
           "A",
           "Pulse-echo method",
           "not stated",
           1995
          ],
          [
           "N/A",
           [
            "L"
           ],
           "A",
           "Pulse-echo method",
           "not stated",
           1995
          ],
          [
           "N/A",
           [
            "L"
           ],
           "A",
           "Pulse-echo method",
           "not stated",
           1995
          ],
          [
           "N/A",
           [
            "L"
           ],
           "A",
           "Pulse-echo method",
           "not stated",
           1995
          ],
          [
           "N/A",
           [
            "L"
           ],
           "A",
           "Pulse-echo method",
           "not stated",
           1995
          ],
          [
           "N/A",
           [
            "L"
           ],
           "A",
           "Pulse-echo method",
           "not stated",
           1995
          ],
          [
           "N/A",
           [
            "L"
           ],
           "A",
           "Pulse-echo method",
           "not stated",
           1995
          ],
          [
           "N/A",
           [
            "L"
           ],
           "A",
           "Pulse-echo method",
           "not stated",
           1995
          ],
          [
           "N/A",
           [
            "L"
           ],
           "A",
           "Pulse-echo method",
           "not stated",
           1995
          ],
          [
           "N/A",
           [
            "L"
           ],
           "A",
           "Pulse-echo method",
           "not stated",
           1995
          ],
          [
           "N/A",
           [
            "L"
           ],
           "A",
           "Pulse-echo method",
           "not stated",
           1995
          ],
          [
           "N/A",
           [
            "L"
           ],
           "A",
           "Pulse-echo method",
           "not stated",
           1995
          ],
          [
           "N/A",
           [
            "L"
           ],
           "A",
           "Pulse-echo method",
           "not stated",
           1995
          ],
          [
           "N/A",
           [
            "L"
           ],
           "A",
           "Pulse-echo method",
           "not stated",
           1995
          ],
          [
           "N/A",
           [
            "L"
           ],
           "A",
           "Pulse-echo method",
           "not stated",
           1995
          ],
          [
           "N/A",
           [
            "L"
           ],
           "A",
           "Pulse-echo method",
           "not stated",
           1995
          ],
          [
           "N/A",
           [
            "L"
           ],
           "A",
           "Pulse-echo method",
           "not stated",
           1995
          ],
          [
           "N/A",
           [
            "L"
           ],
           "A",
           "Pulse-echo method",
           "not stated",
           1995
          ],
          [
           "N/A",
           [
            "L"
           ],
           "A",
           "Pulse-echo method",
           "not stated",
           1995
          ],
          [
           "N/A",
           [
            "L"
           ],
           "A",
           "Pulse-echo method",
           "not stated",
           1995
          ],
          [
           "N/A",
           [
            "L"
           ],
           "A",
           "Pulse-echo method",
           "not stated",
           1995
          ],
          [
           "N/A",
           [
            "L"
           ],
           "A",
           "Pulse-echo method",
           "not stated",
           1995
          ],
          [
           "N/A",
           [
            "L"
           ],
           "A",
           "Pulse-echo method",
           "not stated",
           1995
          ],
          [
           "N/A",
           [
            "L"
           ],
           "A",
           "Pulse-echo method",
           "not stated",
           1995
          ],
          [
           "N/A",
           [
            "L"
           ],
           "A",
           "Pulse-echo method",
           "not stated",
           1995
          ],
          [
           "N/A",
           [
            "L"
           ],
           "A",
           "Pulse-echo method",
           "not stated",
           1995
          ],
          [
           "N/A",
           [
            "L"
           ],
           "A",
           "Pulse-echo method",
           "not stated",
           1995
          ],
          [
           "N/A",
           [
            "L"
           ],
           "A",
           "Pulse-echo method",
           "not stated",
           1995
          ],
          [
           "N/A",
           [
            "L"
           ],
           "A",
           "Pulse-echo method",
           "not stated",
           1995
          ],
          [
           "N/A",
           [
            "L"
           ],
           "A",
           "Pulse-echo method",
           "not stated",
           1995
          ],
          [
           "N/A",
           [
            "L"
           ],
           "A",
           "Pulse-echo method",
           "not stated",
           1995
          ],
          [
           "N/A",
           [
            "L"
           ],
           "A",
           "Pulse-echo method",
           "not stated",
           1995
          ],
          [
           "N/A",
           [
            "L"
           ],
           "A",
           "Pulse-echo method",
           "not stated",
           1995
          ],
          [
           "N/A",
           [
            "L"
           ],
           "A",
           "Pulse-echo method",
           "not stated",
           1995
          ],
          [
           "N/A",
           [
            "L"
           ],
           "A",
           "Pulse-echo method",
           "not stated",
           1995
          ],
          [
           "N/A",
           [
            "L"
           ],
           "A",
           "Pulse-echo method",
           "not stated",
           1995
          ],
          [
           "N/A",
           [
            "L"
           ],
           "A",
           "Pulse-echo method",
           "not stated",
           1995
          ],
          [
           "N/A",
           [
            "L"
           ],
           "A",
           "Pulse-echo method",
           "not stated",
           1995
          ],
          [
           "N/A",
           [
            "L"
           ],
           "A",
           "Pulse-echo method",
           "not stated",
           1995
          ],
          [
           "N/A",
           [
            "L"
           ],
           "A",
           "Pulse-echo method",
           "not stated",
           1995
          ],
          [
           "N/A",
           [
            "L"
           ],
           "A",
           "Pulse-echo method",
           "not stated",
           1995
          ],
          [
           "N/A",
           [
            "L"
           ],
           "A",
           "Pulse-echo method",
           "not stated",
           1995
          ],
          [
           "N/A",
           [
            "L"
           ],
           "A",
           "Pulse-echo method",
           "not stated",
           1995
          ],
          [
           "N/A",
           [
            "L"
           ],
           "A",
           "Pulse-echo method",
           "not stated",
           1995
          ],
          [
           "N/A",
           [
            "L"
           ],
           "A",
           "Pulse-echo method",
           "not stated",
           1995
          ],
          [
           "N/A",
           [
            "L"
           ],
           "A",
           "Pulse-echo method",
           "not stated",
           1995
          ],
          [
           "N/A",
           [
            "L"
           ],
           "A",
           "Pulse-echo method",
           "not stated",
           1995
          ],
          [
           "N/A",
           [
            "L"
           ],
           "A",
           "Pulse-echo method",
           "not stated",
           1995
          ],
          [
           "N/A",
           [
            "L"
           ],
           "A",
           "Pulse-echo method",
           "not stated",
           1995
          ],
          [
           "N/A",
           [
            "L"
           ],
           "A",
           "Pulse-echo method",
           "not stated",
           1995
          ],
          [
           "N/A",
           [
            "L"
           ],
           "A",
           "Pulse-echo method",
           "not stated",
           1995
          ],
          [
           "N/A",
           [
            "L"
           ],
           "A",
           "Pulse-echo method",
           "not stated",
           1995
          ],
          [
           "N/A",
           [
            "L"
           ],
           "A",
           "Pulse-echo method",
           "not stated",
           1995
          ],
          [
           "N/A",
           [
            "L"
           ],
           "A",
           "Pulse-echo method",
           "not stated",
           1995
          ],
          [
           "N/A",
           [
            "L"
           ],
           "A",
           "Pulse-echo method",
           "not stated",
           1995
          ],
          [
           "N/A",
           [
            "L"
           ],
           "A",
           "Pulse-echo method",
           "not stated",
           1995
          ],
          [
           "N/A",
           [
            "L"
           ],
           "A",
           "Pulse-echo method",
           "not stated",
           1995
          ],
          [
           "N/A",
           [
            "L"
           ],
           "A",
           "Pulse-echo method",
           "not stated",
           1995
          ],
          [
           "N/A",
           [
            "L"
           ],
           "A",
           "Pulse-echo method",
           "not stated",
           1995
          ],
          [
           "N/A",
           [
            "L"
           ],
           "A",
           "Pulse-echo method",
           "not stated",
           1995
          ],
          [
           "N/A",
           [
            "L"
           ],
           "A",
           "Pulse-echo method",
           "not stated",
           1995
          ],
          [
           "N/A",
           [
            "L"
           ],
           "A",
           "Pulse-echo method",
           "not stated",
           1995
          ],
          [
           "N/A",
           [
            "L"
           ],
           "A",
           "Pulse-echo method",
           "not stated",
           1995
          ],
          [
           "N/A",
           [
            "L"
           ],
           "A",
           "Pulse-echo method",
           "not stated",
           1995
          ],
          [
           "N/A",
           [
            "L"
           ],
           "A",
           "Pulse-echo method",
           "not stated",
           1995
          ],
          [
           "N/A",
           [
            "L"
           ],
           "A",
           "Pulse-echo method",
           "not stated",
           1995
          ],
          [
           "N/A",
           [
            "L"
           ],
           "A",
           "Pulse-echo method",
           "not stated",
           1995
          ],
          [
           "N/A",
           [
            "L"
           ],
           "A",
           "Pulse-echo method",
           "not stated",
           1995
          ],
          [
           "N/A",
           [
            "L"
           ],
           "A",
           "Pulse-echo method",
           "not stated",
           1995
          ],
          [
           "N/A",
           [
            "L"
           ],
           "A",
           "Pulse-echo method",
           "not stated",
           1995
          ],
          [
           "N/A",
           [
            "L"
           ],
           "A",
           "Pulse-echo method",
           "not stated",
           1995
          ],
          [
           "N/A",
           [
            "L"
           ],
           "A",
           "Pulse-echo method",
           "not stated",
           1995
          ],
          [
           "N/A",
           [
            "L"
           ],
           "A",
           "Pulse-echo method",
           "not stated",
           1995
          ],
          [
           "N/A",
           [
            "L"
           ],
           "A",
           "Pulse-echo method",
           "not stated",
           1995
          ],
          [
           "N/A",
           [
            "L"
           ],
           "A",
           "Pulse-echo method",
           "not stated",
           1995
          ],
          [
           "N/A",
           [
            "L"
           ],
           "A",
           "Pulse-echo method",
           "not stated",
           1995
          ],
          [
           "N/A",
           [
            "L"
           ],
           "A",
           "Pulse-echo method",
           "not stated",
           1995
          ],
          [
           "N/A",
           [
            "L"
           ],
           "A",
           "Pulse-echo method",
           "not stated",
           1995
          ],
          [
           "N/A",
           [
            "L"
           ],
           "A",
           "Pulse-echo method",
           "not stated",
           1995
          ],
          [
           "N/A",
           [
            "L"
           ],
           "A",
           "Pulse-echo method",
           "not stated",
           1995
          ],
          [
           "N/A",
           [
            "L"
           ],
           "A",
           "Pulse-echo method",
           "not stated",
           1995
          ],
          [
           "N/A",
           [
            "L"
           ],
           "A",
           "Pulse-echo method",
           "not stated",
           1995
          ],
          [
           "N/A",
           [
            "L"
           ],
           "A",
           "Pulse-echo method",
           "not stated",
           1995
          ],
          [
           "N/A",
           [
            "L"
           ],
           "A",
           "Pulse-echo method",
           "not stated",
           1995
          ],
          [
           "N/A",
           [
            "L"
           ],
           "A",
           "Pulse-echo method",
           "not stated",
           1995
          ],
          [
           "N/A",
           [
            "L"
           ],
           "A",
           "Pulse-echo method",
           "not stated",
           1995
          ],
          [
           "N/A",
           [
            "L"
           ],
           "A",
           "Pulse-echo method",
           "not stated",
           1995
          ],
          [
           "N/A",
           [
            "L"
           ],
           "A",
           "Pulse-echo method",
           "not stated",
           1995
          ],
          [
           "N/A",
           [
            "L"
           ],
           "A",
           "Pulse-echo method",
           "not stated",
           1995
          ],
          [
           "N/A",
           [
            "L"
           ],
           "A",
           "Pulse-echo method",
           "not stated",
           1995
          ],
          [
           "N/A",
           [
            "L"
           ],
           "A",
           "Pulse-echo method",
           "not stated",
           1995
          ],
          [
           "N/A",
           [
            "L"
           ],
           "A",
           "Pulse-echo method",
           "not stated",
           1995
          ],
          [
           "N/A",
           [
            "L"
           ],
           "A",
           "Pulse-echo method",
           "not stated",
           1995
          ],
          [
           "N/A",
           [
            "L"
           ],
           "A",
           "Pulse-echo method",
           "not stated",
           1995
          ],
          [
           "N/A",
           [
            "L"
           ],
           "A",
           "Pulse-echo method",
           "not stated",
           1995
          ],
          [
           "N/A",
           [
            "L"
           ],
           "A",
           "Pulse-echo method",
           "not stated",
           1995
          ],
          [
           "N/A",
           [
            "L"
           ],
           "A",
           "Pulse-echo method",
           "not stated",
           1995
          ],
          [
           "N/A",
           [
            "L"
           ],
           "A",
           "Pulse-echo method",
           "not stated",
           1995
          ],
          [
           "N/A",
           [
            "L"
           ],
           "A",
           "Pulse-echo method",
           "not stated",
           1995
          ],
          [
           "N/A",
           [
            "L"
           ],
           "A",
           "Pulse-echo method",
           "not stated",
           1995
          ],
          [
           "N/A",
           [
            "L"
           ],
           "A",
           "Pulse-echo method",
           "not stated",
           1995
          ],
          [
           "N/A",
           [
            "L"
           ],
           "A",
           "Pulse-echo method",
           "not stated",
           1995
          ],
          [
           "N/A",
           [
            "L"
           ],
           "A",
           "Pulse-echo method",
           "not stated",
           1995
          ],
          [
           "N/A",
           [
            "L"
           ],
           "A",
           "Pulse-echo method",
           "not stated",
           1995
          ],
          [
           "N/A",
           [
            "L"
           ],
           "A",
           "Pulse-echo method",
           "not stated",
           1995
          ],
          [
           "N/A",
           [
            "L"
           ],
           "A",
           "Pulse-echo method",
           "not stated",
           1995
          ],
          [
           "N/A",
           [
            "L"
           ],
           "A",
           "Pulse-echo method",
           "not stated",
           1995
          ],
          [
           "N/A",
           [
            "L"
           ],
           "A",
           "Pulse-echo method",
           "not stated",
           1995
          ],
          [
           "N/A",
           [
            "L"
           ],
           "A",
           "Pulse-echo method",
           "not stated",
           1995
          ],
          [
           "N/A",
           [
            "L"
           ],
           "A",
           "Pulse-echo method",
           "not stated",
           1995
          ],
          [
           "N/A",
           [
            "L"
           ],
           "A",
           "Pulse-echo method",
           "not stated",
           1995
          ],
          [
           "N/A",
           [
            "L"
           ],
           "A",
           "Pulse-echo method",
           "not stated",
           1995
          ],
          [
           "N/A",
           [
            "L"
           ],
           "A",
           "Pulse-echo method",
           "not stated",
           1995
          ],
          [
           "N/A",
           [
            "L"
           ],
           "A",
           "Pulse-echo method",
           "not stated",
           1995
          ],
          [
           "N/A",
           [
            "L"
           ],
           "A",
           "Pulse-echo method",
           "not stated",
           1995
          ],
          [
           "N/A",
           [
            "L"
           ],
           "A",
           "Pulse-echo method",
           "not stated",
           1995
          ],
          [
           "N/A",
           [
            "L"
           ],
           "A",
           "Pulse-echo method",
           "not stated",
           1995
          ],
          [
           "N/A",
           [
            "L"
           ],
           "A",
           "Pulse-echo method",
           "not stated",
           1995
          ],
          [
           "N/A",
           [
            "L"
           ],
           "A",
           "Pulse-echo method",
           "not stated",
           1995
          ],
          [
           "N/A",
           [
            "L"
           ],
           "A",
           "Pulse-echo method",
           "not stated",
           1995
          ],
          [
           "N/A",
           [
            "L"
           ],
           "A",
           "Pulse-echo method",
           "not stated",
           1995
          ],
          [
           "N/A",
           [
            "L"
           ],
           "A",
           "Pulse-echo method",
           "not stated",
           1995
          ],
          [
           "N/A",
           [
            "L"
           ],
           "A",
           "Pulse-echo method",
           "not stated",
           1995
          ],
          [
           "N/A",
           [
            "L"
           ],
           "A",
           "Pulse-echo method",
           "not stated",
           1995
          ],
          [
           "N/A",
           [
            "L"
           ],
           "A",
           "Pulse-echo method",
           "not stated",
           1995
          ],
          [
           "N/A",
           [
            "L"
           ],
           "A",
           "Pulse-echo method",
           "not stated",
           1995
          ],
          [
           "N/A",
           [
            "L"
           ],
           "A",
           "Pulse-echo method",
           "not stated",
           1995
          ],
          [
           "N/A",
           [
            "L"
           ],
           "A",
           "Pulse-echo method",
           "not stated",
           1995
          ],
          [
           "N/A",
           [
            "L"
           ],
           "A",
           "Pulse-echo method",
           "not stated",
           1995
          ],
          [
           "N/A",
           [
            "L"
           ],
           "A",
           "Pulse-echo method",
           "not stated",
           1995
          ],
          [
           "N/A",
           [
            "L"
           ],
           "A",
           "Pulse-echo method",
           "not stated",
           1995
          ],
          [
           "N/A",
           [
            "L"
           ],
           "A",
           "Pulse-echo method",
           "not stated",
           1995
          ],
          [
           "N/A",
           [
            "L"
           ],
           "A",
           "Pulse-echo method",
           "not stated",
           1995
          ],
          [
           "N/A",
           [
            "L"
           ],
           "A",
           "Pulse-echo method",
           "not stated",
           1995
          ],
          [
           "N/A",
           [
            "L"
           ],
           "A",
           "Pulse-echo method",
           "not stated",
           1995
          ],
          [
           "N/A",
           [
            "L"
           ],
           "A",
           "Pulse-echo method",
           "not stated",
           1995
          ],
          [
           "N/A",
           [
            "L"
           ],
           "A",
           "Pulse-echo method",
           "not stated",
           1995
          ],
          [
           "N/A",
           [
            "L"
           ],
           "A",
           "Pulse-echo method",
           "not stated",
           1995
          ],
          [
           "N/A",
           [
            "L"
           ],
           "A",
           "Pulse-echo method",
           "not stated",
           1995
          ],
          [
           "N/A",
           [
            "L"
           ],
           "A",
           "Pulse-echo method",
           "not stated",
           1995
          ],
          [
           "N/A",
           [
            "L"
           ],
           "A",
           "Pulse-echo method",
           "not stated",
           1995
          ],
          [
           "N/A",
           [
            "L"
           ],
           "A",
           "Pulse-echo method",
           "not stated",
           1995
          ],
          [
           "N/A",
           [
            "L"
           ],
           "A",
           "Pulse-echo method",
           "not stated",
           1995
          ],
          [
           "N/A",
           [
            "L"
           ],
           "A",
           "Pulse-echo method",
           "not stated",
           1995
          ],
          [
           "N/A",
           [
            "L"
           ],
           "A",
           "Pulse-echo method",
           "not stated",
           1995
          ],
          [
           "N/A",
           [
            "L"
           ],
           "A",
           "Pulse-echo method",
           "not stated",
           1995
          ],
          [
           "N/A",
           [
            "L"
           ],
           "A",
           "Pulse-echo method",
           "not stated",
           1995
          ],
          [
           "N/A",
           [
            "L"
           ],
           "A",
           "Pulse-echo method",
           "not stated",
           1995
          ],
          [
           "N/A",
           [
            "L"
           ],
           "A",
           "Pulse-echo method",
           "not stated",
           1995
          ],
          [
           "N/A",
           [
            "L"
           ],
           "A",
           "Pulse-echo method",
           "not stated",
           1995
          ],
          [
           "N/A",
           [
            "L"
           ],
           "A",
           "Pulse-echo method",
           "not stated",
           1995
          ],
          [
           "N/A",
           [
            "L"
           ],
           "A",
           "Pulse-echo method",
           "not stated",
           1995
          ],
          [
           "N/A",
           [
            "L"
           ],
           "A",
           "Pulse-echo method",
           "not stated",
           1995
          ],
          [
           "N/A",
           [
            "L"
           ],
           "A",
           "Pulse-echo method",
           "not stated",
           1995
          ],
          [
           "N/A",
           [
            "L"
           ],
           "A",
           "Pulse-echo method",
           "not stated",
           1995
          ],
          [
           "N/A",
           [
            "L"
           ],
           "A",
           "Pulse-echo method",
           "not stated",
           1995
          ],
          [
           "N/A",
           [
            "L"
           ],
           "A",
           "Pulse-echo method",
           "not stated",
           1995
          ],
          [
           "N/A",
           [
            "L"
           ],
           "A",
           "Pulse-echo method",
           "not stated",
           1995
          ],
          [
           "N/A",
           [
            "L"
           ],
           "A",
           "Pulse-echo method",
           "not stated",
           1995
          ],
          [
           "N/A",
           [
            "L"
           ],
           "A",
           "Pulse-echo method",
           "not stated",
           1995
          ],
          [
           "N/A",
           [
            "L"
           ],
           "A",
           "Pulse-echo method",
           "not stated",
           1995
          ],
          [
           "N/A",
           [
            "L"
           ],
           "A",
           "Pulse-echo method",
           "not stated",
           1995
          ],
          [
           "N/A",
           [
            "L"
           ],
           "A",
           "Pulse-echo method",
           "not stated",
           1995
          ],
          [
           "N/A",
           [
            "L"
           ],
           "A",
           "Pulse-echo method",
           "not stated",
           1995
          ],
          [
           "N/A",
           [
            "L"
           ],
           "A",
           "Pulse-echo method",
           "not stated",
           1995
          ],
          [
           "N/A",
           [
            "L"
           ],
           "A",
           "Pulse-echo method",
           "not stated",
           1995
          ],
          [
           "N/A",
           [
            "L"
           ],
           "A",
           "Pulse-echo method",
           "not stated",
           1995
          ],
          [
           "N/A",
           [
            "L"
           ],
           "A",
           "Pulse-echo method",
           "not stated",
           1995
          ],
          [
           "N/A",
           [
            "L"
           ],
           "A",
           "Pulse-echo method",
           "not stated",
           1995
          ],
          [
           "N/A",
           [
            "L"
           ],
           "A",
           "Pulse-echo method",
           "not stated",
           1995
          ],
          [
           "N/A",
           [
            "L"
           ],
           "A",
           "Pulse-echo method",
           "not stated",
           1995
          ],
          [
           "N/A",
           [
            "L"
           ],
           "A",
           "Pulse-echo method",
           "not stated",
           1995
          ],
          [
           "N/A",
           [
            "L"
           ],
           "A",
           "Pulse-echo method",
           "not stated",
           1995
          ],
          [
           "N/A",
           [
            "L"
           ],
           "A",
           "Pulse-echo method",
           "not stated",
           1995
          ],
          [
           "N/A",
           [
            "L"
           ],
           "A",
           "Pulse-echo method",
           "not stated",
           1995
          ],
          [
           "N/A",
           [
            "L"
           ],
           "A",
           "Pulse-echo method",
           "not stated",
           1995
          ],
          [
           "N/A",
           [
            "L"
           ],
           "A",
           "Pulse-echo method",
           "not stated",
           1995
          ],
          [
           "N/A",
           [
            "L"
           ],
           "A",
           "Pulse-echo method",
           "not stated",
           1995
          ],
          [
           "N/A",
           [
            "L"
           ],
           "A",
           "Pulse-echo method",
           "not stated",
           1995
          ],
          [
           "N/A",
           [
            "L"
           ],
           "A",
           "Pulse-echo method",
           "not stated",
           1995
          ],
          [
           "N/A",
           [
            "L"
           ],
           "A",
           "Pulse-echo method",
           "not stated",
           1995
          ],
          [
           "N/A",
           [
            "L"
           ],
           "A",
           "Pulse-echo method",
           "not stated",
           1995
          ],
          [
           "N/A",
           [
            "L"
           ],
           "A",
           "Pulse-echo method",
           "not stated",
           1995
          ],
          [
           "N/A",
           [
            "L"
           ],
           "A",
           "Pulse-echo method",
           "not stated",
           1995
          ],
          [
           "N/A",
           [
            "L"
           ],
           "A",
           "Pulse-echo method",
           "not stated",
           1995
          ],
          [
           "N/A",
           [
            "L"
           ],
           "A",
           "Pulse-echo method",
           "not stated",
           1995
          ],
          [
           "N/A",
           [
            "L"
           ],
           "A",
           "Pulse-echo method",
           "not stated",
           1995
          ],
          [
           "N/A",
           [
            "L"
           ],
           "A",
           "Pulse-echo method",
           "not stated",
           1995
          ],
          [
           "N/A",
           [
            "L"
           ],
           "A",
           "Pulse-echo method",
           "not stated",
           1995
          ],
          [
           "N/A",
           [
            "L"
           ],
           "A",
           "Pulse-echo method",
           "not stated",
           1995
          ],
          [
           "N/A",
           [
            "L"
           ],
           "A",
           "Pulse-echo method",
           "not stated",
           1995
          ],
          [
           "N/A",
           [
            "L"
           ],
           "A",
           "Pulse-echo method",
           "not stated",
           1995
          ],
          [
           "N/A",
           [
            "L"
           ],
           "A",
           "Pulse-echo method",
           "not stated",
           1995
          ],
          [
           "N/A",
           [
            "L"
           ],
           "A",
           "Pulse-echo method",
           "not stated",
           1995
          ],
          [
           "N/A",
           [
            "L"
           ],
           "A",
           "Pulse-echo method",
           "not stated",
           1995
          ],
          [
           "N/A",
           [
            "L"
           ],
           "A",
           "Pulse-echo method",
           "not stated",
           1995
          ],
          [
           "N/A",
           [
            "L"
           ],
           "A",
           "Pulse-echo method",
           "not stated",
           1995
          ],
          [
           "N/A",
           [
            "L"
           ],
           "A",
           "Pulse-echo method",
           "not stated",
           1995
          ],
          [
           "N/A",
           [
            "L"
           ],
           "A",
           "Pulse-echo method",
           "not stated",
           1995
          ],
          [
           "N/A",
           [
            "L"
           ],
           "A",
           "Pulse-echo method",
           "not stated",
           1995
          ],
          [
           "N/A",
           [
            "L"
           ],
           "A",
           "Pulse-echo method",
           "not stated",
           1995
          ],
          [
           "N/A",
           [
            "L"
           ],
           "A",
           "Pulse-echo method",
           "not stated",
           1995
          ],
          [
           "N/A",
           [
            "L"
           ],
           "A",
           "Pulse-echo method",
           "not stated",
           1995
          ],
          [
           "N/A",
           [
            "L"
           ],
           "A",
           "Pulse-echo method",
           "not stated",
           1995
          ],
          [
           "N/A",
           [
            "L"
           ],
           "A",
           "Pulse-echo method",
           "not stated",
           1995
          ],
          [
           "N/A",
           [
            "L"
           ],
           "A",
           "Pulse-echo method",
           "not stated",
           1995
          ],
          [
           "N/A",
           [
            "L"
           ],
           "A",
           "Pulse-echo method",
           "not stated",
           1995
          ],
          [
           "N/A",
           [
            "L"
           ],
           "A",
           "Pulse-echo method",
           "not stated",
           1995
          ],
          [
           "N/A",
           [
            "L"
           ],
           "A",
           "Pulse-echo method",
           "not stated",
           1995
          ],
          [
           "N/A",
           [
            "L"
           ],
           "A",
           "Pulse-echo method",
           "not stated",
           1995
          ],
          [
           "N/A",
           [
            "L"
           ],
           "A",
           "Pulse-echo method",
           "not stated",
           1995
          ],
          [
           "N/A",
           [
            "L"
           ],
           "A",
           "Pulse-echo method",
           "not stated",
           1995
          ],
          [
           "N/A",
           [
            "L"
           ],
           "A",
           "Pulse-echo method",
           "not stated",
           1995
          ],
          [
           "N/A",
           [
            "L"
           ],
           "A",
           "Pulse-echo method",
           "not stated",
           1995
          ],
          [
           "N/A",
           [
            "L"
           ],
           "A",
           "Pulse-echo method",
           "not stated",
           1995
          ],
          [
           "N/A",
           [
            "L"
           ],
           "A",
           "Pulse-echo method",
           "not stated",
           1995
          ],
          [
           "N/A",
           [
            "L"
           ],
           "A",
           "Pulse-echo method",
           "not stated",
           1995
          ],
          [
           "N/A",
           [
            "L"
           ],
           "A",
           "Pulse-echo method",
           "not stated",
           1995
          ],
          [
           "N/A",
           [
            "L"
           ],
           "A",
           "Pulse-echo method",
           "not stated",
           1995
          ],
          [
           "N/A",
           [
            "L"
           ],
           "A",
           "Pulse-echo method",
           "not stated",
           1995
          ],
          [
           "N/A",
           [
            "L"
           ],
           "A",
           "Pulse-echo method",
           "not stated",
           1995
          ],
          [
           "N/A",
           [
            "L"
           ],
           "A",
           "Pulse-echo method",
           "not stated",
           1995
          ],
          [
           "N/A",
           [
            "L"
           ],
           "A",
           "Pulse-echo method",
           "not stated",
           1995
          ],
          [
           "N/A",
           [
            "L"
           ],
           "A",
           "Pulse-echo method",
           "not stated",
           1995
          ],
          [
           "N/A",
           [
            "L"
           ],
           "A",
           "Pulse-echo method",
           "not stated",
           1995
          ],
          [
           "N/A",
           [
            "L"
           ],
           "A",
           "Pulse-echo method",
           "not stated",
           1995
          ],
          [
           "N/A",
           [
            "L"
           ],
           "A",
           "Pulse-echo method",
           "not stated",
           1995
          ],
          [
           "N/A",
           [
            "L"
           ],
           "A",
           "Pulse-echo method",
           "not stated",
           1995
          ],
          [
           "N/A",
           [
            "L"
           ],
           "A",
           "Pulse-echo method",
           "not stated",
           1995
          ],
          [
           "N/A",
           [
            "L"
           ],
           "A",
           "Pulse-echo method",
           "not stated",
           1995
          ],
          [
           "N/A",
           [
            "L"
           ],
           "A",
           "Pulse-echo method",
           "not stated",
           1995
          ],
          [
           "N/A",
           [
            "L"
           ],
           "A",
           "Pulse-echo method",
           "not stated",
           1995
          ],
          [
           "N/A",
           [
            "L"
           ],
           "A",
           "Pulse-echo method",
           "not stated",
           1995
          ],
          [
           "N/A",
           [
            "L"
           ],
           "A",
           "Pulse-echo method",
           "not stated",
           1995
          ],
          [
           "N/A",
           [
            "L"
           ],
           "A",
           "Pulse-echo method",
           "not stated",
           1995
          ],
          [
           "N/A",
           [
            "L"
           ],
           "A",
           "Pulse-echo method",
           "not stated",
           1995
          ],
          [
           "N/A",
           [
            "L"
           ],
           "A",
           "Pulse-echo method",
           "not stated",
           1995
          ],
          [
           "N/A",
           [
            "L"
           ],
           "A",
           "Pulse-echo method",
           "not stated",
           1995
          ],
          [
           "N/A",
           [
            "L"
           ],
           "A",
           "Pulse-echo method",
           "not stated",
           1995
          ],
          [
           "N/A",
           [
            "L"
           ],
           "A",
           "Pulse-echo method",
           "not stated",
           1995
          ],
          [
           "N/A",
           [
            "L"
           ],
           "A",
           "Pulse-echo method",
           "not stated",
           1995
          ],
          [
           "N/A",
           [
            "L"
           ],
           "A",
           "Pulse-echo method",
           "not stated",
           1995
          ],
          [
           "N/A",
           [
            "L"
           ],
           "A",
           "Pulse-echo method",
           "not stated",
           1995
          ],
          [
           "N/A",
           [
            "L"
           ],
           "A",
           "Pulse-echo method",
           "not stated",
           1995
          ],
          [
           "N/A",
           [
            "L"
           ],
           "A",
           "Pulse-echo method",
           "not stated",
           1995
          ],
          [
           "N/A",
           [
            "L"
           ],
           "A",
           "Pulse-echo method",
           "not stated",
           1995
          ],
          [
           "N/A",
           [
            "L"
           ],
           "A",
           "Pulse-echo method",
           "not stated",
           1995
          ],
          [
           "N/A",
           [
            "L"
           ],
           "A",
           "Pulse-echo method",
           "not stated",
           1995
          ],
          [
           "N/A",
           [
            "L"
           ],
           "A",
           "Pulse-echo method",
           "not stated",
           1995
          ],
          [
           "N/A",
           [
            "L"
           ],
           "A",
           "Pulse-echo method",
           "not stated",
           1995
          ],
          [
           "N/A",
           [
            "L"
           ],
           "A",
           "Pulse-echo method",
           "not stated",
           1995
          ],
          [
           "N/A",
           [
            "L"
           ],
           "A",
           "Pulse-echo method",
           "not stated",
           1995
          ],
          [
           "N/A",
           [
            "L"
           ],
           "A",
           "Pulse-echo method",
           "not stated",
           1995
          ],
          [
           "N/A",
           [
            "L"
           ],
           "A",
           "Pulse-echo method",
           "not stated",
           1995
          ],
          [
           "N/A",
           [
            "L"
           ],
           "A",
           "Pulse-echo method",
           "not stated",
           1995
          ],
          [
           "N/A",
           [
            "L"
           ],
           "A",
           "Pulse-echo method",
           "not stated",
           1995
          ],
          [
           "N/A",
           [
            "L"
           ],
           "A",
           "Pulse-echo method",
           "not stated",
           1995
          ],
          [
           "N/A",
           [
            "L"
           ],
           "A",
           "Pulse-echo method",
           "not stated",
           1995
          ],
          [
           "N/A",
           [
            "L"
           ],
           "A",
           "Pulse-echo method",
           "not stated",
           1995
          ],
          [
           "N/A",
           [
            "L"
           ],
           "A",
           "Pulse-echo method",
           "not stated",
           1995
          ],
          [
           "N/A",
           [
            "L"
           ],
           "A",
           "Pulse-echo method",
           "not stated",
           1995
          ],
          [
           "N/A",
           [
            "L"
           ],
           "A",
           "Pulse-echo method",
           "not stated",
           1995
          ],
          [
           "N/A",
           [
            "L"
           ],
           "A",
           "Pulse-echo method",
           "not stated",
           1995
          ],
          [
           "N/A",
           [
            "L"
           ],
           "A",
           "Pulse-echo method",
           "not stated",
           1995
          ],
          [
           "N/A",
           [
            "L"
           ],
           "A",
           "Pulse-echo method",
           "not stated",
           1995
          ],
          [
           "N/A",
           [
            "L"
           ],
           "A",
           "Pulse-echo method",
           "not stated",
           1995
          ],
          [
           "N/A",
           [
            "L"
           ],
           "A",
           "Pulse-echo method",
           "not stated",
           1995
          ],
          [
           "N/A",
           [
            "L"
           ],
           "A",
           "Pulse-echo method",
           "not stated",
           1995
          ],
          [
           "N/A",
           [
            "L"
           ],
           "A",
           "Pulse-echo method",
           "not stated",
           1995
          ],
          [
           "N/A",
           [
            "L"
           ],
           "A",
           "Pulse-echo method",
           "not stated",
           1995
          ],
          [
           "N/A",
           [
            "L"
           ],
           "A",
           "Pulse-echo method",
           "not stated",
           1995
          ],
          [
           "N/A",
           [
            "L"
           ],
           "A",
           "Pulse-echo method",
           "not stated",
           1995
          ],
          [
           "N/A",
           [
            "L"
           ],
           "A",
           "Pulse-echo method",
           "not stated",
           1995
          ],
          [
           "N/A",
           [
            "L"
           ],
           "A",
           "Pulse-echo method",
           "not stated",
           1995
          ],
          [
           "N/A",
           [
            "L"
           ],
           "A",
           "Pulse-echo method",
           "not stated",
           1995
          ],
          [
           "N/A",
           [
            "L"
           ],
           "A",
           "Pulse-echo method",
           "not stated",
           1995
          ],
          [
           "N/A",
           [
            "L"
           ],
           "A",
           "Pulse-echo method",
           "not stated",
           1995
          ],
          [
           "N/A",
           [
            "L"
           ],
           "A",
           "Pulse-echo method",
           "not stated",
           1995
          ],
          [
           "N/A",
           [
            "L"
           ],
           "A",
           "Pulse-echo method",
           "not stated",
           1995
          ],
          [
           "N/A",
           [
            "L"
           ],
           "A",
           "Pulse-echo method",
           "not stated",
           1995
          ],
          [
           "N/A",
           [
            "L"
           ],
           "A",
           "Pulse-echo method",
           "not stated",
           1995
          ],
          [
           "N/A",
           [
            "L"
           ],
           "A",
           "Pulse-echo method",
           "not stated",
           1995
          ],
          [
           "N/A",
           [
            "L"
           ],
           "A",
           "Pulse-echo method",
           "not stated",
           1995
          ],
          [
           "N/A",
           [
            "L"
           ],
           "A",
           "Pulse-echo method",
           "not stated",
           1995
          ],
          [
           "N/A",
           [
            "L"
           ],
           "A",
           "Pulse-echo method",
           "not stated",
           1995
          ],
          [
           "N/A",
           [
            "L"
           ],
           "A",
           "Pulse-echo method",
           "not stated",
           1995
          ],
          [
           "N/A",
           [
            "L"
           ],
           "A",
           "Pulse-echo method",
           "not stated",
           1995
          ],
          [
           "N/A",
           [
            "L"
           ],
           "A",
           "Pulse-echo method",
           "not stated",
           1995
          ],
          [
           "N/A",
           [
            "L"
           ],
           "A",
           "Pulse-echo method",
           "not stated",
           1995
          ],
          [
           "N/A",
           [
            "L"
           ],
           "A",
           "Pulse-echo method",
           "not stated",
           1995
          ],
          [
           "N/A",
           [
            "L"
           ],
           "A",
           "Pulse-echo method",
           "not stated",
           1995
          ],
          [
           "N/A",
           [
            "L"
           ],
           "A",
           "Pulse-echo method",
           "not stated",
           1995
          ],
          [
           "N/A",
           [
            "L"
           ],
           "A",
           "Pulse-echo method",
           "not stated",
           1995
          ],
          [
           "N/A",
           [
            "L"
           ],
           "A",
           "Pulse-echo method",
           "not stated",
           1995
          ],
          [
           "N/A",
           [
            "L"
           ],
           "A",
           "Pulse-echo method",
           "not stated",
           1995
          ],
          [
           "N/A",
           [
            "L"
           ],
           "A",
           "Pulse-echo method",
           "not stated",
           1995
          ]
         ],
         "error_y": {
          "array": [
           7.149,
           6.9165,
           6.6935,
           6.463,
           6.225,
           5.9775,
           5.807,
           5.7365,
           5.727,
           5.702,
           7.211,
           6.9955,
           6.7855,
           6.569,
           6.348,
           6.123,
           5.873,
           5.6885,
           5.503,
           5.294,
           5.067,
           4.87945,
           4.69995,
           4.565,
           4.4322,
           4.2769,
           4.145,
           4.04465,
           3.9416,
           3.8704,
           3.79645,
           3.72085,
           6.961,
           6.827,
           6.689,
           6.6155,
           6.432,
           6.389,
           6.1695,
           5.921,
           5.897,
           5.7465,
           5.6305,
           5.566,
           5.381,
           5.163,
           5.0535,
           4.9911,
           4.856,
           4.82695,
           4.69945,
           4.6631,
           4.5741,
           4.4993,
           4.4366,
           4.33965,
           4.29185,
           4.18655,
           4.1322,
           4.056,
           4.0044,
           3.92645,
           3.86035,
           3.80355,
           3.74745,
           3.6934,
           3.67055,
           3.5871,
           3.50155,
           3.48425,
           3.40945,
           3.38415,
           3.31455,
           3.29135,
           3.26715,
           3.22385,
           3.16285,
           3.1419,
           3.10925,
           3.08745,
           3.04125,
           2.98735,
           2.96785,
           2.9589,
           4.4867,
           2.73465,
           2.6988,
           2.68565,
           7.389,
           7.295,
           7.078,
           6.8785,
           6.68,
           6.4695,
           6.249,
           6.025,
           5.8595,
           5.6935,
           5.5135,
           5.318,
           5.108,
           4.92205,
           4.74115,
           4.574,
           4.41255,
           4.2716,
           4.1403,
           4.0048,
           3.8796,
           3.76725,
           3.65685,
           3.55825,
           3.45505,
           3.35995,
           3.26635,
           3.177,
           3.0938,
           3.0145,
           2.9383,
           2.86695,
           2.799,
           2.7399,
           2.6783,
           2.56105,
           2.50745,
           2.42495,
           7.041,
           6.7755,
           6.489,
           6.241,
           5.9995,
           5.7635,
           5.5495,
           5.333,
           5.13,
           4.93455,
           4.5726,
           4.41815,
           4.2737,
           4.1428,
           3.997,
           3.7667,
           3.6604,
           3.5565,
           3.4592,
           3.36605,
           3.28155,
           3.18835,
           3.11045,
           3.03585,
           2.89725,
           2.83445,
           2.76755,
           2.7092,
           2.6553,
           2.59685,
           2.4912,
           2.44545,
           2.3961,
           2.2774,
           7.4125,
           7.3295,
           7.059,
           6.7835,
           6.5225,
           6.266,
           6.0305,
           5.7885,
           5.566,
           5.353,
           5.1475,
           4.94735,
           4.7707,
           4.6086,
           4.4472,
           4.3132,
           4.1594,
           4.0278,
           3.9007,
           3.6725,
           3.56725,
           3.4661,
           3.3662,
           3.27765,
           3.1849,
           3.02215,
           2.9518,
           2.87855,
           2.8121,
           2.74675,
           2.68715,
           2.62835,
           2.57225,
           2.5179,
           2.4656,
           2.4125,
           2.3647,
           2.32125,
           2.2799,
           2.23495,
           2.1918,
           2.14935,
           2.1087,
           2.0679,
           2.03465,
           1.99635,
           1.9645,
           1.9314,
           1.90555,
           1.87255,
           1.856,
           1.841,
           1.8287,
           1.81745,
           1.80205,
           1.78965,
           1.78175,
           1.77255,
           1.764,
           1.75555,
           1.7497,
           1.749,
           1.7471,
           1.7468,
           1.7465,
           1.7454,
           1.7493,
           1.74985,
           1.75285,
           1.7592,
           1.7668,
           1.7713,
           1.7777,
           1.78205,
           1.7926,
           1.8016,
           7.344,
           7.029,
           6.746,
           6.424,
           6.222,
           5.931,
           5.681,
           5.246,
           5.038,
           4.84165,
           4.6698,
           4.46805,
           4.3012,
           4.1489,
           4.0145,
           3.8828,
           3.77175,
           3.66045,
           3.55025,
           3.451,
           3.35565,
           3.26835,
           3.1807,
           3.09975,
           3.0234,
           2.951,
           2.8784,
           2.80815,
           2.7458,
           2.68465,
           2.62525,
           2.5669,
           2.5147,
           2.45655,
           2.4077,
           2.361,
           2.31765,
           2.27155,
           2.23095,
           2.1877,
           2.1447,
           2.10855,
           2.07155,
           2.0346,
           2.0003,
           1.96515,
           1.9347,
           1.9064,
           1.87905,
           1.84945,
           1.83215,
           1.828,
           1.8246,
           1.82425,
           1.8223,
           1.82125,
           1.82045,
           1.82185,
           1.8211,
           1.82125,
           1.8212,
           1.8256
          ]
         },
         "hovertemplate": "Data Set ID=23158<br>Temperature: K=%{x}<br>Speed of sound: m/s=%{y}<br>Ref Temp=%{customdata[0]}<br>State=%{customdata[1]}<br>Representation=%{customdata[2]}<br>Method=%{customdata[3]}<br>Description=%{customdata[4]}<br>Year=%{customdata[5]}<extra></extra>",
         "legendgroup": "23158",
         "marker": {
          "color": "#19d3f3",
          "symbol": "circle"
         },
         "mode": "markers",
         "name": "23158",
         "orientation": "v",
         "showlegend": true,
         "type": "scatter",
         "x": [
          349.52,
          450.34,
          541.47,
          631.48,
          719.11,
          809.24,
          869.28,
          897.35,
          901.18,
          908.21,
          349.01,
          448.75,
          538.55,
          627.07,
          714.95,
          803.05,
          892.17,
          955.25,
          1015.6,
          1076.5,
          1140.4,
          1190,
          1233.6,
          1265.7,
          1298.3,
          1331.5,
          1356.6,
          1377.7,
          1396.2,
          1410.3,
          1423.5,
          1437.8,
          488.85,
          543.74,
          600.81,
          632.92,
          704.09,
          721.33,
          807.36,
          897.63,
          905.35,
          956.83,
          995.77,
          1015,
          1074.1,
          1137,
          1169.7,
          1185.8,
          1222.8,
          1228.8,
          1260.9,
          1269.4,
          1291.6,
          1310.9,
          1324.6,
          1346.9,
          1357.1,
          1378.7,
          1390.6,
          1407.6,
          1416.9,
          1432,
          1443.9,
          1455.1,
          1463.9,
          1472.5,
          1477,
          1492.9,
          1504.8,
          1508.1,
          1518.2,
          1522.6,
          1532.4,
          1536.1,
          1540.1,
          1545.7,
          1556.3,
          1558.8,
          1563.8,
          1566.6,
          1572.8,
          1579.5,
          1581.8,
          1582.7,
          1394.9,
          1632.9,
          1637.1,
          1637.9,
          300.25,
          348.92,
          449.99,
          539.62,
          626.59,
          713.99,
          802.4,
          889.81,
          948.25,
          1009.3,
          1068.8,
          1129.5,
          1192.2,
          1245.5,
          1293.2,
          1335.6,
          1373.7,
          1407.4,
          1435.8,
          1463,
          1489,
          1510,
          1530.3,
          1547.5,
          1564.5,
          1579.6,
          1593.4,
          1608.1,
          1620,
          1630.9,
          1640.7,
          1649.9,
          1658,
          1665.4,
          1672.5,
          1685.6,
          1691.1,
          1697.9,
          477.98,
          595.61,
          710.56,
          813.43,
          904.63,
          992.75,
          1067.9,
          1135.8,
          1198,
          1255.7,
          1351.1,
          1390.5,
          1424.6,
          1453.5,
          1483.9,
          1527.7,
          1548.6,
          1566.7,
          1583.1,
          1598,
          1611.3,
          1626.9,
          1638.7,
          1649.5,
          1668.2,
          1676.4,
          1684.2,
          1691.6,
          1698.3,
          1704.8,
          1717.1,
          1722.3,
          1728,
          1739.7,
          300.3,
          349.75,
          480.86,
          600.49,
          710.27,
          817.5,
          906.63,
          995.29,
          1070.5,
          1137.8,
          1201.2,
          1258.4,
          1306.7,
          1348.5,
          1388.6,
          1422.2,
          1455.7,
          1483.5,
          1508.7,
          1553.1,
          1571.9,
          1588.9,
          1605.5,
          1619.8,
          1635.5,
          1658.4,
          1668.3,
          1677.9,
          1686.6,
          1695,
          1702.3,
          1709.2,
          1715.5,
          1722.1,
          1728.3,
          1733.8,
          1739.3,
          1744.4,
          1749,
          1753.6,
          1757.2,
          1759.2,
          1760.9,
          1762.3,
          1763.9,
          1765.7,
          1767.7,
          1770,
          1772.2,
          1775.7,
          1777.7,
          1780.2,
          1782.4,
          1784.8,
          1788.6,
          1791.9,
          1794,
          1797.3,
          1800.8,
          1804.7,
          1808,
          1810.7,
          1813.6,
          1818.1,
          1822,
          1828.7,
          1831.7,
          1835.4,
          1839.8,
          1846.3,
          1852.7,
          1859.1,
          1865.5,
          1873.3,
          1885.3,
          1897.9,
          352.03,
          500.11,
          624.64,
          747.05,
          807.81,
          940.23,
          1034,
          1180.4,
          1244.2,
          1301.4,
          1347.5,
          1401.2,
          1440.7,
          1476,
          1504.4,
          1530.4,
          1555.2,
          1575.2,
          1595.4,
          1612.6,
          1628.4,
          1642.4,
          1658.2,
          1670.4,
          1681.2,
          1691.6,
          1701.6,
          1711.1,
          1719.4,
          1727.2,
          1734.7,
          1741.8,
          1748.4,
          1754.9,
          1761.2,
          1766.9,
          1772.9,
          1778.9,
          1784.4,
          1789.7,
          1794.9,
          1798.4,
          1802.1,
          1805.7,
          1809,
          1812.5,
          1816.6,
          1821.2,
          1827.7,
          1837.9,
          1847.6,
          1852,
          1857,
          1860.6,
          1865,
          1868.6,
          1873.8,
          1878.2,
          1881.7,
          1886,
          1892.2,
          1897.7
         ],
         "xaxis": "x",
         "y": [
          1429.8,
          1383.3,
          1338.7,
          1292.6,
          1245,
          1195.5,
          1161.4,
          1147.3,
          1145.4,
          1140.4,
          1442.2,
          1399.1,
          1357.1,
          1313.8,
          1269.6,
          1224.6,
          1174.6,
          1137.7,
          1100.6,
          1058.8,
          1013.4,
          975.89,
          939.99,
          913,
          886.44,
          855.38,
          829,
          808.93,
          788.32,
          774.08,
          759.29,
          744.17,
          1392.2,
          1365.4,
          1337.8,
          1323.1,
          1286.4,
          1277.8,
          1233.9,
          1184.2,
          1179.4,
          1149.3,
          1126.1,
          1113.2,
          1076.2,
          1032.6,
          1010.7,
          998.22,
          971.2,
          965.39,
          939.89,
          932.62,
          914.82,
          899.86,
          887.32,
          867.93,
          858.37,
          837.31,
          826.44,
          811.2,
          800.88,
          785.29,
          772.07,
          760.71,
          749.49,
          738.68,
          734.11,
          717.42,
          700.31,
          696.85,
          681.89,
          676.83,
          662.91,
          658.27,
          653.43,
          644.77,
          632.57,
          628.38,
          621.85,
          617.49,
          608.25,
          597.47,
          593.57,
          591.78,
          897.34,
          546.93,
          539.76,
          537.13,
          1477.8,
          1459,
          1415.6,
          1375.7,
          1336,
          1293.9,
          1249.8,
          1205,
          1171.9,
          1138.7,
          1102.7,
          1063.6,
          1021.6,
          984.41,
          948.23,
          914.8,
          882.51,
          854.32,
          828.06,
          800.96,
          775.92,
          753.45,
          731.37,
          711.65,
          691.01,
          671.99,
          653.27,
          635.4,
          618.76,
          602.9,
          587.66,
          573.39,
          559.8,
          547.98,
          535.66,
          512.21,
          501.49,
          484.99,
          1408.2,
          1355.1,
          1297.8,
          1248.2,
          1199.9,
          1152.7,
          1109.9,
          1066.6,
          1026,
          986.91,
          914.52,
          883.63,
          854.74,
          828.56,
          799.4,
          753.34,
          732.08,
          711.3,
          691.84,
          673.21,
          656.31,
          637.67,
          622.09,
          607.17,
          579.45,
          566.89,
          553.51,
          541.84,
          531.06,
          519.37,
          498.24,
          489.09,
          479.22,
          455.48,
          1482.5,
          1465.9,
          1411.8,
          1356.7,
          1304.5,
          1253.2,
          1206.1,
          1157.7,
          1113.2,
          1070.6,
          1029.5,
          989.47,
          954.14,
          921.72,
          889.44,
          862.64,
          831.88,
          805.56,
          780.14,
          734.5,
          713.45,
          693.22,
          673.24,
          655.53,
          636.98,
          604.43,
          590.36,
          575.71,
          562.42,
          549.35,
          537.43,
          525.67,
          514.45,
          503.58,
          493.12,
          482.5,
          472.94,
          464.25,
          455.98,
          446.99,
          438.36,
          429.87,
          421.74,
          413.58,
          406.93,
          399.27,
          392.9,
          386.28,
          381.11,
          374.51,
          371.2,
          368.2,
          365.74,
          363.49,
          360.41,
          357.93,
          356.35,
          354.51,
          352.8,
          351.11,
          349.94,
          349.8,
          349.42,
          349.36,
          349.3,
          349.08,
          349.86,
          349.97,
          350.57,
          351.84,
          353.36,
          354.26,
          355.54,
          356.41,
          358.52,
          360.32,
          1468.8,
          1405.8,
          1349.2,
          1284.8,
          1244.4,
          1186.2,
          1136.2,
          1049.2,
          1007.6,
          968.33,
          933.96,
          893.61,
          860.24,
          829.78,
          802.9,
          776.56,
          754.35,
          732.09,
          710.05,
          690.2,
          671.13,
          653.67,
          636.14,
          619.95,
          604.68,
          590.2,
          575.68,
          561.63,
          549.16,
          536.93,
          525.05,
          513.38,
          502.94,
          491.31,
          481.54,
          472.2,
          463.53,
          454.31,
          446.19,
          437.54,
          428.94,
          421.71,
          414.31,
          406.92,
          400.06,
          393.03,
          386.94,
          381.28,
          375.81,
          369.89,
          366.43,
          365.6,
          364.92,
          364.85,
          364.46,
          364.25,
          364.09,
          364.37,
          364.22,
          364.25,
          364.24,
          365.12
         ],
         "yaxis": "y"
        },
        {
         "customdata": [
          [
           "N/A",
           [
            "G"
           ],
           "A",
           "Pulse-echo method",
           "not stated",
           1995
          ],
          [
           "N/A",
           [
            "G"
           ],
           "A",
           "Pulse-echo method",
           "not stated",
           1995
          ],
          [
           "N/A",
           [
            "G"
           ],
           "A",
           "Pulse-echo method",
           "not stated",
           1995
          ],
          [
           "N/A",
           [
            "G"
           ],
           "A",
           "Pulse-echo method",
           "not stated",
           1995
          ],
          [
           "N/A",
           [
            "G"
           ],
           "A",
           "Pulse-echo method",
           "not stated",
           1995
          ],
          [
           "N/A",
           [
            "G"
           ],
           "A",
           "Pulse-echo method",
           "not stated",
           1995
          ],
          [
           "N/A",
           [
            "G"
           ],
           "A",
           "Pulse-echo method",
           "not stated",
           1995
          ],
          [
           "N/A",
           [
            "G"
           ],
           "A",
           "Pulse-echo method",
           "not stated",
           1995
          ],
          [
           "N/A",
           [
            "G"
           ],
           "A",
           "Pulse-echo method",
           "not stated",
           1995
          ],
          [
           "N/A",
           [
            "G"
           ],
           "A",
           "Pulse-echo method",
           "not stated",
           1995
          ],
          [
           "N/A",
           [
            "G"
           ],
           "A",
           "Pulse-echo method",
           "not stated",
           1995
          ],
          [
           "N/A",
           [
            "G"
           ],
           "A",
           "Pulse-echo method",
           "not stated",
           1995
          ],
          [
           "N/A",
           [
            "G"
           ],
           "A",
           "Pulse-echo method",
           "not stated",
           1995
          ],
          [
           "N/A",
           [
            "G"
           ],
           "A",
           "Pulse-echo method",
           "not stated",
           1995
          ],
          [
           "N/A",
           [
            "G"
           ],
           "A",
           "Pulse-echo method",
           "not stated",
           1995
          ],
          [
           "N/A",
           [
            "G"
           ],
           "A",
           "Pulse-echo method",
           "not stated",
           1995
          ],
          [
           "N/A",
           [
            "G"
           ],
           "A",
           "Pulse-echo method",
           "not stated",
           1995
          ],
          [
           "N/A",
           [
            "G"
           ],
           "A",
           "Pulse-echo method",
           "not stated",
           1995
          ],
          [
           "N/A",
           [
            "G"
           ],
           "A",
           "Pulse-echo method",
           "not stated",
           1995
          ],
          [
           "N/A",
           [
            "G"
           ],
           "A",
           "Pulse-echo method",
           "not stated",
           1995
          ],
          [
           "N/A",
           [
            "G"
           ],
           "A",
           "Pulse-echo method",
           "not stated",
           1995
          ],
          [
           "N/A",
           [
            "G"
           ],
           "A",
           "Pulse-echo method",
           "not stated",
           1995
          ],
          [
           "N/A",
           [
            "G"
           ],
           "A",
           "Pulse-echo method",
           "not stated",
           1995
          ],
          [
           "N/A",
           [
            "G"
           ],
           "A",
           "Pulse-echo method",
           "not stated",
           1995
          ],
          [
           "N/A",
           [
            "G"
           ],
           "A",
           "Pulse-echo method",
           "not stated",
           1995
          ],
          [
           "N/A",
           [
            "G"
           ],
           "A",
           "Pulse-echo method",
           "not stated",
           1995
          ],
          [
           "N/A",
           [
            "G"
           ],
           "A",
           "Pulse-echo method",
           "not stated",
           1995
          ],
          [
           "N/A",
           [
            "G"
           ],
           "A",
           "Pulse-echo method",
           "not stated",
           1995
          ],
          [
           "N/A",
           [
            "G"
           ],
           "A",
           "Pulse-echo method",
           "not stated",
           1995
          ],
          [
           "N/A",
           [
            "G"
           ],
           "A",
           "Pulse-echo method",
           "not stated",
           1995
          ],
          [
           "N/A",
           [
            "G"
           ],
           "A",
           "Pulse-echo method",
           "not stated",
           1995
          ],
          [
           "N/A",
           [
            "G"
           ],
           "A",
           "Pulse-echo method",
           "not stated",
           1995
          ],
          [
           "N/A",
           [
            "G"
           ],
           "A",
           "Pulse-echo method",
           "not stated",
           1995
          ],
          [
           "N/A",
           [
            "G"
           ],
           "A",
           "Pulse-echo method",
           "not stated",
           1995
          ],
          [
           "N/A",
           [
            "G"
           ],
           "A",
           "Pulse-echo method",
           "not stated",
           1995
          ],
          [
           "N/A",
           [
            "G"
           ],
           "A",
           "Pulse-echo method",
           "not stated",
           1995
          ],
          [
           "N/A",
           [
            "G"
           ],
           "A",
           "Pulse-echo method",
           "not stated",
           1995
          ],
          [
           "N/A",
           [
            "G"
           ],
           "A",
           "Pulse-echo method",
           "not stated",
           1995
          ],
          [
           "N/A",
           [
            "G"
           ],
           "A",
           "Pulse-echo method",
           "not stated",
           1995
          ],
          [
           "N/A",
           [
            "G"
           ],
           "A",
           "Pulse-echo method",
           "not stated",
           1995
          ],
          [
           "N/A",
           [
            "G"
           ],
           "A",
           "Pulse-echo method",
           "not stated",
           1995
          ],
          [
           "N/A",
           [
            "G"
           ],
           "A",
           "Pulse-echo method",
           "not stated",
           1995
          ],
          [
           "N/A",
           [
            "G"
           ],
           "A",
           "Pulse-echo method",
           "not stated",
           1995
          ],
          [
           "N/A",
           [
            "G"
           ],
           "A",
           "Pulse-echo method",
           "not stated",
           1995
          ],
          [
           "N/A",
           [
            "G"
           ],
           "A",
           "Pulse-echo method",
           "not stated",
           1995
          ],
          [
           "N/A",
           [
            "G"
           ],
           "A",
           "Pulse-echo method",
           "not stated",
           1995
          ],
          [
           "N/A",
           [
            "G"
           ],
           "A",
           "Pulse-echo method",
           "not stated",
           1995
          ],
          [
           "N/A",
           [
            "G"
           ],
           "A",
           "Pulse-echo method",
           "not stated",
           1995
          ],
          [
           "N/A",
           [
            "G"
           ],
           "A",
           "Pulse-echo method",
           "not stated",
           1995
          ],
          [
           "N/A",
           [
            "G"
           ],
           "A",
           "Pulse-echo method",
           "not stated",
           1995
          ],
          [
           "N/A",
           [
            "G"
           ],
           "A",
           "Pulse-echo method",
           "not stated",
           1995
          ],
          [
           "N/A",
           [
            "G"
           ],
           "A",
           "Pulse-echo method",
           "not stated",
           1995
          ],
          [
           "N/A",
           [
            "G"
           ],
           "A",
           "Pulse-echo method",
           "not stated",
           1995
          ],
          [
           "N/A",
           [
            "G"
           ],
           "A",
           "Pulse-echo method",
           "not stated",
           1995
          ],
          [
           "N/A",
           [
            "G"
           ],
           "A",
           "Pulse-echo method",
           "not stated",
           1995
          ],
          [
           "N/A",
           [
            "G"
           ],
           "A",
           "Pulse-echo method",
           "not stated",
           1995
          ],
          [
           "N/A",
           [
            "G"
           ],
           "A",
           "Pulse-echo method",
           "not stated",
           1995
          ],
          [
           "N/A",
           [
            "G"
           ],
           "A",
           "Pulse-echo method",
           "not stated",
           1995
          ],
          [
           "N/A",
           [
            "G"
           ],
           "A",
           "Pulse-echo method",
           "not stated",
           1995
          ],
          [
           "N/A",
           [
            "G"
           ],
           "A",
           "Pulse-echo method",
           "not stated",
           1995
          ],
          [
           "N/A",
           [
            "G"
           ],
           "A",
           "Pulse-echo method",
           "not stated",
           1995
          ],
          [
           "N/A",
           [
            "G"
           ],
           "A",
           "Pulse-echo method",
           "not stated",
           1995
          ],
          [
           "N/A",
           [
            "G"
           ],
           "A",
           "Pulse-echo method",
           "not stated",
           1995
          ],
          [
           "N/A",
           [
            "G"
           ],
           "A",
           "Pulse-echo method",
           "not stated",
           1995
          ],
          [
           "N/A",
           [
            "G"
           ],
           "A",
           "Pulse-echo method",
           "not stated",
           1995
          ],
          [
           "N/A",
           [
            "G"
           ],
           "A",
           "Pulse-echo method",
           "not stated",
           1995
          ],
          [
           "N/A",
           [
            "G"
           ],
           "A",
           "Pulse-echo method",
           "not stated",
           1995
          ],
          [
           "N/A",
           [
            "G"
           ],
           "A",
           "Pulse-echo method",
           "not stated",
           1995
          ],
          [
           "N/A",
           [
            "G"
           ],
           "A",
           "Pulse-echo method",
           "not stated",
           1995
          ],
          [
           "N/A",
           [
            "G"
           ],
           "A",
           "Pulse-echo method",
           "not stated",
           1995
          ],
          [
           "N/A",
           [
            "G"
           ],
           "A",
           "Pulse-echo method",
           "not stated",
           1995
          ],
          [
           "N/A",
           [
            "G"
           ],
           "A",
           "Pulse-echo method",
           "not stated",
           1995
          ],
          [
           "N/A",
           [
            "G"
           ],
           "A",
           "Pulse-echo method",
           "not stated",
           1995
          ],
          [
           "N/A",
           [
            "G"
           ],
           "A",
           "Pulse-echo method",
           "not stated",
           1995
          ],
          [
           "N/A",
           [
            "G"
           ],
           "A",
           "Pulse-echo method",
           "not stated",
           1995
          ],
          [
           "N/A",
           [
            "G"
           ],
           "A",
           "Pulse-echo method",
           "not stated",
           1995
          ],
          [
           "N/A",
           [
            "G"
           ],
           "A",
           "Pulse-echo method",
           "not stated",
           1995
          ],
          [
           "N/A",
           [
            "G"
           ],
           "A",
           "Pulse-echo method",
           "not stated",
           1995
          ],
          [
           "N/A",
           [
            "G"
           ],
           "A",
           "Pulse-echo method",
           "not stated",
           1995
          ],
          [
           "N/A",
           [
            "G"
           ],
           "A",
           "Pulse-echo method",
           "not stated",
           1995
          ],
          [
           "N/A",
           [
            "G"
           ],
           "A",
           "Pulse-echo method",
           "not stated",
           1995
          ],
          [
           "N/A",
           [
            "G"
           ],
           "A",
           "Pulse-echo method",
           "not stated",
           1995
          ],
          [
           "N/A",
           [
            "G"
           ],
           "A",
           "Pulse-echo method",
           "not stated",
           1995
          ],
          [
           "N/A",
           [
            "G"
           ],
           "A",
           "Pulse-echo method",
           "not stated",
           1995
          ],
          [
           "N/A",
           [
            "G"
           ],
           "A",
           "Pulse-echo method",
           "not stated",
           1995
          ],
          [
           "N/A",
           [
            "G"
           ],
           "A",
           "Pulse-echo method",
           "not stated",
           1995
          ],
          [
           "N/A",
           [
            "G"
           ],
           "A",
           "Pulse-echo method",
           "not stated",
           1995
          ],
          [
           "N/A",
           [
            "G"
           ],
           "A",
           "Pulse-echo method",
           "not stated",
           1995
          ],
          [
           "N/A",
           [
            "G"
           ],
           "A",
           "Pulse-echo method",
           "not stated",
           1995
          ],
          [
           "N/A",
           [
            "G"
           ],
           "A",
           "Pulse-echo method",
           "not stated",
           1995
          ],
          [
           "N/A",
           [
            "G"
           ],
           "A",
           "Pulse-echo method",
           "not stated",
           1995
          ],
          [
           "N/A",
           [
            "G"
           ],
           "A",
           "Pulse-echo method",
           "not stated",
           1995
          ],
          [
           "N/A",
           [
            "G"
           ],
           "A",
           "Pulse-echo method",
           "not stated",
           1995
          ],
          [
           "N/A",
           [
            "G"
           ],
           "A",
           "Pulse-echo method",
           "not stated",
           1995
          ],
          [
           "N/A",
           [
            "G"
           ],
           "A",
           "Pulse-echo method",
           "not stated",
           1995
          ],
          [
           "N/A",
           [
            "G"
           ],
           "A",
           "Pulse-echo method",
           "not stated",
           1995
          ],
          [
           "N/A",
           [
            "G"
           ],
           "A",
           "Pulse-echo method",
           "not stated",
           1995
          ],
          [
           "N/A",
           [
            "G"
           ],
           "A",
           "Pulse-echo method",
           "not stated",
           1995
          ],
          [
           "N/A",
           [
            "G"
           ],
           "A",
           "Pulse-echo method",
           "not stated",
           1995
          ],
          [
           "N/A",
           [
            "G"
           ],
           "A",
           "Pulse-echo method",
           "not stated",
           1995
          ],
          [
           "N/A",
           [
            "G"
           ],
           "A",
           "Pulse-echo method",
           "not stated",
           1995
          ],
          [
           "N/A",
           [
            "G"
           ],
           "A",
           "Pulse-echo method",
           "not stated",
           1995
          ],
          [
           "N/A",
           [
            "G"
           ],
           "A",
           "Pulse-echo method",
           "not stated",
           1995
          ],
          [
           "N/A",
           [
            "G"
           ],
           "A",
           "Pulse-echo method",
           "not stated",
           1995
          ],
          [
           "N/A",
           [
            "G"
           ],
           "A",
           "Pulse-echo method",
           "not stated",
           1995
          ],
          [
           "N/A",
           [
            "G"
           ],
           "A",
           "Pulse-echo method",
           "not stated",
           1995
          ],
          [
           "N/A",
           [
            "G"
           ],
           "A",
           "Pulse-echo method",
           "not stated",
           1995
          ],
          [
           "N/A",
           [
            "G"
           ],
           "A",
           "Pulse-echo method",
           "not stated",
           1995
          ],
          [
           "N/A",
           [
            "G"
           ],
           "A",
           "Pulse-echo method",
           "not stated",
           1995
          ],
          [
           "N/A",
           [
            "G"
           ],
           "A",
           "Pulse-echo method",
           "not stated",
           1995
          ],
          [
           "N/A",
           [
            "G"
           ],
           "A",
           "Pulse-echo method",
           "not stated",
           1995
          ]
         ],
         "error_y": {
          "array": [
           1.89805,
           1.6739,
           1.6113,
           1.85695,
           1.84265,
           1.8155,
           1.80235,
           1.73345,
           1.7247,
           1.7141,
           1.6934,
           1.68565,
           1.66735,
           1.65765,
           1.649,
           1.6339,
           1.60625,
           1.6247,
           1.6456,
           1.65915,
           1.67455,
           1.69595,
           1.71105,
           1.88165,
           1.82575,
           1.7687,
           1.72135,
           1.6752,
           1.6423,
           1.6417,
           1.64305,
           1.6117,
           1.80455,
           1.80475,
           1.7958,
           1.7746,
           1.7481,
           1.7259,
           1.6965,
           1.68635,
           1.6702,
           1.65695,
           1.6492,
           1.64645,
           1.6418,
           1.658,
           1.6783,
           1.68905,
           1.7043,
           1.7156,
           1.7273,
           1.7439,
           1.77085,
           1.82625,
           1.95935,
           1.92475,
           1.89165,
           1.84125,
           1.8094,
           1.78655,
           1.7677,
           1.7478,
           1.72395,
           1.70165,
           1.6816,
           1.7461,
           1.73695,
           1.72,
           1.70035,
           1.68415,
           1.68865,
           1.69415,
           1.6988,
           1.7125,
           1.7273,
           1.76365,
           1.781,
           2.11295,
           2.10265,
           2.0399,
           2.06635,
           1.9344,
           1.9041,
           1.85765,
           1.8306,
           1.8079,
           1.7826,
           1.7452,
           1.7347,
           1.7184,
           1.7256,
           1.73055,
           1.7304,
           1.73345,
           1.7311,
           1.7296,
           1.7278,
           1.7262,
           1.7266,
           1.7286,
           1.72955,
           1.7345,
           1.7444,
           1.74535,
           1.75105,
           1.7575,
           1.76665,
           1.7709,
           1.7765,
           1.7853,
           1.80125
          ]
         },
         "hovertemplate": "Data Set ID=23159<br>Temperature: K=%{x}<br>Speed of sound: m/s=%{y}<br>Ref Temp=%{customdata[0]}<br>State=%{customdata[1]}<br>Representation=%{customdata[2]}<br>Method=%{customdata[3]}<br>Description=%{customdata[4]}<br>Year=%{customdata[5]}<extra></extra>",
         "legendgroup": "23159",
         "marker": {
          "color": "#FF6692",
          "symbol": "circle"
         },
         "mode": "markers",
         "name": "23159",
         "orientation": "v",
         "showlegend": true,
         "type": "scatter",
         "x": [
          1588.3,
          1592.6,
          1595.4,
          1613.8,
          1620.8,
          1621.7,
          1622.4,
          1623.1,
          1624.3,
          1625.8,
          1628.1,
          1629.2,
          1630.3,
          1631.5,
          1632.5,
          1633,
          1659.1,
          1682.5,
          1711,
          1734.1,
          1756.3,
          1779,
          1800.9,
          1643.9,
          1645.1,
          1646.6,
          1648.3,
          1650.6,
          1651.9,
          1653.2,
          1654.4,
          1655.4,
          1669.3,
          1671.6,
          1675.4,
          1677,
          1679,
          1680.2,
          1682.8,
          1685.5,
          1687.9,
          1691.7,
          1695.2,
          1697,
          1699.9,
          1720.7,
          1745.5,
          1760,
          1782,
          1796.7,
          1810.8,
          1828.5,
          1867.1,
          1897.7,
          1707.5,
          1708.3,
          1709.1,
          1710.6,
          1711.5,
          1712.4,
          1713.2,
          1713.8,
          1715.3,
          1716.2,
          1717.4,
          1744.4,
          1747.4,
          1750,
          1753.5,
          1757.4,
          1764,
          1771.9,
          1780.1,
          1794.7,
          1809.5,
          1856,
          1883.2,
          1748.8,
          1750.6,
          1751.6,
          1751.9,
          1753.8,
          1756.3,
          1757.2,
          1758.9,
          1760.2,
          1762.2,
          1765.4,
          1766.4,
          1769.8,
          1774.7,
          1776.1,
          1784.9,
          1792.7,
          1795.3,
          1796.3,
          1801.3,
          1804.2,
          1805.8,
          1814.8,
          1818.1,
          1824,
          1831.3,
          1833.8,
          1839.2,
          1847.6,
          1857.7,
          1865.1,
          1870.3,
          1881.6,
          1898.6
         ],
         "xaxis": "x",
         "y": [
          379.61,
          334.78,
          322.26,
          371.39,
          368.53,
          363.1,
          360.47,
          346.69,
          344.94,
          342.82,
          338.68,
          337.13,
          333.47,
          331.53,
          329.8,
          326.78,
          321.25,
          324.94,
          329.12,
          331.83,
          334.91,
          339.19,
          342.21,
          376.33,
          365.15,
          353.74,
          344.27,
          335.04,
          328.46,
          328.34,
          328.61,
          322.34,
          360.91,
          360.95,
          359.16,
          354.92,
          349.62,
          345.18,
          339.3,
          337.27,
          334.04,
          331.39,
          329.84,
          329.29,
          328.36,
          331.6,
          335.66,
          337.81,
          340.86,
          343.12,
          345.46,
          348.78,
          354.17,
          365.25,
          391.87,
          384.95,
          378.33,
          368.25,
          361.88,
          357.31,
          353.54,
          349.56,
          344.79,
          340.33,
          336.32,
          349.22,
          347.39,
          344,
          340.07,
          336.83,
          337.73,
          338.83,
          339.76,
          342.5,
          345.46,
          352.73,
          356.2,
          422.59,
          420.53,
          407.98,
          413.27,
          386.88,
          380.82,
          371.53,
          366.12,
          361.58,
          356.52,
          349.04,
          346.94,
          343.68,
          345.12,
          346.11,
          346.08,
          346.69,
          346.22,
          345.92,
          345.56,
          345.24,
          345.32,
          345.72,
          345.91,
          346.9,
          348.88,
          349.07,
          350.21,
          351.5,
          353.33,
          354.18,
          355.3,
          357.06,
          360.25
         ],
         "yaxis": "y"
        }
       ],
       "layout": {
        "height": 600,
        "legend": {
         "title": {
          "text": "Data Set ID"
         },
         "tracegroupgap": 0
        },
        "template": {
         "data": {
          "bar": [
           {
            "error_x": {
             "color": "#2a3f5f"
            },
            "error_y": {
             "color": "#2a3f5f"
            },
            "marker": {
             "line": {
              "color": "#E5ECF6",
              "width": 0.5
             },
             "pattern": {
              "fillmode": "overlay",
              "size": 10,
              "solidity": 0.2
             }
            },
            "type": "bar"
           }
          ],
          "barpolar": [
           {
            "marker": {
             "line": {
              "color": "#E5ECF6",
              "width": 0.5
             },
             "pattern": {
              "fillmode": "overlay",
              "size": 10,
              "solidity": 0.2
             }
            },
            "type": "barpolar"
           }
          ],
          "carpet": [
           {
            "aaxis": {
             "endlinecolor": "#2a3f5f",
             "gridcolor": "white",
             "linecolor": "white",
             "minorgridcolor": "white",
             "startlinecolor": "#2a3f5f"
            },
            "baxis": {
             "endlinecolor": "#2a3f5f",
             "gridcolor": "white",
             "linecolor": "white",
             "minorgridcolor": "white",
             "startlinecolor": "#2a3f5f"
            },
            "type": "carpet"
           }
          ],
          "choropleth": [
           {
            "colorbar": {
             "outlinewidth": 0,
             "ticks": ""
            },
            "type": "choropleth"
           }
          ],
          "contour": [
           {
            "colorbar": {
             "outlinewidth": 0,
             "ticks": ""
            },
            "colorscale": [
             [
              0,
              "#0d0887"
             ],
             [
              0.1111111111111111,
              "#46039f"
             ],
             [
              0.2222222222222222,
              "#7201a8"
             ],
             [
              0.3333333333333333,
              "#9c179e"
             ],
             [
              0.4444444444444444,
              "#bd3786"
             ],
             [
              0.5555555555555556,
              "#d8576b"
             ],
             [
              0.6666666666666666,
              "#ed7953"
             ],
             [
              0.7777777777777778,
              "#fb9f3a"
             ],
             [
              0.8888888888888888,
              "#fdca26"
             ],
             [
              1,
              "#f0f921"
             ]
            ],
            "type": "contour"
           }
          ],
          "contourcarpet": [
           {
            "colorbar": {
             "outlinewidth": 0,
             "ticks": ""
            },
            "type": "contourcarpet"
           }
          ],
          "heatmap": [
           {
            "colorbar": {
             "outlinewidth": 0,
             "ticks": ""
            },
            "colorscale": [
             [
              0,
              "#0d0887"
             ],
             [
              0.1111111111111111,
              "#46039f"
             ],
             [
              0.2222222222222222,
              "#7201a8"
             ],
             [
              0.3333333333333333,
              "#9c179e"
             ],
             [
              0.4444444444444444,
              "#bd3786"
             ],
             [
              0.5555555555555556,
              "#d8576b"
             ],
             [
              0.6666666666666666,
              "#ed7953"
             ],
             [
              0.7777777777777778,
              "#fb9f3a"
             ],
             [
              0.8888888888888888,
              "#fdca26"
             ],
             [
              1,
              "#f0f921"
             ]
            ],
            "type": "heatmap"
           }
          ],
          "heatmapgl": [
           {
            "colorbar": {
             "outlinewidth": 0,
             "ticks": ""
            },
            "colorscale": [
             [
              0,
              "#0d0887"
             ],
             [
              0.1111111111111111,
              "#46039f"
             ],
             [
              0.2222222222222222,
              "#7201a8"
             ],
             [
              0.3333333333333333,
              "#9c179e"
             ],
             [
              0.4444444444444444,
              "#bd3786"
             ],
             [
              0.5555555555555556,
              "#d8576b"
             ],
             [
              0.6666666666666666,
              "#ed7953"
             ],
             [
              0.7777777777777778,
              "#fb9f3a"
             ],
             [
              0.8888888888888888,
              "#fdca26"
             ],
             [
              1,
              "#f0f921"
             ]
            ],
            "type": "heatmapgl"
           }
          ],
          "histogram": [
           {
            "marker": {
             "pattern": {
              "fillmode": "overlay",
              "size": 10,
              "solidity": 0.2
             }
            },
            "type": "histogram"
           }
          ],
          "histogram2d": [
           {
            "colorbar": {
             "outlinewidth": 0,
             "ticks": ""
            },
            "colorscale": [
             [
              0,
              "#0d0887"
             ],
             [
              0.1111111111111111,
              "#46039f"
             ],
             [
              0.2222222222222222,
              "#7201a8"
             ],
             [
              0.3333333333333333,
              "#9c179e"
             ],
             [
              0.4444444444444444,
              "#bd3786"
             ],
             [
              0.5555555555555556,
              "#d8576b"
             ],
             [
              0.6666666666666666,
              "#ed7953"
             ],
             [
              0.7777777777777778,
              "#fb9f3a"
             ],
             [
              0.8888888888888888,
              "#fdca26"
             ],
             [
              1,
              "#f0f921"
             ]
            ],
            "type": "histogram2d"
           }
          ],
          "histogram2dcontour": [
           {
            "colorbar": {
             "outlinewidth": 0,
             "ticks": ""
            },
            "colorscale": [
             [
              0,
              "#0d0887"
             ],
             [
              0.1111111111111111,
              "#46039f"
             ],
             [
              0.2222222222222222,
              "#7201a8"
             ],
             [
              0.3333333333333333,
              "#9c179e"
             ],
             [
              0.4444444444444444,
              "#bd3786"
             ],
             [
              0.5555555555555556,
              "#d8576b"
             ],
             [
              0.6666666666666666,
              "#ed7953"
             ],
             [
              0.7777777777777778,
              "#fb9f3a"
             ],
             [
              0.8888888888888888,
              "#fdca26"
             ],
             [
              1,
              "#f0f921"
             ]
            ],
            "type": "histogram2dcontour"
           }
          ],
          "mesh3d": [
           {
            "colorbar": {
             "outlinewidth": 0,
             "ticks": ""
            },
            "type": "mesh3d"
           }
          ],
          "parcoords": [
           {
            "line": {
             "colorbar": {
              "outlinewidth": 0,
              "ticks": ""
             }
            },
            "type": "parcoords"
           }
          ],
          "pie": [
           {
            "automargin": true,
            "type": "pie"
           }
          ],
          "scatter": [
           {
            "marker": {
             "colorbar": {
              "outlinewidth": 0,
              "ticks": ""
             }
            },
            "type": "scatter"
           }
          ],
          "scatter3d": [
           {
            "line": {
             "colorbar": {
              "outlinewidth": 0,
              "ticks": ""
             }
            },
            "marker": {
             "colorbar": {
              "outlinewidth": 0,
              "ticks": ""
             }
            },
            "type": "scatter3d"
           }
          ],
          "scattercarpet": [
           {
            "marker": {
             "colorbar": {
              "outlinewidth": 0,
              "ticks": ""
             }
            },
            "type": "scattercarpet"
           }
          ],
          "scattergeo": [
           {
            "marker": {
             "colorbar": {
              "outlinewidth": 0,
              "ticks": ""
             }
            },
            "type": "scattergeo"
           }
          ],
          "scattergl": [
           {
            "marker": {
             "colorbar": {
              "outlinewidth": 0,
              "ticks": ""
             }
            },
            "type": "scattergl"
           }
          ],
          "scattermapbox": [
           {
            "marker": {
             "colorbar": {
              "outlinewidth": 0,
              "ticks": ""
             }
            },
            "type": "scattermapbox"
           }
          ],
          "scatterpolar": [
           {
            "marker": {
             "colorbar": {
              "outlinewidth": 0,
              "ticks": ""
             }
            },
            "type": "scatterpolar"
           }
          ],
          "scatterpolargl": [
           {
            "marker": {
             "colorbar": {
              "outlinewidth": 0,
              "ticks": ""
             }
            },
            "type": "scatterpolargl"
           }
          ],
          "scatterternary": [
           {
            "marker": {
             "colorbar": {
              "outlinewidth": 0,
              "ticks": ""
             }
            },
            "type": "scatterternary"
           }
          ],
          "surface": [
           {
            "colorbar": {
             "outlinewidth": 0,
             "ticks": ""
            },
            "colorscale": [
             [
              0,
              "#0d0887"
             ],
             [
              0.1111111111111111,
              "#46039f"
             ],
             [
              0.2222222222222222,
              "#7201a8"
             ],
             [
              0.3333333333333333,
              "#9c179e"
             ],
             [
              0.4444444444444444,
              "#bd3786"
             ],
             [
              0.5555555555555556,
              "#d8576b"
             ],
             [
              0.6666666666666666,
              "#ed7953"
             ],
             [
              0.7777777777777778,
              "#fb9f3a"
             ],
             [
              0.8888888888888888,
              "#fdca26"
             ],
             [
              1,
              "#f0f921"
             ]
            ],
            "type": "surface"
           }
          ],
          "table": [
           {
            "cells": {
             "fill": {
              "color": "#EBF0F8"
             },
             "line": {
              "color": "white"
             }
            },
            "header": {
             "fill": {
              "color": "#C8D4E3"
             },
             "line": {
              "color": "white"
             }
            },
            "type": "table"
           }
          ]
         },
         "layout": {
          "annotationdefaults": {
           "arrowcolor": "#2a3f5f",
           "arrowhead": 0,
           "arrowwidth": 1
          },
          "autotypenumbers": "strict",
          "coloraxis": {
           "colorbar": {
            "outlinewidth": 0,
            "ticks": ""
           }
          },
          "colorscale": {
           "diverging": [
            [
             0,
             "#8e0152"
            ],
            [
             0.1,
             "#c51b7d"
            ],
            [
             0.2,
             "#de77ae"
            ],
            [
             0.3,
             "#f1b6da"
            ],
            [
             0.4,
             "#fde0ef"
            ],
            [
             0.5,
             "#f7f7f7"
            ],
            [
             0.6,
             "#e6f5d0"
            ],
            [
             0.7,
             "#b8e186"
            ],
            [
             0.8,
             "#7fbc41"
            ],
            [
             0.9,
             "#4d9221"
            ],
            [
             1,
             "#276419"
            ]
           ],
           "sequential": [
            [
             0,
             "#0d0887"
            ],
            [
             0.1111111111111111,
             "#46039f"
            ],
            [
             0.2222222222222222,
             "#7201a8"
            ],
            [
             0.3333333333333333,
             "#9c179e"
            ],
            [
             0.4444444444444444,
             "#bd3786"
            ],
            [
             0.5555555555555556,
             "#d8576b"
            ],
            [
             0.6666666666666666,
             "#ed7953"
            ],
            [
             0.7777777777777778,
             "#fb9f3a"
            ],
            [
             0.8888888888888888,
             "#fdca26"
            ],
            [
             1,
             "#f0f921"
            ]
           ],
           "sequentialminus": [
            [
             0,
             "#0d0887"
            ],
            [
             0.1111111111111111,
             "#46039f"
            ],
            [
             0.2222222222222222,
             "#7201a8"
            ],
            [
             0.3333333333333333,
             "#9c179e"
            ],
            [
             0.4444444444444444,
             "#bd3786"
            ],
            [
             0.5555555555555556,
             "#d8576b"
            ],
            [
             0.6666666666666666,
             "#ed7953"
            ],
            [
             0.7777777777777778,
             "#fb9f3a"
            ],
            [
             0.8888888888888888,
             "#fdca26"
            ],
            [
             1,
             "#f0f921"
            ]
           ]
          },
          "colorway": [
           "#636efa",
           "#EF553B",
           "#00cc96",
           "#ab63fa",
           "#FFA15A",
           "#19d3f3",
           "#FF6692",
           "#B6E880",
           "#FF97FF",
           "#FECB52"
          ],
          "font": {
           "color": "#2a3f5f"
          },
          "geo": {
           "bgcolor": "white",
           "lakecolor": "white",
           "landcolor": "#E5ECF6",
           "showlakes": true,
           "showland": true,
           "subunitcolor": "white"
          },
          "hoverlabel": {
           "align": "left"
          },
          "hovermode": "closest",
          "mapbox": {
           "style": "light"
          },
          "paper_bgcolor": "white",
          "plot_bgcolor": "#E5ECF6",
          "polar": {
           "angularaxis": {
            "gridcolor": "white",
            "linecolor": "white",
            "ticks": ""
           },
           "bgcolor": "#E5ECF6",
           "radialaxis": {
            "gridcolor": "white",
            "linecolor": "white",
            "ticks": ""
           }
          },
          "scene": {
           "xaxis": {
            "backgroundcolor": "#E5ECF6",
            "gridcolor": "white",
            "gridwidth": 2,
            "linecolor": "white",
            "showbackground": true,
            "ticks": "",
            "zerolinecolor": "white"
           },
           "yaxis": {
            "backgroundcolor": "#E5ECF6",
            "gridcolor": "white",
            "gridwidth": 2,
            "linecolor": "white",
            "showbackground": true,
            "ticks": "",
            "zerolinecolor": "white"
           },
           "zaxis": {
            "backgroundcolor": "#E5ECF6",
            "gridcolor": "white",
            "gridwidth": 2,
            "linecolor": "white",
            "showbackground": true,
            "ticks": "",
            "zerolinecolor": "white"
           }
          },
          "shapedefaults": {
           "line": {
            "color": "#2a3f5f"
           }
          },
          "ternary": {
           "aaxis": {
            "gridcolor": "white",
            "linecolor": "white",
            "ticks": ""
           },
           "baxis": {
            "gridcolor": "white",
            "linecolor": "white",
            "ticks": ""
           },
           "bgcolor": "#E5ECF6",
           "caxis": {
            "gridcolor": "white",
            "linecolor": "white",
            "ticks": ""
           }
          },
          "title": {
           "x": 0.05
          },
          "xaxis": {
           "automargin": true,
           "gridcolor": "white",
           "linecolor": "white",
           "ticks": "",
           "title": {
            "standoff": 15
           },
           "zerolinecolor": "white",
           "zerolinewidth": 2
          },
          "yaxis": {
           "automargin": true,
           "gridcolor": "white",
           "linecolor": "white",
           "ticks": "",
           "title": {
            "standoff": 15
           },
           "zerolinecolor": "white",
           "zerolinewidth": 2
          }
         }
        },
        "title": {
         "text": "['Hg']"
        },
        "xaxis": {
         "anchor": "y",
         "domain": [
          0,
          1
         ],
         "title": {
          "text": "Temperature: K"
         }
        },
        "yaxis": {
         "anchor": "x",
         "domain": [
          0,
          1
         ],
         "title": {
          "text": "Speed of sound: m/s"
         }
        }
       }
      }
     },
     "metadata": {},
     "output_type": "display_data"
    },
    {
     "data": {
      "text/html": [
       "<div>\n",
       "<style scoped>\n",
       "    .dataframe tbody tr th:only-of-type {\n",
       "        vertical-align: middle;\n",
       "    }\n",
       "\n",
       "    .dataframe tbody tr th {\n",
       "        vertical-align: top;\n",
       "    }\n",
       "\n",
       "    .dataframe thead th {\n",
       "        text-align: right;\n",
       "    }\n",
       "</style>\n",
       "<table border=\"1\" class=\"dataframe\">\n",
       "  <thead>\n",
       "    <tr style=\"text-align: right;\">\n",
       "      <th></th>\n",
       "      <th>Temperature: K</th>\n",
       "      <th>Speed of sound: m/s</th>\n",
       "      <th>Uncertainty</th>\n",
       "      <th>Pressure</th>\n",
       "      <th>Ref Temp</th>\n",
       "      <th>Data Set ID</th>\n",
       "      <th>State</th>\n",
       "      <th>Representation</th>\n",
       "      <th>Method</th>\n",
       "      <th>Description</th>\n",
       "      <th>Purity</th>\n",
       "      <th>Purity Units</th>\n",
       "      <th>Year</th>\n",
       "    </tr>\n",
       "  </thead>\n",
       "  <tbody>\n",
       "    <tr>\n",
       "      <th>0</th>\n",
       "      <td>275.05</td>\n",
       "      <td>1460.30</td>\n",
       "      <td>1.46030</td>\n",
       "      <td>None kPa</td>\n",
       "      <td>N/A</td>\n",
       "      <td>2572</td>\n",
       "      <td>[L]</td>\n",
       "      <td>A</td>\n",
       "      <td>Linear variable-path acoustic interferometer</td>\n",
       "      <td>not stated</td>\n",
       "      <td>NaN</td>\n",
       "      <td>None</td>\n",
       "      <td>1928</td>\n",
       "    </tr>\n",
       "    <tr>\n",
       "      <th>1</th>\n",
       "      <td>275.25</td>\n",
       "      <td>1460.50</td>\n",
       "      <td>1.46050</td>\n",
       "      <td>None kPa</td>\n",
       "      <td>N/A</td>\n",
       "      <td>2572</td>\n",
       "      <td>[L]</td>\n",
       "      <td>A</td>\n",
       "      <td>Linear variable-path acoustic interferometer</td>\n",
       "      <td>not stated</td>\n",
       "      <td>NaN</td>\n",
       "      <td>None</td>\n",
       "      <td>1928</td>\n",
       "    </tr>\n",
       "    <tr>\n",
       "      <th>2</th>\n",
       "      <td>279.65</td>\n",
       "      <td>1458.20</td>\n",
       "      <td>1.45820</td>\n",
       "      <td>None kPa</td>\n",
       "      <td>N/A</td>\n",
       "      <td>2572</td>\n",
       "      <td>[L]</td>\n",
       "      <td>A</td>\n",
       "      <td>Linear variable-path acoustic interferometer</td>\n",
       "      <td>not stated</td>\n",
       "      <td>NaN</td>\n",
       "      <td>None</td>\n",
       "      <td>1928</td>\n",
       "    </tr>\n",
       "    <tr>\n",
       "      <th>3</th>\n",
       "      <td>285.05</td>\n",
       "      <td>1454.00</td>\n",
       "      <td>1.45400</td>\n",
       "      <td>None kPa</td>\n",
       "      <td>N/A</td>\n",
       "      <td>2572</td>\n",
       "      <td>[L]</td>\n",
       "      <td>A</td>\n",
       "      <td>Linear variable-path acoustic interferometer</td>\n",
       "      <td>not stated</td>\n",
       "      <td>NaN</td>\n",
       "      <td>None</td>\n",
       "      <td>1928</td>\n",
       "    </tr>\n",
       "    <tr>\n",
       "      <th>4</th>\n",
       "      <td>285.15</td>\n",
       "      <td>1454.10</td>\n",
       "      <td>1.45410</td>\n",
       "      <td>None kPa</td>\n",
       "      <td>N/A</td>\n",
       "      <td>2572</td>\n",
       "      <td>[L]</td>\n",
       "      <td>A</td>\n",
       "      <td>Linear variable-path acoustic interferometer</td>\n",
       "      <td>not stated</td>\n",
       "      <td>NaN</td>\n",
       "      <td>None</td>\n",
       "      <td>1928</td>\n",
       "    </tr>\n",
       "    <tr>\n",
       "      <th>...</th>\n",
       "      <td>...</td>\n",
       "      <td>...</td>\n",
       "      <td>...</td>\n",
       "      <td>...</td>\n",
       "      <td>...</td>\n",
       "      <td>...</td>\n",
       "      <td>...</td>\n",
       "      <td>...</td>\n",
       "      <td>...</td>\n",
       "      <td>...</td>\n",
       "      <td>...</td>\n",
       "      <td>...</td>\n",
       "      <td>...</td>\n",
       "    </tr>\n",
       "    <tr>\n",
       "      <th>742</th>\n",
       "      <td>1857.70</td>\n",
       "      <td>353.33</td>\n",
       "      <td>1.76665</td>\n",
       "      <td>160000 kPa</td>\n",
       "      <td>N/A</td>\n",
       "      <td>23159</td>\n",
       "      <td>[G]</td>\n",
       "      <td>A</td>\n",
       "      <td>Pulse-echo method</td>\n",
       "      <td>not stated</td>\n",
       "      <td>NaN</td>\n",
       "      <td>None</td>\n",
       "      <td>1995</td>\n",
       "    </tr>\n",
       "    <tr>\n",
       "      <th>743</th>\n",
       "      <td>1865.10</td>\n",
       "      <td>354.18</td>\n",
       "      <td>1.77090</td>\n",
       "      <td>160000 kPa</td>\n",
       "      <td>N/A</td>\n",
       "      <td>23159</td>\n",
       "      <td>[G]</td>\n",
       "      <td>A</td>\n",
       "      <td>Pulse-echo method</td>\n",
       "      <td>not stated</td>\n",
       "      <td>NaN</td>\n",
       "      <td>None</td>\n",
       "      <td>1995</td>\n",
       "    </tr>\n",
       "    <tr>\n",
       "      <th>744</th>\n",
       "      <td>1870.30</td>\n",
       "      <td>355.30</td>\n",
       "      <td>1.77650</td>\n",
       "      <td>160000 kPa</td>\n",
       "      <td>N/A</td>\n",
       "      <td>23159</td>\n",
       "      <td>[G]</td>\n",
       "      <td>A</td>\n",
       "      <td>Pulse-echo method</td>\n",
       "      <td>not stated</td>\n",
       "      <td>NaN</td>\n",
       "      <td>None</td>\n",
       "      <td>1995</td>\n",
       "    </tr>\n",
       "    <tr>\n",
       "      <th>745</th>\n",
       "      <td>1881.60</td>\n",
       "      <td>357.06</td>\n",
       "      <td>1.78530</td>\n",
       "      <td>160000 kPa</td>\n",
       "      <td>N/A</td>\n",
       "      <td>23159</td>\n",
       "      <td>[G]</td>\n",
       "      <td>A</td>\n",
       "      <td>Pulse-echo method</td>\n",
       "      <td>not stated</td>\n",
       "      <td>NaN</td>\n",
       "      <td>None</td>\n",
       "      <td>1995</td>\n",
       "    </tr>\n",
       "    <tr>\n",
       "      <th>746</th>\n",
       "      <td>1898.60</td>\n",
       "      <td>360.25</td>\n",
       "      <td>1.80125</td>\n",
       "      <td>160000 kPa</td>\n",
       "      <td>N/A</td>\n",
       "      <td>23159</td>\n",
       "      <td>[G]</td>\n",
       "      <td>A</td>\n",
       "      <td>Pulse-echo method</td>\n",
       "      <td>not stated</td>\n",
       "      <td>NaN</td>\n",
       "      <td>None</td>\n",
       "      <td>1995</td>\n",
       "    </tr>\n",
       "  </tbody>\n",
       "</table>\n",
       "<p>747 rows × 13 columns</p>\n",
       "</div>"
      ],
      "text/plain": [
       "     Temperature: K  Speed of sound: m/s  Uncertainty    Pressure Ref Temp  \\\n",
       "0            275.05              1460.30      1.46030    None kPa      N/A   \n",
       "1            275.25              1460.50      1.46050    None kPa      N/A   \n",
       "2            279.65              1458.20      1.45820    None kPa      N/A   \n",
       "3            285.05              1454.00      1.45400    None kPa      N/A   \n",
       "4            285.15              1454.10      1.45410    None kPa      N/A   \n",
       "..              ...                  ...          ...         ...      ...   \n",
       "742         1857.70               353.33      1.76665  160000 kPa      N/A   \n",
       "743         1865.10               354.18      1.77090  160000 kPa      N/A   \n",
       "744         1870.30               355.30      1.77650  160000 kPa      N/A   \n",
       "745         1881.60               357.06      1.78530  160000 kPa      N/A   \n",
       "746         1898.60               360.25      1.80125  160000 kPa      N/A   \n",
       "\n",
       "    Data Set ID State Representation  \\\n",
       "0          2572   [L]              A   \n",
       "1          2572   [L]              A   \n",
       "2          2572   [L]              A   \n",
       "3          2572   [L]              A   \n",
       "4          2572   [L]              A   \n",
       "..          ...   ...            ...   \n",
       "742       23159   [G]              A   \n",
       "743       23159   [G]              A   \n",
       "744       23159   [G]              A   \n",
       "745       23159   [G]              A   \n",
       "746       23159   [G]              A   \n",
       "\n",
       "                                           Method Description  Purity  \\\n",
       "0    Linear variable-path acoustic interferometer  not stated     NaN   \n",
       "1    Linear variable-path acoustic interferometer  not stated     NaN   \n",
       "2    Linear variable-path acoustic interferometer  not stated     NaN   \n",
       "3    Linear variable-path acoustic interferometer  not stated     NaN   \n",
       "4    Linear variable-path acoustic interferometer  not stated     NaN   \n",
       "..                                            ...         ...     ...   \n",
       "742                             Pulse-echo method  not stated     NaN   \n",
       "743                             Pulse-echo method  not stated     NaN   \n",
       "744                             Pulse-echo method  not stated     NaN   \n",
       "745                             Pulse-echo method  not stated     NaN   \n",
       "746                             Pulse-echo method  not stated     NaN   \n",
       "\n",
       "    Purity Units  Year  \n",
       "0           None  1928  \n",
       "1           None  1928  \n",
       "2           None  1928  \n",
       "3           None  1928  \n",
       "4           None  1928  \n",
       "..           ...   ...  \n",
       "742         None  1995  \n",
       "743         None  1995  \n",
       "744         None  1995  \n",
       "745         None  1995  \n",
       "746         None  1995  \n",
       "\n",
       "[747 rows x 13 columns]"
      ]
     },
     "execution_count": 12,
     "metadata": {},
     "output_type": "execute_result"
    }
   ],
   "source": [
    "import plotly.express as px\n",
    "import math\n",
    "\n",
    "x = []\n",
    "y = []\n",
    "\n",
    "n = 0\n",
    "for a, b, c in zip(df['Representation'], df['State'], df[f'{y_lab}: {des_un_prop}']):\n",
    "    if (a != rep) and (rep != False): # drops all data points which don't have wanted represenation\n",
    "        df = df.drop(df.index[n], axis = 0)\n",
    "        n -= 1\n",
    "    elif (b != [state]) and (state != False): # drops all points which don't have the wanted state\n",
    "        df = df.drop(df.index[n], axis = 0)\n",
    "        n -= 1\n",
    "    elif math.isnan(c): # drops all data points which have a None value in the property\n",
    "        df = df.drop(df.index[n], axis = 0)\n",
    "        n -= 1\n",
    "    n += 1\n",
    "\n",
    "if show_uncertainty: # plots graph with uncertainty\n",
    "    fig = px.scatter(df, x=f'{x_lab}: {des_un_var}',y=f'{y_lab}: {des_un_prop}', title=str(compound), color='Data Set ID', hover_data=[df['Ref Temp'], df.State, df.Representation, df.Method, df.Description, df.Year], error_y='Uncertainty', height=600)\n",
    "else: # plots graph without uncertainty\n",
    "    fig = px.scatter(df, x=f'{x_lab}: {des_un_var}',y=f'{y_lab}: {des_un_prop}', title=str(compound), color='Data Set ID', hover_data=[df['Ref Temp'], df.State, df.Representation, df.Method, df.Description, df.Year], height=600)\n",
    "\n",
    "fig.show()"
   ]
  },
  {
   "cell_type": "code",
   "execution_count": 8,
   "metadata": {},
   "outputs": [],
   "source": [
    "df.to_csv('-'.join(compound) + '_' + prop + '_test_data.csv', index = False)"
   ]
  }
 ],
 "metadata": {
  "interpreter": {
   "hash": "e68d438c129e781b438c4f8f54f7e7cb2c9a9269dac6c0cf4d133998192d224e"
  },
  "kernelspec": {
   "display_name": "Python 3 (ipykernel)",
   "language": "python",
   "name": "python3"
  },
  "language_info": {
   "codemirror_mode": {
    "name": "ipython",
    "version": 3
   },
   "file_extension": ".py",
   "mimetype": "text/x-python",
   "name": "python",
   "nbconvert_exporter": "python",
   "pygments_lexer": "ipython3",
   "version": "3.9.7"
  }
 },
 "nbformat": 4,
 "nbformat_minor": 2
}
