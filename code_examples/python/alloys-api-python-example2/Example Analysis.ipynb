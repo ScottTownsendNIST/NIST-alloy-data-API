{
 "cells": [
  {
   "cell_type": "code",
   "execution_count": 1,
   "metadata": {},
   "outputs": [],
   "source": [
    "#Initial Example Code is Pasted Below\n",
    "\n",
    "import requests\n",
    "\n",
    "\n",
    "\n",
    "# Define the headers to send to the API URI\n",
    "headers = {\n",
    "    'content-type':'application/x-www-form-urlencoded;',\n",
    "    'Access-Control-Allow-Origin':'*',\n",
    "#    'User-Agent': 'Mozilla/5.0 (X11; Ubuntu; Linux x86_64; rv:27.0) Gecko/20100101 Firefox/27.\n",
    "}\n",
    "\n",
    "#Compound can be a list of strings, be sure to use empirical formula i.e. \"Au\", not \"Gold\"\n",
    "compound = [\"Cu\"]\n",
    "#x-axis variable, use code for in decodre table, not name of the variable i.e. Temperature: \"T\"\n",
    "var = \"T\"\n",
    "#property attempting to measure, use code in decoder table, not name i.e. Electrical Resisitivity: \"ER\"\n",
    "prop = \"ER\"\n",
    "#representation of data, use code in decoder table, i.e. Direct: \"A\", if no representation wanted, use bool False\n",
    "rep = False\n",
    "#state of matter for data, use code in decoder table, i.e. Crystal: \"C\", if all states wanted, use bool False\n",
    "state = False\n",
    "#whether or not you want to show error bars for points on the graph, True to show, False to hide\n",
    "show_uncertainty = True\n",
    "\n",
    "# Define the search data JSON to send to the API URI\n",
    "search_data = {\"property_search_code\":prop}\n",
    "# search_data = {\"author_last_name\":['Wilthan']}\n",
    "\n",
    "#\"exclude_all\":\"True\", \"required_compounds\":compound, \"property_search_code\":\"VDN\"\n",
    "\n",
    "# Define the URL to send the request\n",
    "# Note that this example does require an authentication key to get the data. The one given here is an invalid authkey and will need to be replaced by\n",
    "# a valid authentication key which may be requested free of charge fapi_key = open('C:/Users/bmd4/Desktop/API Work/TRC-Alloys API Key.txt').read()r# om TRCalloy@nist.gov.\n",
    "\n",
    "api_key = open('D:/Bryan/Desktop/NIST/TRC-Alloys API Key.txt').read()\n",
    "# api_key = open('C:/Users/bmd4/Desktop/API Work/TRC-Alloys API Key.txt').read()\n",
    "url = f'http://trcsrv2.boulder.nist.gov/MetalsAlloyAPI/search?authkey={api_key}'\n",
    "# url=f'https://trc.nist.gov/MetalsAlloyAPI/search?authkey={api_key}'"
   ]
  },
  {
   "cell_type": "code",
   "execution_count": 2,
   "metadata": {},
   "outputs": [],
   "source": [
    "import re\n",
    "# Get the compound data from a requests post\n",
    "compound_data_response = requests.post(url, json=search_data, headers=headers)\n",
    "# The compound_data object is a \"response\" object and the actual output JSON is in the\n",
    "# text field of that object. So use compound_data_response.text to use the actual output JSON\n",
    "with open('Test.json', 'w') as fp:\n",
    "    fp.write((re.sub(r'[^\\x00-\\x7f]',r'', compound_data_response.text)))"
   ]
  },
  {
   "cell_type": "code",
   "execution_count": 3,
   "metadata": {},
   "outputs": [],
   "source": [
    "import json\n",
    "\n",
    "with open('Test.json') as json_file:\n",
    "    data = json.load(json_file)\n",
    "\n",
    "with open('decoder_table.json') as json_file:\n",
    "    decoder_table = json.load(json_file)"
   ]
  },
  {
   "cell_type": "code",
   "execution_count": 4,
   "metadata": {},
   "outputs": [
    {
     "name": "stdout",
     "output_type": "stream",
     "text": [
      "[7671]\n"
     ]
    }
   ],
   "source": [
    "from collections import Counter\n",
    "element_ids = []\n",
    "for a in data['TRC_data']:\n",
    "    for b in a['compounds']:\n",
    "        for c in compound:\n",
    "            if b['formula_hill'] == c:\n",
    "                c = [b['compound_id']]\n",
    "                if c[0] not in element_ids:\n",
    "                    element_ids.append(c[0])\n",
    "print(element_ids)"
   ]
  },
  {
   "cell_type": "code",
   "execution_count": 5,
   "metadata": {},
   "outputs": [],
   "source": [
    "x_lab = decoder_table['PRP'][var]\n",
    "y_lab = decoder_table['PRP'][prop]"
   ]
  },
  {
   "cell_type": "code",
   "execution_count": 6,
   "metadata": {},
   "outputs": [
    {
     "name": "stdout",
     "output_type": "stream",
     "text": [
      "6386\n",
      "6899\n",
      "6899\n",
      "6899\n",
      "6899\n",
      "6899\n",
      "6899\n",
      "6899\n",
      "7122\n",
      "7122\n",
      "7122\n",
      "7122\n",
      "7122\n",
      "7122\n",
      "7122\n",
      "9804\n",
      "80 140 199 360 212\n"
     ]
    }
   ],
   "source": [
    "import pandas as pd\n",
    "import itertools\n",
    "temp_x = \"N/A\"\n",
    "temp_y = \"N/A\"\n",
    "state_dict = {}\n",
    "dataset = []\n",
    "num1 = 0\n",
    "num2 = 0\n",
    "num3 = 0\n",
    "num4 = 0\n",
    "num5 = 0\n",
    "\n",
    "for a in data['TRC_data']:\n",
    "    for b in a['systems']:\n",
    "        try:\n",
    "            if (Counter(b['compound_ids']) == Counter(element_ids)) or (compound == False):\n",
    "                num3 += 1\n",
    "                for p in b['phases']:\n",
    "                    state_dict[p['phase_id']] = p['type']\n",
    "                for c in b['data_sets']:\n",
    "                    num5 += 1\n",
    "                    x_axt = []\n",
    "                    y_axt = []\n",
    "                    stat_id = []\n",
    "                    y_unc = []\n",
    "                    add_data = False\n",
    "                    method = \"\"\n",
    "                    for s in c['states']:\n",
    "                        stat_id.append(state_dict[s['phase_id']])\n",
    "                    for v in c['variables']:\n",
    "                        if v['variable_name'] == prop:\n",
    "                            num1 += 1\n",
    "                            temp_y = v['variable_id']\n",
    "                            rep_u = v['representation']\n",
    "                            if f\"'{v['units']}':\" in str(decoder_table['UnitsSpecial']):\n",
    "                                y_un = decoder_table['UnitsSpecial'][v['units']]\n",
    "                            else:\n",
    "                                y_un = v['units']\n",
    "                            if 'method' in str(v):\n",
    "                                if str(v['method']).upper() in str(decoder_table['Method']):\n",
    "                                    method = decoder_table['Method'][v['method'].upper()]\n",
    "                                else:\n",
    "                                    method = v['method']\n",
    "                            else:\n",
    "                                method = \"\"\n",
    "                                print(f\"NO METHOD LISTED: {c['data_set_id']}\")\n",
    "                        if v['variable_name'] == var:\n",
    "                            num2 += 1\n",
    "                            temp_x = v['variable_id']\n",
    "                            if f\"'{v['units']}':\" in str(decoder_table['UnitsSpecial']):\n",
    "                                x_un = decoder_table['UnitsSpecial'][v['units']]\n",
    "                            else:\n",
    "                                x_un = v['units']\n",
    "                    for d in c['data']: # goes through data tables and eventially data values\n",
    "                        if (f\"'variable_id': {temp_x}\" in str(c['data'])) and (f\"'variable_id': {temp_y}\" in str(c['data'])): # only enters if both property and variable are compatible\n",
    "                            if d['variable_id'] == temp_y:\n",
    "                                for e in d['data_values']:\n",
    "                                    if e['value'] == None:\n",
    "                                        y_axt.append(None)\n",
    "                                        y_unc.append(None)\n",
    "                                    else:\n",
    "                                        if \"'uncertainty':\" in str(e): # adds the uncertainty value for use in the data framework\n",
    "                                            y_axt.append(e['value'])\n",
    "                                            y_unc.append(e['uncertainty'])\n",
    "                                        else:\n",
    "                                            y_axt.append(e['value'])\n",
    "                                            y_unc.append(None)\n",
    "                                            if (type(e['value']) == int or type(e['value']) == float):\n",
    "                                                print(f\"NO UNCERTAINTY LISTED: {c['data_set_id']}\")\n",
    "                            if d['variable_id'] == temp_x:\n",
    "                                for f in d['data_values']:\n",
    "                                    x_axt.append(f['value'])\n",
    "                            add_data = True\n",
    "                            num4 += 1\n",
    "                    if add_data == True:\n",
    "                        for i,j,k in itertools.zip_longest(x_axt,y_axt,y_unc):\n",
    "                            if i == None:\n",
    "                                i = x_axt[0]\n",
    "                            dataset.append({\n",
    "                                f'{x_lab}: {x_un}': i,\n",
    "                                f'{y_lab}: {y_un}': j,\n",
    "                                'Uncertainty': k,\n",
    "                                'Data Set ID': str(c['data_set_id']),\n",
    "                                'State': stat_id,\n",
    "                                'Representation': rep_u,\n",
    "                                'Method': method,\n",
    "                                'Year': a['citation']['year']\n",
    "                            })\n",
    "        except KeyError:\n",
    "            print(a['citation']['citation_id'])\n",
    "\n",
    "print(num3, num1, num2, num4, num5)\n",
    "df = pd.DataFrame(dataset)"
   ]
  },
  {
   "cell_type": "code",
   "execution_count": 7,
   "metadata": {},
   "outputs": [
    {
     "data": {
      "application/vnd.plotly.v1+json": {
       "config": {
        "plotlyServerURL": "https://plot.ly"
       },
       "data": [
        {
         "customdata": [
          [
           [
            "C"
           ],
           "A",
           "DC potentiometric method",
           1908
          ],
          [
           [
            "C"
           ],
           "A",
           "DC potentiometric method",
           1908
          ],
          [
           [
            "C"
           ],
           "A",
           "DC potentiometric method",
           1908
          ],
          [
           [
            "C"
           ],
           "A",
           "DC potentiometric method",
           1908
          ],
          [
           [
            "C"
           ],
           "A",
           "DC potentiometric method",
           1908
          ],
          [
           [
            "C"
           ],
           "A",
           "DC potentiometric method",
           1908
          ],
          [
           [
            "C"
           ],
           "A",
           "DC potentiometric method",
           1908
          ],
          [
           [
            "C"
           ],
           "A",
           "DC potentiometric method",
           1908
          ],
          [
           [
            "C"
           ],
           "A",
           "DC potentiometric method",
           1908
          ],
          [
           [
            "C"
           ],
           "A",
           "DC potentiometric method",
           1908
          ],
          [
           [
            "C"
           ],
           "A",
           "DC potentiometric method",
           1908
          ],
          [
           [
            "C"
           ],
           "A",
           "DC potentiometric method",
           1908
          ],
          [
           [
            "C"
           ],
           "A",
           "DC potentiometric method",
           1908
          ],
          [
           [
            "C"
           ],
           "A",
           "DC potentiometric method",
           1908
          ],
          [
           [
            "C"
           ],
           "A",
           "DC potentiometric method",
           1908
          ],
          [
           [
            "C"
           ],
           "A",
           "DC potentiometric method",
           1908
          ],
          [
           [
            "C"
           ],
           "A",
           "DC potentiometric method",
           1908
          ],
          [
           [
            "C"
           ],
           "A",
           "DC potentiometric method",
           1908
          ],
          [
           [
            "C"
           ],
           "A",
           "DC potentiometric method",
           1908
          ],
          [
           [
            "C"
           ],
           "A",
           "DC potentiometric method",
           1908
          ],
          [
           [
            "C"
           ],
           "A",
           "DC potentiometric method",
           1908
          ],
          [
           [
            "C"
           ],
           "A",
           "DC potentiometric method",
           1908
          ],
          [
           [
            "C"
           ],
           "A",
           "DC potentiometric method",
           1908
          ],
          [
           [
            "C"
           ],
           "A",
           "DC potentiometric method",
           1908
          ]
         ],
         "error_y": {
          "array": [
           null,
           null,
           null,
           null,
           null,
           null,
           null,
           null,
           null,
           null,
           null,
           null,
           null,
           null,
           null,
           null,
           null,
           null,
           null,
           null,
           null,
           null,
           null,
           null
          ]
         },
         "hovertemplate": "Data Set ID=451<br>Temperature: kg/cm**2=%{x}<br>Electrical resistivity: ohm*m=%{y}<br>State=%{customdata[0]}<br>Representation=%{customdata[1]}<br>Method=%{customdata[2]}<br>Year=%{customdata[3]}<extra></extra>",
         "legendgroup": "451",
         "marker": {
          "color": "#636efa",
          "symbol": "circle"
         },
         "mode": "markers",
         "name": "451",
         "showlegend": true,
         "type": "scattergl",
         "x": [
          96.35,
          97.45,
          99.25,
          100.15,
          100.45,
          102.05,
          114.15,
          117.95,
          121.95,
          129.25,
          131.55,
          136.25,
          139.75,
          142.85,
          168.15,
          171.15,
          176.15,
          182.05,
          237.15,
          240.45,
          256.15,
          257.65,
          290.05,
          290.05
         ],
         "xaxis": "x",
         "y": [
          3.75e-9,
          3.75e-9,
          3.84e-9,
          3.94e-9,
          3.98e-9,
          4.01e-9,
          4.84e-9,
          5.08e-9,
          5.43e-9,
          5.79e-9,
          6.12e-9,
          6.37e-9,
          6.77e-9,
          7.07e-9,
          8.84e-9,
          9.09e-9,
          9.36e-9,
          9.89e-9,
          1.365e-8,
          1.388e-8,
          1.502e-8,
          1.506e-8,
          1.753e-8,
          1.75e-8
         ],
         "yaxis": "y"
        },
        {
         "customdata": [
          [
           [
            "C"
           ],
           "RFR",
           "Modified Kohlrausch method",
           1914
          ]
         ],
         "error_y": {
          "array": [
           0.000026
          ]
         },
         "hovertemplate": "Data Set ID=926<br>Temperature: kg/cm**2=%{x}<br>Electrical resistivity: ohm*m=%{y}<br>State=%{customdata[0]}<br>Representation=%{customdata[1]}<br>Method=%{customdata[2]}<br>Year=%{customdata[3]}<extra></extra>",
         "legendgroup": "926",
         "marker": {
          "color": "#EF553B",
          "symbol": "circle"
         },
         "mode": "markers",
         "name": "926",
         "showlegend": true,
         "type": "scattergl",
         "x": [
          20.7
         ],
         "xaxis": "x",
         "y": [
          0.0026
         ],
         "yaxis": "y"
        },
        {
         "customdata": [
          [
           [
            "C"
           ],
           "A",
           "DC potentiometric method",
           1915
          ],
          [
           [
            "C"
           ],
           "A",
           "DC potentiometric method",
           1915
          ]
         ],
         "error_y": {
          "array": [
           1.552e-10,
           1.673e-10
          ]
         },
         "hovertemplate": "Data Set ID=1008<br>Temperature: kg/cm**2=%{x}<br>Electrical resistivity: ohm*m=%{y}<br>State=%{customdata[0]}<br>Representation=%{customdata[1]}<br>Method=%{customdata[2]}<br>Year=%{customdata[3]}<extra></extra>",
         "legendgroup": "1008",
         "marker": {
          "color": "#00cc96",
          "symbol": "circle"
         },
         "mode": "markers",
         "name": "1008",
         "showlegend": true,
         "type": "scattergl",
         "x": [
          273.15,
          291.15
         ],
         "xaxis": "x",
         "y": [
          1.552e-8,
          1.673e-8
         ],
         "yaxis": "y"
        },
        {
         "customdata": [
          [
           [
            "C"
           ],
           "A",
           "DC potentiometric method",
           1915
          ],
          [
           [
            "C"
           ],
           "A",
           "DC potentiometric method",
           1915
          ]
         ],
         "error_y": {
          "array": [
           1.59e-10,
           1.712e-10
          ]
         },
         "hovertemplate": "Data Set ID=1010<br>Temperature: kg/cm**2=%{x}<br>Electrical resistivity: ohm*m=%{y}<br>State=%{customdata[0]}<br>Representation=%{customdata[1]}<br>Method=%{customdata[2]}<br>Year=%{customdata[3]}<extra></extra>",
         "legendgroup": "1010",
         "marker": {
          "color": "#ab63fa",
          "symbol": "circle"
         },
         "mode": "markers",
         "name": "1010",
         "showlegend": true,
         "type": "scattergl",
         "x": [
          273.15,
          291.15
         ],
         "xaxis": "x",
         "y": [
          1.59e-8,
          1.712e-8
         ],
         "yaxis": "y"
        },
        {
         "customdata": [
          [
           [
            "C"
           ],
           "A",
           "DC potentiometric method",
           1927
          ],
          [
           [
            "C"
           ],
           "A",
           "DC potentiometric method",
           1927
          ],
          [
           [
            "C"
           ],
           "A",
           "DC potentiometric method",
           1927
          ],
          [
           [
            "C"
           ],
           "A",
           "DC potentiometric method",
           1927
          ],
          [
           [
            "C"
           ],
           "A",
           "DC potentiometric method",
           1927
          ],
          [
           [
            "C"
           ],
           "A",
           "DC potentiometric method",
           1927
          ],
          [
           [
            "C"
           ],
           "A",
           "DC potentiometric method",
           1927
          ],
          [
           [
            "C"
           ],
           "A",
           "DC potentiometric method",
           1927
          ],
          [
           [
            "C"
           ],
           "A",
           "DC potentiometric method",
           1927
          ],
          [
           [
            "C"
           ],
           "A",
           "DC potentiometric method",
           1927
          ],
          [
           [
            "C"
           ],
           "A",
           "DC potentiometric method",
           1927
          ],
          [
           [
            "C"
           ],
           "A",
           "DC potentiometric method",
           1927
          ]
         ],
         "error_y": {
          "array": [
           1.56e-10,
           2.34e-11,
           1.43e-13,
           1.56e-10,
           2.34e-11,
           1.43e-13,
           1.576e-10,
           2.57e-11,
           1.44e-12,
           1.56e-10,
           2.35e-11,
           1.87e-13
          ]
         },
         "hovertemplate": "Data Set ID=2127<br>Temperature: kg/cm**2=%{x}<br>Electrical resistivity: ohm*m=%{y}<br>State=%{customdata[0]}<br>Representation=%{customdata[1]}<br>Method=%{customdata[2]}<br>Year=%{customdata[3]}<extra></extra>",
         "legendgroup": "2127",
         "marker": {
          "color": "#FFA15A",
          "symbol": "circle"
         },
         "mode": "markers",
         "name": "2127",
         "showlegend": true,
         "type": "scattergl",
         "x": [
          273.2,
          83.2,
          21.2,
          273.2,
          83.2,
          21.2,
          273.2,
          83.2,
          21.2,
          273.2,
          83.2,
          21.2
         ],
         "xaxis": "x",
         "y": [
          1.56e-8,
          2.34e-9,
          1.43e-11,
          1.56e-8,
          2.34e-9,
          1.43e-11,
          1.576e-8,
          2.57e-9,
          1.44e-10,
          1.56e-8,
          2.35e-9,
          1.87e-11
         ],
         "yaxis": "y"
        },
        {
         "customdata": [
          [
           [
            "C"
           ],
           "A",
           "DC potentiometric method",
           1927
          ],
          [
           [
            "C"
           ],
           "A",
           "DC potentiometric method",
           1927
          ],
          [
           [
            "C"
           ],
           "A",
           "DC potentiometric method",
           1927
          ]
         ],
         "error_y": {
          "array": [
           1.552e-10,
           2.39e-11,
           4.24e-13
          ]
         },
         "hovertemplate": "Data Set ID=2128<br>Temperature: kg/cm**2=%{x}<br>Electrical resistivity: ohm*m=%{y}<br>State=%{customdata[0]}<br>Representation=%{customdata[1]}<br>Method=%{customdata[2]}<br>Year=%{customdata[3]}<extra></extra>",
         "legendgroup": "2128",
         "marker": {
          "color": "#19d3f3",
          "symbol": "circle"
         },
         "mode": "markers",
         "name": "2128",
         "showlegend": true,
         "type": "scattergl",
         "x": [
          273.2,
          83.2,
          21.2
         ],
         "xaxis": "x",
         "y": [
          1.552e-8,
          2.39e-9,
          4.24e-11
         ],
         "yaxis": "y"
        },
        {
         "customdata": [
          [
           [
            "C"
           ],
           "A",
           "DC potentiometric method",
           1927
          ],
          [
           [
            "C"
           ],
           "A",
           "DC potentiometric method",
           1927
          ],
          [
           [
            "C"
           ],
           "A",
           "DC potentiometric method",
           1927
          ],
          [
           [
            "C"
           ],
           "A",
           "DC potentiometric method",
           1927
          ],
          [
           [
            "C"
           ],
           "A",
           "DC potentiometric method",
           1927
          ],
          [
           [
            "C"
           ],
           "A",
           "DC potentiometric method",
           1927
          ],
          [
           [
            "C"
           ],
           "A",
           "DC potentiometric method",
           1927
          ],
          [
           [
            "C"
           ],
           "A",
           "DC potentiometric method",
           1927
          ],
          [
           [
            "C"
           ],
           "A",
           "DC potentiometric method",
           1927
          ]
         ],
         "error_y": {
          "array": [
           1.56e-10,
           2.4e-11,
           4.99e-13,
           1.56e-10,
           2.4e-11,
           4.06e-13,
           1.6e-10,
           2.46e-11,
           5.65e-13
          ]
         },
         "hovertemplate": "Data Set ID=2129<br>Temperature: kg/cm**2=%{x}<br>Electrical resistivity: ohm*m=%{y}<br>State=%{customdata[0]}<br>Representation=%{customdata[1]}<br>Method=%{customdata[2]}<br>Year=%{customdata[3]}<extra></extra>",
         "legendgroup": "2129",
         "marker": {
          "color": "#FF6692",
          "symbol": "circle"
         },
         "mode": "markers",
         "name": "2129",
         "showlegend": true,
         "type": "scattergl",
         "x": [
          273.2,
          83.2,
          21.2,
          273.2,
          83.2,
          21.2,
          273.2,
          83.2,
          21.2
         ],
         "xaxis": "x",
         "y": [
          1.56e-8,
          2.4e-9,
          4.99e-11,
          1.56e-8,
          2.4e-9,
          4.06e-11,
          1.6e-8,
          2.46e-9,
          5.65e-11
         ],
         "yaxis": "y"
        },
        {
         "customdata": [
          [
           [
            "C"
           ],
           "A",
           "DC potentiometric method",
           1927
          ],
          [
           [
            "C"
           ],
           "A",
           "DC potentiometric method",
           1927
          ],
          [
           [
            "C"
           ],
           "A",
           "DC potentiometric method",
           1927
          ],
          [
           [
            "C"
           ],
           "A",
           "DC potentiometric method",
           1927
          ],
          [
           [
            "C"
           ],
           "A",
           "DC potentiometric method",
           1927
          ],
          [
           [
            "C"
           ],
           "A",
           "DC potentiometric method",
           1927
          ],
          [
           [
            "C"
           ],
           "A",
           "DC potentiometric method",
           1927
          ],
          [
           [
            "C"
           ],
           "A",
           "DC potentiometric method",
           1927
          ],
          [
           [
            "C"
           ],
           "A",
           "DC potentiometric method",
           1927
          ],
          [
           [
            "C"
           ],
           "A",
           "DC potentiometric method",
           1927
          ],
          [
           [
            "C"
           ],
           "A",
           "DC potentiometric method",
           1927
          ],
          [
           [
            "C"
           ],
           "A",
           "DC potentiometric method",
           1927
          ],
          [
           [
            "C"
           ],
           "A",
           "DC potentiometric method",
           1927
          ],
          [
           [
            "C"
           ],
           "A",
           "DC potentiometric method",
           1927
          ],
          [
           [
            "C"
           ],
           "A",
           "DC potentiometric method",
           1927
          ],
          [
           [
            "C"
           ],
           "A",
           "DC potentiometric method",
           1927
          ],
          [
           [
            "C"
           ],
           "A",
           "DC potentiometric method",
           1927
          ],
          [
           [
            "C"
           ],
           "A",
           "DC potentiometric method",
           1927
          ],
          [
           [
            "C"
           ],
           "A",
           "DC potentiometric method",
           1927
          ],
          [
           [
            "C"
           ],
           "A",
           "DC potentiometric method",
           1927
          ],
          [
           [
            "C"
           ],
           "A",
           "DC potentiometric method",
           1927
          ]
         ],
         "error_y": {
          "array": [
           1.59e-10,
           2.59e-11,
           2.01e-12,
           1.58e-10,
           2.49e-11,
           1.356e-12,
           1.57e-10,
           2.47e-11,
           1.24e-12,
           1.585e-10,
           2.57e-11,
           1.83e-12,
           1.59e-10,
           2.59e-11,
           2e-12,
           1.58e-10,
           2.48e-11,
           1.334e-12,
           1.615e-10,
           2.76e-11,
           3.78e-12
          ]
         },
         "hovertemplate": "Data Set ID=2130<br>Temperature: kg/cm**2=%{x}<br>Electrical resistivity: ohm*m=%{y}<br>State=%{customdata[0]}<br>Representation=%{customdata[1]}<br>Method=%{customdata[2]}<br>Year=%{customdata[3]}<extra></extra>",
         "legendgroup": "2130",
         "marker": {
          "color": "#B6E880",
          "symbol": "circle"
         },
         "mode": "markers",
         "name": "2130",
         "showlegend": true,
         "type": "scattergl",
         "x": [
          273.2,
          83.2,
          21.2,
          273.2,
          83.2,
          21.2,
          273.2,
          83.2,
          21.2,
          273.2,
          83.2,
          21.2,
          273.2,
          83.2,
          21.2,
          273.2,
          83.2,
          21.2,
          273.2,
          83.2,
          21.2
         ],
         "xaxis": "x",
         "y": [
          1.59e-8,
          2.59e-9,
          2.01e-10,
          1.58e-8,
          2.49e-9,
          1.356e-10,
          1.57e-8,
          2.47e-9,
          1.24e-10,
          1.585e-8,
          2.57e-9,
          1.83e-10,
          1.59e-8,
          2.59e-9,
          2e-10,
          1.58e-8,
          2.48e-9,
          1.334e-10,
          1.615e-8,
          2.76e-9,
          3.78e-10
         ],
         "yaxis": "y"
        },
        {
         "customdata": [
          [
           [
            "C"
           ],
           "A",
           "DC potentiometric method",
           1928
          ]
         ],
         "error_y": {
          "array": [
           7.875e-11
          ]
         },
         "hovertemplate": "Data Set ID=2383<br>Temperature: kg/cm**2=%{x}<br>Electrical resistivity: ohm*m=%{y}<br>State=%{customdata[0]}<br>Representation=%{customdata[1]}<br>Method=%{customdata[2]}<br>Year=%{customdata[3]}<extra></extra>",
         "legendgroup": "2383",
         "marker": {
          "color": "#FF97FF",
          "symbol": "circle"
         },
         "mode": "markers",
         "name": "2383",
         "showlegend": true,
         "type": "scattergl",
         "x": [
          279.673
         ],
         "xaxis": "x",
         "y": [
          1.575e-8
         ],
         "yaxis": "y"
        },
        {
         "customdata": [
          [
           [
            "C",
            "C"
           ],
           "RRS",
           "DC potentiometric method",
           1928
          ]
         ],
         "error_y": {
          "array": [
           0.005002
          ]
         },
         "hovertemplate": "Data Set ID=2384<br>Temperature: kg/cm**2=%{x}<br>Electrical resistivity: ohm*m=%{y}<br>State=%{customdata[0]}<br>Representation=%{customdata[1]}<br>Method=%{customdata[2]}<br>Year=%{customdata[3]}<extra></extra>",
         "legendgroup": "2384",
         "marker": {
          "color": "#FECB52",
          "symbol": "circle"
         },
         "mode": "markers",
         "name": "2384",
         "showlegend": true,
         "type": "scattergl",
         "x": [
          279.673
         ],
         "xaxis": "x",
         "y": [
          1.0004
         ],
         "yaxis": "y"
        },
        {
         "customdata": [
          [
           [
            "C",
            "C"
           ],
           "RRS",
           "DC potentiometric method",
           1928
          ]
         ],
         "error_y": {
          "array": [
           0.005
          ]
         },
         "hovertemplate": "Data Set ID=2385<br>Temperature: kg/cm**2=%{x}<br>Electrical resistivity: ohm*m=%{y}<br>State=%{customdata[0]}<br>Representation=%{customdata[1]}<br>Method=%{customdata[2]}<br>Year=%{customdata[3]}<extra></extra>",
         "legendgroup": "2385",
         "marker": {
          "color": "#636efa",
          "symbol": "circle"
         },
         "mode": "markers",
         "name": "2385",
         "showlegend": true,
         "type": "scattergl",
         "x": [
          279.673
         ],
         "xaxis": "x",
         "y": [
          1
         ],
         "yaxis": "y"
        },
        {
         "customdata": [
          [
           [
            "C"
           ],
           "RFR",
           "DC potentiometric method",
           1930
          ],
          [
           [
            "C"
           ],
           "RFR",
           "DC potentiometric method",
           1930
          ],
          [
           [
            "C"
           ],
           "RFR",
           "DC potentiometric method",
           1930
          ],
          [
           [
            "C"
           ],
           "RFR",
           "DC potentiometric method",
           1930
          ],
          [
           [
            "C"
           ],
           "RFR",
           "DC potentiometric method",
           1930
          ],
          [
           [
            "C"
           ],
           "RFR",
           "DC potentiometric method",
           1930
          ]
         ],
         "error_y": {
          "array": [
           0.002,
           0.000288,
           0.00000156,
           5.8e-7,
           5.6e-7,
           5.8e-7
          ]
         },
         "hovertemplate": "Data Set ID=2800<br>Temperature: kg/cm**2=%{x}<br>Electrical resistivity: ohm*m=%{y}<br>State=%{customdata[0]}<br>Representation=%{customdata[1]}<br>Method=%{customdata[2]}<br>Year=%{customdata[3]}<extra></extra>",
         "legendgroup": "2800",
         "marker": {
          "color": "#EF553B",
          "symbol": "circle"
         },
         "mode": "markers",
         "name": "2800",
         "showlegend": true,
         "type": "scattergl",
         "x": [
          546.31,
          354.77,
          293.57,
          277.35,
          275.12,
          274.47
         ],
         "xaxis": "x",
         "y": [
          1,
          0.144,
          0.00078,
          0.00029,
          0.00028,
          0.00029
         ],
         "yaxis": "y"
        },
        {
         "customdata": [
          [
           [
            "C"
           ],
           "A",
           "Not Stated",
           1931
          ],
          [
           [
            "C"
           ],
           "A",
           "Not Stated",
           1931
          ],
          [
           [
            "C"
           ],
           "A",
           "Not Stated",
           1931
          ],
          [
           [
            "C"
           ],
           "A",
           "Not Stated",
           1931
          ],
          [
           [
            "C"
           ],
           "A",
           "Not Stated",
           1931
          ],
          [
           [
            "C"
           ],
           "A",
           "Not Stated",
           1931
          ],
          [
           [
            "C"
           ],
           "A",
           "Not Stated",
           1931
          ],
          [
           [
            "C"
           ],
           "A",
           "Not Stated",
           1931
          ],
          [
           [
            "C"
           ],
           "A",
           "Not Stated",
           1931
          ],
          [
           [
            "C"
           ],
           "A",
           "Not Stated",
           1931
          ],
          [
           [
            "C"
           ],
           "A",
           "Not Stated",
           1931
          ],
          [
           [
            "C"
           ],
           "A",
           "Not Stated",
           1931
          ],
          [
           [
            "C"
           ],
           "A",
           "Not Stated",
           1931
          ],
          [
           [
            "C"
           ],
           "A",
           "Not Stated",
           1931
          ],
          [
           [
            "C"
           ],
           "A",
           "Not Stated",
           1931
          ],
          [
           [
            "C"
           ],
           "A",
           "Not Stated",
           1931
          ],
          [
           [
            "C"
           ],
           "A",
           "Not Stated",
           1931
          ],
          [
           [
            "C"
           ],
           "A",
           "Not Stated",
           1931
          ],
          [
           [
            "C"
           ],
           "A",
           "Not Stated",
           1931
          ],
          [
           [
            "C"
           ],
           "A",
           "Not Stated",
           1931
          ],
          [
           [
            "C"
           ],
           "A",
           "Not Stated",
           1931
          ],
          [
           [
            "C"
           ],
           "A",
           "Not Stated",
           1931
          ],
          [
           [
            "C"
           ],
           "A",
           "Not Stated",
           1931
          ],
          [
           [
            "C"
           ],
           "A",
           "Not Stated",
           1931
          ],
          [
           [
            "C"
           ],
           "A",
           "Not Stated",
           1931
          ],
          [
           [
            "C"
           ],
           "A",
           "Not Stated",
           1931
          ],
          [
           [
            "C"
           ],
           "A",
           "Not Stated",
           1931
          ]
         ],
         "error_y": {
          "array": [
           7.08e-10,
           8.36e-10,
           8.88e-10,
           9.48e-10,
           1.016e-9,
           1.096e-9,
           1.164e-9,
           1.212e-9,
           1.288e-9,
           1.352e-9,
           1.444e-9,
           1.508e-9,
           1.58e-9,
           1.676e-9,
           1.74e-9,
           1.82e-9,
           1.912e-9,
           1.992e-9,
           2.064e-9,
           2.156e-9,
           2.236e-9,
           2.304e-9,
           6.92e-10,
           1.108e-9,
           1.38e-9,
           1.708e-9,
           2.012e-9
          ]
         },
         "hovertemplate": "Data Set ID=3005<br>Temperature: kg/cm**2=%{x}<br>Electrical resistivity: ohm*m=%{y}<br>State=%{customdata[0]}<br>Representation=%{customdata[1]}<br>Method=%{customdata[2]}<br>Year=%{customdata[3]}<extra></extra>",
         "legendgroup": "3005",
         "marker": {
          "color": "#00cc96",
          "symbol": "circle"
         },
         "mode": "markers",
         "name": "3005",
         "showlegend": true,
         "type": "scattergl",
         "x": [
          293.15,
          373.15,
          398.15,
          423.15,
          448.15,
          473.15,
          498.15,
          523.15,
          548.15,
          573.15,
          598.15,
          623.15,
          648.15,
          673.15,
          698.15,
          723.15,
          748.15,
          773.15,
          798.15,
          823.15,
          848.15,
          873.15,
          293.15,
          473.15,
          573.15,
          673.15,
          773.15
         ],
         "xaxis": "x",
         "y": [
          1.77e-8,
          2.09e-8,
          2.22e-8,
          2.37e-8,
          2.54e-8,
          2.74e-8,
          2.91e-8,
          3.03e-8,
          3.22e-8,
          3.38e-8,
          3.61e-8,
          3.77e-8,
          3.95e-8,
          4.19e-8,
          4.35e-8,
          4.55e-8,
          4.78e-8,
          4.98e-8,
          5.16e-8,
          5.39e-8,
          5.59e-8,
          5.76e-8,
          1.73e-8,
          2.77e-8,
          3.45e-8,
          4.27e-8,
          5.03e-8
         ],
         "yaxis": "y"
        },
        {
         "customdata": [
          [
           [
            "C"
           ],
           "A",
           "rotating magnetic field",
           1932
          ],
          [
           [
            "C"
           ],
           "A",
           "rotating magnetic field",
           1932
          ],
          [
           [
            "C"
           ],
           "A",
           "rotating magnetic field",
           1932
          ],
          [
           [
            "C"
           ],
           "A",
           "rotating magnetic field",
           1932
          ],
          [
           [
            "C"
           ],
           "A",
           "rotating magnetic field",
           1932
          ],
          [
           [
            "C"
           ],
           "A",
           "rotating magnetic field",
           1932
          ],
          [
           [
            "C"
           ],
           "A",
           "rotating magnetic field",
           1932
          ],
          [
           [
            "C"
           ],
           "A",
           "rotating magnetic field",
           1932
          ],
          [
           [
            "C"
           ],
           "A",
           "rotating magnetic field",
           1932
          ],
          [
           [
            "C"
           ],
           "A",
           "rotating magnetic field",
           1932
          ],
          [
           [
            "C"
           ],
           "A",
           "rotating magnetic field",
           1932
          ]
         ],
         "error_y": {
          "array": [
           7.74e-12,
           9.205e-12,
           1.071e-11,
           1.192e-11,
           1.337e-11,
           1.479e-11,
           1.657e-11,
           1.7665e-11,
           1.875e-11,
           1.9855e-11,
           7.6e-12
          ]
         },
         "hovertemplate": "Data Set ID=3094<br>Temperature: kg/cm**2=%{x}<br>Electrical resistivity: ohm*m=%{y}<br>State=%{customdata[0]}<br>Representation=%{customdata[1]}<br>Method=%{customdata[2]}<br>Year=%{customdata[3]}<extra></extra>",
         "legendgroup": "3094",
         "marker": {
          "color": "#ab63fa",
          "symbol": "circle"
         },
         "mode": "markers",
         "name": "3094",
         "showlegend": true,
         "type": "scattergl",
         "x": [
          294.15,
          344.65,
          393.15,
          435.15,
          484.65,
          533.15,
          586.15,
          625.65,
          663.15,
          700.65,
          291.15
         ],
         "xaxis": "x",
         "y": [
          1.548e-9,
          1.841e-9,
          2.142e-9,
          2.384e-9,
          2.674e-9,
          2.958e-9,
          3.314e-9,
          3.533e-9,
          3.75e-9,
          3.971e-9,
          1.52e-9
         ],
         "yaxis": "y"
        },
        {
         "customdata": [
          [
           [
            "C"
           ],
           "A",
           "Four point probe",
           1932
          ]
         ],
         "error_y": {
          "array": [
           1.7e-10
          ]
         },
         "hovertemplate": "Data Set ID=3188<br>Temperature: kg/cm**2=%{x}<br>Electrical resistivity: ohm*m=%{y}<br>State=%{customdata[0]}<br>Representation=%{customdata[1]}<br>Method=%{customdata[2]}<br>Year=%{customdata[3]}<extra></extra>",
         "legendgroup": "3188",
         "marker": {
          "color": "#FFA15A",
          "symbol": "circle"
         },
         "mode": "markers",
         "name": "3188",
         "showlegend": true,
         "type": "scattergl",
         "x": [
          291.15
         ],
         "xaxis": "x",
         "y": [
          1.7e-8
         ],
         "yaxis": "y"
        },
        {
         "customdata": [
          [
           [
            "C"
           ],
           "A",
           "Voltmeter and ammeter direct reading method",
           1934
          ]
         ],
         "error_y": {
          "array": [
           1.56e-10
          ]
         },
         "hovertemplate": "Data Set ID=3457<br>Temperature: kg/cm**2=%{x}<br>Electrical resistivity: ohm*m=%{y}<br>State=%{customdata[0]}<br>Representation=%{customdata[1]}<br>Method=%{customdata[2]}<br>Year=%{customdata[3]}<extra></extra>",
         "legendgroup": "3457",
         "marker": {
          "color": "#19d3f3",
          "symbol": "circle"
         },
         "mode": "markers",
         "name": "3457",
         "showlegend": true,
         "type": "scattergl",
         "x": [
          273.15
         ],
         "xaxis": "x",
         "y": [
          1.56e-8
         ],
         "yaxis": "y"
        },
        {
         "customdata": [
          [
           [
            "C"
           ],
           "A",
           "Voltmeter and ammeter direct reading method",
           1934
          ],
          [
           [
            "C"
           ],
           "A",
           "Voltmeter and ammeter direct reading method",
           1934
          ]
         ],
         "error_y": {
          "array": [
           2.35e-11,
           2.17e-13
          ]
         },
         "hovertemplate": "Data Set ID=3458<br>Temperature: kg/cm**2=%{x}<br>Electrical resistivity: ohm*m=%{y}<br>State=%{customdata[0]}<br>Representation=%{customdata[1]}<br>Method=%{customdata[2]}<br>Year=%{customdata[3]}<extra></extra>",
         "legendgroup": "3458",
         "marker": {
          "color": "#FF6692",
          "symbol": "circle"
         },
         "mode": "markers",
         "name": "3458",
         "showlegend": true,
         "type": "scattergl",
         "x": [
          83.15,
          22.15
         ],
         "xaxis": "x",
         "y": [
          2.35e-9,
          2.17e-11
         ],
         "yaxis": "y"
        },
        {
         "customdata": [
          [
           [
            "C"
           ],
           "RFR",
           "Voltmeter and ammeter direct reading method",
           1934
          ]
         ],
         "error_y": {
          "array": [
           0.0000115
          ]
         },
         "hovertemplate": "Data Set ID=3459<br>Temperature: kg/cm**2=%{x}<br>Electrical resistivity: ohm*m=%{y}<br>State=%{customdata[0]}<br>Representation=%{customdata[1]}<br>Method=%{customdata[2]}<br>Year=%{customdata[3]}<extra></extra>",
         "legendgroup": "3459",
         "marker": {
          "color": "#B6E880",
          "symbol": "circle"
         },
         "mode": "markers",
         "name": "3459",
         "showlegend": true,
         "type": "scattergl",
         "x": [
          20.35
         ],
         "xaxis": "x",
         "y": [
          0.00115
         ],
         "yaxis": "y"
        },
        {
         "customdata": [
          [
           [
            "C"
           ],
           "RFR",
           "DC potentiometric method",
           1934
          ],
          [
           [
            "C"
           ],
           "RFR",
           "DC potentiometric method",
           1934
          ],
          [
           [
            "C"
           ],
           "RFR",
           "DC potentiometric method",
           1934
          ],
          [
           [
            "C"
           ],
           "RFR",
           "DC potentiometric method",
           1934
          ],
          [
           [
            "C"
           ],
           "RFR",
           "DC potentiometric method",
           1934
          ],
          [
           [
            "C"
           ],
           "RFR",
           "DC potentiometric method",
           1934
          ],
          [
           [
            "C"
           ],
           "RFR",
           "DC potentiometric method",
           1934
          ],
          [
           [
            "C"
           ],
           "RFR",
           "DC potentiometric method",
           1934
          ],
          [
           [
            "C"
           ],
           "RFR",
           "DC potentiometric method",
           1934
          ],
          [
           [
            "C"
           ],
           "RFR",
           "DC potentiometric method",
           1934
          ]
         ],
         "error_y": {
          "array": [
           0.00000312,
           0.00000336,
           0.00000358,
           0.0000038,
           0.00000416,
           0.0000042,
           0.00000432,
           0.00000444,
           0.00000502,
           0.0000054
          ]
         },
         "hovertemplate": "Data Set ID=3500<br>Temperature: kg/cm**2=%{x}<br>Electrical resistivity: ohm*m=%{y}<br>State=%{customdata[0]}<br>Representation=%{customdata[1]}<br>Method=%{customdata[2]}<br>Year=%{customdata[3]}<extra></extra>",
         "legendgroup": "3500",
         "marker": {
          "color": "#FF97FF",
          "symbol": "circle"
         },
         "mode": "markers",
         "name": "3500",
         "showlegend": true,
         "type": "scattergl",
         "x": [
          14.26,
          16.14,
          17.69,
          19.1,
          20.47,
          14.26,
          16.14,
          17.69,
          19.1,
          20.47
         ],
         "xaxis": "x",
         "y": [
          0.00156,
          0.00168,
          0.00179,
          0.0019,
          0.00208,
          0.0021,
          0.00216,
          0.00222,
          0.00251,
          0.0027
         ],
         "yaxis": "y"
        },
        {
         "customdata": [
          [
           [
            "C"
           ],
           "RFR",
           "DC potentiometric method",
           1934
          ],
          [
           [
            "C"
           ],
           "RFR",
           "DC potentiometric method",
           1934
          ],
          [
           [
            "C"
           ],
           "RFR",
           "DC potentiometric method",
           1934
          ],
          [
           [
            "C"
           ],
           "RFR",
           "DC potentiometric method",
           1934
          ],
          [
           [
            "C"
           ],
           "RFR",
           "DC potentiometric method",
           1934
          ],
          [
           [
            "C"
           ],
           "RFR",
           "DC potentiometric method",
           1934
          ],
          [
           [
            "C"
           ],
           "RFR",
           "DC potentiometric method",
           1934
          ],
          [
           [
            "C"
           ],
           "RFR",
           "DC potentiometric method",
           1934
          ],
          [
           [
            "C"
           ],
           "RFR",
           "DC potentiometric method",
           1934
          ]
         ],
         "error_y": {
          "array": [
           0.00000234,
           0.00000238,
           0.0000024,
           0.00000248,
           0.00000256,
           0.0000027,
           0.00000298,
           0.0000032,
           0.00000352
          ]
         },
         "hovertemplate": "Data Set ID=3501<br>Temperature: kg/cm**2=%{x}<br>Electrical resistivity: ohm*m=%{y}<br>State=%{customdata[0]}<br>Representation=%{customdata[1]}<br>Method=%{customdata[2]}<br>Year=%{customdata[3]}<extra></extra>",
         "legendgroup": "3501",
         "marker": {
          "color": "#FECB52",
          "symbol": "circle"
         },
         "mode": "markers",
         "name": "3501",
         "showlegend": true,
         "type": "scattergl",
         "x": [
          1.55,
          4.23,
          6.74,
          11.18,
          14.26,
          16.14,
          17.69,
          19.1,
          20.47
         ],
         "xaxis": "x",
         "y": [
          0.00117,
          0.00119,
          0.0012,
          0.00124,
          0.00128,
          0.00135,
          0.00149,
          0.0016,
          0.00176
         ],
         "yaxis": "y"
        },
        {
         "customdata": [
          [
           [
            "C"
           ],
           "RFR",
           "DC potentiometric method",
           1934
          ],
          [
           [
            "C"
           ],
           "RFR",
           "DC potentiometric method",
           1934
          ],
          [
           [
            "C"
           ],
           "RFR",
           "DC potentiometric method",
           1934
          ],
          [
           [
            "C"
           ],
           "RFR",
           "DC potentiometric method",
           1934
          ]
         ],
         "error_y": {
          "array": [
           0.00000194,
           0.00000218,
           0.00000258,
           0.00000308
          ]
         },
         "hovertemplate": "Data Set ID=3502<br>Temperature: kg/cm**2=%{x}<br>Electrical resistivity: ohm*m=%{y}<br>State=%{customdata[0]}<br>Representation=%{customdata[1]}<br>Method=%{customdata[2]}<br>Year=%{customdata[3]}<extra></extra>",
         "legendgroup": "3502",
         "marker": {
          "color": "#636efa",
          "symbol": "circle"
         },
         "mode": "markers",
         "name": "3502",
         "showlegend": true,
         "type": "scattergl",
         "x": [
          14.32,
          16.46,
          18.02,
          20.52
         ],
         "xaxis": "x",
         "y": [
          0.00097,
          0.00109,
          0.00129,
          0.00154
         ],
         "yaxis": "y"
        },
        {
         "customdata": [
          [
           [
            "C"
           ],
           "RFR",
           "DC potentiometric method",
           1934
          ],
          [
           [
            "C"
           ],
           "RFR",
           "DC potentiometric method",
           1934
          ],
          [
           [
            "C"
           ],
           "RFR",
           "DC potentiometric method",
           1934
          ],
          [
           [
            "C"
           ],
           "RFR",
           "DC potentiometric method",
           1934
          ],
          [
           [
            "C"
           ],
           "RFR",
           "DC potentiometric method",
           1934
          ]
         ],
         "error_y": {
          "array": [
           0.0000072,
           0.00000748,
           0.00000768,
           0.00000804,
           0.00000876
          ]
         },
         "hovertemplate": "Data Set ID=3503<br>Temperature: kg/cm**2=%{x}<br>Electrical resistivity: ohm*m=%{y}<br>State=%{customdata[0]}<br>Representation=%{customdata[1]}<br>Method=%{customdata[2]}<br>Year=%{customdata[3]}<extra></extra>",
         "legendgroup": "3503",
         "marker": {
          "color": "#EF553B",
          "symbol": "circle"
         },
         "mode": "markers",
         "name": "3503",
         "showlegend": true,
         "type": "scattergl",
         "x": [
          4.2,
          14.1,
          15.88,
          18.02,
          20.41
         ],
         "xaxis": "x",
         "y": [
          0.0036,
          0.00374,
          0.00384,
          0.00402,
          0.00438
         ],
         "yaxis": "y"
        },
        {
         "customdata": [
          [
           [
            "C"
           ],
           "A",
           "DC potentiometric method",
           1940
          ]
         ],
         "error_y": {
          "array": [
           4.62e-11
          ]
         },
         "hovertemplate": "Data Set ID=4537<br>Temperature: kg/cm**2=%{x}<br>Electrical resistivity: ohm*m=%{y}<br>State=%{customdata[0]}<br>Representation=%{customdata[1]}<br>Method=%{customdata[2]}<br>Year=%{customdata[3]}<extra></extra>",
         "legendgroup": "4537",
         "marker": {
          "color": "#00cc96",
          "symbol": "circle"
         },
         "mode": "markers",
         "name": "4537",
         "showlegend": true,
         "type": "scattergl",
         "x": [
          78.15
         ],
         "xaxis": "x",
         "y": [
          2.31e-9
         ],
         "yaxis": "y"
        },
        {
         "customdata": [
          [
           [
            "C"
           ],
           "RFR",
           "Four point probe",
           1948
          ],
          [
           [
            "C"
           ],
           "RFR",
           "Four point probe",
           1948
          ],
          [
           [
            "C"
           ],
           "RFR",
           "Four point probe",
           1948
          ],
          [
           [
            "C"
           ],
           "RFR",
           "Four point probe",
           1948
          ],
          [
           [
            "C"
           ],
           "RFR",
           "Four point probe",
           1948
          ],
          [
           [
            "C"
           ],
           "RFR",
           "Four point probe",
           1948
          ],
          [
           [
            "C"
           ],
           "RFR",
           "Four point probe",
           1948
          ],
          [
           [
            "C"
           ],
           "RFR",
           "Four point probe",
           1948
          ],
          [
           [
            "C"
           ],
           "RFR",
           "Four point probe",
           1948
          ],
          [
           [
            "C"
           ],
           "RFR",
           "Four point probe",
           1948
          ],
          [
           [
            "C"
           ],
           "RFR",
           "Four point probe",
           1948
          ],
          [
           [
            "C"
           ],
           "RFR",
           "Four point probe",
           1948
          ]
         ],
         "error_y": {
          "array": [
           0.00007829,
           0.00007622,
           0.000075,
           0.00007405,
           0.00007304,
           0.00007197,
           0.00007053,
           0.00007053,
           0.00007053,
           0.00007053,
           0.00007053,
           0.00007054
          ]
         },
         "hovertemplate": "Data Set ID=5343<br>Temperature: kg/cm**2=%{x}<br>Electrical resistivity: ohm*m=%{y}<br>State=%{customdata[0]}<br>Representation=%{customdata[1]}<br>Method=%{customdata[2]}<br>Year=%{customdata[3]}<extra></extra>",
         "legendgroup": "5343",
         "marker": {
          "color": "#ab63fa",
          "symbol": "circle"
         },
         "mode": "markers",
         "name": "5343",
         "showlegend": true,
         "type": "scattergl",
         "x": [
          20.4,
          19.07,
          18.12,
          17.2,
          15.96,
          14.1,
          4.21,
          3.7,
          3.03,
          2.29,
          1.83,
          1.6
         ],
         "xaxis": "x",
         "y": [
          0.007829,
          0.007622,
          0.0075,
          0.007405,
          0.007304,
          0.007197,
          0.007053,
          0.007053,
          0.007053,
          0.007053,
          0.007053,
          0.007054
         ],
         "yaxis": "y"
        },
        {
         "customdata": [
          [
           [
            "C"
           ],
           "RFR",
           "Four point probe",
           1948
          ],
          [
           [
            "C"
           ],
           "RFR",
           "Four point probe",
           1948
          ],
          [
           [
            "C"
           ],
           "RFR",
           "Four point probe",
           1948
          ],
          [
           [
            "C"
           ],
           "RFR",
           "Four point probe",
           1948
          ],
          [
           [
            "C"
           ],
           "RFR",
           "Four point probe",
           1948
          ],
          [
           [
            "C"
           ],
           "RFR",
           "Four point probe",
           1948
          ],
          [
           [
            "C"
           ],
           "RFR",
           "Four point probe",
           1948
          ],
          [
           [
            "C"
           ],
           "RFR",
           "Four point probe",
           1948
          ],
          [
           [
            "C"
           ],
           "RFR",
           "Four point probe",
           1948
          ],
          [
           [
            "C"
           ],
           "RFR",
           "Four point probe",
           1948
          ],
          [
           [
            "C"
           ],
           "RFR",
           "Four point probe",
           1948
          ],
          [
           [
            "C"
           ],
           "RFR",
           "Four point probe",
           1948
          ],
          [
           [
            "C"
           ],
           "RFR",
           "Four point probe",
           1948
          ],
          [
           [
            "C"
           ],
           "RFR",
           "Four point probe",
           1948
          ],
          [
           [
            "C"
           ],
           "RFR",
           "Four point probe",
           1948
          ],
          [
           [
            "C"
           ],
           "RFR",
           "Four point probe",
           1948
          ],
          [
           [
            "C"
           ],
           "RFR",
           "Four point probe",
           1948
          ],
          [
           [
            "C"
           ],
           "RFR",
           "Four point probe",
           1948
          ]
         ],
         "error_y": {
          "array": [
           0.0002026,
           0.0002001,
           0.0001987,
           0.0001977,
           0.0001965,
           0.0001953,
           0.0001574,
           0.0001551,
           0.0001537,
           0.0001527,
           0.0001517,
           0.0001505,
           0.000127,
           0.0001247,
           0.0001234,
           0.0001224,
           0.0001214,
           0.0001202
          ]
         },
         "hovertemplate": "Data Set ID=5344<br>Temperature: kg/cm**2=%{x}<br>Electrical resistivity: ohm*m=%{y}<br>State=%{customdata[0]}<br>Representation=%{customdata[1]}<br>Method=%{customdata[2]}<br>Year=%{customdata[3]}<extra></extra>",
         "legendgroup": "5344",
         "marker": {
          "color": "#FFA15A",
          "symbol": "circle"
         },
         "mode": "markers",
         "name": "5344",
         "showlegend": true,
         "type": "scattergl",
         "x": [
          20.39,
          19,
          18.02,
          17.14,
          15.95,
          13.87,
          20.39,
          19,
          18,
          17.16,
          15.91,
          13.88,
          20.39,
          19,
          18.02,
          17.14,
          15.96,
          13.91
         ],
         "xaxis": "x",
         "y": [
          0.02026,
          0.02001,
          0.01987,
          0.01977,
          0.01965,
          0.01953,
          0.01574,
          0.01551,
          0.01537,
          0.01527,
          0.01517,
          0.01505,
          0.0127,
          0.01247,
          0.01234,
          0.01224,
          0.01214,
          0.01202
         ],
         "yaxis": "y"
        },
        {
         "customdata": [
          [
           [
            "C"
           ],
           "RFR",
           "DC potentiometric method",
           1952
          ],
          [
           [
            "C"
           ],
           "RFR",
           "DC potentiometric method",
           1952
          ],
          [
           [
            "C"
           ],
           "RFR",
           "DC potentiometric method",
           1952
          ],
          [
           [
            "C"
           ],
           "RFR",
           "DC potentiometric method",
           1952
          ],
          [
           [
            "C"
           ],
           "RFR",
           "DC potentiometric method",
           1952
          ],
          [
           [
            "C"
           ],
           "RFR",
           "DC potentiometric method",
           1952
          ],
          [
           [
            "C"
           ],
           "RFR",
           "DC potentiometric method",
           1952
          ],
          [
           [
            "C"
           ],
           "RFR",
           "DC potentiometric method",
           1952
          ],
          [
           [
            "C"
           ],
           "RFR",
           "DC potentiometric method",
           1952
          ],
          [
           [
            "C"
           ],
           "RFR",
           "DC potentiometric method",
           1952
          ]
         ],
         "error_y": {
          "array": [
           0.06867,
           0.06755,
           0.06643,
           0.06538,
           0.0644,
           0.06349,
           0.06265,
           0.06188,
           0.06125,
           0.06062
          ]
         },
         "hovertemplate": "Data Set ID=6096<br>Temperature: kg/cm**2=%{x}<br>Electrical resistivity: ohm*m=%{y}<br>State=%{customdata[0]}<br>Representation=%{customdata[1]}<br>Method=%{customdata[2]}<br>Year=%{customdata[3]}<extra></extra>",
         "legendgroup": "6096",
         "marker": {
          "color": "#19d3f3",
          "symbol": "circle"
         },
         "mode": "markers",
         "name": "6096",
         "showlegend": true,
         "type": "scattergl",
         "x": [
          298,
          298,
          298,
          298,
          298,
          298,
          298,
          298,
          298,
          298
         ],
         "xaxis": "x",
         "y": [
          0.981,
          0.965,
          0.949,
          0.934,
          0.92,
          0.907,
          0.895,
          0.884,
          0.875,
          0.866
         ],
         "yaxis": "y"
        },
        {
         "customdata": [
          [
           [
            "C"
           ],
           "RFR",
           "DC bridge method",
           1952
          ],
          [
           [
            "C"
           ],
           "RFR",
           "DC bridge method",
           1952
          ],
          [
           [
            "C"
           ],
           "RFR",
           "DC bridge method",
           1952
          ],
          [
           [
            "C"
           ],
           "RFR",
           "DC bridge method",
           1952
          ],
          [
           [
            "C"
           ],
           "RFR",
           "DC bridge method",
           1952
          ],
          [
           [
            "C"
           ],
           "RFR",
           "DC bridge method",
           1952
          ]
         ],
         "error_y": {
          "array": [
           0.01,
           0.00139,
           0.0000618,
           0.000057,
           0.000058,
           0.0000584
          ]
         },
         "hovertemplate": "Data Set ID=6256<br>Temperature: kg/cm**2=%{x}<br>Electrical resistivity: ohm*m=%{y}<br>State=%{customdata[0]}<br>Representation=%{customdata[1]}<br>Method=%{customdata[2]}<br>Year=%{customdata[3]}<extra></extra>",
         "legendgroup": "6256",
         "marker": {
          "color": "#FF6692",
          "symbol": "circle"
         },
         "mode": "markers",
         "name": "6256",
         "showlegend": true,
         "type": "scattergl",
         "x": [
          546.15,
          353.15,
          293.15,
          287.15,
          277.15,
          275.15
         ],
         "xaxis": "x",
         "y": [
          1,
          0.139,
          0.00618,
          0.0057,
          0.0058,
          0.00584
         ],
         "yaxis": "y"
        },
        {
         "customdata": [
          [
           [
            "C"
           ],
           "A",
           "DC bridge method",
           1952
          ],
          [
           [
            "C"
           ],
           "A",
           "DC bridge method",
           1952
          ],
          [
           [
            "C"
           ],
           "A",
           "DC bridge method",
           1952
          ],
          [
           [
            "C"
           ],
           "A",
           "DC bridge method",
           1952
          ],
          [
           [
            "C"
           ],
           "A",
           "DC bridge method",
           1952
          ]
         ],
         "error_y": {
          "array": [
           2.16e-11,
           9.56e-13,
           9.21e-13,
           9.32e-13,
           9.41e-13
          ]
         },
         "hovertemplate": "Data Set ID=6257<br>Temperature: kg/cm**2=%{x}<br>Electrical resistivity: ohm*m=%{y}<br>State=%{customdata[0]}<br>Representation=%{customdata[1]}<br>Method=%{customdata[2]}<br>Year=%{customdata[3]}<extra></extra>",
         "legendgroup": "6257",
         "marker": {
          "color": "#B6E880",
          "symbol": "circle"
         },
         "mode": "markers",
         "name": "6257",
         "showlegend": true,
         "type": "scattergl",
         "x": [
          353.15,
          293.15,
          287.15,
          277.15,
          275.15
         ],
         "xaxis": "x",
         "y": [
          2.16e-9,
          9.56e-11,
          9.21e-11,
          9.32e-11,
          9.41e-11
         ],
         "yaxis": "y"
        },
        {
         "customdata": [
          [
           [
            "C"
           ],
           "RFR",
           "DC bridge method",
           1952
          ],
          [
           [
            "C"
           ],
           "RFR",
           "DC bridge method",
           1952
          ],
          [
           [
            "C"
           ],
           "RFR",
           "DC bridge method",
           1952
          ],
          [
           [
            "C"
           ],
           "RFR",
           "DC bridge method",
           1952
          ],
          [
           [
            "C"
           ],
           "RFR",
           "DC bridge method",
           1952
          ]
         ],
         "error_y": {
          "array": [
           0.00059,
           0.000773,
           0.000925,
           0.001104,
           0.001271
          ]
         },
         "hovertemplate": "Data Set ID=6258<br>Temperature: kg/cm**2=%{x}<br>Electrical resistivity: ohm*m=%{y}<br>State=%{customdata[0]}<br>Representation=%{customdata[1]}<br>Method=%{customdata[2]}<br>Year=%{customdata[3]}<extra></extra>",
         "legendgroup": "6258",
         "marker": {
          "color": "#FF97FF",
          "symbol": "circle"
         },
         "mode": "markers",
         "name": "6258",
         "showlegend": true,
         "type": "scattergl",
         "x": [
          57.77,
          61.08,
          67.48,
          72.25,
          76.36
         ],
         "xaxis": "x",
         "y": [
          0.059,
          0.0773,
          0.0925,
          0.1104,
          0.1271
         ],
         "yaxis": "y"
        },
        {
         "customdata": [
          [
           [
            "C"
           ],
           "A",
           "DC bridge method",
           1952
          ]
         ],
         "error_y": {
          "array": [
           1.55e-10
          ]
         },
         "hovertemplate": "Data Set ID=6259<br>Temperature: kg/cm**2=%{x}<br>Electrical resistivity: ohm*m=%{y}<br>State=%{customdata[0]}<br>Representation=%{customdata[1]}<br>Method=%{customdata[2]}<br>Year=%{customdata[3]}<extra></extra>",
         "legendgroup": "6259",
         "marker": {
          "color": "#FECB52",
          "symbol": "circle"
         },
         "mode": "markers",
         "name": "6259",
         "showlegend": true,
         "type": "scattergl",
         "x": [
          546.15
         ],
         "xaxis": "x",
         "y": [
          1.55e-8
         ],
         "yaxis": "y"
        },
        {
         "customdata": [
          [
           [
            "L"
           ],
           "A",
           "DC potentiometric method",
           1953
          ],
          [
           [
            "L"
           ],
           "A",
           "DC potentiometric method",
           1953
          ],
          [
           [
            "L"
           ],
           "A",
           "DC potentiometric method",
           1953
          ],
          [
           [
            "L"
           ],
           "A",
           "DC potentiometric method",
           1953
          ]
         ],
         "error_y": {
          "array": [
           4.5534e-9,
           4.804e-9,
           5.2228e-9,
           5.5178e-9
          ]
         },
         "hovertemplate": "Data Set ID=6939<br>Temperature: kg/cm**2=%{x}<br>Electrical resistivity: ohm*m=%{y}<br>State=%{customdata[0]}<br>Representation=%{customdata[1]}<br>Method=%{customdata[2]}<br>Year=%{customdata[3]}<extra></extra>",
         "legendgroup": "6939",
         "marker": {
          "color": "#636efa",
          "symbol": "circle"
         },
         "mode": "markers",
         "name": "6939",
         "showlegend": true,
         "type": "scattergl",
         "x": [
          1364.36,
          1420.71,
          1518.65,
          1563.27
         ],
         "xaxis": "x",
         "y": [
          2.2767e-7,
          2.402e-7,
          2.6114e-7,
          2.7589e-7
         ],
         "yaxis": "y"
        },
        {
         "customdata": [
          [
           [
            "C"
           ],
           "A",
           "Resistance Bridge w/ Cryostat",
           1953
          ],
          [
           [
            "C"
           ],
           "A",
           "Resistance Bridge w/ Cryostat",
           1953
          ],
          [
           [
            "C"
           ],
           "A",
           "Resistance Bridge w/ Cryostat",
           1953
          ],
          [
           [
            "C"
           ],
           "A",
           "Resistance Bridge w/ Cryostat",
           1953
          ],
          [
           [
            "C"
           ],
           "A",
           "Resistance Bridge w/ Cryostat",
           1953
          ],
          [
           [
            "C"
           ],
           "A",
           "Resistance Bridge w/ Cryostat",
           1953
          ],
          [
           [
            "C"
           ],
           "A",
           "Resistance Bridge w/ Cryostat",
           1953
          ],
          [
           [
            "C"
           ],
           "A",
           "Resistance Bridge w/ Cryostat",
           1953
          ],
          [
           [
            "C"
           ],
           "A",
           "Resistance Bridge w/ Cryostat",
           1953
          ],
          [
           [
            "C"
           ],
           "A",
           "Resistance Bridge w/ Cryostat",
           1953
          ],
          [
           [
            "C"
           ],
           "A",
           "Resistance Bridge w/ Cryostat",
           1953
          ],
          [
           [
            "C"
           ],
           "A",
           "Resistance Bridge w/ Cryostat",
           1953
          ],
          [
           [
            "C"
           ],
           "A",
           "Resistance Bridge w/ Cryostat",
           1953
          ],
          [
           [
            "C"
           ],
           "A",
           "Resistance Bridge w/ Cryostat",
           1953
          ],
          [
           [
            "C"
           ],
           "A",
           "Resistance Bridge w/ Cryostat",
           1953
          ]
         ],
         "error_y": {
          "array": [
           1.92e-15,
           5.25e-15,
           8.15e-15,
           1.61e-14,
           3.97e-14,
           7.9e-14,
           1.46e-13,
           4.205e-13,
           5.4e-13,
           7.85e-13,
           1.09e-12,
           1.59e-12,
           2e-12,
           2.92e-12,
           4.925e-12
          ]
         },
         "hovertemplate": "Data Set ID=7006<br>Temperature: kg/cm**2=%{x}<br>Electrical resistivity: ohm*m=%{y}<br>State=%{customdata[0]}<br>Representation=%{customdata[1]}<br>Method=%{customdata[2]}<br>Year=%{customdata[3]}<extra></extra>",
         "legendgroup": "7006",
         "marker": {
          "color": "#EF553B",
          "symbol": "circle"
         },
         "mode": "markers",
         "name": "7006",
         "showlegend": true,
         "type": "scattergl",
         "x": [
          17.08,
          20.1,
          21.25,
          24.15,
          29,
          34.15,
          39.67,
          54.72,
          60.25,
          69.03,
          79.67,
          94.85,
          105.19,
          131.44,
          192.29
         ],
         "xaxis": "x",
         "y": [
          3.84e-12,
          1.05e-11,
          1.63e-11,
          3.22e-11,
          7.94e-11,
          1.58e-10,
          2.92e-10,
          8.41e-10,
          1.08e-9,
          1.57e-9,
          2.18e-9,
          3.18e-9,
          4e-9,
          5.84e-9,
          9.85e-9
         ],
         "yaxis": "y"
        },
        {
         "customdata": [
          [
           [
            "C"
           ],
           "A",
           "Resistance Bridge w/ Cryostat",
           1953
          ],
          [
           [
            "C"
           ],
           "A",
           "Resistance Bridge w/ Cryostat",
           1953
          ],
          [
           [
            "C"
           ],
           "A",
           "Resistance Bridge w/ Cryostat",
           1953
          ],
          [
           [
            "C"
           ],
           "A",
           "Resistance Bridge w/ Cryostat",
           1953
          ],
          [
           [
            "C"
           ],
           "A",
           "Resistance Bridge w/ Cryostat",
           1953
          ],
          [
           [
            "C"
           ],
           "A",
           "Resistance Bridge w/ Cryostat",
           1953
          ],
          [
           [
            "C"
           ],
           "A",
           "Resistance Bridge w/ Cryostat",
           1953
          ],
          [
           [
            "C"
           ],
           "A",
           "Resistance Bridge w/ Cryostat",
           1953
          ],
          [
           [
            "C"
           ],
           "A",
           "Resistance Bridge w/ Cryostat",
           1953
          ],
          [
           [
            "C"
           ],
           "A",
           "Resistance Bridge w/ Cryostat",
           1953
          ],
          [
           [
            "C"
           ],
           "A",
           "Resistance Bridge w/ Cryostat",
           1953
          ],
          [
           [
            "C"
           ],
           "A",
           "Resistance Bridge w/ Cryostat",
           1953
          ],
          [
           [
            "C"
           ],
           "A",
           "Resistance Bridge w/ Cryostat",
           1953
          ]
         ],
         "error_y": {
          "array": [
           1.84e-15,
           4.97e-15,
           1.57e-14,
           3.405e-14,
           7.5e-14,
           1.39e-13,
           3.725e-13,
           6.1e-13,
           9.5e-13,
           1.41e-12,
           1.85e-12,
           2.765e-12,
           4.77e-12
          ]
         },
         "hovertemplate": "Data Set ID=7007<br>Temperature: kg/cm**2=%{x}<br>Electrical resistivity: ohm*m=%{y}<br>State=%{customdata[0]}<br>Representation=%{customdata[1]}<br>Method=%{customdata[2]}<br>Year=%{customdata[3]}<extra></extra>",
         "legendgroup": "7007",
         "marker": {
          "color": "#00cc96",
          "symbol": "circle"
         },
         "mode": "markers",
         "name": "7007",
         "showlegend": true,
         "type": "scattergl",
         "x": [
          16.44,
          20.16,
          25.91,
          30.68,
          36.48,
          43.1,
          56.54,
          65.67,
          78.02,
          92.41,
          103.1,
          126.78,
          184.66
         ],
         "xaxis": "x",
         "y": [
          3.68e-12,
          9.94e-12,
          3.14e-11,
          6.81e-11,
          1.5e-10,
          2.78e-10,
          7.45e-10,
          1.22e-9,
          1.9e-9,
          2.82e-9,
          3.7e-9,
          5.53e-9,
          9.54e-9
         ],
         "yaxis": "y"
        },
        {
         "customdata": [
          [
           [
            "C"
           ],
           "A",
           "Resistance Bridge w/ Cryostat",
           1953
          ],
          [
           [
            "C"
           ],
           "A",
           "Resistance Bridge w/ Cryostat",
           1953
          ],
          [
           [
            "C"
           ],
           "A",
           "Resistance Bridge w/ Cryostat",
           1953
          ],
          [
           [
            "C"
           ],
           "A",
           "Resistance Bridge w/ Cryostat",
           1953
          ],
          [
           [
            "C"
           ],
           "A",
           "Resistance Bridge w/ Cryostat",
           1953
          ],
          [
           [
            "C"
           ],
           "A",
           "Resistance Bridge w/ Cryostat",
           1953
          ],
          [
           [
            "C"
           ],
           "A",
           "Resistance Bridge w/ Cryostat",
           1953
          ],
          [
           [
            "C"
           ],
           "A",
           "Resistance Bridge w/ Cryostat",
           1953
          ]
         ],
         "error_y": {
          "array": [
           5.6e-15,
           1.695e-14,
           4.125e-14,
           4.36e-13,
           3.84e-13,
           6.6e-13,
           9.7e-13,
           1.51e-12
          ]
         },
         "hovertemplate": "Data Set ID=7008<br>Temperature: kg/cm**2=%{x}<br>Electrical resistivity: ohm*m=%{y}<br>State=%{customdata[0]}<br>Representation=%{customdata[1]}<br>Method=%{customdata[2]}<br>Year=%{customdata[3]}<extra></extra>",
         "legendgroup": "7008",
         "marker": {
          "color": "#ab63fa",
          "symbol": "circle"
         },
         "mode": "markers",
         "name": "7008",
         "showlegend": true,
         "type": "scattergl",
         "x": [
          19.75,
          24.69,
          29.87,
          55.37,
          57.01,
          65.25,
          75.21,
          91.55
         ],
         "xaxis": "x",
         "y": [
          1.12e-11,
          3.39e-11,
          8.25e-11,
          8.72e-10,
          7.68e-10,
          1.32e-9,
          1.94e-9,
          3.02e-9
         ],
         "yaxis": "y"
        },
        {
         "customdata": [
          [
           [
            "C"
           ],
           "RFR",
           "Voltmeter and ammeter direct reading method",
           1955
          ]
         ],
         "error_y": {
          "array": [
           0.4265
          ]
         },
         "hovertemplate": "Data Set ID=7499<br>Temperature: kg/cm**2=%{x}<br>Electrical resistivity: ohm*m=%{y}<br>State=%{customdata[0]}<br>Representation=%{customdata[1]}<br>Method=%{customdata[2]}<br>Year=%{customdata[3]}<extra></extra>",
         "legendgroup": "7499",
         "marker": {
          "color": "#FFA15A",
          "symbol": "circle"
         },
         "mode": "markers",
         "name": "7499",
         "showlegend": true,
         "type": "scattergl",
         "x": [
          293
         ],
         "xaxis": "x",
         "y": [
          85.3
         ],
         "yaxis": "y"
        },
        {
         "customdata": [
          [
           [
            "C"
           ],
           "A",
           "",
           1955
          ]
         ],
         "error_y": {
          "array": [
           1.92e-10
          ]
         },
         "hovertemplate": "Data Set ID=7687<br>Temperature: kg/cm**2=%{x}<br>Electrical resistivity: ohm*m=%{y}<br>State=%{customdata[0]}<br>Representation=%{customdata[1]}<br>Method=%{customdata[2]}<br>Year=%{customdata[3]}<extra></extra>",
         "legendgroup": "7687",
         "marker": {
          "color": "#19d3f3",
          "symbol": "circle"
         },
         "mode": "markers",
         "name": "7687",
         "showlegend": true,
         "type": "scattergl",
         "x": [
          295
         ],
         "xaxis": "x",
         "y": [
          1.92e-8
         ],
         "yaxis": "y"
        },
        {
         "customdata": [
          [
           [
            "C"
           ],
           "A",
           "",
           1955
          ]
         ],
         "error_y": {
          "array": [
           2.18e-10
          ]
         },
         "hovertemplate": "Data Set ID=7688<br>Temperature: kg/cm**2=%{x}<br>Electrical resistivity: ohm*m=%{y}<br>State=%{customdata[0]}<br>Representation=%{customdata[1]}<br>Method=%{customdata[2]}<br>Year=%{customdata[3]}<extra></extra>",
         "legendgroup": "7688",
         "marker": {
          "color": "#FF6692",
          "symbol": "circle"
         },
         "mode": "markers",
         "name": "7688",
         "showlegend": true,
         "type": "scattergl",
         "x": [
          295
         ],
         "xaxis": "x",
         "y": [
          2.18e-8
         ],
         "yaxis": "y"
        },
        {
         "customdata": [
          [
           [
            "C"
           ],
           "A",
           "",
           1955
          ]
         ],
         "error_y": {
          "array": [
           1.75e-10
          ]
         },
         "hovertemplate": "Data Set ID=7689<br>Temperature: kg/cm**2=%{x}<br>Electrical resistivity: ohm*m=%{y}<br>State=%{customdata[0]}<br>Representation=%{customdata[1]}<br>Method=%{customdata[2]}<br>Year=%{customdata[3]}<extra></extra>",
         "legendgroup": "7689",
         "marker": {
          "color": "#B6E880",
          "symbol": "circle"
         },
         "mode": "markers",
         "name": "7689",
         "showlegend": true,
         "type": "scattergl",
         "x": [
          295
         ],
         "xaxis": "x",
         "y": [
          1.75e-8
         ],
         "yaxis": "y"
        },
        {
         "customdata": [
          [
           [
            "C"
           ],
           "RFR",
           "Gouy method",
           1956
          ]
         ],
         "error_y": {
          "array": [
           0.000058
          ]
         },
         "hovertemplate": "Data Set ID=7789<br>Temperature: kg/cm**2=%{x}<br>Electrical resistivity: ohm*m=%{y}<br>State=%{customdata[0]}<br>Representation=%{customdata[1]}<br>Method=%{customdata[2]}<br>Year=%{customdata[3]}<extra></extra>",
         "legendgroup": "7789",
         "marker": {
          "color": "#FF97FF",
          "symbol": "circle"
         },
         "mode": "markers",
         "name": "7789",
         "showlegend": true,
         "type": "scattergl",
         "x": [
          4.2
         ],
         "xaxis": "x",
         "y": [
          0.0058
         ],
         "yaxis": "y"
        },
        {
         "customdata": [
          [
           [
            "C"
           ],
           "A",
           "DC potentiometric method",
           1956
          ],
          [
           [
            "C"
           ],
           "A",
           "DC potentiometric method",
           1956
          ],
          [
           [
            "C"
           ],
           "A",
           "DC potentiometric method",
           1956
          ],
          [
           [
            "C"
           ],
           "A",
           "DC potentiometric method",
           1956
          ],
          [
           [
            "C"
           ],
           "A",
           "DC potentiometric method",
           1956
          ],
          [
           [
            "C"
           ],
           "A",
           "DC potentiometric method",
           1956
          ],
          [
           [
            "C"
           ],
           "A",
           "DC potentiometric method",
           1956
          ],
          [
           [
            "C"
           ],
           "A",
           "DC potentiometric method",
           1956
          ],
          [
           [
            "C"
           ],
           "A",
           "DC potentiometric method",
           1956
          ],
          [
           [
            "C"
           ],
           "A",
           "DC potentiometric method",
           1956
          ],
          [
           [
            "C"
           ],
           "A",
           "DC potentiometric method",
           1956
          ],
          [
           [
            "C"
           ],
           "A",
           "DC potentiometric method",
           1956
          ],
          [
           [
            "C"
           ],
           "A",
           "DC potentiometric method",
           1956
          ],
          [
           [
            "C"
           ],
           "A",
           "DC potentiometric method",
           1956
          ],
          [
           [
            "C"
           ],
           "A",
           "DC potentiometric method",
           1956
          ],
          [
           [
            "C"
           ],
           "A",
           "DC potentiometric method",
           1956
          ],
          [
           [
            "C"
           ],
           "A",
           "DC potentiometric method",
           1956
          ],
          [
           [
            "C"
           ],
           "A",
           "DC potentiometric method",
           1956
          ],
          [
           [
            "C"
           ],
           "A",
           "DC potentiometric method",
           1956
          ],
          [
           [
            "C"
           ],
           "A",
           "DC potentiometric method",
           1956
          ],
          [
           [
            "C"
           ],
           "A",
           "DC potentiometric method",
           1956
          ],
          [
           [
            "C"
           ],
           "A",
           "DC potentiometric method",
           1956
          ],
          [
           [
            "C"
           ],
           "A",
           "DC potentiometric method",
           1956
          ],
          [
           [
            "C"
           ],
           "A",
           "DC potentiometric method",
           1956
          ],
          [
           [
            "C"
           ],
           "A",
           "DC potentiometric method",
           1956
          ],
          [
           [
            "C"
           ],
           "A",
           "DC potentiometric method",
           1956
          ],
          [
           [
            "C"
           ],
           "A",
           "DC potentiometric method",
           1956
          ],
          [
           [
            "C"
           ],
           "A",
           "DC potentiometric method",
           1956
          ],
          [
           [
            "C"
           ],
           "A",
           "DC potentiometric method",
           1956
          ],
          [
           [
            "C"
           ],
           "A",
           "DC potentiometric method",
           1956
          ]
         ],
         "error_y": {
          "array": [
           6.846e-11,
           8.212e-11,
           2.3056e-10,
           3.1158e-10,
           3.7258e-10,
           4.732e-10,
           6.1486e-10,
           7.22e-10,
           8.4922e-10,
           9.8812e-10,
           1.1724e-10,
           1.3014e-10,
           2.627e-10,
           3.5888e-10,
           3.9708e-10,
           5.017e-10,
           6.437e-10,
           7.5016e-10,
           8.5358e-10,
           9.9082e-10,
           3.456e-11,
           7.332e-11,
           1.9856e-10,
           3.0682e-10,
           3.4024e-10,
           4.485e-10,
           5.859e-10,
           6.9984e-10,
           8.1586e-10,
           9.6666e-10
          ]
         },
         "hovertemplate": "Data Set ID=7879<br>Temperature: kg/cm**2=%{x}<br>Electrical resistivity: ohm*m=%{y}<br>State=%{customdata[0]}<br>Representation=%{customdata[1]}<br>Method=%{customdata[2]}<br>Year=%{customdata[3]}<extra></extra>",
         "legendgroup": "7879",
         "marker": {
          "color": "#FECB52",
          "symbol": "circle"
         },
         "mode": "markers",
         "name": "7879",
         "showlegend": true,
         "type": "scattergl",
         "x": [
          53.006,
          73.637,
          172.563,
          255.716,
          286.049,
          366.88,
          477.586,
          557.81,
          643.826,
          748.083,
          56.673,
          76.991,
          178.794,
          259.441,
          290.57,
          370.88,
          481.965,
          559.896,
          645.233,
          752.426,
          53.372,
          74.628,
          176.013,
          256.652,
          286.028,
          366.807,
          479.339,
          557.042,
          643.711,
          750.162
         ],
         "xaxis": "x",
         "y": [
          3.423e-9,
          4.106e-9,
          1.1528e-8,
          1.5579e-8,
          1.8629e-8,
          2.366e-8,
          3.0743e-8,
          3.61e-8,
          4.2461e-8,
          4.9406e-8,
          5.862e-9,
          6.507e-9,
          1.3135e-8,
          1.7944e-8,
          1.9854e-8,
          2.5085e-8,
          3.2185e-8,
          3.7508e-8,
          4.2679e-8,
          4.9541e-8,
          1.728e-9,
          3.666e-9,
          9.928e-9,
          1.5341e-8,
          1.7012e-8,
          2.2425e-8,
          2.9295e-8,
          3.4992e-8,
          4.0793e-8,
          4.8333e-8
         ],
         "yaxis": "y"
        },
        {
         "customdata": [
          [
           [
            "C"
           ],
           "A",
           "Rotating magnetic field",
           1956
          ],
          [
           [
            "C"
           ],
           "A",
           "Rotating magnetic field",
           1956
          ],
          [
           [
            "C"
           ],
           "A",
           "Rotating magnetic field",
           1956
          ],
          [
           [
            "C"
           ],
           "A",
           "Rotating magnetic field",
           1956
          ],
          [
           [
            "C"
           ],
           "A",
           "Rotating magnetic field",
           1956
          ],
          [
           [
            "C"
           ],
           "A",
           "Rotating magnetic field",
           1956
          ],
          [
           [
            "C"
           ],
           "A",
           "Rotating magnetic field",
           1956
          ],
          [
           [
            "C"
           ],
           "A",
           "Rotating magnetic field",
           1956
          ],
          [
           [
            "C"
           ],
           "A",
           "Rotating magnetic field",
           1956
          ],
          [
           [
            "C"
           ],
           "A",
           "Rotating magnetic field",
           1956
          ],
          [
           [
            "C"
           ],
           "A",
           "Rotating magnetic field",
           1956
          ],
          [
           [
            "C"
           ],
           "A",
           "Rotating magnetic field",
           1956
          ],
          [
           [
            "C"
           ],
           "A",
           "Rotating magnetic field",
           1956
          ],
          [
           [
            "C"
           ],
           "A",
           "Rotating magnetic field",
           1956
          ],
          [
           [
            "C"
           ],
           "A",
           "Rotating magnetic field",
           1956
          ],
          [
           [
            "C"
           ],
           "A",
           "Rotating magnetic field",
           1956
          ],
          [
           [
            "C"
           ],
           "A",
           "Rotating magnetic field",
           1956
          ],
          [
           [
            "C"
           ],
           "A",
           "Rotating magnetic field",
           1956
          ],
          [
           [
            "C"
           ],
           "A",
           "Rotating magnetic field",
           1956
          ],
          [
           [
            "C"
           ],
           "A",
           "Rotating magnetic field",
           1956
          ],
          [
           [
            "C"
           ],
           "A",
           "Rotating magnetic field",
           1956
          ],
          [
           [
            "C"
           ],
           "A",
           "Rotating magnetic field",
           1956
          ],
          [
           [
            "C"
           ],
           "A",
           "Rotating magnetic field",
           1956
          ],
          [
           [
            "C"
           ],
           "A",
           "Rotating magnetic field",
           1956
          ],
          [
           [
            "C"
           ],
           "A",
           "Rotating magnetic field",
           1956
          ],
          [
           [
            "C"
           ],
           "A",
           "Rotating magnetic field",
           1956
          ],
          [
           [
            "C"
           ],
           "A",
           "Rotating magnetic field",
           1956
          ],
          [
           [
            "C"
           ],
           "A",
           "Rotating magnetic field",
           1956
          ],
          [
           [
            "C"
           ],
           "A",
           "Rotating magnetic field",
           1956
          ],
          [
           [
            "C"
           ],
           "A",
           "Rotating magnetic field",
           1956
          ],
          [
           [
            "C"
           ],
           "A",
           "Rotating magnetic field",
           1956
          ],
          [
           [
            "C"
           ],
           "A",
           "Rotating magnetic field",
           1956
          ],
          [
           [
            "C"
           ],
           "A",
           "Rotating magnetic field",
           1956
          ],
          [
           [
            "C"
           ],
           "A",
           "Rotating magnetic field",
           1956
          ],
          [
           [
            "C"
           ],
           "A",
           "Rotating magnetic field",
           1956
          ],
          [
           [
            "C"
           ],
           "A",
           "Rotating magnetic field",
           1956
          ],
          [
           [
            "C"
           ],
           "A",
           "Rotating magnetic field",
           1956
          ],
          [
           [
            "C"
           ],
           "A",
           "Rotating magnetic field",
           1956
          ],
          [
           [
            "C"
           ],
           "A",
           "Rotating magnetic field",
           1956
          ],
          [
           [
            "C"
           ],
           "A",
           "Rotating magnetic field",
           1956
          ],
          [
           [
            "C"
           ],
           "A",
           "Rotating magnetic field",
           1956
          ],
          [
           [
            "C"
           ],
           "A",
           "Rotating magnetic field",
           1956
          ],
          [
           [
            "C"
           ],
           "A",
           "Rotating magnetic field",
           1956
          ],
          [
           [
            "C"
           ],
           "A",
           "Rotating magnetic field",
           1956
          ],
          [
           [
            "C"
           ],
           "A",
           "Rotating magnetic field",
           1956
          ],
          [
           [
            "C"
           ],
           "A",
           "Rotating magnetic field",
           1956
          ],
          [
           [
            "C"
           ],
           "A",
           "Rotating magnetic field",
           1956
          ],
          [
           [
            "C"
           ],
           "A",
           "Rotating magnetic field",
           1956
          ],
          [
           [
            "C"
           ],
           "A",
           "Rotating magnetic field",
           1956
          ],
          [
           [
            "C"
           ],
           "A",
           "Rotating magnetic field",
           1956
          ],
          [
           [
            "C"
           ],
           "A",
           "Rotating magnetic field",
           1956
          ],
          [
           [
            "C"
           ],
           "A",
           "Rotating magnetic field",
           1956
          ],
          [
           [
            "C"
           ],
           "A",
           "Rotating magnetic field",
           1956
          ],
          [
           [
            "C"
           ],
           "A",
           "Rotating magnetic field",
           1956
          ],
          [
           [
            "C"
           ],
           "A",
           "Rotating magnetic field",
           1956
          ]
         ],
         "error_y": {
          "array": [
           1.98e-10,
           2.01e-10,
           2.13e-10,
           2.24e-10,
           2.35e-10,
           2.49e-10,
           2.66e-10,
           2.81e-10,
           2.91e-10,
           3.05e-10,
           3.19e-10,
           3.29e-10,
           3.4e-10,
           3.54e-10,
           3.65e-10,
           3.82e-10,
           3.95e-10,
           4.07e-10,
           4.2e-10,
           4.36e-10,
           4.44e-10,
           4.64e-10,
           4.74e-10,
           4.93e-10,
           5.06e-10,
           5.27e-10,
           5.39e-10,
           5.58e-10,
           5.73e-10,
           5.87e-10,
           6.05e-10,
           6.22e-10,
           6.37e-10,
           6.55e-10,
           6.69e-10,
           6.92e-10,
           7.04e-10,
           7.25e-10,
           7.43e-10,
           7.6e-10,
           7.78e-10,
           7.96e-10,
           8.11e-10,
           8.29e-10,
           8.48e-10,
           8.63e-10,
           8.84e-10,
           8.93e-10,
           9.16e-10,
           9.32e-10,
           9.52e-10,
           9.72e-10,
           9.98e-10,
           1.02e-9,
           1.046e-9
          ]
         },
         "hovertemplate": "Data Set ID=7936<br>Temperature: kg/cm**2=%{x}<br>Electrical resistivity: ohm*m=%{y}<br>State=%{customdata[0]}<br>Representation=%{customdata[1]}<br>Method=%{customdata[2]}<br>Year=%{customdata[3]}<extra></extra>",
         "legendgroup": "7936",
         "marker": {
          "color": "#636efa",
          "symbol": "circle"
         },
         "mode": "markers",
         "name": "7936",
         "showlegend": true,
         "type": "scattergl",
         "x": [
          283.15,
          295.15,
          309.15,
          326.15,
          347.15,
          362.15,
          384.15,
          403.15,
          426.15,
          446.15,
          468.15,
          485.15,
          506.15,
          528.15,
          550.15,
          573.15,
          593.15,
          615.15,
          635.15,
          658.15,
          679.15,
          698.15,
          721.15,
          743.15,
          765.15,
          784.15,
          802.15,
          824.15,
          844.15,
          863.15,
          883.15,
          904.15,
          924.15,
          944.15,
          964.15,
          984.15,
          1005.15,
          1024.15,
          1046.15,
          1065.15,
          1086.15,
          1105.15,
          1123.15,
          1144.15,
          1163.15,
          1182.15,
          1202.15,
          1213.15,
          1234.15,
          1252.15,
          1273.15,
          1292.15,
          1313.15,
          1331.15,
          1352.15
         ],
         "xaxis": "x",
         "y": [
          1.98e-8,
          2.01e-8,
          2.13e-8,
          2.24e-8,
          2.35e-8,
          2.49e-8,
          2.66e-8,
          2.81e-8,
          2.91e-8,
          3.05e-8,
          3.19e-8,
          3.29e-8,
          3.4e-8,
          3.54e-8,
          3.65e-8,
          3.82e-8,
          3.95e-8,
          4.07e-8,
          4.2e-8,
          4.36e-8,
          4.44e-8,
          4.64e-8,
          4.74e-8,
          4.93e-8,
          5.06e-8,
          5.27e-8,
          5.39e-8,
          5.58e-8,
          5.73e-8,
          5.87e-8,
          6.05e-8,
          6.22e-8,
          6.37e-8,
          6.55e-8,
          6.69e-8,
          6.92e-8,
          7.04e-8,
          7.25e-8,
          7.43e-8,
          7.6e-8,
          7.78e-8,
          7.96e-8,
          8.11e-8,
          8.29e-8,
          8.48e-8,
          8.63e-8,
          8.84e-8,
          8.93e-8,
          9.16e-8,
          9.32e-8,
          9.52e-8,
          9.72e-8,
          9.98e-8,
          1.02e-7,
          1.046e-7
         ],
         "yaxis": "y"
        },
        {
         "customdata": [
          [
           [
            "C"
           ],
           "A",
           "noat stated",
           1957
          ]
         ],
         "error_y": {
          "array": [
           1.69e-10
          ]
         },
         "hovertemplate": "Data Set ID=8071<br>Temperature: kg/cm**2=%{x}<br>Electrical resistivity: ohm*m=%{y}<br>State=%{customdata[0]}<br>Representation=%{customdata[1]}<br>Method=%{customdata[2]}<br>Year=%{customdata[3]}<extra></extra>",
         "legendgroup": "8071",
         "marker": {
          "color": "#EF553B",
          "symbol": "circle"
         },
         "mode": "markers",
         "name": "8071",
         "showlegend": true,
         "type": "scattergl",
         "x": [
          298
         ],
         "xaxis": "x",
         "y": [
          1.69e-8
         ],
         "yaxis": "y"
        },
        {
         "customdata": [
          [
           [
            "C"
           ],
           "RFR",
           "Modified diamond anvil cell",
           1957
          ],
          [
           [
            "C"
           ],
           "RFR",
           "Modified diamond anvil cell",
           1957
          ],
          [
           [
            "C"
           ],
           "RFR",
           "Modified diamond anvil cell",
           1957
          ],
          [
           [
            "C"
           ],
           "RFR",
           "Modified diamond anvil cell",
           1957
          ],
          [
           [
            "C"
           ],
           "RFR",
           "Modified diamond anvil cell",
           1957
          ],
          [
           [
            "C"
           ],
           "RFR",
           "Modified diamond anvil cell",
           1957
          ],
          [
           [
            "C"
           ],
           "RFR",
           "Modified diamond anvil cell",
           1957
          ],
          [
           [
            "C"
           ],
           "RFR",
           "Modified diamond anvil cell",
           1957
          ],
          [
           [
            "C"
           ],
           "RFR",
           "Modified diamond anvil cell",
           1957
          ],
          [
           [
            "C"
           ],
           "RFR",
           "Modified diamond anvil cell",
           1957
          ],
          [
           [
            "C"
           ],
           "RFR",
           "Modified diamond anvil cell",
           1957
          ],
          [
           [
            "C"
           ],
           "RFR",
           "Modified diamond anvil cell",
           1957
          ],
          [
           [
            "C"
           ],
           "RFR",
           "Modified diamond anvil cell",
           1957
          ],
          [
           [
            "C"
           ],
           "RFR",
           "Modified diamond anvil cell",
           1957
          ]
         ],
         "error_y": {
          "array": [
           0.01,
           0.0099054,
           0.0098195,
           0.009737,
           0.009656,
           0.009579,
           0.009506,
           0.00939,
           0.00928,
           0.00919,
           0.00911,
           0.00903,
           0.00896,
           0.0089
          ]
         },
         "hovertemplate": "Data Set ID=8072<br>Temperature: kg/cm**2=%{x}<br>Electrical resistivity: ohm*m=%{y}<br>State=%{customdata[0]}<br>Representation=%{customdata[1]}<br>Method=%{customdata[2]}<br>Year=%{customdata[3]}<extra></extra>",
         "legendgroup": "8072",
         "marker": {
          "color": "#00cc96",
          "symbol": "circle"
         },
         "mode": "markers",
         "name": "8072",
         "showlegend": true,
         "type": "scattergl",
         "x": [
          298,
          298,
          298,
          298,
          298,
          298,
          298,
          298,
          298,
          298,
          298,
          298,
          298,
          298
         ],
         "xaxis": "x",
         "y": [
          1,
          0.99054,
          0.98195,
          0.9737,
          0.9656,
          0.9579,
          0.9506,
          0.939,
          0.928,
          0.919,
          0.911,
          0.903,
          0.896,
          0.89
         ],
         "yaxis": "y"
        },
        {
         "customdata": [
          [
           [
            "L"
           ],
           "A",
           "from induced torque of rotating magnetic field",
           1957
          ],
          [
           [
            "L"
           ],
           "A",
           "from induced torque of rotating magnetic field",
           1957
          ]
         ],
         "error_y": {
          "array": [
           2.12e-9,
           2.21e-9
          ]
         },
         "hovertemplate": "Data Set ID=8472<br>Temperature: kg/cm**2=%{x}<br>Electrical resistivity: ohm*m=%{y}<br>State=%{customdata[0]}<br>Representation=%{customdata[1]}<br>Method=%{customdata[2]}<br>Year=%{customdata[3]}<extra></extra>",
         "legendgroup": "8472",
         "marker": {
          "color": "#ab63fa",
          "symbol": "circle"
         },
         "mode": "markers",
         "name": "8472",
         "showlegend": true,
         "type": "scattergl",
         "x": [
          1373.15,
          1473.15
         ],
         "xaxis": "x",
         "y": [
          2.12e-7,
          2.21e-7
         ],
         "yaxis": "y"
        },
        {
         "customdata": [
          [
           [
            "L"
           ],
           "A",
           "from induced torque of rotating magnetic field",
           1957
          ],
          [
           [
            "L"
           ],
           "A",
           "from induced torque of rotating magnetic field",
           1957
          ],
          [
           [
            "L"
           ],
           "A",
           "from induced torque of rotating magnetic field",
           1957
          ],
          [
           [
            "L"
           ],
           "A",
           "from induced torque of rotating magnetic field",
           1957
          ],
          [
           [
            "L"
           ],
           "A",
           "from induced torque of rotating magnetic field",
           1957
          ],
          [
           [
            "L"
           ],
           "A",
           "from induced torque of rotating magnetic field",
           1957
          ]
         ],
         "error_y": {
          "array": [
           2.1207e-9,
           2.1351e-9,
           2.1583e-9,
           2.1803e-9,
           2.1942e-9,
           2.2109e-9
          ]
         },
         "hovertemplate": "Data Set ID=8473<br>Temperature: kg/cm**2=%{x}<br>Electrical resistivity: ohm*m=%{y}<br>State=%{customdata[0]}<br>Representation=%{customdata[1]}<br>Method=%{customdata[2]}<br>Year=%{customdata[3]}<extra></extra>",
         "legendgroup": "8473",
         "marker": {
          "color": "#FFA15A",
          "symbol": "circle"
         },
         "mode": "markers",
         "name": "8473",
         "showlegend": true,
         "type": "scattergl",
         "x": [
          1373.94,
          1392.7,
          1411.52,
          1431.61,
          1452.01,
          1473.43
         ],
         "xaxis": "x",
         "y": [
          2.1207e-7,
          2.1351e-7,
          2.1583e-7,
          2.1803e-7,
          2.1942e-7,
          2.2109e-7
         ],
         "yaxis": "y"
        },
        {
         "customdata": [
          [
           [
            "C"
           ],
           "A",
           "from induced torque of rotating magnetic field",
           1957
          ],
          [
           [
            "C"
           ],
           "A",
           "from induced torque of rotating magnetic field",
           1957
          ],
          [
           [
            "C"
           ],
           "A",
           "from induced torque of rotating magnetic field",
           1957
          ],
          [
           [
            "C"
           ],
           "A",
           "from induced torque of rotating magnetic field",
           1957
          ],
          [
           [
            "C"
           ],
           "A",
           "from induced torque of rotating magnetic field",
           1957
          ]
         ],
         "error_y": {
          "array": [
           9.4333e-10,
           9.6401e-10,
           9.8423e-10,
           1.0132e-9,
           1.0395e-9
          ]
         },
         "hovertemplate": "Data Set ID=8474<br>Temperature: kg/cm**2=%{x}<br>Electrical resistivity: ohm*m=%{y}<br>State=%{customdata[0]}<br>Representation=%{customdata[1]}<br>Method=%{customdata[2]}<br>Year=%{customdata[3]}<extra></extra>",
         "legendgroup": "8474",
         "marker": {
          "color": "#19d3f3",
          "symbol": "circle"
         },
         "mode": "markers",
         "name": "8474",
         "showlegend": true,
         "type": "scattergl",
         "x": [
          1278.68,
          1299.14,
          1318.88,
          1337.76,
          1356.73
         ],
         "xaxis": "x",
         "y": [
          9.4333e-8,
          9.6401e-8,
          9.8423e-8,
          1.0132e-7,
          1.0395e-7
         ],
         "yaxis": "y"
        },
        {
         "customdata": [
          [
           [
            "L"
           ],
           "A",
           "From induced torque of rotating magnetic field",
           1957
          ],
          [
           [
            "L"
           ],
           "A",
           "From induced torque of rotating magnetic field",
           1957
          ],
          [
           [
            "L"
           ],
           "A",
           "From induced torque of rotating magnetic field",
           1957
          ],
          [
           [
            "L"
           ],
           "A",
           "From induced torque of rotating magnetic field",
           1957
          ],
          [
           [
            "L"
           ],
           "A",
           "From induced torque of rotating magnetic field",
           1957
          ],
          [
           [
            "L"
           ],
           "A",
           "From induced torque of rotating magnetic field",
           1957
          ]
         ],
         "error_y": {
          "array": [
           2.1237e-9,
           2.1275e-9,
           2.1586e-9,
           2.1715e-9,
           2.1768e-9,
           2.2071e-9
          ]
         },
         "hovertemplate": "Data Set ID=8507<br>Temperature: kg/cm**2=%{x}<br>Electrical resistivity: ohm*m=%{y}<br>State=%{customdata[0]}<br>Representation=%{customdata[1]}<br>Method=%{customdata[2]}<br>Year=%{customdata[3]}<extra></extra>",
         "legendgroup": "8507",
         "marker": {
          "color": "#FF6692",
          "symbol": "circle"
         },
         "mode": "markers",
         "name": "8507",
         "showlegend": true,
         "type": "scattergl",
         "x": [
          1371.72,
          1391.94,
          1410.96,
          1431.03,
          1452.92,
          1472.99
         ],
         "xaxis": "x",
         "y": [
          2.1237e-7,
          2.1275e-7,
          2.1586e-7,
          2.1715e-7,
          2.1768e-7,
          2.2071e-7
         ],
         "yaxis": "y"
        },
        {
         "customdata": [
          [
           [
            "L",
            "C"
           ],
           "A",
           "From induced torque of rotating magnetic field",
           1957
          ]
         ],
         "error_y": {
          "array": [
           2.11e-9
          ]
         },
         "hovertemplate": "Data Set ID=8508<br>Temperature: kg/cm**2=%{x}<br>Electrical resistivity: ohm*m=%{y}<br>State=%{customdata[0]}<br>Representation=%{customdata[1]}<br>Method=%{customdata[2]}<br>Year=%{customdata[3]}<extra></extra>",
         "legendgroup": "8508",
         "marker": {
          "color": "#B6E880",
          "symbol": "circle"
         },
         "mode": "markers",
         "name": "8508",
         "showlegend": true,
         "type": "scattergl",
         "x": [
          1356.47
         ],
         "xaxis": "x",
         "y": [
          2.11e-7
         ],
         "yaxis": "y"
        },
        {
         "customdata": [
          [
           [
            "L"
           ],
           "A",
           "From induced torque of rotating magnetic field",
           1957
          ],
          [
           [
            "L"
           ],
           "A",
           "From induced torque of rotating magnetic field",
           1957
          ],
          [
           [
            "L"
           ],
           "A",
           "From induced torque of rotating magnetic field",
           1957
          ],
          [
           [
            "L"
           ],
           "A",
           "From induced torque of rotating magnetic field",
           1957
          ]
         ],
         "error_y": {
          "array": [
           6.363e-9,
           6.6315e-9,
           6.3549e-9,
           6.627e-9
          ]
         },
         "hovertemplate": "Data Set ID=8532<br>Temperature: kg/cm**2=%{x}<br>Electrical resistivity: ohm*m=%{y}<br>State=%{customdata[0]}<br>Representation=%{customdata[1]}<br>Method=%{customdata[2]}<br>Year=%{customdata[3]}<extra></extra>",
         "legendgroup": "8532",
         "marker": {
          "color": "#FF97FF",
          "symbol": "circle"
         },
         "mode": "markers",
         "name": "8532",
         "showlegend": true,
         "type": "scattergl",
         "x": [
          1373.15,
          1473.15,
          1373.15,
          1473.15
         ],
         "xaxis": "x",
         "y": [
          2.121e-7,
          2.2105e-7,
          2.1183e-7,
          2.209e-7
         ],
         "yaxis": "y"
        },
        {
         "customdata": [
          [
           [
            "C"
           ],
           "A",
           "Four point probe",
           1958
          ],
          [
           [
            "C"
           ],
           "A",
           "Four point probe",
           1958
          ],
          [
           [
            "C"
           ],
           "A",
           "Four point probe",
           1958
          ],
          [
           [
            "C"
           ],
           "A",
           "Four point probe",
           1958
          ]
         ],
         "error_y": {
          "array": [
           1.9329e-10,
           4.3189e-10,
           5.6658e-10,
           7.4689e-10
          ]
         },
         "hovertemplate": "Data Set ID=8890<br>Temperature: kg/cm**2=%{x}<br>Electrical resistivity: ohm*m=%{y}<br>State=%{customdata[0]}<br>Representation=%{customdata[1]}<br>Method=%{customdata[2]}<br>Year=%{customdata[3]}<extra></extra>",
         "legendgroup": "8890",
         "marker": {
          "color": "#FECB52",
          "symbol": "circle"
         },
         "mode": "markers",
         "name": "8890",
         "showlegend": true,
         "type": "scattergl",
         "x": [
          316.798,
          625.914,
          820.638,
          1054.93
         ],
         "xaxis": "x",
         "y": [
          1.9329e-8,
          4.3189e-8,
          5.6658e-8,
          7.4689e-8
         ],
         "yaxis": "y"
        },
        {
         "customdata": [
          [
           [
            "C"
           ],
           "A",
           "DC potentiometric method",
           1959
          ],
          [
           [
            "C"
           ],
           "A",
           "DC potentiometric method",
           1959
          ],
          [
           [
            "C"
           ],
           "A",
           "DC potentiometric method",
           1959
          ],
          [
           [
            "C"
           ],
           "A",
           "DC potentiometric method",
           1959
          ],
          [
           [
            "C"
           ],
           "A",
           "DC potentiometric method",
           1959
          ],
          [
           [
            "C"
           ],
           "A",
           "DC potentiometric method",
           1959
          ],
          [
           [
            "C"
           ],
           "A",
           "DC potentiometric method",
           1959
          ],
          [
           [
            "C"
           ],
           "A",
           "DC potentiometric method",
           1959
          ],
          [
           [
            "C"
           ],
           "A",
           "DC potentiometric method",
           1959
          ],
          [
           [
            "C"
           ],
           "A",
           "DC potentiometric method",
           1959
          ],
          [
           [
            "C"
           ],
           "A",
           "DC potentiometric method",
           1959
          ],
          [
           [
            "C"
           ],
           "A",
           "DC potentiometric method",
           1959
          ],
          [
           [
            "C"
           ],
           "A",
           "DC potentiometric method",
           1959
          ],
          [
           [
            "C"
           ],
           "A",
           "DC potentiometric method",
           1959
          ],
          [
           [
            "C"
           ],
           "A",
           "DC potentiometric method",
           1959
          ],
          [
           [
            "C"
           ],
           "A",
           "DC potentiometric method",
           1959
          ],
          [
           [
            "C"
           ],
           "A",
           "DC potentiometric method",
           1959
          ],
          [
           [
            "C"
           ],
           "A",
           "DC potentiometric method",
           1959
          ],
          [
           [
            "C"
           ],
           "A",
           "DC potentiometric method",
           1959
          ],
          [
           [
            "C"
           ],
           "A",
           "DC potentiometric method",
           1959
          ],
          [
           [
            "C"
           ],
           "A",
           "DC potentiometric method",
           1959
          ],
          [
           [
            "C"
           ],
           "A",
           "DC potentiometric method",
           1959
          ]
         ],
         "error_y": {
          "array": [
           2.18e-13,
           2.18e-13,
           2.2e-13,
           2.26e-13,
           2.48e-13,
           4.46e-13,
           5.78e-13,
           3.8e-11,
           3.3e-10,
           2.56e-12,
           2.64e-12,
           2.66e-12,
           2.68e-12,
           2.96e-12,
           3.06e-12,
           3.3e-12,
           2.56e-11,
           2.92e-11,
           3.68e-11,
           4.24e-11,
           4.84e-11,
           5.28e-11
          ]
         },
         "hovertemplate": "Data Set ID=9420<br>Temperature: kg/cm**2=%{x}<br>Electrical resistivity: ohm*m=%{y}<br>State=%{customdata[0]}<br>Representation=%{customdata[1]}<br>Method=%{customdata[2]}<br>Year=%{customdata[3]}<extra></extra>",
         "legendgroup": "9420",
         "marker": {
          "color": "#636efa",
          "symbol": "circle"
         },
         "mode": "markers",
         "name": "9420",
         "showlegend": true,
         "type": "scattergl",
         "x": [
          4.012,
          5.0346,
          6.4452,
          7.7459,
          12.6975,
          20.6237,
          23.3494,
          76.838,
          292.55,
          4.0444,
          7.4546,
          8.6237,
          9.5016,
          21.0383,
          22.2225,
          24.73,
          61.723,
          64.507,
          72.072,
          75.667,
          79.525,
          83.084
         ],
         "xaxis": "x",
         "y": [
          1.09e-11,
          1.09e-11,
          1.1e-11,
          1.13e-11,
          1.24e-11,
          2.23e-11,
          2.89e-11,
          1.9e-9,
          1.65e-8,
          1.28e-10,
          1.32e-10,
          1.33e-10,
          1.34e-10,
          1.48e-10,
          1.53e-10,
          1.65e-10,
          1.28e-9,
          1.46e-9,
          1.84e-9,
          2.12e-9,
          2.42e-9,
          2.64e-9
         ],
         "yaxis": "y"
        },
        {
         "customdata": [
          [
           [
            "C"
           ],
           "A",
           "DC potentiometric method",
           1959
          ],
          [
           [
            "C"
           ],
           "A",
           "DC potentiometric method",
           1959
          ],
          [
           [
            "C"
           ],
           "A",
           "DC potentiometric method",
           1959
          ],
          [
           [
            "C"
           ],
           "A",
           "DC potentiometric method",
           1959
          ],
          [
           [
            "C"
           ],
           "A",
           "DC potentiometric method",
           1959
          ],
          [
           [
            "C"
           ],
           "A",
           "DC potentiometric method",
           1959
          ],
          [
           [
            "C"
           ],
           "A",
           "DC potentiometric method",
           1959
          ],
          [
           [
            "C"
           ],
           "A",
           "DC potentiometric method",
           1959
          ],
          [
           [
            "C"
           ],
           "A",
           "DC potentiometric method",
           1959
          ],
          [
           [
            "C"
           ],
           "A",
           "DC potentiometric method",
           1959
          ]
         ],
         "error_y": {
          "array": [
           2.02e-13,
           3.09e-10,
           5.84e-13,
           3.096e-10,
           9.22e-13,
           3.102e-10,
           1.384e-12,
           3.106e-10,
           1.772e-12,
           3.126e-10
          ]
         },
         "hovertemplate": "Data Set ID=9421<br>Temperature: kg/cm**2=%{x}<br>Electrical resistivity: ohm*m=%{y}<br>State=%{customdata[0]}<br>Representation=%{customdata[1]}<br>Method=%{customdata[2]}<br>Year=%{customdata[3]}<extra></extra>",
         "legendgroup": "9421",
         "marker": {
          "color": "#EF553B",
          "symbol": "circle"
         },
         "mode": "markers",
         "name": "9421",
         "showlegend": true,
         "type": "scattergl",
         "x": [
          4,
          273,
          4,
          273,
          4,
          273,
          4,
          273,
          4,
          273
         ],
         "xaxis": "x",
         "y": [
          1.01e-11,
          1.545e-8,
          2.92e-11,
          1.548e-8,
          4.61e-11,
          1.551e-8,
          6.92e-11,
          1.553e-8,
          8.86e-11,
          1.563e-8
         ],
         "yaxis": "y"
        },
        {
         "customdata": [
          [
           [
            "C"
           ],
           "A",
           "Voltmeter and ammeter direct reading method",
           1960
          ]
         ],
         "error_y": {
          "array": [
           4.35e-13
          ]
         },
         "hovertemplate": "Data Set ID=9986<br>Temperature: kg/cm**2=%{x}<br>Electrical resistivity: ohm*m=%{y}<br>State=%{customdata[0]}<br>Representation=%{customdata[1]}<br>Method=%{customdata[2]}<br>Year=%{customdata[3]}<extra></extra>",
         "legendgroup": "9986",
         "marker": {
          "color": "#00cc96",
          "symbol": "circle"
         },
         "mode": "markers",
         "name": "9986",
         "showlegend": true,
         "type": "scattergl",
         "x": [
          0
         ],
         "xaxis": "x",
         "y": [
          8.7e-12
         ],
         "yaxis": "y"
        },
        {
         "customdata": [
          [
           [
            "C"
           ],
           "A",
           "Voltmeter and ammeter direct reading method",
           1960
          ],
          [
           [
            "C"
           ],
           "A",
           "Voltmeter and ammeter direct reading method",
           1960
          ]
         ],
         "error_y": {
          "array": [
           1.675e-10,
           2.75e-11
          ]
         },
         "hovertemplate": "Data Set ID=9987<br>Temperature: kg/cm**2=%{x}<br>Electrical resistivity: ohm*m=%{y}<br>State=%{customdata[0]}<br>Representation=%{customdata[1]}<br>Method=%{customdata[2]}<br>Year=%{customdata[3]}<extra></extra>",
         "legendgroup": "9987",
         "marker": {
          "color": "#ab63fa",
          "symbol": "circle"
         },
         "mode": "markers",
         "name": "9987",
         "showlegend": true,
         "type": "scattergl",
         "x": [
          294,
          90
         ],
         "xaxis": "x",
         "y": [
          1.675e-8,
          2.75e-9
         ],
         "yaxis": "y"
        },
        {
         "customdata": [
          [
           [
            "C"
           ],
           "A",
           "magnetic damping",
           1961
          ]
         ],
         "error_y": {
          "array": [
           3.468e-10
          ]
         },
         "hovertemplate": "Data Set ID=10071<br>Temperature: kg/cm**2=%{x}<br>Electrical resistivity: ohm*m=%{y}<br>State=%{customdata[0]}<br>Representation=%{customdata[1]}<br>Method=%{customdata[2]}<br>Year=%{customdata[3]}<extra></extra>",
         "legendgroup": "10071",
         "marker": {
          "color": "#FFA15A",
          "symbol": "circle"
         },
         "mode": "markers",
         "name": "10071",
         "showlegend": true,
         "type": "scattergl",
         "x": [
          299.15
         ],
         "xaxis": "x",
         "y": [
          1.734e-8
         ],
         "yaxis": "y"
        },
        {
         "customdata": [
          [
           [
            "C"
           ],
           "A",
           "magnetic damping",
           1961
          ]
         ],
         "error_y": {
          "array": [
           3.534e-10
          ]
         },
         "hovertemplate": "Data Set ID=10072<br>Temperature: kg/cm**2=%{x}<br>Electrical resistivity: ohm*m=%{y}<br>State=%{customdata[0]}<br>Representation=%{customdata[1]}<br>Method=%{customdata[2]}<br>Year=%{customdata[3]}<extra></extra>",
         "legendgroup": "10072",
         "marker": {
          "color": "#19d3f3",
          "symbol": "circle"
         },
         "mode": "markers",
         "name": "10072",
         "showlegend": true,
         "type": "scattergl",
         "x": [
          299.15
         ],
         "xaxis": "x",
         "y": [
          1.767e-8
         ],
         "yaxis": "y"
        },
        {
         "customdata": [
          [
           [
            "C"
           ],
           "A",
           "magnetic damping",
           1961
          ]
         ],
         "error_y": {
          "array": [
           3.638e-10
          ]
         },
         "hovertemplate": "Data Set ID=10073<br>Temperature: kg/cm**2=%{x}<br>Electrical resistivity: ohm*m=%{y}<br>State=%{customdata[0]}<br>Representation=%{customdata[1]}<br>Method=%{customdata[2]}<br>Year=%{customdata[3]}<extra></extra>",
         "legendgroup": "10073",
         "marker": {
          "color": "#FF6692",
          "symbol": "circle"
         },
         "mode": "markers",
         "name": "10073",
         "showlegend": true,
         "type": "scattergl",
         "x": [
          299.15
         ],
         "xaxis": "x",
         "y": [
          1.819e-8
         ],
         "yaxis": "y"
        },
        {
         "customdata": [
          [
           [
            "C"
           ],
           "A",
           "magnetic damping",
           1961
          ]
         ],
         "error_y": {
          "array": [
           3.512e-10
          ]
         },
         "hovertemplate": "Data Set ID=10074<br>Temperature: kg/cm**2=%{x}<br>Electrical resistivity: ohm*m=%{y}<br>State=%{customdata[0]}<br>Representation=%{customdata[1]}<br>Method=%{customdata[2]}<br>Year=%{customdata[3]}<extra></extra>",
         "legendgroup": "10074",
         "marker": {
          "color": "#B6E880",
          "symbol": "circle"
         },
         "mode": "markers",
         "name": "10074",
         "showlegend": true,
         "type": "scattergl",
         "x": [
          299.15
         ],
         "xaxis": "x",
         "y": [
          1.756e-8
         ],
         "yaxis": "y"
        },
        {
         "customdata": [
          [
           [
            "C"
           ],
           "A",
           "magnetic damping",
           1961
          ]
         ],
         "error_y": {
          "array": [
           3.704e-10
          ]
         },
         "hovertemplate": "Data Set ID=10075<br>Temperature: kg/cm**2=%{x}<br>Electrical resistivity: ohm*m=%{y}<br>State=%{customdata[0]}<br>Representation=%{customdata[1]}<br>Method=%{customdata[2]}<br>Year=%{customdata[3]}<extra></extra>",
         "legendgroup": "10075",
         "marker": {
          "color": "#FF97FF",
          "symbol": "circle"
         },
         "mode": "markers",
         "name": "10075",
         "showlegend": true,
         "type": "scattergl",
         "x": [
          299.15
         ],
         "xaxis": "x",
         "y": [
          1.852e-8
         ],
         "yaxis": "y"
        },
        {
         "customdata": [
          [
           [
            "C"
           ],
           "A",
           "DC potentiometric method",
           1964
          ],
          [
           [
            "C"
           ],
           "A",
           "DC potentiometric method",
           1964
          ],
          [
           [
            "C"
           ],
           "A",
           "DC potentiometric method",
           1964
          ],
          [
           [
            "C"
           ],
           "A",
           "DC potentiometric method",
           1964
          ]
         ],
         "error_y": {
          "array": [
           4.118e-11,
           2.00022e-10,
           3.14384e-10,
           4.4045e-10
          ]
         },
         "hovertemplate": "Data Set ID=12143<br>Temperature: kg/cm**2=%{x}<br>Electrical resistivity: ohm*m=%{y}<br>State=%{customdata[0]}<br>Representation=%{customdata[1]}<br>Method=%{customdata[2]}<br>Year=%{customdata[3]}<extra></extra>",
         "legendgroup": "12143",
         "marker": {
          "color": "#FECB52",
          "symbol": "circle"
         },
         "mode": "markers",
         "name": "12143",
         "showlegend": true,
         "type": "scattergl",
         "x": [
          77,
          195,
          273,
          373
         ],
         "xaxis": "x",
         "y": [
          2.059e-9,
          1.00011e-8,
          1.57192e-8,
          2.20225e-8
         ],
         "yaxis": "y"
        },
        {
         "customdata": [
          [
           [
            "C"
           ],
           "A",
           "DC potentiometric method",
           1964
          ]
         ],
         "error_y": {
          "array": [
           2.9e-10
          ]
         },
         "hovertemplate": "Data Set ID=12144<br>Temperature: kg/cm**2=%{x}<br>Electrical resistivity: ohm*m=%{y}<br>State=%{customdata[0]}<br>Representation=%{customdata[1]}<br>Method=%{customdata[2]}<br>Year=%{customdata[3]}<extra></extra>",
         "legendgroup": "12144",
         "marker": {
          "color": "#636efa",
          "symbol": "circle"
         },
         "mode": "markers",
         "name": "12144",
         "showlegend": true,
         "type": "scattergl",
         "x": [
          273
         ],
         "xaxis": "x",
         "y": [
          1.45e-8
         ],
         "yaxis": "y"
        },
        {
         "customdata": [
          [
           [
            "C"
           ],
           "A",
           "liquid helium 3 cryostat",
           1965
          ],
          [
           [
            "C"
           ],
           "A",
           "liquid helium 3 cryostat",
           1965
          ],
          [
           [
            "C"
           ],
           "A",
           "liquid helium 3 cryostat",
           1965
          ],
          [
           [
            "C"
           ],
           "A",
           "liquid helium 3 cryostat",
           1965
          ],
          [
           [
            "C"
           ],
           "A",
           "liquid helium 3 cryostat",
           1965
          ],
          [
           [
            "C"
           ],
           "A",
           "liquid helium 3 cryostat",
           1965
          ],
          [
           [
            "C"
           ],
           "A",
           "liquid helium 3 cryostat",
           1965
          ],
          [
           [
            "C"
           ],
           "A",
           "liquid helium 3 cryostat",
           1965
          ],
          [
           [
            "C"
           ],
           "A",
           "liquid helium 3 cryostat",
           1965
          ],
          [
           [
            "C"
           ],
           "A",
           "liquid helium 3 cryostat",
           1965
          ],
          [
           [
            "C"
           ],
           "A",
           "liquid helium 3 cryostat",
           1965
          ],
          [
           [
            "C"
           ],
           "A",
           "liquid helium 3 cryostat",
           1965
          ],
          [
           [
            "C"
           ],
           "A",
           "liquid helium 3 cryostat",
           1965
          ],
          [
           [
            "C"
           ],
           "A",
           "liquid helium 3 cryostat",
           1965
          ],
          [
           [
            "C"
           ],
           "A",
           "liquid helium 3 cryostat",
           1965
          ],
          [
           [
            "C"
           ],
           "A",
           "liquid helium 3 cryostat",
           1965
          ],
          [
           [
            "C"
           ],
           "A",
           "liquid helium 3 cryostat",
           1965
          ],
          [
           [
            "C"
           ],
           "A",
           "liquid helium 3 cryostat",
           1965
          ],
          [
           [
            "C"
           ],
           "A",
           "liquid helium 3 cryostat",
           1965
          ],
          [
           [
            "C"
           ],
           "A",
           "liquid helium 3 cryostat",
           1965
          ],
          [
           [
            "C"
           ],
           "A",
           "liquid helium 3 cryostat",
           1965
          ],
          [
           [
            "C"
           ],
           "A",
           "liquid helium 3 cryostat",
           1965
          ],
          [
           [
            "C"
           ],
           "A",
           "liquid helium 3 cryostat",
           1965
          ]
         ],
         "error_y": {
          "array": [
           2.384e-12,
           2.394e-12,
           2.37e-12,
           2.394e-12,
           2.364e-12,
           2.394e-12,
           2.366e-12,
           2.394e-12,
           2.39e-12,
           2.406e-12,
           2.392e-12,
           2.394e-12,
           2.412e-12,
           2.4e-12,
           2.376e-12,
           2.398e-12,
           2.33e-12,
           2.348e-12,
           2.366e-12,
           2.39e-12,
           2.4e-12,
           2.336e-12,
           2.374e-12
          ]
         },
         "hovertemplate": "Data Set ID=13240<br>Temperature: kg/cm**2=%{x}<br>Electrical resistivity: ohm*m=%{y}<br>State=%{customdata[0]}<br>Representation=%{customdata[1]}<br>Method=%{customdata[2]}<br>Year=%{customdata[3]}<extra></extra>",
         "legendgroup": "13240",
         "marker": {
          "color": "#EF553B",
          "symbol": "circle"
         },
         "mode": "markers",
         "name": "13240",
         "showlegend": true,
         "type": "scattergl",
         "x": [
          0.35,
          0.35,
          0.41,
          0.45,
          0.46,
          0.48,
          0.55,
          0.63,
          0.73,
          0.74,
          0.8,
          0.81,
          0.83,
          0.85,
          0.87,
          0.88,
          0.94,
          0.94,
          0.97,
          1,
          1.05,
          1.05,
          1.08
         ],
         "xaxis": "x",
         "y": [
          1.192e-10,
          1.197e-10,
          1.185e-10,
          1.197e-10,
          1.182e-10,
          1.197e-10,
          1.183e-10,
          1.197e-10,
          1.195e-10,
          1.203e-10,
          1.196e-10,
          1.197e-10,
          1.206e-10,
          1.2e-10,
          1.188e-10,
          1.199e-10,
          1.165e-10,
          1.174e-10,
          1.183e-10,
          1.195e-10,
          1.2e-10,
          1.168e-10,
          1.187e-10
         ],
         "yaxis": "y"
        },
        {
         "customdata": [
          [
           [
            "C"
           ],
           "A",
           "Four point probe",
           1965
          ],
          [
           [
            "C"
           ],
           "A",
           "Four point probe",
           1965
          ],
          [
           [
            "C"
           ],
           "A",
           "Four point probe",
           1965
          ],
          [
           [
            "C"
           ],
           "A",
           "Four point probe",
           1965
          ],
          [
           [
            "C"
           ],
           "A",
           "Four point probe",
           1965
          ],
          [
           [
            "C"
           ],
           "A",
           "Four point probe",
           1965
          ],
          [
           [
            "C"
           ],
           "A",
           "Four point probe",
           1965
          ],
          [
           [
            "C"
           ],
           "A",
           "Four point probe",
           1965
          ],
          [
           [
            "C"
           ],
           "A",
           "Four point probe",
           1965
          ],
          [
           [
            "C"
           ],
           "A",
           "Four point probe",
           1965
          ],
          [
           [
            "C"
           ],
           "A",
           "Four point probe",
           1965
          ],
          [
           [
            "C"
           ],
           "A",
           "Four point probe",
           1965
          ],
          [
           [
            "C"
           ],
           "A",
           "Four point probe",
           1965
          ],
          [
           [
            "C"
           ],
           "A",
           "Four point probe",
           1965
          ],
          [
           [
            "C"
           ],
           "A",
           "Four point probe",
           1965
          ],
          [
           [
            "C"
           ],
           "A",
           "Four point probe",
           1965
          ],
          [
           [
            "C"
           ],
           "A",
           "Four point probe",
           1965
          ],
          [
           [
            "C"
           ],
           "A",
           "Four point probe",
           1965
          ],
          [
           [
            "C"
           ],
           "A",
           "Four point probe",
           1965
          ],
          [
           [
            "C"
           ],
           "A",
           "Four point probe",
           1965
          ],
          [
           [
            "C"
           ],
           "A",
           "Four point probe",
           1965
          ],
          [
           [
            "C"
           ],
           "A",
           "Four point probe",
           1965
          ],
          [
           [
            "C"
           ],
           "A",
           "Four point probe",
           1965
          ],
          [
           [
            "C"
           ],
           "A",
           "Four point probe",
           1965
          ],
          [
           [
            "C"
           ],
           "A",
           "Four point probe",
           1965
          ],
          [
           [
            "C"
           ],
           "A",
           "Four point probe",
           1965
          ],
          [
           [
            "C"
           ],
           "A",
           "Four point probe",
           1965
          ],
          [
           [
            "C"
           ],
           "A",
           "Four point probe",
           1965
          ],
          [
           [
            "C"
           ],
           "A",
           "Four point probe",
           1965
          ],
          [
           [
            "C"
           ],
           "A",
           "Four point probe",
           1965
          ],
          [
           [
            "C"
           ],
           "A",
           "Four point probe",
           1965
          ],
          [
           [
            "C"
           ],
           "A",
           "Four point probe",
           1965
          ],
          [
           [
            "C"
           ],
           "A",
           "Four point probe",
           1965
          ],
          [
           [
            "C"
           ],
           "A",
           "Four point probe",
           1965
          ],
          [
           [
            "C"
           ],
           "A",
           "Four point probe",
           1965
          ],
          [
           [
            "C"
           ],
           "A",
           "Four point probe",
           1965
          ],
          [
           [
            "C"
           ],
           "A",
           "Four point probe",
           1965
          ],
          [
           [
            "C"
           ],
           "A",
           "Four point probe",
           1965
          ],
          [
           [
            "C"
           ],
           "A",
           "Four point probe",
           1965
          ],
          [
           [
            "C"
           ],
           "A",
           "Four point probe",
           1965
          ],
          [
           [
            "C"
           ],
           "A",
           "Four point probe",
           1965
          ],
          [
           [
            "C"
           ],
           "A",
           "Four point probe",
           1965
          ],
          [
           [
            "C"
           ],
           "A",
           "Four point probe",
           1965
          ],
          [
           [
            "C"
           ],
           "A",
           "Four point probe",
           1965
          ],
          [
           [
            "C"
           ],
           "A",
           "Four point probe",
           1965
          ],
          [
           [
            "C"
           ],
           "A",
           "Four point probe",
           1965
          ],
          [
           [
            "C"
           ],
           "A",
           "Four point probe",
           1965
          ],
          [
           [
            "C"
           ],
           "A",
           "Four point probe",
           1965
          ],
          [
           [
            "C"
           ],
           "A",
           "Four point probe",
           1965
          ],
          [
           [
            "C"
           ],
           "A",
           "Four point probe",
           1965
          ],
          [
           [
            "C"
           ],
           "A",
           "Four point probe",
           1965
          ],
          [
           [
            "C"
           ],
           "A",
           "Four point probe",
           1965
          ],
          [
           [
            "C"
           ],
           "A",
           "Four point probe",
           1965
          ],
          [
           [
            "C"
           ],
           "A",
           "Four point probe",
           1965
          ],
          [
           [
            "C"
           ],
           "A",
           "Four point probe",
           1965
          ],
          [
           [
            "C"
           ],
           "A",
           "Four point probe",
           1965
          ],
          [
           [
            "C"
           ],
           "A",
           "Four point probe",
           1965
          ],
          [
           [
            "C"
           ],
           "A",
           "Four point probe",
           1965
          ],
          [
           [
            "C"
           ],
           "A",
           "Four point probe",
           1965
          ],
          [
           [
            "C"
           ],
           "A",
           "Four point probe",
           1965
          ],
          [
           [
            "C"
           ],
           "A",
           "Four point probe",
           1965
          ],
          [
           [
            "C"
           ],
           "A",
           "Four point probe",
           1965
          ],
          [
           [
            "C"
           ],
           "A",
           "Four point probe",
           1965
          ],
          [
           [
            "C"
           ],
           "A",
           "Four point probe",
           1965
          ],
          [
           [
            "C"
           ],
           "A",
           "Four point probe",
           1965
          ],
          [
           [
            "C"
           ],
           "A",
           "Four point probe",
           1965
          ],
          [
           [
            "C"
           ],
           "A",
           "Four point probe",
           1965
          ],
          [
           [
            "C"
           ],
           "A",
           "Four point probe",
           1965
          ],
          [
           [
            "C"
           ],
           "A",
           "Four point probe",
           1965
          ]
         ],
         "error_y": {
          "array": [
           3.264e-12,
           1.488e-12,
           7.84e-13,
           1.68e-12,
           1.83e-12,
           1.76e-12,
           1.89e-12,
           1.496e-12,
           4.144e-12,
           5.808e-12,
           7.986e-12,
           1.0162e-11,
           1.2852e-11,
           1.6052e-11,
           1.8742e-11,
           2.194e-11,
           2.6164e-11,
           3.0394e-11,
           3.4106e-11,
           3.9358e-11,
           4.3582e-11,
           4.7814e-11,
           5.2032e-11,
           5.6258e-11,
           6.0482e-11,
           6.522e-11,
           6.9954e-11,
           7.3148e-11,
           7.7886e-11,
           8.2106e-11,
           8.6324e-11,
           9e-11,
           9.4226e-11,
           9.8964e-11,
           1.03188e-10,
           1.07926e-10,
           1.12152e-10,
           1.16372e-10,
           1.20596e-10,
           1.2534e-10,
           1.29052e-10,
           1.33784e-10,
           1.3801e-10,
           1.42234e-10,
           1.46972e-10,
           1.51202e-10,
           1.55428e-10,
           1.6016e-10,
           1.6439e-10,
           1.68102e-10,
           1.73354e-10,
           1.77578e-10,
           1.81296e-10,
           1.86542e-10,
           1.90254e-10,
           1.94474e-10,
           1.99212e-10,
           2.03436e-10,
           2.07662e-10,
           2.12394e-10,
           2.161e-10,
           2.20838e-10,
           2.25058e-10,
           2.29274e-10,
           2.33494e-10,
           2.37718e-10,
           2.41938e-10,
           2.46676e-10,
           2.50896e-10
          ]
         },
         "hovertemplate": "Data Set ID=13406<br>Temperature: kg/cm**2=%{x}<br>Electrical resistivity: ohm*m=%{y}<br>State=%{customdata[0]}<br>Representation=%{customdata[1]}<br>Method=%{customdata[2]}<br>Year=%{customdata[3]}<extra></extra>",
         "legendgroup": "13406",
         "marker": {
          "color": "#00cc96",
          "symbol": "circle"
         },
         "mode": "markers",
         "name": "13406",
         "showlegend": true,
         "type": "scattergl",
         "x": [
          2.96,
          7.817,
          15.781,
          23.162,
          27.629,
          30.351,
          34.205,
          37.751,
          40.215,
          43.914,
          47.613,
          51.311,
          55.009,
          58.553,
          62.251,
          65.795,
          69.337,
          73.034,
          76.578,
          80.12,
          83.663,
          87.36,
          90.749,
          94.292,
          97.834,
          101.377,
          104.765,
          108.155,
          111.697,
          115.086,
          118.475,
          120.939,
          124.482,
          128.025,
          131.567,
          135.11,
          138.653,
          142.042,
          145.585,
          149.281,
          152.825,
          156.213,
          159.756,
          163.299,
          166.841,
          170.538,
          174.081,
          177.47,
          181.167,
          184.71,
          188.252,
          191.795,
          195.493,
          198.881,
          202.424,
          205.813,
          209.355,
          212.898,
          216.441,
          219.829,
          223.218,
          226.761,
          230.15,
          233.384,
          236.773,
          240.316,
          243.705,
          247.247,
          250.636
         ],
         "xaxis": "x",
         "y": [
          1.632e-10,
          7.44e-11,
          3.92e-11,
          8.4e-11,
          9.15e-11,
          8.8e-11,
          9.45e-11,
          7.48e-11,
          2.072e-10,
          2.904e-10,
          3.993e-10,
          5.081e-10,
          6.426e-10,
          8.026e-10,
          9.371e-10,
          1.097e-9,
          1.3082e-9,
          1.5197e-9,
          1.7053e-9,
          1.9679e-9,
          2.1791e-9,
          2.3907e-9,
          2.6016e-9,
          2.8129e-9,
          3.0241e-9,
          3.261e-9,
          3.4977e-9,
          3.6574e-9,
          3.8943e-9,
          4.1053e-9,
          4.3162e-9,
          4.5e-9,
          4.7113e-9,
          4.9482e-9,
          5.1594e-9,
          5.3963e-9,
          5.6076e-9,
          5.8186e-9,
          6.0298e-9,
          6.267e-9,
          6.4526e-9,
          6.6892e-9,
          6.9005e-9,
          7.1117e-9,
          7.3486e-9,
          7.5601e-9,
          7.7714e-9,
          8.008e-9,
          8.2195e-9,
          8.4051e-9,
          8.6677e-9,
          8.8789e-9,
          9.0648e-9,
          9.3271e-9,
          9.5127e-9,
          9.7237e-9,
          9.9606e-9,
          1.01718e-8,
          1.03831e-8,
          1.06197e-8,
          1.0805e-8,
          1.10419e-8,
          1.12529e-8,
          1.14637e-8,
          1.16747e-8,
          1.18859e-8,
          1.20969e-8,
          1.23338e-8,
          1.25448e-8
         ],
         "yaxis": "y"
        },
        {
         "customdata": [
          [
           [
            "C"
           ],
           "RFR",
           "Four point probe",
           1965
          ]
         ],
         "error_y": {
          "array": [
           21.6
          ]
         },
         "hovertemplate": "Data Set ID=13407<br>Temperature: kg/cm**2=%{x}<br>Electrical resistivity: ohm*m=%{y}<br>State=%{customdata[0]}<br>Representation=%{customdata[1]}<br>Method=%{customdata[2]}<br>Year=%{customdata[3]}<extra></extra>",
         "legendgroup": "13407",
         "marker": {
          "color": "#ab63fa",
          "symbol": "circle"
         },
         "mode": "markers",
         "name": "13407",
         "showlegend": true,
         "type": "scattergl",
         "x": [
          273
         ],
         "xaxis": "x",
         "y": [
          1080
         ],
         "yaxis": "y"
        },
        {
         "customdata": [
          [
           [
            "C"
           ],
           "A",
           "Four point probe",
           1966
          ],
          [
           [
            "C"
           ],
           "A",
           "Four point probe",
           1966
          ],
          [
           [
            "C"
           ],
           "A",
           "Four point probe",
           1966
          ],
          [
           [
            "C"
           ],
           "A",
           "Four point probe",
           1966
          ],
          [
           [
            "C"
           ],
           "A",
           "Four point probe",
           1966
          ],
          [
           [
            "C"
           ],
           "A",
           "Four point probe",
           1966
          ],
          [
           [
            "C"
           ],
           "A",
           "Four point probe",
           1966
          ],
          [
           [
            "C"
           ],
           "A",
           "Four point probe",
           1966
          ],
          [
           [
            "C"
           ],
           "A",
           "Four point probe",
           1966
          ],
          [
           [
            "C"
           ],
           "A",
           "Four point probe",
           1966
          ],
          [
           [
            "C"
           ],
           "A",
           "Four point probe",
           1966
          ],
          [
           [
            "C"
           ],
           "A",
           "Four point probe",
           1966
          ],
          [
           [
            "C"
           ],
           "A",
           "Four point probe",
           1966
          ]
         ],
         "error_y": {
          "array": [
           1.25e-9,
           1.53e-9,
           1.75e-9,
           1.72e-9,
           1.55e-9,
           1.45e-9,
           1.36e-9,
           3.44e-12,
           6.68e-12,
           1.14e-11,
           2.27e-11,
           2.43e-11,
           1.36e-11
          ]
         },
         "hovertemplate": "Data Set ID=13850<br>Temperature: kg/cm**2=%{x}<br>Electrical resistivity: ohm*m=%{y}<br>State=%{customdata[0]}<br>Representation=%{customdata[1]}<br>Method=%{customdata[2]}<br>Year=%{customdata[3]}<extra></extra>",
         "legendgroup": "13850",
         "marker": {
          "color": "#FFA15A",
          "symbol": "circle"
         },
         "mode": "markers",
         "name": "13850",
         "showlegend": true,
         "type": "scattergl",
         "x": [
          294,
          294,
          294,
          294,
          294,
          294,
          294,
          4.2,
          4.2,
          4.2,
          4.2,
          4.2,
          4.2
         ],
         "xaxis": "x",
         "y": [
          6.27e-8,
          7.64e-8,
          8.76e-8,
          8.62e-8,
          7.75e-8,
          7.24e-8,
          6.82e-8,
          1.73e-10,
          3.34e-10,
          5.68e-10,
          1.137e-9,
          1.217e-9,
          6.78e-10
         ],
         "yaxis": "y"
        },
        {
         "customdata": [
          [
           [
            "C"
           ],
           "XFR",
           "Four point probe",
           1966
          ],
          [
           [
            "C"
           ],
           "XFR",
           "Four point probe",
           1966
          ],
          [
           [
            "C"
           ],
           "XFR",
           "Four point probe",
           1966
          ],
          [
           [
            "C"
           ],
           "XFR",
           "Four point probe",
           1966
          ],
          [
           [
            "C"
           ],
           "XFR",
           "Four point probe",
           1966
          ],
          [
           [
            "C"
           ],
           "XFR",
           "Four point probe",
           1966
          ],
          [
           [
            "C"
           ],
           "XFR",
           "Four point probe",
           1966
          ],
          [
           [
            "C"
           ],
           "XFR",
           "Four point probe",
           1966
          ],
          [
           [
            "C"
           ],
           "XFR",
           "Four point probe",
           1966
          ],
          [
           [
            "C"
           ],
           "XFR",
           "Four point probe",
           1966
          ],
          [
           [
            "C"
           ],
           "XFR",
           "Four point probe",
           1966
          ],
          [
           [
            "C"
           ],
           "XFR",
           "Four point probe",
           1966
          ],
          [
           [
            "C"
           ],
           "XFR",
           "Four point probe",
           1966
          ],
          [
           [
            "C"
           ],
           "XFR",
           "Four point probe",
           1966
          ],
          [
           [
            "C"
           ],
           "XFR",
           "Four point probe",
           1966
          ],
          [
           [
            "C"
           ],
           "XFR",
           "Four point probe",
           1966
          ],
          [
           [
            "C"
           ],
           "XFR",
           "Four point probe",
           1966
          ],
          [
           [
            "C"
           ],
           "XFR",
           "Four point probe",
           1966
          ],
          [
           [
            "C"
           ],
           "XFR",
           "Four point probe",
           1966
          ],
          [
           [
            "C"
           ],
           "XFR",
           "Four point probe",
           1966
          ],
          [
           [
            "C"
           ],
           "XFR",
           "Four point probe",
           1966
          ],
          [
           [
            "C"
           ],
           "XFR",
           "Four point probe",
           1966
          ],
          [
           [
            "C"
           ],
           "XFR",
           "Four point probe",
           1966
          ],
          [
           [
            "C"
           ],
           "XFR",
           "Four point probe",
           1966
          ],
          [
           [
            "C"
           ],
           "XFR",
           "Four point probe",
           1966
          ],
          [
           [
            "C"
           ],
           "XFR",
           "Four point probe",
           1966
          ],
          [
           [
            "C"
           ],
           "XFR",
           "Four point probe",
           1966
          ],
          [
           [
            "C"
           ],
           "XFR",
           "Four point probe",
           1966
          ],
          [
           [
            "C"
           ],
           "XFR",
           "Four point probe",
           1966
          ],
          [
           [
            "C"
           ],
           "XFR",
           "Four point probe",
           1966
          ],
          [
           [
            "C"
           ],
           "XFR",
           "Four point probe",
           1966
          ],
          [
           [
            "C"
           ],
           "XFR",
           "Four point probe",
           1966
          ],
          [
           [
            "C"
           ],
           "XFR",
           "Four point probe",
           1966
          ],
          [
           [
            "C"
           ],
           "XFR",
           "Four point probe",
           1966
          ],
          [
           [
            "C"
           ],
           "XFR",
           "Four point probe",
           1966
          ],
          [
           [
            "C"
           ],
           "XFR",
           "Four point probe",
           1966
          ]
         ],
         "error_y": {
          "array": [
           -0.00063346,
           -0.00098714,
           0.00187314,
           0.00365624,
           0.00831438,
           0.0137447,
           0.00000438,
           -0.00013388,
           0.0007602,
           0.00225756,
           0.00534458,
           0.0103133,
           0.023025,
           0.00008294,
           0.00007522,
           0.00029826,
           0.00034586,
           0.00051458,
           0.0007688,
           0.00214312,
           0.00444968,
           0.00864394,
           0.00002688,
           -0.00004962,
           -0.00000794,
           0.00004936,
           0.00104384,
           0.00195372,
           0.00375678,
           0.0122653,
           0.00109712,
           0.00095166,
           0.00090856,
           0.00401846,
           0.00976782,
           0.0171214
          ]
         },
         "hovertemplate": "Data Set ID=13851<br>Temperature: kg/cm**2=%{x}<br>Electrical resistivity: ohm*m=%{y}<br>State=%{customdata[0]}<br>Representation=%{customdata[1]}<br>Method=%{customdata[2]}<br>Year=%{customdata[3]}<extra></extra>",
         "legendgroup": "13851",
         "marker": {
          "color": "#19d3f3",
          "symbol": "circle"
         },
         "mode": "markers",
         "name": "13851",
         "showlegend": true,
         "type": "scattergl",
         "x": [
          7,
          11.4,
          17.3,
          21.5,
          25.5,
          27.9,
          6.4,
          11.2,
          17.6,
          21.7,
          25.7,
          29.5,
          35,
          4.2,
          13,
          14.7,
          16.2,
          17.2,
          19.7,
          24.2,
          28.9,
          33.6,
          6.8,
          9.3,
          12.3,
          14.7,
          20.9,
          24.1,
          27.4,
          36.3,
          6.5,
          8.4,
          10.8,
          17.3,
          20.5,
          23.6
         ],
         "xaxis": "x",
         "y": [
          -0.031673,
          -0.049357,
          0.093657,
          0.182812,
          0.415719,
          0.687237,
          0.000219,
          -0.006694,
          0.03801,
          0.112878,
          0.267229,
          0.515664,
          1.15125,
          0.004147,
          0.003761,
          0.014913,
          0.017293,
          0.025729,
          0.03844,
          0.107156,
          0.222484,
          0.432197,
          0.001344,
          -0.002481,
          -0.000397,
          0.002468,
          0.052192,
          0.097686,
          0.187839,
          0.613267,
          0.054856,
          0.047583,
          0.045428,
          0.200923,
          0.488391,
          0.856072
         ],
         "yaxis": "y"
        },
        {
         "customdata": [
          [
           [
            "C"
           ],
           "A",
           "DC potentiometric method",
           1966
          ],
          [
           [
            "C"
           ],
           "A",
           "DC potentiometric method",
           1966
          ],
          [
           [
            "C"
           ],
           "A",
           "DC potentiometric method",
           1966
          ],
          [
           [
            "C"
           ],
           "A",
           "DC potentiometric method",
           1966
          ],
          [
           [
            "C"
           ],
           "A",
           "DC potentiometric method",
           1966
          ],
          [
           [
            "C"
           ],
           "A",
           "DC potentiometric method",
           1966
          ],
          [
           [
            "C"
           ],
           "A",
           "DC potentiometric method",
           1966
          ]
         ],
         "error_y": {
          "array": [
           2.44518e-12,
           2.8644e-12,
           2.93172e-12,
           3.39654e-12,
           6.32094e-11,
           2.76564e-12,
           3.11562e-12
          ]
         },
         "hovertemplate": "Data Set ID=14032<br>Temperature: kg/cm**2=%{x}<br>Electrical resistivity: ohm*m=%{y}<br>State=%{customdata[0]}<br>Representation=%{customdata[1]}<br>Method=%{customdata[2]}<br>Year=%{customdata[3]}<extra></extra>",
         "legendgroup": "14032",
         "marker": {
          "color": "#FF6692",
          "symbol": "circle"
         },
         "mode": "markers",
         "name": "14032",
         "showlegend": true,
         "type": "scattergl",
         "x": [
          6.391,
          22.993,
          6.19,
          23.204,
          76.866,
          6.609,
          22.853
         ],
         "xaxis": "x",
         "y": [
          8.1506e-11,
          9.548e-11,
          9.7724e-11,
          1.13218e-10,
          2.10698e-9,
          9.2188e-11,
          1.03854e-10
         ],
         "yaxis": "y"
        },
        {
         "customdata": [
          [
           [
            "C"
           ],
           "A",
           "DC potentiometric method",
           1966
          ],
          [
           [
            "C"
           ],
           "A",
           "DC potentiometric method",
           1966
          ],
          [
           [
            "C"
           ],
           "A",
           "DC potentiometric method",
           1966
          ],
          [
           [
            "C"
           ],
           "A",
           "DC potentiometric method",
           1966
          ],
          [
           [
            "C"
           ],
           "A",
           "DC potentiometric method",
           1966
          ],
          [
           [
            "C"
           ],
           "A",
           "DC potentiometric method",
           1966
          ],
          [
           [
            "C"
           ],
           "A",
           "DC potentiometric method",
           1966
          ]
         ],
         "error_y": {
          "array": [
           2.43597e-13,
           5.70144e-13,
           4.98975e-13,
           8.23995e-13,
           5.83671e-11,
           2.62626e-13,
           6.16383e-13
          ]
         },
         "hovertemplate": "Data Set ID=14033<br>Temperature: kg/cm**2=%{x}<br>Electrical resistivity: ohm*m=%{y}<br>State=%{customdata[0]}<br>Representation=%{customdata[1]}<br>Method=%{customdata[2]}<br>Year=%{customdata[3]}<extra></extra>",
         "legendgroup": "14033",
         "marker": {
          "color": "#B6E880",
          "symbol": "circle"
         },
         "mode": "markers",
         "name": "14033",
         "showlegend": true,
         "type": "scattergl",
         "x": [
          4.711,
          23.516,
          6.816,
          23.671,
          77.95,
          7.261,
          24.07
         ],
         "xaxis": "x",
         "y": [
          8.1199e-12,
          1.90048e-11,
          1.66325e-11,
          2.74665e-11,
          1.94557e-9,
          8.7542e-12,
          2.05461e-11
         ],
         "yaxis": "y"
        },
        {
         "customdata": [
          [
           [
            "C"
           ],
           "A",
           "DC potentiometric method",
           1966
          ],
          [
           [
            "C"
           ],
           "A",
           "DC potentiometric method",
           1966
          ],
          [
           [
            "C"
           ],
           "A",
           "DC potentiometric method",
           1966
          ],
          [
           [
            "C"
           ],
           "A",
           "DC potentiometric method",
           1966
          ],
          [
           [
            "C"
           ],
           "A",
           "DC potentiometric method",
           1966
          ],
          [
           [
            "C"
           ],
           "A",
           "DC potentiometric method",
           1966
          ],
          [
           [
            "C"
           ],
           "A",
           "DC potentiometric method",
           1966
          ]
         ],
         "error_y": {
          "array": [
           1.00351e-13,
           3.0939e-13,
           1.22028e-13,
           3.52785e-13,
           5.51832e-11,
           2.07927e-13,
           3.94197e-13
          ]
         },
         "hovertemplate": "Data Set ID=14034<br>Temperature: kg/cm**2=%{x}<br>Electrical resistivity: ohm*m=%{y}<br>State=%{customdata[0]}<br>Representation=%{customdata[1]}<br>Method=%{customdata[2]}<br>Year=%{customdata[3]}<extra></extra>",
         "legendgroup": "14034",
         "marker": {
          "color": "#FF97FF",
          "symbol": "circle"
         },
         "mode": "markers",
         "name": "14034",
         "showlegend": true,
         "type": "scattergl",
         "x": [
          3.984,
          20.898,
          4.572,
          20.806,
          76.474,
          3.362,
          20.156
         ],
         "xaxis": "x",
         "y": [
          3.34503e-12,
          1.0313e-11,
          4.0676e-12,
          1.17595e-11,
          1.83944e-9,
          6.9309e-12,
          1.31399e-11
         ],
         "yaxis": "y"
        },
        {
         "customdata": [
          [
           [
            "C"
           ],
           "A",
           "DC potentiometric method",
           1966
          ],
          [
           [
            "C"
           ],
           "A",
           "DC potentiometric method",
           1966
          ],
          [
           [
            "C"
           ],
           "A",
           "DC potentiometric method",
           1966
          ],
          [
           [
            "C"
           ],
           "A",
           "DC potentiometric method",
           1966
          ],
          [
           [
            "C"
           ],
           "A",
           "DC potentiometric method",
           1966
          ]
         ],
         "error_y": {
          "array": [
           2.652e-13,
           5.79e-13,
           5.82e-11,
           3.03e-10,
           4.77e-10
          ]
         },
         "hovertemplate": "Data Set ID=14035<br>Temperature: kg/cm**2=%{x}<br>Electrical resistivity: ohm*m=%{y}<br>State=%{customdata[0]}<br>Representation=%{customdata[1]}<br>Method=%{customdata[2]}<br>Year=%{customdata[3]}<extra></extra>",
         "legendgroup": "14035",
         "marker": {
          "color": "#FECB52",
          "symbol": "circle"
         },
         "mode": "markers",
         "name": "14035",
         "showlegend": true,
         "type": "scattergl",
         "x": [
          4.2,
          20.4,
          77,
          195,
          273
         ],
         "xaxis": "x",
         "y": [
          8.84e-12,
          1.93e-11,
          1.94e-9,
          1.01e-8,
          1.59e-8
         ],
         "yaxis": "y"
        },
        {
         "customdata": [
          [
           [
            "C"
           ],
           "A",
           "DC potentiometric method",
           1966
          ],
          [
           [
            "C"
           ],
           "A",
           "DC potentiometric method",
           1966
          ],
          [
           [
            "C"
           ],
           "A",
           "DC potentiometric method",
           1966
          ],
          [
           [
            "C"
           ],
           "A",
           "DC potentiometric method",
           1966
          ],
          [
           [
            "C"
           ],
           "A",
           "DC potentiometric method",
           1966
          ]
         ],
         "error_y": {
          "array": [
           1.008e-13,
           3.33e-13,
           5.76e-11,
           2.988e-10,
           4.74e-10
          ]
         },
         "hovertemplate": "Data Set ID=14036<br>Temperature: kg/cm**2=%{x}<br>Electrical resistivity: ohm*m=%{y}<br>State=%{customdata[0]}<br>Representation=%{customdata[1]}<br>Method=%{customdata[2]}<br>Year=%{customdata[3]}<extra></extra>",
         "legendgroup": "14036",
         "marker": {
          "color": "#636efa",
          "symbol": "circle"
         },
         "mode": "markers",
         "name": "14036",
         "showlegend": true,
         "type": "scattergl",
         "x": [
          4.2,
          20.4,
          77,
          195,
          273
         ],
         "xaxis": "x",
         "y": [
          3.36e-12,
          1.11e-11,
          1.92e-9,
          9.96e-9,
          1.58e-8
         ],
         "yaxis": "y"
        },
        {
         "customdata": [
          [
           [
            "C"
           ],
           "A",
           "DC potentiometric method",
           1966
          ],
          [
           [
            "C"
           ],
           "A",
           "DC potentiometric method",
           1966
          ],
          [
           [
            "C"
           ],
           "A",
           "DC potentiometric method",
           1966
          ],
          [
           [
            "C"
           ],
           "A",
           "DC potentiometric method",
           1966
          ],
          [
           [
            "C"
           ],
           "A",
           "DC potentiometric method",
           1966
          ]
         ],
         "error_y": {
          "array": [
           2.4141e-12,
           2.79468e-12,
           6.40089e-11,
           2.94183e-10,
           4.73259e-10
          ]
         },
         "hovertemplate": "Data Set ID=14037<br>Temperature: kg/cm**2=%{x}<br>Electrical resistivity: ohm*m=%{y}<br>State=%{customdata[0]}<br>Representation=%{customdata[1]}<br>Method=%{customdata[2]}<br>Year=%{customdata[3]}<extra></extra>",
         "legendgroup": "14037",
         "marker": {
          "color": "#EF553B",
          "symbol": "circle"
         },
         "mode": "markers",
         "name": "14037",
         "showlegend": true,
         "type": "scattergl",
         "x": [
          1.499,
          18.149,
          73.519,
          192.666,
          270.605
         ],
         "xaxis": "x",
         "y": [
          8.047e-11,
          9.3156e-11,
          2.13363e-9,
          9.8061e-9,
          1.57753e-8
         ],
         "yaxis": "y"
        },
        {
         "customdata": [
          [
           [
            "C"
           ],
           "A",
           "DC potentiometric method",
           1966
          ],
          [
           [
            "C"
           ],
           "A",
           "DC potentiometric method",
           1966
          ],
          [
           [
            "C"
           ],
           "A",
           "DC potentiometric method",
           1966
          ],
          [
           [
            "C"
           ],
           "A",
           "DC potentiometric method",
           1966
          ],
          [
           [
            "C"
           ],
           "A",
           "DC potentiometric method",
           1966
          ]
         ],
         "error_y": {
          "array": [
           3.28362e-13,
           7.5702e-13,
           5.95971e-11,
           2.75592e-10,
           4.36386e-10
          ]
         },
         "hovertemplate": "Data Set ID=14038<br>Temperature: kg/cm**2=%{x}<br>Electrical resistivity: ohm*m=%{y}<br>State=%{customdata[0]}<br>Representation=%{customdata[1]}<br>Method=%{customdata[2]}<br>Year=%{customdata[3]}<extra></extra>",
         "legendgroup": "14038",
         "marker": {
          "color": "#00cc96",
          "symbol": "circle"
         },
         "mode": "markers",
         "name": "14038",
         "showlegend": true,
         "type": "scattergl",
         "x": [
          1.328,
          18.053,
          72.694,
          191.562,
          270.383
         ],
         "xaxis": "x",
         "y": [
          1.09454e-11,
          2.5234e-11,
          1.98657e-9,
          9.1864e-9,
          1.45462e-8
         ],
         "yaxis": "y"
        },
        {
         "customdata": [
          [
           [
            "C"
           ],
           "A",
           "DC potentiometric method",
           1966
          ],
          [
           [
            "C"
           ],
           "A",
           "DC potentiometric method",
           1966
          ]
         ],
         "error_y": {
          "array": [
           2.66604e-13,
           5.96658e-13
          ]
         },
         "hovertemplate": "Data Set ID=14039<br>Temperature: kg/cm**2=%{x}<br>Electrical resistivity: ohm*m=%{y}<br>State=%{customdata[0]}<br>Representation=%{customdata[1]}<br>Method=%{customdata[2]}<br>Year=%{customdata[3]}<extra></extra>",
         "legendgroup": "14039",
         "marker": {
          "color": "#ab63fa",
          "symbol": "circle"
         },
         "mode": "markers",
         "name": "14039",
         "showlegend": true,
         "type": "scattergl",
         "x": [
          1.769,
          18.446
         ],
         "xaxis": "x",
         "y": [
          8.8868e-12,
          1.98886e-11
         ],
         "yaxis": "y"
        },
        {
         "customdata": [
          [
           [
            "C"
           ],
           "A",
           "DC potentiometric method",
           1966
          ],
          [
           [
            "C"
           ],
           "A",
           "DC potentiometric method",
           1966
          ]
         ],
         "error_y": {
          "array": [
           1.02399e-13,
           3.35478e-13
          ]
         },
         "hovertemplate": "Data Set ID=14040<br>Temperature: kg/cm**2=%{x}<br>Electrical resistivity: ohm*m=%{y}<br>State=%{customdata[0]}<br>Representation=%{customdata[1]}<br>Method=%{customdata[2]}<br>Year=%{customdata[3]}<extra></extra>",
         "legendgroup": "14040",
         "marker": {
          "color": "#FFA15A",
          "symbol": "circle"
         },
         "mode": "markers",
         "name": "14040",
         "showlegend": true,
         "type": "scattergl",
         "x": [
          1.879,
          18.821
         ],
         "xaxis": "x",
         "y": [
          3.4133e-12,
          1.11826e-11
         ],
         "yaxis": "y"
        },
        {
         "customdata": [
          [
           [
            "C"
           ],
           "A",
           "DC potentiometric method",
           1966
          ],
          [
           [
            "C"
           ],
           "A",
           "DC potentiometric method",
           1966
          ]
         ],
         "error_y": {
          "array": [
           2.652e-13,
           5.79e-13
          ]
         },
         "hovertemplate": "Data Set ID=14041<br>Temperature: kg/cm**2=%{x}<br>Electrical resistivity: ohm*m=%{y}<br>State=%{customdata[0]}<br>Representation=%{customdata[1]}<br>Method=%{customdata[2]}<br>Year=%{customdata[3]}<extra></extra>",
         "legendgroup": "14041",
         "marker": {
          "color": "#19d3f3",
          "symbol": "circle"
         },
         "mode": "markers",
         "name": "14041",
         "showlegend": true,
         "type": "scattergl",
         "x": [
          4.2,
          20.4
         ],
         "xaxis": "x",
         "y": [
          8.84e-12,
          1.93e-11
         ],
         "yaxis": "y"
        },
        {
         "customdata": [
          [
           [
            "C"
           ],
           "A",
           "DC potentiometric method",
           1967
          ]
         ],
         "error_y": {
          "array": [
           2e-11
          ]
         },
         "hovertemplate": "Data Set ID=14489<br>Temperature: kg/cm**2=%{x}<br>Electrical resistivity: ohm*m=%{y}<br>State=%{customdata[0]}<br>Representation=%{customdata[1]}<br>Method=%{customdata[2]}<br>Year=%{customdata[3]}<extra></extra>",
         "legendgroup": "14489",
         "marker": {
          "color": "#FF6692",
          "symbol": "circle"
         },
         "mode": "markers",
         "name": "14489",
         "showlegend": true,
         "type": "scattergl",
         "x": [
          273.15
         ],
         "xaxis": "x",
         "y": [
          1.545e-8
         ],
         "yaxis": "y"
        },
        {
         "customdata": [
          [
           [
            "C"
           ],
           "A",
           "DC potentiometric method",
           1967
          ]
         ],
         "error_y": {
          "array": [
           3e-11
          ]
         },
         "hovertemplate": "Data Set ID=14490<br>Temperature: kg/cm**2=%{x}<br>Electrical resistivity: ohm*m=%{y}<br>State=%{customdata[0]}<br>Representation=%{customdata[1]}<br>Method=%{customdata[2]}<br>Year=%{customdata[3]}<extra></extra>",
         "legendgroup": "14490",
         "marker": {
          "color": "#B6E880",
          "symbol": "circle"
         },
         "mode": "markers",
         "name": "14490",
         "showlegend": true,
         "type": "scattergl",
         "x": [
          273.15
         ],
         "xaxis": "x",
         "y": [
          1.543e-8
         ],
         "yaxis": "y"
        },
        {
         "customdata": [
          [
           [
            "C"
           ],
           "A",
           "DC potentiometric method",
           1967
          ],
          [
           [
            "C"
           ],
           "A",
           "DC potentiometric method",
           1967
          ],
          [
           [
            "C"
           ],
           "A",
           "DC potentiometric method",
           1967
          ],
          [
           [
            "C"
           ],
           "A",
           "DC potentiometric method",
           1967
          ],
          [
           [
            "C"
           ],
           "A",
           "DC potentiometric method",
           1967
          ],
          [
           [
            "C"
           ],
           "A",
           "DC potentiometric method",
           1967
          ],
          [
           [
            "C"
           ],
           "A",
           "DC potentiometric method",
           1967
          ],
          [
           [
            "C"
           ],
           "A",
           "DC potentiometric method",
           1967
          ],
          [
           [
            "C"
           ],
           "A",
           "DC potentiometric method",
           1967
          ],
          [
           [
            "C"
           ],
           "A",
           "DC potentiometric method",
           1967
          ],
          [
           [
            "C"
           ],
           "A",
           "DC potentiometric method",
           1967
          ],
          [
           [
            "C"
           ],
           "A",
           "DC potentiometric method",
           1967
          ],
          [
           [
            "C"
           ],
           "A",
           "DC potentiometric method",
           1967
          ],
          [
           [
            "C"
           ],
           "A",
           "DC potentiometric method",
           1967
          ],
          [
           [
            "C"
           ],
           "A",
           "DC potentiometric method",
           1967
          ],
          [
           [
            "C"
           ],
           "A",
           "DC potentiometric method",
           1967
          ],
          [
           [
            "C"
           ],
           "A",
           "DC potentiometric method",
           1967
          ],
          [
           [
            "C"
           ],
           "A",
           "DC potentiometric method",
           1967
          ],
          [
           [
            "C"
           ],
           "A",
           "DC potentiometric method",
           1967
          ],
          [
           [
            "C"
           ],
           "A",
           "DC potentiometric method",
           1967
          ],
          [
           [
            "C"
           ],
           "A",
           "DC potentiometric method",
           1967
          ],
          [
           [
            "C"
           ],
           "A",
           "DC potentiometric method",
           1967
          ],
          [
           [
            "C"
           ],
           "A",
           "DC potentiometric method",
           1967
          ],
          [
           [
            "C"
           ],
           "A",
           "DC potentiometric method",
           1967
          ],
          [
           [
            "C"
           ],
           "A",
           "DC potentiometric method",
           1967
          ],
          [
           [
            "C"
           ],
           "A",
           "DC potentiometric method",
           1967
          ],
          [
           [
            "C"
           ],
           "A",
           "DC potentiometric method",
           1967
          ],
          [
           [
            "C"
           ],
           "A",
           "DC potentiometric method",
           1967
          ],
          [
           [
            "C"
           ],
           "A",
           "DC potentiometric method",
           1967
          ],
          [
           [
            "C"
           ],
           "A",
           "DC potentiometric method",
           1967
          ],
          [
           [
            "C"
           ],
           "A",
           "DC potentiometric method",
           1967
          ],
          [
           [
            "C"
           ],
           "A",
           "DC potentiometric method",
           1967
          ],
          [
           [
            "C"
           ],
           "A",
           "DC potentiometric method",
           1967
          ],
          [
           [
            "C"
           ],
           "A",
           "DC potentiometric method",
           1967
          ],
          [
           [
            "C"
           ],
           "A",
           "DC potentiometric method",
           1967
          ],
          [
           [
            "C"
           ],
           "A",
           "DC potentiometric method",
           1967
          ],
          [
           [
            "C"
           ],
           "A",
           "DC potentiometric method",
           1967
          ],
          [
           [
            "C"
           ],
           "A",
           "DC potentiometric method",
           1967
          ],
          [
           [
            "C"
           ],
           "A",
           "DC potentiometric method",
           1967
          ],
          [
           [
            "C"
           ],
           "A",
           "DC potentiometric method",
           1967
          ],
          [
           [
            "C"
           ],
           "A",
           "DC potentiometric method",
           1967
          ],
          [
           [
            "C"
           ],
           "A",
           "DC potentiometric method",
           1967
          ],
          [
           [
            "C"
           ],
           "A",
           "DC potentiometric method",
           1967
          ],
          [
           [
            "C"
           ],
           "A",
           "DC potentiometric method",
           1967
          ],
          [
           [
            "C"
           ],
           "A",
           "DC potentiometric method",
           1967
          ],
          [
           [
            "C"
           ],
           "A",
           "DC potentiometric method",
           1967
          ],
          [
           [
            "C"
           ],
           "A",
           "DC potentiometric method",
           1967
          ],
          [
           [
            "C"
           ],
           "A",
           "DC potentiometric method",
           1967
          ]
         ],
         "error_y": {
          "array": [
           2e-11,
           2e-11,
           2e-11,
           2e-11,
           2e-11,
           2e-11,
           2e-11,
           2e-11,
           2e-11,
           2e-11,
           3e-11,
           3e-11,
           3e-11,
           4e-11,
           4e-11,
           5e-11,
           5e-11,
           5e-11,
           7e-11,
           7e-11,
           7e-11,
           8e-11,
           1e-10,
           1.1e-10,
           1.2e-10,
           1.2e-10,
           1.5e-10,
           1.5e-10,
           1.6e-10,
           1.6e-10,
           1.7e-10,
           2e-10,
           2.1e-10,
           2.1e-10,
           2.3e-10,
           2.7e-10,
           2.7e-10,
           2.8e-10,
           3.2e-10,
           3.6e-10,
           3.8e-10,
           3.9e-10,
           4.4e-10,
           4.4e-10,
           4.5e-10,
           5.5e-10,
           6e-10,
           6.1e-10
          ]
         },
         "hovertemplate": "Data Set ID=14492<br>Temperature: kg/cm**2=%{x}<br>Electrical resistivity: ohm*m=%{y}<br>State=%{customdata[0]}<br>Representation=%{customdata[1]}<br>Method=%{customdata[2]}<br>Year=%{customdata[3]}<extra></extra>",
         "legendgroup": "14492",
         "marker": {
          "color": "#FF97FF",
          "symbol": "circle"
         },
         "mode": "markers",
         "name": "14492",
         "showlegend": true,
         "type": "scattergl",
         "x": [
          277,
          279,
          279,
          284,
          289,
          290,
          293,
          293,
          308,
          316,
          324,
          341,
          354,
          381,
          382,
          429,
          432,
          434,
          471,
          474,
          483,
          514,
          571,
          574,
          614,
          615,
          670,
          672,
          678,
          681,
          711,
          753,
          769,
          773,
          809,
          864,
          865,
          870,
          920,
          973,
          998,
          1011,
          1066,
          1066,
          1071,
          1165,
          1221,
          1239
         ],
         "xaxis": "x",
         "y": [
          1.569e-8,
          1.581e-8,
          1.584e-8,
          1.617e-8,
          1.653e-8,
          1.658e-8,
          1.679e-8,
          1.676e-8,
          1.779e-8,
          1.833e-8,
          1.886e-8,
          2e-8,
          2.086e-8,
          2.267e-8,
          2.276e-8,
          2.589e-8,
          2.619e-8,
          2.623e-8,
          2.881e-8,
          2.908e-8,
          2.956e-8,
          3.166e-8,
          3.559e-8,
          3.578e-8,
          3.858e-8,
          3.861e-8,
          4.238e-8,
          4.249e-8,
          4.296e-8,
          4.321e-8,
          4.524e-8,
          4.838e-8,
          4.938e-8,
          4.962e-8,
          5.223e-8,
          5.655e-8,
          5.633e-8,
          5.686e-8,
          6.094e-8,
          6.455e-8,
          6.703e-8,
          6.79e-8,
          7.223e-8,
          7.181e-8,
          7.239e-8,
          8.078e-8,
          8.602e-8,
          8.763e-8
         ],
         "yaxis": "y"
        },
        {
         "customdata": [
          [
           [
            "C"
           ],
           "RRS",
           "Guarded Axial Heat-Flow",
           1967
          ]
         ],
         "error_y": {
          "array": [
           9
          ]
         },
         "hovertemplate": "Data Set ID=14566<br>Temperature: kg/cm**2=%{x}<br>Electrical resistivity: ohm*m=%{y}<br>State=%{customdata[0]}<br>Representation=%{customdata[1]}<br>Method=%{customdata[2]}<br>Year=%{customdata[3]}<extra></extra>",
         "legendgroup": "14566",
         "marker": {
          "color": "#FECB52",
          "symbol": "circle"
         },
         "mode": "markers",
         "name": "14566",
         "showlegend": true,
         "type": "scattergl",
         "x": [
          273.16
         ],
         "xaxis": "x",
         "y": [
          900
         ],
         "yaxis": "y"
        },
        {
         "customdata": [
          [
           [
            "L"
           ],
           "A",
           "Mutual induction method",
           1967
          ]
         ],
         "error_y": {
          "array": [
           2.14531e-9
          ]
         },
         "hovertemplate": "Data Set ID=14585<br>Temperature: kg/cm**2=%{x}<br>Electrical resistivity: ohm*m=%{y}<br>State=%{customdata[0]}<br>Representation=%{customdata[1]}<br>Method=%{customdata[2]}<br>Year=%{customdata[3]}<extra></extra>",
         "legendgroup": "14585",
         "marker": {
          "color": "#636efa",
          "symbol": "circle"
         },
         "mode": "markers",
         "name": "14585",
         "showlegend": true,
         "type": "scattergl",
         "x": [
          1373.15
         ],
         "xaxis": "x",
         "y": [
          2.14531e-7
         ],
         "yaxis": "y"
        },
        {
         "customdata": [
          [
           [
            "C"
           ],
           "A",
           "DC potentiometric method",
           1967
          ],
          [
           [
            "C"
           ],
           "A",
           "DC potentiometric method",
           1967
          ],
          [
           [
            "C"
           ],
           "A",
           "DC potentiometric method",
           1967
          ],
          [
           [
            "C"
           ],
           "A",
           "DC potentiometric method",
           1967
          ],
          [
           [
            "C"
           ],
           "A",
           "DC potentiometric method",
           1967
          ],
          [
           [
            "C"
           ],
           "A",
           "DC potentiometric method",
           1967
          ],
          [
           [
            "C"
           ],
           "A",
           "DC potentiometric method",
           1967
          ],
          [
           [
            "C"
           ],
           "A",
           "DC potentiometric method",
           1967
          ],
          [
           [
            "C"
           ],
           "A",
           "DC potentiometric method",
           1967
          ]
         ],
         "error_y": {
          "array": [
           1.75e-10,
           1.93e-10,
           2.25e-10,
           2.93e-10,
           3.6e-10,
           4.33e-10,
           5.08e-10,
           5.88e-10,
           8.3e-10
          ]
         },
         "hovertemplate": "Data Set ID=14683<br>Temperature: kg/cm**2=%{x}<br>Electrical resistivity: ohm*m=%{y}<br>State=%{customdata[0]}<br>Representation=%{customdata[1]}<br>Method=%{customdata[2]}<br>Year=%{customdata[3]}<extra></extra>",
         "legendgroup": "14683",
         "marker": {
          "color": "#EF553B",
          "symbol": "circle"
         },
         "mode": "markers",
         "name": "14683",
         "showlegend": true,
         "type": "scattergl",
         "x": [
          293.15,
          323.15,
          373.15,
          473.15,
          573.15,
          673.15,
          773.15,
          873.15,
          1173.15
         ],
         "xaxis": "x",
         "y": [
          1.75e-8,
          1.93e-8,
          2.25e-8,
          2.93e-8,
          3.6e-8,
          4.33e-8,
          5.08e-8,
          5.88e-8,
          8.3e-8
         ],
         "yaxis": "y"
        },
        {
         "customdata": [
          [
           [
            "C"
           ],
           "A",
           "DC potentiometric method",
           1967
          ],
          [
           [
            "C"
           ],
           "A",
           "DC potentiometric method",
           1967
          ],
          [
           [
            "C"
           ],
           "A",
           "DC potentiometric method",
           1967
          ]
         ],
         "error_y": {
          "array": [
           1.78e-10,
           1.95e-10,
           2.28e-10
          ]
         },
         "hovertemplate": "Data Set ID=14684<br>Temperature: kg/cm**2=%{x}<br>Electrical resistivity: ohm*m=%{y}<br>State=%{customdata[0]}<br>Representation=%{customdata[1]}<br>Method=%{customdata[2]}<br>Year=%{customdata[3]}<extra></extra>",
         "legendgroup": "14684",
         "marker": {
          "color": "#00cc96",
          "symbol": "circle"
         },
         "mode": "markers",
         "name": "14684",
         "showlegend": true,
         "type": "scattergl",
         "x": [
          293.15,
          323.15,
          373.15
         ],
         "xaxis": "x",
         "y": [
          1.78e-8,
          1.95e-8,
          2.28e-8
         ],
         "yaxis": "y"
        },
        {
         "customdata": [
          [
           [
            "C"
           ],
           "A",
           "DC potentiometric method",
           1967
          ],
          [
           [
            "C"
           ],
           "A",
           "DC potentiometric method",
           1967
          ],
          [
           [
            "C"
           ],
           "A",
           "DC potentiometric method",
           1967
          ],
          [
           [
            "C"
           ],
           "A",
           "DC potentiometric method",
           1967
          ],
          [
           [
            "C"
           ],
           "A",
           "DC potentiometric method",
           1967
          ],
          [
           [
            "C"
           ],
           "A",
           "DC potentiometric method",
           1967
          ],
          [
           [
            "C"
           ],
           "A",
           "DC potentiometric method",
           1967
          ],
          [
           [
            "C"
           ],
           "A",
           "DC potentiometric method",
           1967
          ]
         ],
         "error_y": {
          "array": [
           1.73e-10,
           1.93e-10,
           2.27e-10,
           2.97e-10,
           3.68e-10,
           4.43e-10,
           5.17e-10,
           5.95e-10
          ]
         },
         "hovertemplate": "Data Set ID=14685<br>Temperature: kg/cm**2=%{x}<br>Electrical resistivity: ohm*m=%{y}<br>State=%{customdata[0]}<br>Representation=%{customdata[1]}<br>Method=%{customdata[2]}<br>Year=%{customdata[3]}<extra></extra>",
         "legendgroup": "14685",
         "marker": {
          "color": "#ab63fa",
          "symbol": "circle"
         },
         "mode": "markers",
         "name": "14685",
         "showlegend": true,
         "type": "scattergl",
         "x": [
          293.15,
          323.15,
          373.15,
          473.15,
          573.15,
          673.15,
          773.15,
          873.15
         ],
         "xaxis": "x",
         "y": [
          1.73e-8,
          1.93e-8,
          2.27e-8,
          2.97e-8,
          3.68e-8,
          4.43e-8,
          5.17e-8,
          5.95e-8
         ],
         "yaxis": "y"
        },
        {
         "customdata": [
          [
           [
            "L"
           ],
           "A",
           "not stated",
           1968
          ]
         ],
         "error_y": {
          "array": [
           6.25833e-9
          ]
         },
         "hovertemplate": "Data Set ID=15398<br>Temperature: kg/cm**2=%{x}<br>Electrical resistivity: ohm*m=%{y}<br>State=%{customdata[0]}<br>Representation=%{customdata[1]}<br>Method=%{customdata[2]}<br>Year=%{customdata[3]}<extra></extra>",
         "legendgroup": "15398",
         "marker": {
          "color": "#FFA15A",
          "symbol": "circle"
         },
         "mode": "markers",
         "name": "15398",
         "showlegend": true,
         "type": "scattergl",
         "x": [
          1273.15
         ],
         "xaxis": "x",
         "y": [
          2.08611e-7
         ],
         "yaxis": "y"
        },
        {
         "customdata": [
          [
           [
            "C"
           ],
           "RFR",
           "Bulk Technique",
           1969
          ]
         ],
         "error_y": {
          "array": [
           350
          ]
         },
         "hovertemplate": "Data Set ID=15929<br>Temperature: kg/cm**2=%{x}<br>Electrical resistivity: ohm*m=%{y}<br>State=%{customdata[0]}<br>Representation=%{customdata[1]}<br>Method=%{customdata[2]}<br>Year=%{customdata[3]}<extra></extra>",
         "legendgroup": "15929",
         "marker": {
          "color": "#19d3f3",
          "symbol": "circle"
         },
         "mode": "markers",
         "name": "15929",
         "showlegend": true,
         "type": "scattergl",
         "x": [
          293
         ],
         "xaxis": "x",
         "y": [
          3350
         ],
         "yaxis": "y"
        },
        {
         "customdata": [
          [
           [
            "C"
           ],
           "RFR",
           "Push-rod dilatometry",
           1969
          ]
         ],
         "error_y": {
          "array": [
           null
          ]
         },
         "hovertemplate": "Data Set ID=16008<br>Temperature: kg/cm**2=%{x}<br>Electrical resistivity: ohm*m=%{y}<br>State=%{customdata[0]}<br>Representation=%{customdata[1]}<br>Method=%{customdata[2]}<br>Year=%{customdata[3]}<extra></extra>",
         "legendgroup": "16008",
         "marker": {
          "color": "#FF6692",
          "symbol": "circle"
         },
         "mode": "markers",
         "name": "16008",
         "showlegend": true,
         "type": "scattergl",
         "x": [
          4.2
         ],
         "xaxis": "x",
         "y": [
          560
         ],
         "yaxis": "y"
        },
        {
         "customdata": [
          [
           [
            "C"
           ],
           "RFR",
           "Push-rod dilatometry",
           1969
          ]
         ],
         "error_y": {
          "array": [
           null
          ]
         },
         "hovertemplate": "Data Set ID=16009<br>Temperature: kg/cm**2=%{x}<br>Electrical resistivity: ohm*m=%{y}<br>State=%{customdata[0]}<br>Representation=%{customdata[1]}<br>Method=%{customdata[2]}<br>Year=%{customdata[3]}<extra></extra>",
         "legendgroup": "16009",
         "marker": {
          "color": "#B6E880",
          "symbol": "circle"
         },
         "mode": "markers",
         "name": "16009",
         "showlegend": true,
         "type": "scattergl",
         "x": [
          4.2
         ],
         "xaxis": "x",
         "y": [
          1150
         ],
         "yaxis": "y"
        },
        {
         "customdata": [
          [
           [
            "C"
           ],
           "RFR",
           "Eddy current decay method",
           1970
          ]
         ],
         "error_y": {
          "array": [
           295
          ]
         },
         "hovertemplate": "Data Set ID=16297<br>Temperature: kg/cm**2=%{x}<br>Electrical resistivity: ohm*m=%{y}<br>State=%{customdata[0]}<br>Representation=%{customdata[1]}<br>Method=%{customdata[2]}<br>Year=%{customdata[3]}<extra></extra>",
         "legendgroup": "16297",
         "marker": {
          "color": "#FF97FF",
          "symbol": "circle"
         },
         "mode": "markers",
         "name": "16297",
         "showlegend": true,
         "type": "scattergl",
         "x": [
          293
         ],
         "xaxis": "x",
         "y": [
          29500
         ],
         "yaxis": "y"
        },
        {
         "customdata": [
          [
           [
            "L"
           ],
           "A",
           "not stated",
           1970
          ]
         ],
         "error_y": {
          "array": [
           2.18087e-8
          ]
         },
         "hovertemplate": "Data Set ID=16328<br>Temperature: kg/cm**2=%{x}<br>Electrical resistivity: ohm*m=%{y}<br>State=%{customdata[0]}<br>Representation=%{customdata[1]}<br>Method=%{customdata[2]}<br>Year=%{customdata[3]}<extra></extra>",
         "legendgroup": "16328",
         "marker": {
          "color": "#FECB52",
          "symbol": "circle"
         },
         "mode": "markers",
         "name": "16328",
         "showlegend": true,
         "type": "scattergl",
         "x": [
          1273.15
         ],
         "xaxis": "x",
         "y": [
          2.18087e-7
         ],
         "yaxis": "y"
        },
        {
         "customdata": [
          [
           [
            "C"
           ],
           "A",
           "Four point probe",
           1970
          ],
          [
           [
            "C"
           ],
           "A",
           "Four point probe",
           1970
          ],
          [
           [
            "C"
           ],
           "A",
           "Four point probe",
           1970
          ],
          [
           [
            "C"
           ],
           "A",
           "Four point probe",
           1970
          ],
          [
           [
            "C"
           ],
           "A",
           "Four point probe",
           1970
          ],
          [
           [
            "C"
           ],
           "A",
           "Four point probe",
           1970
          ],
          [
           [
            "C"
           ],
           "A",
           "Four point probe",
           1970
          ],
          [
           [
            "C"
           ],
           "A",
           "Four point probe",
           1970
          ]
         ],
         "error_y": {
          "array": [
           1.581e-11,
           1.633e-11,
           1.756e-11,
           2.644e-11,
           4.949e-11,
           6.778e-11,
           8.695e-11,
           1.0809e-10
          ]
         },
         "hovertemplate": "Data Set ID=16380<br>Temperature: kg/cm**2=%{x}<br>Electrical resistivity: ohm*m=%{y}<br>State=%{customdata[0]}<br>Representation=%{customdata[1]}<br>Method=%{customdata[2]}<br>Year=%{customdata[3]}<extra></extra>",
         "legendgroup": "16380",
         "marker": {
          "color": "#636efa",
          "symbol": "circle"
         },
         "mode": "markers",
         "name": "16380",
         "showlegend": true,
         "type": "scattergl",
         "x": [
          10,
          40,
          53,
          75,
          122,
          148,
          181,
          218
         ],
         "xaxis": "x",
         "y": [
          1.581e-9,
          1.633e-9,
          1.756e-9,
          2.644e-9,
          4.949e-9,
          6.778e-9,
          8.695e-9,
          1.0809e-8
         ],
         "yaxis": "y"
        },
        {
         "customdata": [
          [
           [
            "C"
           ],
           "RFR",
           "Not Stated",
           1970
          ]
         ],
         "error_y": {
          "array": [
           0.6253
          ]
         },
         "hovertemplate": "Data Set ID=16429<br>Temperature: kg/cm**2=%{x}<br>Electrical resistivity: ohm*m=%{y}<br>State=%{customdata[0]}<br>Representation=%{customdata[1]}<br>Method=%{customdata[2]}<br>Year=%{customdata[3]}<extra></extra>",
         "legendgroup": "16429",
         "marker": {
          "color": "#EF553B",
          "symbol": "circle"
         },
         "mode": "markers",
         "name": "16429",
         "showlegend": true,
         "type": "scattergl",
         "x": [
          273
         ],
         "xaxis": "x",
         "y": [
          62.53
         ],
         "yaxis": "y"
        },
        {
         "customdata": [
          [
           [
            "L"
           ],
           "A",
           "not stated",
           1971
          ]
         ],
         "error_y": {
          "array": [
           6.3147e-9
          ]
         },
         "hovertemplate": "Data Set ID=16924<br>Temperature: kg/cm**2=%{x}<br>Electrical resistivity: ohm*m=%{y}<br>State=%{customdata[0]}<br>Representation=%{customdata[1]}<br>Method=%{customdata[2]}<br>Year=%{customdata[3]}<extra></extra>",
         "legendgroup": "16924",
         "marker": {
          "color": "#00cc96",
          "symbol": "circle"
         },
         "mode": "markers",
         "name": "16924",
         "showlegend": true,
         "type": "scattergl",
         "x": [
          1273.15
         ],
         "xaxis": "x",
         "y": [
          2.1049e-7
         ],
         "yaxis": "y"
        },
        {
         "customdata": [
          [
           [
            "C"
           ],
           "A",
           "Four point probe",
           1972
          ],
          [
           [
            "C"
           ],
           "A",
           "Four point probe",
           1972
          ],
          [
           [
            "C"
           ],
           "A",
           "Four point probe",
           1972
          ]
         ],
         "error_y": {
          "array": [
           2.535e-10,
           2.79e-11,
           1.5e-13
          ]
         },
         "hovertemplate": "Data Set ID=17541<br>Temperature: kg/cm**2=%{x}<br>Electrical resistivity: ohm*m=%{y}<br>State=%{customdata[0]}<br>Representation=%{customdata[1]}<br>Method=%{customdata[2]}<br>Year=%{customdata[3]}<extra></extra>",
         "legendgroup": "17541",
         "marker": {
          "color": "#ab63fa",
          "symbol": "circle"
         },
         "mode": "markers",
         "name": "17541",
         "showlegend": true,
         "type": "scattergl",
         "x": [
          295,
          77,
          4.2
         ],
         "xaxis": "x",
         "y": [
          1.69e-8,
          1.86e-9,
          1e-11
         ],
         "yaxis": "y"
        },
        {
         "customdata": [
          [
           [
            "C"
           ],
           "A",
           "Four point probe",
           1972
          ]
         ],
         "error_y": {
          "array": [
           2e-11
          ]
         },
         "hovertemplate": "Data Set ID=17549<br>Temperature: kg/cm**2=%{x}<br>Electrical resistivity: ohm*m=%{y}<br>State=%{customdata[0]}<br>Representation=%{customdata[1]}<br>Method=%{customdata[2]}<br>Year=%{customdata[3]}<extra></extra>",
         "legendgroup": "17549",
         "marker": {
          "color": "#FFA15A",
          "symbol": "circle"
         },
         "mode": "markers",
         "name": "17549",
         "showlegend": true,
         "type": "scattergl",
         "x": [
          4.2
         ],
         "xaxis": "x",
         "y": [
          1e-10
         ],
         "yaxis": "y"
        },
        {
         "customdata": [
          [
           [
            "C"
           ],
           "A",
           "Four point probe",
           1972
          ],
          [
           [
            "C"
           ],
           "A",
           "Four point probe",
           1972
          ],
          [
           [
            "C"
           ],
           "A",
           "Four point probe",
           1972
          ],
          [
           [
            "C"
           ],
           "A",
           "Four point probe",
           1972
          ],
          [
           [
            "C"
           ],
           "A",
           "Four point probe",
           1972
          ],
          [
           [
            "C"
           ],
           "A",
           "Four point probe",
           1972
          ],
          [
           [
            "C"
           ],
           "A",
           "Four point probe",
           1972
          ],
          [
           [
            "C"
           ],
           "A",
           "Four point probe",
           1972
          ],
          [
           [
            "C"
           ],
           "A",
           "Four point probe",
           1972
          ],
          [
           [
            "C"
           ],
           "A",
           "Four point probe",
           1972
          ],
          [
           [
            "C"
           ],
           "A",
           "Four point probe",
           1972
          ],
          [
           [
            "C"
           ],
           "A",
           "Four point probe",
           1972
          ],
          [
           [
            "C"
           ],
           "A",
           "Four point probe",
           1972
          ],
          [
           [
            "C"
           ],
           "A",
           "Four point probe",
           1972
          ],
          [
           [
            "C"
           ],
           "A",
           "Four point probe",
           1972
          ],
          [
           [
            "C"
           ],
           "A",
           "Four point probe",
           1972
          ],
          [
           [
            "C"
           ],
           "A",
           "Four point probe",
           1972
          ],
          [
           [
            "C"
           ],
           "A",
           "Four point probe",
           1972
          ],
          [
           [
            "C"
           ],
           "A",
           "Four point probe",
           1972
          ],
          [
           [
            "C"
           ],
           "A",
           "Four point probe",
           1972
          ],
          [
           [
            "C"
           ],
           "A",
           "Four point probe",
           1972
          ],
          [
           [
            "C"
           ],
           "A",
           "Four point probe",
           1972
          ],
          [
           [
            "C"
           ],
           "A",
           "Four point probe",
           1972
          ],
          [
           [
            "C"
           ],
           "A",
           "Four point probe",
           1972
          ],
          [
           [
            "C"
           ],
           "A",
           "Four point probe",
           1972
          ],
          [
           [
            "C"
           ],
           "A",
           "Four point probe",
           1972
          ],
          [
           [
            "C"
           ],
           "A",
           "Four point probe",
           1972
          ],
          [
           [
            "C"
           ],
           "A",
           "Four point probe",
           1972
          ],
          [
           [
            "C"
           ],
           "A",
           "Four point probe",
           1972
          ],
          [
           [
            "C"
           ],
           "A",
           "Four point probe",
           1972
          ],
          [
           [
            "C"
           ],
           "A",
           "Four point probe",
           1972
          ],
          [
           [
            "C"
           ],
           "A",
           "Four point probe",
           1972
          ],
          [
           [
            "C"
           ],
           "A",
           "Four point probe",
           1972
          ],
          [
           [
            "C"
           ],
           "A",
           "Four point probe",
           1972
          ]
         ],
         "error_y": {
          "array": [
           2.006e-11,
           2.006e-11,
           2.021e-11,
           2.027e-11,
           2.018e-11,
           2.031e-11,
           2.023e-11,
           2.032e-11,
           2.037e-11,
           2.037e-11,
           2.059e-11,
           2.065e-11,
           2.073e-11,
           2.095e-11,
           2.1e-11,
           2.12e-11,
           2.153e-11,
           2.179e-11,
           2.208e-11,
           2.252e-11,
           2.283e-11,
           2.325e-11,
           2.376e-11,
           2.437e-11,
           2.487e-11,
           2.566e-11,
           2.625e-11,
           2.721e-11,
           2.805e-11,
           2.91e-11,
           3.01e-11,
           3.135e-11,
           3.27e-11,
           3.401e-11
          ]
         },
         "hovertemplate": "Data Set ID=17550<br>Temperature: kg/cm**2=%{x}<br>Electrical resistivity: ohm*m=%{y}<br>State=%{customdata[0]}<br>Representation=%{customdata[1]}<br>Method=%{customdata[2]}<br>Year=%{customdata[3]}<extra></extra>",
         "legendgroup": "17550",
         "marker": {
          "color": "#19d3f3",
          "symbol": "circle"
         },
         "mode": "markers",
         "name": "17550",
         "showlegend": true,
         "type": "scattergl",
         "x": [
          2,
          3,
          4,
          5,
          6,
          7,
          8,
          9,
          10,
          11,
          12,
          13,
          14,
          15,
          16,
          17,
          18,
          19,
          20,
          21,
          22,
          23,
          24,
          25,
          26,
          27,
          28,
          29,
          30,
          31,
          32,
          33,
          34,
          35
         ],
         "xaxis": "x",
         "y": [
          2.006e-10,
          2.006e-10,
          2.021e-10,
          2.027e-10,
          2.018e-10,
          2.031e-10,
          2.023e-10,
          2.032e-10,
          2.037e-10,
          2.037e-10,
          2.059e-10,
          2.065e-10,
          2.073e-10,
          2.095e-10,
          2.1e-10,
          2.12e-10,
          2.153e-10,
          2.179e-10,
          2.208e-10,
          2.252e-10,
          2.283e-10,
          2.325e-10,
          2.376e-10,
          2.437e-10,
          2.487e-10,
          2.566e-10,
          2.625e-10,
          2.721e-10,
          2.805e-10,
          2.91e-10,
          3.01e-10,
          3.135e-10,
          3.27e-10,
          3.401e-10
         ],
         "yaxis": "y"
        },
        {
         "customdata": [
          [
           [
            "L"
           ],
           "A",
           "AC current - AC magnetic field method",
           1973
          ]
         ],
         "error_y": {
          "array": [
           6.1995e-9
          ]
         },
         "hovertemplate": "Data Set ID=18013<br>Temperature: kg/cm**2=%{x}<br>Electrical resistivity: ohm*m=%{y}<br>State=%{customdata[0]}<br>Representation=%{customdata[1]}<br>Method=%{customdata[2]}<br>Year=%{customdata[3]}<extra></extra>",
         "legendgroup": "18013",
         "marker": {
          "color": "#FF6692",
          "symbol": "circle"
         },
         "mode": "markers",
         "name": "18013",
         "showlegend": true,
         "type": "scattergl",
         "x": [
          1223.15
         ],
         "xaxis": "x",
         "y": [
          2.0665e-7
         ],
         "yaxis": "y"
        },
        {
         "customdata": [
          [
           [
            "L"
           ],
           "A",
           "AC current - AC magnetic field method",
           1973
          ]
         ],
         "error_y": {
          "array": [
           6.477e-9
          ]
         },
         "hovertemplate": "Data Set ID=18014<br>Temperature: kg/cm**2=%{x}<br>Electrical resistivity: ohm*m=%{y}<br>State=%{customdata[0]}<br>Representation=%{customdata[1]}<br>Method=%{customdata[2]}<br>Year=%{customdata[3]}<extra></extra>",
         "legendgroup": "18014",
         "marker": {
          "color": "#B6E880",
          "symbol": "circle"
         },
         "mode": "markers",
         "name": "18014",
         "showlegend": true,
         "type": "scattergl",
         "x": [
          1373.15
         ],
         "xaxis": "x",
         "y": [
          2.159e-7
         ],
         "yaxis": "y"
        },
        {
         "customdata": [
          [
           [
            "L"
           ],
           "A",
           "",
           1974
          ]
         ],
         "error_y": {
          "array": [
           6.216e-9
          ]
         },
         "hovertemplate": "Data Set ID=18708<br>Temperature: kg/cm**2=%{x}<br>Electrical resistivity: ohm*m=%{y}<br>State=%{customdata[0]}<br>Representation=%{customdata[1]}<br>Method=%{customdata[2]}<br>Year=%{customdata[3]}<extra></extra>",
         "legendgroup": "18708",
         "marker": {
          "color": "#FF97FF",
          "symbol": "circle"
         },
         "mode": "markers",
         "name": "18708",
         "showlegend": true,
         "type": "scattergl",
         "x": [
          1373.15
         ],
         "xaxis": "x",
         "y": [
          2.072e-7
         ],
         "yaxis": "y"
        },
        {
         "customdata": [
          [
           [
            "C"
           ],
           "A",
           "DC potentiometric method",
           1976
          ],
          [
           [
            "C"
           ],
           "A",
           "DC potentiometric method",
           1976
          ],
          [
           [
            "C"
           ],
           "A",
           "DC potentiometric method",
           1976
          ],
          [
           [
            "C"
           ],
           "A",
           "DC potentiometric method",
           1976
          ],
          [
           [
            "C"
           ],
           "A",
           "DC potentiometric method",
           1976
          ],
          [
           [
            "C"
           ],
           "A",
           "DC potentiometric method",
           1976
          ],
          [
           [
            "C"
           ],
           "A",
           "DC potentiometric method",
           1976
          ],
          [
           [
            "C"
           ],
           "A",
           "DC potentiometric method",
           1976
          ],
          [
           [
            "C"
           ],
           "A",
           "DC potentiometric method",
           1976
          ],
          [
           [
            "C"
           ],
           "A",
           "DC potentiometric method",
           1976
          ],
          [
           [
            "C"
           ],
           "A",
           "DC potentiometric method",
           1976
          ],
          [
           [
            "C"
           ],
           "A",
           "DC potentiometric method",
           1976
          ],
          [
           [
            "C"
           ],
           "A",
           "DC potentiometric method",
           1976
          ],
          [
           [
            "C"
           ],
           "A",
           "DC potentiometric method",
           1976
          ],
          [
           [
            "C"
           ],
           "A",
           "DC potentiometric method",
           1976
          ],
          [
           [
            "C"
           ],
           "A",
           "DC potentiometric method",
           1976
          ],
          [
           [
            "C"
           ],
           "A",
           "DC potentiometric method",
           1976
          ],
          [
           [
            "C"
           ],
           "A",
           "DC potentiometric method",
           1976
          ],
          [
           [
            "C"
           ],
           "A",
           "DC potentiometric method",
           1976
          ],
          [
           [
            "C"
           ],
           "A",
           "DC potentiometric method",
           1976
          ],
          [
           [
            "C"
           ],
           "A",
           "DC potentiometric method",
           1976
          ],
          [
           [
            "C"
           ],
           "A",
           "DC potentiometric method",
           1976
          ],
          [
           [
            "C"
           ],
           "A",
           "DC potentiometric method",
           1976
          ],
          [
           [
            "C"
           ],
           "A",
           "DC potentiometric method",
           1976
          ],
          [
           [
            "C"
           ],
           "A",
           "DC potentiometric method",
           1976
          ],
          [
           [
            "C"
           ],
           "A",
           "DC potentiometric method",
           1976
          ],
          [
           [
            "C"
           ],
           "A",
           "DC potentiometric method",
           1976
          ],
          [
           [
            "C"
           ],
           "A",
           "DC potentiometric method",
           1976
          ],
          [
           [
            "C"
           ],
           "A",
           "DC potentiometric method",
           1976
          ]
         ],
         "error_y": {
          "array": [
           7.924e-15,
           7.931e-15,
           7.924e-15,
           7.924e-15,
           7.931e-15,
           7.945e-15,
           7.931e-15,
           7.952e-15,
           7.959e-15,
           7.98e-15,
           7.994e-15,
           8.029e-15,
           8.043e-15,
           8.057e-15,
           8.092e-15,
           8.134e-15,
           8.169e-15,
           8.19e-15,
           8.232e-15,
           8.288e-15,
           8.351e-15,
           8.386e-15,
           8.435e-15,
           8.484e-15,
           8.575e-15,
           8.624e-15,
           8.701e-15,
           8.778e-15,
           8.827e-15
          ]
         },
         "hovertemplate": "Data Set ID=19324<br>Temperature: kg/cm**2=%{x}<br>Electrical resistivity: ohm*m=%{y}<br>State=%{customdata[0]}<br>Representation=%{customdata[1]}<br>Method=%{customdata[2]}<br>Year=%{customdata[3]}<extra></extra>",
         "legendgroup": "19324",
         "marker": {
          "color": "#FECB52",
          "symbol": "circle"
         },
         "mode": "markers",
         "name": "19324",
         "showlegend": true,
         "type": "scattergl",
         "x": [
          1.183,
          1.201,
          1.379,
          1.804,
          2.085,
          2.381,
          2.59,
          2.922,
          3.3,
          3.606,
          4.007,
          4.361,
          4.591,
          4.862,
          5.17,
          5.52,
          5.752,
          5.909,
          6.158,
          6.429,
          6.737,
          6.984,
          7.218,
          7.418,
          7.664,
          7.872,
          8.087,
          8.314,
          8.504
         ],
         "xaxis": "x",
         "y": [
          1.132e-12,
          1.133e-12,
          1.132e-12,
          1.132e-12,
          1.133e-12,
          1.135e-12,
          1.133e-12,
          1.136e-12,
          1.137e-12,
          1.14e-12,
          1.142e-12,
          1.147e-12,
          1.149e-12,
          1.151e-12,
          1.156e-12,
          1.162e-12,
          1.167e-12,
          1.17e-12,
          1.176e-12,
          1.184e-12,
          1.193e-12,
          1.198e-12,
          1.205e-12,
          1.212e-12,
          1.225e-12,
          1.232e-12,
          1.243e-12,
          1.254e-12,
          1.261e-12
         ],
         "yaxis": "y"
        },
        {
         "customdata": [
          [
           [
            "C"
           ],
           "A",
           "DC potentiometric method",
           1976
          ],
          [
           [
            "C"
           ],
           "A",
           "DC potentiometric method",
           1976
          ],
          [
           [
            "C"
           ],
           "A",
           "DC potentiometric method",
           1976
          ],
          [
           [
            "C"
           ],
           "A",
           "DC potentiometric method",
           1976
          ],
          [
           [
            "C"
           ],
           "A",
           "DC potentiometric method",
           1976
          ],
          [
           [
            "C"
           ],
           "A",
           "DC potentiometric method",
           1976
          ],
          [
           [
            "C"
           ],
           "A",
           "DC potentiometric method",
           1976
          ],
          [
           [
            "C"
           ],
           "A",
           "DC potentiometric method",
           1976
          ],
          [
           [
            "C"
           ],
           "A",
           "DC potentiometric method",
           1976
          ],
          [
           [
            "C"
           ],
           "A",
           "DC potentiometric method",
           1976
          ],
          [
           [
            "C"
           ],
           "A",
           "DC potentiometric method",
           1976
          ],
          [
           [
            "C"
           ],
           "A",
           "DC potentiometric method",
           1976
          ],
          [
           [
            "C"
           ],
           "A",
           "DC potentiometric method",
           1976
          ],
          [
           [
            "C"
           ],
           "A",
           "DC potentiometric method",
           1976
          ],
          [
           [
            "C"
           ],
           "A",
           "DC potentiometric method",
           1976
          ],
          [
           [
            "C"
           ],
           "A",
           "DC potentiometric method",
           1976
          ],
          [
           [
            "C"
           ],
           "A",
           "DC potentiometric method",
           1976
          ],
          [
           [
            "C"
           ],
           "A",
           "DC potentiometric method",
           1976
          ],
          [
           [
            "C"
           ],
           "A",
           "DC potentiometric method",
           1976
          ],
          [
           [
            "C"
           ],
           "A",
           "DC potentiometric method",
           1976
          ],
          [
           [
            "C"
           ],
           "A",
           "DC potentiometric method",
           1976
          ],
          [
           [
            "C"
           ],
           "A",
           "DC potentiometric method",
           1976
          ],
          [
           [
            "C"
           ],
           "A",
           "DC potentiometric method",
           1976
          ],
          [
           [
            "C"
           ],
           "A",
           "DC potentiometric method",
           1976
          ],
          [
           [
            "C"
           ],
           "A",
           "DC potentiometric method",
           1976
          ],
          [
           [
            "C"
           ],
           "A",
           "DC potentiometric method",
           1976
          ],
          [
           [
            "C"
           ],
           "A",
           "DC potentiometric method",
           1976
          ],
          [
           [
            "C"
           ],
           "A",
           "DC potentiometric method",
           1976
          ]
         ],
         "error_y": {
          "array": [
           1.4707e-14,
           1.47084e-14,
           1.4707e-14,
           1.47091e-14,
           1.47105e-14,
           1.4714e-14,
           1.47196e-14,
           1.47182e-14,
           1.47259e-14,
           1.47476e-14,
           1.47434e-14,
           1.4756e-14,
           1.47721e-14,
           1.48036e-14,
           1.48197e-14,
           1.48624e-14,
           1.48897e-14,
           1.49233e-14,
           1.49597e-14,
           1.49863e-14,
           1.50416e-14,
           1.50675e-14,
           1.5127e-14,
           1.52264e-14,
           1.5274e-14,
           1.53461e-14,
           1.54245e-14,
           1.54931e-14
          ]
         },
         "hovertemplate": "Data Set ID=19325<br>Temperature: kg/cm**2=%{x}<br>Electrical resistivity: ohm*m=%{y}<br>State=%{customdata[0]}<br>Representation=%{customdata[1]}<br>Method=%{customdata[2]}<br>Year=%{customdata[3]}<extra></extra>",
         "legendgroup": "19325",
         "marker": {
          "color": "#636efa",
          "symbol": "circle"
         },
         "mode": "markers",
         "name": "19325",
         "showlegend": true,
         "type": "scattergl",
         "x": [
          1.173,
          1.194,
          1.406,
          1.653,
          1.936,
          2.22,
          2.47,
          2.798,
          3.034,
          3.312,
          3.312,
          3.748,
          4.105,
          4.512,
          4.716,
          5.21,
          5.48,
          5.776,
          6.069,
          6.265,
          6.614,
          6.93,
          7.272,
          7.647,
          7.838,
          8.099,
          8.324,
          8.496
         ],
         "xaxis": "x",
         "y": [
          2.101e-12,
          2.1012e-12,
          2.101e-12,
          2.1013e-12,
          2.1015e-12,
          2.102e-12,
          2.1028e-12,
          2.1026e-12,
          2.1037e-12,
          2.1068e-12,
          2.1062e-12,
          2.108e-12,
          2.1103e-12,
          2.1148e-12,
          2.1171e-12,
          2.1232e-12,
          2.1271e-12,
          2.1319e-12,
          2.1371e-12,
          2.1409e-12,
          2.1488e-12,
          2.1525e-12,
          2.161e-12,
          2.1752e-12,
          2.182e-12,
          2.1923e-12,
          2.2035e-12,
          2.2133e-12
         ],
         "yaxis": "y"
        },
        {
         "customdata": [
          [
           [
            "C"
           ],
           "A",
           "DC potentiometric method",
           1976
          ],
          [
           [
            "C"
           ],
           "A",
           "DC potentiometric method",
           1976
          ],
          [
           [
            "C"
           ],
           "A",
           "DC potentiometric method",
           1976
          ],
          [
           [
            "C"
           ],
           "A",
           "DC potentiometric method",
           1976
          ],
          [
           [
            "C"
           ],
           "A",
           "DC potentiometric method",
           1976
          ],
          [
           [
            "C"
           ],
           "A",
           "DC potentiometric method",
           1976
          ],
          [
           [
            "C"
           ],
           "A",
           "DC potentiometric method",
           1976
          ],
          [
           [
            "C"
           ],
           "A",
           "DC potentiometric method",
           1976
          ],
          [
           [
            "C"
           ],
           "A",
           "DC potentiometric method",
           1976
          ],
          [
           [
            "C"
           ],
           "A",
           "DC potentiometric method",
           1976
          ],
          [
           [
            "C"
           ],
           "A",
           "DC potentiometric method",
           1976
          ],
          [
           [
            "C"
           ],
           "A",
           "DC potentiometric method",
           1976
          ],
          [
           [
            "C"
           ],
           "A",
           "DC potentiometric method",
           1976
          ],
          [
           [
            "C"
           ],
           "A",
           "DC potentiometric method",
           1976
          ],
          [
           [
            "C"
           ],
           "A",
           "DC potentiometric method",
           1976
          ],
          [
           [
            "C"
           ],
           "A",
           "DC potentiometric method",
           1976
          ],
          [
           [
            "C"
           ],
           "A",
           "DC potentiometric method",
           1976
          ],
          [
           [
            "C"
           ],
           "A",
           "DC potentiometric method",
           1976
          ],
          [
           [
            "C"
           ],
           "A",
           "DC potentiometric method",
           1976
          ],
          [
           [
            "C"
           ],
           "A",
           "DC potentiometric method",
           1976
          ],
          [
           [
            "C"
           ],
           "A",
           "DC potentiometric method",
           1976
          ],
          [
           [
            "C"
           ],
           "A",
           "DC potentiometric method",
           1976
          ],
          [
           [
            "C"
           ],
           "A",
           "DC potentiometric method",
           1976
          ],
          [
           [
            "C"
           ],
           "A",
           "DC potentiometric method",
           1976
          ],
          [
           [
            "C"
           ],
           "A",
           "DC potentiometric method",
           1976
          ],
          [
           [
            "C"
           ],
           "A",
           "DC potentiometric method",
           1976
          ],
          [
           [
            "C"
           ],
           "A",
           "DC potentiometric method",
           1976
          ],
          [
           [
            "C"
           ],
           "A",
           "DC potentiometric method",
           1976
          ],
          [
           [
            "C"
           ],
           "A",
           "DC potentiometric method",
           1976
          ],
          [
           [
            "C"
           ],
           "A",
           "DC potentiometric method",
           1976
          ],
          [
           [
            "C"
           ],
           "A",
           "DC potentiometric method",
           1976
          ]
         ],
         "error_y": {
          "array": [
           1.23172e-14,
           1.23179e-14,
           1.23235e-14,
           1.23277e-14,
           1.23291e-14,
           1.23347e-14,
           1.2341e-14,
           1.2341e-14,
           1.23466e-14,
           1.23543e-14,
           1.2362e-14,
           1.23732e-14,
           1.2383e-14,
           1.24033e-14,
           1.24201e-14,
           1.24341e-14,
           1.24628e-14,
           1.24859e-14,
           1.25132e-14,
           1.25377e-14,
           1.25685e-14,
           1.2607e-14,
           1.26413e-14,
           1.26903e-14,
           1.2754e-14,
           1.28135e-14,
           1.28555e-14,
           1.29297e-14,
           1.30382e-14,
           1.31236e-14,
           1.3188e-14
          ]
         },
         "hovertemplate": "Data Set ID=19326<br>Temperature: kg/cm**2=%{x}<br>Electrical resistivity: ohm*m=%{y}<br>State=%{customdata[0]}<br>Representation=%{customdata[1]}<br>Method=%{customdata[2]}<br>Year=%{customdata[3]}<extra></extra>",
         "legendgroup": "19326",
         "marker": {
          "color": "#EF553B",
          "symbol": "circle"
         },
         "mode": "markers",
         "name": "19326",
         "showlegend": true,
         "type": "scattergl",
         "x": [
          1.16,
          1.43,
          1.978,
          2.203,
          2.302,
          2.561,
          2.833,
          2.866,
          3.082,
          3.274,
          3.52,
          3.81,
          4.028,
          4.358,
          4.607,
          4.814,
          5.133,
          5.356,
          5.588,
          5.793,
          6.014,
          6.27,
          6.461,
          6.729,
          6.98,
          7.28,
          7.451,
          7.728,
          8.003,
          8.251,
          8.457
         ],
         "xaxis": "x",
         "y": [
          1.7596e-12,
          1.7597e-12,
          1.7605e-12,
          1.7611e-12,
          1.7613e-12,
          1.7621e-12,
          1.763e-12,
          1.763e-12,
          1.7638e-12,
          1.7649e-12,
          1.766e-12,
          1.7676e-12,
          1.769e-12,
          1.7719e-12,
          1.7743e-12,
          1.7763e-12,
          1.7804e-12,
          1.7837e-12,
          1.7876e-12,
          1.7911e-12,
          1.7955e-12,
          1.801e-12,
          1.8059e-12,
          1.8129e-12,
          1.822e-12,
          1.8305e-12,
          1.8365e-12,
          1.8471e-12,
          1.8626e-12,
          1.8748e-12,
          1.884e-12
         ],
         "yaxis": "y"
        },
        {
         "customdata": [
          [
           [
            "C"
           ],
           "A",
           "DC potentiometric method",
           1976
          ],
          [
           [
            "C"
           ],
           "A",
           "DC potentiometric method",
           1976
          ],
          [
           [
            "C"
           ],
           "A",
           "DC potentiometric method",
           1976
          ],
          [
           [
            "C"
           ],
           "A",
           "DC potentiometric method",
           1976
          ],
          [
           [
            "C"
           ],
           "A",
           "DC potentiometric method",
           1976
          ],
          [
           [
            "C"
           ],
           "A",
           "DC potentiometric method",
           1976
          ],
          [
           [
            "C"
           ],
           "A",
           "DC potentiometric method",
           1976
          ],
          [
           [
            "C"
           ],
           "A",
           "DC potentiometric method",
           1976
          ],
          [
           [
            "C"
           ],
           "A",
           "DC potentiometric method",
           1976
          ],
          [
           [
            "C"
           ],
           "A",
           "DC potentiometric method",
           1976
          ],
          [
           [
            "C"
           ],
           "A",
           "DC potentiometric method",
           1976
          ],
          [
           [
            "C"
           ],
           "A",
           "DC potentiometric method",
           1976
          ],
          [
           [
            "C"
           ],
           "A",
           "DC potentiometric method",
           1976
          ],
          [
           [
            "C"
           ],
           "A",
           "DC potentiometric method",
           1976
          ],
          [
           [
            "C"
           ],
           "A",
           "DC potentiometric method",
           1976
          ],
          [
           [
            "C"
           ],
           "A",
           "DC potentiometric method",
           1976
          ],
          [
           [
            "C"
           ],
           "A",
           "DC potentiometric method",
           1976
          ],
          [
           [
            "C"
           ],
           "A",
           "DC potentiometric method",
           1976
          ]
         ],
         "error_y": {
          "array": [
           5.4e-10,
           5.55e-10,
           6.87e-10,
           7.44e-10,
           7.89e-10,
           8.46e-10,
           8.58e-10,
           9.33e-10,
           9.96e-10,
           1.041e-9,
           1.134e-9,
           1.116e-9,
           1.218e-9,
           1.239e-9,
           1.392e-9,
           1.443e-9,
           1.647e-9,
           1.899e-9
          ]
         },
         "hovertemplate": "Data Set ID=19410<br>Temperature: kg/cm**2=%{x}<br>Electrical resistivity: ohm*m=%{y}<br>State=%{customdata[0]}<br>Representation=%{customdata[1]}<br>Method=%{customdata[2]}<br>Year=%{customdata[3]}<extra></extra>",
         "legendgroup": "19410",
         "marker": {
          "color": "#00cc96",
          "symbol": "circle"
         },
         "mode": "markers",
         "name": "19410",
         "showlegend": true,
         "type": "scattergl",
         "x": [
          298.503,
          300.345,
          361.842,
          387.263,
          404.823,
          436.916,
          448.291,
          489.076,
          513.302,
          528.658,
          573.666,
          575.282,
          625.649,
          639.345,
          703.994,
          723.518,
          820.738,
          918.419
         ],
         "xaxis": "x",
         "y": [
          1.8e-8,
          1.85e-8,
          2.29e-8,
          2.48e-8,
          2.63e-8,
          2.82e-8,
          2.86e-8,
          3.11e-8,
          3.32e-8,
          3.47e-8,
          3.78e-8,
          3.72e-8,
          4.06e-8,
          4.13e-8,
          4.64e-8,
          4.81e-8,
          5.49e-8,
          6.33e-8
         ],
         "yaxis": "y"
        },
        {
         "customdata": [
          [
           [
            "C"
           ],
           "A",
           "DC potentiometric method",
           1976
          ],
          [
           [
            "C"
           ],
           "A",
           "DC potentiometric method",
           1976
          ],
          [
           [
            "C"
           ],
           "A",
           "DC potentiometric method",
           1976
          ],
          [
           [
            "C"
           ],
           "A",
           "DC potentiometric method",
           1976
          ],
          [
           [
            "C"
           ],
           "A",
           "DC potentiometric method",
           1976
          ],
          [
           [
            "C"
           ],
           "A",
           "DC potentiometric method",
           1976
          ],
          [
           [
            "C"
           ],
           "A",
           "DC potentiometric method",
           1976
          ],
          [
           [
            "C"
           ],
           "A",
           "DC potentiometric method",
           1976
          ],
          [
           [
            "C"
           ],
           "A",
           "DC potentiometric method",
           1976
          ],
          [
           [
            "C"
           ],
           "A",
           "DC potentiometric method",
           1976
          ],
          [
           [
            "C"
           ],
           "A",
           "DC potentiometric method",
           1976
          ],
          [
           [
            "C"
           ],
           "A",
           "DC potentiometric method",
           1976
          ],
          [
           [
            "C"
           ],
           "A",
           "DC potentiometric method",
           1976
          ],
          [
           [
            "C"
           ],
           "A",
           "DC potentiometric method",
           1976
          ]
         ],
         "error_y": {
          "array": [
           5.67e-10,
           7.29e-10,
           8.04e-10,
           8.1e-10,
           9.06e-10,
           9.12e-10,
           9.84e-10,
           1.047e-9,
           1.062e-9,
           1.203e-9,
           1.155e-9,
           1.173e-9,
           1.287e-9,
           1.431e-9
          ]
         },
         "hovertemplate": "Data Set ID=19411<br>Temperature: kg/cm**2=%{x}<br>Electrical resistivity: ohm*m=%{y}<br>State=%{customdata[0]}<br>Representation=%{customdata[1]}<br>Method=%{customdata[2]}<br>Year=%{customdata[3]}<extra></extra>",
         "legendgroup": "19411",
         "marker": {
          "color": "#ab63fa",
          "symbol": "circle"
         },
         "mode": "markers",
         "name": "19411",
         "showlegend": true,
         "type": "scattergl",
         "x": [
          300.743,
          362.066,
          391.472,
          408.51,
          451.73,
          458.043,
          492.513,
          519.422,
          536.813,
          541.591,
          579.26,
          582.828,
          646.24,
          707.794
         ],
         "xaxis": "x",
         "y": [
          1.89e-8,
          2.43e-8,
          2.68e-8,
          2.7e-8,
          3.02e-8,
          3.04e-8,
          3.28e-8,
          3.49e-8,
          3.54e-8,
          4.01e-8,
          3.85e-8,
          3.91e-8,
          4.29e-8,
          4.77e-8
         ],
         "yaxis": "y"
        },
        {
         "customdata": [
          [
           [
            "C"
           ],
           "A",
           "DC potentiometric method",
           1976
          ],
          [
           [
            "C"
           ],
           "A",
           "DC potentiometric method",
           1976
          ],
          [
           [
            "C"
           ],
           "A",
           "DC potentiometric method",
           1976
          ],
          [
           [
            "C"
           ],
           "A",
           "DC potentiometric method",
           1976
          ],
          [
           [
            "C"
           ],
           "A",
           "DC potentiometric method",
           1976
          ],
          [
           [
            "C"
           ],
           "A",
           "DC potentiometric method",
           1976
          ],
          [
           [
            "C"
           ],
           "A",
           "DC potentiometric method",
           1976
          ],
          [
           [
            "C"
           ],
           "A",
           "DC potentiometric method",
           1976
          ],
          [
           [
            "C"
           ],
           "A",
           "DC potentiometric method",
           1976
          ],
          [
           [
            "C"
           ],
           "A",
           "DC potentiometric method",
           1976
          ],
          [
           [
            "C"
           ],
           "A",
           "DC potentiometric method",
           1976
          ],
          [
           [
            "C"
           ],
           "A",
           "DC potentiometric method",
           1976
          ],
          [
           [
            "C"
           ],
           "A",
           "DC potentiometric method",
           1976
          ]
         ],
         "error_y": {
          "array": [
           5.49e-10,
           6.87e-10,
           7.5e-10,
           7.86e-10,
           8.55e-10,
           8.64e-10,
           9.42e-10,
           9.9e-10,
           1.005e-9,
           1.095e-9,
           1.119e-9,
           1.2e-9,
           1.338e-9
          ]
         },
         "hovertemplate": "Data Set ID=19412<br>Temperature: kg/cm**2=%{x}<br>Electrical resistivity: ohm*m=%{y}<br>State=%{customdata[0]}<br>Representation=%{customdata[1]}<br>Method=%{customdata[2]}<br>Year=%{customdata[3]}<extra></extra>",
         "legendgroup": "19412",
         "marker": {
          "color": "#FFA15A",
          "symbol": "circle"
         },
         "mode": "markers",
         "name": "19412",
         "showlegend": true,
         "type": "scattergl",
         "x": [
          294.966,
          358.046,
          384.174,
          398.112,
          438.992,
          444.332,
          478.162,
          501.505,
          517.01,
          552.964,
          560.427,
          619.083,
          679.043
         ],
         "xaxis": "x",
         "y": [
          1.83e-8,
          2.29e-8,
          2.5e-8,
          2.62e-8,
          2.85e-8,
          2.88e-8,
          3.14e-8,
          3.3e-8,
          3.35e-8,
          3.65e-8,
          3.73e-8,
          4e-8,
          4.46e-8
         ],
         "yaxis": "y"
        },
        {
         "customdata": [
          [
           [
            "C"
           ],
           "A",
           "DC potentiometric method",
           1976
          ],
          [
           [
            "C"
           ],
           "A",
           "DC potentiometric method",
           1976
          ],
          [
           [
            "C"
           ],
           "A",
           "DC potentiometric method",
           1976
          ],
          [
           [
            "C"
           ],
           "A",
           "DC potentiometric method",
           1976
          ],
          [
           [
            "C"
           ],
           "A",
           "DC potentiometric method",
           1976
          ],
          [
           [
            "C"
           ],
           "A",
           "DC potentiometric method",
           1976
          ],
          [
           [
            "C"
           ],
           "A",
           "DC potentiometric method",
           1976
          ],
          [
           [
            "C"
           ],
           "A",
           "DC potentiometric method",
           1976
          ],
          [
           [
            "C"
           ],
           "A",
           "DC potentiometric method",
           1976
          ],
          [
           [
            "C"
           ],
           "A",
           "DC potentiometric method",
           1976
          ],
          [
           [
            "C"
           ],
           "A",
           "DC potentiometric method",
           1976
          ],
          [
           [
            "C"
           ],
           "A",
           "DC potentiometric method",
           1976
          ]
         ],
         "error_y": {
          "array": [
           5.34e-10,
           6.72e-10,
           7.41e-10,
           7.59e-10,
           8.4e-10,
           8.58e-10,
           9.3e-10,
           9.81e-10,
           1.011e-9,
           1.092e-9,
           1.212e-9,
           1.377e-9
          ]
         },
         "hovertemplate": "Data Set ID=19413<br>Temperature: kg/cm**2=%{x}<br>Electrical resistivity: ohm*m=%{y}<br>State=%{customdata[0]}<br>Representation=%{customdata[1]}<br>Method=%{customdata[2]}<br>Year=%{customdata[3]}<extra></extra>",
         "legendgroup": "19413",
         "marker": {
          "color": "#19d3f3",
          "symbol": "circle"
         },
         "mode": "markers",
         "name": "19413",
         "showlegend": true,
         "type": "scattergl",
         "x": [
          291.334,
          366.852,
          395.248,
          403.641,
          443.411,
          455.559,
          494.499,
          516.346,
          533.322,
          575.285,
          640.121,
          703.618
         ],
         "xaxis": "x",
         "y": [
          1.78e-8,
          2.24e-8,
          2.47e-8,
          2.53e-8,
          2.8e-8,
          2.86e-8,
          3.1e-8,
          3.27e-8,
          3.37e-8,
          3.64e-8,
          4.04e-8,
          4.59e-8
         ],
         "yaxis": "y"
        },
        {
         "customdata": [
          [
           [
            "C"
           ],
           "A",
           "DC potentiometric method",
           1976
          ],
          [
           [
            "C"
           ],
           "A",
           "DC potentiometric method",
           1976
          ],
          [
           [
            "C"
           ],
           "A",
           "DC potentiometric method",
           1976
          ],
          [
           [
            "C"
           ],
           "A",
           "DC potentiometric method",
           1976
          ],
          [
           [
            "C"
           ],
           "A",
           "DC potentiometric method",
           1976
          ],
          [
           [
            "C"
           ],
           "A",
           "DC potentiometric method",
           1976
          ],
          [
           [
            "C"
           ],
           "A",
           "DC potentiometric method",
           1976
          ],
          [
           [
            "C"
           ],
           "A",
           "DC potentiometric method",
           1976
          ],
          [
           [
            "C"
           ],
           "A",
           "DC potentiometric method",
           1976
          ],
          [
           [
            "C"
           ],
           "A",
           "DC potentiometric method",
           1976
          ],
          [
           [
            "C"
           ],
           "A",
           "DC potentiometric method",
           1976
          ],
          [
           [
            "C"
           ],
           "A",
           "DC potentiometric method",
           1976
          ],
          [
           [
            "C"
           ],
           "A",
           "DC potentiometric method",
           1976
          ],
          [
           [
            "C"
           ],
           "A",
           "DC potentiometric method",
           1976
          ],
          [
           [
            "C"
           ],
           "A",
           "DC potentiometric method",
           1976
          ],
          [
           [
            "C"
           ],
           "A",
           "DC potentiometric method",
           1976
          ]
         ],
         "error_y": {
          "array": [
           8.55e-10,
           9.09e-10,
           9.36e-10,
           1.008e-9,
           9.99e-10,
           1.044e-9,
           1.116e-9,
           1.155e-9,
           1.173e-9,
           1.308e-9,
           1.272e-9,
           1.392e-9,
           1.512e-9,
           1.602e-9,
           1.776e-9,
           1.914e-9
          ]
         },
         "hovertemplate": "Data Set ID=19414<br>Temperature: kg/cm**2=%{x}<br>Electrical resistivity: ohm*m=%{y}<br>State=%{customdata[0]}<br>Representation=%{customdata[1]}<br>Method=%{customdata[2]}<br>Year=%{customdata[3]}<extra></extra>",
         "legendgroup": "19414",
         "marker": {
          "color": "#FF6692",
          "symbol": "circle"
         },
         "mode": "markers",
         "name": "19414",
         "showlegend": true,
         "type": "scattergl",
         "x": [
          363.001,
          391.678,
          407.094,
          443.1,
          450.272,
          458.626,
          490.315,
          520.476,
          530.867,
          571.017,
          582.627,
          640.008,
          702.608,
          734.066,
          828.135,
          925.708
         ],
         "xaxis": "x",
         "y": [
          2.85e-8,
          3.03e-8,
          3.12e-8,
          3.36e-8,
          3.33e-8,
          3.48e-8,
          3.72e-8,
          3.85e-8,
          3.91e-8,
          4.36e-8,
          4.24e-8,
          4.64e-8,
          5.04e-8,
          5.34e-8,
          5.92e-8,
          6.38e-8
         ],
         "yaxis": "y"
        },
        {
         "customdata": [
          [
           [
            "C"
           ],
           "A",
           "DC potentiometric method",
           1976
          ],
          [
           [
            "C"
           ],
           "A",
           "DC potentiometric method",
           1976
          ],
          [
           [
            "C"
           ],
           "A",
           "DC potentiometric method",
           1976
          ],
          [
           [
            "C"
           ],
           "A",
           "DC potentiometric method",
           1976
          ],
          [
           [
            "C"
           ],
           "A",
           "DC potentiometric method",
           1976
          ],
          [
           [
            "C"
           ],
           "A",
           "DC potentiometric method",
           1976
          ],
          [
           [
            "C"
           ],
           "A",
           "DC potentiometric method",
           1976
          ],
          [
           [
            "C"
           ],
           "A",
           "DC potentiometric method",
           1976
          ],
          [
           [
            "C"
           ],
           "A",
           "DC potentiometric method",
           1976
          ],
          [
           [
            "C"
           ],
           "A",
           "DC potentiometric method",
           1976
          ],
          [
           [
            "C"
           ],
           "A",
           "DC potentiometric method",
           1976
          ],
          [
           [
            "C"
           ],
           "A",
           "DC potentiometric method",
           1976
          ],
          [
           [
            "C"
           ],
           "A",
           "DC potentiometric method",
           1976
          ],
          [
           [
            "C"
           ],
           "A",
           "DC potentiometric method",
           1976
          ],
          [
           [
            "C"
           ],
           "A",
           "DC potentiometric method",
           1976
          ],
          [
           [
            "C"
           ],
           "A",
           "DC potentiometric method",
           1976
          ],
          [
           [
            "C"
           ],
           "A",
           "DC potentiometric method",
           1976
          ],
          [
           [
            "C"
           ],
           "A",
           "DC potentiometric method",
           1976
          ],
          [
           [
            "C"
           ],
           "A",
           "DC potentiometric method",
           1976
          ],
          [
           [
            "C"
           ],
           "A",
           "DC potentiometric method",
           1976
          ]
         ],
         "error_y": {
          "array": [
           7.11e-10,
           6.84e-10,
           9.54e-10,
           1.02e-9,
           1.056e-9,
           1.131e-9,
           1.026e-9,
           1.173e-9,
           1.008e-9,
           1.107e-9,
           1.191e-9,
           1.365e-9,
           1.377e-9,
           1.212e-9,
           1.365e-9,
           1.44e-9,
           1.491e-9,
           1.569e-9,
           1.812e-9,
           2.031e-9
          ]
         },
         "hovertemplate": "Data Set ID=19415<br>Temperature: kg/cm**2=%{x}<br>Electrical resistivity: ohm*m=%{y}<br>State=%{customdata[0]}<br>Representation=%{customdata[1]}<br>Method=%{customdata[2]}<br>Year=%{customdata[3]}<extra></extra>",
         "legendgroup": "19415",
         "marker": {
          "color": "#B6E880",
          "symbol": "circle"
         },
         "mode": "markers",
         "name": "19415",
         "showlegend": true,
         "type": "scattergl",
         "x": [
          299.687,
          301.35,
          366.136,
          398.031,
          409.935,
          451.333,
          459.455,
          465.174,
          490.623,
          526.669,
          529.619,
          556.371,
          563.508,
          587.916,
          643.805,
          655.6,
          701.167,
          746.961,
          836.493,
          929.573
         ],
         "xaxis": "x",
         "y": [
          2.37e-8,
          2.28e-8,
          3.18e-8,
          3.4e-8,
          3.52e-8,
          3.77e-8,
          3.42e-8,
          3.91e-8,
          3.36e-8,
          3.69e-8,
          3.97e-8,
          4.55e-8,
          4.59e-8,
          4.04e-8,
          4.55e-8,
          4.8e-8,
          4.97e-8,
          5.23e-8,
          6.04e-8,
          6.77e-8
         ],
         "yaxis": "y"
        },
        {
         "customdata": [
          [
           [
            "C"
           ],
           "A",
           "DC potentiometric method",
           1976
          ],
          [
           [
            "C"
           ],
           "A",
           "DC potentiometric method",
           1976
          ],
          [
           [
            "C"
           ],
           "A",
           "DC potentiometric method",
           1976
          ],
          [
           [
            "C"
           ],
           "A",
           "DC potentiometric method",
           1976
          ],
          [
           [
            "C"
           ],
           "A",
           "DC potentiometric method",
           1976
          ],
          [
           [
            "C"
           ],
           "A",
           "DC potentiometric method",
           1976
          ],
          [
           [
            "C"
           ],
           "A",
           "DC potentiometric method",
           1976
          ],
          [
           [
            "C"
           ],
           "A",
           "DC potentiometric method",
           1976
          ],
          [
           [
            "C"
           ],
           "A",
           "DC potentiometric method",
           1976
          ],
          [
           [
            "C"
           ],
           "A",
           "DC potentiometric method",
           1976
          ],
          [
           [
            "C"
           ],
           "A",
           "DC potentiometric method",
           1976
          ],
          [
           [
            "C"
           ],
           "A",
           "DC potentiometric method",
           1976
          ],
          [
           [
            "C"
           ],
           "A",
           "DC potentiometric method",
           1976
          ],
          [
           [
            "C"
           ],
           "A",
           "DC potentiometric method",
           1976
          ],
          [
           [
            "C"
           ],
           "A",
           "DC potentiometric method",
           1976
          ],
          [
           [
            "C"
           ],
           "A",
           "DC potentiometric method",
           1976
          ],
          [
           [
            "C"
           ],
           "A",
           "DC potentiometric method",
           1976
          ],
          [
           [
            "C"
           ],
           "A",
           "DC potentiometric method",
           1976
          ]
         ],
         "error_y": {
          "array": [
           7.02e-10,
           9.03e-10,
           9.18e-10,
           9.66e-10,
           1.014e-9,
           1.077e-9,
           1.131e-9,
           1.179e-9,
           1.23e-9,
           1.26e-9,
           1.308e-9,
           1.356e-9,
           1.431e-9,
           1.47e-9,
           1.539e-9,
           1.587e-9,
           1.887e-9,
           2.058e-9
          ]
         },
         "hovertemplate": "Data Set ID=19416<br>Temperature: kg/cm**2=%{x}<br>Electrical resistivity: ohm*m=%{y}<br>State=%{customdata[0]}<br>Representation=%{customdata[1]}<br>Method=%{customdata[2]}<br>Year=%{customdata[3]}<extra></extra>",
         "legendgroup": "19416",
         "marker": {
          "color": "#FF97FF",
          "symbol": "circle"
         },
         "mode": "markers",
         "name": "19416",
         "showlegend": true,
         "type": "scattergl",
         "x": [
          303.663,
          363.644,
          395.015,
          406.183,
          448.765,
          460.04,
          492.189,
          523.051,
          534.713,
          544.728,
          576.819,
          586.922,
          640,
          651.193,
          711.082,
          735.323,
          836.319,
          923.032
         ],
         "xaxis": "x",
         "y": [
          2.34e-8,
          3.01e-8,
          3.06e-8,
          3.22e-8,
          3.38e-8,
          3.59e-8,
          3.77e-8,
          3.93e-8,
          4.1e-8,
          4.2e-8,
          4.36e-8,
          4.52e-8,
          4.77e-8,
          4.9e-8,
          5.13e-8,
          5.29e-8,
          6.29e-8,
          6.86e-8
         ],
         "yaxis": "y"
        },
        {
         "customdata": [
          [
           [
            "L"
           ],
           "A",
           "Four point probe",
           1978
          ],
          [
           [
            "L"
           ],
           "A",
           "Four point probe",
           1978
          ],
          [
           [
            "L"
           ],
           "A",
           "Four point probe",
           1978
          ],
          [
           [
            "L"
           ],
           "A",
           "Four point probe",
           1978
          ],
          [
           [
            "L"
           ],
           "A",
           "Four point probe",
           1978
          ],
          [
           [
            "L"
           ],
           "A",
           "Four point probe",
           1978
          ],
          [
           [
            "L"
           ],
           "A",
           "Four point probe",
           1978
          ],
          [
           [
            "L"
           ],
           "A",
           "Four point probe",
           1978
          ],
          [
           [
            "L"
           ],
           "A",
           "Four point probe",
           1978
          ],
          [
           [
            "L"
           ],
           "A",
           "Four point probe",
           1978
          ],
          [
           [
            "L"
           ],
           "A",
           "Four point probe",
           1978
          ],
          [
           [
            "L"
           ],
           "A",
           "Four point probe",
           1978
          ],
          [
           [
            "L"
           ],
           "A",
           "Four point probe",
           1978
          ],
          [
           [
            "L"
           ],
           "A",
           "Four point probe",
           1978
          ],
          [
           [
            "L"
           ],
           "A",
           "Four point probe",
           1978
          ],
          [
           [
            "L"
           ],
           "A",
           "Four point probe",
           1978
          ],
          [
           [
            "L"
           ],
           "A",
           "Four point probe",
           1978
          ],
          [
           [
            "L"
           ],
           "A",
           "Four point probe",
           1978
          ],
          [
           [
            "L"
           ],
           "A",
           "Four point probe",
           1978
          ],
          [
           [
            "L"
           ],
           "A",
           "Four point probe",
           1978
          ],
          [
           [
            "L"
           ],
           "A",
           "Four point probe",
           1978
          ],
          [
           [
            "L"
           ],
           "A",
           "Four point probe",
           1978
          ],
          [
           [
            "L"
           ],
           "A",
           "Four point probe",
           1978
          ],
          [
           [
            "L"
           ],
           "A",
           "Four point probe",
           1978
          ],
          [
           [
            "L"
           ],
           "A",
           "Four point probe",
           1978
          ],
          [
           [
            "L"
           ],
           "A",
           "Four point probe",
           1978
          ],
          [
           [
            "L"
           ],
           "A",
           "Four point probe",
           1978
          ],
          [
           [
            "L"
           ],
           "A",
           "Four point probe",
           1978
          ],
          [
           [
            "L"
           ],
           "A",
           "Four point probe",
           1978
          ],
          [
           [
            "L"
           ],
           "A",
           "Four point probe",
           1978
          ],
          [
           [
            "L"
           ],
           "A",
           "Four point probe",
           1978
          ],
          [
           [
            "L"
           ],
           "A",
           "Four point probe",
           1978
          ],
          [
           [
            "L"
           ],
           "A",
           "Four point probe",
           1978
          ]
         ],
         "error_y": {
          "array": [
           4.308e-10,
           4.344e-10,
           4.376e-10,
           4.344e-10,
           4.38e-10,
           4.42e-10,
           4.376e-10,
           4.374e-10,
           4.412e-10,
           4.418e-10,
           4.434e-10,
           4.468e-10,
           4.494e-10,
           4.47e-10,
           4.504e-10,
           4.538e-10,
           4.518e-10,
           4.568e-10,
           4.554e-10,
           4.544e-10,
           4.562e-10,
           4.602e-10,
           4.564e-10,
           4.616e-10,
           4.632e-10,
           4.66e-10,
           4.644e-10,
           4.724e-10,
           4.674e-10,
           4.678e-10,
           4.696e-10,
           4.718e-10,
           4.754e-10
          ]
         },
         "hovertemplate": "Data Set ID=19909<br>Temperature: kg/cm**2=%{x}<br>Electrical resistivity: ohm*m=%{y}<br>State=%{customdata[0]}<br>Representation=%{customdata[1]}<br>Method=%{customdata[2]}<br>Year=%{customdata[3]}<extra></extra>",
         "legendgroup": "19909",
         "marker": {
          "color": "#FECB52",
          "symbol": "circle"
         },
         "mode": "markers",
         "name": "19909",
         "showlegend": true,
         "type": "scattergl",
         "x": [
          1369.85,
          1384.65,
          1395.15,
          1396.45,
          1401.95,
          1405.15,
          1408.35,
          1414.45,
          1419.45,
          1424.85,
          1435.25,
          1451.05,
          1459.45,
          1474.05,
          1476.55,
          1493.45,
          1495.55,
          1501.45,
          1502.55,
          1505.65,
          1518.25,
          1524.05,
          1524.15,
          1538.45,
          1550.85,
          1553.45,
          1570.85,
          1586.95,
          1587.85,
          1597.15,
          1615.25,
          1619.15,
          1625.85
         ],
         "xaxis": "x",
         "y": [
          2.154e-7,
          2.172e-7,
          2.188e-7,
          2.172e-7,
          2.19e-7,
          2.21e-7,
          2.188e-7,
          2.187e-7,
          2.206e-7,
          2.209e-7,
          2.217e-7,
          2.234e-7,
          2.247e-7,
          2.235e-7,
          2.252e-7,
          2.269e-7,
          2.259e-7,
          2.284e-7,
          2.277e-7,
          2.272e-7,
          2.281e-7,
          2.301e-7,
          2.282e-7,
          2.308e-7,
          2.316e-7,
          2.33e-7,
          2.322e-7,
          2.362e-7,
          2.337e-7,
          2.339e-7,
          2.348e-7,
          2.359e-7,
          2.377e-7
         ],
         "yaxis": "y"
        },
        {
         "customdata": [
          [
           [
            "C"
           ],
           "A",
           "Four point probe",
           1978
          ],
          [
           [
            "C"
           ],
           "A",
           "Four point probe",
           1978
          ],
          [
           [
            "C"
           ],
           "A",
           "Four point probe",
           1978
          ],
          [
           [
            "C"
           ],
           "A",
           "Four point probe",
           1978
          ],
          [
           [
            "C"
           ],
           "A",
           "Four point probe",
           1978
          ],
          [
           [
            "C"
           ],
           "A",
           "Four point probe",
           1978
          ],
          [
           [
            "C"
           ],
           "A",
           "Four point probe",
           1978
          ]
         ],
         "error_y": {
          "array": [
           1.902e-10,
           1.92e-10,
           1.976e-10,
           1.978e-10,
           2.04e-10,
           2.062e-10,
           2.094e-10
          ]
         },
         "hovertemplate": "Data Set ID=19910<br>Temperature: kg/cm**2=%{x}<br>Electrical resistivity: ohm*m=%{y}<br>State=%{customdata[0]}<br>Representation=%{customdata[1]}<br>Method=%{customdata[2]}<br>Year=%{customdata[3]}<extra></extra>",
         "legendgroup": "19910",
         "marker": {
          "color": "#636efa",
          "symbol": "circle"
         },
         "mode": "markers",
         "name": "19910",
         "showlegend": true,
         "type": "scattergl",
         "x": [
          1263.15,
          1274.55,
          1293.55,
          1297.35,
          1323.95,
          1326.75,
          1334.55
         ],
         "xaxis": "x",
         "y": [
          9.51e-8,
          9.6e-8,
          9.88e-8,
          9.89e-8,
          1.02e-7,
          1.031e-7,
          1.047e-7
         ],
         "yaxis": "y"
        },
        {
         "customdata": [
          [
           [
            "C"
           ],
           "A",
           "Four point probe",
           1979
          ]
         ],
         "error_y": {
          "array": [
           3.56e-10
          ]
         },
         "hovertemplate": "Data Set ID=20192<br>Temperature: kg/cm**2=%{x}<br>Electrical resistivity: ohm*m=%{y}<br>State=%{customdata[0]}<br>Representation=%{customdata[1]}<br>Method=%{customdata[2]}<br>Year=%{customdata[3]}<extra></extra>",
         "legendgroup": "20192",
         "marker": {
          "color": "#EF553B",
          "symbol": "circle"
         },
         "mode": "markers",
         "name": "20192",
         "showlegend": true,
         "type": "scattergl",
         "x": [
          293
         ],
         "xaxis": "x",
         "y": [
          1.78e-8
         ],
         "yaxis": "y"
        },
        {
         "customdata": [
          [
           [
            "C"
           ],
           "A",
           "Four point probe",
           1979
          ]
         ],
         "error_y": {
          "array": [
           4.66e-10
          ]
         },
         "hovertemplate": "Data Set ID=20193<br>Temperature: kg/cm**2=%{x}<br>Electrical resistivity: ohm*m=%{y}<br>State=%{customdata[0]}<br>Representation=%{customdata[1]}<br>Method=%{customdata[2]}<br>Year=%{customdata[3]}<extra></extra>",
         "legendgroup": "20193",
         "marker": {
          "color": "#00cc96",
          "symbol": "circle"
         },
         "mode": "markers",
         "name": "20193",
         "showlegend": true,
         "type": "scattergl",
         "x": [
          293
         ],
         "xaxis": "x",
         "y": [
          2.33e-8
         ],
         "yaxis": "y"
        },
        {
         "customdata": [
          [
           [
            "C"
           ],
           "A",
           "Four point probe",
           1979
          ],
          [
           [
            "C"
           ],
           "A",
           "Four point probe",
           1979
          ],
          [
           [
            "C"
           ],
           "A",
           "Four point probe",
           1979
          ],
          [
           [
            "C"
           ],
           "A",
           "Four point probe",
           1979
          ],
          [
           [
            "C"
           ],
           "A",
           "Four point probe",
           1979
          ],
          [
           [
            "C"
           ],
           "A",
           "Four point probe",
           1979
          ]
         ],
         "error_y": {
          "array": [
           4.36e-9,
           4.44e-9,
           4.51e-9,
           4.58e-9,
           4.66e-9,
           4.73e-9
          ]
         },
         "hovertemplate": "Data Set ID=20194<br>Temperature: kg/cm**2=%{x}<br>Electrical resistivity: ohm*m=%{y}<br>State=%{customdata[0]}<br>Representation=%{customdata[1]}<br>Method=%{customdata[2]}<br>Year=%{customdata[3]}<extra></extra>",
         "legendgroup": "20194",
         "marker": {
          "color": "#ab63fa",
          "symbol": "circle"
         },
         "mode": "markers",
         "name": "20194",
         "showlegend": true,
         "type": "scattergl",
         "x": [
          1373,
          1423,
          1473,
          1523,
          1573,
          1623
         ],
         "xaxis": "x",
         "y": [
          2.18e-7,
          2.22e-7,
          2.255e-7,
          2.29e-7,
          2.33e-7,
          2.365e-7
         ],
         "yaxis": "y"
        },
        {
         "customdata": [
          [
           [
            "C"
           ],
           "A",
           "Four point probe",
           1979
          ],
          [
           [
            "C"
           ],
           "A",
           "Four point probe",
           1979
          ],
          [
           [
            "C"
           ],
           "A",
           "Four point probe",
           1979
          ],
          [
           [
            "C"
           ],
           "A",
           "Four point probe",
           1979
          ],
          [
           [
            "C"
           ],
           "A",
           "Four point probe",
           1979
          ]
         ],
         "error_y": {
          "array": [
           4.49e-9,
           4.58e-9,
           4.66e-9,
           4.75e-9,
           4.84e-9
          ]
         },
         "hovertemplate": "Data Set ID=20195<br>Temperature: kg/cm**2=%{x}<br>Electrical resistivity: ohm*m=%{y}<br>State=%{customdata[0]}<br>Representation=%{customdata[1]}<br>Method=%{customdata[2]}<br>Year=%{customdata[3]}<extra></extra>",
         "legendgroup": "20195",
         "marker": {
          "color": "#FFA15A",
          "symbol": "circle"
         },
         "mode": "markers",
         "name": "20195",
         "showlegend": true,
         "type": "scattergl",
         "x": [
          1373,
          1423,
          1473,
          1523,
          1573
         ],
         "xaxis": "x",
         "y": [
          2.245e-7,
          2.29e-7,
          2.33e-7,
          2.375e-7,
          2.42e-7
         ],
         "yaxis": "y"
        },
        {
         "customdata": [
          [
           [
            "C"
           ],
           "A",
           "Four point probe",
           1979
          ],
          [
           [
            "C"
           ],
           "A",
           "Four point probe",
           1979
          ]
         ],
         "error_y": {
          "array": [
           1.264e-8,
           1.278e-8
          ]
         },
         "hovertemplate": "Data Set ID=20196<br>Temperature: kg/cm**2=%{x}<br>Electrical resistivity: ohm*m=%{y}<br>State=%{customdata[0]}<br>Representation=%{customdata[1]}<br>Method=%{customdata[2]}<br>Year=%{customdata[3]}<extra></extra>",
         "legendgroup": "20196",
         "marker": {
          "color": "#19d3f3",
          "symbol": "circle"
         },
         "mode": "markers",
         "name": "20196",
         "showlegend": true,
         "type": "scattergl",
         "x": [
          1373,
          1473
         ],
         "xaxis": "x",
         "y": [
          6.32e-7,
          6.39e-7
         ],
         "yaxis": "y"
        },
        {
         "customdata": [
          [
           [
            "L"
           ],
           "A",
           "Four point probe",
           1987
          ],
          [
           [
            "L"
           ],
           "A",
           "Four point probe",
           1987
          ],
          [
           [
            "L"
           ],
           "A",
           "Four point probe",
           1987
          ],
          [
           [
            "L"
           ],
           "A",
           "Four point probe",
           1987
          ],
          [
           [
            "L"
           ],
           "A",
           "Four point probe",
           1987
          ],
          [
           [
            "L"
           ],
           "A",
           "Four point probe",
           1987
          ],
          [
           [
            "L"
           ],
           "A",
           "Four point probe",
           1987
          ],
          [
           [
            "L"
           ],
           "A",
           "Four point probe",
           1987
          ],
          [
           [
            "L"
           ],
           "A",
           "Four point probe",
           1987
          ]
         ],
         "error_y": {
          "array": [
           2.1402e-9,
           2.1488e-9,
           2.1561e-9,
           2.1634e-9,
           2.1643e-9,
           2.1627e-9,
           2.1725e-9,
           2.1761e-9,
           2.1769e-9
          ]
         },
         "hovertemplate": "Data Set ID=21510<br>Temperature: kg/cm**2=%{x}<br>Electrical resistivity: ohm*m=%{y}<br>State=%{customdata[0]}<br>Representation=%{customdata[1]}<br>Method=%{customdata[2]}<br>Year=%{customdata[3]}<extra></extra>",
         "legendgroup": "21510",
         "marker": {
          "color": "#FF6692",
          "symbol": "circle"
         },
         "mode": "markers",
         "name": "21510",
         "showlegend": true,
         "type": "scattergl",
         "x": [
          1368.35,
          1384.35,
          1399.25,
          1402.35,
          1408.85,
          1415.35,
          1416.85,
          1421.95,
          1432.05
         ],
         "xaxis": "x",
         "y": [
          2.1402e-7,
          2.1488e-7,
          2.1561e-7,
          2.1634e-7,
          2.1643e-7,
          2.1627e-7,
          2.1725e-7,
          2.1761e-7,
          2.1769e-7
         ],
         "yaxis": "y"
        },
        {
         "customdata": [
          [
           [
            "L",
            "C"
           ],
           "A",
           "Four point probe",
           1987
          ]
         ],
         "error_y": {
          "array": [
           8.44e-10
          ]
         },
         "hovertemplate": "Data Set ID=21511<br>Temperature: kg/cm**2=%{x}<br>Electrical resistivity: ohm*m=%{y}<br>State=%{customdata[0]}<br>Representation=%{customdata[1]}<br>Method=%{customdata[2]}<br>Year=%{customdata[3]}<extra></extra>",
         "legendgroup": "21511",
         "marker": {
          "color": "#B6E880",
          "symbol": "circle"
         },
         "mode": "markers",
         "name": "21511",
         "showlegend": true,
         "type": "scattergl",
         "x": [
          1356.15
         ],
         "xaxis": "x",
         "y": [
          2.11e-7
         ],
         "yaxis": "y"
        },
        {
         "customdata": [
          [
           [
            "L"
           ],
           "A",
           "Four point probe",
           1990
          ],
          [
           [
            "L"
           ],
           "A",
           "Four point probe",
           1990
          ],
          [
           [
            "L"
           ],
           "A",
           "Four point probe",
           1990
          ],
          [
           [
            "L"
           ],
           "A",
           "Four point probe",
           1990
          ],
          [
           [
            "L"
           ],
           "A",
           "Four point probe",
           1990
          ],
          [
           [
            "L"
           ],
           "A",
           "Four point probe",
           1990
          ],
          [
           [
            "L"
           ],
           "A",
           "Four point probe",
           1990
          ],
          [
           [
            "L"
           ],
           "A",
           "Four point probe",
           1990
          ],
          [
           [
            "L"
           ],
           "A",
           "Four point probe",
           1990
          ],
          [
           [
            "L"
           ],
           "A",
           "Four point probe",
           1990
          ],
          [
           [
            "L"
           ],
           "A",
           "Four point probe",
           1990
          ],
          [
           [
            "L"
           ],
           "A",
           "Four point probe",
           1990
          ],
          [
           [
            "L"
           ],
           "A",
           "Four point probe",
           1990
          ],
          [
           [
            "L"
           ],
           "A",
           "Four point probe",
           1990
          ],
          [
           [
            "L"
           ],
           "A",
           "Four point probe",
           1990
          ],
          [
           [
            "L"
           ],
           "A",
           "Four point probe",
           1990
          ],
          [
           [
            "L"
           ],
           "A",
           "Four point probe",
           1990
          ],
          [
           [
            "L"
           ],
           "A",
           "Four point probe",
           1990
          ],
          [
           [
            "L"
           ],
           "A",
           "Four point probe",
           1990
          ],
          [
           [
            "L"
           ],
           "A",
           "Four point probe",
           1990
          ],
          [
           [
            "L"
           ],
           "A",
           "Four point probe",
           1990
          ],
          [
           [
            "L"
           ],
           "A",
           "Four point probe",
           1990
          ]
         ],
         "error_y": {
          "array": [
           6.258e-9,
           6.282e-9,
           6.303e-9,
           6.327e-9,
           6.351e-9,
           6.375e-9,
           6.396e-9,
           6.42e-9,
           6.444e-9,
           6.468e-9,
           6.489e-9,
           6.513e-9,
           6.537e-9,
           6.561e-9,
           6.582e-9,
           6.606e-9,
           6.63e-9,
           6.654e-9,
           6.675e-9,
           6.699e-9,
           6.723e-9,
           6.738e-9
          ]
         },
         "hovertemplate": "Data Set ID=21804<br>Temperature: kg/cm**2=%{x}<br>Electrical resistivity: ohm*m=%{y}<br>State=%{customdata[0]}<br>Representation=%{customdata[1]}<br>Method=%{customdata[2]}<br>Year=%{customdata[3]}<extra></extra>",
         "legendgroup": "21804",
         "marker": {
          "color": "#FF97FF",
          "symbol": "circle"
         },
         "mode": "markers",
         "name": "21804",
         "showlegend": true,
         "type": "scattergl",
         "x": [
          1367.15,
          1377.15,
          1387.15,
          1397.15,
          1407.15,
          1417.15,
          1427.15,
          1437.15,
          1447.15,
          1457.15,
          1467.15,
          1477.15,
          1487.15,
          1497.15,
          1507.15,
          1517.15,
          1527.15,
          1537.15,
          1547.15,
          1557.15,
          1567.15,
          1573.15
         ],
         "xaxis": "x",
         "y": [
          2.086e-7,
          2.094e-7,
          2.101e-7,
          2.109e-7,
          2.117e-7,
          2.125e-7,
          2.132e-7,
          2.14e-7,
          2.148e-7,
          2.156e-7,
          2.163e-7,
          2.171e-7,
          2.179e-7,
          2.187e-7,
          2.194e-7,
          2.202e-7,
          2.21e-7,
          2.218e-7,
          2.225e-7,
          2.233e-7,
          2.241e-7,
          2.246e-7
         ],
         "yaxis": "y"
        },
        {
         "customdata": [
          [
           [
            "C"
           ],
           "A",
           "DC bridge method",
           1994
          ]
         ],
         "error_y": {
          "array": [
           2.322e-10
          ]
         },
         "hovertemplate": "Data Set ID=22356<br>Temperature: kg/cm**2=%{x}<br>Electrical resistivity: ohm*m=%{y}<br>State=%{customdata[0]}<br>Representation=%{customdata[1]}<br>Method=%{customdata[2]}<br>Year=%{customdata[3]}<extra></extra>",
         "legendgroup": "22356",
         "marker": {
          "color": "#FECB52",
          "symbol": "circle"
         },
         "mode": "markers",
         "name": "22356",
         "showlegend": true,
         "type": "scattergl",
         "x": [
          273.15
         ],
         "xaxis": "x",
         "y": [
          1.548e-8
         ],
         "yaxis": "y"
        },
        {
         "customdata": [
          [
           [
            "C"
           ],
           "RRS",
           "DC bridge method",
           1994
          ]
         ],
         "error_y": {
          "array": [
           3.42
          ]
         },
         "hovertemplate": "Data Set ID=22357<br>Temperature: kg/cm**2=%{x}<br>Electrical resistivity: ohm*m=%{y}<br>State=%{customdata[0]}<br>Representation=%{customdata[1]}<br>Method=%{customdata[2]}<br>Year=%{customdata[3]}<extra></extra>",
         "legendgroup": "22357",
         "marker": {
          "color": "#636efa",
          "symbol": "circle"
         },
         "mode": "markers",
         "name": "22357",
         "showlegend": true,
         "type": "scattergl",
         "x": [
          273
         ],
         "xaxis": "x",
         "y": [
          228
         ],
         "yaxis": "y"
        },
        {
         "customdata": [
          [
           [
            "C"
           ],
           "A",
           "DC bridge method",
           1994
          ],
          [
           [
            "C"
           ],
           "A",
           "DC bridge method",
           1994
          ],
          [
           [
            "C"
           ],
           "A",
           "DC bridge method",
           1994
          ],
          [
           [
            "C"
           ],
           "A",
           "DC bridge method",
           1994
          ],
          [
           [
            "C"
           ],
           "A",
           "DC bridge method",
           1994
          ],
          [
           [
            "C"
           ],
           "A",
           "DC bridge method",
           1994
          ],
          [
           [
            "C"
           ],
           "A",
           "DC bridge method",
           1994
          ]
         ],
         "error_y": {
          "array": [
           3.585e-10,
           4.005e-10,
           4.6815e-10,
           5.4285e-10,
           6.5085e-10,
           7.65e-10,
           8.85e-10
          ]
         },
         "hovertemplate": "Data Set ID=22358<br>Temperature: kg/cm**2=%{x}<br>Electrical resistivity: ohm*m=%{y}<br>State=%{customdata[0]}<br>Representation=%{customdata[1]}<br>Method=%{customdata[2]}<br>Year=%{customdata[3]}<extra></extra>",
         "legendgroup": "22358",
         "marker": {
          "color": "#EF553B",
          "symbol": "circle"
         },
         "mode": "markers",
         "name": "22358",
         "showlegend": true,
         "type": "scattergl",
         "x": [
          397.15,
          439.15,
          504.15,
          574.65,
          673.65,
          772.45,
          876.15
         ],
         "xaxis": "x",
         "y": [
          2.39e-8,
          2.67e-8,
          3.121e-8,
          3.619e-8,
          4.339e-8,
          5.1e-8,
          5.9e-8
         ],
         "yaxis": "y"
        },
        {
         "customdata": [
          [
           [
            "C"
           ],
           "A",
           "DC bridge method",
           1994
          ]
         ],
         "error_y": {
          "array": [
           2.325e-10
          ]
         },
         "hovertemplate": "Data Set ID=22360<br>Temperature: kg/cm**2=%{x}<br>Electrical resistivity: ohm*m=%{y}<br>State=%{customdata[0]}<br>Representation=%{customdata[1]}<br>Method=%{customdata[2]}<br>Year=%{customdata[3]}<extra></extra>",
         "legendgroup": "22360",
         "marker": {
          "color": "#00cc96",
          "symbol": "circle"
         },
         "mode": "markers",
         "name": "22360",
         "showlegend": true,
         "type": "scattergl",
         "x": [
          273.15
         ],
         "xaxis": "x",
         "y": [
          1.55e-8
         ],
         "yaxis": "y"
        },
        {
         "customdata": [
          [
           [
            "C"
           ],
           "RRS",
           "DC bridge method",
           1994
          ]
         ],
         "error_y": {
          "array": [
           1.575
          ]
         },
         "hovertemplate": "Data Set ID=22361<br>Temperature: kg/cm**2=%{x}<br>Electrical resistivity: ohm*m=%{y}<br>State=%{customdata[0]}<br>Representation=%{customdata[1]}<br>Method=%{customdata[2]}<br>Year=%{customdata[3]}<extra></extra>",
         "legendgroup": "22361",
         "marker": {
          "color": "#ab63fa",
          "symbol": "circle"
         },
         "mode": "markers",
         "name": "22361",
         "showlegend": true,
         "type": "scattergl",
         "x": [
          273
         ],
         "xaxis": "x",
         "y": [
          105
         ],
         "yaxis": "y"
        },
        {
         "customdata": [
          [
           [
            "C"
           ],
           "A",
           "DC bridge method",
           1994
          ],
          [
           [
            "C"
           ],
           "A",
           "DC bridge method",
           1994
          ],
          [
           [
            "C"
           ],
           "A",
           "DC bridge method",
           1994
          ],
          [
           [
            "C"
           ],
           "A",
           "DC bridge method",
           1994
          ],
          [
           [
            "C"
           ],
           "A",
           "DC bridge method",
           1994
          ]
         ],
         "error_y": {
          "array": [
           4.89e-10,
           7.065e-10,
           9.375e-10,
           1.0065e-9,
           1.1235e-9
          ]
         },
         "hovertemplate": "Data Set ID=22362<br>Temperature: kg/cm**2=%{x}<br>Electrical resistivity: ohm*m=%{y}<br>State=%{customdata[0]}<br>Representation=%{customdata[1]}<br>Method=%{customdata[2]}<br>Year=%{customdata[3]}<extra></extra>",
         "legendgroup": "22362",
         "marker": {
          "color": "#FFA15A",
          "symbol": "circle"
         },
         "mode": "markers",
         "name": "22362",
         "showlegend": true,
         "type": "scattergl",
         "x": [
          524.15,
          723.15,
          923.15,
          973.15,
          1073.15
         ],
         "xaxis": "x",
         "y": [
          3.26e-8,
          4.71e-8,
          6.25e-8,
          6.71e-8,
          7.49e-8
         ],
         "yaxis": "y"
        },
        {
         "customdata": [
          [
           [
            "L"
           ],
           "A",
           "Four point probe",
           1999
          ],
          [
           [
            "L"
           ],
           "A",
           "Four point probe",
           1999
          ],
          [
           [
            "L"
           ],
           "A",
           "Four point probe",
           1999
          ],
          [
           [
            "L"
           ],
           "A",
           "Four point probe",
           1999
          ],
          [
           [
            "L"
           ],
           "A",
           "Four point probe",
           1999
          ]
         ],
         "error_y": {
          "array": [
           3.60414e-9,
           3.62457e-9,
           3.68517e-9,
           3.72564e-9,
           3.76897e-9
          ]
         },
         "hovertemplate": "Data Set ID=23276<br>Temperature: kg/cm**2=%{x}<br>Electrical resistivity: ohm*m=%{y}<br>State=%{customdata[0]}<br>Representation=%{customdata[1]}<br>Method=%{customdata[2]}<br>Year=%{customdata[3]}<extra></extra>",
         "legendgroup": "23276",
         "marker": {
          "color": "#19d3f3",
          "symbol": "circle"
         },
         "mode": "markers",
         "name": "23276",
         "showlegend": true,
         "type": "scattergl",
         "x": [
          1373.24,
          1397.62,
          1423.58,
          1445.41,
          1466.37
         ],
         "xaxis": "x",
         "y": [
          2.12008e-7,
          2.1321e-7,
          2.16775e-7,
          2.19155e-7,
          2.21704e-7
         ],
         "yaxis": "y"
        },
        {
         "customdata": [
          [
           [
            "L"
           ],
           "A",
           "HF levitating drop",
           2002
          ],
          [
           [
            "L"
           ],
           "A",
           "HF levitating drop",
           2002
          ],
          [
           [
            "L"
           ],
           "A",
           "HF levitating drop",
           2002
          ],
          [
           [
            "L"
           ],
           "A",
           "HF levitating drop",
           2002
          ],
          [
           [
            "L"
           ],
           "A",
           "HF levitating drop",
           2002
          ],
          [
           [
            "L"
           ],
           "A",
           "HF levitating drop",
           2002
          ],
          [
           [
            "L"
           ],
           "A",
           "HF levitating drop",
           2002
          ],
          [
           [
            "L"
           ],
           "A",
           "HF levitating drop",
           2002
          ],
          [
           [
            "L"
           ],
           "A",
           "HF levitating drop",
           2002
          ]
         ],
         "error_y": {
          "array": [
           6.1854e-9,
           6.17676e-9,
           6.22452e-9,
           6.25209e-9,
           6.28776e-9,
           6.32958e-9,
           6.33618e-9,
           6.36462e-9,
           6.39618e-9
          ]
         },
         "hovertemplate": "Data Set ID=23898<br>Temperature: kg/cm**2=%{x}<br>Electrical resistivity: ohm*m=%{y}<br>State=%{customdata[0]}<br>Representation=%{customdata[1]}<br>Method=%{customdata[2]}<br>Year=%{customdata[3]}<extra></extra>",
         "legendgroup": "23898",
         "marker": {
          "color": "#FF6692",
          "symbol": "circle"
         },
         "mode": "markers",
         "name": "23898",
         "showlegend": true,
         "type": "scattergl",
         "x": [
          1292.92,
          1303.2,
          1313.12,
          1323.16,
          1333.21,
          1343.12,
          1353.35,
          1363.12,
          1373.18
         ],
         "xaxis": "x",
         "y": [
          2.0618e-7,
          2.05892e-7,
          2.07484e-7,
          2.08403e-7,
          2.09592e-7,
          2.10986e-7,
          2.11206e-7,
          2.12154e-7,
          2.13206e-7
         ],
         "yaxis": "y"
        },
        {
         "customdata": [
          [
           [
            "L"
           ],
           "A",
           "HF levitating drop",
           2004
          ],
          [
           [
            "L"
           ],
           "A",
           "HF levitating drop",
           2004
          ],
          [
           [
            "L"
           ],
           "A",
           "HF levitating drop",
           2004
          ],
          [
           [
            "L"
           ],
           "A",
           "HF levitating drop",
           2004
          ],
          [
           [
            "L"
           ],
           "A",
           "HF levitating drop",
           2004
          ],
          [
           [
            "L"
           ],
           "A",
           "HF levitating drop",
           2004
          ],
          [
           [
            "L"
           ],
           "A",
           "HF levitating drop",
           2004
          ],
          [
           [
            "L"
           ],
           "A",
           "HF levitating drop",
           2004
          ],
          [
           [
            "L"
           ],
           "A",
           "HF levitating drop",
           2004
          ]
         ],
         "error_y": {
          "array": [
           6.1953e-9,
           6.1887e-9,
           6.2529e-9,
           6.2835e-9,
           6.3117e-9,
           6.3477e-9,
           6.3759e-9,
           6.3903e-9,
           6.4197e-9
          ]
         },
         "hovertemplate": "Data Set ID=24306<br>Temperature: kg/cm**2=%{x}<br>Electrical resistivity: ohm*m=%{y}<br>State=%{customdata[0]}<br>Representation=%{customdata[1]}<br>Method=%{customdata[2]}<br>Year=%{customdata[3]}<extra></extra>",
         "legendgroup": "24306",
         "marker": {
          "color": "#B6E880",
          "symbol": "circle"
         },
         "mode": "markers",
         "name": "24306",
         "showlegend": true,
         "type": "scattergl",
         "x": [
          1293.15,
          1303.05,
          1313.05,
          1323.15,
          1333.25,
          1342.95,
          1353.05,
          1363.15,
          1373.15
         ],
         "xaxis": "x",
         "y": [
          2.0651e-7,
          2.0629e-7,
          2.0843e-7,
          2.0945e-7,
          2.1039e-7,
          2.1159e-7,
          2.1253e-7,
          2.1301e-7,
          2.1399e-7
         ],
         "yaxis": "y"
        },
        {
         "customdata": [
          [
           [
            "L"
           ],
           "A",
           "Resistive pulse heating - microsecond",
           2007
          ],
          [
           [
            "L"
           ],
           "A",
           "Resistive pulse heating - microsecond",
           2007
          ],
          [
           [
            "L"
           ],
           "A",
           "Resistive pulse heating - microsecond",
           2007
          ],
          [
           [
            "L"
           ],
           "A",
           "Resistive pulse heating - microsecond",
           2007
          ],
          [
           [
            "L"
           ],
           "A",
           "Resistive pulse heating - microsecond",
           2007
          ],
          [
           [
            "L"
           ],
           "A",
           "Resistive pulse heating - microsecond",
           2007
          ],
          [
           [
            "L"
           ],
           "A",
           "Resistive pulse heating - microsecond",
           2007
          ],
          [
           [
            "L"
           ],
           "A",
           "Resistive pulse heating - microsecond",
           2007
          ],
          [
           [
            "L"
           ],
           "A",
           "Resistive pulse heating - microsecond",
           2007
          ],
          [
           [
            "L"
           ],
           "A",
           "Resistive pulse heating - microsecond",
           2007
          ],
          [
           [
            "L"
           ],
           "A",
           "Resistive pulse heating - microsecond",
           2007
          ]
         ],
         "error_y": {
          "array": [
           1.08245e-8,
           1.0997e-8,
           1.11945e-8,
           1.13895e-8,
           1.15845e-8,
           1.178e-8,
           1.19765e-8,
           1.2173e-8,
           1.2367e-8,
           1.25635e-8,
           1.27585e-8
          ]
         },
         "hovertemplate": "Data Set ID=25036<br>Temperature: kg/cm**2=%{x}<br>Electrical resistivity: ohm*m=%{y}<br>State=%{customdata[0]}<br>Representation=%{customdata[1]}<br>Method=%{customdata[2]}<br>Year=%{customdata[3]}<extra></extra>",
         "legendgroup": "25036",
         "marker": {
          "color": "#FF97FF",
          "symbol": "circle"
         },
         "mode": "markers",
         "name": "25036",
         "showlegend": true,
         "type": "scattergl",
         "x": [
          1355.7,
          1399.8,
          1449.7,
          1499.8,
          1549.7,
          1599.7,
          1649.9,
          1700,
          1749.9,
          1799.9,
          1849.9
         ],
         "xaxis": "x",
         "y": [
          2.1649e-7,
          2.1994e-7,
          2.2389e-7,
          2.2779e-7,
          2.3169e-7,
          2.356e-7,
          2.3953e-7,
          2.4346e-7,
          2.4734e-7,
          2.5127e-7,
          2.5517e-7
         ],
         "yaxis": "y"
        },
        {
         "customdata": [
          [
           [
            "L"
           ],
           "A",
           "HF levitating drop",
           2007
          ],
          [
           [
            "L"
           ],
           "A",
           "HF levitating drop",
           2007
          ],
          [
           [
            "L"
           ],
           "A",
           "HF levitating drop",
           2007
          ],
          [
           [
            "L"
           ],
           "A",
           "HF levitating drop",
           2007
          ],
          [
           [
            "L"
           ],
           "A",
           "HF levitating drop",
           2007
          ],
          [
           [
            "L"
           ],
           "A",
           "HF levitating drop",
           2007
          ],
          [
           [
            "L"
           ],
           "A",
           "HF levitating drop",
           2007
          ],
          [
           [
            "L"
           ],
           "A",
           "HF levitating drop",
           2007
          ],
          [
           [
            "L"
           ],
           "A",
           "HF levitating drop",
           2007
          ],
          [
           [
            "L"
           ],
           "A",
           "HF levitating drop",
           2007
          ],
          [
           [
            "L"
           ],
           "A",
           "HF levitating drop",
           2007
          ]
         ],
         "error_y": {
          "array": [
           6.3423e-9,
           6.4686e-9,
           6.6105e-9,
           6.7533e-9,
           6.8946e-9,
           7.0338e-9,
           7.1745e-9,
           7.3152e-9,
           7.4613e-9,
           7.6023e-9,
           7.7439e-9
          ]
         },
         "hovertemplate": "Data Set ID=25037<br>Temperature: kg/cm**2=%{x}<br>Electrical resistivity: ohm*m=%{y}<br>State=%{customdata[0]}<br>Representation=%{customdata[1]}<br>Method=%{customdata[2]}<br>Year=%{customdata[3]}<extra></extra>",
         "legendgroup": "25037",
         "marker": {
          "color": "#FECB52",
          "symbol": "circle"
         },
         "mode": "markers",
         "name": "25037",
         "showlegend": true,
         "type": "scattergl",
         "x": [
          1355.8,
          1400,
          1450,
          1500,
          1550,
          1599.8,
          1650.3,
          1700.5,
          1750.1,
          1800,
          1850.1
         ],
         "xaxis": "x",
         "y": [
          2.1141e-7,
          2.1562e-7,
          2.2035e-7,
          2.2511e-7,
          2.2982e-7,
          2.3446e-7,
          2.3915e-7,
          2.4384e-7,
          2.4871e-7,
          2.5341e-7,
          2.5813e-7
         ],
         "yaxis": "y"
        },
        {
         "customdata": [
          [
           [
            "C"
           ],
           "A",
           "Four point probe",
           2008
          ],
          [
           [
            "C"
           ],
           "A",
           "Four point probe",
           2008
          ],
          [
           [
            "C"
           ],
           "A",
           "Four point probe",
           2008
          ],
          [
           [
            "C"
           ],
           "A",
           "Four point probe",
           2008
          ],
          [
           [
            "C"
           ],
           "A",
           "Four point probe",
           2008
          ],
          [
           [
            "C"
           ],
           "A",
           "Four point probe",
           2008
          ],
          [
           [
            "C"
           ],
           "A",
           "Four point probe",
           2008
          ]
         ],
         "error_y": {
          "array": [
           2.15e-10,
           2.06e-10,
           2.07e-10,
           2.08e-10,
           2.07e-10,
           2.06e-10,
           2.07e-10
          ]
         },
         "hovertemplate": "Data Set ID=25322<br>Temperature: kg/cm**2=%{x}<br>Electrical resistivity: ohm*m=%{y}<br>State=%{customdata[0]}<br>Representation=%{customdata[1]}<br>Method=%{customdata[2]}<br>Year=%{customdata[3]}<extra></extra>",
         "legendgroup": "25322",
         "marker": {
          "color": "#636efa",
          "symbol": "circle"
         },
         "mode": "markers",
         "name": "25322",
         "showlegend": true,
         "type": "scattergl",
         "x": [
          294.15,
          294.15,
          294.15,
          294.15,
          294.15,
          294.15,
          294.15
         ],
         "xaxis": "x",
         "y": [
          2.15e-8,
          2.06e-8,
          2.07e-8,
          2.08e-8,
          2.07e-8,
          2.06e-8,
          2.07e-8
         ],
         "yaxis": "y"
        },
        {
         "customdata": [
          [
           [
            "C"
           ],
           "A",
           "Resistive pulse heating",
           2012
          ],
          [
           [
            "C"
           ],
           "A",
           "Resistive pulse heating",
           2012
          ],
          [
           [
            "C"
           ],
           "A",
           "Resistive pulse heating",
           2012
          ],
          [
           [
            "C"
           ],
           "A",
           "Resistive pulse heating",
           2012
          ],
          [
           [
            "C"
           ],
           "A",
           "Resistive pulse heating",
           2012
          ],
          [
           [
            "C"
           ],
           "A",
           "Resistive pulse heating",
           2012
          ],
          [
           [
            "C"
           ],
           "A",
           "Resistive pulse heating",
           2012
          ],
          [
           [
            "C"
           ],
           "A",
           "Resistive pulse heating",
           2012
          ],
          [
           [
            "C"
           ],
           "A",
           "Resistive pulse heating",
           2012
          ],
          [
           [
            "C"
           ],
           "A",
           "Resistive pulse heating",
           2012
          ],
          [
           [
            "C"
           ],
           "A",
           "Resistive pulse heating",
           2012
          ],
          [
           [
            "C"
           ],
           "A",
           "Resistive pulse heating",
           2012
          ],
          [
           [
            "C"
           ],
           "A",
           "Resistive pulse heating",
           2012
          ],
          [
           [
            "C"
           ],
           "A",
           "Resistive pulse heating",
           2012
          ],
          [
           [
            "C"
           ],
           "A",
           "Resistive pulse heating",
           2012
          ],
          [
           [
            "C"
           ],
           "A",
           "Resistive pulse heating",
           2012
          ],
          [
           [
            "C"
           ],
           "A",
           "Resistive pulse heating",
           2012
          ],
          [
           [
            "C"
           ],
           "A",
           "Resistive pulse heating",
           2012
          ]
         ],
         "error_y": {
          "array": [
           3.47784e-9,
           3.54234e-9,
           3.60684e-9,
           3.67091e-9,
           3.73541e-9,
           3.79991e-9,
           3.86441e-9,
           3.92891e-9,
           3.99341e-9,
           4.05748e-9,
           4.12198e-9,
           4.18648e-9,
           4.25098e-9,
           4.31548e-9,
           4.37998e-9,
           4.44405e-9,
           4.50855e-9,
           4.57735e-9
          ]
         },
         "hovertemplate": "Data Set ID=26459<br>Temperature: kg/cm**2=%{x}<br>Electrical resistivity: ohm*m=%{y}<br>State=%{customdata[0]}<br>Representation=%{customdata[1]}<br>Method=%{customdata[2]}<br>Year=%{customdata[3]}<extra></extra>",
         "legendgroup": "26459",
         "marker": {
          "color": "#EF553B",
          "symbol": "circle"
         },
         "mode": "markers",
         "name": "26459",
         "showlegend": true,
         "type": "scattergl",
         "x": [
          1100,
          1115,
          1130,
          1145,
          1160,
          1175,
          1190,
          1205,
          1220,
          1235,
          1250,
          1265,
          1280,
          1295,
          1310,
          1325,
          1340,
          1356
         ],
         "xaxis": "x",
         "y": [
          8.088e-8,
          8.238e-8,
          8.388e-8,
          8.537e-8,
          8.687e-8,
          8.837e-8,
          8.987e-8,
          9.137e-8,
          9.287e-8,
          9.436e-8,
          9.586e-8,
          9.736e-8,
          9.886e-8,
          1.0036e-7,
          1.0186e-7,
          1.0335e-7,
          1.0485e-7,
          1.0645e-7
         ],
         "yaxis": "y"
        },
        {
         "customdata": [
          [
           [
            "L"
           ],
           "A",
           "Resistive pulse heating",
           2012
          ],
          [
           [
            "L"
           ],
           "A",
           "Resistive pulse heating",
           2012
          ],
          [
           [
            "L"
           ],
           "A",
           "Resistive pulse heating",
           2012
          ],
          [
           [
            "L"
           ],
           "A",
           "Resistive pulse heating",
           2012
          ],
          [
           [
            "L"
           ],
           "A",
           "Resistive pulse heating",
           2012
          ],
          [
           [
            "L"
           ],
           "A",
           "Resistive pulse heating",
           2012
          ],
          [
           [
            "L"
           ],
           "A",
           "Resistive pulse heating",
           2012
          ],
          [
           [
            "L"
           ],
           "A",
           "Resistive pulse heating",
           2012
          ],
          [
           [
            "L"
           ],
           "A",
           "Resistive pulse heating",
           2012
          ],
          [
           [
            "L"
           ],
           "A",
           "Resistive pulse heating",
           2012
          ],
          [
           [
            "L"
           ],
           "A",
           "Resistive pulse heating",
           2012
          ],
          [
           [
            "L"
           ],
           "A",
           "Resistive pulse heating",
           2012
          ],
          [
           [
            "L"
           ],
           "A",
           "Resistive pulse heating",
           2012
          ],
          [
           [
            "L"
           ],
           "A",
           "Resistive pulse heating",
           2012
          ],
          [
           [
            "L"
           ],
           "A",
           "Resistive pulse heating",
           2012
          ],
          [
           [
            "L"
           ],
           "A",
           "Resistive pulse heating",
           2012
          ],
          [
           [
            "L"
           ],
           "A",
           "Resistive pulse heating",
           2012
          ]
         ],
         "error_y": {
          "array": [
           9.29617e-9,
           9.43076e-9,
           9.56535e-9,
           9.70037e-9,
           9.83496e-9,
           9.96955e-9,
           1.01041e-8,
           1.02392e-8,
           1.03737e-8,
           1.05083e-8,
           1.06429e-8,
           1.07775e-8,
           1.09125e-8,
           1.10471e-8,
           1.11817e-8,
           1.13163e-8,
           1.14647e-8
          ]
         },
         "hovertemplate": "Data Set ID=26460<br>Temperature: kg/cm**2=%{x}<br>Electrical resistivity: ohm*m=%{y}<br>State=%{customdata[0]}<br>Representation=%{customdata[1]}<br>Method=%{customdata[2]}<br>Year=%{customdata[3]}<extra></extra>",
         "legendgroup": "26460",
         "marker": {
          "color": "#00cc96",
          "symbol": "circle"
         },
         "mode": "markers",
         "name": "26460",
         "showlegend": true,
         "type": "scattergl",
         "x": [
          1356,
          1396,
          1436,
          1476,
          1516,
          1556,
          1596,
          1636,
          1676,
          1716,
          1756,
          1796,
          1836,
          1876,
          1916,
          1956,
          2000
         ],
         "xaxis": "x",
         "y": [
          2.1619e-7,
          2.1932e-7,
          2.2245e-7,
          2.2559e-7,
          2.2872e-7,
          2.3185e-7,
          2.3498e-7,
          2.3812e-7,
          2.4125e-7,
          2.4438e-7,
          2.4751e-7,
          2.5064e-7,
          2.5378e-7,
          2.5691e-7,
          2.6004e-7,
          2.6317e-7,
          2.6662e-7
         ],
         "yaxis": "y"
        }
       ],
       "layout": {
        "height": 600,
        "legend": {
         "title": {
          "text": "Data Set ID"
         },
         "tracegroupgap": 0
        },
        "template": {
         "data": {
          "bar": [
           {
            "error_x": {
             "color": "#2a3f5f"
            },
            "error_y": {
             "color": "#2a3f5f"
            },
            "marker": {
             "line": {
              "color": "#E5ECF6",
              "width": 0.5
             },
             "pattern": {
              "fillmode": "overlay",
              "size": 10,
              "solidity": 0.2
             }
            },
            "type": "bar"
           }
          ],
          "barpolar": [
           {
            "marker": {
             "line": {
              "color": "#E5ECF6",
              "width": 0.5
             },
             "pattern": {
              "fillmode": "overlay",
              "size": 10,
              "solidity": 0.2
             }
            },
            "type": "barpolar"
           }
          ],
          "carpet": [
           {
            "aaxis": {
             "endlinecolor": "#2a3f5f",
             "gridcolor": "white",
             "linecolor": "white",
             "minorgridcolor": "white",
             "startlinecolor": "#2a3f5f"
            },
            "baxis": {
             "endlinecolor": "#2a3f5f",
             "gridcolor": "white",
             "linecolor": "white",
             "minorgridcolor": "white",
             "startlinecolor": "#2a3f5f"
            },
            "type": "carpet"
           }
          ],
          "choropleth": [
           {
            "colorbar": {
             "outlinewidth": 0,
             "ticks": ""
            },
            "type": "choropleth"
           }
          ],
          "contour": [
           {
            "colorbar": {
             "outlinewidth": 0,
             "ticks": ""
            },
            "colorscale": [
             [
              0,
              "#0d0887"
             ],
             [
              0.1111111111111111,
              "#46039f"
             ],
             [
              0.2222222222222222,
              "#7201a8"
             ],
             [
              0.3333333333333333,
              "#9c179e"
             ],
             [
              0.4444444444444444,
              "#bd3786"
             ],
             [
              0.5555555555555556,
              "#d8576b"
             ],
             [
              0.6666666666666666,
              "#ed7953"
             ],
             [
              0.7777777777777778,
              "#fb9f3a"
             ],
             [
              0.8888888888888888,
              "#fdca26"
             ],
             [
              1,
              "#f0f921"
             ]
            ],
            "type": "contour"
           }
          ],
          "contourcarpet": [
           {
            "colorbar": {
             "outlinewidth": 0,
             "ticks": ""
            },
            "type": "contourcarpet"
           }
          ],
          "heatmap": [
           {
            "colorbar": {
             "outlinewidth": 0,
             "ticks": ""
            },
            "colorscale": [
             [
              0,
              "#0d0887"
             ],
             [
              0.1111111111111111,
              "#46039f"
             ],
             [
              0.2222222222222222,
              "#7201a8"
             ],
             [
              0.3333333333333333,
              "#9c179e"
             ],
             [
              0.4444444444444444,
              "#bd3786"
             ],
             [
              0.5555555555555556,
              "#d8576b"
             ],
             [
              0.6666666666666666,
              "#ed7953"
             ],
             [
              0.7777777777777778,
              "#fb9f3a"
             ],
             [
              0.8888888888888888,
              "#fdca26"
             ],
             [
              1,
              "#f0f921"
             ]
            ],
            "type": "heatmap"
           }
          ],
          "heatmapgl": [
           {
            "colorbar": {
             "outlinewidth": 0,
             "ticks": ""
            },
            "colorscale": [
             [
              0,
              "#0d0887"
             ],
             [
              0.1111111111111111,
              "#46039f"
             ],
             [
              0.2222222222222222,
              "#7201a8"
             ],
             [
              0.3333333333333333,
              "#9c179e"
             ],
             [
              0.4444444444444444,
              "#bd3786"
             ],
             [
              0.5555555555555556,
              "#d8576b"
             ],
             [
              0.6666666666666666,
              "#ed7953"
             ],
             [
              0.7777777777777778,
              "#fb9f3a"
             ],
             [
              0.8888888888888888,
              "#fdca26"
             ],
             [
              1,
              "#f0f921"
             ]
            ],
            "type": "heatmapgl"
           }
          ],
          "histogram": [
           {
            "marker": {
             "pattern": {
              "fillmode": "overlay",
              "size": 10,
              "solidity": 0.2
             }
            },
            "type": "histogram"
           }
          ],
          "histogram2d": [
           {
            "colorbar": {
             "outlinewidth": 0,
             "ticks": ""
            },
            "colorscale": [
             [
              0,
              "#0d0887"
             ],
             [
              0.1111111111111111,
              "#46039f"
             ],
             [
              0.2222222222222222,
              "#7201a8"
             ],
             [
              0.3333333333333333,
              "#9c179e"
             ],
             [
              0.4444444444444444,
              "#bd3786"
             ],
             [
              0.5555555555555556,
              "#d8576b"
             ],
             [
              0.6666666666666666,
              "#ed7953"
             ],
             [
              0.7777777777777778,
              "#fb9f3a"
             ],
             [
              0.8888888888888888,
              "#fdca26"
             ],
             [
              1,
              "#f0f921"
             ]
            ],
            "type": "histogram2d"
           }
          ],
          "histogram2dcontour": [
           {
            "colorbar": {
             "outlinewidth": 0,
             "ticks": ""
            },
            "colorscale": [
             [
              0,
              "#0d0887"
             ],
             [
              0.1111111111111111,
              "#46039f"
             ],
             [
              0.2222222222222222,
              "#7201a8"
             ],
             [
              0.3333333333333333,
              "#9c179e"
             ],
             [
              0.4444444444444444,
              "#bd3786"
             ],
             [
              0.5555555555555556,
              "#d8576b"
             ],
             [
              0.6666666666666666,
              "#ed7953"
             ],
             [
              0.7777777777777778,
              "#fb9f3a"
             ],
             [
              0.8888888888888888,
              "#fdca26"
             ],
             [
              1,
              "#f0f921"
             ]
            ],
            "type": "histogram2dcontour"
           }
          ],
          "mesh3d": [
           {
            "colorbar": {
             "outlinewidth": 0,
             "ticks": ""
            },
            "type": "mesh3d"
           }
          ],
          "parcoords": [
           {
            "line": {
             "colorbar": {
              "outlinewidth": 0,
              "ticks": ""
             }
            },
            "type": "parcoords"
           }
          ],
          "pie": [
           {
            "automargin": true,
            "type": "pie"
           }
          ],
          "scatter": [
           {
            "marker": {
             "colorbar": {
              "outlinewidth": 0,
              "ticks": ""
             }
            },
            "type": "scatter"
           }
          ],
          "scatter3d": [
           {
            "line": {
             "colorbar": {
              "outlinewidth": 0,
              "ticks": ""
             }
            },
            "marker": {
             "colorbar": {
              "outlinewidth": 0,
              "ticks": ""
             }
            },
            "type": "scatter3d"
           }
          ],
          "scattercarpet": [
           {
            "marker": {
             "colorbar": {
              "outlinewidth": 0,
              "ticks": ""
             }
            },
            "type": "scattercarpet"
           }
          ],
          "scattergeo": [
           {
            "marker": {
             "colorbar": {
              "outlinewidth": 0,
              "ticks": ""
             }
            },
            "type": "scattergeo"
           }
          ],
          "scattergl": [
           {
            "marker": {
             "colorbar": {
              "outlinewidth": 0,
              "ticks": ""
             }
            },
            "type": "scattergl"
           }
          ],
          "scattermapbox": [
           {
            "marker": {
             "colorbar": {
              "outlinewidth": 0,
              "ticks": ""
             }
            },
            "type": "scattermapbox"
           }
          ],
          "scatterpolar": [
           {
            "marker": {
             "colorbar": {
              "outlinewidth": 0,
              "ticks": ""
             }
            },
            "type": "scatterpolar"
           }
          ],
          "scatterpolargl": [
           {
            "marker": {
             "colorbar": {
              "outlinewidth": 0,
              "ticks": ""
             }
            },
            "type": "scatterpolargl"
           }
          ],
          "scatterternary": [
           {
            "marker": {
             "colorbar": {
              "outlinewidth": 0,
              "ticks": ""
             }
            },
            "type": "scatterternary"
           }
          ],
          "surface": [
           {
            "colorbar": {
             "outlinewidth": 0,
             "ticks": ""
            },
            "colorscale": [
             [
              0,
              "#0d0887"
             ],
             [
              0.1111111111111111,
              "#46039f"
             ],
             [
              0.2222222222222222,
              "#7201a8"
             ],
             [
              0.3333333333333333,
              "#9c179e"
             ],
             [
              0.4444444444444444,
              "#bd3786"
             ],
             [
              0.5555555555555556,
              "#d8576b"
             ],
             [
              0.6666666666666666,
              "#ed7953"
             ],
             [
              0.7777777777777778,
              "#fb9f3a"
             ],
             [
              0.8888888888888888,
              "#fdca26"
             ],
             [
              1,
              "#f0f921"
             ]
            ],
            "type": "surface"
           }
          ],
          "table": [
           {
            "cells": {
             "fill": {
              "color": "#EBF0F8"
             },
             "line": {
              "color": "white"
             }
            },
            "header": {
             "fill": {
              "color": "#C8D4E3"
             },
             "line": {
              "color": "white"
             }
            },
            "type": "table"
           }
          ]
         },
         "layout": {
          "annotationdefaults": {
           "arrowcolor": "#2a3f5f",
           "arrowhead": 0,
           "arrowwidth": 1
          },
          "autotypenumbers": "strict",
          "coloraxis": {
           "colorbar": {
            "outlinewidth": 0,
            "ticks": ""
           }
          },
          "colorscale": {
           "diverging": [
            [
             0,
             "#8e0152"
            ],
            [
             0.1,
             "#c51b7d"
            ],
            [
             0.2,
             "#de77ae"
            ],
            [
             0.3,
             "#f1b6da"
            ],
            [
             0.4,
             "#fde0ef"
            ],
            [
             0.5,
             "#f7f7f7"
            ],
            [
             0.6,
             "#e6f5d0"
            ],
            [
             0.7,
             "#b8e186"
            ],
            [
             0.8,
             "#7fbc41"
            ],
            [
             0.9,
             "#4d9221"
            ],
            [
             1,
             "#276419"
            ]
           ],
           "sequential": [
            [
             0,
             "#0d0887"
            ],
            [
             0.1111111111111111,
             "#46039f"
            ],
            [
             0.2222222222222222,
             "#7201a8"
            ],
            [
             0.3333333333333333,
             "#9c179e"
            ],
            [
             0.4444444444444444,
             "#bd3786"
            ],
            [
             0.5555555555555556,
             "#d8576b"
            ],
            [
             0.6666666666666666,
             "#ed7953"
            ],
            [
             0.7777777777777778,
             "#fb9f3a"
            ],
            [
             0.8888888888888888,
             "#fdca26"
            ],
            [
             1,
             "#f0f921"
            ]
           ],
           "sequentialminus": [
            [
             0,
             "#0d0887"
            ],
            [
             0.1111111111111111,
             "#46039f"
            ],
            [
             0.2222222222222222,
             "#7201a8"
            ],
            [
             0.3333333333333333,
             "#9c179e"
            ],
            [
             0.4444444444444444,
             "#bd3786"
            ],
            [
             0.5555555555555556,
             "#d8576b"
            ],
            [
             0.6666666666666666,
             "#ed7953"
            ],
            [
             0.7777777777777778,
             "#fb9f3a"
            ],
            [
             0.8888888888888888,
             "#fdca26"
            ],
            [
             1,
             "#f0f921"
            ]
           ]
          },
          "colorway": [
           "#636efa",
           "#EF553B",
           "#00cc96",
           "#ab63fa",
           "#FFA15A",
           "#19d3f3",
           "#FF6692",
           "#B6E880",
           "#FF97FF",
           "#FECB52"
          ],
          "font": {
           "color": "#2a3f5f"
          },
          "geo": {
           "bgcolor": "white",
           "lakecolor": "white",
           "landcolor": "#E5ECF6",
           "showlakes": true,
           "showland": true,
           "subunitcolor": "white"
          },
          "hoverlabel": {
           "align": "left"
          },
          "hovermode": "closest",
          "mapbox": {
           "style": "light"
          },
          "paper_bgcolor": "white",
          "plot_bgcolor": "#E5ECF6",
          "polar": {
           "angularaxis": {
            "gridcolor": "white",
            "linecolor": "white",
            "ticks": ""
           },
           "bgcolor": "#E5ECF6",
           "radialaxis": {
            "gridcolor": "white",
            "linecolor": "white",
            "ticks": ""
           }
          },
          "scene": {
           "xaxis": {
            "backgroundcolor": "#E5ECF6",
            "gridcolor": "white",
            "gridwidth": 2,
            "linecolor": "white",
            "showbackground": true,
            "ticks": "",
            "zerolinecolor": "white"
           },
           "yaxis": {
            "backgroundcolor": "#E5ECF6",
            "gridcolor": "white",
            "gridwidth": 2,
            "linecolor": "white",
            "showbackground": true,
            "ticks": "",
            "zerolinecolor": "white"
           },
           "zaxis": {
            "backgroundcolor": "#E5ECF6",
            "gridcolor": "white",
            "gridwidth": 2,
            "linecolor": "white",
            "showbackground": true,
            "ticks": "",
            "zerolinecolor": "white"
           }
          },
          "shapedefaults": {
           "line": {
            "color": "#2a3f5f"
           }
          },
          "ternary": {
           "aaxis": {
            "gridcolor": "white",
            "linecolor": "white",
            "ticks": ""
           },
           "baxis": {
            "gridcolor": "white",
            "linecolor": "white",
            "ticks": ""
           },
           "bgcolor": "#E5ECF6",
           "caxis": {
            "gridcolor": "white",
            "linecolor": "white",
            "ticks": ""
           }
          },
          "title": {
           "x": 0.05
          },
          "xaxis": {
           "automargin": true,
           "gridcolor": "white",
           "linecolor": "white",
           "ticks": "",
           "title": {
            "standoff": 15
           },
           "zerolinecolor": "white",
           "zerolinewidth": 2
          },
          "yaxis": {
           "automargin": true,
           "gridcolor": "white",
           "linecolor": "white",
           "ticks": "",
           "title": {
            "standoff": 15
           },
           "zerolinecolor": "white",
           "zerolinewidth": 2
          }
         }
        },
        "title": {
         "text": "['Cu']"
        },
        "xaxis": {
         "anchor": "y",
         "domain": [
          0,
          1
         ],
         "title": {
          "text": "Temperature: kg/cm**2"
         }
        },
        "yaxis": {
         "anchor": "x",
         "domain": [
          0,
          1
         ],
         "title": {
          "text": "Electrical resistivity: ohm*m"
         }
        }
       }
      }
     },
     "metadata": {},
     "output_type": "display_data"
    },
    {
     "data": {
      "text/html": [
       "<div>\n",
       "<style scoped>\n",
       "    .dataframe tbody tr th:only-of-type {\n",
       "        vertical-align: middle;\n",
       "    }\n",
       "\n",
       "    .dataframe tbody tr th {\n",
       "        vertical-align: top;\n",
       "    }\n",
       "\n",
       "    .dataframe thead th {\n",
       "        text-align: right;\n",
       "    }\n",
       "</style>\n",
       "<table border=\"1\" class=\"dataframe\">\n",
       "  <thead>\n",
       "    <tr style=\"text-align: right;\">\n",
       "      <th></th>\n",
       "      <th>Temperature: kg/cm**2</th>\n",
       "      <th>Electrical resistivity: ohm*m</th>\n",
       "      <th>Uncertainty</th>\n",
       "      <th>Data Set ID</th>\n",
       "      <th>State</th>\n",
       "      <th>Representation</th>\n",
       "      <th>Method</th>\n",
       "      <th>Year</th>\n",
       "    </tr>\n",
       "  </thead>\n",
       "  <tbody>\n",
       "    <tr>\n",
       "      <th>18</th>\n",
       "      <td>96.35</td>\n",
       "      <td>3.750000e-09</td>\n",
       "      <td>NaN</td>\n",
       "      <td>451</td>\n",
       "      <td>[C]</td>\n",
       "      <td>A</td>\n",
       "      <td>DC potentiometric method</td>\n",
       "      <td>1908</td>\n",
       "    </tr>\n",
       "    <tr>\n",
       "      <th>19</th>\n",
       "      <td>97.45</td>\n",
       "      <td>3.750000e-09</td>\n",
       "      <td>NaN</td>\n",
       "      <td>451</td>\n",
       "      <td>[C]</td>\n",
       "      <td>A</td>\n",
       "      <td>DC potentiometric method</td>\n",
       "      <td>1908</td>\n",
       "    </tr>\n",
       "    <tr>\n",
       "      <th>20</th>\n",
       "      <td>99.25</td>\n",
       "      <td>3.840000e-09</td>\n",
       "      <td>NaN</td>\n",
       "      <td>451</td>\n",
       "      <td>[C]</td>\n",
       "      <td>A</td>\n",
       "      <td>DC potentiometric method</td>\n",
       "      <td>1908</td>\n",
       "    </tr>\n",
       "    <tr>\n",
       "      <th>21</th>\n",
       "      <td>100.15</td>\n",
       "      <td>3.940000e-09</td>\n",
       "      <td>NaN</td>\n",
       "      <td>451</td>\n",
       "      <td>[C]</td>\n",
       "      <td>A</td>\n",
       "      <td>DC potentiometric method</td>\n",
       "      <td>1908</td>\n",
       "    </tr>\n",
       "    <tr>\n",
       "      <th>22</th>\n",
       "      <td>100.45</td>\n",
       "      <td>3.980000e-09</td>\n",
       "      <td>NaN</td>\n",
       "      <td>451</td>\n",
       "      <td>[C]</td>\n",
       "      <td>A</td>\n",
       "      <td>DC potentiometric method</td>\n",
       "      <td>1908</td>\n",
       "    </tr>\n",
       "    <tr>\n",
       "      <th>...</th>\n",
       "      <td>...</td>\n",
       "      <td>...</td>\n",
       "      <td>...</td>\n",
       "      <td>...</td>\n",
       "      <td>...</td>\n",
       "      <td>...</td>\n",
       "      <td>...</td>\n",
       "      <td>...</td>\n",
       "    </tr>\n",
       "    <tr>\n",
       "      <th>1197</th>\n",
       "      <td>1836.00</td>\n",
       "      <td>2.537800e-07</td>\n",
       "      <td>1.091250e-08</td>\n",
       "      <td>26460</td>\n",
       "      <td>[L]</td>\n",
       "      <td>A</td>\n",
       "      <td>Resistive pulse heating</td>\n",
       "      <td>2012</td>\n",
       "    </tr>\n",
       "    <tr>\n",
       "      <th>1198</th>\n",
       "      <td>1876.00</td>\n",
       "      <td>2.569100e-07</td>\n",
       "      <td>1.104710e-08</td>\n",
       "      <td>26460</td>\n",
       "      <td>[L]</td>\n",
       "      <td>A</td>\n",
       "      <td>Resistive pulse heating</td>\n",
       "      <td>2012</td>\n",
       "    </tr>\n",
       "    <tr>\n",
       "      <th>1199</th>\n",
       "      <td>1916.00</td>\n",
       "      <td>2.600400e-07</td>\n",
       "      <td>1.118170e-08</td>\n",
       "      <td>26460</td>\n",
       "      <td>[L]</td>\n",
       "      <td>A</td>\n",
       "      <td>Resistive pulse heating</td>\n",
       "      <td>2012</td>\n",
       "    </tr>\n",
       "    <tr>\n",
       "      <th>1200</th>\n",
       "      <td>1956.00</td>\n",
       "      <td>2.631700e-07</td>\n",
       "      <td>1.131630e-08</td>\n",
       "      <td>26460</td>\n",
       "      <td>[L]</td>\n",
       "      <td>A</td>\n",
       "      <td>Resistive pulse heating</td>\n",
       "      <td>2012</td>\n",
       "    </tr>\n",
       "    <tr>\n",
       "      <th>1201</th>\n",
       "      <td>2000.00</td>\n",
       "      <td>2.666200e-07</td>\n",
       "      <td>1.146470e-08</td>\n",
       "      <td>26460</td>\n",
       "      <td>[L]</td>\n",
       "      <td>A</td>\n",
       "      <td>Resistive pulse heating</td>\n",
       "      <td>2012</td>\n",
       "    </tr>\n",
       "  </tbody>\n",
       "</table>\n",
       "<p>1137 rows × 8 columns</p>\n",
       "</div>"
      ],
      "text/plain": [
       "      Temperature: kg/cm**2  Electrical resistivity: ohm*m   Uncertainty  \\\n",
       "18                    96.35                   3.750000e-09           NaN   \n",
       "19                    97.45                   3.750000e-09           NaN   \n",
       "20                    99.25                   3.840000e-09           NaN   \n",
       "21                   100.15                   3.940000e-09           NaN   \n",
       "22                   100.45                   3.980000e-09           NaN   \n",
       "...                     ...                            ...           ...   \n",
       "1197                1836.00                   2.537800e-07  1.091250e-08   \n",
       "1198                1876.00                   2.569100e-07  1.104710e-08   \n",
       "1199                1916.00                   2.600400e-07  1.118170e-08   \n",
       "1200                1956.00                   2.631700e-07  1.131630e-08   \n",
       "1201                2000.00                   2.666200e-07  1.146470e-08   \n",
       "\n",
       "     Data Set ID State Representation                    Method  Year  \n",
       "18           451   [C]              A  DC potentiometric method  1908  \n",
       "19           451   [C]              A  DC potentiometric method  1908  \n",
       "20           451   [C]              A  DC potentiometric method  1908  \n",
       "21           451   [C]              A  DC potentiometric method  1908  \n",
       "22           451   [C]              A  DC potentiometric method  1908  \n",
       "...          ...   ...            ...                       ...   ...  \n",
       "1197       26460   [L]              A   Resistive pulse heating  2012  \n",
       "1198       26460   [L]              A   Resistive pulse heating  2012  \n",
       "1199       26460   [L]              A   Resistive pulse heating  2012  \n",
       "1200       26460   [L]              A   Resistive pulse heating  2012  \n",
       "1201       26460   [L]              A   Resistive pulse heating  2012  \n",
       "\n",
       "[1137 rows x 8 columns]"
      ]
     },
     "execution_count": 7,
     "metadata": {},
     "output_type": "execute_result"
    }
   ],
   "source": [
    "import plotly.express as px\n",
    "import math\n",
    "\n",
    "x = []\n",
    "y = []\n",
    "\n",
    "n = 0\n",
    "for a, b, c in zip(df['Representation'], df['State'], df[f'{y_lab}: {y_un}']):\n",
    "    if (a != rep) and (rep != False):\n",
    "        df = df.drop(df.index[n], axis = 0)\n",
    "        n -= 1\n",
    "    elif (b != [state]) and (state != False):\n",
    "        df = df.drop(df.index[n], axis = 0)\n",
    "        n -= 1\n",
    "    elif math.isnan(c):\n",
    "        df = df.drop(df.index[n], axis = 0)\n",
    "        n -= 1\n",
    "    n += 1\n",
    "\n",
    "if show_uncertainty:\n",
    "    fig = px.scatter(df, x=f'{x_lab}: {x_un}',y=f'{y_lab}: {y_un}', title=str(compound), color='Data Set ID', hover_data=[df.State, df.Representation, df.Method, df.Year], error_y='Uncertainty', height=600)\n",
    "else:\n",
    "    fig = px.scatter(df, x=f'{x_lab}: {x_un}',y=f'{y_lab}: {y_un}', title=str(compound), color='Data Set ID', hover_data=[df.State, df.Representation, df.Method, df.Year], height=600)\n",
    "\n",
    "fig.show()\n",
    "\n",
    "# pd.set_option('display.max_rows', None)\n",
    "df"
   ]
  }
 ],
 "metadata": {
  "interpreter": {
   "hash": "0dd487d8b67d21e4b7135c6574fdc74d729bc193aa7ee7c5c4cc47f0ab29d439"
  },
  "kernelspec": {
   "display_name": "Python 3.9.6 64-bit",
   "name": "python3"
  },
  "language_info": {
   "codemirror_mode": {
    "name": "ipython",
    "version": 3
   },
   "file_extension": ".py",
   "mimetype": "text/x-python",
   "name": "python",
   "nbconvert_exporter": "python",
   "pygments_lexer": "ipython3",
   "version": "3.9.6"
  },
  "orig_nbformat": 4
 },
 "nbformat": 4,
 "nbformat_minor": 2
}
