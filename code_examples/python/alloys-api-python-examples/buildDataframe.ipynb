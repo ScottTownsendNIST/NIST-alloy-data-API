{
 "cells": [
  {
   "cell_type": "code",
   "execution_count": 9,
   "id": "4b751b12",
   "metadata": {},
   "outputs": [
    {
     "data": {
      "text/html": [
       "<div>\n",
       "<style scoped>\n",
       "    .dataframe tbody tr th:only-of-type {\n",
       "        vertical-align: middle;\n",
       "    }\n",
       "\n",
       "    .dataframe tbody tr th {\n",
       "        vertical-align: top;\n",
       "    }\n",
       "\n",
       "    .dataframe thead th {\n",
       "        text-align: right;\n",
       "    }\n",
       "</style>\n",
       "<table border=\"1\" class=\"dataframe\">\n",
       "  <thead>\n",
       "    <tr style=\"text-align: right;\">\n",
       "      <th></th>\n",
       "      <th>name</th>\n",
       "      <th>goodness</th>\n",
       "    </tr>\n",
       "  </thead>\n",
       "  <tbody>\n",
       "    <tr>\n",
       "      <th>0</th>\n",
       "      <td>apple</td>\n",
       "      <td>5</td>\n",
       "    </tr>\n",
       "    <tr>\n",
       "      <th>1</th>\n",
       "      <td>pear</td>\n",
       "      <td>4</td>\n",
       "    </tr>\n",
       "    <tr>\n",
       "      <th>2</th>\n",
       "      <td>tomato</td>\n",
       "      <td>6</td>\n",
       "    </tr>\n",
       "  </tbody>\n",
       "</table>\n",
       "</div>"
      ],
      "text/plain": [
       "     name  goodness\n",
       "0   apple         5\n",
       "1    pear         4\n",
       "2  tomato         6"
      ]
     },
     "execution_count": 9,
     "metadata": {},
     "output_type": "execute_result"
    }
   ],
   "source": [
    "import pandas\n",
    "\n",
    "list_of_things = []\n",
    "for fruit in ['apple','pear','tomato']:\n",
    "    list_of_things.append({\n",
    "        'name': fruit,\n",
    "        'goodness': len(fruit)\n",
    "    })\n",
    "listofthings2 = list_of_things\n",
    "df = pandas.DataFrame(list_of_things)\n",
    "df2 = pandas.DataFrame(listofthings2)\n",
    "df.append(df2)\n",
    "\n",
    "df\n"
   ]
  },
  {
   "cell_type": "code",
   "execution_count": 2,
   "id": "9745ec64",
   "metadata": {},
   "outputs": [
    {
     "data": {
      "text/html": [
       "<div>\n",
       "<style scoped>\n",
       "    .dataframe tbody tr th:only-of-type {\n",
       "        vertical-align: middle;\n",
       "    }\n",
       "\n",
       "    .dataframe tbody tr th {\n",
       "        vertical-align: top;\n",
       "    }\n",
       "\n",
       "    .dataframe thead th {\n",
       "        text-align: right;\n",
       "    }\n",
       "</style>\n",
       "<table border=\"1\" class=\"dataframe\">\n",
       "  <thead>\n",
       "    <tr style=\"text-align: right;\">\n",
       "      <th></th>\n",
       "      <th>fruity</th>\n",
       "      <th>veggish</th>\n",
       "    </tr>\n",
       "  </thead>\n",
       "  <tbody>\n",
       "    <tr>\n",
       "      <th>0</th>\n",
       "      <td>apple</td>\n",
       "      <td>asparagus</td>\n",
       "    </tr>\n",
       "    <tr>\n",
       "      <th>1</th>\n",
       "      <td>pear</td>\n",
       "      <td>asparagus</td>\n",
       "    </tr>\n",
       "    <tr>\n",
       "      <th>2</th>\n",
       "      <td>tomato</td>\n",
       "      <td>asparagus</td>\n",
       "    </tr>\n",
       "  </tbody>\n",
       "</table>\n",
       "</div>"
      ],
      "text/plain": [
       "   fruity    veggish\n",
       "0   apple  asparagus\n",
       "1    pear  asparagus\n",
       "2  tomato  asparagus"
      ]
     },
     "execution_count": 2,
     "metadata": {},
     "output_type": "execute_result"
    }
   ],
   "source": [
    "import pandas\n",
    "import itertools\n",
    "\n",
    "\n",
    "list_of_things = []\n",
    "\n",
    "fruit = ['apple','pear','tomato']\n",
    "veggies = ['asparagus']\n",
    "\n",
    "for i,j in itertools.zip_longest(fruit,veggies):\n",
    "    if j == None:\n",
    "        j = veggies[0]\n",
    "    list_of_things.append({\n",
    "        'fruity': i,\n",
    "        'veggish': j\n",
    "    })\n",
    "df = pandas.DataFrame(list_of_things)\n",
    "df"
   ]
  },
  {
   "cell_type": "code",
   "execution_count": 7,
   "id": "95a8498c",
   "metadata": {},
   "outputs": [
    {
     "name": "stdout",
     "output_type": "stream",
     "text": [
      "3\n"
     ]
    }
   ],
   "source": [
    "my_dict = {'This': 1, \"Is\": 2, \"A\": 3}\n",
    "\n",
    "my_dict['Test'] = 4\n",
    "\n",
    "print(my_dict['A'])"
   ]
  },
  {
   "cell_type": "code",
   "execution_count": 17,
   "id": "79b13dff",
   "metadata": {},
   "outputs": [
    {
     "name": "stdout",
     "output_type": "stream",
     "text": [
      "Counter({1: 1, 2: 1, 3: 1, 4: 1, 5: 1})\n",
      "range(0, 5)\n"
     ]
    }
   ],
   "source": [
    "from collections import Counter\n",
    "lis = [1,2,3,4,5]\n",
    "liz = [1,2,3,4]\n",
    "print(Counter(lis))\n",
    "\n",
    "\n",
    "if Counter(list(set(lis))) == Counter(liz):\n",
    "    print('You did it!')\n",
    "\n",
    "print(range(len(liz)+1))"
   ]
  },
  {
   "cell_type": "code",
   "execution_count": 18,
   "id": "f43a37d3",
   "metadata": {},
   "outputs": [
    {
     "name": "stdout",
     "output_type": "stream",
     "text": [
      "1\n",
      "2\n",
      "3\n",
      "4\n",
      "None\n"
     ]
    }
   ],
   "source": [
    "import itertools\n",
    "\n",
    "for i,j in itertools.zip_longest(liz,lis):\n",
    "    print(i)"
   ]
  },
  {
   "cell_type": "code",
   "execution_count": 10,
   "id": "6137f262",
   "metadata": {},
   "outputs": [
    {
     "name": "stdout",
     "output_type": "stream",
     "text": [
      "99.0\n"
     ]
    }
   ],
   "source": [
    "tes = 'origin: commercial source,99 weight % (total)'\n",
    "\n",
    "pure = \"\"\n",
    "for i in tes:\n",
    "    if i.isdigit() or i == \".\":\n",
    "        pure = pure + str(i)\n",
    "\n",
    "print(float(pure))"
   ]
  },
  {
   "cell_type": "code",
   "execution_count": 13,
   "id": "79a4b67f",
   "metadata": {},
   "outputs": [
    {
     "name": "stdout",
     "output_type": "stream",
     "text": [
      "['double', 308.15, 0.0, 'K', 'temperature']\n"
     ]
    }
   ],
   "source": [
    "import ConversionLibrary as CL\n",
    "\n",
    "test_tuple = (\"\",\"\",\"\",\"35,0\",\"\",\"T\",\"C\")\n",
    "\n",
    "\n",
    "print(CL.Temperature_CtoK(test_tuple))"
   ]
  },
  {
   "cell_type": "code",
   "execution_count": 2,
   "id": "73899ae8",
   "metadata": {},
   "outputs": [
    {
     "name": "stdout",
     "output_type": "stream",
     "text": [
      ":)\n"
     ]
    },
    {
     "data": {
      "text/plain": [
       "['double', 300, 0, 'K', 'T']"
      ]
     },
     "execution_count": 2,
     "metadata": {},
     "output_type": "execute_result"
    }
   ],
   "source": [
    "from conversion_bridge import conversion_bridge\n",
    "\n",
    "val = 300\n",
    "unc = 0\n",
    "var = 'T'\n",
    "in_unit = 'K'\n",
    "out_unit = 'K'\n",
    "\n",
    "conversion_bridge(val, unc, var, in_unit, out_unit)"
   ]
  },
  {
   "cell_type": "code",
   "execution_count": 11,
   "id": "7f50c12a",
   "metadata": {},
   "outputs": [
    {
     "name": "stdout",
     "output_type": "stream",
     "text": [
      "['bool', 'False', 0.0, 'ERROR: Direct Representation of Relational Value', 'hw']\n",
      "ERROR: Direct Representation of Relational Value\n"
     ]
    }
   ],
   "source": [
    "from validation_bridge import validation_bridge\n",
    "\n",
    "val = 5000\n",
    "var = 'HW'\n",
    "in_unit = 'kg/m**3'\n",
    "rep = 'A'\n",
    "\n",
    "tester = validation_bridge(val, var, in_unit, rep)\n",
    "print(tester)\n",
    "print(tester[3].replace('value: ', ''))"
   ]
  },
  {
   "cell_type": "code",
   "execution_count": 6,
   "id": "c0900f8f",
   "metadata": {},
   "outputs": [
    {
     "name": "stdout",
     "output_type": "stream",
     "text": [
      "{'1234': {'5': 'Hello World', 7: 'work'}}\n"
     ]
    }
   ],
   "source": [
    "valid = {}\n",
    "dataID = '1234'\n",
    "value = '5'\n",
    "value2 = 7\n",
    "message = 'Hello World'\n",
    "message2 = 'work'\n",
    "\n",
    "valid[dataID] = {}\n",
    "valid[dataID][value] = message\n",
    "valid[dataID][value2] = message2\n",
    "\n",
    "print(valid)"
   ]
  },
  {
   "cell_type": "code",
   "execution_count": 1,
   "id": "37faf5f5",
   "metadata": {},
   "outputs": [],
   "source": [
    "from run_validation import run_validation\n",
    "import json\n",
    "\n",
    "with open(f'ER_errors.json', 'w') as fp:\n",
    "    json.dump(run_validation('ER'), fp)"
   ]
  }
 ],
 "metadata": {
  "interpreter": {
   "hash": "0dd487d8b67d21e4b7135c6574fdc74d729bc193aa7ee7c5c4cc47f0ab29d439"
  },
  "kernelspec": {
   "display_name": "Python 3.9.6 64-bit",
   "name": "python3"
  },
  "language_info": {
   "codemirror_mode": {
    "name": "ipython",
    "version": 3
   },
   "file_extension": ".py",
   "mimetype": "text/x-python",
   "name": "python",
   "nbconvert_exporter": "python",
   "pygments_lexer": "ipython3",
   "version": "3.9.6"
  }
 },
 "nbformat": 4,
 "nbformat_minor": 5
}
