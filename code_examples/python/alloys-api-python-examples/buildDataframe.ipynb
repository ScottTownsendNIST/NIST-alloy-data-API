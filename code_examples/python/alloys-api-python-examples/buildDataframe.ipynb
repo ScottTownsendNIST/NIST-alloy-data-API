{
 "cells": [
  {
   "cell_type": "code",
   "execution_count": 2,
   "source": [
    "import pandas\r\n",
    "\r\n",
    "list_of_things = []\r\n",
    "for fruit in ['apple','pear','tomato']:\r\n",
    "    list_of_things.append({\r\n",
    "        'name': fruit,\r\n",
    "        'goodness': len(fruit)\r\n",
    "    })\r\n",
    "df = pandas.DataFrame(list_of_things)\r\n",
    "df"
   ],
   "outputs": [
    {
     "output_type": "execute_result",
     "data": {
      "text/plain": [
       "     name  goodness\n",
       "0   apple         5\n",
       "1    pear         4\n",
       "2  tomato         6"
      ],
      "text/html": [
       "<div>\n",
       "<style scoped>\n",
       "    .dataframe tbody tr th:only-of-type {\n",
       "        vertical-align: middle;\n",
       "    }\n",
       "\n",
       "    .dataframe tbody tr th {\n",
       "        vertical-align: top;\n",
       "    }\n",
       "\n",
       "    .dataframe thead th {\n",
       "        text-align: right;\n",
       "    }\n",
       "</style>\n",
       "<table border=\"1\" class=\"dataframe\">\n",
       "  <thead>\n",
       "    <tr style=\"text-align: right;\">\n",
       "      <th></th>\n",
       "      <th>name</th>\n",
       "      <th>goodness</th>\n",
       "    </tr>\n",
       "  </thead>\n",
       "  <tbody>\n",
       "    <tr>\n",
       "      <th>0</th>\n",
       "      <td>apple</td>\n",
       "      <td>5</td>\n",
       "    </tr>\n",
       "    <tr>\n",
       "      <th>1</th>\n",
       "      <td>pear</td>\n",
       "      <td>4</td>\n",
       "    </tr>\n",
       "    <tr>\n",
       "      <th>2</th>\n",
       "      <td>tomato</td>\n",
       "      <td>6</td>\n",
       "    </tr>\n",
       "  </tbody>\n",
       "</table>\n",
       "</div>"
      ]
     },
     "metadata": {},
     "execution_count": 2
    }
   ],
   "metadata": {}
  },
  {
   "cell_type": "code",
   "execution_count": 2,
   "source": [
    "import pandas\r\n",
    "import itertools\r\n",
    "\r\n",
    "\r\n",
    "list_of_things = []\r\n",
    "\r\n",
    "fruit = ['apple','pear','tomato']\r\n",
    "veggies = ['asparagus']\r\n",
    "\r\n",
    "for i,j in itertools.zip_longest(fruit,veggies):\r\n",
    "    if j == None:\r\n",
    "        j = veggies[0]\r\n",
    "    list_of_things.append({\r\n",
    "        'fruity': i,\r\n",
    "        'veggish': j\r\n",
    "    })\r\n",
    "df = pandas.DataFrame(list_of_things)\r\n",
    "df"
   ],
   "outputs": [
    {
     "output_type": "execute_result",
     "data": {
      "text/plain": [
       "   fruity    veggish\n",
       "0   apple  asparagus\n",
       "1    pear  asparagus\n",
       "2  tomato  asparagus"
      ],
      "text/html": [
       "<div>\n",
       "<style scoped>\n",
       "    .dataframe tbody tr th:only-of-type {\n",
       "        vertical-align: middle;\n",
       "    }\n",
       "\n",
       "    .dataframe tbody tr th {\n",
       "        vertical-align: top;\n",
       "    }\n",
       "\n",
       "    .dataframe thead th {\n",
       "        text-align: right;\n",
       "    }\n",
       "</style>\n",
       "<table border=\"1\" class=\"dataframe\">\n",
       "  <thead>\n",
       "    <tr style=\"text-align: right;\">\n",
       "      <th></th>\n",
       "      <th>fruity</th>\n",
       "      <th>veggish</th>\n",
       "    </tr>\n",
       "  </thead>\n",
       "  <tbody>\n",
       "    <tr>\n",
       "      <th>0</th>\n",
       "      <td>apple</td>\n",
       "      <td>asparagus</td>\n",
       "    </tr>\n",
       "    <tr>\n",
       "      <th>1</th>\n",
       "      <td>pear</td>\n",
       "      <td>asparagus</td>\n",
       "    </tr>\n",
       "    <tr>\n",
       "      <th>2</th>\n",
       "      <td>tomato</td>\n",
       "      <td>asparagus</td>\n",
       "    </tr>\n",
       "  </tbody>\n",
       "</table>\n",
       "</div>"
      ]
     },
     "metadata": {},
     "execution_count": 2
    }
   ],
   "metadata": {}
  },
  {
   "cell_type": "code",
   "execution_count": 7,
   "source": [
    "my_dict = {'This': 1, \"Is\": 2, \"A\": 3}\r\n",
    "\r\n",
    "my_dict['Test'] = 4\r\n",
    "\r\n",
    "print(my_dict['A'])"
   ],
   "outputs": [
    {
     "output_type": "stream",
     "name": "stdout",
     "text": [
      "3\n"
     ]
    }
   ],
   "metadata": {}
  },
  {
   "cell_type": "code",
   "execution_count": 17,
   "source": [
    "from collections import Counter\r\n",
    "lis = [1,2,3,4,5]\r\n",
    "liz = [1,2,3,4]\r\n",
    "print(Counter(lis))\r\n",
    "\r\n",
    "\r\n",
    "if Counter(list(set(lis))) == Counter(liz):\r\n",
    "    print('You did it!')\r\n",
    "\r\n",
    "print(range(len(liz)+1))"
   ],
   "outputs": [
    {
     "output_type": "stream",
     "name": "stdout",
     "text": [
      "Counter({1: 1, 2: 1, 3: 1, 4: 1, 5: 1})\n",
      "range(0, 5)\n"
     ]
    }
   ],
   "metadata": {}
  },
  {
   "cell_type": "code",
   "execution_count": 18,
   "source": [
    "import itertools\r\n",
    "\r\n",
    "for i,j in itertools.zip_longest(liz,lis):\r\n",
    "    print(i)"
   ],
   "outputs": [
    {
     "output_type": "stream",
     "name": "stdout",
     "text": [
      "1\n",
      "2\n",
      "3\n",
      "4\n",
      "None\n"
     ]
    }
   ],
   "metadata": {}
  },
  {
   "cell_type": "code",
   "execution_count": 10,
   "source": [
    "tes = 'origin: commercial source,99 weight % (total)'\r\n",
    "\r\n",
    "pure = \"\"\r\n",
    "for i in tes:\r\n",
    "    if i.isdigit() or i == \".\":\r\n",
    "        pure = pure + str(i)\r\n",
    "\r\n",
    "print(float(pure))"
   ],
   "outputs": [
    {
     "output_type": "stream",
     "name": "stdout",
     "text": [
      "99.0\n"
     ]
    }
   ],
   "metadata": {}
  },
  {
   "cell_type": "code",
   "execution_count": 13,
   "source": [
    "import ConversionLibrary as CL\r\n",
    "\r\n",
    "test_tuple = (\"\",\"\",\"\",\"35,0\",\"\",\"T\",\"C\")\r\n",
    "\r\n",
    "\r\n",
    "print(CL.Temperature_CtoK(test_tuple))"
   ],
   "outputs": [
    {
     "output_type": "stream",
     "name": "stdout",
     "text": [
      "['double', 308.15, 0.0, 'K', 'temperature']\n"
     ]
    }
   ],
   "metadata": {}
  },
  {
   "cell_type": "code",
   "execution_count": 2,
   "source": [
    "from conversion_bridge import conversion_bridge\r\n",
    "\r\n",
    "val = 300\r\n",
    "unc = 0\r\n",
    "var = 'T'\r\n",
    "in_unit = 'K'\r\n",
    "out_unit = 'K'\r\n",
    "\r\n",
    "conversion_bridge(val, unc, var, in_unit, out_unit)"
   ],
   "outputs": [
    {
     "output_type": "stream",
     "name": "stdout",
     "text": [
      ":)\n"
     ]
    },
    {
     "output_type": "execute_result",
     "data": {
      "text/plain": [
       "['double', 300, 0, 'K', 'T']"
      ]
     },
     "metadata": {},
     "execution_count": 2
    }
   ],
   "metadata": {}
  },
  {
   "cell_type": "code",
   "execution_count": 11,
   "source": [
    "from validation_bridge import validation_bridge\r\n",
    "\r\n",
    "val = 5000\r\n",
    "var = 'HW'\r\n",
    "in_unit = 'kg/m**3'\r\n",
    "rep = 'A'\r\n",
    "\r\n",
    "tester = validation_bridge(val, var, in_unit, rep)\r\n",
    "print(tester)\r\n",
    "print(tester[3].replace('value: ', ''))"
   ],
   "outputs": [
    {
     "output_type": "stream",
     "name": "stdout",
     "text": [
      "['bool', 'False', 0.0, 'ERROR: Direct Representation of Relational Value', 'hw']\n",
      "ERROR: Direct Representation of Relational Value\n"
     ]
    }
   ],
   "metadata": {}
  }
 ],
 "metadata": {
  "kernelspec": {
   "name": "python3",
   "display_name": "Python 3.9.6 64-bit"
  },
  "language_info": {
   "codemirror_mode": {
    "name": "ipython",
    "version": 3
   },
   "file_extension": ".py",
   "mimetype": "text/x-python",
   "name": "python",
   "nbconvert_exporter": "python",
   "pygments_lexer": "ipython3",
   "version": "3.9.6"
  },
  "interpreter": {
   "hash": "0dd487d8b67d21e4b7135c6574fdc74d729bc193aa7ee7c5c4cc47f0ab29d439"
  }
 },
 "nbformat": 4,
 "nbformat_minor": 5
}