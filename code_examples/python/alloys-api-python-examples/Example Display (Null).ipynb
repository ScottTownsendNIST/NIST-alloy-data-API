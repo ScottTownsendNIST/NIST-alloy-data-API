{
 "cells": [
  {
   "cell_type": "code",
   "execution_count": 1,
   "source": [
    "# pip install ipympl"
   ],
   "outputs": [],
   "metadata": {}
  },
  {
   "cell_type": "code",
   "execution_count": 1,
   "source": [
    "#Initial Example Code is Pasted Below\r\n",
    "\r\n",
    "import requests\r\n",
    "\r\n",
    "\r\n",
    "\r\n",
    "# Define the headers to send to the API URI\r\n",
    "headers = {\r\n",
    "    'content-type':'application/x-www-form-urlencoded;',\r\n",
    "    'Access-Control-Allow-Origin':'*',\r\n",
    "#    'User-Agent': 'Mozilla/5.0 (X11; Ubuntu; Linux x86_64; rv:27.0) Gecko/20100101 Firefox/27.\r\n",
    "}\r\n",
    "\r\n",
    "#Compound can be a list of strings, be sure to use empirical formula i.e. \"Au\", not \"Gold\"\r\n",
    "compound = [\"Cu\", \"Sn\"]\r\n",
    "#x-axis variable, use code for in decodre table, not name of the variable i.e. Temperature: \"T\"\r\n",
    "var = \"T\"\r\n",
    "#property attempting to measure, use code in decoder table, not name i.e. Electrical Resisitivity: \"ER\"\r\n",
    "prop = \"ER\"\r\n",
    "#representation of data, use code in decoder table, i.e. Direct: \"A\", if no representation wanted, use bool False\r\n",
    "rep = False\r\n",
    "#state of matter for data, use code in decoder table, i.e. Crystal: \"C\", if all states wanted, use bool False\r\n",
    "state = False\r\n",
    "\r\n",
    "# Define the search data JSON to send to the API URI\r\n",
    "search_data = {\"property_search_code\":prop}\r\n",
    "# search_data = {\"author_last_name\":['Wilthan']}\r\n",
    "\r\n",
    "#\"exclude_all\":\"True\", \"required_compounds\":compound, \"property_search_code\":\"VDN\"\r\n",
    "\r\n",
    "# Define the URL to send the request\r\n",
    "# Note that this example does require an authentication key to get the data. The one given here is an invalid authkey and will need to be replaced by\r\n",
    "# a valid authentication key which may be requested free of charge fapi_key = open('C:/Users/bmd4/Desktop/API Work/TRC-Alloys API Key.txt').read()r# om TRCalloy@nist.gov.\r\n",
    "\r\n",
    "api_key = open('D:/Bryan/Desktop/NIST/TRC-Alloys API Key.txt').read()\r\n",
    "# api_key = open('C:/Users/bmd4/Desktop/API Work/TRC-Alloys API Key.txt').read()\r\n",
    "url = f'http://trcsrv2.boulder.nist.gov/MetalsAlloyAPI/search?authkey={api_key}'\r\n",
    "# url=f'https://trc.nist.gov/MetalsAlloyAPI/search?authkey={api_key}'"
   ],
   "outputs": [],
   "metadata": {}
  },
  {
   "cell_type": "code",
   "execution_count": 3,
   "source": [
    "import re\r\n",
    "# Get the compound data from a requests post\r\n",
    "compound_data_response = requests.post(url, json=search_data, headers=headers)\r\n",
    "# The compound_data object is a \"response\" object and the actual output JSON is in the\r\n",
    "# text field of that object. So use compound_data_response.text to use the actual output JSON\r\n",
    "with open('Test.json', 'w') as fp:\r\n",
    "    fp.write((re.sub(r'[^\\x00-\\x7f]',r'', compound_data_response.text)))"
   ],
   "outputs": [],
   "metadata": {}
  },
  {
   "cell_type": "code",
   "execution_count": 2,
   "source": [
    "import json\r\n",
    "\r\n",
    "with open('Test.json') as json_file:\r\n",
    "    data = json.load(json_file)\r\n",
    "\r\n",
    "with open('decoder_table.json') as json_file:\r\n",
    "    decoder_table = json.load(json_file)"
   ],
   "outputs": [],
   "metadata": {}
  },
  {
   "cell_type": "code",
   "execution_count": 3,
   "source": [
    "from collections import Counter\r\n",
    "element_ids = []\r\n",
    "for a in data['TRC_data']:\r\n",
    "    for b in a['compounds']:\r\n",
    "        for c in compound:\r\n",
    "            if b['formula_hill'] == c:\r\n",
    "                c = [b['compound_id']]\r\n",
    "                if c[0] not in element_ids:\r\n",
    "                    element_ids.append(c[0])\r\n",
    "print(element_ids)"
   ],
   "outputs": [
    {
     "output_type": "stream",
     "name": "stdout",
     "text": [
      "[7671, 10884]\n"
     ]
    }
   ],
   "metadata": {}
  },
  {
   "cell_type": "code",
   "execution_count": 4,
   "source": [
    "temp_x = \"N/A\"\r\n",
    "temp_y = \"N/A\"\r\n",
    "x_ax = []\r\n",
    "y_ax = []\r\n",
    "x_axt = []\r\n",
    "y_axt = []\r\n",
    "datasets = []\r\n",
    "phase = []\r\n",
    "num1 = 0\r\n",
    "num2 = 0\r\n",
    "num3 = 0\r\n",
    "num4 = 0\r\n",
    "num5 = 0\r\n",
    "\r\n",
    "for a in data['TRC_data']:\r\n",
    "    for b in a['systems']:\r\n",
    "        try:\r\n",
    "            if (Counter(b['compound_ids']) == Counter(element_ids)):\r\n",
    "                for s in b['phases']:\r\n",
    "                    if (s['type'] == state):\r\n",
    "                        phase.append(s['phase_id'])\r\n",
    "                num3 += 1\r\n",
    "                for c in b['data_sets']:\r\n",
    "                    num5 += 1\r\n",
    "                    for v in c['variables']:\r\n",
    "                        if v['variable_name'] == prop and (v['representation'] == rep or rep == False):\r\n",
    "                            num1 += 1\r\n",
    "                            temp_y = v['variable_id']\r\n",
    "                        if v['variable_name'] == var:\r\n",
    "                            num2 += 1\r\n",
    "                            temp_x = v['variable_id']\r\n",
    "                    v_num = 0\r\n",
    "                    num = 0\r\n",
    "                    for p in c['states']:\r\n",
    "                        if p['phase_id'] in phase:\r\n",
    "                            v_num += 1\r\n",
    "                        num += 1\r\n",
    "                    for d in c['data']:\r\n",
    "                        if (str(temp_x) in str(c['data'])) and (str(temp_y) in str(c['data'])) and (v_num == num or state == False):\r\n",
    "                            num4 += 1\r\n",
    "                            if c['data_set_id'] not in datasets:\r\n",
    "                                datasets.append(c['data_set_id'])\r\n",
    "                            if d['variable_id'] == temp_y:\r\n",
    "                                for e in d['data_values']:\r\n",
    "                                    y_axt.append(e['value'])\r\n",
    "                                y_ax.append(y_axt)\r\n",
    "                                y_axt = []\r\n",
    "                            if d['variable_id'] == temp_x:\r\n",
    "                                for e in d['data_values']:\r\n",
    "                                    x_axt.append(e['value'])\r\n",
    "                                x_ax.append(x_axt)\r\n",
    "                                x_axt = []\r\n",
    "        except KeyError:\r\n",
    "            #print(a['citation'])\r\n",
    "            break\r\n",
    "\r\n",
    "print(num3, num1, num2, num4, num5)\r\n",
    "print(datasets)\r\n",
    "print(phase)"
   ],
   "outputs": [
    {
     "output_type": "stream",
     "name": "stdout",
     "text": [
      "11 16 22 59 26\n",
      "[2246, 6944, 7785, 8505, 8506, 14345, 18706, 20205, 20206, 20952, 23277, 23278, 25156, 25157, 25158, 25159]\n",
      "[]\n"
     ]
    }
   ],
   "metadata": {}
  },
  {
   "cell_type": "code",
   "execution_count": 5,
   "source": [
    "for a in decoder_table['PRP']:\r\n",
    "    if a == var:\r\n",
    "        x_lab = decoder_table['PRP'][var]\r\n",
    "    if a == prop:\r\n",
    "        y_lab = decoder_table['PRP'][prop]\r\n",
    "for b in decoder_table['UnitsStandard']:\r\n",
    "    if b == var:\r\n",
    "        x_un = decoder_table['UnitsStandard'][var]\r\n",
    "    if b == prop:\r\n",
    "        y_un = decoder_table['UnitsStandard'][prop]\r\n"
   ],
   "outputs": [],
   "metadata": {}
  },
  {
   "cell_type": "code",
   "execution_count": 6,
   "source": [
    "import matplotlib.pyplot as plt\r\n",
    "from matplotlib.pyplot import figure\r\n",
    "import math\r\n",
    "%matplotlib widget\r\n",
    "\r\n",
    "x = []\r\n",
    "y = []\r\n",
    "\r\n",
    "print(len(x_ax),len(y_ax))\r\n",
    "\r\n",
    "adj = math.ceil(len(y_ax)/20)\r\n",
    "\r\n",
    "print(adj)\r\n",
    "\r\n",
    "# print(x_ax)\r\n",
    "# print(y_ax)\r\n",
    "figure(figsize = (8 + adj, 5))\r\n",
    "\r\n",
    "for i,j in zip(x_ax, y_ax):\r\n",
    "    if len(i) != len(j):\r\n",
    "        for k in range(1,len(j)):\r\n",
    "            i.append(i[0])\r\n",
    "    for m,n in zip(i,j):\r\n",
    "        if (type(m) == int or type(m) == float) and (type(n) == int or type(n) == float) and n != 0:\r\n",
    "            x.append(m)\r\n",
    "            y.append(n)\r\n",
    "    sc = plt.scatter(x,y)\r\n",
    "    x = []\r\n",
    "    y = []\r\n",
    "\r\n",
    "plt.legend(datasets, ncol = adj, bbox_to_anchor=(1.04,1), loc=\"upper left\", borderaxespad=0) #\r\n",
    "plt.title(compound)\r\n",
    "plt.xlabel(f'{x_lab}: {x_un}')\r\n",
    "plt.ylabel(f'{y_lab}: {y_un}')\r\n",
    "plt.tight_layout()\r\n",
    "plt.show"
   ],
   "outputs": [
    {
     "output_type": "stream",
     "name": "stdout",
     "text": [
      "16 16\n",
      "1\n"
     ]
    },
    {
     "output_type": "display_data",
     "data": {
      "text/plain": [
       "Canvas(toolbar=Toolbar(toolitems=[('Home', 'Reset original view', 'home', 'home'), ('Back', 'Back to previous …"
      ],
      "application/vnd.jupyter.widget-view+json": {
       "version_major": 2,
       "version_minor": 0,
       "model_id": "bc400c49e6df4660a546ea2fcdedcd0d"
      }
     },
     "metadata": {}
    },
    {
     "output_type": "execute_result",
     "data": {
      "text/plain": [
       "<function matplotlib.pyplot.show(block=None)>"
      ]
     },
     "metadata": {},
     "execution_count": 6
    }
   ],
   "metadata": {}
  }
 ],
 "metadata": {
  "orig_nbformat": 4,
  "language_info": {
   "name": "python",
   "version": "3.9.6",
   "mimetype": "text/x-python",
   "codemirror_mode": {
    "name": "ipython",
    "version": 3
   },
   "pygments_lexer": "ipython3",
   "nbconvert_exporter": "python",
   "file_extension": ".py"
  },
  "kernelspec": {
   "name": "python3",
   "display_name": "Python 3.9.6 64-bit"
  },
  "interpreter": {
   "hash": "0dd487d8b67d21e4b7135c6574fdc74d729bc193aa7ee7c5c4cc47f0ab29d439"
  }
 },
 "nbformat": 4,
 "nbformat_minor": 2
}