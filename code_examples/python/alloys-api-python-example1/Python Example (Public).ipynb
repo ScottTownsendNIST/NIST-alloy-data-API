{
 "cells": [
  {
   "cell_type": "code",
   "execution_count": 1,
   "source": [
    "import json\r\n",
    "# This loads the decoder table file into a dict for use within the code\r\n",
    "with open('decoder_table.json') as json_file:\r\n",
    "    decoder_table = json.load(json_file)"
   ],
   "outputs": [],
   "metadata": {}
  },
  {
   "cell_type": "code",
   "execution_count": 2,
   "source": [
    "# This code is written for TRC Alloys in order to pull alloy or pure metal data directly from the API. This was written by Bryan Dickson using python version 3.9.6, \r\n",
    "# and if you have any advice or suggestions to improve the code I would like to hear it. \r\n",
    "# This includes how to structure the data or potential features that could be useful. Please message me at TRCalloy@nist.gov\r\n",
    "\r\n",
    "# To use the code, there will need to be some particular packages installed on your computer to use, these include: pandas, numpy, itertools, and plotly\r\n",
    "# The code should function as listed, unless adding or removing features, please only adjust variables listed for use. Formats for adjusting some parts are within documentation\r\n",
    "# on the GitHub which examples are listed. \r\n",
    "\r\n",
    "import requests\r\n",
    "\r\n",
    "# Define the headers to send to the API URI, these should not need to be changed\r\n",
    "headers = {\r\n",
    "    'content-type':'application/x-www-form-urlencoded;',\r\n",
    "    'Access-Control-Allow-Origin':'*',\r\n",
    "}\r\n",
    "\r\n",
    "###################################################################################################\r\n",
    "### EDIT SEARCH PARAMETERS BELOW THIS LISTED SECTION WITHIN THIS BLOCK ###\r\n",
    "# Property, representation, and state codes should be provided within a decoder table and are necessary in order to use resource properly\r\n",
    "\r\n",
    "#Compound is a list of one or more strings, be sure to use empirical formula i.e. \"Au\", not \"Gold\"\r\n",
    "compound = [\"Cu\"]\r\n",
    "#x-axis variable, use code for in decodre table, not name of the variable i.e. Temperature: \"T\"\r\n",
    "var = \"T\"\r\n",
    "#property attempting to measure, use code in decoder table, not name i.e. Electrical Resisitivity: \"ER\"\r\n",
    "prop = \"VDN\"\r\n",
    "#representation of data, use code in decoder table, i.e. Direct: \"A\", if no representation wanted, use bool False\r\n",
    "rep = False\r\n",
    "#state of matter for data, use code in decoder table, i.e. Crystal: \"C\", if all states wanted, use bool False\r\n",
    "state = False\r\n",
    "#whether or not you want to show error bars for points on the graph, True to show, False to hide\r\n",
    "show_uncertainty = True\r\n",
    "#what units you wish the output to take the form of as a string variable (many units should be available but some may not) MAKE SURE TO PUT THESE IN CORRECT UNITS OR CODE WILL NOT RUN!\r\n",
    "#default units are left to use, but if you want to use a custom unit replace with a string value of the unit represention. eg: Farenheit = 'F'\r\n",
    "des_un_var = decoder_table['UnitsStandard'][var]\r\n",
    "des_un_prop = decoder_table['UnitsStandard'][prop]\r\n",
    "\r\n",
    "# Define the search data JSON to send to the API URI\r\n",
    "# For search parameters, searching by property is standard for this doc, different search parameters are offered within the API Guide on the GitHub\r\n",
    "# A separate example searching by Author Last name is also provided and commented off for use.\r\n",
    "search_data = {\"property_search_code\":prop}\r\n",
    "# search_data = {\"author_last_name\":['Author_Last_Name']}\r\n",
    "\r\n",
    "# Define the URL to send the request\r\n",
    "# Note that this example does require an authentication key to get the data. The one given here is an invalid authkey and will need to be replaced by\r\n",
    "# a valid authentication key which may be requested free of charge from TRCalloy@nist.gov\r\n",
    "\r\n",
    "# This is text to read the key from your desktop to use to access the API\r\n",
    "api_key = open('.../TRC-Alloys API Key.txt').read()\r\n",
    "\r\n",
    "# This is the URL call, the only thing that should change is that your API key should be called here\r\n",
    "url=f'https://trc.nist.gov/MetalsAlloyAPI/search?authkey={api_key}'"
   ],
   "outputs": [],
   "metadata": {}
  },
  {
   "cell_type": "code",
   "execution_count": null,
   "source": [
    "import re\r\n",
    "# Get the compound data from a requests post, this is what calls the data from the API directly\r\n",
    "compound_data_response = requests.post(url, json=search_data, headers=headers)\r\n",
    "\r\n",
    "# The compound_data object is a \"response\" object and the actual output JSON is in the\r\n",
    "# text field of that object. So use compound_data_response.text to use the actual output JSON\r\n",
    "# and this is being written to your .json file which is being called later as well.\r\n",
    "with open('Test.json', 'w') as fp:\r\n",
    "    fp.write((re.sub(r'[^\\x00-\\x7f]',r'', compound_data_response.text)))"
   ],
   "outputs": [],
   "metadata": {}
  },
  {
   "cell_type": "code",
   "execution_count": 3,
   "source": [
    "# This loads the .json file into a dict for use within the code\r\n",
    "with open('Test.json') as json_file:\r\n",
    "    data = json.load(json_file)"
   ],
   "outputs": [],
   "metadata": {}
  },
  {
   "cell_type": "code",
   "execution_count": 4,
   "source": [
    "from collections import Counter\r\n",
    "element_ids = []\r\n",
    "temp_spec = []\r\n",
    "spec_par = {} #dict which connects the parent specimen to the properties\r\n",
    "spec_desc = {} #dict which connects the children specimens to their respective parent specimen\r\n",
    "\r\n",
    "#This code runs through an initial loop through the .json to access the compound codes in order to call them later on, these are used to identify the elements\r\n",
    "for a in compound:\r\n",
    "    for b in data['TRC_data']:\r\n",
    "        for c in b['compounds']:\r\n",
    "            if c['formula_hill'] == a:\r\n",
    "                if c['compound_id'] not in element_ids:\r\n",
    "                    element_ids.append(c['compound_id'])\r\n",
    "\r\n",
    "# This loop creates a set of dicts in order to identify the elements with parent specimens and their according properties\r\n",
    "for a in compound:\r\n",
    "    for b in data['TRC_data']:\r\n",
    "        for d in b['specimens']:\r\n",
    "            if (Counter(list(set(d['compound_ids']))) == Counter(element_ids)):\r\n",
    "                if \"parent_ids\" in str(d):\r\n",
    "                    for e in d['parent_ids']:\r\n",
    "                        temp_spec.append(e)\r\n",
    "                    spec_par[d['specimen_id']] = temp_spec\r\n",
    "                    temp_spec = []\r\n",
    "            if 'description' in str(d):\r\n",
    "                spec_desc[d['specimen_id']] = f\"{d['description']['initial']}\""
   ],
   "outputs": [],
   "metadata": {}
  },
  {
   "cell_type": "code",
   "execution_count": 7,
   "source": [
    "import pandas as pd\r\n",
    "import itertools\r\n",
    "from conversion_bridge import conversion_bridge\r\n",
    "\r\n",
    "temp_x = \"N/A\" # temporary value which houses variable ID for the variable\r\n",
    "temp_y = \"N/A\" # temporary value which houses variable ID for the property\r\n",
    "x_lab = decoder_table['PRP'][var] # axis label to name x\r\n",
    "y_lab = decoder_table['PRP'][prop] # axis label to name y\r\n",
    "state_dict = {} # dict which relates state codes to states of matter\r\n",
    "dataset = [] # data which will be converted to the pandas framwork\r\n",
    "\r\n",
    "# With the libraries used to do unit conversion, the output of the change is automatically output, there is no need to pay attention to these values.\r\n",
    "\r\n",
    "for a in data['TRC_data']:\r\n",
    "    for b in a['systems']: # system data tends to be the material compositions, so other aspects can vary within a system with each data set\r\n",
    "        try: # some intermetallics not explicitly recognized, so the try is to catch data sets which do not have a compound\r\n",
    "             # only enters if the metal or alloy is the same as listed, is not inclusive of all alloys that contain that element\r\n",
    "            if (Counter(b['compound_ids']) == Counter(element_ids)): \r\n",
    "                for p in b['phases']:\r\n",
    "                    state_dict[p['phase_id']] = p['type'] # this is where the ids and states are related to be called later\r\n",
    "                for c in b['data_sets']:\r\n",
    "                    x_axt = []\r\n",
    "                    y_axt = []\r\n",
    "                    stat_id = []\r\n",
    "                    y_unc = []\r\n",
    "                    add_data = False\r\n",
    "                    method = \"\"\r\n",
    "                    for s in c['states']:\r\n",
    "                        stat_id.append(state_dict[s['phase_id']]) # recognizes and lists phase(s) for a given data point\r\n",
    "                        if s['specimen_id'] in spec_par: # this section is for listing recognizing the descriptions and purities of specimen\r\n",
    "                            if len(element_ids) > 1: # this is to go through the data if searching through an alloy\r\n",
    "                                init_desc = []\r\n",
    "                                pure = []\r\n",
    "                                p_un = []\r\n",
    "                                for t, u in itertools.zip_longest(spec_par[s['specimen_id']],range(len(element_ids)+1)):\r\n",
    "                                    if t == None:\r\n",
    "                                        temp_desc = t\r\n",
    "                                        init_desc.append(t)\r\n",
    "                                        pure.append(t)\r\n",
    "                                    else:\r\n",
    "                                        temp_desc = spec_desc[t]\r\n",
    "                                        init_desc.append(spec_desc[t])\r\n",
    "                                        temp_pure = \"\"\r\n",
    "                                        for i in temp_desc:\r\n",
    "                                            if i.isdigit() or i == \".\":\r\n",
    "                                                temp_pure = temp_pure + str(i)\r\n",
    "                                        if \".\" in temp_pure:\r\n",
    "                                            pure.append(float(temp_pure))\r\n",
    "                                        elif temp_pure == '' or temp_pure == None:\r\n",
    "                                            temp_pure = None\r\n",
    "                                            pure.append(temp_pure)\r\n",
    "                                        else:\r\n",
    "                                            pure.append(int(temp_pure))\r\n",
    "                                    if (temp_desc == None) or (temp_pure == None):\r\n",
    "                                        p_un.append(None)\r\n",
    "                                    elif 'weight %' in temp_desc:\r\n",
    "                                        p_un.append('Weight %')\r\n",
    "                                    elif 'mole %' in temp_desc:\r\n",
    "                                        p_un.append('Mole %')\r\n",
    "                                    else:\r\n",
    "                                        p_un.append(\"Not Specified %\")\r\n",
    "                            else: # this is for identifyig description and purity if a pure element\r\n",
    "                                init_desc = spec_desc[spec_par[s['specimen_id']][0]]\r\n",
    "                                pure = \"\"\r\n",
    "                                for i in init_desc:\r\n",
    "                                    if i.isdigit() or i == \".\":\r\n",
    "                                        pure = pure + str(i)\r\n",
    "                                if \".\" in pure:\r\n",
    "                                    pure = float(pure)\r\n",
    "                                elif pure == '':\r\n",
    "                                    pure = None\r\n",
    "                                else:\r\n",
    "                                    pure = int(pure)\r\n",
    "                                if 'weight %' in init_desc:\r\n",
    "                                    p_un = 'Weight %'\r\n",
    "                                elif 'mole %' in init_desc:\r\n",
    "                                    p_un = 'Mole %'\r\n",
    "                                elif pure == None:\r\n",
    "                                    p_un = None\r\n",
    "                                else:\r\n",
    "                                    p_un = \"Not Specified %\"\r\n",
    "                        else: # lists specimen ID for easy recognition if it was not properly added to the spec_par dict\r\n",
    "                            init_desc = s['specimen_id'] \r\n",
    "                    for v in c['variables']: # this section of the code is designated to identifying the variable and property for use currently\r\n",
    "                        if v['variable_name'] == prop:\r\n",
    "                            temp_y = v['variable_id']\r\n",
    "                            rep_u = v['representation']\r\n",
    "                            if (str(rep)[0] == 'R') or (str(rep)[0] == 'X'):\r\n",
    "                                y_un = '1'\r\n",
    "                            else:\r\n",
    "                                y_un = v['units']\r\n",
    "                            if 'method' in str(v):\r\n",
    "                                if str(v['method']).upper() in str(decoder_table['Method']):\r\n",
    "                                    method = decoder_table['Method'][v['method'].upper()]\r\n",
    "                                else:\r\n",
    "                                    method = v['method']\r\n",
    "                            else:\r\n",
    "                                method = \"N/A\"\r\n",
    "                            if \"'reference_temperature':\" in str(v):\r\n",
    "                                ref_temp = v['reference_temperature']\r\n",
    "                            else:\r\n",
    "                                ref_temp = \"N/A\"\r\n",
    "                        if v['variable_name'] == var:\r\n",
    "                            temp_x = v['variable_id']\r\n",
    "                            if v['units'] == 'D':\r\n",
    "                                x_un = decoder_table['UnitsSpecial'][v['units']]\r\n",
    "                            else:\r\n",
    "                                x_un = v['units']\r\n",
    "                    for d in c['data']: # goes through data tables and eventially data values\r\n",
    "                        if (f\"'variable_id': {temp_x}\" in str(c['data'])) and (f\"'variable_id': {temp_y}\" in str(c['data'])): # only enters if both property and variable are compatible\r\n",
    "                            if d['variable_id'] == temp_y:\r\n",
    "                                for e in d['data_values']:\r\n",
    "                                    if e['value'] == None:\r\n",
    "                                        y_axt.append(None)\r\n",
    "                                        y_unc.append(None)\r\n",
    "                                    else:\r\n",
    "                                        if \"'uncertainty':\" in str(e): # adds the uncertainty value for use in the data framework\r\n",
    "                                            temp_data_y = conversion_bridge(e['value'], e['uncertainty'], prop, y_un, des_un_prop)\r\n",
    "                                            y_axt.append(temp_data_y[1])\r\n",
    "                                            y_unc.append(temp_data_y[2])\r\n",
    "                                        else:\r\n",
    "                                            temp_data_y = conversion_bridge(e['value'], 0, prop, y_un, des_un_prop)\r\n",
    "                                            y_axt.append(temp_data_y[1])\r\n",
    "                                            y_unc.append(None)\r\n",
    "                            if d['variable_id'] == temp_x:\r\n",
    "                                for f in d['data_values']:\r\n",
    "                                    temp_data_x = conversion_bridge(f['value'], 0, var, x_un, des_un_var)\r\n",
    "                                    x_axt.append(temp_data_x[1]) # these are the data values for the variable being added to the framework\r\n",
    "                            add_data = True # adds a check to make sure that the table knows to add current data set\r\n",
    "                    if add_data == True:\r\n",
    "                        for i,j,k in itertools.zip_longest(x_axt,y_axt,y_unc):\r\n",
    "                            if i == None:\r\n",
    "                                i = x_axt[0]\r\n",
    "                                # These are all of the individual and varying aspects being added to the pandas framework, not all are currently\r\n",
    "                                # used but are present for use if wanted.\r\n",
    "                            dataset.append({ \r\n",
    "                                f'{x_lab}: {des_un_var}': i, # x-axis variable values\r\n",
    "                                f'{y_lab}: {des_un_prop}': j, # y-axis property values\r\n",
    "                                'Uncertainty': k, # uncertainty for property\r\n",
    "                                'Ref Temp': ref_temp, # reference temperature for relative values (K)\r\n",
    "                                'Data Set ID': str(c['data_set_id']), # Data Set ID for which each value belongs to\r\n",
    "                                'State': stat_id, # encoded state(s) for each point\r\n",
    "                                'Representation': rep_u, # encoded representation for each point\r\n",
    "                                'Method': method, # method for which data was collected\r\n",
    "                                'Description': init_desc, # initial description of data\r\n",
    "                                'Purity': pure, # purity value for alloys, in list structure [Purity Element 1, Purity Element 2, ..., Purity Alloy]\r\n",
    "                                'Purity Units': p_un, # format for purity, corresponds directly to each purity value i.e. weight percent, molar percent, not specified\r\n",
    "                                'Year': a['citation']['year'] # year of paper's publication\r\n",
    "                            })\r\n",
    "        except KeyError:\r\n",
    "            break\r\n",
    "df = pd.DataFrame(dataset) # builds the pandas dataframe        "
   ],
   "outputs": [
    {
     "output_type": "stream",
     "name": "stdout",
     "text": [
      "291.15\n",
      "0.0\n",
      "K\n",
      "299.15\n",
      "0.0\n",
      "K\n",
      "107.15\n",
      "0.0\n",
      "K\n",
      "119.15\n",
      "0.0\n",
      "K\n",
      "136.15\n",
      "0.0\n",
      "K\n",
      "146.15\n",
      "0.0\n",
      "K\n",
      "155.15\n",
      "0.0\n",
      "K\n",
      "164.15\n",
      "0.0\n",
      "K\n",
      "180.15\n",
      "0.0\n",
      "K\n",
      "190.15\n",
      "0.0\n",
      "K\n",
      "203.15\n",
      "0.0\n",
      "K\n",
      "213.15\n",
      "0.0\n",
      "K\n",
      "228.15\n",
      "0.0\n",
      "K\n",
      "243.15\n",
      "0.0\n",
      "K\n",
      "258.15\n",
      "0.0\n",
      "K\n",
      "269.15\n",
      "0.0\n",
      "K\n",
      "280.15\n",
      "0.0\n",
      "K\n",
      "289.15\n",
      "0.0\n",
      "K\n",
      "298.15\n",
      "0.0\n",
      "K\n",
      "96.35\n",
      "0.0\n",
      "K\n",
      "97.45\n",
      "0.0\n",
      "K\n",
      "99.25\n",
      "0.0\n",
      "K\n",
      "100.15\n",
      "0.0\n",
      "K\n",
      "100.45\n",
      "0.0\n",
      "K\n",
      "102.05\n",
      "0.0\n",
      "K\n",
      "114.15\n",
      "0.0\n",
      "K\n",
      "117.95\n",
      "0.0\n",
      "K\n",
      "121.95\n",
      "0.0\n",
      "K\n",
      "129.25\n",
      "0.0\n",
      "K\n",
      "131.55\n",
      "0.0\n",
      "K\n",
      "136.25\n",
      "0.0\n",
      "K\n",
      "139.75\n",
      "0.0\n",
      "K\n",
      "142.85\n",
      "0.0\n",
      "K\n",
      "168.15\n",
      "0.0\n",
      "K\n",
      "171.15\n",
      "0.0\n",
      "K\n",
      "176.15\n",
      "0.0\n",
      "K\n",
      "182.05\n",
      "0.0\n",
      "K\n",
      "237.15\n",
      "0.0\n",
      "K\n",
      "240.45\n",
      "0.0\n",
      "K\n",
      "256.15\n",
      "0.0\n",
      "K\n",
      "257.65\n",
      "0.0\n",
      "K\n",
      "290.05\n",
      "0.0\n",
      "K\n",
      "290.05\n",
      "0.0\n",
      "K\n",
      "296.15\n",
      "0.0\n",
      "K\n",
      "293.15\n",
      "0.0\n",
      "K\n",
      "294.15\n",
      "0.0\n",
      "K\n",
      "291.15\n",
      "0.0\n",
      "K\n",
      "1173.15\n",
      "0.0\n",
      "K\n",
      "1273.15\n",
      "0.0\n",
      "K\n",
      "1373.15\n",
      "0.0\n",
      "K\n",
      "1473.15\n",
      "0.0\n",
      "K\n",
      "293.0\n",
      "0.0\n",
      "K\n",
      "1373.15\n",
      "0.0\n",
      "K\n",
      "1473.15\n",
      "0.0\n",
      "K\n",
      "1573.15\n",
      "0.0\n",
      "K\n",
      "1673.15\n",
      "0.0\n",
      "K\n",
      "1773.15\n",
      "0.0\n",
      "K\n",
      "1873.15\n",
      "0.0\n",
      "K\n",
      "294.15\n",
      "0.0\n",
      "K\n",
      "294.35\n",
      "0.0\n",
      "K\n",
      "295.15\n",
      "0.0\n",
      "K\n",
      "1373.15\n",
      "0.0\n",
      "K\n",
      "1423.15\n",
      "0.0\n",
      "K\n",
      "1473.15\n",
      "0.0\n",
      "K\n",
      "1523.15\n",
      "0.0\n",
      "K\n",
      "1573.15\n",
      "0.0\n",
      "K\n",
      "1623.15\n",
      "0.0\n",
      "K\n",
      "1673.15\n",
      "0.0\n",
      "K\n",
      "1723.15\n",
      "0.0\n",
      "K\n",
      "294.15\n",
      "0.0\n",
      "K\n",
      "298.0\n",
      "0.0\n",
      "K\n",
      "298.0\n",
      "0.0\n",
      "K\n",
      "294.15\n",
      "0.0\n",
      "K\n",
      "1432.41\n",
      "0.0\n",
      "K\n",
      "1523.35\n",
      "0.0\n",
      "K\n",
      "1562.53\n",
      "0.0\n",
      "K\n",
      "1585.47\n",
      "0.0\n",
      "K\n",
      "1621.99\n",
      "0.0\n",
      "K\n",
      "1711.62\n",
      "0.0\n",
      "K\n",
      "1524.0\n",
      "0.0\n",
      "K\n",
      "1534.0\n",
      "0.0\n",
      "K\n",
      "1552.0\n",
      "0.0\n",
      "K\n",
      "1577.0\n",
      "0.0\n",
      "K\n",
      "1611.0\n",
      "0.0\n",
      "K\n",
      "1640.0\n",
      "0.0\n",
      "K\n",
      "1646.0\n",
      "0.0\n",
      "K\n",
      "1652.0\n",
      "0.0\n",
      "K\n",
      "1656.0\n",
      "0.0\n",
      "K\n",
      "1668.0\n",
      "0.0\n",
      "K\n",
      "1712.0\n",
      "0.0\n",
      "K\n",
      "1724.0\n",
      "0.0\n",
      "K\n",
      "1730.0\n",
      "0.0\n",
      "K\n",
      "1745.0\n",
      "0.0\n",
      "K\n",
      "1768.0\n",
      "0.0\n",
      "K\n",
      "1786.0\n",
      "0.0\n",
      "K\n",
      "1808.0\n",
      "0.0\n",
      "K\n",
      "1830.0\n",
      "0.0\n",
      "K\n",
      "1841.0\n",
      "0.0\n",
      "K\n",
      "1859.0\n",
      "0.0\n",
      "K\n",
      "1891.0\n",
      "0.0\n",
      "K\n",
      "1894.0\n",
      "0.0\n",
      "K\n",
      "1907.0\n",
      "0.0\n",
      "K\n",
      "1916.0\n",
      "0.0\n",
      "K\n",
      "1918.0\n",
      "0.0\n",
      "K\n",
      "1925.0\n",
      "0.0\n",
      "K\n",
      "1941.0\n",
      "0.0\n",
      "K\n",
      "1972.0\n",
      "0.0\n",
      "K\n",
      "1976.0\n",
      "0.0\n",
      "K\n",
      "1983.0\n",
      "0.0\n",
      "K\n",
      "2033.0\n",
      "0.0\n",
      "K\n",
      "2049.0\n",
      "0.0\n",
      "K\n",
      "2080.0\n",
      "0.0\n",
      "K\n",
      "2111.0\n",
      "0.0\n",
      "K\n",
      "2122.0\n",
      "0.0\n",
      "K\n",
      "2203.0\n",
      "0.0\n",
      "K\n",
      "2215.0\n",
      "0.0\n",
      "K\n",
      "2225.0\n",
      "0.0\n",
      "K\n",
      "2237.0\n",
      "0.0\n",
      "K\n",
      "2240.0\n",
      "0.0\n",
      "K\n",
      "2320.0\n",
      "0.0\n",
      "K\n",
      "2336.0\n",
      "0.0\n",
      "K\n",
      "2500.0\n",
      "0.0\n",
      "K\n",
      "1364.03\n",
      "0.0\n",
      "K\n",
      "1364.21\n",
      "0.0\n",
      "K\n",
      "1383.56\n",
      "0.0\n",
      "K\n",
      "1450.84\n",
      "0.0\n",
      "K\n",
      "1450.87\n",
      "0.0\n",
      "K\n",
      "1490.13\n",
      "0.0\n",
      "K\n",
      "1571.55\n",
      "0.0\n",
      "K\n",
      "1601.86\n",
      "0.0\n",
      "K\n",
      "1621.23\n",
      "0.0\n",
      "K\n",
      "1640.74\n",
      "0.0\n",
      "K\n",
      "1720.07\n",
      "0.0\n",
      "K\n",
      "1720.59\n",
      "0.0\n",
      "K\n",
      "1758.61\n",
      "0.0\n",
      "K\n",
      "1872.55\n",
      "0.0\n",
      "K\n",
      "1971.94\n",
      "0.0\n",
      "K\n",
      "2072.43\n",
      "0.0\n",
      "K\n",
      "2114.09\n",
      "0.0\n",
      "K\n",
      "2118.17\n",
      "0.0\n",
      "K\n",
      "1356.15\n",
      "0.0\n",
      "K\n",
      "1400.15\n",
      "0.0\n",
      "K\n",
      "1500.15\n",
      "0.0\n",
      "K\n",
      "1600.15\n",
      "0.0\n",
      "K\n",
      "1700.15\n",
      "0.0\n",
      "K\n",
      "1800.15\n",
      "0.0\n",
      "K\n",
      "1900.15\n",
      "0.0\n",
      "K\n",
      "2000.15\n",
      "0.0\n",
      "K\n",
      "2100.15\n",
      "0.0\n",
      "K\n",
      "1377.08\n",
      "0.0\n",
      "K\n",
      "1455.97\n",
      "0.0\n",
      "K\n",
      "1456.31\n",
      "0.0\n",
      "K\n",
      "1589.39\n",
      "0.0\n",
      "K\n",
      "1623.01\n",
      "0.0\n",
      "K\n",
      "1644.33\n",
      "0.0\n",
      "K\n",
      "1665.96\n",
      "0.0\n",
      "K\n",
      "1750.84\n",
      "0.0\n",
      "K\n",
      "1751.29\n",
      "0.0\n",
      "K\n",
      "1791.48\n",
      "0.0\n",
      "K\n",
      "1900.82\n",
      "0.0\n",
      "K\n",
      "1990.19\n",
      "0.0\n",
      "K\n",
      "2073.03\n",
      "0.0\n",
      "K\n",
      "1550.02\n",
      "0.0\n",
      "K\n",
      "1581.65\n",
      "0.0\n",
      "K\n",
      "1683.68\n",
      "0.0\n",
      "K\n",
      "1689.35\n",
      "0.0\n",
      "K\n",
      "1769.58\n",
      "0.0\n",
      "K\n",
      "1795.04\n",
      "0.0\n",
      "K\n",
      "1891.8\n",
      "0.0\n",
      "K\n",
      "293.15\n",
      "0.0\n",
      "K\n",
      "293.15\n",
      "0.0\n",
      "K\n",
      "1484.95\n",
      "0.0\n",
      "K\n",
      "1485.65\n",
      "0.0\n",
      "K\n",
      "1485.85\n",
      "0.0\n",
      "K\n",
      "1490.75\n",
      "0.0\n",
      "K\n",
      "1625.65\n",
      "0.0\n",
      "K\n",
      "1626.15\n",
      "0.0\n",
      "K\n",
      "1626.15\n",
      "0.0\n",
      "K\n",
      "1631.85\n",
      "0.0\n",
      "K\n",
      "1741.15\n",
      "0.0\n",
      "K\n",
      "1741.55\n",
      "0.0\n",
      "K\n",
      "1741.65\n",
      "0.0\n",
      "K\n",
      "1748.55\n",
      "0.0\n",
      "K\n",
      "1825.45\n",
      "0.0\n",
      "K\n",
      "1825.95\n",
      "0.0\n",
      "K\n",
      "1826.15\n",
      "0.0\n",
      "K\n",
      "1831.05\n",
      "0.0\n",
      "K\n",
      "1897.25\n",
      "0.0\n",
      "K\n",
      "1897.25\n",
      "0.0\n",
      "K\n",
      "1897.35\n",
      "0.0\n",
      "K\n",
      "1903.05\n",
      "0.0\n",
      "K\n",
      "1473.15\n",
      "0.0\n",
      "K\n",
      "1673.15\n",
      "0.0\n",
      "K\n",
      "1823.15\n",
      "0.0\n",
      "K\n",
      "1873.15\n",
      "0.0\n",
      "K\n",
      "1823.15\n",
      "0.0\n",
      "K\n",
      "1873.15\n",
      "0.0\n",
      "K\n",
      "1923.15\n",
      "0.0\n",
      "K\n",
      "1773.15\n",
      "0.0\n",
      "K\n",
      "1823.15\n",
      "0.0\n",
      "K\n",
      "1873.15\n",
      "0.0\n",
      "K\n",
      "1356.15\n",
      "0.0\n",
      "K\n",
      "1373.15\n",
      "0.0\n",
      "K\n",
      "1473.15\n",
      "0.0\n",
      "K\n",
      "1573.15\n",
      "0.0\n",
      "K\n",
      "1673.15\n",
      "0.0\n",
      "K\n",
      "1773.15\n",
      "0.0\n",
      "K\n",
      "1873.15\n",
      "0.0\n",
      "K\n",
      "1484.85\n",
      "0.0\n",
      "K\n",
      "1485.25\n",
      "0.0\n",
      "K\n",
      "1485.25\n",
      "0.0\n",
      "K\n",
      "1485.75\n",
      "0.0\n",
      "K\n",
      "1490.95\n",
      "0.0\n",
      "K\n",
      "1625.65\n",
      "0.0\n",
      "K\n",
      "1626.05\n",
      "0.0\n",
      "K\n",
      "1626.05\n",
      "0.0\n",
      "K\n",
      "1631.35\n",
      "0.0\n",
      "K\n",
      "1741.25\n",
      "0.0\n",
      "K\n",
      "1741.25\n",
      "0.0\n",
      "K\n",
      "1741.45\n",
      "0.0\n",
      "K\n",
      "1741.55\n",
      "0.0\n",
      "K\n",
      "1748.85\n",
      "0.0\n",
      "K\n",
      "1825.25\n",
      "0.0\n",
      "K\n",
      "1825.75\n",
      "0.0\n",
      "K\n",
      "1825.95\n",
      "0.0\n",
      "K\n",
      "1831.25\n",
      "0.0\n",
      "K\n",
      "1898.15\n",
      "0.0\n",
      "K\n",
      "1898.35\n",
      "0.0\n",
      "K\n",
      "1898.55\n",
      "0.0\n",
      "K\n",
      "1904.85\n",
      "0.0\n",
      "K\n",
      "1383.55\n",
      "0.0\n",
      "K\n",
      "1383.65\n",
      "0.0\n",
      "K\n",
      "1391.45\n",
      "0.0\n",
      "K\n",
      "1404.45\n",
      "0.0\n",
      "K\n",
      "1463.75\n",
      "0.0\n",
      "K\n",
      "1464.25\n",
      "0.0\n",
      "K\n",
      "1484.75\n",
      "0.0\n",
      "K\n",
      "1484.75\n",
      "0.0\n",
      "K\n",
      "1564.65\n",
      "0.0\n",
      "K\n",
      "1573.65\n",
      "0.0\n",
      "K\n",
      "1578.15\n",
      "0.0\n",
      "K\n",
      "1385.25\n",
      "0.0\n",
      "K\n",
      "1385.35\n",
      "0.0\n",
      "K\n",
      "1392.55\n",
      "0.0\n",
      "K\n",
      "1404.55\n",
      "0.0\n",
      "K\n",
      "1464.25\n",
      "0.0\n",
      "K\n",
      "1464.85\n",
      "0.0\n",
      "K\n",
      "1486.05\n",
      "0.0\n",
      "K\n",
      "1486.85\n",
      "0.0\n",
      "K\n",
      "1564.65\n",
      "0.0\n",
      "K\n",
      "1574.35\n",
      "0.0\n",
      "K\n",
      "1579.65\n",
      "0.0\n",
      "K\n",
      "1473.15\n",
      "0.0\n",
      "K\n",
      "1404.06\n",
      "0.0\n",
      "K\n",
      "1446.17\n",
      "0.0\n",
      "K\n",
      "1474.04\n",
      "0.0\n",
      "K\n",
      "1513.16\n",
      "0.0\n",
      "K\n",
      "1376.15\n",
      "0.0\n",
      "K\n",
      "1396.15\n",
      "0.0\n",
      "K\n",
      "1416.15\n",
      "0.0\n",
      "K\n",
      "1436.15\n",
      "0.0\n",
      "K\n",
      "1456.15\n",
      "0.0\n",
      "K\n",
      "1476.15\n",
      "0.0\n",
      "K\n",
      "1496.15\n",
      "0.0\n",
      "K\n",
      "1516.15\n",
      "0.0\n",
      "K\n",
      "1536.15\n",
      "0.0\n",
      "K\n",
      "1556.15\n",
      "0.0\n",
      "K\n",
      "1356.0\n",
      "0.0\n",
      "K\n",
      "1362.0\n",
      "0.0\n",
      "K\n",
      "1368.0\n",
      "0.0\n",
      "K\n",
      "1374.0\n",
      "0.0\n",
      "K\n",
      "1380.0\n",
      "0.0\n",
      "K\n",
      "1386.0\n",
      "0.0\n",
      "K\n",
      "1392.0\n",
      "0.0\n",
      "K\n",
      "1398.0\n",
      "0.0\n",
      "K\n",
      "1404.0\n",
      "0.0\n",
      "K\n",
      "1410.0\n",
      "0.0\n",
      "K\n",
      "1416.0\n",
      "0.0\n",
      "K\n",
      "1422.0\n",
      "0.0\n",
      "K\n",
      "1428.0\n",
      "0.0\n",
      "K\n",
      "1434.0\n",
      "0.0\n",
      "K\n",
      "1440.0\n",
      "0.0\n",
      "K\n",
      "1446.0\n",
      "0.0\n",
      "K\n",
      "1452.0\n",
      "0.0\n",
      "K\n",
      "1458.0\n",
      "0.0\n",
      "K\n",
      "1464.0\n",
      "0.0\n",
      "K\n",
      "1470.0\n",
      "0.0\n",
      "K\n",
      "1476.0\n",
      "0.0\n",
      "K\n",
      "1482.0\n",
      "0.0\n",
      "K\n",
      "1488.0\n",
      "0.0\n",
      "K\n",
      "1494.0\n",
      "0.0\n",
      "K\n",
      "1500.0\n",
      "0.0\n",
      "K\n",
      "1506.0\n",
      "0.0\n",
      "K\n",
      "1512.0\n",
      "0.0\n",
      "K\n",
      "1431.0\n",
      "0.0\n",
      "K\n",
      "1436.0\n",
      "0.0\n",
      "K\n",
      "1460.0\n",
      "0.0\n",
      "K\n",
      "1551.0\n",
      "0.0\n",
      "K\n",
      "1575.0\n",
      "0.0\n",
      "K\n",
      "1615.0\n",
      "0.0\n",
      "K\n",
      "1691.0\n",
      "0.0\n",
      "K\n",
      "1705.0\n",
      "0.0\n",
      "K\n",
      "1736.0\n",
      "0.0\n",
      "K\n",
      "1807.0\n",
      "0.0\n",
      "K\n",
      "1856.0\n",
      "0.0\n",
      "K\n",
      "1872.0\n",
      "0.0\n",
      "K\n",
      "1980.0\n",
      "0.0\n",
      "K\n",
      "2022.0\n",
      "0.0\n",
      "K\n",
      "293.0\n",
      "0.0\n",
      "K\n",
      "1360.0\n",
      "0.0\n",
      "K\n",
      "1380.0\n",
      "0.0\n",
      "K\n",
      "1400.0\n",
      "0.0\n",
      "K\n",
      "1420.0\n",
      "0.0\n",
      "K\n",
      "1440.0\n",
      "0.0\n",
      "K\n",
      "1460.0\n",
      "0.0\n",
      "K\n",
      "1480.0\n",
      "0.0\n",
      "K\n",
      "1500.0\n",
      "0.0\n",
      "K\n",
      "1520.0\n",
      "0.0\n",
      "K\n",
      "1540.0\n",
      "0.0\n",
      "K\n",
      "1560.0\n",
      "0.0\n",
      "K\n",
      "1580.0\n",
      "0.0\n",
      "K\n",
      "1600.0\n",
      "0.0\n",
      "K\n",
      "1620.0\n",
      "0.0\n",
      "K\n",
      "1640.0\n",
      "0.0\n",
      "K\n",
      "1660.0\n",
      "0.0\n",
      "K\n",
      "1680.0\n",
      "0.0\n",
      "K\n",
      "1700.0\n",
      "0.0\n",
      "K\n",
      "1720.0\n",
      "0.0\n",
      "K\n",
      "1740.0\n",
      "0.0\n",
      "K\n",
      "1760.0\n",
      "0.0\n",
      "K\n",
      "1780.0\n",
      "0.0\n",
      "K\n",
      "1800.0\n",
      "0.0\n",
      "K\n",
      "1820.0\n",
      "0.0\n",
      "K\n",
      "1840.0\n",
      "0.0\n",
      "K\n",
      "1860.0\n",
      "0.0\n",
      "K\n",
      "1208.8\n",
      "0.0\n",
      "K\n",
      "1217.54\n",
      "0.0\n",
      "K\n",
      "1230.96\n",
      "0.0\n",
      "K\n",
      "1236.97\n",
      "0.0\n",
      "K\n",
      "1247.77\n",
      "0.0\n",
      "K\n",
      "1250.05\n",
      "0.0\n",
      "K\n",
      "1257.97\n",
      "0.0\n",
      "K\n",
      "1265.67\n",
      "0.0\n",
      "K\n",
      "1271.96\n",
      "0.0\n",
      "K\n",
      "1282.9\n",
      "0.0\n",
      "K\n",
      "1283.44\n",
      "0.0\n",
      "K\n",
      "1294.71\n",
      "0.0\n",
      "K\n",
      "1294.96\n",
      "0.0\n",
      "K\n",
      "1302.27\n",
      "0.0\n",
      "K\n",
      "1310.9\n",
      "0.0\n",
      "K\n",
      "1319.33\n",
      "0.0\n",
      "K\n",
      "1327.07\n",
      "0.0\n",
      "K\n",
      "1333.46\n",
      "0.0\n",
      "K\n",
      "1335.09\n",
      "0.0\n",
      "K\n",
      "1342.51\n",
      "0.0\n",
      "K\n",
      "1351.13\n",
      "0.0\n",
      "K\n",
      "1354.8\n",
      "0.0\n",
      "K\n",
      "1359.45\n",
      "0.0\n",
      "K\n",
      "1361.23\n",
      "0.0\n",
      "K\n",
      "1361.4\n",
      "0.0\n",
      "K\n",
      "1361.62\n",
      "0.0\n",
      "K\n",
      "1361.71\n",
      "0.0\n",
      "K\n",
      "1361.79\n",
      "0.0\n",
      "K\n",
      "1361.8\n",
      "0.0\n",
      "K\n",
      "1362.4\n",
      "0.0\n",
      "K\n",
      "1362.73\n",
      "0.0\n",
      "K\n",
      "1363.63\n",
      "0.0\n",
      "K\n",
      "1359.05\n",
      "0.0\n",
      "K\n",
      "1366.64\n",
      "0.0\n",
      "K\n",
      "1376.4\n",
      "0.0\n",
      "K\n",
      "1377.44\n",
      "0.0\n",
      "K\n",
      "1387.34\n",
      "0.0\n",
      "K\n",
      "1400.75\n",
      "0.0\n",
      "K\n",
      "1401.64\n",
      "0.0\n",
      "K\n",
      "1411.12\n",
      "0.0\n",
      "K\n",
      "1420.03\n",
      "0.0\n",
      "K\n",
      "1421.31\n",
      "0.0\n",
      "K\n",
      "1431.98\n",
      "0.0\n",
      "K\n",
      "1440.87\n",
      "0.0\n",
      "K\n",
      "1450.77\n",
      "0.0\n",
      "K\n",
      "1453.85\n",
      "0.0\n",
      "K\n",
      "1462.44\n",
      "0.0\n",
      "K\n",
      "1468.14\n",
      "0.0\n",
      "K\n",
      "1478.19\n",
      "0.0\n",
      "K\n",
      "1484.33\n",
      "0.0\n",
      "K\n",
      "1499.04\n",
      "0.0\n",
      "K\n",
      "1507.95\n",
      "0.0\n",
      "K\n",
      "1518.59\n",
      "0.0\n",
      "K\n",
      "1529.67\n",
      "0.0\n",
      "K\n",
      "1539.15\n",
      "0.0\n",
      "K\n",
      "1556.94\n",
      "0.0\n",
      "K\n",
      "1563.08\n",
      "0.0\n",
      "K\n",
      "1563.67\n",
      "0.0\n",
      "K\n",
      "1577.35\n",
      "0.0\n",
      "K\n",
      "1588.87\n",
      "0.0\n",
      "K\n",
      "1598.95\n",
      "0.0\n",
      "K\n",
      "1611.91\n",
      "0.0\n",
      "K\n",
      "1624.02\n",
      "0.0\n",
      "K\n",
      "1634.8\n",
      "0.0\n",
      "K\n",
      "293.15\n",
      "0.0\n",
      "K\n",
      "1360.0\n",
      "0.0\n",
      "K\n",
      "1370.0\n",
      "0.0\n",
      "K\n",
      "1380.0\n",
      "0.0\n",
      "K\n",
      "1390.0\n",
      "0.0\n",
      "K\n",
      "1400.0\n",
      "0.0\n",
      "K\n",
      "1410.0\n",
      "0.0\n",
      "K\n",
      "1420.0\n",
      "0.0\n",
      "K\n",
      "1430.0\n",
      "0.0\n",
      "K\n",
      "1440.0\n",
      "0.0\n",
      "K\n",
      "1450.0\n",
      "0.0\n",
      "K\n",
      "1460.0\n",
      "0.0\n",
      "K\n",
      "1470.0\n",
      "0.0\n",
      "K\n",
      "1480.0\n",
      "0.0\n",
      "K\n",
      "1490.0\n",
      "0.0\n",
      "K\n",
      "1500.0\n",
      "0.0\n",
      "K\n",
      "1510.0\n",
      "0.0\n",
      "K\n",
      "1520.0\n",
      "0.0\n",
      "K\n",
      "1530.0\n",
      "0.0\n",
      "K\n",
      "1540.0\n",
      "0.0\n",
      "K\n",
      "1550.0\n",
      "0.0\n",
      "K\n",
      "1560.0\n",
      "0.0\n",
      "K\n",
      "1570.0\n",
      "0.0\n",
      "K\n",
      "1580.0\n",
      "0.0\n",
      "K\n",
      "1590.0\n",
      "0.0\n",
      "K\n",
      "1600.0\n",
      "0.0\n",
      "K\n",
      "1610.0\n",
      "0.0\n",
      "K\n",
      "1620.0\n",
      "0.0\n",
      "K\n",
      "1630.0\n",
      "0.0\n",
      "K\n",
      "1640.0\n",
      "0.0\n",
      "K\n",
      "1650.0\n",
      "0.0\n",
      "K\n",
      "1660.0\n",
      "0.0\n",
      "K\n",
      "1670.0\n",
      "0.0\n",
      "K\n",
      "1680.0\n",
      "0.0\n",
      "K\n",
      "1690.0\n",
      "0.0\n",
      "K\n",
      "1700.0\n",
      "0.0\n",
      "K\n",
      "1710.0\n",
      "0.0\n",
      "K\n",
      "1720.0\n",
      "0.0\n",
      "K\n",
      "1730.0\n",
      "0.0\n",
      "K\n",
      "1740.0\n",
      "0.0\n",
      "K\n",
      "1750.0\n",
      "0.0\n",
      "K\n",
      "1760.0\n",
      "0.0\n",
      "K\n",
      "1770.0\n",
      "0.0\n",
      "K\n",
      "1780.0\n",
      "0.0\n",
      "K\n",
      "1790.0\n",
      "0.0\n",
      "K\n",
      "1800.0\n",
      "0.0\n",
      "K\n",
      "1810.0\n",
      "0.0\n",
      "K\n",
      "1820.0\n",
      "0.0\n",
      "K\n",
      "1830.0\n",
      "0.0\n",
      "K\n",
      "1840.0\n",
      "0.0\n",
      "K\n",
      "1850.0\n",
      "0.0\n",
      "K\n",
      "1860.0\n",
      "0.0\n",
      "K\n",
      "1870.0\n",
      "0.0\n",
      "K\n",
      "1880.0\n",
      "0.0\n",
      "K\n",
      "1890.0\n",
      "0.0\n",
      "K\n",
      "1900.0\n",
      "0.0\n",
      "K\n",
      "1318.4\n",
      "0.0\n",
      "K\n",
      "1333.7\n",
      "0.0\n",
      "K\n",
      "1347.7\n",
      "0.0\n",
      "K\n",
      "1369.1\n",
      "0.0\n",
      "K\n",
      "1371.8\n",
      "0.0\n",
      "K\n",
      "1374.3\n",
      "0.0\n",
      "K\n",
      "1381.1\n",
      "0.0\n",
      "K\n",
      "1405.7\n",
      "0.0\n",
      "K\n",
      "1407.7\n",
      "0.0\n",
      "K\n",
      "1413.2\n",
      "0.0\n",
      "K\n",
      "1427.8\n",
      "0.0\n",
      "K\n",
      "1458.2\n",
      "0.0\n",
      "K\n",
      "1506.5\n",
      "0.0\n",
      "K\n",
      "1539.3\n",
      "0.0\n",
      "K\n",
      "1539.9\n",
      "0.0\n",
      "K\n",
      "1650.8\n",
      "0.0\n",
      "K\n",
      "1400.15\n",
      "0.0\n",
      "K\n",
      "1490.15\n",
      "0.0\n",
      "K\n",
      "1564.15\n",
      "0.0\n",
      "K\n",
      "1652.15\n",
      "0.0\n",
      "K\n",
      "1711.15\n",
      "0.0\n",
      "K\n",
      "1798.15\n",
      "0.0\n",
      "K\n",
      "1399.95\n",
      "0.0\n",
      "K\n",
      "1490.25\n",
      "0.0\n",
      "K\n",
      "1564.18\n",
      "0.0\n",
      "K\n",
      "1652.0\n",
      "0.0\n",
      "K\n",
      "1711.32\n",
      "0.0\n",
      "K\n",
      "1798.12\n",
      "0.0\n",
      "K\n",
      "1400.55\n",
      "0.0\n",
      "K\n",
      "1490.55\n",
      "0.0\n",
      "K\n",
      "1564.95\n",
      "0.0\n",
      "K\n",
      "1652.95\n",
      "0.0\n",
      "K\n",
      "1711.85\n",
      "0.0\n",
      "K\n",
      "1798.65\n",
      "0.0\n",
      "K\n",
      "1773.0\n",
      "0.0\n",
      "K\n",
      "1400.55\n",
      "0.0\n",
      "K\n",
      "1490.64\n",
      "0.0\n",
      "K\n",
      "1564.37\n",
      "0.0\n",
      "K\n",
      "1652.75\n",
      "0.0\n",
      "K\n",
      "1711.68\n",
      "0.0\n",
      "K\n",
      "1798.35\n",
      "0.0\n",
      "K\n",
      "1756.15\n",
      "0.0\n",
      "K\n",
      "1400.15\n",
      "0.0\n",
      "K\n",
      "1490.15\n",
      "0.0\n",
      "K\n",
      "1564.15\n",
      "0.0\n",
      "K\n",
      "1652.15\n",
      "0.0\n",
      "K\n",
      "1711.15\n",
      "0.0\n",
      "K\n",
      "1798.15\n",
      "0.0\n",
      "K\n",
      "1372.8\n",
      "0.0\n",
      "K\n",
      "1372.91\n",
      "0.0\n",
      "K\n",
      "1423.16\n",
      "0.0\n",
      "K\n",
      "1473.07\n",
      "0.0\n",
      "K\n",
      "1473.28\n",
      "0.0\n",
      "K\n",
      "1522.86\n",
      "0.0\n",
      "K\n",
      "1572.44\n",
      "0.0\n",
      "K\n",
      "1572.79\n",
      "0.0\n",
      "K\n",
      "1623.08\n",
      "0.0\n",
      "K\n",
      "1623.13\n",
      "0.0\n",
      "K\n",
      "1323.0\n",
      "0.0\n",
      "K\n",
      "1326.45\n",
      "0.0\n",
      "K\n",
      "1329.9\n",
      "0.0\n",
      "K\n",
      "1333.34\n",
      "0.0\n",
      "K\n",
      "1336.79\n",
      "0.0\n",
      "K\n",
      "1340.24\n",
      "0.0\n",
      "K\n",
      "1343.69\n",
      "0.0\n",
      "K\n",
      "1347.14\n",
      "0.0\n",
      "K\n",
      "1350.59\n",
      "0.0\n",
      "K\n",
      "1354.03\n",
      "0.0\n",
      "K\n",
      "1357.48\n",
      "0.0\n",
      "K\n",
      "1360.93\n",
      "0.0\n",
      "K\n",
      "1364.38\n",
      "0.0\n",
      "K\n",
      "1367.83\n",
      "0.0\n",
      "K\n",
      "1371.28\n",
      "0.0\n",
      "K\n",
      "1374.72\n",
      "0.0\n",
      "K\n",
      "1378.17\n",
      "0.0\n",
      "K\n",
      "1381.62\n",
      "0.0\n",
      "K\n",
      "1385.07\n",
      "0.0\n",
      "K\n",
      "1388.52\n",
      "0.0\n",
      "K\n",
      "1391.97\n",
      "0.0\n",
      "K\n",
      "1395.41\n",
      "0.0\n",
      "K\n",
      "1398.86\n",
      "0.0\n",
      "K\n",
      "1402.31\n",
      "0.0\n",
      "K\n",
      "1405.76\n",
      "0.0\n",
      "K\n",
      "1409.21\n",
      "0.0\n",
      "K\n",
      "1412.66\n",
      "0.0\n",
      "K\n",
      "1416.1\n",
      "0.0\n",
      "K\n",
      "1419.55\n",
      "0.0\n",
      "K\n",
      "1423.0\n",
      "0.0\n",
      "K\n",
      "1356.0\n",
      "0.0\n",
      "K\n",
      "1399.8\n",
      "0.0\n",
      "K\n",
      "1450.0\n",
      "0.0\n",
      "K\n",
      "1499.8\n",
      "0.0\n",
      "K\n",
      "1549.9\n",
      "0.0\n",
      "K\n",
      "1599.8\n",
      "0.0\n",
      "K\n",
      "1649.8\n",
      "0.0\n",
      "K\n",
      "1699.9\n",
      "0.0\n",
      "K\n",
      "1750.0\n",
      "0.0\n",
      "K\n",
      "1799.8\n",
      "0.0\n",
      "K\n",
      "1849.8\n",
      "0.0\n",
      "K\n",
      "1356.1\n",
      "0.0\n",
      "K\n",
      "1400.0\n",
      "0.0\n",
      "K\n",
      "1450.1\n",
      "0.0\n",
      "K\n",
      "1500.0\n",
      "0.0\n",
      "K\n",
      "1550.1\n",
      "0.0\n",
      "K\n",
      "1600.0\n",
      "0.0\n",
      "K\n",
      "1650.0\n",
      "0.0\n",
      "K\n",
      "1699.9\n",
      "0.0\n",
      "K\n",
      "1750.1\n",
      "0.0\n",
      "K\n",
      "1799.9\n",
      "0.0\n",
      "K\n",
      "1850.2\n",
      "0.0\n",
      "K\n",
      "1399.18\n",
      "0.0\n",
      "K\n",
      "1488.63\n",
      "0.0\n",
      "K\n",
      "1562.71\n",
      "0.0\n",
      "K\n",
      "1651.57\n",
      "0.0\n",
      "K\n",
      "1710.87\n",
      "0.0\n",
      "K\n",
      "1797.56\n",
      "0.0\n",
      "K\n",
      "1363.06\n",
      "0.0\n",
      "K\n",
      "1373.12\n",
      "0.0\n",
      "K\n",
      "1100.0\n",
      "0.0\n",
      "K\n",
      "1115.0\n",
      "0.0\n",
      "K\n",
      "1130.0\n",
      "0.0\n",
      "K\n",
      "1145.0\n",
      "0.0\n",
      "K\n",
      "1160.0\n",
      "0.0\n",
      "K\n",
      "1175.0\n",
      "0.0\n",
      "K\n",
      "1190.0\n",
      "0.0\n",
      "K\n",
      "1205.0\n",
      "0.0\n",
      "K\n",
      "1220.0\n",
      "0.0\n",
      "K\n",
      "1235.0\n",
      "0.0\n",
      "K\n",
      "1250.0\n",
      "0.0\n",
      "K\n",
      "1265.0\n",
      "0.0\n",
      "K\n",
      "1280.0\n",
      "0.0\n",
      "K\n",
      "1295.0\n",
      "0.0\n",
      "K\n",
      "1310.0\n",
      "0.0\n",
      "K\n",
      "1325.0\n",
      "0.0\n",
      "K\n",
      "1340.0\n",
      "0.0\n",
      "K\n",
      "1356.0\n",
      "0.0\n",
      "K\n",
      "1356.0\n",
      "0.0\n",
      "K\n",
      "1396.0\n",
      "0.0\n",
      "K\n",
      "1436.0\n",
      "0.0\n",
      "K\n",
      "1476.0\n",
      "0.0\n",
      "K\n",
      "1516.0\n",
      "0.0\n",
      "K\n",
      "1556.0\n",
      "0.0\n",
      "K\n",
      "1596.0\n",
      "0.0\n",
      "K\n",
      "1636.0\n",
      "0.0\n",
      "K\n",
      "1676.0\n",
      "0.0\n",
      "K\n",
      "1716.0\n",
      "0.0\n",
      "K\n",
      "1756.0\n",
      "0.0\n",
      "K\n",
      "1796.0\n",
      "0.0\n",
      "K\n",
      "1836.0\n",
      "0.0\n",
      "K\n",
      "1876.0\n",
      "0.0\n",
      "K\n",
      "1916.0\n",
      "0.0\n",
      "K\n",
      "1956.0\n",
      "0.0\n",
      "K\n",
      "2000.0\n",
      "0.0\n",
      "K\n",
      "1352.14\n",
      "0.0\n",
      "K\n",
      "1357.91\n",
      "0.0\n",
      "K\n",
      "1362.25\n",
      "0.0\n",
      "K\n",
      "1369.88\n",
      "0.0\n",
      "K\n",
      "1371.94\n",
      "0.0\n",
      "K\n",
      "1373.8\n",
      "0.0\n",
      "K\n",
      "1377.1\n",
      "0.0\n",
      "K\n",
      "1382.06\n",
      "0.0\n",
      "K\n",
      "1385.35\n",
      "0.0\n",
      "K\n",
      "1390.1\n",
      "0.0\n",
      "K\n",
      "1392.16\n",
      "0.0\n",
      "K\n",
      "1402.07\n",
      "0.0\n",
      "K\n",
      "1403.92\n",
      "0.0\n",
      "K\n",
      "1407.43\n",
      "0.0\n",
      "K\n",
      "1415.69\n",
      "0.0\n",
      "K\n",
      "1424.97\n",
      "0.0\n",
      "K\n",
      "1427.03\n",
      "0.0\n",
      "K\n",
      "1432.4\n",
      "0.0\n",
      "K\n",
      "1442.51\n",
      "0.0\n",
      "K\n",
      "1444.57\n",
      "0.0\n",
      "K\n",
      "1449.11\n",
      "0.0\n",
      "K\n",
      "1454.26\n",
      "0.0\n",
      "K\n",
      "1461.08\n",
      "0.0\n",
      "K\n",
      "1466.65\n",
      "0.0\n",
      "K\n",
      "1468.3\n",
      "0.0\n",
      "K\n",
      "1474.28\n",
      "0.0\n",
      "K\n",
      "1477.17\n",
      "0.0\n",
      "K\n",
      "1487.9\n",
      "0.0\n",
      "K\n",
      "1488.11\n",
      "0.0\n",
      "K\n",
      "1493.46\n",
      "0.0\n",
      "K\n",
      "1497.59\n",
      "0.0\n",
      "K\n",
      "1507.7\n",
      "0.0\n",
      "K\n",
      "1507.91\n",
      "0.0\n",
      "K\n",
      "1514.92\n",
      "0.0\n",
      "K\n",
      "1516.58\n",
      "0.0\n",
      "K\n",
      "1526.27\n",
      "0.0\n",
      "K\n",
      "1526.69\n",
      "0.0\n",
      "K\n",
      "1533.29\n",
      "0.0\n",
      "K\n",
      "1536.8\n",
      "0.0\n",
      "K\n",
      "1543.39\n",
      "0.0\n",
      "K\n",
      "1546.08\n",
      "0.0\n",
      "K\n",
      "1552.27\n",
      "0.0\n",
      "K\n",
      "1557.02\n",
      "0.0\n",
      "K\n",
      "1564.03\n",
      "0.0\n",
      "K\n",
      "1564.65\n",
      "0.0\n",
      "K\n",
      "1570.22\n",
      "0.0\n",
      "K\n",
      "1575.59\n",
      "0.0\n",
      "K\n",
      "1583.01\n",
      "0.0\n",
      "K\n",
      "1584.45\n",
      "0.0\n",
      "K\n",
      "1589.82\n",
      "0.0\n",
      "K\n",
      "1596.22\n",
      "0.0\n",
      "K\n",
      "1602.82\n",
      "0.0\n",
      "K\n",
      "1603.02\n",
      "0.0\n",
      "K\n",
      "1610.04\n",
      "0.0\n",
      "K\n",
      "1618.09\n",
      "0.0\n",
      "K\n",
      "1621.59\n",
      "0.0\n",
      "K\n",
      "1622.63\n",
      "0.0\n",
      "K\n",
      "1634.0\n",
      "0.0\n",
      "K\n",
      "1638.91\n",
      "0.0\n",
      "K\n",
      "1642.51\n",
      "0.0\n",
      "K\n",
      "1642.84\n",
      "0.0\n",
      "K\n",
      "1654.3\n",
      "0.0\n",
      "K\n",
      "1656.11\n",
      "0.0\n",
      "K\n",
      "1661.84\n",
      "0.0\n",
      "K\n",
      "1662.98\n",
      "0.0\n",
      "K\n",
      "1672.32\n",
      "0.0\n",
      "K\n",
      "1672.65\n",
      "0.0\n",
      "K\n",
      "1681.49\n",
      "0.0\n",
      "K\n",
      "1682.15\n",
      "0.0\n",
      "K\n",
      "1693.11\n",
      "0.0\n",
      "K\n",
      "1694.92\n",
      "0.0\n",
      "K\n",
      "1699.83\n",
      "0.0\n",
      "K\n",
      "1699.99\n",
      "0.0\n",
      "K\n",
      "1715.22\n",
      "0.0\n",
      "K\n",
      "1715.72\n",
      "0.0\n",
      "K\n",
      "1718.33\n",
      "0.0\n",
      "K\n",
      "1733.56\n",
      "0.0\n",
      "K\n",
      "1733.73\n",
      "0.0\n",
      "K\n",
      "1740.44\n",
      "0.0\n",
      "K\n",
      "1743.39\n",
      "0.0\n",
      "K\n",
      "1758.13\n",
      "0.0\n",
      "K\n",
      "1767.79\n",
      "0.0\n",
      "K\n",
      "323.35\n",
      "0.0\n",
      "K\n",
      "324.13\n",
      "0.0\n",
      "K\n",
      "332.36\n",
      "0.0\n",
      "K\n",
      "335.89\n",
      "0.0\n",
      "K\n",
      "345.49\n",
      "0.0\n",
      "K\n",
      "347.25\n",
      "0.0\n",
      "K\n",
      "359.59\n",
      "0.0\n",
      "K\n",
      "361.55\n",
      "0.0\n",
      "K\n",
      "379.77\n",
      "0.0\n",
      "K\n",
      "380.36\n",
      "0.0\n",
      "K\n",
      "397.41\n",
      "0.0\n",
      "K\n",
      "400.15\n",
      "0.0\n",
      "K\n",
      "411.12\n",
      "0.0\n",
      "K\n",
      "418.96\n",
      "0.0\n",
      "K\n",
      "424.64\n",
      "0.0\n",
      "K\n",
      "435.81\n",
      "0.0\n",
      "K\n",
      "439.14\n",
      "0.0\n",
      "K\n",
      "456.38\n",
      "0.0\n",
      "K\n",
      "461.28\n",
      "0.0\n",
      "K\n",
      "480.09\n",
      "0.0\n",
      "K\n",
      "484.59\n",
      "0.0\n",
      "K\n",
      "498.31\n",
      "0.0\n",
      "K\n",
      "504.97\n",
      "0.0\n",
      "K\n",
      "519.08\n",
      "0.0\n",
      "K\n",
      "523.78\n",
      "0.0\n",
      "K\n",
      "533.77\n",
      "0.0\n",
      "K\n",
      "541.8\n",
      "0.0\n",
      "K\n",
      "553.17\n",
      "0.0\n",
      "K\n",
      "563.94\n",
      "0.0\n",
      "K\n",
      "571.39\n",
      "0.0\n",
      "K\n",
      "583.14\n",
      "0.0\n",
      "K\n",
      "599.8\n",
      "0.0\n",
      "K\n",
      "601.95\n",
      "0.0\n",
      "K\n",
      "618.02\n",
      "0.0\n",
      "K\n",
      "623.31\n",
      "0.0\n",
      "K\n",
      "633.89\n",
      "0.0\n",
      "K\n",
      "641.72\n",
      "0.0\n",
      "K\n",
      "650.34\n",
      "0.0\n",
      "K\n",
      "659.16\n",
      "0.0\n",
      "K\n",
      "668.57\n",
      "0.0\n",
      "K\n",
      "680.13\n",
      "0.0\n",
      "K\n",
      "689.33\n",
      "0.0\n",
      "K\n",
      "701.68\n",
      "0.0\n",
      "K\n",
      "707.55\n",
      "0.0\n",
      "K\n",
      "722.84\n",
      "0.0\n",
      "K\n",
      "726.56\n",
      "0.0\n",
      "K\n",
      "742.82\n",
      "0.0\n",
      "K\n",
      "744.0\n",
      "0.0\n",
      "K\n",
      "764.37\n",
      "0.0\n",
      "K\n",
      "765.55\n",
      "0.0\n",
      "K\n",
      "783.18\n",
      "0.0\n",
      "K\n",
      "784.75\n",
      "0.0\n",
      "K\n",
      "795.13\n",
      "0.0\n",
      "K\n",
      "805.71\n",
      "0.0\n",
      "K\n",
      "812.37\n",
      "0.0\n",
      "K\n",
      "825.5\n",
      "0.0\n",
      "K\n",
      "839.8\n",
      "0.0\n",
      "K\n",
      "844.11\n",
      "0.0\n",
      "K\n",
      "860.57\n",
      "0.0\n",
      "K\n",
      "864.1\n",
      "0.0\n",
      "K\n",
      "884.47\n",
      "0.0\n",
      "K\n",
      "887.02\n",
      "0.0\n",
      "K\n",
      "904.85\n",
      "0.0\n",
      "K\n",
      "923.86\n",
      "0.0\n",
      "K\n",
      "926.21\n",
      "0.0\n",
      "K\n",
      "943.06\n",
      "0.0\n",
      "K\n",
      "963.82\n",
      "0.0\n",
      "K\n",
      "964.41\n",
      "0.0\n",
      "K\n",
      "984.2\n",
      "0.0\n",
      "K\n",
      "1006.14\n",
      "0.0\n",
      "K\n",
      "1023.39\n",
      "0.0\n",
      "K\n",
      "1028.28\n",
      "0.0\n",
      "K\n",
      "1043.96\n",
      "0.0\n",
      "K\n",
      "1048.86\n",
      "0.0\n",
      "K\n",
      "1065.12\n",
      "0.0\n",
      "K\n",
      "1083.34\n",
      "0.0\n",
      "K\n",
      "1087.65\n",
      "0.0\n",
      "K\n",
      "1105.09\n",
      "0.0\n",
      "K\n",
      "1105.28\n",
      "0.0\n",
      "K\n",
      "1126.44\n",
      "0.0\n",
      "K\n",
      "1132.12\n",
      "0.0\n",
      "K\n",
      "1142.9\n",
      "0.0\n",
      "K\n",
      "1150.93\n",
      "0.0\n",
      "K\n",
      "1169.35\n",
      "0.0\n",
      "K\n",
      "1169.55\n",
      "0.0\n",
      "K\n",
      "1189.14\n",
      "0.0\n",
      "K\n",
      "1191.88\n",
      "0.0\n",
      "K\n",
      "1209.71\n",
      "0.0\n",
      "K\n",
      "1209.91\n",
      "0.0\n",
      "K\n",
      "1224.99\n",
      "0.0\n",
      "K\n",
      "1234.59\n",
      "0.0\n",
      "K\n",
      "1247.52\n",
      "0.0\n",
      "K\n",
      "1252.42\n",
      "0.0\n",
      "K\n",
      "1270.25\n",
      "0.0\n",
      "K\n",
      "1274.76\n",
      "0.0\n",
      "K\n",
      "1290.43\n",
      "0.0\n",
      "K\n",
      "1295.72\n",
      "0.0\n",
      "K\n",
      "1305.71\n",
      "0.0\n",
      "K\n",
      "1312.96\n",
      "0.0\n",
      "K\n",
      "1320.02\n",
      "0.0\n",
      "K\n",
      "1327.26\n",
      "0.0\n",
      "K\n",
      "1341.96\n",
      "0.0\n",
      "K\n",
      "1373.15\n",
      "0.0\n",
      "K\n",
      "1423.15\n",
      "0.0\n",
      "K\n",
      "1473.15\n",
      "0.0\n",
      "K\n",
      "1523.15\n",
      "0.0\n",
      "K\n",
      "1573.15\n",
      "0.0\n",
      "K\n",
      "1623.15\n",
      "0.0\n",
      "K\n",
      "1673.15\n",
      "0.0\n",
      "K\n",
      "293.15\n",
      "0.0\n",
      "K\n",
      "373.15\n",
      "0.0\n",
      "K\n",
      "473.15\n",
      "0.0\n",
      "K\n",
      "573.15\n",
      "0.0\n",
      "K\n",
      "673.15\n",
      "0.0\n",
      "K\n",
      "773.15\n",
      "0.0\n",
      "K\n",
      "873.15\n",
      "0.0\n",
      "K\n",
      "973.15\n",
      "0.0\n",
      "K\n",
      "1073.15\n",
      "0.0\n",
      "K\n",
      "1173.15\n",
      "0.0\n",
      "K\n",
      "1273.15\n",
      "0.0\n",
      "K\n",
      "1373.15\n",
      "0.0\n",
      "K\n",
      "1423.15\n",
      "0.0\n",
      "K\n",
      "1473.15\n",
      "0.0\n",
      "K\n",
      "1523.15\n",
      "0.0\n",
      "K\n",
      "1573.15\n",
      "0.0\n",
      "K\n",
      "1623.15\n",
      "0.0\n",
      "K\n",
      "1673.15\n",
      "0.0\n",
      "K\n",
      "1523.15\n",
      "0.0\n",
      "K\n",
      "1447.3\n",
      "0.0\n",
      "K\n",
      "1471.0\n",
      "0.0\n",
      "K\n",
      "1489.4\n",
      "0.0\n",
      "K\n",
      "1491.6\n",
      "0.0\n",
      "K\n",
      "1491.8\n",
      "0.0\n",
      "K\n",
      "1492.5\n",
      "0.0\n",
      "K\n",
      "1577.2\n",
      "0.0\n",
      "K\n",
      "1605.6\n",
      "0.0\n",
      "K\n",
      "1637.0\n",
      "0.0\n",
      "K\n",
      "1714.0\n",
      "0.0\n",
      "K\n",
      "1714.2\n",
      "0.0\n",
      "K\n",
      "1717.4\n",
      "0.0\n",
      "K\n",
      "1763.0\n",
      "0.0\n",
      "K\n",
      "1765.8\n",
      "0.0\n",
      "K\n",
      "1769.8\n",
      "0.0\n",
      "K\n",
      "1773.7\n",
      "0.0\n",
      "K\n",
      "1783.7\n",
      "0.0\n",
      "K\n",
      "2019.0\n",
      "0.0\n",
      "K\n",
      "2022.6\n",
      "0.0\n",
      "K\n",
      "2085.3\n",
      "0.0\n",
      "K\n",
      "2086.6\n",
      "0.0\n",
      "K\n",
      "2119.8\n",
      "0.0\n",
      "K\n",
      "2159.3\n",
      "0.0\n",
      "K\n",
      "2188.4\n",
      "0.0\n",
      "K\n",
      "2195.4\n",
      "0.0\n",
      "K\n",
      "2229.3\n",
      "0.0\n",
      "K\n",
      "2239.1\n",
      "0.0\n",
      "K\n",
      "2244.3\n",
      "0.0\n",
      "K\n",
      "2247.5\n",
      "0.0\n",
      "K\n",
      "2248.3\n",
      "0.0\n",
      "K\n",
      "2253.6\n",
      "0.0\n",
      "K\n",
      "2254.9\n",
      "0.0\n",
      "K\n",
      "2263.6\n",
      "0.0\n",
      "K\n",
      "2265.7\n",
      "0.0\n",
      "K\n",
      "2266.6\n",
      "0.0\n",
      "K\n",
      "2268.8\n",
      "0.0\n",
      "K\n",
      "2271.8\n",
      "0.0\n",
      "K\n",
      "2272.8\n",
      "0.0\n",
      "K\n",
      "2278.4\n",
      "0.0\n",
      "K\n",
      "2285.2\n",
      "0.0\n",
      "K\n",
      "2290.2\n",
      "0.0\n",
      "K\n",
      "2293.0\n",
      "0.0\n",
      "K\n",
      "2298.3\n",
      "0.0\n",
      "K\n",
      "2299.3\n",
      "0.0\n",
      "K\n",
      "2312.7\n",
      "0.0\n",
      "K\n",
      "2314.7\n",
      "0.0\n",
      "K\n",
      "2316.0\n",
      "0.0\n",
      "K\n",
      "2328.3\n",
      "0.0\n",
      "K\n",
      "2348.3\n",
      "0.0\n",
      "K\n",
      "2405.1\n",
      "0.0\n",
      "K\n",
      "2410.7\n",
      "0.0\n",
      "K\n",
      "1450.0\n",
      "0.0\n",
      "K\n",
      "1500.0\n",
      "0.0\n",
      "K\n",
      "1550.0\n",
      "0.0\n",
      "K\n",
      "1600.0\n",
      "0.0\n",
      "K\n",
      "1650.0\n",
      "0.0\n",
      "K\n",
      "1700.0\n",
      "0.0\n",
      "K\n",
      "1750.0\n",
      "0.0\n",
      "K\n",
      "1800.0\n",
      "0.0\n",
      "K\n",
      "1850.0\n",
      "0.0\n",
      "K\n",
      "1900.0\n",
      "0.0\n",
      "K\n",
      "1950.0\n",
      "0.0\n",
      "K\n",
      "2000.0\n",
      "0.0\n",
      "K\n",
      "2050.0\n",
      "0.0\n",
      "K\n",
      "2100.0\n",
      "0.0\n",
      "K\n",
      "2150.0\n",
      "0.0\n",
      "K\n",
      "2200.0\n",
      "0.0\n",
      "K\n",
      "2250.0\n",
      "0.0\n",
      "K\n",
      "2300.0\n",
      "0.0\n",
      "K\n",
      "2350.0\n",
      "0.0\n",
      "K\n",
      "2400.0\n",
      "0.0\n",
      "K\n",
      "1352.6\n",
      "0.0\n",
      "K\n",
      "1352.6\n",
      "0.0\n",
      "K\n",
      "1353.0\n",
      "0.0\n",
      "K\n",
      "1363.9\n",
      "0.0\n",
      "K\n",
      "1375.1\n",
      "0.0\n",
      "K\n",
      "1376.8\n",
      "0.0\n",
      "K\n",
      "1396.7\n",
      "0.0\n",
      "K\n",
      "1407.6\n",
      "0.0\n",
      "K\n",
      "1416.2\n",
      "0.0\n",
      "K\n",
      "1418.4\n",
      "0.0\n",
      "K\n",
      "1418.5\n",
      "0.0\n",
      "K\n",
      "1433.8\n",
      "0.0\n",
      "K\n",
      "1440.4\n",
      "0.0\n",
      "K\n",
      "1445.3\n",
      "0.0\n",
      "K\n",
      "1454.3\n",
      "0.0\n",
      "K\n",
      "1472.4\n",
      "0.0\n",
      "K\n",
      "1474.4\n",
      "0.0\n",
      "K\n",
      "1477.5\n",
      "0.0\n",
      "K\n",
      "1498.4\n",
      "0.0\n",
      "K\n",
      "1502.5\n",
      "0.0\n",
      "K\n",
      "1520.9\n",
      "0.0\n",
      "K\n",
      "1523.7\n",
      "0.0\n",
      "K\n",
      "1532.1\n",
      "0.0\n",
      "K\n",
      "1544.0\n",
      "0.0\n",
      "K\n",
      "1544.9\n",
      "0.0\n",
      "K\n",
      "1547.4\n",
      "0.0\n",
      "K\n",
      "1553.7\n",
      "0.0\n",
      "K\n",
      "1555.8\n",
      "0.0\n",
      "K\n",
      "1567.7\n",
      "0.0\n",
      "K\n",
      "1576.2\n",
      "0.0\n",
      "K\n",
      "1579.9\n",
      "0.0\n",
      "K\n",
      "1582.0\n",
      "0.0\n",
      "K\n",
      "1594.1\n",
      "0.0\n",
      "K\n",
      "1595.1\n",
      "0.0\n",
      "K\n",
      "1603.4\n",
      "0.0\n",
      "K\n",
      "1620.3\n",
      "0.0\n",
      "K\n",
      "1625.7\n",
      "0.0\n",
      "K\n",
      "1645.1\n",
      "0.0\n",
      "K\n",
      "1651.8\n",
      "0.0\n",
      "K\n",
      "1654.8\n",
      "0.0\n",
      "K\n",
      "1656.9\n",
      "0.0\n",
      "K\n",
      "1659.6\n",
      "0.0\n",
      "K\n",
      "1671.2\n",
      "0.0\n",
      "K\n",
      "1684.8\n",
      "0.0\n",
      "K\n",
      "1702.3\n",
      "0.0\n",
      "K\n",
      "1355.0\n",
      "0.0\n",
      "K\n",
      "1400.0\n",
      "0.0\n",
      "K\n",
      "1450.0\n",
      "0.0\n",
      "K\n",
      "1500.0\n",
      "0.0\n",
      "K\n",
      "1550.0\n",
      "0.0\n",
      "K\n",
      "1600.0\n",
      "0.0\n",
      "K\n",
      "1650.0\n",
      "0.0\n",
      "K\n",
      "1700.0\n",
      "0.0\n",
      "K\n"
     ]
    }
   ],
   "metadata": {}
  },
  {
   "cell_type": "code",
   "execution_count": 8,
   "source": [
    "import plotly.express as px\r\n",
    "import math\r\n",
    "\r\n",
    "x = []\r\n",
    "y = []\r\n",
    "\r\n",
    "n = 0\r\n",
    "for a, b, c in zip(df['Representation'], df['State'], df[f'{y_lab}: {des_un_prop}']):\r\n",
    "    if (a != rep) and (rep != False): # drops all data points which don't have wanted represenation\r\n",
    "        df = df.drop(df.index[n], axis = 0)\r\n",
    "        n -= 1\r\n",
    "    elif (b != [state]) and (state != False): # drops all points which don't have the wanted state\r\n",
    "        df = df.drop(df.index[n], axis = 0)\r\n",
    "        n -= 1\r\n",
    "    elif math.isnan(c): # drops all data points which have a None value in the property\r\n",
    "        df = df.drop(df.index[n], axis = 0)\r\n",
    "        n -= 1\r\n",
    "    n += 1\r\n",
    "\r\n",
    "if show_uncertainty: # plots graph with uncertainty\r\n",
    "    fig = px.scatter(df, x=f'{x_lab}: {des_un_var}',y=f'{y_lab}: {des_un_prop}', title=str(compound), color='Data Set ID', hover_data=[df['Ref Temp'], df.State, df.Representation, df.Method, df.Description, df.Year], error_y='Uncertainty', height=600)\r\n",
    "else: # plots graph without uncertainty\r\n",
    "    fig = px.scatter(df, x=f'{x_lab}: {des_un_var}',y=f'{y_lab}: {des_un_prop}', title=str(compound), color='Data Set ID', hover_data=[df['Ref Temp'], df.State, df.Representation, df.Method, df.Description, df.Year], height=600)\r\n",
    "\r\n",
    "fig.show()"
   ],
   "outputs": [
    {
     "output_type": "display_data",
     "data": {
      "application/vnd.plotly.v1+json": {
       "config": {
        "plotlyServerURL": "https://plot.ly"
       },
       "data": [
        {
         "customdata": [
          [
           "N/A",
           [
            "C"
           ],
           "A",
           "False",
           "origin: synthesized by others,99.5 weight % (total),",
           1893
          ]
         ],
         "error_y": {
          "array": [
           4.43
          ]
         },
         "hovertemplate": "Data Set ID=226<br>Temperature: F=%{x}<br>Specific density: kg/m**3=%{y}<br>Ref Temp=%{customdata[0]}<br>State=%{customdata[1]}<br>Representation=%{customdata[2]}<br>Method=%{customdata[3]}<br>Description=%{customdata[4]}<br>Year=%{customdata[5]}<extra></extra>",
         "legendgroup": "226",
         "marker": {
          "color": "#636efa",
          "symbol": "circle"
         },
         "mode": "markers",
         "name": "226",
         "orientation": "v",
         "showlegend": true,
         "type": "scatter",
         "x": [
          64.4
         ],
         "xaxis": "x",
         "y": [
          8860
         ],
         "yaxis": "y"
        },
        {
         "customdata": [
          [
           "N/A",
           [
            "C"
           ],
           "A",
           "True",
           "not stated",
           1908
          ]
         ],
         "error_y": {
          "array": [
           null
          ]
         },
         "hovertemplate": "Data Set ID=523<br>Temperature: F=%{x}<br>Specific density: kg/m**3=%{y}<br>Ref Temp=%{customdata[0]}<br>State=%{customdata[1]}<br>Representation=%{customdata[2]}<br>Method=%{customdata[3]}<br>Description=%{customdata[4]}<br>Year=%{customdata[5]}<extra></extra>",
         "legendgroup": "523",
         "marker": {
          "color": "#EF553B",
          "symbol": "circle"
         },
         "mode": "markers",
         "name": "523",
         "orientation": "v",
         "showlegend": true,
         "type": "scatter",
         "x": [
          73.4
         ],
         "xaxis": "x",
         "y": [
          8840
         ],
         "yaxis": "y"
        },
        {
         "customdata": [
          [
           "N/A",
           [
            "C"
           ],
           "A",
           "Buoyancy - hydrostatic balance with magnetic suspension - one sinker",
           "not stated",
           1922
          ]
         ],
         "error_y": {
          "array": [
           89.2
          ]
         },
         "hovertemplate": "Data Set ID=1375<br>Temperature: F=%{x}<br>Specific density: kg/m**3=%{y}<br>Ref Temp=%{customdata[0]}<br>State=%{customdata[1]}<br>Representation=%{customdata[2]}<br>Method=%{customdata[3]}<br>Description=%{customdata[4]}<br>Year=%{customdata[5]}<extra></extra>",
         "legendgroup": "1375",
         "marker": {
          "color": "#00cc96",
          "symbol": "circle"
         },
         "mode": "markers",
         "name": "1375",
         "orientation": "v",
         "showlegend": true,
         "type": "scatter",
         "x": [
          68
         ],
         "xaxis": "x",
         "y": [
          8920
         ],
         "yaxis": "y"
        },
        {
         "customdata": [
          [
           "N/A",
           [
            "C"
           ],
           "A",
           "X-ray diffraction",
           "origin: commercial source,99.98 % (total),stated by supplier",
           1924
          ]
         ],
         "error_y": {
          "array": [
           27
          ]
         },
         "hovertemplate": "Data Set ID=1658<br>Temperature: F=%{x}<br>Specific density: kg/m**3=%{y}<br>Ref Temp=%{customdata[0]}<br>State=%{customdata[1]}<br>Representation=%{customdata[2]}<br>Method=%{customdata[3]}<br>Description=%{customdata[4]}<br>Year=%{customdata[5]}<extra></extra>",
         "legendgroup": "1658",
         "marker": {
          "color": "#ab63fa",
          "symbol": "circle"
         },
         "mode": "markers",
         "name": "1658",
         "orientation": "v",
         "showlegend": true,
         "type": "scatter",
         "x": [
          69.80000000000001
         ],
         "xaxis": "x",
         "y": [
          9002
         ],
         "yaxis": "y"
        },
        {
         "customdata": [
          [
           "N/A",
           [
            "C"
           ],
           "A",
           "buoyancy - indirect, in liquid salts",
           "not stated",
           1929
          ],
          [
           "N/A",
           [
            "C"
           ],
           "A",
           "buoyancy - indirect, in liquid salts",
           "not stated",
           1929
          ],
          [
           "N/A",
           [
            "C"
           ],
           "A",
           "buoyancy - indirect, in liquid salts",
           "not stated",
           1929
          ]
         ],
         "error_y": {
          "array": [
           44.6,
           42.35,
           42.05
          ]
         },
         "hovertemplate": "Data Set ID=2696<br>Temperature: F=%{x}<br>Specific density: kg/m**3=%{y}<br>Ref Temp=%{customdata[0]}<br>State=%{customdata[1]}<br>Representation=%{customdata[2]}<br>Method=%{customdata[3]}<br>Description=%{customdata[4]}<br>Year=%{customdata[5]}<extra></extra>",
         "legendgroup": "2696",
         "marker": {
          "color": "#FFA15A",
          "symbol": "circle"
         },
         "mode": "markers",
         "name": "2696",
         "orientation": "v",
         "showlegend": true,
         "type": "scatter",
         "x": [
          64.4,
          1652.0000000000002,
          1832.0000000000002
         ],
         "xaxis": "x",
         "y": [
          8920,
          8470,
          8410
         ],
         "yaxis": "y"
        },
        {
         "customdata": [
          [
           "N/A",
           [
            "L"
           ],
           "A",
           "buoyancy - indirect, in liquid salts",
           "not stated",
           1929
          ],
          [
           "N/A",
           [
            "L"
           ],
           "A",
           "buoyancy - indirect, in liquid salts",
           "not stated",
           1929
          ]
         ],
         "error_y": {
          "array": [
           39.8,
           39.05
          ]
         },
         "hovertemplate": "Data Set ID=2697<br>Temperature: F=%{x}<br>Specific density: kg/m**3=%{y}<br>Ref Temp=%{customdata[0]}<br>State=%{customdata[1]}<br>Representation=%{customdata[2]}<br>Method=%{customdata[3]}<br>Description=%{customdata[4]}<br>Year=%{customdata[5]}<extra></extra>",
         "legendgroup": "2697",
         "marker": {
          "color": "#19d3f3",
          "symbol": "circle"
         },
         "mode": "markers",
         "name": "2697",
         "orientation": "v",
         "showlegend": true,
         "type": "scatter",
         "x": [
          2012,
          2192
         ],
         "xaxis": "x",
         "y": [
          7960,
          7810
         ],
         "yaxis": "y"
        },
        {
         "customdata": [
          [
           "N/A",
           [
            "C"
           ],
           "A",
           "Buoyancy - hydrostatic balance with magnetic suspension - one sinker",
           "not stated",
           1930
          ]
         ],
         "error_y": {
          "array": [
           44.35
          ]
         },
         "hovertemplate": "Data Set ID=3005<br>Temperature: F=%{x}<br>Specific density: kg/m**3=%{y}<br>Ref Temp=%{customdata[0]}<br>State=%{customdata[1]}<br>Representation=%{customdata[2]}<br>Method=%{customdata[3]}<br>Description=%{customdata[4]}<br>Year=%{customdata[5]}<extra></extra>",
         "legendgroup": "3005",
         "marker": {
          "color": "#FF6692",
          "symbol": "circle"
         },
         "mode": "markers",
         "name": "3005",
         "orientation": "v",
         "showlegend": true,
         "type": "scatter",
         "x": [
          67.73000000000005
         ],
         "xaxis": "x",
         "y": [
          8870
         ],
         "yaxis": "y"
        },
        {
         "customdata": [
          [
           "N/A",
           [
            "L"
           ],
           "A",
           "True",
           "not stated",
           1930
          ],
          [
           "N/A",
           [
            "L"
           ],
           "A",
           "True",
           "not stated",
           1930
          ],
          [
           "N/A",
           [
            "L"
           ],
           "A",
           "True",
           "not stated",
           1930
          ],
          [
           "N/A",
           [
            "L"
           ],
           "A",
           "True",
           "not stated",
           1930
          ],
          [
           "N/A",
           [
            "L"
           ],
           "A",
           "True",
           "not stated",
           1930
          ],
          [
           "N/A",
           [
            "L"
           ],
           "A",
           "True",
           "not stated",
           1930
          ]
         ],
         "error_y": {
          "array": [
           39.6,
           39.2,
           38.8,
           38.45,
           38.1,
           37.65
          ]
         },
         "hovertemplate": "Data Set ID=3051<br>Temperature: F=%{x}<br>Specific density: kg/m**3=%{y}<br>Ref Temp=%{customdata[0]}<br>State=%{customdata[1]}<br>Representation=%{customdata[2]}<br>Method=%{customdata[3]}<br>Description=%{customdata[4]}<br>Year=%{customdata[5]}<extra></extra>",
         "legendgroup": "3051",
         "marker": {
          "color": "#B6E880",
          "symbol": "circle"
         },
         "mode": "markers",
         "name": "3051",
         "orientation": "v",
         "showlegend": true,
         "type": "scatter",
         "x": [
          2012,
          2192,
          2372,
          2552,
          2732,
          2912
         ],
         "xaxis": "x",
         "y": [
          7920,
          7840,
          7760,
          7690,
          7620,
          7530
         ],
         "yaxis": "y"
        },
        {
         "customdata": [
          [
           "N/A",
           [
            "C"
           ],
           "A",
           "weighting of known geometry",
           "origin: commercial source",
           1933
          ]
         ],
         "error_y": {
          "array": [
           50
          ]
         },
         "hovertemplate": "Data Set ID=3318<br>Temperature: F=%{x}<br>Specific density: kg/m**3=%{y}<br>Ref Temp=%{customdata[0]}<br>State=%{customdata[1]}<br>Representation=%{customdata[2]}<br>Method=%{customdata[3]}<br>Description=%{customdata[4]}<br>Year=%{customdata[5]}<extra></extra>",
         "legendgroup": "3318",
         "marker": {
          "color": "#FF97FF",
          "symbol": "circle"
         },
         "mode": "markers",
         "name": "3318",
         "orientation": "v",
         "showlegend": true,
         "type": "scatter",
         "x": [
          69.80000000000001
         ],
         "xaxis": "x",
         "y": [
          8900
         ],
         "yaxis": "y"
        },
        {
         "customdata": [
          [
           "N/A",
           [
            "C"
           ],
           "A",
           "Pycnometric method",
           "origin: commercial source,99.5 weight % (total),estimated by the compiler,wire",
           1934
          ]
         ],
         "error_y": {
          "array": [
           0.5
          ]
         },
         "hovertemplate": "Data Set ID=3668<br>Temperature: F=%{x}<br>Specific density: kg/m**3=%{y}<br>Ref Temp=%{customdata[0]}<br>State=%{customdata[1]}<br>Representation=%{customdata[2]}<br>Method=%{customdata[3]}<br>Description=%{customdata[4]}<br>Year=%{customdata[5]}<extra></extra>",
         "legendgroup": "3668",
         "marker": {
          "color": "#FECB52",
          "symbol": "circle"
         },
         "mode": "markers",
         "name": "3668",
         "orientation": "v",
         "showlegend": true,
         "type": "scatter",
         "x": [
          70.16000000000008
         ],
         "xaxis": "x",
         "y": [
          8920.9
         ],
         "yaxis": "y"
        },
        {
         "customdata": [
          [
           "N/A",
           [
            "C"
           ],
           "A",
           "Pycnometric method",
           "origin: commercial source,99.5 weight % (total),estimated by the compiler,wire",
           1934
          ]
         ],
         "error_y": {
          "array": [
           0.2
          ]
         },
         "hovertemplate": "Data Set ID=3669<br>Temperature: F=%{x}<br>Specific density: kg/m**3=%{y}<br>Ref Temp=%{customdata[0]}<br>State=%{customdata[1]}<br>Representation=%{customdata[2]}<br>Method=%{customdata[3]}<br>Description=%{customdata[4]}<br>Year=%{customdata[5]}<extra></extra>",
         "legendgroup": "3669",
         "marker": {
          "color": "#636efa",
          "symbol": "circle"
         },
         "mode": "markers",
         "name": "3669",
         "orientation": "v",
         "showlegend": true,
         "type": "scatter",
         "x": [
          71.6
         ],
         "xaxis": "x",
         "y": [
          8914
         ],
         "yaxis": "y"
        },
        {
         "customdata": [
          [
           "N/A",
           [
            "L"
           ],
           "A",
           "Sessile drop method",
           "not stated",
           1949
          ],
          [
           "N/A",
           [
            "L"
           ],
           "A",
           "Sessile drop method",
           "not stated",
           1949
          ],
          [
           "N/A",
           [
            "L"
           ],
           "A",
           "Sessile drop method",
           "not stated",
           1949
          ],
          [
           "N/A",
           [
            "L"
           ],
           "A",
           "Sessile drop method",
           "not stated",
           1949
          ],
          [
           "N/A",
           [
            "L"
           ],
           "A",
           "Sessile drop method",
           "not stated",
           1949
          ],
          [
           "N/A",
           [
            "L"
           ],
           "A",
           "Sessile drop method",
           "not stated",
           1949
          ],
          [
           "N/A",
           [
            "L"
           ],
           "A",
           "Sessile drop method",
           "not stated",
           1949
          ],
          [
           "N/A",
           [
            "L"
           ],
           "A",
           "Sessile drop method",
           "not stated",
           1949
          ]
         ],
         "error_y": {
          "array": [
           166,
           164.6,
           165.2,
           161,
           161.8,
           158.6,
           158.8,
           159.8
          ]
         },
         "hovertemplate": "Data Set ID=5503<br>Temperature: F=%{x}<br>Specific density: kg/m**3=%{y}<br>Ref Temp=%{customdata[0]}<br>State=%{customdata[1]}<br>Representation=%{customdata[2]}<br>Method=%{customdata[3]}<br>Description=%{customdata[4]}<br>Year=%{customdata[5]}<extra></extra>",
         "legendgroup": "5503",
         "marker": {
          "color": "#EF553B",
          "symbol": "circle"
         },
         "mode": "markers",
         "name": "5503",
         "orientation": "v",
         "showlegend": true,
         "type": "scatter",
         "x": [
          2012,
          2102,
          2192,
          2282,
          2372,
          2462,
          2552,
          2642
         ],
         "xaxis": "x",
         "y": [
          8300,
          8230,
          8260,
          8050,
          8090,
          7930,
          7940,
          7990
         ],
         "yaxis": "y"
        },
        {
         "customdata": [
          [
           "N/A",
           [
            "C"
           ],
           "A",
           "measured dimensions and weights",
           "origin: commercial source",
           1956
          ]
         ],
         "error_y": {
          "array": [
           null
          ]
         },
         "hovertemplate": "Data Set ID=8030<br>Temperature: F=%{x}<br>Specific density: kg/m**3=%{y}<br>Ref Temp=%{customdata[0]}<br>State=%{customdata[1]}<br>Representation=%{customdata[2]}<br>Method=%{customdata[3]}<br>Description=%{customdata[4]}<br>Year=%{customdata[5]}<extra></extra>",
         "legendgroup": "8030",
         "marker": {
          "color": "#00cc96",
          "symbol": "circle"
         },
         "mode": "markers",
         "name": "8030",
         "orientation": "v",
         "showlegend": true,
         "type": "scatter",
         "x": [
          69.80000000000001
         ],
         "xaxis": "x",
         "y": [
          8920
         ],
         "yaxis": "y"
        },
        {
         "customdata": [
          [
           "N/A",
           [
            "C"
           ],
           "A",
           "weighing a measured volume on chemical balance",
           "origin: commercial source,99.98 weight % (total),stated by supplier,rod",
           1957
          ]
         ],
         "error_y": {
          "array": [
           88.99
          ]
         },
         "hovertemplate": "Data Set ID=8586<br>Temperature: F=%{x}<br>Specific density: kg/m**3=%{y}<br>Ref Temp=%{customdata[0]}<br>State=%{customdata[1]}<br>Representation=%{customdata[2]}<br>Method=%{customdata[3]}<br>Description=%{customdata[4]}<br>Year=%{customdata[5]}<extra></extra>",
         "legendgroup": "8586",
         "marker": {
          "color": "#ab63fa",
          "symbol": "circle"
         },
         "mode": "markers",
         "name": "8586",
         "orientation": "v",
         "showlegend": true,
         "type": "scatter",
         "x": [
          76.73000000000005
         ],
         "xaxis": "x",
         "y": [
          8899
         ],
         "yaxis": "y"
        },
        {
         "customdata": [
          [
           "N/A",
           [
            "C"
           ],
           "A",
           "weighing a measured volume on chemical balance",
           "origin: commercial source,99.98 weight % (total),stated by supplier,rod",
           1957
          ]
         ],
         "error_y": {
          "array": [
           89.14
          ]
         },
         "hovertemplate": "Data Set ID=8587<br>Temperature: F=%{x}<br>Specific density: kg/m**3=%{y}<br>Ref Temp=%{customdata[0]}<br>State=%{customdata[1]}<br>Representation=%{customdata[2]}<br>Method=%{customdata[3]}<br>Description=%{customdata[4]}<br>Year=%{customdata[5]}<extra></extra>",
         "legendgroup": "8587",
         "marker": {
          "color": "#FFA15A",
          "symbol": "circle"
         },
         "mode": "markers",
         "name": "8587",
         "orientation": "v",
         "showlegend": true,
         "type": "scatter",
         "x": [
          76.73000000000005
         ],
         "xaxis": "x",
         "y": [
          8914
         ],
         "yaxis": "y"
        },
        {
         "customdata": [
          [
           "N/A",
           [
            "C"
           ],
           "A",
           "not stated",
           "origin: commercial source,99.99 weight % (total),stated by supplier",
           1957
          ]
         ],
         "error_y": {
          "array": [
           50
          ]
         },
         "hovertemplate": "Data Set ID=8596<br>Temperature: F=%{x}<br>Specific density: kg/m**3=%{y}<br>Ref Temp=%{customdata[0]}<br>State=%{customdata[1]}<br>Representation=%{customdata[2]}<br>Method=%{customdata[3]}<br>Description=%{customdata[4]}<br>Year=%{customdata[5]}<extra></extra>",
         "legendgroup": "8596",
         "marker": {
          "color": "#19d3f3",
          "symbol": "circle"
         },
         "mode": "markers",
         "name": "8596",
         "orientation": "v",
         "showlegend": true,
         "type": "scatter",
         "x": [
          69.80000000000001
         ],
         "xaxis": "x",
         "y": [
          8900
         ],
         "yaxis": "y"
        },
        {
         "customdata": [
          [
           "N/A",
           [
            "L"
           ],
           "A",
           "Maximum bubble pressure",
           "not stated",
           1961
          ],
          [
           "N/A",
           [
            "L"
           ],
           "A",
           "Maximum bubble pressure",
           "not stated",
           1961
          ],
          [
           "N/A",
           [
            "L"
           ],
           "A",
           "Maximum bubble pressure",
           "not stated",
           1961
          ],
          [
           "N/A",
           [
            "L"
           ],
           "A",
           "Maximum bubble pressure",
           "not stated",
           1961
          ],
          [
           "N/A",
           [
            "L"
           ],
           "A",
           "Maximum bubble pressure",
           "not stated",
           1961
          ],
          [
           "N/A",
           [
            "L"
           ],
           "A",
           "Maximum bubble pressure",
           "not stated",
           1961
          ]
         ],
         "error_y": {
          "array": [
           44.5,
           57.7,
           49.1,
           27.5,
           34.8,
           35.4
          ]
         },
         "hovertemplate": "Data Set ID=10732<br>Temperature: F=%{x}<br>Specific density: kg/m**3=%{y}<br>Ref Temp=%{customdata[0]}<br>State=%{customdata[1]}<br>Representation=%{customdata[2]}<br>Method=%{customdata[3]}<br>Description=%{customdata[4]}<br>Year=%{customdata[5]}<extra></extra>",
         "legendgroup": "10732",
         "marker": {
          "color": "#FF6692",
          "symbol": "circle"
         },
         "mode": "markers",
         "name": "10732",
         "orientation": "v",
         "showlegend": true,
         "type": "scatter",
         "x": [
          2118.6680000000006,
          2282.3599999999997,
          2352.8840000000005,
          2394.1760000000004,
          2459.9120000000003,
          2621.2459999999996
         ],
         "xaxis": "x",
         "y": [
          7982.7,
          7924.2,
          7849.9,
          7856.1,
          7814.6,
          7739.7
         ],
         "yaxis": "y"
        },
        {
         "customdata": [
          [
           "N/A",
           [
            "L"
           ],
           "A",
           "Immersed Sinker",
           "not stated,99.97 % (total),",
           1962
          ],
          [
           "N/A",
           [
            "L"
           ],
           "A",
           "Immersed Sinker",
           "not stated,99.97 % (total),",
           1962
          ],
          [
           "N/A",
           [
            "L"
           ],
           "A",
           "Immersed Sinker",
           "not stated,99.97 % (total),",
           1962
          ],
          [
           "N/A",
           [
            "L"
           ],
           "A",
           "Immersed Sinker",
           "not stated,99.97 % (total),",
           1962
          ],
          [
           "N/A",
           [
            "L"
           ],
           "A",
           "Immersed Sinker",
           "not stated,99.97 % (total),",
           1962
          ],
          [
           "N/A",
           [
            "L"
           ],
           "A",
           "Immersed Sinker",
           "not stated,99.97 % (total),",
           1962
          ],
          [
           "N/A",
           [
            "L"
           ],
           "A",
           "Immersed Sinker",
           "not stated,99.97 % (total),",
           1962
          ],
          [
           "N/A",
           [
            "L"
           ],
           "A",
           "Immersed Sinker",
           "not stated,99.97 % (total),",
           1962
          ],
          [
           "N/A",
           [
            "L"
           ],
           "A",
           "Immersed Sinker",
           "not stated,99.97 % (total),",
           1962
          ],
          [
           "N/A",
           [
            "L"
           ],
           "A",
           "Immersed Sinker",
           "not stated,99.97 % (total),",
           1962
          ],
          [
           "N/A",
           [
            "L"
           ],
           "A",
           "Immersed Sinker",
           "not stated,99.97 % (total),",
           1962
          ],
          [
           "N/A",
           [
            "L"
           ],
           "A",
           "Immersed Sinker",
           "not stated,99.97 % (total),",
           1962
          ],
          [
           "N/A",
           [
            "L"
           ],
           "A",
           "Immersed Sinker",
           "not stated,99.97 % (total),",
           1962
          ],
          [
           "N/A",
           [
            "L"
           ],
           "A",
           "Immersed Sinker",
           "not stated,99.97 % (total),",
           1962
          ],
          [
           "N/A",
           [
            "L"
           ],
           "A",
           "Immersed Sinker",
           "not stated,99.97 % (total),",
           1962
          ],
          [
           "N/A",
           [
            "L"
           ],
           "A",
           "Immersed Sinker",
           "not stated,99.97 % (total),",
           1962
          ],
          [
           "N/A",
           [
            "L"
           ],
           "A",
           "Immersed Sinker",
           "not stated,99.97 % (total),",
           1962
          ],
          [
           "N/A",
           [
            "L"
           ],
           "A",
           "Immersed Sinker",
           "not stated,99.97 % (total),",
           1962
          ],
          [
           "N/A",
           [
            "L"
           ],
           "A",
           "Immersed Sinker",
           "not stated,99.97 % (total),",
           1962
          ],
          [
           "N/A",
           [
            "L"
           ],
           "A",
           "Immersed Sinker",
           "not stated,99.97 % (total),",
           1962
          ],
          [
           "N/A",
           [
            "L"
           ],
           "A",
           "Immersed Sinker",
           "not stated,99.97 % (total),",
           1962
          ],
          [
           "N/A",
           [
            "L"
           ],
           "A",
           "Immersed Sinker",
           "not stated,99.97 % (total),",
           1962
          ],
          [
           "N/A",
           [
            "L"
           ],
           "A",
           "Immersed Sinker",
           "not stated,99.97 % (total),",
           1962
          ],
          [
           "N/A",
           [
            "L"
           ],
           "A",
           "Immersed Sinker",
           "not stated,99.97 % (total),",
           1962
          ],
          [
           "N/A",
           [
            "L"
           ],
           "A",
           "Immersed Sinker",
           "not stated,99.97 % (total),",
           1962
          ],
          [
           "N/A",
           [
            "L"
           ],
           "A",
           "Immersed Sinker",
           "not stated,99.97 % (total),",
           1962
          ],
          [
           "N/A",
           [
            "L"
           ],
           "A",
           "Immersed Sinker",
           "not stated,99.97 % (total),",
           1962
          ],
          [
           "N/A",
           [
            "L"
           ],
           "A",
           "Immersed Sinker",
           "not stated,99.97 % (total),",
           1962
          ],
          [
           "N/A",
           [
            "L"
           ],
           "A",
           "Immersed Sinker",
           "not stated,99.97 % (total),",
           1962
          ],
          [
           "N/A",
           [
            "L"
           ],
           "A",
           "Immersed Sinker",
           "not stated,99.97 % (total),",
           1962
          ],
          [
           "N/A",
           [
            "L"
           ],
           "A",
           "Immersed Sinker",
           "not stated,99.97 % (total),",
           1962
          ],
          [
           "N/A",
           [
            "L"
           ],
           "A",
           "Immersed Sinker",
           "not stated,99.97 % (total),",
           1962
          ],
          [
           "N/A",
           [
            "L"
           ],
           "A",
           "Immersed Sinker",
           "not stated,99.97 % (total),",
           1962
          ]
         ],
         "error_y": {
          "array": [
           78.56,
           78.43,
           78.35,
           78.23,
           78.12,
           77.3,
           77.79,
           77.26,
           77.72,
           77.52,
           77.34,
           76.9,
           77.08,
           76.66,
           76.54,
           76.39,
           76.48,
           76.23,
           75.97,
           75.93,
           75.51,
           75.9,
           75.52,
           75.36,
           75.7,
           75.36,
           75.14,
           74.39,
           75.05,
           74.41,
           74.7,
           74.31,
           73.86
          ]
         },
         "hovertemplate": "Data Set ID=11199<br>Temperature: F=%{x}<br>Specific density: kg/m**3=%{y}<br>Ref Temp=%{customdata[0]}<br>State=%{customdata[1]}<br>Representation=%{customdata[2]}<br>Method=%{customdata[3]}<br>Description=%{customdata[4]}<br>Year=%{customdata[5]}<extra></extra>",
         "legendgroup": "11199",
         "marker": {
          "color": "#B6E880",
          "symbol": "circle"
         },
         "mode": "markers",
         "name": "11199",
         "orientation": "v",
         "showlegend": true,
         "type": "scatter",
         "x": [
          2283.5299999999997,
          2301.5299999999997,
          2333.93,
          2378.93,
          2440.13,
          2492.33,
          2503.13,
          2513.93,
          2521.13,
          2542.73,
          2621.93,
          2643.5299999999997,
          2654.33,
          2681.33,
          2722.73,
          2755.13,
          2794.73,
          2834.33,
          2854.13,
          2886.5299999999997,
          2944.13,
          2949.5299999999997,
          2972.93,
          2989.13,
          2992.73,
          3005.33,
          3034.13,
          3089.93,
          3097.13,
          3109.73,
          3199.73,
          3228.5299999999997,
          3284.33
         ],
         "xaxis": "x",
         "y": [
          7856,
          7843,
          7835,
          7823,
          7812,
          7730,
          7779,
          7726,
          7772,
          7752,
          7734,
          7690,
          7708,
          7666,
          7654,
          7639,
          7648,
          7623,
          7597,
          7593,
          7551,
          7590,
          7552,
          7536,
          7570,
          7536,
          7514,
          7439,
          7505,
          7441,
          7470,
          7431,
          7386
         ],
         "yaxis": "y"
        },
        {
         "customdata": [
          [
           "N/A",
           [
            "L"
           ],
           "A",
           "Immersed Sinker",
           "not stated,99.97 % (total),",
           1962
          ],
          [
           "N/A",
           [
            "L"
           ],
           "A",
           "Immersed Sinker",
           "not stated,99.97 % (total),",
           1962
          ],
          [
           "N/A",
           [
            "L"
           ],
           "A",
           "Immersed Sinker",
           "not stated,99.97 % (total),",
           1962
          ],
          [
           "N/A",
           [
            "L"
           ],
           "A",
           "Immersed Sinker",
           "not stated,99.97 % (total),",
           1962
          ],
          [
           "N/A",
           [
            "L"
           ],
           "A",
           "Immersed Sinker",
           "not stated,99.97 % (total),",
           1962
          ],
          [
           "N/A",
           [
            "L"
           ],
           "A",
           "Immersed Sinker",
           "not stated,99.97 % (total),",
           1962
          ],
          [
           "N/A",
           [
            "L"
           ],
           "A",
           "Immersed Sinker",
           "not stated,99.97 % (total),",
           1962
          ],
          [
           "N/A",
           [
            "L"
           ],
           "A",
           "Immersed Sinker",
           "not stated,99.97 % (total),",
           1962
          ],
          [
           "N/A",
           [
            "L"
           ],
           "A",
           "Immersed Sinker",
           "not stated,99.97 % (total),",
           1962
          ],
          [
           "N/A",
           [
            "L"
           ],
           "A",
           "Immersed Sinker",
           "not stated,99.97 % (total),",
           1962
          ]
         ],
         "error_y": {
          "array": [
           73.24,
           73.93,
           73.4,
           73.16,
           72.94,
           72.79,
           73.07,
           71.85,
           71.69,
           70.42
          ]
         },
         "hovertemplate": "Data Set ID=11200<br>Temperature: F=%{x}<br>Specific density: kg/m**3=%{y}<br>Ref Temp=%{customdata[0]}<br>State=%{customdata[1]}<br>Representation=%{customdata[2]}<br>Method=%{customdata[3]}<br>Description=%{customdata[4]}<br>Year=%{customdata[5]}<extra></extra>",
         "legendgroup": "11200",
         "marker": {
          "color": "#FF97FF",
          "symbol": "circle"
         },
         "mode": "markers",
         "name": "11200",
         "orientation": "v",
         "showlegend": true,
         "type": "scatter",
         "x": [
          3340.13,
          3359.93,
          3505.73,
          3527.33,
          3545.33,
          3566.93,
          3572.33,
          3716.33,
          3745.13,
          4040.33
         ],
         "xaxis": "x",
         "y": [
          7324,
          7393,
          7340,
          7316,
          7294,
          7279,
          7307,
          7185,
          7169,
          7042
         ],
         "yaxis": "y"
        },
        {
         "customdata": [
          [
           "N/A",
           [
            "L"
           ],
           "A",
           "Shadow graph",
           "not stated,99.992 % (total),",
           1963
          ],
          [
           "N/A",
           [
            "L"
           ],
           "A",
           "Shadow graph",
           "not stated,99.992 % (total),",
           1963
          ],
          [
           "N/A",
           [
            "L"
           ],
           "A",
           "Shadow graph",
           "not stated,99.992 % (total),",
           1963
          ],
          [
           "N/A",
           [
            "L"
           ],
           "A",
           "Shadow graph",
           "not stated,99.992 % (total),",
           1963
          ],
          [
           "N/A",
           [
            "L"
           ],
           "A",
           "Shadow graph",
           "not stated,99.992 % (total),",
           1963
          ],
          [
           "N/A",
           [
            "L"
           ],
           "A",
           "Shadow graph",
           "not stated,99.992 % (total),",
           1963
          ],
          [
           "N/A",
           [
            "L"
           ],
           "A",
           "Shadow graph",
           "not stated,99.992 % (total),",
           1963
          ],
          [
           "N/A",
           [
            "L"
           ],
           "A",
           "Shadow graph",
           "not stated,99.992 % (total),",
           1963
          ],
          [
           "N/A",
           [
            "L"
           ],
           "A",
           "Shadow graph",
           "not stated,99.992 % (total),",
           1963
          ],
          [
           "N/A",
           [
            "L"
           ],
           "A",
           "Shadow graph",
           "not stated,99.992 % (total),",
           1963
          ],
          [
           "N/A",
           [
            "L"
           ],
           "A",
           "Shadow graph",
           "not stated,99.992 % (total),",
           1963
          ],
          [
           "N/A",
           [
            "L"
           ],
           "A",
           "Shadow graph",
           "not stated,99.992 % (total),",
           1963
          ],
          [
           "N/A",
           [
            "L"
           ],
           "A",
           "Shadow graph",
           "not stated,99.992 % (total),",
           1963
          ],
          [
           "N/A",
           [
            "L"
           ],
           "A",
           "Shadow graph",
           "not stated,99.992 % (total),",
           1963
          ],
          [
           "N/A",
           [
            "L"
           ],
           "A",
           "Shadow graph",
           "not stated,99.992 % (total),",
           1963
          ],
          [
           "N/A",
           [
            "L"
           ],
           "A",
           "Shadow graph",
           "not stated,99.992 % (total),",
           1963
          ],
          [
           "N/A",
           [
            "L"
           ],
           "A",
           "Shadow graph",
           "not stated,99.992 % (total),",
           1963
          ],
          [
           "N/A",
           [
            "L"
           ],
           "A",
           "Shadow graph",
           "not stated,99.992 % (total),",
           1963
          ]
         ],
         "error_y": {
          "array": [
           243.009,
           242.397,
           241.494,
           240.618,
           238.812,
           239.115,
           236.103,
           234.915,
           234.903,
           234.312,
           233.685,
           233.082,
           231.891,
           227.388,
           226.449,
           223.158,
           220.272,
           220.167
          ]
         },
         "hovertemplate": "Data Set ID=12048<br>Temperature: F=%{x}<br>Specific density: kg/m**3=%{y}<br>Ref Temp=%{customdata[0]}<br>State=%{customdata[1]}<br>Representation=%{customdata[2]}<br>Method=%{customdata[3]}<br>Description=%{customdata[4]}<br>Year=%{customdata[5]}<extra></extra>",
         "legendgroup": "12048",
         "marker": {
          "color": "#FECB52",
          "symbol": "circle"
         },
         "mode": "markers",
         "name": "12048",
         "orientation": "v",
         "showlegend": true,
         "type": "scatter",
         "x": [
          1995.5840000000003,
          1995.908,
          2030.7379999999998,
          2151.842,
          2151.8959999999997,
          2222.5640000000003,
          2369.1200000000003,
          2423.6780000000003,
          2458.544,
          2493.6620000000003,
          2636.456,
          2637.3920000000003,
          2705.828,
          2910.92,
          3089.822,
          3270.7039999999997,
          3345.692,
          3353.036
         ],
         "xaxis": "x",
         "y": [
          8100.3,
          8079.9,
          8049.8,
          8020.6,
          7960.4,
          7970.5,
          7870.1,
          7830.5,
          7830.1,
          7810.4,
          7789.5,
          7769.4,
          7729.7,
          7579.6,
          7548.3,
          7438.6,
          7342.4,
          7338.9
         ],
         "yaxis": "y"
        },
        {
         "customdata": [
          [
           "N/A",
           [
            "L"
           ],
           "A",
           "Shadow graph",
           "not stated,99.992 % (total),",
           1963
          ],
          [
           "N/A",
           [
            "L"
           ],
           "A",
           "Shadow graph",
           "not stated,99.992 % (total),",
           1963
          ],
          [
           "N/A",
           [
            "L"
           ],
           "A",
           "Shadow graph",
           "not stated,99.992 % (total),",
           1963
          ],
          [
           "N/A",
           [
            "L"
           ],
           "A",
           "Shadow graph",
           "not stated,99.992 % (total),",
           1963
          ],
          [
           "N/A",
           [
            "L"
           ],
           "A",
           "Shadow graph",
           "not stated,99.992 % (total),",
           1963
          ],
          [
           "N/A",
           [
            "L"
           ],
           "A",
           "Shadow graph",
           "not stated,99.992 % (total),",
           1963
          ],
          [
           "N/A",
           [
            "L"
           ],
           "A",
           "Shadow graph",
           "not stated,99.992 % (total),",
           1963
          ],
          [
           "N/A",
           [
            "L"
           ],
           "A",
           "Shadow graph",
           "not stated,99.992 % (total),",
           1963
          ],
          [
           "N/A",
           [
            "L"
           ],
           "A",
           "Shadow graph",
           "not stated,99.992 % (total),",
           1963
          ]
         ],
         "error_y": {
          "array": [
           161.8,
           160.96,
           159.08,
           157.18,
           155.3,
           153.4,
           151.52,
           149.64,
           147.74
          ]
         },
         "hovertemplate": "Data Set ID=12049<br>Temperature: F=%{x}<br>Specific density: kg/m**3=%{y}<br>Ref Temp=%{customdata[0]}<br>State=%{customdata[1]}<br>Representation=%{customdata[2]}<br>Method=%{customdata[3]}<br>Description=%{customdata[4]}<br>Year=%{customdata[5]}<extra></extra>",
         "legendgroup": "12049",
         "marker": {
          "color": "#636efa",
          "symbol": "circle"
         },
         "mode": "markers",
         "name": "12049",
         "orientation": "v",
         "showlegend": true,
         "type": "scatter",
         "x": [
          1981.4,
          2060.6000000000004,
          2240.6,
          2420.6,
          2600.6,
          2780.6,
          2960.6,
          3140.6,
          3320.6
         ],
         "xaxis": "x",
         "y": [
          8090,
          8048,
          7954,
          7859,
          7765,
          7670,
          7576,
          7482,
          7387
         ],
         "yaxis": "y"
        },
        {
         "customdata": [
          [
           "N/A",
           [
            "L"
           ],
           "A",
           "Shadow graph",
           "not stated,99.992 % (total),",
           1963
          ],
          [
           "N/A",
           [
            "L"
           ],
           "A",
           "Shadow graph",
           "not stated,99.992 % (total),",
           1963
          ],
          [
           "N/A",
           [
            "L"
           ],
           "A",
           "Shadow graph",
           "not stated,99.992 % (total),",
           1963
          ],
          [
           "N/A",
           [
            "L"
           ],
           "A",
           "Shadow graph",
           "not stated,99.992 % (total),",
           1963
          ],
          [
           "N/A",
           [
            "L"
           ],
           "A",
           "Shadow graph",
           "not stated,99.992 % (total),",
           1963
          ],
          [
           "N/A",
           [
            "L"
           ],
           "A",
           "Shadow graph",
           "not stated,99.992 % (total),",
           1963
          ],
          [
           "N/A",
           [
            "L"
           ],
           "A",
           "Shadow graph",
           "not stated,99.992 % (total),",
           1963
          ],
          [
           "N/A",
           [
            "L"
           ],
           "A",
           "Shadow graph",
           "not stated,99.992 % (total),",
           1963
          ],
          [
           "N/A",
           [
            "L"
           ],
           "A",
           "Shadow graph",
           "not stated,99.992 % (total),",
           1963
          ],
          [
           "N/A",
           [
            "L"
           ],
           "A",
           "Shadow graph",
           "not stated,99.992 % (total),",
           1963
          ],
          [
           "N/A",
           [
            "L"
           ],
           "A",
           "Shadow graph",
           "not stated,99.992 % (total),",
           1963
          ],
          [
           "N/A",
           [
            "L"
           ],
           "A",
           "Shadow graph",
           "not stated,99.992 % (total),",
           1963
          ],
          [
           "N/A",
           [
            "L"
           ],
           "A",
           "Shadow graph",
           "not stated,99.992 % (total),",
           1963
          ]
         ],
         "error_y": {
          "array": [
           160.971,
           160.393,
           159.183,
           157.367,
           156.566,
           156.548,
           156.146,
           155.695,
           155.289,
           154.484,
           151.495,
           150.831,
           148.652
          ]
         },
         "hovertemplate": "Data Set ID=12050<br>Temperature: F=%{x}<br>Specific density: kg/m**3=%{y}<br>Ref Temp=%{customdata[0]}<br>State=%{customdata[1]}<br>Representation=%{customdata[2]}<br>Method=%{customdata[3]}<br>Description=%{customdata[4]}<br>Year=%{customdata[5]}<extra></extra>",
         "legendgroup": "12050",
         "marker": {
          "color": "#EF553B",
          "symbol": "circle"
         },
         "mode": "markers",
         "name": "12050",
         "orientation": "v",
         "showlegend": true,
         "type": "scatter",
         "x": [
          2019.0739999999998,
          2161.0760000000005,
          2161.6879999999996,
          2401.2320000000004,
          2461.7480000000005,
          2500.124,
          2539.058,
          2691.842,
          2692.652,
          2764.994,
          2961.806,
          3122.672,
          3271.784
         ],
         "xaxis": "x",
         "y": [
          8048.53,
          8019.63,
          7959.14,
          7868.35,
          7828.29,
          7827.4,
          7807.31,
          7784.73,
          7764.43,
          7724.22,
          7574.75,
          7541.53,
          7432.59
         ],
         "yaxis": "y"
        },
        {
         "customdata": [
          [
           "N/A",
           [
            "L"
           ],
           "A",
           "Maximum bubble pressure",
           "not stated,99.97 % (total),",
           1964
          ],
          [
           "N/A",
           [
            "L"
           ],
           "A",
           "Maximum bubble pressure",
           "not stated,99.97 % (total),",
           1964
          ],
          [
           "N/A",
           [
            "L"
           ],
           "A",
           "Maximum bubble pressure",
           "not stated,99.97 % (total),",
           1964
          ],
          [
           "N/A",
           [
            "L"
           ],
           "A",
           "Maximum bubble pressure",
           "not stated,99.97 % (total),",
           1964
          ],
          [
           "N/A",
           [
            "L"
           ],
           "A",
           "Maximum bubble pressure",
           "not stated,99.97 % (total),",
           1964
          ],
          [
           "N/A",
           [
            "L"
           ],
           "A",
           "Maximum bubble pressure",
           "not stated,99.97 % (total),",
           1964
          ],
          [
           "N/A",
           [
            "L"
           ],
           "A",
           "Maximum bubble pressure",
           "not stated,99.97 % (total),",
           1964
          ]
         ],
         "error_y": {
          "array": [
           77.874,
           78.105,
           77.118,
           76.404,
           76.089,
           75.502,
           74.376
          ]
         },
         "hovertemplate": "Data Set ID=12677<br>Temperature: F=%{x}<br>Specific density: kg/m**3=%{y}<br>Ref Temp=%{customdata[0]}<br>State=%{customdata[1]}<br>Representation=%{customdata[2]}<br>Method=%{customdata[3]}<br>Description=%{customdata[4]}<br>Year=%{customdata[5]}<extra></extra>",
         "legendgroup": "12677",
         "marker": {
          "color": "#00cc96",
          "symbol": "circle"
         },
         "mode": "markers",
         "name": "12677",
         "orientation": "v",
         "showlegend": true,
         "type": "scatter",
         "x": [
          2330.366,
          2387.3,
          2570.9540000000006,
          2581.16,
          2725.5739999999996,
          2771.402,
          2945.57
         ],
         "xaxis": "x",
         "y": [
          7787.4,
          7810.5,
          7711.8,
          7640.4,
          7608.9,
          7550.2,
          7437.6
         ],
         "yaxis": "y"
        },
        {
         "customdata": [
          [
           "N/A",
           [
            "C"
           ],
           "A",
           "Archimedes volume displacement method",
           "not stated,99.97 % (total),chemical analysis",
           1969
          ]
         ],
         "error_y": {
          "array": [
           26.79
          ]
         },
         "hovertemplate": "Data Set ID=16407<br>Temperature: F=%{x}<br>Specific density: kg/m**3=%{y}<br>Ref Temp=%{customdata[0]}<br>State=%{customdata[1]}<br>Representation=%{customdata[2]}<br>Method=%{customdata[3]}<br>Description=%{customdata[4]}<br>Year=%{customdata[5]}<extra></extra>",
         "legendgroup": "16407",
         "marker": {
          "color": "#ab63fa",
          "symbol": "circle"
         },
         "mode": "markers",
         "name": "16407",
         "orientation": "v",
         "showlegend": true,
         "type": "scatter",
         "x": [
          68
         ],
         "xaxis": "x",
         "y": [
          8930
         ],
         "yaxis": "y"
        },
        {
         "customdata": [
          [
           "N/A",
           [
            "C"
           ],
           "A",
           "Archimedes volume displacement method",
           "not stated,99.97 % (total),,rod",
           1971
          ]
         ],
         "error_y": {
          "array": [
           26.733
          ]
         },
         "hovertemplate": "Data Set ID=17617<br>Temperature: F=%{x}<br>Specific density: kg/m**3=%{y}<br>Ref Temp=%{customdata[0]}<br>State=%{customdata[1]}<br>Representation=%{customdata[2]}<br>Method=%{customdata[3]}<br>Description=%{customdata[4]}<br>Year=%{customdata[5]}<extra></extra>",
         "legendgroup": "17617",
         "marker": {
          "color": "#FFA15A",
          "symbol": "circle"
         },
         "mode": "markers",
         "name": "17617",
         "orientation": "v",
         "showlegend": true,
         "type": "scatter",
         "x": [
          68
         ],
         "xaxis": "x",
         "y": [
          8911
         ],
         "yaxis": "y"
        },
        {
         "customdata": [
          [
           "N/A",
           [
            "L"
           ],
           "A",
           "Maximum bubble pressure",
           "not stated,99.99 weight % (total),",
           1971
          ],
          [
           "N/A",
           [
            "L"
           ],
           "A",
           "Maximum bubble pressure",
           "not stated,99.99 weight % (total),",
           1971
          ],
          [
           "N/A",
           [
            "L"
           ],
           "A",
           "Maximum bubble pressure",
           "not stated,99.99 weight % (total),",
           1971
          ],
          [
           "N/A",
           [
            "L"
           ],
           "A",
           "Maximum bubble pressure",
           "not stated,99.99 weight % (total),",
           1971
          ],
          [
           "N/A",
           [
            "L"
           ],
           "A",
           "Maximum bubble pressure",
           "not stated,99.99 weight % (total),",
           1971
          ],
          [
           "N/A",
           [
            "L"
           ],
           "A",
           "Maximum bubble pressure",
           "not stated,99.99 weight % (total),",
           1971
          ],
          [
           "N/A",
           [
            "L"
           ],
           "A",
           "Maximum bubble pressure",
           "not stated,99.99 weight % (total),",
           1971
          ],
          [
           "N/A",
           [
            "L"
           ],
           "A",
           "Maximum bubble pressure",
           "not stated,99.99 weight % (total),",
           1971
          ],
          [
           "N/A",
           [
            "L"
           ],
           "A",
           "Maximum bubble pressure",
           "not stated,99.99 weight % (total),",
           1971
          ],
          [
           "N/A",
           [
            "L"
           ],
           "A",
           "Maximum bubble pressure",
           "not stated,99.99 weight % (total),",
           1971
          ],
          [
           "N/A",
           [
            "L"
           ],
           "A",
           "Maximum bubble pressure",
           "not stated,99.99 weight % (total),",
           1971
          ],
          [
           "N/A",
           [
            "L"
           ],
           "A",
           "Maximum bubble pressure",
           "not stated,99.99 weight % (total),",
           1971
          ],
          [
           "N/A",
           [
            "L"
           ],
           "A",
           "Maximum bubble pressure",
           "not stated,99.99 weight % (total),",
           1971
          ],
          [
           "N/A",
           [
            "L"
           ],
           "A",
           "Maximum bubble pressure",
           "not stated,99.99 weight % (total),",
           1971
          ],
          [
           "N/A",
           [
            "L"
           ],
           "A",
           "Maximum bubble pressure",
           "not stated,99.99 weight % (total),",
           1971
          ],
          [
           "N/A",
           [
            "L"
           ],
           "A",
           "Maximum bubble pressure",
           "not stated,99.99 weight % (total),",
           1971
          ],
          [
           "N/A",
           [
            "L"
           ],
           "A",
           "Maximum bubble pressure",
           "not stated,99.99 weight % (total),",
           1971
          ],
          [
           "N/A",
           [
            "L"
           ],
           "A",
           "Maximum bubble pressure",
           "not stated,99.99 weight % (total),",
           1971
          ],
          [
           "N/A",
           [
            "L"
           ],
           "A",
           "Maximum bubble pressure",
           "not stated,99.99 weight % (total),",
           1971
          ],
          [
           "N/A",
           [
            "L"
           ],
           "A",
           "Maximum bubble pressure",
           "not stated,99.99 weight % (total),",
           1971
          ]
         ],
         "error_y": {
          "array": [
           54.068,
           54.551,
           54.369,
           54.194,
           53.459,
           53.956,
           53.732,
           53.725,
           53.347,
           52.885,
           53.137,
           53.151,
           53.011,
           52.773,
           52.591,
           52.759,
           52.367,
           52.178,
           52.549,
           52.409
          ]
         },
         "hovertemplate": "Data Set ID=17838<br>Temperature: F=%{x}<br>Specific density: kg/m**3=%{y}<br>Ref Temp=%{customdata[0]}<br>State=%{customdata[1]}<br>Representation=%{customdata[2]}<br>Method=%{customdata[3]}<br>Description=%{customdata[4]}<br>Year=%{customdata[5]}<extra></extra>",
         "legendgroup": "17838",
         "marker": {
          "color": "#19d3f3",
          "symbol": "circle"
         },
         "mode": "markers",
         "name": "17838",
         "orientation": "v",
         "showlegend": true,
         "type": "scatter",
         "x": [
          2213.2400000000002,
          2214.5,
          2214.8599999999997,
          2223.68,
          2466.5,
          2467.4,
          2467.4,
          2477.66,
          2674.4,
          2675.1200000000003,
          2675.3,
          2687.7200000000003,
          2826.1400000000003,
          2827.0400000000004,
          2827.4,
          2836.2200000000003,
          2955.38,
          2955.38,
          2955.56,
          2965.82
         ],
         "xaxis": "x",
         "y": [
          7724,
          7793,
          7767,
          7742,
          7637,
          7708,
          7676,
          7675,
          7621,
          7555,
          7591,
          7593,
          7573,
          7539,
          7513,
          7537,
          7481,
          7454,
          7507,
          7487
         ],
         "yaxis": "y"
        },
        {
         "customdata": [
          [
           "N/A",
           [
            "L"
           ],
           "A",
           "Maximum bubble pressure",
           "not stated,99.99 weight % (total),",
           1971
          ],
          [
           "N/A",
           [
            "L"
           ],
           "A",
           "Maximum bubble pressure",
           "not stated,99.99 weight % (total),",
           1971
          ]
         ],
         "error_y": {
          "array": [
           54.411,
           53.508
          ]
         },
         "hovertemplate": "Data Set ID=17839<br>Temperature: F=%{x}<br>Specific density: kg/m**3=%{y}<br>Ref Temp=%{customdata[0]}<br>State=%{customdata[1]}<br>Representation=%{customdata[2]}<br>Method=%{customdata[3]}<br>Description=%{customdata[4]}<br>Year=%{customdata[5]}<extra></extra>",
         "legendgroup": "17839",
         "marker": {
          "color": "#FF6692",
          "symbol": "circle"
         },
         "mode": "markers",
         "name": "17839",
         "orientation": "v",
         "showlegend": true,
         "type": "scatter",
         "x": [
          2192,
          2552
         ],
         "xaxis": "x",
         "y": [
          7773,
          7644
         ],
         "yaxis": "y"
        },
        {
         "customdata": [
          [
           "N/A",
           [
            "L"
           ],
           "A",
           "Maximum bubble pressure",
           "not stated,99.99 weight % (total),",
           1971
          ],
          [
           "N/A",
           [
            "L"
           ],
           "A",
           "Maximum bubble pressure",
           "not stated,99.99 weight % (total),",
           1971
          ]
         ],
         "error_y": {
          "array": [
           52.857,
           52.626
          ]
         },
         "hovertemplate": "Data Set ID=17840<br>Temperature: F=%{x}<br>Specific density: kg/m**3=%{y}<br>Ref Temp=%{customdata[0]}<br>State=%{customdata[1]}<br>Representation=%{customdata[2]}<br>Method=%{customdata[3]}<br>Description=%{customdata[4]}<br>Year=%{customdata[5]}<extra></extra>",
         "legendgroup": "17840",
         "marker": {
          "color": "#B6E880",
          "symbol": "circle"
         },
         "mode": "markers",
         "name": "17840",
         "orientation": "v",
         "showlegend": true,
         "type": "scatter",
         "x": [
          2822,
          2912
         ],
         "xaxis": "x",
         "y": [
          7551,
          7518
         ],
         "yaxis": "y"
        },
        {
         "customdata": [
          [
           "N/A",
           [
            "L"
           ],
           "A",
           "Maximum bubble pressure",
           "not stated,99.99 weight % (total),",
           1971
          ],
          [
           "N/A",
           [
            "L"
           ],
           "A",
           "Maximum bubble pressure",
           "not stated,99.99 weight % (total),",
           1971
          ],
          [
           "N/A",
           [
            "L"
           ],
           "A",
           "Maximum bubble pressure",
           "not stated,99.99 weight % (total),",
           1971
          ]
         ],
         "error_y": {
          "array": [
           52.899,
           52.661,
           52.416
          ]
         },
         "hovertemplate": "Data Set ID=17841<br>Temperature: F=%{x}<br>Specific density: kg/m**3=%{y}<br>Ref Temp=%{customdata[0]}<br>State=%{customdata[1]}<br>Representation=%{customdata[2]}<br>Method=%{customdata[3]}<br>Description=%{customdata[4]}<br>Year=%{customdata[5]}<extra></extra>",
         "legendgroup": "17841",
         "marker": {
          "color": "#FF97FF",
          "symbol": "circle"
         },
         "mode": "markers",
         "name": "17841",
         "orientation": "v",
         "showlegend": true,
         "type": "scatter",
         "x": [
          2822,
          2912,
          3002
         ],
         "xaxis": "x",
         "y": [
          7557,
          7523,
          7488
         ],
         "yaxis": "y"
        },
        {
         "customdata": [
          [
           "N/A",
           [
            "L"
           ],
           "A",
           "Maximum bubble pressure",
           "not stated,99.99 weight % (total),",
           1971
          ],
          [
           "N/A",
           [
            "L"
           ],
           "A",
           "Maximum bubble pressure",
           "not stated,99.99 weight % (total),",
           1971
          ],
          [
           "N/A",
           [
            "L"
           ],
           "A",
           "Maximum bubble pressure",
           "not stated,99.99 weight % (total),",
           1971
          ]
         ],
         "error_y": {
          "array": [
           53.095,
           52.864,
           52.64
          ]
         },
         "hovertemplate": "Data Set ID=17842<br>Temperature: F=%{x}<br>Specific density: kg/m**3=%{y}<br>Ref Temp=%{customdata[0]}<br>State=%{customdata[1]}<br>Representation=%{customdata[2]}<br>Method=%{customdata[3]}<br>Description=%{customdata[4]}<br>Year=%{customdata[5]}<extra></extra>",
         "legendgroup": "17842",
         "marker": {
          "color": "#FECB52",
          "symbol": "circle"
         },
         "mode": "markers",
         "name": "17842",
         "orientation": "v",
         "showlegend": true,
         "type": "scatter",
         "x": [
          2732,
          2822,
          2912
         ],
         "xaxis": "x",
         "y": [
          7585,
          7552,
          7520
         ],
         "yaxis": "y"
        },
        {
         "customdata": [
          [
           "N/A",
           [
            "L"
           ],
           "A",
           "Archimedes volume displacement method",
           "not stated",
           1972
          ],
          [
           "N/A",
           [
            "L"
           ],
           "A",
           "Archimedes volume displacement method",
           "not stated",
           1972
          ],
          [
           "N/A",
           [
            "L"
           ],
           "A",
           "Archimedes volume displacement method",
           "not stated",
           1972
          ],
          [
           "N/A",
           [
            "L"
           ],
           "A",
           "Archimedes volume displacement method",
           "not stated",
           1972
          ],
          [
           "N/A",
           [
            "L"
           ],
           "A",
           "Archimedes volume displacement method",
           "not stated",
           1972
          ],
          [
           "N/A",
           [
            "L"
           ],
           "A",
           "Archimedes volume displacement method",
           "not stated",
           1972
          ],
          [
           "N/A",
           [
            "L"
           ],
           "A",
           "Archimedes volume displacement method",
           "not stated",
           1972
          ]
         ],
         "error_y": {
          "array": [
           30,
           30,
           30,
           30,
           30,
           30,
           30
          ]
         },
         "hovertemplate": "Data Set ID=18103<br>Temperature: F=%{x}<br>Specific density: kg/m**3=%{y}<br>Ref Temp=%{customdata[0]}<br>State=%{customdata[1]}<br>Representation=%{customdata[2]}<br>Method=%{customdata[3]}<br>Description=%{customdata[4]}<br>Year=%{customdata[5]}<extra></extra>",
         "legendgroup": "18103",
         "marker": {
          "color": "#636efa",
          "symbol": "circle"
         },
         "mode": "markers",
         "name": "18103",
         "orientation": "v",
         "showlegend": true,
         "type": "scatter",
         "x": [
          1981.4,
          2012,
          2192,
          2372,
          2552,
          2732,
          2912
         ],
         "xaxis": "x",
         "y": [
          7938,
          7925,
          7849,
          7776,
          7703,
          7632,
          7562
         ],
         "yaxis": "y"
        },
        {
         "customdata": [
          [
           "N/A",
           [
            "L"
           ],
           "A",
           "Maximum bubble pressure",
           "not stated,99.99 weight % (total),",
           1972
          ],
          [
           "N/A",
           [
            "L"
           ],
           "A",
           "Maximum bubble pressure",
           "not stated,99.99 weight % (total),",
           1972
          ],
          [
           "N/A",
           [
            "L"
           ],
           "A",
           "Maximum bubble pressure",
           "not stated,99.99 weight % (total),",
           1972
          ],
          [
           "N/A",
           [
            "L"
           ],
           "A",
           "Maximum bubble pressure",
           "not stated,99.99 weight % (total),",
           1972
          ],
          [
           "N/A",
           [
            "L"
           ],
           "A",
           "Maximum bubble pressure",
           "not stated,99.99 weight % (total),",
           1972
          ],
          [
           "N/A",
           [
            "L"
           ],
           "A",
           "Maximum bubble pressure",
           "not stated,99.99 weight % (total),",
           1972
          ],
          [
           "N/A",
           [
            "L"
           ],
           "A",
           "Maximum bubble pressure",
           "not stated,99.99 weight % (total),",
           1972
          ],
          [
           "N/A",
           [
            "L"
           ],
           "A",
           "Maximum bubble pressure",
           "not stated,99.99 weight % (total),",
           1972
          ],
          [
           "N/A",
           [
            "L"
           ],
           "A",
           "Maximum bubble pressure",
           "not stated,99.99 weight % (total),",
           1972
          ],
          [
           "N/A",
           [
            "L"
           ],
           "A",
           "Maximum bubble pressure",
           "not stated,99.99 weight % (total),",
           1972
          ],
          [
           "N/A",
           [
            "L"
           ],
           "A",
           "Maximum bubble pressure",
           "not stated,99.99 weight % (total),",
           1972
          ],
          [
           "N/A",
           [
            "L"
           ],
           "A",
           "Maximum bubble pressure",
           "not stated,99.99 weight % (total),",
           1972
          ],
          [
           "N/A",
           [
            "L"
           ],
           "A",
           "Maximum bubble pressure",
           "not stated,99.99 weight % (total),",
           1972
          ],
          [
           "N/A",
           [
            "L"
           ],
           "A",
           "Maximum bubble pressure",
           "not stated,99.99 weight % (total),",
           1972
          ],
          [
           "N/A",
           [
            "L"
           ],
           "A",
           "Maximum bubble pressure",
           "not stated,99.99 weight % (total),",
           1972
          ],
          [
           "N/A",
           [
            "L"
           ],
           "A",
           "Maximum bubble pressure",
           "not stated,99.99 weight % (total),",
           1972
          ],
          [
           "N/A",
           [
            "L"
           ],
           "A",
           "Maximum bubble pressure",
           "not stated,99.99 weight % (total),",
           1972
          ],
          [
           "N/A",
           [
            "L"
           ],
           "A",
           "Maximum bubble pressure",
           "not stated,99.99 weight % (total),",
           1972
          ],
          [
           "N/A",
           [
            "L"
           ],
           "A",
           "Maximum bubble pressure",
           "not stated,99.99 weight % (total),",
           1972
          ],
          [
           "N/A",
           [
            "L"
           ],
           "A",
           "Maximum bubble pressure",
           "not stated,99.99 weight % (total),",
           1972
          ],
          [
           "N/A",
           [
            "L"
           ],
           "A",
           "Maximum bubble pressure",
           "not stated,99.99 weight % (total),",
           1972
          ],
          [
           "N/A",
           [
            "L"
           ],
           "A",
           "Maximum bubble pressure",
           "not stated,99.99 weight % (total),",
           1972
          ]
         ],
         "error_y": {
          "array": [
           23.313,
           23.382,
           23.241,
           23.172,
           23.238,
           22.914,
           23.127,
           23.019,
           23.028,
           22.659,
           22.776,
           22.857,
           22.716,
           22.788,
           22.626,
           22.707,
           22.524,
           22.611,
           22.356,
           22.431,
           22.518,
           22.458
          ]
         },
         "hovertemplate": "Data Set ID=18269<br>Temperature: F=%{x}<br>Specific density: kg/m**3=%{y}<br>Ref Temp=%{customdata[0]}<br>State=%{customdata[1]}<br>Representation=%{customdata[2]}<br>Method=%{customdata[3]}<br>Description=%{customdata[4]}<br>Year=%{customdata[5]}<extra></extra>",
         "legendgroup": "18269",
         "marker": {
          "color": "#EF553B",
          "symbol": "circle"
         },
         "mode": "markers",
         "name": "18269",
         "orientation": "v",
         "showlegend": true,
         "type": "scatter",
         "x": [
          2213.06,
          2213.7799999999997,
          2213.7799999999997,
          2214.68,
          2224.0400000000004,
          2466.5,
          2467.2200000000003,
          2467.2200000000003,
          2476.7599999999998,
          2674.58,
          2674.58,
          2674.9400000000005,
          2675.1200000000003,
          2688.2599999999998,
          2825.7799999999997,
          2826.68,
          2827.0400000000004,
          2836.58,
          2957,
          2957.3599999999997,
          2957.7200000000003,
          2969.06
         ],
         "xaxis": "x",
         "y": [
          7771,
          7794,
          7747,
          7724,
          7746,
          7638,
          7709,
          7673,
          7676,
          7553,
          7592,
          7619,
          7572,
          7596,
          7542,
          7569,
          7508,
          7537,
          7452,
          7477,
          7506,
          7486
         ],
         "yaxis": "y"
        },
        {
         "customdata": [
          [
           "N/A",
           [
            "L"
           ],
           "A",
           "Maximum bubble pressure",
           "not stated,99.9 % (total),",
           1973
          ],
          [
           "N/A",
           [
            "L"
           ],
           "A",
           "Maximum bubble pressure",
           "not stated,99.9 % (total),",
           1973
          ],
          [
           "N/A",
           [
            "L"
           ],
           "A",
           "Maximum bubble pressure",
           "not stated,99.9 % (total),",
           1973
          ],
          [
           "N/A",
           [
            "L"
           ],
           "A",
           "Maximum bubble pressure",
           "not stated,99.9 % (total),",
           1973
          ],
          [
           "N/A",
           [
            "L"
           ],
           "A",
           "Maximum bubble pressure",
           "not stated,99.9 % (total),",
           1973
          ],
          [
           "N/A",
           [
            "L"
           ],
           "A",
           "Maximum bubble pressure",
           "not stated,99.9 % (total),",
           1973
          ],
          [
           "N/A",
           [
            "L"
           ],
           "A",
           "Maximum bubble pressure",
           "not stated,99.9 % (total),",
           1973
          ],
          [
           "N/A",
           [
            "L"
           ],
           "A",
           "Maximum bubble pressure",
           "not stated,99.9 % (total),",
           1973
          ],
          [
           "N/A",
           [
            "L"
           ],
           "A",
           "Maximum bubble pressure",
           "not stated,99.9 % (total),",
           1973
          ],
          [
           "N/A",
           [
            "L"
           ],
           "A",
           "Maximum bubble pressure",
           "not stated,99.9 % (total),",
           1973
          ],
          [
           "N/A",
           [
            "L"
           ],
           "A",
           "Maximum bubble pressure",
           "not stated,99.9 % (total),",
           1973
          ]
         ],
         "error_y": {
          "array": [
           237.06,
           242.4,
           239.7,
           238.77,
           238.53,
           237.51,
           241.5,
           233.07,
           233.25,
           233.1,
           230.34
          ]
         },
         "hovertemplate": "Data Set ID=18592<br>Temperature: F=%{x}<br>Specific density: kg/m**3=%{y}<br>Ref Temp=%{customdata[0]}<br>State=%{customdata[1]}<br>Representation=%{customdata[2]}<br>Method=%{customdata[3]}<br>Description=%{customdata[4]}<br>Year=%{customdata[5]}<extra></extra>",
         "legendgroup": "18592",
         "marker": {
          "color": "#00cc96",
          "symbol": "circle"
         },
         "mode": "markers",
         "name": "18592",
         "orientation": "v",
         "showlegend": true,
         "type": "scatter",
         "x": [
          2030.7200000000003,
          2030.9,
          2044.9400000000003,
          2068.34,
          2175.08,
          2175.98,
          2212.88,
          2212.88,
          2356.7000000000003,
          2372.9,
          2381
         ],
         "xaxis": "x",
         "y": [
          7902,
          8080,
          7990,
          7959,
          7951,
          7917,
          8050,
          7769,
          7775,
          7770,
          7678
         ],
         "yaxis": "y"
        },
        {
         "customdata": [
          [
           "N/A",
           [
            "L"
           ],
           "A",
           "Maximum bubble pressure",
           "not stated,99.9 % (total),",
           1973
          ]
         ],
         "error_y": {
          "array": [
           236.49
          ]
         },
         "hovertemplate": "Data Set ID=18594<br>Temperature: F=%{x}<br>Specific density: kg/m**3=%{y}<br>Ref Temp=%{customdata[0]}<br>State=%{customdata[1]}<br>Representation=%{customdata[2]}<br>Method=%{customdata[3]}<br>Description=%{customdata[4]}<br>Year=%{customdata[5]}<extra></extra>",
         "legendgroup": "18594",
         "marker": {
          "color": "#ab63fa",
          "symbol": "circle"
         },
         "mode": "markers",
         "name": "18594",
         "orientation": "v",
         "showlegend": true,
         "type": "scatter",
         "x": [
          2192
         ],
         "xaxis": "x",
         "y": [
          7883
         ],
         "yaxis": "y"
        },
        {
         "customdata": [
          [
           "N/A",
           [
            "L"
           ],
           "A",
           "not stated",
           "not stated,99.999 % (total),",
           1974
          ],
          [
           "N/A",
           [
            "L"
           ],
           "A",
           "not stated",
           "not stated,99.999 % (total),",
           1974
          ],
          [
           "N/A",
           [
            "L"
           ],
           "A",
           "not stated",
           "not stated,99.999 % (total),",
           1974
          ],
          [
           "N/A",
           [
            "L"
           ],
           "A",
           "not stated",
           "not stated,99.999 % (total),",
           1974
          ]
         ],
         "error_y": {
          "array": [
           null,
           null,
           null,
           null
          ]
         },
         "hovertemplate": "Data Set ID=18952<br>Temperature: F=%{x}<br>Specific density: kg/m**3=%{y}<br>Ref Temp=%{customdata[0]}<br>State=%{customdata[1]}<br>Representation=%{customdata[2]}<br>Method=%{customdata[3]}<br>Description=%{customdata[4]}<br>Year=%{customdata[5]}<extra></extra>",
         "legendgroup": "18952",
         "marker": {
          "color": "#FFA15A",
          "symbol": "circle"
         },
         "mode": "markers",
         "name": "18952",
         "orientation": "v",
         "showlegend": true,
         "type": "scatter",
         "x": [
          2067.638,
          2143.436,
          2193.602,
          2264.0180000000005
         ],
         "xaxis": "x",
         "y": [
          7904.27,
          7873.99,
          7854.67,
          7825.02
         ],
         "yaxis": "y"
        },
        {
         "customdata": [
          [
           "N/A",
           [
            "L"
           ],
           "A",
           "Pycnometric method",
           "not stated,99.99883 % (total),",
           1975
          ],
          [
           "N/A",
           [
            "L"
           ],
           "A",
           "Pycnometric method",
           "not stated,99.99883 % (total),",
           1975
          ],
          [
           "N/A",
           [
            "L"
           ],
           "A",
           "Pycnometric method",
           "not stated,99.99883 % (total),",
           1975
          ],
          [
           "N/A",
           [
            "L"
           ],
           "A",
           "Pycnometric method",
           "not stated,99.99883 % (total),",
           1975
          ],
          [
           "N/A",
           [
            "L"
           ],
           "A",
           "Pycnometric method",
           "not stated,99.99883 % (total),",
           1975
          ],
          [
           "N/A",
           [
            "L"
           ],
           "A",
           "Pycnometric method",
           "not stated,99.99883 % (total),",
           1975
          ],
          [
           "N/A",
           [
            "L"
           ],
           "A",
           "Pycnometric method",
           "not stated,99.99883 % (total),",
           1975
          ],
          [
           "N/A",
           [
            "L"
           ],
           "A",
           "Pycnometric method",
           "not stated,99.99883 % (total),",
           1975
          ],
          [
           "N/A",
           [
            "L"
           ],
           "A",
           "Pycnometric method",
           "not stated,99.99883 % (total),",
           1975
          ],
          [
           "N/A",
           [
            "L"
           ],
           "A",
           "Pycnometric method",
           "not stated,99.99883 % (total),",
           1975
          ]
         ],
         "error_y": {
          "array": [
           1.4,
           1.4,
           1.4,
           1.4,
           1.4,
           1.4,
           1.4,
           1.4,
           1.4,
           1.4
          ]
         },
         "hovertemplate": "Data Set ID=19535<br>Temperature: F=%{x}<br>Specific density: kg/m**3=%{y}<br>Ref Temp=%{customdata[0]}<br>State=%{customdata[1]}<br>Representation=%{customdata[2]}<br>Method=%{customdata[3]}<br>Description=%{customdata[4]}<br>Year=%{customdata[5]}<extra></extra>",
         "legendgroup": "19535",
         "marker": {
          "color": "#19d3f3",
          "symbol": "circle"
         },
         "mode": "markers",
         "name": "19535",
         "orientation": "v",
         "showlegend": true,
         "type": "scatter",
         "x": [
          2017.4,
          2053.4,
          2089.4,
          2125.4,
          2161.4,
          2197.4,
          2233.4,
          2269.4,
          2305.4,
          2341.4
         ],
         "xaxis": "x",
         "y": [
          7925,
          7911,
          7896,
          7881,
          7866,
          7852,
          7837,
          7822,
          7807,
          7793
         ],
         "yaxis": "y"
        },
        {
         "customdata": [
          [
           "N/A",
           [
            "L"
           ],
           "A",
           "Archimedes volume displacement method",
           "not stated",
           1976
          ],
          [
           "N/A",
           [
            "L"
           ],
           "A",
           "Archimedes volume displacement method",
           "not stated",
           1976
          ],
          [
           "N/A",
           [
            "L"
           ],
           "A",
           "Archimedes volume displacement method",
           "not stated",
           1976
          ],
          [
           "N/A",
           [
            "L"
           ],
           "A",
           "Archimedes volume displacement method",
           "not stated",
           1976
          ],
          [
           "N/A",
           [
            "L"
           ],
           "A",
           "Archimedes volume displacement method",
           "not stated",
           1976
          ],
          [
           "N/A",
           [
            "L"
           ],
           "A",
           "Archimedes volume displacement method",
           "not stated",
           1976
          ],
          [
           "N/A",
           [
            "L"
           ],
           "A",
           "Archimedes volume displacement method",
           "not stated",
           1976
          ],
          [
           "N/A",
           [
            "L"
           ],
           "A",
           "Archimedes volume displacement method",
           "not stated",
           1976
          ],
          [
           "N/A",
           [
            "L"
           ],
           "A",
           "Archimedes volume displacement method",
           "not stated",
           1976
          ],
          [
           "N/A",
           [
            "L"
           ],
           "A",
           "Archimedes volume displacement method",
           "not stated",
           1976
          ],
          [
           "N/A",
           [
            "L"
           ],
           "A",
           "Archimedes volume displacement method",
           "not stated",
           1976
          ],
          [
           "N/A",
           [
            "L"
           ],
           "A",
           "Archimedes volume displacement method",
           "not stated",
           1976
          ],
          [
           "N/A",
           [
            "L"
           ],
           "A",
           "Archimedes volume displacement method",
           "not stated",
           1976
          ],
          [
           "N/A",
           [
            "L"
           ],
           "A",
           "Archimedes volume displacement method",
           "not stated",
           1976
          ],
          [
           "N/A",
           [
            "L"
           ],
           "A",
           "Archimedes volume displacement method",
           "not stated",
           1976
          ],
          [
           "N/A",
           [
            "L"
           ],
           "A",
           "Archimedes volume displacement method",
           "not stated",
           1976
          ],
          [
           "N/A",
           [
            "L"
           ],
           "A",
           "Archimedes volume displacement method",
           "not stated",
           1976
          ],
          [
           "N/A",
           [
            "L"
           ],
           "A",
           "Archimedes volume displacement method",
           "not stated",
           1976
          ],
          [
           "N/A",
           [
            "L"
           ],
           "A",
           "Archimedes volume displacement method",
           "not stated",
           1976
          ],
          [
           "N/A",
           [
            "L"
           ],
           "A",
           "Archimedes volume displacement method",
           "not stated",
           1976
          ],
          [
           "N/A",
           [
            "L"
           ],
           "A",
           "Archimedes volume displacement method",
           "not stated",
           1976
          ],
          [
           "N/A",
           [
            "L"
           ],
           "A",
           "Archimedes volume displacement method",
           "not stated",
           1976
          ],
          [
           "N/A",
           [
            "L"
           ],
           "A",
           "Archimedes volume displacement method",
           "not stated",
           1976
          ],
          [
           "N/A",
           [
            "L"
           ],
           "A",
           "Archimedes volume displacement method",
           "not stated",
           1976
          ],
          [
           "N/A",
           [
            "L"
           ],
           "A",
           "Archimedes volume displacement method",
           "not stated",
           1976
          ],
          [
           "N/A",
           [
            "L"
           ],
           "A",
           "Archimedes volume displacement method",
           "not stated",
           1976
          ],
          [
           "N/A",
           [
            "L"
           ],
           "A",
           "Archimedes volume displacement method",
           "not stated",
           1976
          ]
         ],
         "error_y": {
          "array": [
           4.5,
           4.5,
           4.5,
           4.5,
           4.5,
           4.5,
           4.5,
           4.5,
           4.5,
           4.5,
           4.5,
           4.5,
           4.5,
           4.5,
           4.5,
           4.5,
           4.5,
           4.5,
           4.5,
           4.5,
           4.5,
           4.5,
           4.5,
           4.5,
           4.5,
           4.5,
           4.5
          ]
         },
         "hovertemplate": "Data Set ID=19696<br>Temperature: F=%{x}<br>Specific density: kg/m**3=%{y}<br>Ref Temp=%{customdata[0]}<br>State=%{customdata[1]}<br>Representation=%{customdata[2]}<br>Method=%{customdata[3]}<br>Description=%{customdata[4]}<br>Year=%{customdata[5]}<extra></extra>",
         "legendgroup": "19696",
         "marker": {
          "color": "#FF6692",
          "symbol": "circle"
         },
         "mode": "markers",
         "name": "19696",
         "orientation": "v",
         "showlegend": true,
         "type": "scatter",
         "x": [
          1981.1299999999999,
          1991.9299999999998,
          2002.7299999999998,
          2013.53,
          2024.33,
          2035.1299999999999,
          2045.9299999999998,
          2056.7299999999996,
          2067.5299999999997,
          2078.33,
          2089.13,
          2099.93,
          2110.73,
          2121.5299999999997,
          2132.33,
          2143.13,
          2153.93,
          2164.73,
          2175.5299999999997,
          2186.33,
          2197.13,
          2207.93,
          2218.73,
          2229.5299999999997,
          2240.33,
          2251.13,
          2261.93
         ],
         "xaxis": "x",
         "y": [
          7936,
          7931.3,
          7926.6,
          7921.8,
          7917.1,
          7912.4,
          7907.7,
          7903,
          7898.3,
          7893.5,
          7888.8,
          7884.1,
          7879.4,
          7874.7,
          7870,
          7865.2,
          7860.5,
          7855.8,
          7851.1,
          7846.4,
          7841.7,
          7836.9,
          7832.2,
          7827.5,
          7822.8,
          7818.1,
          7813.4
         ],
         "yaxis": "y"
        },
        {
         "customdata": [
          [
           "N/A",
           [
            "L"
           ],
           "A",
           "Gamma attenuation method",
           "origin: commercial source,99.998 % (total),stated by supplier,rod",
           1981
          ],
          [
           "N/A",
           [
            "L"
           ],
           "A",
           "Gamma attenuation method",
           "origin: commercial source,99.998 % (total),stated by supplier,rod",
           1981
          ],
          [
           "N/A",
           [
            "L"
           ],
           "A",
           "Gamma attenuation method",
           "origin: commercial source,99.998 % (total),stated by supplier,rod",
           1981
          ],
          [
           "N/A",
           [
            "L"
           ],
           "A",
           "Gamma attenuation method",
           "origin: commercial source,99.998 % (total),stated by supplier,rod",
           1981
          ],
          [
           "N/A",
           [
            "L"
           ],
           "A",
           "Gamma attenuation method",
           "origin: commercial source,99.998 % (total),stated by supplier,rod",
           1981
          ],
          [
           "N/A",
           [
            "L"
           ],
           "A",
           "Gamma attenuation method",
           "origin: commercial source,99.998 % (total),stated by supplier,rod",
           1981
          ],
          [
           "N/A",
           [
            "L"
           ],
           "A",
           "Gamma attenuation method",
           "origin: commercial source,99.998 % (total),stated by supplier,rod",
           1981
          ],
          [
           "N/A",
           [
            "L"
           ],
           "A",
           "Gamma attenuation method",
           "origin: commercial source,99.998 % (total),stated by supplier,rod",
           1981
          ],
          [
           "N/A",
           [
            "L"
           ],
           "A",
           "Gamma attenuation method",
           "origin: commercial source,99.998 % (total),stated by supplier,rod",
           1981
          ],
          [
           "N/A",
           [
            "L"
           ],
           "A",
           "Gamma attenuation method",
           "origin: commercial source,99.998 % (total),stated by supplier,rod",
           1981
          ],
          [
           "N/A",
           [
            "L"
           ],
           "A",
           "Gamma attenuation method",
           "origin: commercial source,99.998 % (total),stated by supplier,rod",
           1981
          ],
          [
           "N/A",
           [
            "L"
           ],
           "A",
           "Gamma attenuation method",
           "origin: commercial source,99.998 % (total),stated by supplier,rod",
           1981
          ],
          [
           "N/A",
           [
            "L"
           ],
           "A",
           "Gamma attenuation method",
           "origin: commercial source,99.998 % (total),stated by supplier,rod",
           1981
          ],
          [
           "N/A",
           [
            "L"
           ],
           "A",
           "Gamma attenuation method",
           "origin: commercial source,99.998 % (total),stated by supplier,rod",
           1981
          ]
         ],
         "error_y": {
          "array": [
           39.205,
           39.19,
           39.06,
           38.795,
           38.715,
           38.525,
           38.185,
           38.23,
           38.065,
           37.865,
           37.69,
           37.55,
           37.175,
           37.095
          ]
         },
         "hovertemplate": "Data Set ID=20998<br>Temperature: F=%{x}<br>Specific density: kg/m**3=%{y}<br>Ref Temp=%{customdata[0]}<br>State=%{customdata[1]}<br>Representation=%{customdata[2]}<br>Method=%{customdata[3]}<br>Description=%{customdata[4]}<br>Year=%{customdata[5]}<extra></extra>",
         "legendgroup": "20998",
         "marker": {
          "color": "#B6E880",
          "symbol": "circle"
         },
         "mode": "markers",
         "name": "20998",
         "orientation": "v",
         "showlegend": true,
         "type": "scatter",
         "x": [
          2116.13,
          2125.13,
          2168.33,
          2332.13,
          2375.33,
          2447.33,
          2584.13,
          2609.33,
          2665.13,
          2792.93,
          2881.13,
          2909.93,
          3104.33,
          3179.93
         ],
         "xaxis": "x",
         "y": [
          7841,
          7838,
          7812,
          7759,
          7743,
          7705,
          7637,
          7646,
          7613,
          7573,
          7538,
          7510,
          7435,
          7419
         ],
         "yaxis": "y"
        },
        {
         "customdata": [
          [
           "N/A",
           [
            "C"
           ],
           "A",
           "Buoyancy - hydrostatic balance",
           "not stated,99.93 weight % (total),spectroscopy",
           1981
          ],
          [
           "N/A",
           [
            "C"
           ],
           "A",
           "Buoyancy - hydrostatic balance",
           "not stated,99.93 weight % (total),spectroscopy",
           1981
          ],
          [
           "N/A",
           [
            "C"
           ],
           "A",
           "Buoyancy - hydrostatic balance",
           "not stated,99.93 weight % (total),spectroscopy",
           1981
          ],
          [
           "N/A",
           [
            "C"
           ],
           "A",
           "Buoyancy - hydrostatic balance",
           "not stated,99.93 weight % (total),spectroscopy",
           1981
          ],
          [
           "N/A",
           [
            "C"
           ],
           "A",
           "Buoyancy - hydrostatic balance",
           "not stated,99.93 weight % (total),spectroscopy",
           1981
          ],
          [
           "N/A",
           [
            "C"
           ],
           "A",
           "Buoyancy - hydrostatic balance",
           "not stated,99.93 weight % (total),spectroscopy",
           1981
          ],
          [
           "N/A",
           [
            "C"
           ],
           "A",
           "Buoyancy - hydrostatic balance",
           "not stated,99.93 weight % (total),spectroscopy",
           1981
          ],
          [
           "N/A",
           [
            "C"
           ],
           "A",
           "Buoyancy - hydrostatic balance",
           "not stated,99.93 weight % (total),spectroscopy",
           1981
          ],
          [
           "N/A",
           [
            "C"
           ],
           "A",
           "Buoyancy - hydrostatic balance",
           "not stated,99.93 weight % (total),spectroscopy",
           1981
          ],
          [
           "N/A",
           [
            "C"
           ],
           "A",
           "Buoyancy - hydrostatic balance",
           "not stated,99.93 weight % (total),spectroscopy",
           1981
          ],
          [
           "N/A",
           [
            "C"
           ],
           "A",
           "Buoyancy - hydrostatic balance",
           "not stated,99.93 weight % (total),spectroscopy",
           1981
          ],
          [
           "N/A",
           [
            "C"
           ],
           "A",
           "Buoyancy - hydrostatic balance",
           "not stated,99.93 weight % (total),spectroscopy",
           1981
          ],
          [
           "N/A",
           [
            "C"
           ],
           "A",
           "Buoyancy - hydrostatic balance",
           "not stated,99.93 weight % (total),spectroscopy",
           1981
          ],
          [
           "N/A",
           [
            "C"
           ],
           "A",
           "Buoyancy - hydrostatic balance",
           "not stated,99.93 weight % (total),spectroscopy",
           1981
          ],
          [
           "N/A",
           [
            "C"
           ],
           "A",
           "Buoyancy - hydrostatic balance",
           "not stated,99.93 weight % (total),spectroscopy",
           1981
          ],
          [
           "N/A",
           [
            "C"
           ],
           "A",
           "Buoyancy - hydrostatic balance",
           "not stated,99.93 weight % (total),spectroscopy",
           1981
          ],
          [
           "N/A",
           [
            "C"
           ],
           "A",
           "Buoyancy - hydrostatic balance",
           "not stated,99.93 weight % (total),spectroscopy",
           1981
          ]
         ],
         "error_y": {
          "array": [
           0.5,
           0.5,
           0.5,
           0.5,
           0.5,
           0.5,
           0.5,
           0.5,
           0.5,
           0.5,
           0.5,
           0.5,
           0.5,
           0.5,
           0.5,
           0.5,
           0.5
          ]
         },
         "hovertemplate": "Data Set ID=21047<br>Temperature: F=%{x}<br>Specific density: kg/m**3=%{y}<br>Ref Temp=%{customdata[0]}<br>State=%{customdata[1]}<br>Representation=%{customdata[2]}<br>Method=%{customdata[3]}<br>Description=%{customdata[4]}<br>Year=%{customdata[5]}<extra></extra>",
         "legendgroup": "21047",
         "marker": {
          "color": "#FF97FF",
          "symbol": "circle"
         },
         "mode": "markers",
         "name": "21047",
         "orientation": "v",
         "showlegend": true,
         "type": "scatter",
         "x": [
          67.73000000000005,
          67.73000000000005,
          67.73000000000005,
          67.73000000000005,
          67.73000000000005,
          67.73000000000005,
          67.73000000000005,
          67.73000000000005,
          67.73000000000005,
          67.73000000000005,
          67.73000000000005,
          67.73000000000005,
          67.73000000000005,
          67.73000000000005,
          67.73000000000005,
          67.73000000000005,
          67.73000000000005
         ],
         "xaxis": "x",
         "y": [
          8935,
          8939,
          8944,
          8932,
          8936,
          8940,
          8948,
          8939,
          8937,
          8940,
          8935,
          8946,
          8943,
          8937,
          8936,
          8937,
          8944
         ],
         "yaxis": "y"
        },
        {
         "customdata": [
          [
           "N/A",
           [
            "L"
           ],
           "A",
           "from weight of sessile drop - volume from negative film",
           "not stated",
           1989
          ],
          [
           "N/A",
           [
            "L"
           ],
           "A",
           "from weight of sessile drop - volume from negative film",
           "not stated",
           1989
          ],
          [
           "N/A",
           [
            "L"
           ],
           "A",
           "from weight of sessile drop - volume from negative film",
           "not stated",
           1989
          ],
          [
           "N/A",
           [
            "L"
           ],
           "A",
           "from weight of sessile drop - volume from negative film",
           "not stated",
           1989
          ],
          [
           "N/A",
           [
            "L"
           ],
           "A",
           "from weight of sessile drop - volume from negative film",
           "not stated",
           1989
          ],
          [
           "N/A",
           [
            "L"
           ],
           "A",
           "from weight of sessile drop - volume from negative film",
           "not stated",
           1989
          ],
          [
           "N/A",
           [
            "L"
           ],
           "A",
           "from weight of sessile drop - volume from negative film",
           "not stated",
           1989
          ],
          [
           "N/A",
           [
            "L"
           ],
           "A",
           "from weight of sessile drop - volume from negative film",
           "not stated",
           1989
          ],
          [
           "N/A",
           [
            "L"
           ],
           "A",
           "from weight of sessile drop - volume from negative film",
           "not stated",
           1989
          ],
          [
           "N/A",
           [
            "L"
           ],
           "A",
           "from weight of sessile drop - volume from negative film",
           "not stated",
           1989
          ],
          [
           "N/A",
           [
            "L"
           ],
           "A",
           "from weight of sessile drop - volume from negative film",
           "not stated",
           1989
          ],
          [
           "N/A",
           [
            "L"
           ],
           "A",
           "from weight of sessile drop - volume from negative film",
           "not stated",
           1989
          ],
          [
           "N/A",
           [
            "L"
           ],
           "A",
           "from weight of sessile drop - volume from negative film",
           "not stated",
           1989
          ],
          [
           "N/A",
           [
            "L"
           ],
           "A",
           "from weight of sessile drop - volume from negative film",
           "not stated",
           1989
          ],
          [
           "N/A",
           [
            "L"
           ],
           "A",
           "from weight of sessile drop - volume from negative film",
           "not stated",
           1989
          ],
          [
           "N/A",
           [
            "L"
           ],
           "A",
           "from weight of sessile drop - volume from negative film",
           "not stated",
           1989
          ],
          [
           "N/A",
           [
            "L"
           ],
           "A",
           "from weight of sessile drop - volume from negative film",
           "not stated",
           1989
          ],
          [
           "N/A",
           [
            "L"
           ],
           "A",
           "from weight of sessile drop - volume from negative film",
           "not stated",
           1989
          ],
          [
           "N/A",
           [
            "L"
           ],
           "A",
           "from weight of sessile drop - volume from negative film",
           "not stated",
           1989
          ],
          [
           "N/A",
           [
            "L"
           ],
           "A",
           "from weight of sessile drop - volume from negative film",
           "not stated",
           1989
          ],
          [
           "N/A",
           [
            "L"
           ],
           "A",
           "from weight of sessile drop - volume from negative film",
           "not stated",
           1989
          ],
          [
           "N/A",
           [
            "L"
           ],
           "A",
           "from weight of sessile drop - volume from negative film",
           "not stated",
           1989
          ],
          [
           "N/A",
           [
            "L"
           ],
           "A",
           "from weight of sessile drop - volume from negative film",
           "not stated",
           1989
          ],
          [
           "N/A",
           [
            "L"
           ],
           "A",
           "from weight of sessile drop - volume from negative film",
           "not stated",
           1989
          ],
          [
           "N/A",
           [
            "L"
           ],
           "A",
           "from weight of sessile drop - volume from negative film",
           "not stated",
           1989
          ],
          [
           "N/A",
           [
            "L"
           ],
           "A",
           "from weight of sessile drop - volume from negative film",
           "not stated",
           1989
          ]
         ],
         "error_y": {
          "array": [
           120.742,
           120.709,
           120.675,
           120.64,
           120.606,
           120.572,
           120.538,
           120.504,
           120.469,
           120.435,
           120.4,
           120.367,
           120.333,
           120.298,
           120.264,
           120.23,
           120.197,
           120.162,
           120.127,
           120.093,
           120.058,
           120.025,
           119.991,
           119.957,
           119.922,
           119.887
          ]
         },
         "hovertemplate": "Data Set ID=22391<br>Temperature: F=%{x}<br>Specific density: kg/m**3=%{y}<br>Ref Temp=%{customdata[0]}<br>State=%{customdata[1]}<br>Representation=%{customdata[2]}<br>Method=%{customdata[3]}<br>Description=%{customdata[4]}<br>Year=%{customdata[5]}<extra></extra>",
         "legendgroup": "22391",
         "marker": {
          "color": "#FECB52",
          "symbol": "circle"
         },
         "mode": "markers",
         "name": "22391",
         "orientation": "v",
         "showlegend": true,
         "type": "scatter",
         "x": [
          1988.33,
          2024.33,
          2060.33,
          2096.33,
          2132.33,
          2168.33,
          2204.33,
          2240.33,
          2276.33,
          2312.33,
          2348.33,
          2384.33,
          2420.33,
          2456.33,
          2492.33,
          2528.33,
          2564.33,
          2600.33,
          2636.33,
          2672.33,
          2708.33,
          2744.33,
          2780.33,
          2816.33,
          2852.33,
          2888.33
         ],
         "xaxis": "x",
         "y": [
          8049.5,
          8047.3,
          8045,
          8042.7,
          8040.4,
          8038.1,
          8035.9,
          8033.6,
          8031.3,
          8029,
          8026.7,
          8024.5,
          8022.2,
          8019.9,
          8017.6,
          8015.3,
          8013.1,
          8010.8,
          8008.5,
          8006.2,
          8003.9,
          8001.7,
          7999.4,
          7997.1,
          7994.8,
          7992.5
         ],
         "yaxis": "y"
        },
        {
         "customdata": [
          [
           "N/A",
           [
            "C"
           ],
           "A",
           "Gamma attenuation method",
           "not stated,99.99 % (total),",
           1992
          ],
          [
           "N/A",
           [
            "C"
           ],
           "A",
           "Gamma attenuation method",
           "not stated,99.99 % (total),",
           1992
          ],
          [
           "N/A",
           [
            "C"
           ],
           "A",
           "Gamma attenuation method",
           "not stated,99.99 % (total),",
           1992
          ],
          [
           "N/A",
           [
            "C"
           ],
           "A",
           "Gamma attenuation method",
           "not stated,99.99 % (total),",
           1992
          ],
          [
           "N/A",
           [
            "C"
           ],
           "A",
           "Gamma attenuation method",
           "not stated,99.99 % (total),",
           1992
          ],
          [
           "N/A",
           [
            "C"
           ],
           "A",
           "Gamma attenuation method",
           "not stated,99.99 % (total),",
           1992
          ],
          [
           "N/A",
           [
            "C"
           ],
           "A",
           "Gamma attenuation method",
           "not stated,99.99 % (total),",
           1992
          ],
          [
           "N/A",
           [
            "C"
           ],
           "A",
           "Gamma attenuation method",
           "not stated,99.99 % (total),",
           1992
          ],
          [
           "N/A",
           [
            "C"
           ],
           "A",
           "Gamma attenuation method",
           "not stated,99.99 % (total),",
           1992
          ],
          [
           "N/A",
           [
            "C"
           ],
           "A",
           "Gamma attenuation method",
           "not stated,99.99 % (total),",
           1992
          ],
          [
           "N/A",
           [
            "C"
           ],
           "A",
           "Gamma attenuation method",
           "not stated,99.99 % (total),",
           1992
          ],
          [
           "N/A",
           [
            "C"
           ],
           "A",
           "Gamma attenuation method",
           "not stated,99.99 % (total),",
           1992
          ],
          [
           "N/A",
           [
            "C"
           ],
           "A",
           "Gamma attenuation method",
           "not stated,99.99 % (total),",
           1992
          ],
          [
           "N/A",
           [
            "C"
           ],
           "A",
           "Gamma attenuation method",
           "not stated,99.99 % (total),",
           1992
          ],
          [
           "N/A",
           [
            "C"
           ],
           "A",
           "Gamma attenuation method",
           "not stated,99.99 % (total),",
           1992
          ],
          [
           "N/A",
           [
            "C"
           ],
           "A",
           "Gamma attenuation method",
           "not stated,99.99 % (total),",
           1992
          ],
          [
           "N/A",
           [
            "C"
           ],
           "A",
           "Gamma attenuation method",
           "not stated,99.99 % (total),",
           1992
          ],
          [
           "N/A",
           [
            "C"
           ],
           "A",
           "Gamma attenuation method",
           "not stated,99.99 % (total),",
           1992
          ],
          [
           "N/A",
           [
            "C"
           ],
           "A",
           "Gamma attenuation method",
           "not stated,99.99 % (total),",
           1992
          ],
          [
           "N/A",
           [
            "C"
           ],
           "A",
           "Gamma attenuation method",
           "not stated,99.99 % (total),",
           1992
          ],
          [
           "N/A",
           [
            "C"
           ],
           "A",
           "Gamma attenuation method",
           "not stated,99.99 % (total),",
           1992
          ],
          [
           "N/A",
           [
            "C"
           ],
           "A",
           "Gamma attenuation method",
           "not stated,99.99 % (total),",
           1992
          ],
          [
           "N/A",
           [
            "C"
           ],
           "A",
           "Gamma attenuation method",
           "not stated,99.99 % (total),",
           1992
          ]
         ],
         "error_y": {
          "array": [
           16.9473,
           16.9414,
           16.9203,
           16.8766,
           16.8409,
           16.9039,
           16.8362,
           16.8583,
           16.8238,
           16.7981,
           16.8587,
           16.784,
           16.8388,
           16.8049,
           16.7576,
           16.7745,
           16.7546,
           16.7807,
           16.7394,
           16.7509,
           16.7142,
           16.6844,
           16.696
          ]
         },
         "hovertemplate": "Data Set ID=22797<br>Temperature: F=%{x}<br>Specific density: kg/m**3=%{y}<br>Ref Temp=%{customdata[0]}<br>State=%{customdata[1]}<br>Representation=%{customdata[2]}<br>Method=%{customdata[3]}<br>Description=%{customdata[4]}<br>Year=%{customdata[5]}<extra></extra>",
         "legendgroup": "22797",
         "marker": {
          "color": "#636efa",
          "symbol": "circle"
         },
         "mode": "markers",
         "name": "22797",
         "orientation": "v",
         "showlegend": true,
         "type": "scatter",
         "x": [
          1716.17,
          1731.902,
          1756.0580000000002,
          1766.8760000000002,
          1786.316,
          1790.42,
          1804.6760000000002,
          1818.5360000000003,
          1829.8580000000002,
          1849.5500000000002,
          1850.5220000000002,
          1870.8080000000002,
          1871.258,
          1884.416,
          1899.95,
          1915.1239999999998,
          1929.0560000000003,
          1940.558,
          1943.4920000000002,
          1956.8480000000002,
          1972.364,
          1978.9700000000003,
          1987.3400000000004
         ],
         "xaxis": "x",
         "y": [
          8473.67,
          8470.72,
          8460.17,
          8438.29,
          8420.47,
          8451.93,
          8418.1,
          8429.13,
          8411.91,
          8399.05,
          8429.35,
          8392,
          8419.39,
          8402.46,
          8378.82,
          8387.23,
          8377.29,
          8390.37,
          8369.68,
          8375.47,
          8357.08,
          8342.2,
          8348.01
         ],
         "yaxis": "y"
        },
        {
         "customdata": [
          [
           "N/A",
           [
            "C",
            "L"
           ],
           "A",
           "Gamma attenuation method",
           "not stated,99.99 % (total),",
           1992
          ],
          [
           "N/A",
           [
            "C",
            "L"
           ],
           "A",
           "Gamma attenuation method",
           "not stated,99.99 % (total),",
           1992
          ],
          [
           "N/A",
           [
            "C",
            "L"
           ],
           "A",
           "Gamma attenuation method",
           "not stated,99.99 % (total),",
           1992
          ],
          [
           "N/A",
           [
            "C",
            "L"
           ],
           "A",
           "Gamma attenuation method",
           "not stated,99.99 % (total),",
           1992
          ],
          [
           "N/A",
           [
            "C",
            "L"
           ],
           "A",
           "Gamma attenuation method",
           "not stated,99.99 % (total),",
           1992
          ],
          [
           "N/A",
           [
            "C",
            "L"
           ],
           "A",
           "Gamma attenuation method",
           "not stated,99.99 % (total),",
           1992
          ],
          [
           "N/A",
           [
            "C",
            "L"
           ],
           "A",
           "Gamma attenuation method",
           "not stated,99.99 % (total),",
           1992
          ],
          [
           "N/A",
           [
            "C",
            "L"
           ],
           "A",
           "Gamma attenuation method",
           "not stated,99.99 % (total),",
           1992
          ],
          [
           "N/A",
           [
            "C",
            "L"
           ],
           "A",
           "Gamma attenuation method",
           "not stated,99.99 % (total),",
           1992
          ]
         ],
         "error_y": {
          "array": [
           16.6511,
           16.6208,
           15.9653,
           16.2304,
           15.9379,
           16.1063,
           16.083,
           16.4075,
           16.3813
          ]
         },
         "hovertemplate": "Data Set ID=22798<br>Temperature: F=%{x}<br>Specific density: kg/m**3=%{y}<br>Ref Temp=%{customdata[0]}<br>State=%{customdata[1]}<br>Representation=%{customdata[2]}<br>Method=%{customdata[3]}<br>Description=%{customdata[4]}<br>Year=%{customdata[5]}<extra></extra>",
         "legendgroup": "22798",
         "marker": {
          "color": "#EF553B",
          "symbol": "circle"
         },
         "mode": "markers",
         "name": "22798",
         "orientation": "v",
         "showlegend": true,
         "type": "scatter",
         "x": [
          1990.5439999999999,
          1990.8500000000001,
          1991.2459999999996,
          1991.408,
          1991.552,
          1991.5700000000002,
          1992.65,
          1993.244,
          1994.864
         ],
         "xaxis": "x",
         "y": [
          8325.57,
          8310.42,
          7982.64,
          8115.2,
          7968.94,
          8053.14,
          8041.49,
          8203.77,
          8190.66
         ],
         "yaxis": "y"
        },
        {
         "customdata": [
          [
           "N/A",
           [
            "L"
           ],
           "A",
           "Gamma attenuation method",
           "not stated,99.99 % (total),",
           1992
          ],
          [
           "N/A",
           [
            "L"
           ],
           "A",
           "Gamma attenuation method",
           "not stated,99.99 % (total),",
           1992
          ],
          [
           "N/A",
           [
            "L"
           ],
           "A",
           "Gamma attenuation method",
           "not stated,99.99 % (total),",
           1992
          ],
          [
           "N/A",
           [
            "L"
           ],
           "A",
           "Gamma attenuation method",
           "not stated,99.99 % (total),",
           1992
          ],
          [
           "N/A",
           [
            "L"
           ],
           "A",
           "Gamma attenuation method",
           "not stated,99.99 % (total),",
           1992
          ],
          [
           "N/A",
           [
            "L"
           ],
           "A",
           "Gamma attenuation method",
           "not stated,99.99 % (total),",
           1992
          ],
          [
           "N/A",
           [
            "L"
           ],
           "A",
           "Gamma attenuation method",
           "not stated,99.99 % (total),",
           1992
          ],
          [
           "N/A",
           [
            "L"
           ],
           "A",
           "Gamma attenuation method",
           "not stated,99.99 % (total),",
           1992
          ],
          [
           "N/A",
           [
            "L"
           ],
           "A",
           "Gamma attenuation method",
           "not stated,99.99 % (total),",
           1992
          ],
          [
           "N/A",
           [
            "L"
           ],
           "A",
           "Gamma attenuation method",
           "not stated,99.99 % (total),",
           1992
          ],
          [
           "N/A",
           [
            "L"
           ],
           "A",
           "Gamma attenuation method",
           "not stated,99.99 % (total),",
           1992
          ],
          [
           "N/A",
           [
            "L"
           ],
           "A",
           "Gamma attenuation method",
           "not stated,99.99 % (total),",
           1992
          ],
          [
           "N/A",
           [
            "L"
           ],
           "A",
           "Gamma attenuation method",
           "not stated,99.99 % (total),",
           1992
          ],
          [
           "N/A",
           [
            "L"
           ],
           "A",
           "Gamma attenuation method",
           "not stated,99.99 % (total),",
           1992
          ],
          [
           "N/A",
           [
            "L"
           ],
           "A",
           "Gamma attenuation method",
           "not stated,99.99 % (total),",
           1992
          ],
          [
           "N/A",
           [
            "L"
           ],
           "A",
           "Gamma attenuation method",
           "not stated,99.99 % (total),",
           1992
          ],
          [
           "N/A",
           [
            "L"
           ],
           "A",
           "Gamma attenuation method",
           "not stated,99.99 % (total),",
           1992
          ],
          [
           "N/A",
           [
            "L"
           ],
           "A",
           "Gamma attenuation method",
           "not stated,99.99 % (total),",
           1992
          ],
          [
           "N/A",
           [
            "L"
           ],
           "A",
           "Gamma attenuation method",
           "not stated,99.99 % (total),",
           1992
          ],
          [
           "N/A",
           [
            "L"
           ],
           "A",
           "Gamma attenuation method",
           "not stated,99.99 % (total),",
           1992
          ],
          [
           "N/A",
           [
            "L"
           ],
           "A",
           "Gamma attenuation method",
           "not stated,99.99 % (total),",
           1992
          ],
          [
           "N/A",
           [
            "L"
           ],
           "A",
           "Gamma attenuation method",
           "not stated,99.99 % (total),",
           1992
          ],
          [
           "N/A",
           [
            "L"
           ],
           "A",
           "Gamma attenuation method",
           "not stated,99.99 % (total),",
           1992
          ],
          [
           "N/A",
           [
            "L"
           ],
           "A",
           "Gamma attenuation method",
           "not stated,99.99 % (total),",
           1992
          ],
          [
           "N/A",
           [
            "L"
           ],
           "A",
           "Gamma attenuation method",
           "not stated,99.99 % (total),",
           1992
          ],
          [
           "N/A",
           [
            "L"
           ],
           "A",
           "Gamma attenuation method",
           "not stated,99.99 % (total),",
           1992
          ],
          [
           "N/A",
           [
            "L"
           ],
           "A",
           "Gamma attenuation method",
           "not stated,99.99 % (total),",
           1992
          ],
          [
           "N/A",
           [
            "L"
           ],
           "A",
           "Gamma attenuation method",
           "not stated,99.99 % (total),",
           1992
          ],
          [
           "N/A",
           [
            "L"
           ],
           "A",
           "Gamma attenuation method",
           "not stated,99.99 % (total),",
           1992
          ],
          [
           "N/A",
           [
            "L"
           ],
           "A",
           "Gamma attenuation method",
           "not stated,99.99 % (total),",
           1992
          ],
          [
           "N/A",
           [
            "L"
           ],
           "A",
           "Gamma attenuation method",
           "not stated,99.99 % (total),",
           1992
          ],
          [
           "N/A",
           [
            "L"
           ],
           "A",
           "Gamma attenuation method",
           "not stated,99.99 % (total),",
           1992
          ]
         ],
         "error_y": {
          "array": [
           15.9018,
           15.8784,
           15.8841,
           15.8463,
           15.8532,
           15.8373,
           15.8222,
           15.8075,
           15.7765,
           15.808,
           15.7654,
           15.7577,
           15.7605,
           15.7349,
           15.7319,
           15.7103,
           15.709,
           15.6821,
           15.6768,
           15.6534,
           15.6341,
           15.6165,
           15.6012,
           15.5766,
           15.5422,
           15.5404,
           15.5584,
           15.5355,
           15.4982,
           15.4916,
           15.4688,
           15.4664
          ]
         },
         "hovertemplate": "Data Set ID=22799<br>Temperature: F=%{x}<br>Specific density: kg/m**3=%{y}<br>Ref Temp=%{customdata[0]}<br>State=%{customdata[1]}<br>Representation=%{customdata[2]}<br>Method=%{customdata[3]}<br>Description=%{customdata[4]}<br>Year=%{customdata[5]}<extra></extra>",
         "legendgroup": "22799",
         "marker": {
          "color": "#00cc96",
          "symbol": "circle"
         },
         "mode": "markers",
         "name": "22799",
         "orientation": "v",
         "showlegend": true,
         "type": "scatter",
         "x": [
          1986.6200000000001,
          2000.2820000000004,
          2017.8500000000001,
          2019.722,
          2037.5420000000001,
          2061.68,
          2063.282,
          2080.3459999999995,
          2096.3840000000005,
          2098.6879999999996,
          2117.894,
          2133.8959999999997,
          2151.716,
          2157.2599999999998,
          2172.722,
          2182.9820000000004,
          2201.072,
          2212.124,
          2238.602,
          2254.6400000000003,
          2273.7920000000004,
          2293.736,
          2310.8,
          2342.822,
          2353.874,
          2354.936,
          2379.56,
          2400.296,
          2418.4400000000005,
          2441.7680000000005,
          2463.566,
          2482.9700000000003
         ],
         "xaxis": "x",
         "y": [
          7950.89,
          7939.2,
          7942.07,
          7923.13,
          7926.58,
          7918.65,
          7911.08,
          7903.75,
          7888.27,
          7904,
          7882.68,
          7878.85,
          7880.26,
          7867.43,
          7865.94,
          7855.13,
          7854.5,
          7841.07,
          7838.39,
          7826.69,
          7817.03,
          7808.24,
          7800.62,
          7788.31,
          7771.09,
          7770.21,
          7779.18,
          7767.77,
          7749.08,
          7745.82,
          7734.4,
          7733.19
         ],
         "yaxis": "y"
        },
        {
         "customdata": [
          [
           "N/A",
           [
            "C"
           ],
           "A",
           "Buoyancy - hydrostatic balance",
           "origin: commercial source,99.999 weight % (total),stated by supplier,rod",
           1994
          ]
         ],
         "error_y": {
          "array": [
           26.85
          ]
         },
         "hovertemplate": "Data Set ID=23005<br>Temperature: F=%{x}<br>Specific density: kg/m**3=%{y}<br>Ref Temp=%{customdata[0]}<br>State=%{customdata[1]}<br>Representation=%{customdata[2]}<br>Method=%{customdata[3]}<br>Description=%{customdata[4]}<br>Year=%{customdata[5]}<extra></extra>",
         "legendgroup": "23005",
         "marker": {
          "color": "#ab63fa",
          "symbol": "circle"
         },
         "mode": "markers",
         "name": "23005",
         "orientation": "v",
         "showlegend": true,
         "type": "scatter",
         "x": [
          68
         ],
         "xaxis": "x",
         "y": [
          8950
         ],
         "yaxis": "y"
        },
        {
         "customdata": [
          [
           "N/A",
           [
            "L"
           ],
           "A",
           "Not stated",
           "not stated,99.98 % (total),",
           1995
          ],
          [
           "N/A",
           [
            "L"
           ],
           "A",
           "Not stated",
           "not stated,99.98 % (total),",
           1995
          ],
          [
           "N/A",
           [
            "L"
           ],
           "A",
           "Not stated",
           "not stated,99.98 % (total),",
           1995
          ],
          [
           "N/A",
           [
            "L"
           ],
           "A",
           "Not stated",
           "not stated,99.98 % (total),",
           1995
          ],
          [
           "N/A",
           [
            "L"
           ],
           "A",
           "Not stated",
           "not stated,99.98 % (total),",
           1995
          ],
          [
           "N/A",
           [
            "L"
           ],
           "A",
           "Not stated",
           "not stated,99.98 % (total),",
           1995
          ],
          [
           "N/A",
           [
            "L"
           ],
           "A",
           "Not stated",
           "not stated,99.98 % (total),",
           1995
          ],
          [
           "N/A",
           [
            "L"
           ],
           "A",
           "Not stated",
           "not stated,99.98 % (total),",
           1995
          ],
          [
           "N/A",
           [
            "L"
           ],
           "A",
           "Not stated",
           "not stated,99.98 % (total),",
           1995
          ],
          [
           "N/A",
           [
            "L"
           ],
           "A",
           "Not stated",
           "not stated,99.98 % (total),",
           1995
          ],
          [
           "N/A",
           [
            "L"
           ],
           "A",
           "Not stated",
           "not stated,99.98 % (total),",
           1995
          ],
          [
           "N/A",
           [
            "L"
           ],
           "A",
           "Not stated",
           "not stated,99.98 % (total),",
           1995
          ],
          [
           "N/A",
           [
            "L"
           ],
           "A",
           "Not stated",
           "not stated,99.98 % (total),",
           1995
          ],
          [
           "N/A",
           [
            "L"
           ],
           "A",
           "Not stated",
           "not stated,99.98 % (total),",
           1995
          ],
          [
           "N/A",
           [
            "L"
           ],
           "A",
           "Not stated",
           "not stated,99.98 % (total),",
           1995
          ],
          [
           "N/A",
           [
            "L"
           ],
           "A",
           "Not stated",
           "not stated,99.98 % (total),",
           1995
          ],
          [
           "N/A",
           [
            "L"
           ],
           "A",
           "Not stated",
           "not stated,99.98 % (total),",
           1995
          ],
          [
           "N/A",
           [
            "L"
           ],
           "A",
           "Not stated",
           "not stated,99.98 % (total),",
           1995
          ],
          [
           "N/A",
           [
            "L"
           ],
           "A",
           "Not stated",
           "not stated,99.98 % (total),",
           1995
          ],
          [
           "N/A",
           [
            "L"
           ],
           "A",
           "Not stated",
           "not stated,99.98 % (total),",
           1995
          ],
          [
           "N/A",
           [
            "L"
           ],
           "A",
           "Not stated",
           "not stated,99.98 % (total),",
           1995
          ],
          [
           "N/A",
           [
            "L"
           ],
           "A",
           "Not stated",
           "not stated,99.98 % (total),",
           1995
          ],
          [
           "N/A",
           [
            "L"
           ],
           "A",
           "Not stated",
           "not stated,99.98 % (total),",
           1995
          ],
          [
           "N/A",
           [
            "L"
           ],
           "A",
           "Not stated",
           "not stated,99.98 % (total),",
           1995
          ],
          [
           "N/A",
           [
            "L"
           ],
           "A",
           "Not stated",
           "not stated,99.98 % (total),",
           1995
          ],
          [
           "N/A",
           [
            "L"
           ],
           "A",
           "Not stated",
           "not stated,99.98 % (total),",
           1995
          ],
          [
           "N/A",
           [
            "L"
           ],
           "A",
           "Not stated",
           "not stated,99.98 % (total),",
           1995
          ],
          [
           "N/A",
           [
            "L"
           ],
           "A",
           "Not stated",
           "not stated,99.98 % (total),",
           1995
          ],
          [
           "N/A",
           [
            "L"
           ],
           "A",
           "Not stated",
           "not stated,99.98 % (total),",
           1995
          ],
          [
           "N/A",
           [
            "L"
           ],
           "A",
           "Not stated",
           "not stated,99.98 % (total),",
           1995
          ],
          [
           "N/A",
           [
            "L"
           ],
           "A",
           "Not stated",
           "not stated,99.98 % (total),",
           1995
          ],
          [
           "N/A",
           [
            "L"
           ],
           "A",
           "Not stated",
           "not stated,99.98 % (total),",
           1995
          ],
          [
           "N/A",
           [
            "L"
           ],
           "A",
           "Not stated",
           "not stated,99.98 % (total),",
           1995
          ],
          [
           "N/A",
           [
            "L"
           ],
           "A",
           "Not stated",
           "not stated,99.98 % (total),",
           1995
          ],
          [
           "N/A",
           [
            "L"
           ],
           "A",
           "Not stated",
           "not stated,99.98 % (total),",
           1995
          ],
          [
           "N/A",
           [
            "L"
           ],
           "A",
           "Not stated",
           "not stated,99.98 % (total),",
           1995
          ],
          [
           "N/A",
           [
            "L"
           ],
           "A",
           "Not stated",
           "not stated,99.98 % (total),",
           1995
          ],
          [
           "N/A",
           [
            "L"
           ],
           "A",
           "Not stated",
           "not stated,99.98 % (total),",
           1995
          ],
          [
           "N/A",
           [
            "L"
           ],
           "A",
           "Not stated",
           "not stated,99.98 % (total),",
           1995
          ],
          [
           "N/A",
           [
            "L"
           ],
           "A",
           "Not stated",
           "not stated,99.98 % (total),",
           1995
          ],
          [
           "N/A",
           [
            "L"
           ],
           "A",
           "Not stated",
           "not stated,99.98 % (total),",
           1995
          ],
          [
           "N/A",
           [
            "L"
           ],
           "A",
           "Not stated",
           "not stated,99.98 % (total),",
           1995
          ],
          [
           "N/A",
           [
            "L"
           ],
           "A",
           "Not stated",
           "not stated,99.98 % (total),",
           1995
          ],
          [
           "N/A",
           [
            "L"
           ],
           "A",
           "Not stated",
           "not stated,99.98 % (total),",
           1995
          ],
          [
           "N/A",
           [
            "L"
           ],
           "A",
           "Not stated",
           "not stated,99.98 % (total),",
           1995
          ],
          [
           "N/A",
           [
            "L"
           ],
           "A",
           "Not stated",
           "not stated,99.98 % (total),",
           1995
          ],
          [
           "N/A",
           [
            "L"
           ],
           "A",
           "Not stated",
           "not stated,99.98 % (total),",
           1995
          ],
          [
           "N/A",
           [
            "L"
           ],
           "A",
           "Not stated",
           "not stated,99.98 % (total),",
           1995
          ],
          [
           "N/A",
           [
            "L"
           ],
           "A",
           "Not stated",
           "not stated,99.98 % (total),",
           1995
          ],
          [
           "N/A",
           [
            "L"
           ],
           "A",
           "Not stated",
           "not stated,99.98 % (total),",
           1995
          ],
          [
           "N/A",
           [
            "L"
           ],
           "A",
           "Not stated",
           "not stated,99.98 % (total),",
           1995
          ],
          [
           "N/A",
           [
            "L"
           ],
           "A",
           "Not stated",
           "not stated,99.98 % (total),",
           1995
          ],
          [
           "N/A",
           [
            "L"
           ],
           "A",
           "Not stated",
           "not stated,99.98 % (total),",
           1995
          ],
          [
           "N/A",
           [
            "L"
           ],
           "A",
           "Not stated",
           "not stated,99.98 % (total),",
           1995
          ],
          [
           "N/A",
           [
            "L"
           ],
           "A",
           "Not stated",
           "not stated,99.98 % (total),",
           1995
          ]
         ],
         "error_y": {
          "array": [
           60.135,
           60.0825,
           60.0375,
           59.9925,
           59.9475,
           59.9025,
           59.8575,
           59.8125,
           59.7675,
           59.7225,
           59.6775,
           59.6325,
           59.58,
           59.535,
           59.49,
           59.445,
           59.4,
           59.355,
           59.31,
           59.265,
           59.22,
           59.175,
           59.13,
           59.0775,
           59.0325,
           58.9875,
           58.9425,
           58.8975,
           58.8525,
           58.8075,
           58.7625,
           58.7175,
           58.6725,
           58.6275,
           58.5825,
           58.53,
           58.485,
           58.44,
           58.395,
           58.35,
           58.305,
           58.26,
           58.215,
           58.17,
           58.125,
           58.08,
           58.0275,
           57.9825,
           57.9375,
           57.8925,
           57.8475,
           57.8025,
           57.7575,
           57.7125,
           57.6675
          ]
         },
         "hovertemplate": "Data Set ID=23178<br>Temperature: F=%{x}<br>Specific density: kg/m**3=%{y}<br>Ref Temp=%{customdata[0]}<br>State=%{customdata[1]}<br>Representation=%{customdata[2]}<br>Method=%{customdata[3]}<br>Description=%{customdata[4]}<br>Year=%{customdata[5]}<extra></extra>",
         "legendgroup": "23178",
         "marker": {
          "color": "#FFA15A",
          "symbol": "circle"
         },
         "mode": "markers",
         "name": "23178",
         "orientation": "v",
         "showlegend": true,
         "type": "scatter",
         "x": [
          1988.33,
          2006.33,
          2024.33,
          2042.33,
          2060.33,
          2078.33,
          2096.33,
          2114.33,
          2132.33,
          2150.33,
          2168.33,
          2186.33,
          2204.33,
          2222.33,
          2240.33,
          2258.33,
          2276.33,
          2294.33,
          2312.33,
          2330.33,
          2348.33,
          2366.33,
          2384.33,
          2402.33,
          2420.33,
          2438.33,
          2456.33,
          2474.33,
          2492.33,
          2510.33,
          2528.33,
          2546.33,
          2564.33,
          2582.33,
          2600.33,
          2618.33,
          2636.33,
          2654.33,
          2672.33,
          2690.33,
          2708.33,
          2726.33,
          2744.33,
          2762.33,
          2780.33,
          2798.33,
          2816.33,
          2834.33,
          2852.33,
          2870.33,
          2888.33,
          2906.33,
          2924.33,
          2942.33,
          2960.33
         ],
         "xaxis": "x",
         "y": [
          8018,
          8011,
          8005,
          7999,
          7993,
          7987,
          7981,
          7975,
          7969,
          7963,
          7957,
          7951,
          7944,
          7938,
          7932,
          7926,
          7920,
          7914,
          7908,
          7902,
          7896,
          7890,
          7884,
          7877,
          7871,
          7865,
          7859,
          7853,
          7847,
          7841,
          7835,
          7829,
          7823,
          7817,
          7811,
          7804,
          7798,
          7792,
          7786,
          7780,
          7774,
          7768,
          7762,
          7756,
          7750,
          7744,
          7737,
          7731,
          7725,
          7719,
          7713,
          7707,
          7701,
          7695,
          7689
         ],
         "yaxis": "y"
        },
        {
         "customdata": [
          [
           "N/A",
           [
            "D"
           ],
           "A",
           "Levitation",
           "not stated,99.999 weight % (total),,rod",
           1996
          ]
         ],
         "error_y": {
          "array": [
           79.94
          ]
         },
         "hovertemplate": "Data Set ID=23291<br>Temperature: F=%{x}<br>Specific density: kg/m**3=%{y}<br>Ref Temp=%{customdata[0]}<br>State=%{customdata[1]}<br>Representation=%{customdata[2]}<br>Method=%{customdata[3]}<br>Description=%{customdata[4]}<br>Year=%{customdata[5]}<extra></extra>",
         "legendgroup": "23291",
         "marker": {
          "color": "#19d3f3",
          "symbol": "circle"
         },
         "mode": "markers",
         "name": "23291",
         "orientation": "v",
         "showlegend": true,
         "type": "scatter",
         "x": [
          1913.45
         ],
         "xaxis": "x",
         "y": [
          7994
         ],
         "yaxis": "y"
        },
        {
         "customdata": [
          [
           "N/A",
           [
            "L"
           ],
           "A",
           "Levitation",
           "not stated,99.999 weight % (total),,rod",
           1996
          ],
          [
           "N/A",
           [
            "L"
           ],
           "A",
           "Levitation",
           "not stated,99.999 weight % (total),,rod",
           1996
          ],
          [
           "N/A",
           [
            "L"
           ],
           "A",
           "Levitation",
           "not stated,99.999 weight % (total),,rod",
           1996
          ],
          [
           "N/A",
           [
            "L"
           ],
           "A",
           "Levitation",
           "not stated,99.999 weight % (total),,rod",
           1996
          ],
          [
           "N/A",
           [
            "L"
           ],
           "A",
           "Levitation",
           "not stated,99.999 weight % (total),,rod",
           1996
          ],
          [
           "N/A",
           [
            "L"
           ],
           "A",
           "Levitation",
           "not stated,99.999 weight % (total),,rod",
           1996
          ],
          [
           "N/A",
           [
            "L"
           ],
           "A",
           "Levitation",
           "not stated,99.999 weight % (total),,rod",
           1996
          ],
          [
           "N/A",
           [
            "L"
           ],
           "A",
           "Levitation",
           "not stated,99.999 weight % (total),,rod",
           1996
          ],
          [
           "N/A",
           [
            "L"
           ],
           "A",
           "Levitation",
           "not stated,99.999 weight % (total),,rod",
           1996
          ],
          [
           "N/A",
           [
            "L"
           ],
           "A",
           "Levitation",
           "not stated,99.999 weight % (total),,rod",
           1996
          ],
          [
           "N/A",
           [
            "L"
           ],
           "A",
           "Levitation",
           "not stated,99.999 weight % (total),,rod",
           1996
          ],
          [
           "N/A",
           [
            "L"
           ],
           "A",
           "Levitation",
           "not stated,99.999 weight % (total),,rod",
           1996
          ],
          [
           "N/A",
           [
            "L"
           ],
           "A",
           "Levitation",
           "not stated,99.999 weight % (total),,rod",
           1996
          ],
          [
           "N/A",
           [
            "L"
           ],
           "A",
           "Levitation",
           "not stated,99.999 weight % (total),,rod",
           1996
          ],
          [
           "N/A",
           [
            "L"
           ],
           "A",
           "Levitation",
           "not stated,99.999 weight % (total),,rod",
           1996
          ]
         ],
         "error_y": {
          "array": [
           78.73,
           79.68,
           79.78,
           79.06,
           78.88,
           78.43,
           79.06,
           78.88,
           79.18,
           78.63,
           78.99,
           77.37,
           78.11,
           77.2,
           77.1
          ]
         },
         "hovertemplate": "Data Set ID=23292<br>Temperature: F=%{x}<br>Specific density: kg/m**3=%{y}<br>Ref Temp=%{customdata[0]}<br>State=%{customdata[1]}<br>Representation=%{customdata[2]}<br>Method=%{customdata[3]}<br>Description=%{customdata[4]}<br>Year=%{customdata[5]}<extra></extra>",
         "legendgroup": "23292",
         "marker": {
          "color": "#FF6692",
          "symbol": "circle"
         },
         "mode": "markers",
         "name": "23292",
         "orientation": "v",
         "showlegend": true,
         "type": "scatter",
         "x": [
          1940.9900000000005,
          1966.1900000000003,
          2004.7099999999998,
          2009.5700000000002,
          2014.0700000000002,
          2026.3099999999997,
          2070.59,
          2074.1900000000005,
          2084.0900000000006,
          2110.3700000000003,
          2165.0900000000006,
          2252.0299999999997,
          2311.07,
          2312.15,
          2511.7700000000004
         ],
         "xaxis": "x",
         "y": [
          7873,
          7968,
          7978,
          7906,
          7888,
          7843,
          7906,
          7888,
          7918,
          7863,
          7899,
          7737,
          7811,
          7720,
          7710
         ],
         "yaxis": "y"
        },
        {
         "customdata": [
          [
           "N/A",
           [
            "D"
           ],
           "A",
           "Shadow graph",
           "not stated",
           2003
          ],
          [
           "N/A",
           [
            "D"
           ],
           "A",
           "Shadow graph",
           "not stated",
           2003
          ],
          [
           "N/A",
           [
            "D"
           ],
           "A",
           "Shadow graph",
           "not stated",
           2003
          ],
          [
           "N/A",
           [
            "D"
           ],
           "A",
           "Shadow graph",
           "not stated",
           2003
          ],
          [
           "N/A",
           [
            "D"
           ],
           "A",
           "Shadow graph",
           "not stated",
           2003
          ],
          [
           "N/A",
           [
            "D"
           ],
           "A",
           "Shadow graph",
           "not stated",
           2003
          ]
         ],
         "error_y": {
          "array": [
           157.72,
           155.68,
           154.6,
           153.4,
           153.1,
           151.18
          ]
         },
         "hovertemplate": "Data Set ID=24651<br>Temperature: F=%{x}<br>Specific density: kg/m**3=%{y}<br>Ref Temp=%{customdata[0]}<br>State=%{customdata[1]}<br>Representation=%{customdata[2]}<br>Method=%{customdata[3]}<br>Description=%{customdata[4]}<br>Year=%{customdata[5]}<extra></extra>",
         "legendgroup": "24651",
         "marker": {
          "color": "#B6E880",
          "symbol": "circle"
         },
         "mode": "markers",
         "name": "24651",
         "orientation": "v",
         "showlegend": true,
         "type": "scatter",
         "x": [
          2060.6000000000004,
          2222.6,
          2355.8,
          2514.2000000000003,
          2620.4,
          2777
         ],
         "xaxis": "x",
         "y": [
          7886,
          7784,
          7730,
          7670,
          7655,
          7559
         ],
         "yaxis": "y"
        },
        {
         "customdata": [
          [
           "N/A",
           [
            "L"
           ],
           "A",
           "Shadow graph",
           "not stated",
           2004
          ],
          [
           "N/A",
           [
            "L"
           ],
           "A",
           "Shadow graph",
           "not stated",
           2004
          ],
          [
           "N/A",
           [
            "L"
           ],
           "A",
           "Shadow graph",
           "not stated",
           2004
          ],
          [
           "N/A",
           [
            "L"
           ],
           "A",
           "Shadow graph",
           "not stated",
           2004
          ],
          [
           "N/A",
           [
            "L"
           ],
           "A",
           "Shadow graph",
           "not stated",
           2004
          ],
          [
           "N/A",
           [
            "L"
           ],
           "A",
           "Shadow graph",
           "not stated",
           2004
          ]
         ],
         "error_y": {
          "array": [
           78.867,
           77.843,
           77.331,
           76.742,
           76.538,
           75.642
          ]
         },
         "hovertemplate": "Data Set ID=24884<br>Temperature: F=%{x}<br>Specific density: kg/m**3=%{y}<br>Ref Temp=%{customdata[0]}<br>State=%{customdata[1]}<br>Representation=%{customdata[2]}<br>Method=%{customdata[3]}<br>Description=%{customdata[4]}<br>Year=%{customdata[5]}<extra></extra>",
         "legendgroup": "24884",
         "marker": {
          "color": "#FF97FF",
          "symbol": "circle"
         },
         "mode": "markers",
         "name": "24884",
         "orientation": "v",
         "showlegend": true,
         "type": "scatter",
         "x": [
          2060.2400000000007,
          2222.7799999999997,
          2355.8540000000003,
          2513.93,
          2620.706,
          2776.946
         ],
         "xaxis": "x",
         "y": [
          7886.7,
          7784.3,
          7733.1,
          7674.2,
          7653.8,
          7564.2
         ],
         "yaxis": "y"
        },
        {
         "customdata": [
          [
           "N/A",
           [
            "L"
           ],
           "A",
           "Shadow graph",
           "not stated",
           2004
          ],
          [
           "N/A",
           [
            "L"
           ],
           "A",
           "Shadow graph",
           "not stated",
           2004
          ],
          [
           "N/A",
           [
            "L"
           ],
           "A",
           "Shadow graph",
           "not stated",
           2004
          ],
          [
           "N/A",
           [
            "L"
           ],
           "A",
           "Shadow graph",
           "not stated",
           2004
          ],
          [
           "N/A",
           [
            "L"
           ],
           "A",
           "Shadow graph",
           "not stated",
           2004
          ],
          [
           "N/A",
           [
            "L"
           ],
           "A",
           "Shadow graph",
           "not stated",
           2004
          ]
         ],
         "error_y": {
          "array": [
           118.261,
           116.725,
           115.918,
           115.005,
           114.777,
           113.328
          ]
         },
         "hovertemplate": "Data Set ID=24988<br>Temperature: F=%{x}<br>Specific density: kg/m**3=%{y}<br>Ref Temp=%{customdata[0]}<br>State=%{customdata[1]}<br>Representation=%{customdata[2]}<br>Method=%{customdata[3]}<br>Description=%{customdata[4]}<br>Year=%{customdata[5]}<extra></extra>",
         "legendgroup": "24988",
         "marker": {
          "color": "#FECB52",
          "symbol": "circle"
         },
         "mode": "markers",
         "name": "24988",
         "orientation": "v",
         "showlegend": true,
         "type": "scatter",
         "x": [
          2061.32,
          2223.32,
          2357.2400000000002,
          2515.6400000000003,
          2621.66,
          2777.9
         ],
         "xaxis": "x",
         "y": [
          7884.1,
          7781.7,
          7727.9,
          7667,
          7651.8,
          7555.2
         ],
         "yaxis": "y"
        },
        {
         "customdata": [
          [
           "N/A",
           [
            "L"
           ],
           "A",
           "Shadow graph",
           "not stated",
           2005
          ]
         ],
         "error_y": {
          "array": [
           113.7
          ]
         },
         "hovertemplate": "Data Set ID=25191<br>Temperature: F=%{x}<br>Specific density: kg/m**3=%{y}<br>Ref Temp=%{customdata[0]}<br>State=%{customdata[1]}<br>Representation=%{customdata[2]}<br>Method=%{customdata[3]}<br>Description=%{customdata[4]}<br>Year=%{customdata[5]}<extra></extra>",
         "legendgroup": "25191",
         "marker": {
          "color": "#636efa",
          "symbol": "circle"
         },
         "mode": "markers",
         "name": "25191",
         "orientation": "v",
         "showlegend": true,
         "type": "scatter",
         "x": [
          2731.73
         ],
         "xaxis": "x",
         "y": [
          7580
         ],
         "yaxis": "y"
        },
        {
         "customdata": [
          [
           "N/A",
           [
            "L"
           ],
           "A",
           "Shadow graph",
           "not stated",
           2006
          ],
          [
           "N/A",
           [
            "L"
           ],
           "A",
           "Shadow graph",
           "not stated",
           2006
          ],
          [
           "N/A",
           [
            "L"
           ],
           "A",
           "Shadow graph",
           "not stated",
           2006
          ],
          [
           "N/A",
           [
            "L"
           ],
           "A",
           "Shadow graph",
           "not stated",
           2006
          ],
          [
           "N/A",
           [
            "L"
           ],
           "A",
           "Shadow graph",
           "not stated",
           2006
          ],
          [
           "N/A",
           [
            "L"
           ],
           "A",
           "Shadow graph",
           "not stated",
           2006
          ]
         ],
         "error_y": {
          "array": [
           118.27,
           116.735,
           115.933,
           115.035,
           114.797,
           113.361
          ]
         },
         "hovertemplate": "Data Set ID=25420<br>Temperature: F=%{x}<br>Specific density: kg/m**3=%{y}<br>Ref Temp=%{customdata[0]}<br>State=%{customdata[1]}<br>Representation=%{customdata[2]}<br>Method=%{customdata[3]}<br>Description=%{customdata[4]}<br>Year=%{customdata[5]}<extra></extra>",
         "legendgroup": "25420",
         "marker": {
          "color": "#EF553B",
          "symbol": "circle"
         },
         "mode": "markers",
         "name": "25420",
         "orientation": "v",
         "showlegend": true,
         "type": "scatter",
         "x": [
          2061.32,
          2223.4820000000004,
          2356.196,
          2515.2799999999997,
          2621.3540000000003,
          2777.3599999999997
         ],
         "xaxis": "x",
         "y": [
          7884.69,
          7782.33,
          7728.84,
          7668.98,
          7653.16,
          7557.42
         ],
         "yaxis": "y"
        },
        {
         "customdata": [
          [
           "N/A",
           [
            "L"
           ],
           "A",
           "Shadow graph",
           "not stated",
           2006
          ]
         ],
         "error_y": {
          "array": [
           114
          ]
         },
         "hovertemplate": "Data Set ID=25421<br>Temperature: F=%{x}<br>Specific density: kg/m**3=%{y}<br>Ref Temp=%{customdata[0]}<br>State=%{customdata[1]}<br>Representation=%{customdata[2]}<br>Method=%{customdata[3]}<br>Description=%{customdata[4]}<br>Year=%{customdata[5]}<extra></extra>",
         "legendgroup": "25421",
         "marker": {
          "color": "#00cc96",
          "symbol": "circle"
         },
         "mode": "markers",
         "name": "25421",
         "orientation": "v",
         "showlegend": true,
         "type": "scatter",
         "x": [
          2701.4
         ],
         "xaxis": "x",
         "y": [
          7600
         ],
         "yaxis": "y"
        },
        {
         "customdata": [
          [
           "N/A",
           [
            "L"
           ],
           "A",
           "Shadow graph",
           "not stated",
           2006
          ],
          [
           "N/A",
           [
            "L"
           ],
           "A",
           "Shadow graph",
           "not stated",
           2006
          ],
          [
           "N/A",
           [
            "L"
           ],
           "A",
           "Shadow graph",
           "not stated",
           2006
          ],
          [
           "N/A",
           [
            "L"
           ],
           "A",
           "Shadow graph",
           "not stated",
           2006
          ],
          [
           "N/A",
           [
            "L"
           ],
           "A",
           "Shadow graph",
           "not stated",
           2006
          ],
          [
           "N/A",
           [
            "L"
           ],
           "A",
           "Shadow graph",
           "not stated",
           2006
          ]
         ],
         "error_y": {
          "array": [
           78.9,
           77.8,
           77.3,
           76.7,
           76.6,
           75.6
          ]
         },
         "hovertemplate": "Data Set ID=25444<br>Temperature: F=%{x}<br>Specific density: kg/m**3=%{y}<br>Ref Temp=%{customdata[0]}<br>State=%{customdata[1]}<br>Representation=%{customdata[2]}<br>Method=%{customdata[3]}<br>Description=%{customdata[4]}<br>Year=%{customdata[5]}<extra></extra>",
         "legendgroup": "25444",
         "marker": {
          "color": "#ab63fa",
          "symbol": "circle"
         },
         "mode": "markers",
         "name": "25444",
         "orientation": "v",
         "showlegend": true,
         "type": "scatter",
         "x": [
          2060.6000000000004,
          2222.6,
          2355.8,
          2514.2000000000003,
          2620.4,
          2777
         ],
         "xaxis": "x",
         "y": [
          7890,
          7780,
          7730,
          7670,
          7660,
          7560
         ],
         "yaxis": "y"
        },
        {
         "customdata": [
          [
           "N/A",
           [
            "L"
           ],
           "A",
           "Sessile drop method",
           "not stated,99.995 % (total),",
           2006
          ],
          [
           "N/A",
           [
            "L"
           ],
           "A",
           "Sessile drop method",
           "not stated,99.995 % (total),",
           2006
          ],
          [
           "N/A",
           [
            "L"
           ],
           "A",
           "Sessile drop method",
           "not stated,99.995 % (total),",
           2006
          ],
          [
           "N/A",
           [
            "L"
           ],
           "A",
           "Sessile drop method",
           "not stated,99.995 % (total),",
           2006
          ],
          [
           "N/A",
           [
            "L"
           ],
           "A",
           "Sessile drop method",
           "not stated,99.995 % (total),",
           2006
          ],
          [
           "N/A",
           [
            "L"
           ],
           "A",
           "Sessile drop method",
           "not stated,99.995 % (total),",
           2006
          ],
          [
           "N/A",
           [
            "L"
           ],
           "A",
           "Sessile drop method",
           "not stated,99.995 % (total),",
           2006
          ],
          [
           "N/A",
           [
            "L"
           ],
           "A",
           "Sessile drop method",
           "not stated,99.995 % (total),",
           2006
          ],
          [
           "N/A",
           [
            "L"
           ],
           "A",
           "Sessile drop method",
           "not stated,99.995 % (total),",
           2006
          ],
          [
           "N/A",
           [
            "L"
           ],
           "A",
           "Sessile drop method",
           "not stated,99.995 % (total),",
           2006
          ]
         ],
         "error_y": {
          "array": [
           160.4,
           161.02,
           159.4,
           159.22,
           158.6,
           157.4,
           157.2,
           156.6,
           155.6,
           155.4
          ]
         },
         "hovertemplate": "Data Set ID=25488<br>Temperature: F=%{x}<br>Specific density: kg/m**3=%{y}<br>Ref Temp=%{customdata[0]}<br>State=%{customdata[1]}<br>Representation=%{customdata[2]}<br>Method=%{customdata[3]}<br>Description=%{customdata[4]}<br>Year=%{customdata[5]}<extra></extra>",
         "legendgroup": "25488",
         "marker": {
          "color": "#FFA15A",
          "symbol": "circle"
         },
         "mode": "markers",
         "name": "25488",
         "orientation": "v",
         "showlegend": true,
         "type": "scatter",
         "x": [
          2011.3700000000001,
          2011.5680000000004,
          2102.0180000000005,
          2191.856,
          2192.2340000000004,
          2281.478,
          2370.722,
          2371.352,
          2461.874,
          2461.964
         ],
         "xaxis": "x",
         "y": [
          8020,
          8051,
          7970,
          7961,
          7930,
          7870,
          7860,
          7830,
          7780,
          7770
         ],
         "yaxis": "y"
        },
        {
         "customdata": [
          [
           "N/A",
           [
            "L"
           ],
           "A",
           "Sessile drop method",
           "not stated,99.995 % (total),",
           2006
          ],
          [
           "N/A",
           [
            "L"
           ],
           "A",
           "Sessile drop method",
           "not stated,99.995 % (total),",
           2006
          ],
          [
           "N/A",
           [
            "L"
           ],
           "A",
           "Sessile drop method",
           "not stated,99.995 % (total),",
           2006
          ],
          [
           "N/A",
           [
            "L"
           ],
           "A",
           "Sessile drop method",
           "not stated,99.995 % (total),",
           2006
          ],
          [
           "N/A",
           [
            "L"
           ],
           "A",
           "Sessile drop method",
           "not stated,99.995 % (total),",
           2006
          ],
          [
           "N/A",
           [
            "L"
           ],
           "A",
           "Sessile drop method",
           "not stated,99.995 % (total),",
           2006
          ],
          [
           "N/A",
           [
            "L"
           ],
           "A",
           "Sessile drop method",
           "not stated,99.995 % (total),",
           2006
          ],
          [
           "N/A",
           [
            "L"
           ],
           "A",
           "Sessile drop method",
           "not stated,99.995 % (total),",
           2006
          ],
          [
           "N/A",
           [
            "L"
           ],
           "A",
           "Sessile drop method",
           "not stated,99.995 % (total),",
           2006
          ],
          [
           "N/A",
           [
            "L"
           ],
           "A",
           "Sessile drop method",
           "not stated,99.995 % (total),",
           2006
          ],
          [
           "N/A",
           [
            "L"
           ],
           "A",
           "Sessile drop method",
           "not stated,99.995 % (total),",
           2006
          ],
          [
           "N/A",
           [
            "L"
           ],
           "A",
           "Sessile drop method",
           "not stated,99.995 % (total),",
           2006
          ],
          [
           "N/A",
           [
            "L"
           ],
           "A",
           "Sessile drop method",
           "not stated,99.995 % (total),",
           2006
          ],
          [
           "N/A",
           [
            "L"
           ],
           "A",
           "Sessile drop method",
           "not stated,99.995 % (total),",
           2006
          ],
          [
           "N/A",
           [
            "L"
           ],
           "A",
           "Sessile drop method",
           "not stated,99.995 % (total),",
           2006
          ],
          [
           "N/A",
           [
            "L"
           ],
           "A",
           "Sessile drop method",
           "not stated,99.995 % (total),",
           2006
          ],
          [
           "N/A",
           [
            "L"
           ],
           "A",
           "Sessile drop method",
           "not stated,99.995 % (total),",
           2006
          ],
          [
           "N/A",
           [
            "L"
           ],
           "A",
           "Sessile drop method",
           "not stated,99.995 % (total),",
           2006
          ],
          [
           "N/A",
           [
            "L"
           ],
           "A",
           "Sessile drop method",
           "not stated,99.995 % (total),",
           2006
          ],
          [
           "N/A",
           [
            "L"
           ],
           "A",
           "Sessile drop method",
           "not stated,99.995 % (total),",
           2006
          ],
          [
           "N/A",
           [
            "L"
           ],
           "A",
           "Sessile drop method",
           "not stated,99.995 % (total),",
           2006
          ],
          [
           "N/A",
           [
            "L"
           ],
           "A",
           "Sessile drop method",
           "not stated,99.995 % (total),",
           2006
          ],
          [
           "N/A",
           [
            "L"
           ],
           "A",
           "Sessile drop method",
           "not stated,99.995 % (total),",
           2006
          ],
          [
           "N/A",
           [
            "L"
           ],
           "A",
           "Sessile drop method",
           "not stated,99.995 % (total),",
           2006
          ],
          [
           "N/A",
           [
            "L"
           ],
           "A",
           "Sessile drop method",
           "not stated,99.995 % (total),",
           2006
          ],
          [
           "N/A",
           [
            "L"
           ],
           "A",
           "Sessile drop method",
           "not stated,99.995 % (total),",
           2006
          ],
          [
           "N/A",
           [
            "L"
           ],
           "A",
           "Sessile drop method",
           "not stated,99.995 % (total),",
           2006
          ],
          [
           "N/A",
           [
            "L"
           ],
           "A",
           "Sessile drop method",
           "not stated,99.995 % (total),",
           2006
          ],
          [
           "N/A",
           [
            "L"
           ],
           "A",
           "Sessile drop method",
           "not stated,99.995 % (total),",
           2006
          ],
          [
           "N/A",
           [
            "L"
           ],
           "A",
           "Sessile drop method",
           "not stated,99.995 % (total),",
           2006
          ]
         ],
         "error_y": {
          "array": [
           222.577,
           222.873,
           223.169,
           223.465,
           223.761,
           224.058,
           224.355,
           224.653,
           224.951,
           225.249,
           225.548,
           225.847,
           226.146,
           226.446,
           226.746,
           227.046,
           227.347,
           227.648,
           227.95,
           228.252,
           228.554,
           228.857,
           229.16,
           229.463,
           229.767,
           230.071,
           230.375,
           230.679,
           230.984,
           231.29
          ]
         },
         "hovertemplate": "Data Set ID=25490<br>Temperature: F=%{x}<br>Specific density: kg/m**3=%{y}<br>Ref Temp=%{customdata[0]}<br>State=%{customdata[1]}<br>Representation=%{customdata[2]}<br>Method=%{customdata[3]}<br>Description=%{customdata[4]}<br>Year=%{customdata[5]}<extra></extra>",
         "legendgroup": "25490",
         "marker": {
          "color": "#19d3f3",
          "symbol": "circle"
         },
         "mode": "markers",
         "name": "25490",
         "orientation": "v",
         "showlegend": true,
         "type": "scatter",
         "x": [
          1921.7299999999998,
          1927.9400000000003,
          1934.15,
          1940.342,
          1946.552,
          1952.7620000000004,
          1958.972,
          1965.1820000000005,
          1971.392,
          1977.5840000000003,
          1983.7939999999999,
          1990.0040000000004,
          1996.2140000000002,
          2002.4239999999998,
          2008.6340000000002,
          2014.8260000000002,
          2021.036,
          2027.2459999999996,
          2033.4560000000001,
          2039.666,
          2045.8760000000004,
          2052.068,
          2058.2780000000002,
          2064.488,
          2070.6980000000003,
          2076.908,
          2083.1180000000004,
          2089.31,
          2095.5200000000004,
          2101.73
         ],
         "xaxis": "x",
         "y": [
          8082,
          8079,
          8075,
          8072,
          8068,
          8065,
          8061,
          8058,
          8054,
          8051,
          8048,
          8044,
          8041,
          8037,
          8034,
          8030,
          8027,
          8023,
          8020,
          8016,
          8013,
          8010,
          8006,
          8003,
          7999,
          7996,
          7992,
          7989,
          7985,
          7982
         ],
         "yaxis": "y"
        },
        {
         "customdata": [
          [
           "N/A",
           [
            "L"
           ],
           "A",
           "Shadow graph",
           "origin: commercial source,99.996 % (total),stated by supplier,wire",
           2007
          ],
          [
           "N/A",
           [
            "L"
           ],
           "A",
           "Shadow graph",
           "origin: commercial source,99.996 % (total),stated by supplier,wire",
           2007
          ],
          [
           "N/A",
           [
            "L"
           ],
           "A",
           "Shadow graph",
           "origin: commercial source,99.996 % (total),stated by supplier,wire",
           2007
          ],
          [
           "N/A",
           [
            "L"
           ],
           "A",
           "Shadow graph",
           "origin: commercial source,99.996 % (total),stated by supplier,wire",
           2007
          ],
          [
           "N/A",
           [
            "L"
           ],
           "A",
           "Shadow graph",
           "origin: commercial source,99.996 % (total),stated by supplier,wire",
           2007
          ],
          [
           "N/A",
           [
            "L"
           ],
           "A",
           "Shadow graph",
           "origin: commercial source,99.996 % (total),stated by supplier,wire",
           2007
          ],
          [
           "N/A",
           [
            "L"
           ],
           "A",
           "Shadow graph",
           "origin: commercial source,99.996 % (total),stated by supplier,wire",
           2007
          ],
          [
           "N/A",
           [
            "L"
           ],
           "A",
           "Shadow graph",
           "origin: commercial source,99.996 % (total),stated by supplier,wire",
           2007
          ],
          [
           "N/A",
           [
            "L"
           ],
           "A",
           "Shadow graph",
           "origin: commercial source,99.996 % (total),stated by supplier,wire",
           2007
          ],
          [
           "N/A",
           [
            "L"
           ],
           "A",
           "Shadow graph",
           "origin: commercial source,99.996 % (total),stated by supplier,wire",
           2007
          ],
          [
           "N/A",
           [
            "L"
           ],
           "A",
           "Shadow graph",
           "origin: commercial source,99.996 % (total),stated by supplier,wire",
           2007
          ]
         ],
         "error_y": {
          "array": [
           325.328,
           324.488,
           323.564,
           322.616,
           321.688,
           320.756,
           319.84,
           318.932,
           318.008,
           317.108,
           316.216
          ]
         },
         "hovertemplate": "Data Set ID=25732<br>Temperature: F=%{x}<br>Specific density: kg/m**3=%{y}<br>Ref Temp=%{customdata[0]}<br>State=%{customdata[1]}<br>Representation=%{customdata[2]}<br>Method=%{customdata[3]}<br>Description=%{customdata[4]}<br>Year=%{customdata[5]}<extra></extra>",
         "legendgroup": "25732",
         "marker": {
          "color": "#FF6692",
          "symbol": "circle"
         },
         "mode": "markers",
         "name": "25732",
         "orientation": "v",
         "showlegend": true,
         "type": "scatter",
         "x": [
          1981.1299999999999,
          2059.9700000000003,
          2150.33,
          2239.9700000000003,
          2330.15,
          2419.9700000000003,
          2509.9700000000003,
          2600.15,
          2690.33,
          2779.9700000000003,
          2869.9700000000003
         ],
         "xaxis": "x",
         "y": [
          8133.2,
          8112.2,
          8089.1,
          8065.4,
          8042.2,
          8018.9,
          7996,
          7973.3,
          7950.2,
          7927.7,
          7905.4
         ],
         "yaxis": "y"
        },
        {
         "customdata": [
          [
           "N/A",
           [
            "L"
           ],
           "A",
           "Shadow graph",
           "origin: synthesized by author",
           2007
          ],
          [
           "N/A",
           [
            "L"
           ],
           "A",
           "Shadow graph",
           "origin: synthesized by author",
           2007
          ],
          [
           "N/A",
           [
            "L"
           ],
           "A",
           "Shadow graph",
           "origin: synthesized by author",
           2007
          ],
          [
           "N/A",
           [
            "L"
           ],
           "A",
           "Shadow graph",
           "origin: synthesized by author",
           2007
          ],
          [
           "N/A",
           [
            "L"
           ],
           "A",
           "Shadow graph",
           "origin: synthesized by author",
           2007
          ],
          [
           "N/A",
           [
            "L"
           ],
           "A",
           "Shadow graph",
           "origin: synthesized by author",
           2007
          ],
          [
           "N/A",
           [
            "L"
           ],
           "A",
           "Shadow graph",
           "origin: synthesized by author",
           2007
          ],
          [
           "N/A",
           [
            "L"
           ],
           "A",
           "Shadow graph",
           "origin: synthesized by author",
           2007
          ],
          [
           "N/A",
           [
            "L"
           ],
           "A",
           "Shadow graph",
           "origin: synthesized by author",
           2007
          ],
          [
           "N/A",
           [
            "L"
           ],
           "A",
           "Shadow graph",
           "origin: synthesized by author",
           2007
          ],
          [
           "N/A",
           [
            "L"
           ],
           "A",
           "Shadow graph",
           "origin: synthesized by author",
           2007
          ]
         ],
         "error_y": {
          "array": [
           158.036,
           157.374,
           156.616,
           155.85,
           155.08,
           154.308,
           153.55,
           152.77,
           152.014,
           151.244,
           150.48
          ]
         },
         "hovertemplate": "Data Set ID=25733<br>Temperature: F=%{x}<br>Specific density: kg/m**3=%{y}<br>Ref Temp=%{customdata[0]}<br>State=%{customdata[1]}<br>Representation=%{customdata[2]}<br>Method=%{customdata[3]}<br>Description=%{customdata[4]}<br>Year=%{customdata[5]}<extra></extra>",
         "legendgroup": "25733",
         "marker": {
          "color": "#B6E880",
          "symbol": "circle"
         },
         "mode": "markers",
         "name": "25733",
         "orientation": "v",
         "showlegend": true,
         "type": "scatter",
         "x": [
          1981.3099999999997,
          2060.33,
          2150.5099999999998,
          2240.33,
          2330.5099999999998,
          2420.33,
          2510.33,
          2600.15,
          2690.5099999999998,
          2780.15,
          2870.6900000000005
         ],
         "xaxis": "x",
         "y": [
          7901.8,
          7868.7,
          7830.8,
          7792.5,
          7754,
          7715.4,
          7677.5,
          7638.5,
          7600.7,
          7562.2,
          7524
         ],
         "yaxis": "y"
        },
        {
         "customdata": [
          [
           "N/A",
           [
            "L"
           ],
           "A",
           "Shadow graph",
           "not stated",
           2008
          ],
          [
           "N/A",
           [
            "L"
           ],
           "A",
           "Shadow graph",
           "not stated",
           2008
          ],
          [
           "N/A",
           [
            "L"
           ],
           "A",
           "Shadow graph",
           "not stated",
           2008
          ],
          [
           "N/A",
           [
            "L"
           ],
           "A",
           "Shadow graph",
           "not stated",
           2008
          ],
          [
           "N/A",
           [
            "L"
           ],
           "A",
           "Shadow graph",
           "not stated",
           2008
          ],
          [
           "N/A",
           [
            "L"
           ],
           "A",
           "Shadow graph",
           "not stated",
           2008
          ]
         ],
         "error_y": {
          "array": [
           118.36,
           116.875,
           116.033,
           115.191,
           114.931,
           113.527
          ]
         },
         "hovertemplate": "Data Set ID=25990<br>Temperature: F=%{x}<br>Specific density: kg/m**3=%{y}<br>Ref Temp=%{customdata[0]}<br>State=%{customdata[1]}<br>Representation=%{customdata[2]}<br>Method=%{customdata[3]}<br>Description=%{customdata[4]}<br>Year=%{customdata[5]}<extra></extra>",
         "legendgroup": "25990",
         "marker": {
          "color": "#FF97FF",
          "symbol": "circle"
         },
         "mode": "markers",
         "name": "25990",
         "orientation": "v",
         "showlegend": true,
         "type": "scatter",
         "x": [
          2058.8540000000003,
          2219.864,
          2353.208,
          2513.1560000000004,
          2619.8959999999997,
          2775.9379999999996
         ],
         "xaxis": "x",
         "y": [
          7890.66,
          7791.66,
          7735.52,
          7679.4,
          7662.1,
          7568.45
         ],
         "yaxis": "y"
        },
        {
         "customdata": [
          [
           "N/A",
           [
            "L"
           ],
           "A",
           "Sessile drop method",
           "not stated,99.99 % (total),stated by supplier,chunk",
           2009
          ],
          [
           "N/A",
           [
            "L"
           ],
           "A",
           "Sessile drop method",
           "not stated,99.99 % (total),stated by supplier,chunk",
           2009
          ]
         ],
         "error_y": {
          "array": [
           581.816,
           581.717
          ]
         },
         "hovertemplate": "Data Set ID=26260<br>Temperature: F=%{x}<br>Specific density: kg/m**3=%{y}<br>Ref Temp=%{customdata[0]}<br>State=%{customdata[1]}<br>Representation=%{customdata[2]}<br>Method=%{customdata[3]}<br>Description=%{customdata[4]}<br>Year=%{customdata[5]}<extra></extra>",
         "legendgroup": "26260",
         "marker": {
          "color": "#FECB52",
          "symbol": "circle"
         },
         "mode": "markers",
         "name": "26260",
         "orientation": "v",
         "showlegend": true,
         "type": "scatter",
         "x": [
          1993.8379999999997,
          2011.9459999999997
         ],
         "xaxis": "x",
         "y": [
          8311.66,
          8310.24
         ],
         "yaxis": "y"
        },
        {
         "customdata": [
          [
           "N/A",
           [
            "C"
           ],
           "A",
           "Resistive pulse heating",
           "not stated",
           2012
          ],
          [
           "N/A",
           [
            "C"
           ],
           "A",
           "Resistive pulse heating",
           "not stated",
           2012
          ],
          [
           "N/A",
           [
            "C"
           ],
           "A",
           "Resistive pulse heating",
           "not stated",
           2012
          ],
          [
           "N/A",
           [
            "C"
           ],
           "A",
           "Resistive pulse heating",
           "not stated",
           2012
          ],
          [
           "N/A",
           [
            "C"
           ],
           "A",
           "Resistive pulse heating",
           "not stated",
           2012
          ],
          [
           "N/A",
           [
            "C"
           ],
           "A",
           "Resistive pulse heating",
           "not stated",
           2012
          ],
          [
           "N/A",
           [
            "C"
           ],
           "A",
           "Resistive pulse heating",
           "not stated",
           2012
          ],
          [
           "N/A",
           [
            "C"
           ],
           "A",
           "Resistive pulse heating",
           "not stated",
           2012
          ],
          [
           "N/A",
           [
            "C"
           ],
           "A",
           "Resistive pulse heating",
           "not stated",
           2012
          ],
          [
           "N/A",
           [
            "C"
           ],
           "A",
           "Resistive pulse heating",
           "not stated",
           2012
          ],
          [
           "N/A",
           [
            "C"
           ],
           "A",
           "Resistive pulse heating",
           "not stated",
           2012
          ],
          [
           "N/A",
           [
            "C"
           ],
           "A",
           "Resistive pulse heating",
           "not stated",
           2012
          ],
          [
           "N/A",
           [
            "C"
           ],
           "A",
           "Resistive pulse heating",
           "not stated",
           2012
          ],
          [
           "N/A",
           [
            "C"
           ],
           "A",
           "Resistive pulse heating",
           "not stated",
           2012
          ],
          [
           "N/A",
           [
            "C"
           ],
           "A",
           "Resistive pulse heating",
           "not stated",
           2012
          ],
          [
           "N/A",
           [
            "C"
           ],
           "A",
           "Resistive pulse heating",
           "not stated",
           2012
          ],
          [
           "N/A",
           [
            "C"
           ],
           "A",
           "Resistive pulse heating",
           "not stated",
           2012
          ],
          [
           "N/A",
           [
            "C"
           ],
           "A",
           "Resistive pulse heating",
           "not stated",
           2012
          ]
         ],
         "error_y": {
          "array": [
           348.812,
           348.584,
           348.36,
           348.132,
           347.908,
           347.684,
           347.456,
           347.232,
           347.004,
           346.78,
           346.556,
           346.328,
           346.104,
           345.876,
           345.652,
           345.428,
           345.2,
           344.96
          ]
         },
         "hovertemplate": "Data Set ID=27178<br>Temperature: F=%{x}<br>Specific density: kg/m**3=%{y}<br>Ref Temp=%{customdata[0]}<br>State=%{customdata[1]}<br>Representation=%{customdata[2]}<br>Method=%{customdata[3]}<br>Description=%{customdata[4]}<br>Year=%{customdata[5]}<extra></extra>",
         "legendgroup": "27178",
         "marker": {
          "color": "#636efa",
          "symbol": "circle"
         },
         "mode": "markers",
         "name": "27178",
         "orientation": "v",
         "showlegend": true,
         "type": "scatter",
         "x": [
          1520.3300000000002,
          1547.3300000000002,
          1574.3300000000002,
          1601.3300000000002,
          1628.3300000000002,
          1655.3300000000002,
          1682.3300000000002,
          1709.3300000000002,
          1736.3300000000002,
          1763.3300000000002,
          1790.3300000000002,
          1817.3300000000002,
          1844.3300000000002,
          1871.3300000000002,
          1898.33,
          1925.33,
          1952.33,
          1981.1299999999999
         ],
         "xaxis": "x",
         "y": [
          8720.3,
          8714.6,
          8709,
          8703.3,
          8697.7,
          8692.1,
          8686.4,
          8680.8,
          8675.1,
          8669.5,
          8663.9,
          8658.2,
          8652.6,
          8646.9,
          8641.3,
          8635.7,
          8630,
          8624
         ],
         "yaxis": "y"
        },
        {
         "customdata": [
          [
           "N/A",
           [
            "L"
           ],
           "A",
           "Resistive pulse heating",
           "not stated",
           2012
          ],
          [
           "N/A",
           [
            "L"
           ],
           "A",
           "Resistive pulse heating",
           "not stated",
           2012
          ],
          [
           "N/A",
           [
            "L"
           ],
           "A",
           "Resistive pulse heating",
           "not stated",
           2012
          ],
          [
           "N/A",
           [
            "L"
           ],
           "A",
           "Resistive pulse heating",
           "not stated",
           2012
          ],
          [
           "N/A",
           [
            "L"
           ],
           "A",
           "Resistive pulse heating",
           "not stated",
           2012
          ],
          [
           "N/A",
           [
            "L"
           ],
           "A",
           "Resistive pulse heating",
           "not stated",
           2012
          ],
          [
           "N/A",
           [
            "L"
           ],
           "A",
           "Resistive pulse heating",
           "not stated",
           2012
          ],
          [
           "N/A",
           [
            "L"
           ],
           "A",
           "Resistive pulse heating",
           "not stated",
           2012
          ],
          [
           "N/A",
           [
            "L"
           ],
           "A",
           "Resistive pulse heating",
           "not stated",
           2012
          ],
          [
           "N/A",
           [
            "L"
           ],
           "A",
           "Resistive pulse heating",
           "not stated",
           2012
          ],
          [
           "N/A",
           [
            "L"
           ],
           "A",
           "Resistive pulse heating",
           "not stated",
           2012
          ],
          [
           "N/A",
           [
            "L"
           ],
           "A",
           "Resistive pulse heating",
           "not stated",
           2012
          ],
          [
           "N/A",
           [
            "L"
           ],
           "A",
           "Resistive pulse heating",
           "not stated",
           2012
          ],
          [
           "N/A",
           [
            "L"
           ],
           "A",
           "Resistive pulse heating",
           "not stated",
           2012
          ],
          [
           "N/A",
           [
            "L"
           ],
           "A",
           "Resistive pulse heating",
           "not stated",
           2012
          ],
          [
           "N/A",
           [
            "L"
           ],
           "A",
           "Resistive pulse heating",
           "not stated",
           2012
          ],
          [
           "N/A",
           [
            "L"
           ],
           "A",
           "Resistive pulse heating",
           "not stated",
           2012
          ]
         ],
         "error_y": {
          "array": [
           327.2,
           326.464,
           325.728,
           324.992,
           324.256,
           323.52,
           322.784,
           322.048,
           321.312,
           320.576,
           319.84,
           319.104,
           318.368,
           317.632,
           316.896,
           316.16,
           315.348
          ]
         },
         "hovertemplate": "Data Set ID=27179<br>Temperature: F=%{x}<br>Specific density: kg/m**3=%{y}<br>Ref Temp=%{customdata[0]}<br>State=%{customdata[1]}<br>Representation=%{customdata[2]}<br>Method=%{customdata[3]}<br>Description=%{customdata[4]}<br>Year=%{customdata[5]}<extra></extra>",
         "legendgroup": "27179",
         "marker": {
          "color": "#EF553B",
          "symbol": "circle"
         },
         "mode": "markers",
         "name": "27179",
         "orientation": "v",
         "showlegend": true,
         "type": "scatter",
         "x": [
          1981.1299999999999,
          2053.13,
          2125.13,
          2197.13,
          2269.13,
          2341.13,
          2413.13,
          2485.13,
          2557.13,
          2629.13,
          2701.13,
          2773.13,
          2845.13,
          2917.13,
          2989.13,
          3061.13,
          3140.33
         ],
         "xaxis": "x",
         "y": [
          8180,
          8161.6,
          8143.2,
          8124.8,
          8106.4,
          8088,
          8069.6,
          8051.2,
          8032.8,
          8014.4,
          7996,
          7977.6,
          7959.2,
          7940.8,
          7922.4,
          7904,
          7883.7
         ],
         "yaxis": "y"
        },
        {
         "customdata": [
          [
           "N/A",
           [
            "L"
           ],
           "A",
           "Gamma attenuation method",
           "not stated",
           2013
          ],
          [
           "N/A",
           [
            "L"
           ],
           "A",
           "Gamma attenuation method",
           "not stated",
           2013
          ],
          [
           "N/A",
           [
            "L"
           ],
           "A",
           "Gamma attenuation method",
           "not stated",
           2013
          ],
          [
           "N/A",
           [
            "L"
           ],
           "A",
           "Gamma attenuation method",
           "not stated",
           2013
          ],
          [
           "N/A",
           [
            "L"
           ],
           "A",
           "Gamma attenuation method",
           "not stated",
           2013
          ],
          [
           "N/A",
           [
            "L"
           ],
           "A",
           "Gamma attenuation method",
           "not stated",
           2013
          ],
          [
           "N/A",
           [
            "L"
           ],
           "A",
           "Gamma attenuation method",
           "not stated",
           2013
          ],
          [
           "N/A",
           [
            "L"
           ],
           "A",
           "Gamma attenuation method",
           "not stated",
           2013
          ],
          [
           "N/A",
           [
            "L"
           ],
           "A",
           "Gamma attenuation method",
           "not stated",
           2013
          ],
          [
           "N/A",
           [
            "L"
           ],
           "A",
           "Gamma attenuation method",
           "not stated",
           2013
          ],
          [
           "N/A",
           [
            "L"
           ],
           "A",
           "Gamma attenuation method",
           "not stated",
           2013
          ],
          [
           "N/A",
           [
            "L"
           ],
           "A",
           "Gamma attenuation method",
           "not stated",
           2013
          ],
          [
           "N/A",
           [
            "L"
           ],
           "A",
           "Gamma attenuation method",
           "not stated",
           2013
          ],
          [
           "N/A",
           [
            "L"
           ],
           "A",
           "Gamma attenuation method",
           "not stated",
           2013
          ],
          [
           "N/A",
           [
            "L"
           ],
           "A",
           "Gamma attenuation method",
           "not stated",
           2013
          ],
          [
           "N/A",
           [
            "L"
           ],
           "A",
           "Gamma attenuation method",
           "not stated",
           2013
          ],
          [
           "N/A",
           [
            "L"
           ],
           "A",
           "Gamma attenuation method",
           "not stated",
           2013
          ],
          [
           "N/A",
           [
            "L"
           ],
           "A",
           "Gamma attenuation method",
           "not stated",
           2013
          ],
          [
           "N/A",
           [
            "L"
           ],
           "A",
           "Gamma attenuation method",
           "not stated",
           2013
          ],
          [
           "N/A",
           [
            "L"
           ],
           "A",
           "Gamma attenuation method",
           "not stated",
           2013
          ],
          [
           "N/A",
           [
            "L"
           ],
           "A",
           "Gamma attenuation method",
           "not stated",
           2013
          ],
          [
           "N/A",
           [
            "L"
           ],
           "A",
           "Gamma attenuation method",
           "not stated",
           2013
          ],
          [
           "N/A",
           [
            "L"
           ],
           "A",
           "Gamma attenuation method",
           "not stated",
           2013
          ],
          [
           "N/A",
           [
            "L"
           ],
           "A",
           "Gamma attenuation method",
           "not stated",
           2013
          ],
          [
           "N/A",
           [
            "L"
           ],
           "A",
           "Gamma attenuation method",
           "not stated",
           2013
          ],
          [
           "N/A",
           [
            "L"
           ],
           "A",
           "Gamma attenuation method",
           "not stated",
           2013
          ],
          [
           "N/A",
           [
            "L"
           ],
           "A",
           "Gamma attenuation method",
           "not stated",
           2013
          ],
          [
           "N/A",
           [
            "L"
           ],
           "A",
           "Gamma attenuation method",
           "not stated",
           2013
          ],
          [
           "N/A",
           [
            "L"
           ],
           "A",
           "Gamma attenuation method",
           "not stated",
           2013
          ],
          [
           "N/A",
           [
            "L"
           ],
           "A",
           "Gamma attenuation method",
           "not stated",
           2013
          ],
          [
           "N/A",
           [
            "L"
           ],
           "A",
           "Gamma attenuation method",
           "not stated",
           2013
          ],
          [
           "N/A",
           [
            "L"
           ],
           "A",
           "Gamma attenuation method",
           "not stated",
           2013
          ],
          [
           "N/A",
           [
            "L"
           ],
           "A",
           "Gamma attenuation method",
           "not stated",
           2013
          ],
          [
           "N/A",
           [
            "L"
           ],
           "A",
           "Gamma attenuation method",
           "not stated",
           2013
          ],
          [
           "N/A",
           [
            "L"
           ],
           "A",
           "Gamma attenuation method",
           "not stated",
           2013
          ],
          [
           "N/A",
           [
            "L"
           ],
           "A",
           "Gamma attenuation method",
           "not stated",
           2013
          ],
          [
           "N/A",
           [
            "L"
           ],
           "A",
           "Gamma attenuation method",
           "not stated",
           2013
          ],
          [
           "N/A",
           [
            "L"
           ],
           "A",
           "Gamma attenuation method",
           "not stated",
           2013
          ],
          [
           "N/A",
           [
            "L"
           ],
           "A",
           "Gamma attenuation method",
           "not stated",
           2013
          ],
          [
           "N/A",
           [
            "L"
           ],
           "A",
           "Gamma attenuation method",
           "not stated",
           2013
          ],
          [
           "N/A",
           [
            "L"
           ],
           "A",
           "Gamma attenuation method",
           "not stated",
           2013
          ],
          [
           "N/A",
           [
            "L"
           ],
           "A",
           "Gamma attenuation method",
           "not stated",
           2013
          ],
          [
           "N/A",
           [
            "L"
           ],
           "A",
           "Gamma attenuation method",
           "not stated",
           2013
          ],
          [
           "N/A",
           [
            "L"
           ],
           "A",
           "Gamma attenuation method",
           "not stated",
           2013
          ],
          [
           "N/A",
           [
            "L"
           ],
           "A",
           "Gamma attenuation method",
           "not stated",
           2013
          ],
          [
           "N/A",
           [
            "L"
           ],
           "A",
           "Gamma attenuation method",
           "not stated",
           2013
          ],
          [
           "N/A",
           [
            "L"
           ],
           "A",
           "Gamma attenuation method",
           "not stated",
           2013
          ],
          [
           "N/A",
           [
            "L"
           ],
           "A",
           "Gamma attenuation method",
           "not stated",
           2013
          ],
          [
           "N/A",
           [
            "L"
           ],
           "A",
           "Gamma attenuation method",
           "not stated",
           2013
          ],
          [
           "N/A",
           [
            "L"
           ],
           "A",
           "Gamma attenuation method",
           "not stated",
           2013
          ],
          [
           "N/A",
           [
            "L"
           ],
           "A",
           "Gamma attenuation method",
           "not stated",
           2013
          ],
          [
           "N/A",
           [
            "L"
           ],
           "A",
           "Gamma attenuation method",
           "not stated",
           2013
          ],
          [
           "N/A",
           [
            "L"
           ],
           "A",
           "Gamma attenuation method",
           "not stated",
           2013
          ],
          [
           "N/A",
           [
            "L"
           ],
           "A",
           "Gamma attenuation method",
           "not stated",
           2013
          ],
          [
           "N/A",
           [
            "L"
           ],
           "A",
           "Gamma attenuation method",
           "not stated",
           2013
          ],
          [
           "N/A",
           [
            "L"
           ],
           "A",
           "Gamma attenuation method",
           "not stated",
           2013
          ],
          [
           "N/A",
           [
            "L"
           ],
           "A",
           "Gamma attenuation method",
           "not stated",
           2013
          ],
          [
           "N/A",
           [
            "L"
           ],
           "A",
           "Gamma attenuation method",
           "not stated",
           2013
          ],
          [
           "N/A",
           [
            "L"
           ],
           "A",
           "Gamma attenuation method",
           "not stated",
           2013
          ],
          [
           "N/A",
           [
            "L"
           ],
           "A",
           "Gamma attenuation method",
           "not stated",
           2013
          ],
          [
           "N/A",
           [
            "L"
           ],
           "A",
           "Gamma attenuation method",
           "not stated",
           2013
          ],
          [
           "N/A",
           [
            "L"
           ],
           "A",
           "Gamma attenuation method",
           "not stated",
           2013
          ],
          [
           "N/A",
           [
            "L"
           ],
           "A",
           "Gamma attenuation method",
           "not stated",
           2013
          ],
          [
           "N/A",
           [
            "L"
           ],
           "A",
           "Gamma attenuation method",
           "not stated",
           2013
          ],
          [
           "N/A",
           [
            "L"
           ],
           "A",
           "Gamma attenuation method",
           "not stated",
           2013
          ],
          [
           "N/A",
           [
            "L"
           ],
           "A",
           "Gamma attenuation method",
           "not stated",
           2013
          ],
          [
           "N/A",
           [
            "L"
           ],
           "A",
           "Gamma attenuation method",
           "not stated",
           2013
          ],
          [
           "N/A",
           [
            "L"
           ],
           "A",
           "Gamma attenuation method",
           "not stated",
           2013
          ],
          [
           "N/A",
           [
            "L"
           ],
           "A",
           "Gamma attenuation method",
           "not stated",
           2013
          ],
          [
           "N/A",
           [
            "L"
           ],
           "A",
           "Gamma attenuation method",
           "not stated",
           2013
          ],
          [
           "N/A",
           [
            "L"
           ],
           "A",
           "Gamma attenuation method",
           "not stated",
           2013
          ],
          [
           "N/A",
           [
            "L"
           ],
           "A",
           "Gamma attenuation method",
           "not stated",
           2013
          ],
          [
           "N/A",
           [
            "L"
           ],
           "A",
           "Gamma attenuation method",
           "not stated",
           2013
          ],
          [
           "N/A",
           [
            "L"
           ],
           "A",
           "Gamma attenuation method",
           "not stated",
           2013
          ],
          [
           "N/A",
           [
            "L"
           ],
           "A",
           "Gamma attenuation method",
           "not stated",
           2013
          ],
          [
           "N/A",
           [
            "L"
           ],
           "A",
           "Gamma attenuation method",
           "not stated",
           2013
          ],
          [
           "N/A",
           [
            "L"
           ],
           "A",
           "Gamma attenuation method",
           "not stated",
           2013
          ],
          [
           "N/A",
           [
            "L"
           ],
           "A",
           "Gamma attenuation method",
           "not stated",
           2013
          ],
          [
           "N/A",
           [
            "L"
           ],
           "A",
           "Gamma attenuation method",
           "not stated",
           2013
          ],
          [
           "N/A",
           [
            "L"
           ],
           "A",
           "Gamma attenuation method",
           "not stated",
           2013
          ],
          [
           "N/A",
           [
            "L"
           ],
           "A",
           "Gamma attenuation method",
           "not stated",
           2013
          ],
          [
           "N/A",
           [
            "L"
           ],
           "A",
           "Gamma attenuation method",
           "not stated",
           2013
          ]
         ],
         "error_y": {
          "array": [
           15.9294,
           15.9416,
           15.9306,
           15.9197,
           15.9598,
           15.9878,
           15.9063,
           15.8929,
           15.983,
           15.8576,
           15.9306,
           15.8844,
           15.9562,
           15.8333,
           15.8491,
           15.8174,
           15.8832,
           15.843,
           15.7955,
           15.7882,
           15.8442,
           15.8345,
           15.759,
           15.759,
           15.8065,
           15.8016,
           15.7603,
           15.7809,
           15.7189,
           15.7955,
           15.7116,
           15.7055,
           15.7444,
           15.7554,
           15.6665,
           15.6665,
           15.7128,
           15.7031,
           15.6313,
           15.6982,
           15.6118,
           15.7079,
           15.5984,
           15.6641,
           15.6033,
           15.6483,
           15.5704,
           15.5826,
           15.6495,
           15.6276,
           15.5643,
           15.557,
           15.6081,
           15.5935,
           15.5582,
           15.5984,
           15.5181,
           15.5803,
           15.4827,
           15.5561,
           15.5088,
           15.5416,
           15.4769,
           15.4335,
           15.5561,
           15.4518,
           15.5001,
           15.5194,
           15.4151,
           15.4933,
           15.4344,
           15.4885,
           15.4325,
           15.4257,
           15.3861,
           15.4663,
           15.4335,
           15.3726,
           15.4257,
           15.362,
           15.4016,
           15.4054
          ]
         },
         "hovertemplate": "Data Set ID=27391<br>Temperature: F=%{x}<br>Specific density: kg/m**3=%{y}<br>Ref Temp=%{customdata[0]}<br>State=%{customdata[1]}<br>Representation=%{customdata[2]}<br>Method=%{customdata[3]}<br>Description=%{customdata[4]}<br>Year=%{customdata[5]}<extra></extra>",
         "legendgroup": "27391",
         "marker": {
          "color": "#00cc96",
          "symbol": "circle"
         },
         "mode": "markers",
         "name": "27391",
         "orientation": "v",
         "showlegend": true,
         "type": "scatter",
         "x": [
          1974.1820000000005,
          1984.5680000000004,
          1992.3799999999999,
          2006.114,
          2009.822,
          2013.1700000000003,
          2019.1099999999997,
          2028.0379999999998,
          2033.9599999999998,
          2042.5099999999998,
          2046.2180000000005,
          2064.0560000000005,
          2067.386,
          2073.7040000000006,
          2088.572,
          2105.2760000000003,
          2108.9840000000004,
          2118.65,
          2136.8480000000004,
          2140.556,
          2148.728,
          2157.9980000000005,
          2170.274,
          2180.3,
          2183.2700000000004,
          2194.034,
          2199.236,
          2218.55,
          2218.9280000000003,
          2228.558,
          2235.992,
          2254.1900000000005,
          2254.5680000000007,
          2267.186,
          2270.174,
          2287.616,
          2288.372,
          2300.252,
          2306.57,
          2318.4320000000007,
          2323.274,
          2334.4159999999997,
          2342.966,
          2355.5840000000003,
          2356.7000000000003,
          2366.7260000000006,
          2376.3920000000003,
          2389.7480000000005,
          2392.3400000000006,
          2402.0060000000003,
          2413.5260000000003,
          2425.4060000000004,
          2425.766,
          2438.402,
          2452.8920000000003,
          2459.192,
          2461.0640000000003,
          2481.5299999999997,
          2490.3680000000004,
          2496.8480000000004,
          2497.442,
          2518.07,
          2521.328,
          2531.6420000000003,
          2533.694,
          2550.5060000000003,
          2551.1,
          2567.012,
          2568.2000000000003,
          2587.9280000000003,
          2591.186,
          2600.024,
          2600.3120000000004,
          2627.7260000000006,
          2628.626,
          2633.3239999999996,
          2660.738,
          2661.044,
          2673.122,
          2678.4320000000007,
          2704.964,
          2722.352
         ],
         "xaxis": "x",
         "y": [
          7964.7,
          7970.79,
          7965.31,
          7959.83,
          7979.91,
          7993.91,
          7953.14,
          7946.45,
          7991.48,
          7928.8,
          7965.31,
          7942.19,
          7978.09,
          7916.63,
          7924.54,
          7908.72,
          7941.58,
          7921.5,
          7897.77,
          7894.12,
          7922.11,
          7917.24,
          7879.52,
          7879.52,
          7903.25,
          7900.81,
          7880.13,
          7890.47,
          7859.44,
          7897.77,
          7855.79,
          7852.74,
          7872.22,
          7877.69,
          7833.27,
          7833.27,
          7856.39,
          7851.53,
          7815.63,
          7849.09,
          7805.89,
          7853.96,
          7799.2,
          7832.06,
          7801.63,
          7824.15,
          7785.2,
          7791.29,
          7824.75,
          7813.8,
          7782.16,
          7778.51,
          7804.07,
          7796.76,
          7779.12,
          7799.2,
          7759.04,
          7790.14,
          7741.36,
          7778.06,
          7754.4,
          7770.82,
          7738.46,
          7716.73,
          7778.06,
          7725.9,
          7750.05,
          7759.71,
          7707.55,
          7746.67,
          7717.21,
          7744.26,
          7716.25,
          7712.87,
          7693.06,
          7733.15,
          7716.73,
          7686.3,
          7712.87,
          7680.99,
          7700.79,
          7702.72
         ],
         "yaxis": "y"
        },
        {
         "customdata": [
          [
           "N/A",
           [
            "C"
           ],
           "A",
           "Gamma attenuation method",
           "not stated",
           2013
          ],
          [
           "N/A",
           [
            "C"
           ],
           "A",
           "Gamma attenuation method",
           "not stated",
           2013
          ],
          [
           "N/A",
           [
            "C"
           ],
           "A",
           "Gamma attenuation method",
           "not stated",
           2013
          ],
          [
           "N/A",
           [
            "C"
           ],
           "A",
           "Gamma attenuation method",
           "not stated",
           2013
          ],
          [
           "N/A",
           [
            "C"
           ],
           "A",
           "Gamma attenuation method",
           "not stated",
           2013
          ],
          [
           "N/A",
           [
            "C"
           ],
           "A",
           "Gamma attenuation method",
           "not stated",
           2013
          ],
          [
           "N/A",
           [
            "C"
           ],
           "A",
           "Gamma attenuation method",
           "not stated",
           2013
          ],
          [
           "N/A",
           [
            "C"
           ],
           "A",
           "Gamma attenuation method",
           "not stated",
           2013
          ],
          [
           "N/A",
           [
            "C"
           ],
           "A",
           "Gamma attenuation method",
           "not stated",
           2013
          ],
          [
           "N/A",
           [
            "C"
           ],
           "A",
           "Gamma attenuation method",
           "not stated",
           2013
          ],
          [
           "N/A",
           [
            "C"
           ],
           "A",
           "Gamma attenuation method",
           "not stated",
           2013
          ],
          [
           "N/A",
           [
            "C"
           ],
           "A",
           "Gamma attenuation method",
           "not stated",
           2013
          ],
          [
           "N/A",
           [
            "C"
           ],
           "A",
           "Gamma attenuation method",
           "not stated",
           2013
          ],
          [
           "N/A",
           [
            "C"
           ],
           "A",
           "Gamma attenuation method",
           "not stated",
           2013
          ],
          [
           "N/A",
           [
            "C"
           ],
           "A",
           "Gamma attenuation method",
           "not stated",
           2013
          ],
          [
           "N/A",
           [
            "C"
           ],
           "A",
           "Gamma attenuation method",
           "not stated",
           2013
          ],
          [
           "N/A",
           [
            "C"
           ],
           "A",
           "Gamma attenuation method",
           "not stated",
           2013
          ],
          [
           "N/A",
           [
            "C"
           ],
           "A",
           "Gamma attenuation method",
           "not stated",
           2013
          ],
          [
           "N/A",
           [
            "C"
           ],
           "A",
           "Gamma attenuation method",
           "not stated",
           2013
          ],
          [
           "N/A",
           [
            "C"
           ],
           "A",
           "Gamma attenuation method",
           "not stated",
           2013
          ],
          [
           "N/A",
           [
            "C"
           ],
           "A",
           "Gamma attenuation method",
           "not stated",
           2013
          ],
          [
           "N/A",
           [
            "C"
           ],
           "A",
           "Gamma attenuation method",
           "not stated",
           2013
          ],
          [
           "N/A",
           [
            "C"
           ],
           "A",
           "Gamma attenuation method",
           "not stated",
           2013
          ],
          [
           "N/A",
           [
            "C"
           ],
           "A",
           "Gamma attenuation method",
           "not stated",
           2013
          ],
          [
           "N/A",
           [
            "C"
           ],
           "A",
           "Gamma attenuation method",
           "not stated",
           2013
          ],
          [
           "N/A",
           [
            "C"
           ],
           "A",
           "Gamma attenuation method",
           "not stated",
           2013
          ],
          [
           "N/A",
           [
            "C"
           ],
           "A",
           "Gamma attenuation method",
           "not stated",
           2013
          ],
          [
           "N/A",
           [
            "C"
           ],
           "A",
           "Gamma attenuation method",
           "not stated",
           2013
          ],
          [
           "N/A",
           [
            "C"
           ],
           "A",
           "Gamma attenuation method",
           "not stated",
           2013
          ],
          [
           "N/A",
           [
            "C"
           ],
           "A",
           "Gamma attenuation method",
           "not stated",
           2013
          ],
          [
           "N/A",
           [
            "C"
           ],
           "A",
           "Gamma attenuation method",
           "not stated",
           2013
          ],
          [
           "N/A",
           [
            "C"
           ],
           "A",
           "Gamma attenuation method",
           "not stated",
           2013
          ],
          [
           "N/A",
           [
            "C"
           ],
           "A",
           "Gamma attenuation method",
           "not stated",
           2013
          ],
          [
           "N/A",
           [
            "C"
           ],
           "A",
           "Gamma attenuation method",
           "not stated",
           2013
          ],
          [
           "N/A",
           [
            "C"
           ],
           "A",
           "Gamma attenuation method",
           "not stated",
           2013
          ],
          [
           "N/A",
           [
            "C"
           ],
           "A",
           "Gamma attenuation method",
           "not stated",
           2013
          ],
          [
           "N/A",
           [
            "C"
           ],
           "A",
           "Gamma attenuation method",
           "not stated",
           2013
          ],
          [
           "N/A",
           [
            "C"
           ],
           "A",
           "Gamma attenuation method",
           "not stated",
           2013
          ],
          [
           "N/A",
           [
            "C"
           ],
           "A",
           "Gamma attenuation method",
           "not stated",
           2013
          ],
          [
           "N/A",
           [
            "C"
           ],
           "A",
           "Gamma attenuation method",
           "not stated",
           2013
          ],
          [
           "N/A",
           [
            "C"
           ],
           "A",
           "Gamma attenuation method",
           "not stated",
           2013
          ],
          [
           "N/A",
           [
            "C"
           ],
           "A",
           "Gamma attenuation method",
           "not stated",
           2013
          ],
          [
           "N/A",
           [
            "C"
           ],
           "A",
           "Gamma attenuation method",
           "not stated",
           2013
          ],
          [
           "N/A",
           [
            "C"
           ],
           "A",
           "Gamma attenuation method",
           "not stated",
           2013
          ],
          [
           "N/A",
           [
            "C"
           ],
           "A",
           "Gamma attenuation method",
           "not stated",
           2013
          ],
          [
           "N/A",
           [
            "C"
           ],
           "A",
           "Gamma attenuation method",
           "not stated",
           2013
          ],
          [
           "N/A",
           [
            "C"
           ],
           "A",
           "Gamma attenuation method",
           "not stated",
           2013
          ],
          [
           "N/A",
           [
            "C"
           ],
           "A",
           "Gamma attenuation method",
           "not stated",
           2013
          ],
          [
           "N/A",
           [
            "C"
           ],
           "A",
           "Gamma attenuation method",
           "not stated",
           2013
          ],
          [
           "N/A",
           [
            "C"
           ],
           "A",
           "Gamma attenuation method",
           "not stated",
           2013
          ],
          [
           "N/A",
           [
            "C"
           ],
           "A",
           "Gamma attenuation method",
           "not stated",
           2013
          ],
          [
           "N/A",
           [
            "C"
           ],
           "A",
           "Gamma attenuation method",
           "not stated",
           2013
          ],
          [
           "N/A",
           [
            "C"
           ],
           "A",
           "Gamma attenuation method",
           "not stated",
           2013
          ],
          [
           "N/A",
           [
            "C"
           ],
           "A",
           "Gamma attenuation method",
           "not stated",
           2013
          ],
          [
           "N/A",
           [
            "C"
           ],
           "A",
           "Gamma attenuation method",
           "not stated",
           2013
          ],
          [
           "N/A",
           [
            "C"
           ],
           "A",
           "Gamma attenuation method",
           "not stated",
           2013
          ],
          [
           "N/A",
           [
            "C"
           ],
           "A",
           "Gamma attenuation method",
           "not stated",
           2013
          ],
          [
           "N/A",
           [
            "C"
           ],
           "A",
           "Gamma attenuation method",
           "not stated",
           2013
          ],
          [
           "N/A",
           [
            "C"
           ],
           "A",
           "Gamma attenuation method",
           "not stated",
           2013
          ],
          [
           "N/A",
           [
            "C"
           ],
           "A",
           "Gamma attenuation method",
           "not stated",
           2013
          ],
          [
           "N/A",
           [
            "C"
           ],
           "A",
           "Gamma attenuation method",
           "not stated",
           2013
          ],
          [
           "N/A",
           [
            "C"
           ],
           "A",
           "Gamma attenuation method",
           "not stated",
           2013
          ],
          [
           "N/A",
           [
            "C"
           ],
           "A",
           "Gamma attenuation method",
           "not stated",
           2013
          ],
          [
           "N/A",
           [
            "C"
           ],
           "A",
           "Gamma attenuation method",
           "not stated",
           2013
          ],
          [
           "N/A",
           [
            "C"
           ],
           "A",
           "Gamma attenuation method",
           "not stated",
           2013
          ],
          [
           "N/A",
           [
            "C"
           ],
           "A",
           "Gamma attenuation method",
           "not stated",
           2013
          ],
          [
           "N/A",
           [
            "C"
           ],
           "A",
           "Gamma attenuation method",
           "not stated",
           2013
          ],
          [
           "N/A",
           [
            "C"
           ],
           "A",
           "Gamma attenuation method",
           "not stated",
           2013
          ],
          [
           "N/A",
           [
            "C"
           ],
           "A",
           "Gamma attenuation method",
           "not stated",
           2013
          ],
          [
           "N/A",
           [
            "C"
           ],
           "A",
           "Gamma attenuation method",
           "not stated",
           2013
          ],
          [
           "N/A",
           [
            "C"
           ],
           "A",
           "Gamma attenuation method",
           "not stated",
           2013
          ],
          [
           "N/A",
           [
            "C"
           ],
           "A",
           "Gamma attenuation method",
           "not stated",
           2013
          ],
          [
           "N/A",
           [
            "C"
           ],
           "A",
           "Gamma attenuation method",
           "not stated",
           2013
          ],
          [
           "N/A",
           [
            "C"
           ],
           "A",
           "Gamma attenuation method",
           "not stated",
           2013
          ],
          [
           "N/A",
           [
            "C"
           ],
           "A",
           "Gamma attenuation method",
           "not stated",
           2013
          ],
          [
           "N/A",
           [
            "C"
           ],
           "A",
           "Gamma attenuation method",
           "not stated",
           2013
          ],
          [
           "N/A",
           [
            "C"
           ],
           "A",
           "Gamma attenuation method",
           "not stated",
           2013
          ],
          [
           "N/A",
           [
            "C"
           ],
           "A",
           "Gamma attenuation method",
           "not stated",
           2013
          ],
          [
           "N/A",
           [
            "C"
           ],
           "A",
           "Gamma attenuation method",
           "not stated",
           2013
          ],
          [
           "N/A",
           [
            "C"
           ],
           "A",
           "Gamma attenuation method",
           "not stated",
           2013
          ],
          [
           "N/A",
           [
            "C"
           ],
           "A",
           "Gamma attenuation method",
           "not stated",
           2013
          ],
          [
           "N/A",
           [
            "C"
           ],
           "A",
           "Gamma attenuation method",
           "not stated",
           2013
          ],
          [
           "N/A",
           [
            "C"
           ],
           "A",
           "Gamma attenuation method",
           "not stated",
           2013
          ],
          [
           "N/A",
           [
            "C"
           ],
           "A",
           "Gamma attenuation method",
           "not stated",
           2013
          ],
          [
           "N/A",
           [
            "C"
           ],
           "A",
           "Gamma attenuation method",
           "not stated",
           2013
          ],
          [
           "N/A",
           [
            "C"
           ],
           "A",
           "Gamma attenuation method",
           "not stated",
           2013
          ],
          [
           "N/A",
           [
            "C"
           ],
           "A",
           "Gamma attenuation method",
           "not stated",
           2013
          ],
          [
           "N/A",
           [
            "C"
           ],
           "A",
           "Gamma attenuation method",
           "not stated",
           2013
          ],
          [
           "N/A",
           [
            "C"
           ],
           "A",
           "Gamma attenuation method",
           "not stated",
           2013
          ],
          [
           "N/A",
           [
            "C"
           ],
           "A",
           "Gamma attenuation method",
           "not stated",
           2013
          ],
          [
           "N/A",
           [
            "C"
           ],
           "A",
           "Gamma attenuation method",
           "not stated",
           2013
          ],
          [
           "N/A",
           [
            "C"
           ],
           "A",
           "Gamma attenuation method",
           "not stated",
           2013
          ],
          [
           "N/A",
           [
            "C"
           ],
           "A",
           "Gamma attenuation method",
           "not stated",
           2013
          ],
          [
           "N/A",
           [
            "C"
           ],
           "A",
           "Gamma attenuation method",
           "not stated",
           2013
          ],
          [
           "N/A",
           [
            "C"
           ],
           "A",
           "Gamma attenuation method",
           "not stated",
           2013
          ],
          [
           "N/A",
           [
            "C"
           ],
           "A",
           "Gamma attenuation method",
           "not stated",
           2013
          ],
          [
           "N/A",
           [
            "C"
           ],
           "A",
           "Gamma attenuation method",
           "not stated",
           2013
          ],
          [
           "N/A",
           [
            "C"
           ],
           "A",
           "Gamma attenuation method",
           "not stated",
           2013
          ],
          [
           "N/A",
           [
            "C"
           ],
           "A",
           "Gamma attenuation method",
           "not stated",
           2013
          ],
          [
           "N/A",
           [
            "C"
           ],
           "A",
           "Gamma attenuation method",
           "not stated",
           2013
          ],
          [
           "N/A",
           [
            "C"
           ],
           "A",
           "Gamma attenuation method",
           "not stated",
           2013
          ],
          [
           "N/A",
           [
            "C"
           ],
           "A",
           "Gamma attenuation method",
           "not stated",
           2013
          ]
         ],
         "error_y": {
          "array": [
           17.9748,
           17.8349,
           17.9532,
           17.7894,
           17.9627,
           17.8389,
           17.7837,
           17.9339,
           17.7933,
           17.9099,
           17.8708,
           17.7637,
           17.8699,
           17.7365,
           17.8563,
           17.7109,
           17.8259,
           17.6941,
           17.8003,
           17.6844,
           17.7795,
           17.6261,
           17.7547,
           17.6332,
           17.7403,
           17.63,
           17.7019,
           17.6012,
           17.6691,
           17.5748,
           17.6427,
           17.5564,
           17.6203,
           17.5204,
           17.5939,
           17.522,
           17.5947,
           17.5188,
           17.5771,
           17.494,
           17.5515,
           17.4907,
           17.5251,
           17.4875,
           17.4507,
           17.5075,
           17.4395,
           17.4923,
           17.4738,
           17.4003,
           17.4546,
           17.4163,
           17.4306,
           17.4666,
           17.4146,
           17.4106,
           17.4002,
           17.4242,
           17.3922,
           17.3482,
           17.3394,
           17.3554,
           17.357,
           17.3234,
           17.3857,
           17.3217,
           17.2674,
           17.3297,
           17.2745,
           17.2649,
           17.2305,
           17.2417,
           17.2305,
           17.2512,
           17.1985,
           17.1953,
           17.1713,
           17.1329,
           17.1705,
           17.1065,
           17.1416,
           17.1041,
           17.152,
           17.1304,
           17.0801,
           17.108,
           17.072,
           17.0864,
           17.064,
           17.0376,
           17.0448,
           16.9976,
           17.0384,
           17.0463,
           16.9632,
           17.0064,
           16.944,
           16.9879,
           16.8976,
           16.9664,
           16.8888,
           16.8936
          ]
         },
         "hovertemplate": "Data Set ID=27392<br>Temperature: F=%{x}<br>Specific density: kg/m**3=%{y}<br>Ref Temp=%{customdata[0]}<br>State=%{customdata[1]}<br>Representation=%{customdata[2]}<br>Method=%{customdata[3]}<br>Description=%{customdata[4]}<br>Year=%{customdata[5]}<extra></extra>",
         "legendgroup": "27392",
         "marker": {
          "color": "#ab63fa",
          "symbol": "circle"
         },
         "mode": "markers",
         "name": "27392",
         "orientation": "v",
         "showlegend": true,
         "type": "scatter",
         "x": [
          122.36000000000008,
          123.76400000000004,
          138.5780000000001,
          144.93200000000002,
          162.21200000000007,
          165.38000000000005,
          187.592,
          191.12000000000006,
          223.91600000000003,
          224.97800000000007,
          255.6680000000001,
          260.6,
          280.34600000000006,
          294.458,
          304.682,
          324.78800000000007,
          330.78200000000004,
          361.814,
          370.634,
          404.492,
          412.592,
          437.28800000000007,
          449.2760000000001,
          474.67400000000015,
          483.134,
          501.11600000000004,
          515.5699999999999,
          536.0360000000001,
          555.4220000000001,
          568.832,
          589.9820000000001,
          619.97,
          623.8400000000001,
          652.7660000000001,
          662.288,
          681.332,
          695.4260000000002,
          710.9420000000001,
          726.818,
          743.7560000000002,
          764.5640000000001,
          781.1240000000001,
          803.3539999999999,
          813.92,
          841.4420000000001,
          848.1379999999999,
          877.4060000000002,
          879.5300000000001,
          916.196,
          918.3199999999999,
          950.054,
          952.8800000000001,
          971.5640000000001,
          990.6080000000002,
          1002.5960000000001,
          1026.23,
          1051.97,
          1059.728,
          1089.3560000000002,
          1095.71,
          1132.3760000000002,
          1136.9660000000001,
          1169.0600000000002,
          1203.278,
          1207.508,
          1237.838,
          1275.2060000000001,
          1276.268,
          1311.89,
          1351.382,
          1382.432,
          1391.234,
          1419.458,
          1428.2779999999998,
          1457.5459999999998,
          1490.3419999999999,
          1498.1000000000001,
          1529.492,
          1529.834,
          1567.9220000000003,
          1578.146,
          1597.5500000000002,
          1612.0040000000001,
          1645.1599999999999,
          1645.52,
          1680.7820000000002,
          1685.7140000000002,
          1717.8080000000002,
          1718.1680000000001,
          1745.3120000000001,
          1762.5919999999999,
          1785.866,
          1794.6860000000001,
          1826.78,
          1834.8980000000001,
          1863.1040000000003,
          1872.6260000000002,
          1890.608,
          1903.658,
          1916.3659999999998,
          1929.3980000000004,
          1955.858
         ],
         "xaxis": "x",
         "y": [
          8987.38,
          8917.46,
          8976.58,
          8894.68,
          8981.37,
          8919.44,
          8891.86,
          8966.97,
          8896.64,
          8954.97,
          8935.38,
          8881.84,
          8934.97,
          8868.24,
          8928.17,
          8855.44,
          8912.97,
          8847.04,
          8900.17,
          8842.22,
          8889.77,
          8813.04,
          8877.36,
          8816.62,
          8870.16,
          8815.01,
          8850.97,
          8800.62,
          8834.57,
          8787.42,
          8821.37,
          8778.2,
          8810.17,
          8760.21,
          8796.96,
          8761,
          8797.35,
          8759.39,
          8788.54,
          8746.99,
          8775.74,
          8745.37,
          8762.54,
          8743.76,
          8725.37,
          8753.73,
          8719.76,
          8746.13,
          8736.92,
          8700.16,
          8727.32,
          8708.14,
          8715.32,
          8733.29,
          8707.32,
          8705.31,
          8700.1,
          8712.09,
          8696.09,
          8674.12,
          8669.7,
          8677.69,
          8678.48,
          8661.68,
          8692.84,
          8660.87,
          8633.68,
          8664.85,
          8637.26,
          8632.45,
          8615.26,
          8620.85,
          8615.24,
          8625.62,
          8599.24,
          8597.63,
          8585.64,
          8566.45,
          8585.23,
          8553.25,
          8570.82,
          8552.04,
          8576,
          8565.2,
          8540.03,
          8554,
          8536.02,
          8543.19,
          8532.01,
          8518.81,
          8522.4,
          8498.81,
          8519.19,
          8523.17,
          8481.61,
          8503.18,
          8472.01,
          8493.97,
          8448.82,
          8483.18,
          8444.42,
          8446.8
         ],
         "yaxis": "y"
        },
        {
         "customdata": [
          [
           "N/A",
           [
            "L"
           ],
           "A",
           "Gamma attenuation method",
           "not stated",
           2013
          ],
          [
           "N/A",
           [
            "L"
           ],
           "A",
           "Gamma attenuation method",
           "not stated",
           2013
          ],
          [
           "N/A",
           [
            "L"
           ],
           "A",
           "Gamma attenuation method",
           "not stated",
           2013
          ],
          [
           "N/A",
           [
            "L"
           ],
           "A",
           "Gamma attenuation method",
           "not stated",
           2013
          ],
          [
           "N/A",
           [
            "L"
           ],
           "A",
           "Gamma attenuation method",
           "not stated",
           2013
          ],
          [
           "N/A",
           [
            "L"
           ],
           "A",
           "Gamma attenuation method",
           "not stated",
           2013
          ],
          [
           "N/A",
           [
            "L"
           ],
           "A",
           "Gamma attenuation method",
           "not stated",
           2013
          ]
         ],
         "error_y": {
          "array": [
           15.918,
           15.846,
           15.776,
           15.704,
           15.632,
           15.56,
           15.49
          ]
         },
         "hovertemplate": "Data Set ID=27393<br>Temperature: F=%{x}<br>Specific density: kg/m**3=%{y}<br>Ref Temp=%{customdata[0]}<br>State=%{customdata[1]}<br>Representation=%{customdata[2]}<br>Method=%{customdata[3]}<br>Description=%{customdata[4]}<br>Year=%{customdata[5]}<extra></extra>",
         "legendgroup": "27393",
         "marker": {
          "color": "#FFA15A",
          "symbol": "circle"
         },
         "mode": "markers",
         "name": "27393",
         "orientation": "v",
         "showlegend": true,
         "type": "scatter",
         "x": [
          2012,
          2102,
          2192,
          2282,
          2372,
          2462,
          2552
         ],
         "xaxis": "x",
         "y": [
          7959,
          7923,
          7888,
          7852,
          7816,
          7780,
          7745
         ],
         "yaxis": "y"
        },
        {
         "customdata": [
          [
           "N/A",
           [
            "L"
           ],
           "A",
           "Gamma attenuation method",
           "not stated",
           2013
          ],
          [
           "N/A",
           [
            "L"
           ],
           "A",
           "Gamma attenuation method",
           "not stated",
           2013
          ],
          [
           "N/A",
           [
            "L"
           ],
           "A",
           "Gamma attenuation method",
           "not stated",
           2013
          ],
          [
           "N/A",
           [
            "L"
           ],
           "A",
           "Gamma attenuation method",
           "not stated",
           2013
          ],
          [
           "N/A",
           [
            "L"
           ],
           "A",
           "Gamma attenuation method",
           "not stated",
           2013
          ],
          [
           "N/A",
           [
            "L"
           ],
           "A",
           "Gamma attenuation method",
           "not stated",
           2013
          ],
          [
           "N/A",
           [
            "L"
           ],
           "A",
           "Gamma attenuation method",
           "not stated",
           2013
          ],
          [
           "N/A",
           [
            "L"
           ],
           "A",
           "Gamma attenuation method",
           "not stated",
           2013
          ],
          [
           "N/A",
           [
            "L"
           ],
           "A",
           "Gamma attenuation method",
           "not stated",
           2013
          ],
          [
           "N/A",
           [
            "L"
           ],
           "A",
           "Gamma attenuation method",
           "not stated",
           2013
          ],
          [
           "N/A",
           [
            "L"
           ],
           "A",
           "Gamma attenuation method",
           "not stated",
           2013
          ]
         ],
         "error_y": {
          "array": [
           17.912,
           17.836,
           17.744,
           17.652,
           17.558,
           17.466,
           17.372,
           17.28,
           17.188,
           17.094,
           17.002
          ]
         },
         "hovertemplate": "Data Set ID=27394<br>Temperature: F=%{x}<br>Specific density: kg/m**3=%{y}<br>Ref Temp=%{customdata[0]}<br>State=%{customdata[1]}<br>Representation=%{customdata[2]}<br>Method=%{customdata[3]}<br>Description=%{customdata[4]}<br>Year=%{customdata[5]}<extra></extra>",
         "legendgroup": "27394",
         "marker": {
          "color": "#19d3f3",
          "symbol": "circle"
         },
         "mode": "markers",
         "name": "27394",
         "orientation": "v",
         "showlegend": true,
         "type": "scatter",
         "x": [
          68,
          212,
          392,
          572,
          752,
          932,
          1112,
          1292,
          1472.0000000000002,
          1652.0000000000002,
          1832.0000000000002
         ],
         "xaxis": "x",
         "y": [
          8956,
          8918,
          8872,
          8826,
          8779,
          8733,
          8686,
          8640,
          8594,
          8547,
          8501
         ],
         "yaxis": "y"
        },
        {
         "customdata": [
          [
           "N/A",
           [
            "L"
           ],
           "A",
           "Gamma attenuation method",
           "not stated",
           2013
          ],
          [
           "N/A",
           [
            "L"
           ],
           "A",
           "Gamma attenuation method",
           "not stated",
           2013
          ],
          [
           "N/A",
           [
            "L"
           ],
           "A",
           "Gamma attenuation method",
           "not stated",
           2013
          ],
          [
           "N/A",
           [
            "L"
           ],
           "A",
           "Gamma attenuation method",
           "not stated",
           2013
          ],
          [
           "N/A",
           [
            "L"
           ],
           "A",
           "Gamma attenuation method",
           "not stated",
           2013
          ],
          [
           "N/A",
           [
            "L"
           ],
           "A",
           "Gamma attenuation method",
           "not stated",
           2013
          ],
          [
           "N/A",
           [
            "L"
           ],
           "A",
           "Gamma attenuation method",
           "not stated",
           2013
          ]
         ],
         "error_y": {
          "array": [
           15.918,
           15.846,
           15.776,
           15.704,
           15.632,
           15.56,
           15.49
          ]
         },
         "hovertemplate": "Data Set ID=27399<br>Temperature: F=%{x}<br>Specific density: kg/m**3=%{y}<br>Ref Temp=%{customdata[0]}<br>State=%{customdata[1]}<br>Representation=%{customdata[2]}<br>Method=%{customdata[3]}<br>Description=%{customdata[4]}<br>Year=%{customdata[5]}<extra></extra>",
         "legendgroup": "27399",
         "marker": {
          "color": "#FF6692",
          "symbol": "circle"
         },
         "mode": "markers",
         "name": "27399",
         "orientation": "v",
         "showlegend": true,
         "type": "scatter",
         "x": [
          2012,
          2102,
          2192,
          2282,
          2372,
          2462,
          2552
         ],
         "xaxis": "x",
         "y": [
          7959,
          7923,
          7888,
          7852,
          7816,
          7780,
          7745
         ],
         "yaxis": "y"
        },
        {
         "customdata": [
          [
           "N/A",
           [
            "L"
           ],
           "A",
           "Gamma attenuation method",
           "origin: commercial source,99.99 % (total),stated by supplier",
           2015
          ]
         ],
         "error_y": {
          "array": [
           15.7136
          ]
         },
         "hovertemplate": "Data Set ID=28042<br>Temperature: F=%{x}<br>Specific density: kg/m**3=%{y}<br>Ref Temp=%{customdata[0]}<br>State=%{customdata[1]}<br>Representation=%{customdata[2]}<br>Method=%{customdata[3]}<br>Description=%{customdata[4]}<br>Year=%{customdata[5]}<extra></extra>",
         "legendgroup": "28042",
         "marker": {
          "color": "#B6E880",
          "symbol": "circle"
         },
         "mode": "markers",
         "name": "28042",
         "orientation": "v",
         "showlegend": true,
         "type": "scatter",
         "x": [
          2282
         ],
         "xaxis": "x",
         "y": [
          7856.78
         ],
         "yaxis": "y"
        },
        {
         "customdata": [
          [
           "N/A",
           [
            "L"
           ],
           "A",
           "Resistive pulse heating",
           "origin: commercial source,99.996 % (total),stated by supplier,wire",
           2015
          ],
          [
           "N/A",
           [
            "L"
           ],
           "A",
           "Resistive pulse heating",
           "origin: commercial source,99.996 % (total),stated by supplier,wire",
           2015
          ],
          [
           "N/A",
           [
            "L"
           ],
           "A",
           "Resistive pulse heating",
           "origin: commercial source,99.996 % (total),stated by supplier,wire",
           2015
          ],
          [
           "N/A",
           [
            "L"
           ],
           "A",
           "Resistive pulse heating",
           "origin: commercial source,99.996 % (total),stated by supplier,wire",
           2015
          ],
          [
           "N/A",
           [
            "L"
           ],
           "A",
           "Resistive pulse heating",
           "origin: commercial source,99.996 % (total),stated by supplier,wire",
           2015
          ],
          [
           "N/A",
           [
            "L"
           ],
           "A",
           "Resistive pulse heating",
           "origin: commercial source,99.996 % (total),stated by supplier,wire",
           2015
          ],
          [
           "N/A",
           [
            "L"
           ],
           "A",
           "Resistive pulse heating",
           "origin: commercial source,99.996 % (total),stated by supplier,wire",
           2015
          ],
          [
           "N/A",
           [
            "L"
           ],
           "A",
           "Resistive pulse heating",
           "origin: commercial source,99.996 % (total),stated by supplier,wire",
           2015
          ],
          [
           "N/A",
           [
            "L"
           ],
           "A",
           "Resistive pulse heating",
           "origin: commercial source,99.996 % (total),stated by supplier,wire",
           2015
          ],
          [
           "N/A",
           [
            "L"
           ],
           "A",
           "Resistive pulse heating",
           "origin: commercial source,99.996 % (total),stated by supplier,wire",
           2015
          ],
          [
           "N/A",
           [
            "L"
           ],
           "A",
           "Resistive pulse heating",
           "origin: commercial source,99.996 % (total),stated by supplier,wire",
           2015
          ],
          [
           "N/A",
           [
            "L"
           ],
           "A",
           "Resistive pulse heating",
           "origin: commercial source,99.996 % (total),stated by supplier,wire",
           2015
          ],
          [
           "N/A",
           [
            "L"
           ],
           "A",
           "Resistive pulse heating",
           "origin: commercial source,99.996 % (total),stated by supplier,wire",
           2015
          ],
          [
           "N/A",
           [
            "L"
           ],
           "A",
           "Resistive pulse heating",
           "origin: commercial source,99.996 % (total),stated by supplier,wire",
           2015
          ],
          [
           "N/A",
           [
            "L"
           ],
           "A",
           "Resistive pulse heating",
           "origin: commercial source,99.996 % (total),stated by supplier,wire",
           2015
          ],
          [
           "N/A",
           [
            "L"
           ],
           "A",
           "Resistive pulse heating",
           "origin: commercial source,99.996 % (total),stated by supplier,wire",
           2015
          ],
          [
           "N/A",
           [
            "L"
           ],
           "A",
           "Resistive pulse heating",
           "origin: commercial source,99.996 % (total),stated by supplier,wire",
           2015
          ],
          [
           "N/A",
           [
            "L"
           ],
           "A",
           "Resistive pulse heating",
           "origin: commercial source,99.996 % (total),stated by supplier,wire",
           2015
          ],
          [
           "N/A",
           [
            "L"
           ],
           "A",
           "Resistive pulse heating",
           "origin: commercial source,99.996 % (total),stated by supplier,wire",
           2015
          ],
          [
           "N/A",
           [
            "L"
           ],
           "A",
           "Resistive pulse heating",
           "origin: commercial source,99.996 % (total),stated by supplier,wire",
           2015
          ],
          [
           "N/A",
           [
            "L"
           ],
           "A",
           "Resistive pulse heating",
           "origin: commercial source,99.996 % (total),stated by supplier,wire",
           2015
          ],
          [
           "N/A",
           [
            "L"
           ],
           "A",
           "Resistive pulse heating",
           "origin: commercial source,99.996 % (total),stated by supplier,wire",
           2015
          ],
          [
           "N/A",
           [
            "L"
           ],
           "A",
           "Resistive pulse heating",
           "origin: commercial source,99.996 % (total),stated by supplier,wire",
           2015
          ],
          [
           "N/A",
           [
            "L"
           ],
           "A",
           "Resistive pulse heating",
           "origin: commercial source,99.996 % (total),stated by supplier,wire",
           2015
          ],
          [
           "N/A",
           [
            "L"
           ],
           "A",
           "Resistive pulse heating",
           "origin: commercial source,99.996 % (total),stated by supplier,wire",
           2015
          ],
          [
           "N/A",
           [
            "L"
           ],
           "A",
           "Resistive pulse heating",
           "origin: commercial source,99.996 % (total),stated by supplier,wire",
           2015
          ],
          [
           "N/A",
           [
            "L"
           ],
           "A",
           "Resistive pulse heating",
           "origin: commercial source,99.996 % (total),stated by supplier,wire",
           2015
          ],
          [
           "N/A",
           [
            "L"
           ],
           "A",
           "Resistive pulse heating",
           "origin: commercial source,99.996 % (total),stated by supplier,wire",
           2015
          ],
          [
           "N/A",
           [
            "L"
           ],
           "A",
           "Resistive pulse heating",
           "origin: commercial source,99.996 % (total),stated by supplier,wire",
           2015
          ],
          [
           "N/A",
           [
            "L"
           ],
           "A",
           "Resistive pulse heating",
           "origin: commercial source,99.996 % (total),stated by supplier,wire",
           2015
          ],
          [
           "N/A",
           [
            "L"
           ],
           "A",
           "Resistive pulse heating",
           "origin: commercial source,99.996 % (total),stated by supplier,wire",
           2015
          ],
          [
           "N/A",
           [
            "L"
           ],
           "A",
           "Resistive pulse heating",
           "origin: commercial source,99.996 % (total),stated by supplier,wire",
           2015
          ],
          [
           "N/A",
           [
            "L"
           ],
           "A",
           "Resistive pulse heating",
           "origin: commercial source,99.996 % (total),stated by supplier,wire",
           2015
          ],
          [
           "N/A",
           [
            "L"
           ],
           "A",
           "Resistive pulse heating",
           "origin: commercial source,99.996 % (total),stated by supplier,wire",
           2015
          ],
          [
           "N/A",
           [
            "L"
           ],
           "A",
           "Resistive pulse heating",
           "origin: commercial source,99.996 % (total),stated by supplier,wire",
           2015
          ],
          [
           "N/A",
           [
            "L"
           ],
           "A",
           "Resistive pulse heating",
           "origin: commercial source,99.996 % (total),stated by supplier,wire",
           2015
          ],
          [
           "N/A",
           [
            "L"
           ],
           "A",
           "Resistive pulse heating",
           "origin: commercial source,99.996 % (total),stated by supplier,wire",
           2015
          ],
          [
           "N/A",
           [
            "L"
           ],
           "A",
           "Resistive pulse heating",
           "origin: commercial source,99.996 % (total),stated by supplier,wire",
           2015
          ],
          [
           "N/A",
           [
            "L"
           ],
           "A",
           "Resistive pulse heating",
           "origin: commercial source,99.996 % (total),stated by supplier,wire",
           2015
          ],
          [
           "N/A",
           [
            "L"
           ],
           "A",
           "Resistive pulse heating",
           "origin: commercial source,99.996 % (total),stated by supplier,wire",
           2015
          ],
          [
           "N/A",
           [
            "L"
           ],
           "A",
           "Resistive pulse heating",
           "origin: commercial source,99.996 % (total),stated by supplier,wire",
           2015
          ],
          [
           "N/A",
           [
            "L"
           ],
           "A",
           "Resistive pulse heating",
           "origin: commercial source,99.996 % (total),stated by supplier,wire",
           2015
          ],
          [
           "N/A",
           [
            "L"
           ],
           "A",
           "Resistive pulse heating",
           "origin: commercial source,99.996 % (total),stated by supplier,wire",
           2015
          ],
          [
           "N/A",
           [
            "L"
           ],
           "A",
           "Resistive pulse heating",
           "origin: commercial source,99.996 % (total),stated by supplier,wire",
           2015
          ],
          [
           "N/A",
           [
            "L"
           ],
           "A",
           "Resistive pulse heating",
           "origin: commercial source,99.996 % (total),stated by supplier,wire",
           2015
          ],
          [
           "N/A",
           [
            "L"
           ],
           "A",
           "Resistive pulse heating",
           "origin: commercial source,99.996 % (total),stated by supplier,wire",
           2015
          ],
          [
           "N/A",
           [
            "L"
           ],
           "A",
           "Resistive pulse heating",
           "origin: commercial source,99.996 % (total),stated by supplier,wire",
           2015
          ],
          [
           "N/A",
           [
            "L"
           ],
           "A",
           "Resistive pulse heating",
           "origin: commercial source,99.996 % (total),stated by supplier,wire",
           2015
          ],
          [
           "N/A",
           [
            "L"
           ],
           "A",
           "Resistive pulse heating",
           "origin: commercial source,99.996 % (total),stated by supplier,wire",
           2015
          ],
          [
           "N/A",
           [
            "L"
           ],
           "A",
           "Resistive pulse heating",
           "origin: commercial source,99.996 % (total),stated by supplier,wire",
           2015
          ],
          [
           "N/A",
           [
            "L"
           ],
           "A",
           "Resistive pulse heating",
           "origin: commercial source,99.996 % (total),stated by supplier,wire",
           2015
          ]
         ],
         "error_y": {
          "array": [
           274.043,
           274.019,
           272.934,
           274.596,
           276.945,
           275.45,
           269.913,
           262.28,
           273.501,
           263.158,
           265.423,
           267.53,
           270.2,
           255.378,
           266.48,
           268.093,
           264.649,
           260.904,
           268.779,
           268.429,
           265.094,
           260.701,
           246.082,
           258.615,
           239.827,
           255.077,
           259.315,
           254.583,
           252.886,
           258.097,
           257.159,
           252.417,
           249.081,
           235.242,
           245.781,
           242.963,
           245.77,
           240.163,
           241.819,
           259.301,
           250.31,
           240.664,
           236.936,
           245.469,
           243.59,
           251.307,
           261.989,
           253.295,
           236.52,
           252.861,
           251.86
          ]
         },
         "hovertemplate": "Data Set ID=28095<br>Temperature: F=%{x}<br>Specific density: kg/m**3=%{y}<br>Ref Temp=%{customdata[0]}<br>State=%{customdata[1]}<br>Representation=%{customdata[2]}<br>Method=%{customdata[3]}<br>Description=%{customdata[4]}<br>Year=%{customdata[5]}<extra></extra>",
         "legendgroup": "28095",
         "marker": {
          "color": "#FF97FF",
          "symbol": "circle"
         },
         "mode": "markers",
         "name": "28095",
         "orientation": "v",
         "showlegend": true,
         "type": "scatter",
         "x": [
          2145.4700000000003,
          2188.13,
          2221.25,
          2225.2099999999996,
          2225.57,
          2226.83,
          2379.2900000000004,
          2430.41,
          2486.93,
          2625.5299999999997,
          2625.8900000000003,
          2631.65,
          2713.73,
          2718.7700000000004,
          2725.9700000000003,
          2732.9900000000002,
          2750.9900000000002,
          3174.5299999999997,
          3181.0099999999998,
          3293.8700000000003,
          3296.2099999999996,
          3355.9700000000003,
          3427.07,
          3479.4500000000003,
          3492.05,
          3553.07,
          3570.7099999999996,
          3580.07,
          3585.83,
          3587.2700000000004,
          3596.81,
          3599.15,
          3614.81,
          3618.5899999999997,
          3620.2099999999996,
          3624.17,
          3629.57,
          3631.3700000000003,
          3641.4500000000003,
          3653.6899999999996,
          3662.6899999999996,
          3667.73,
          3677.2700000000004,
          3679.07,
          3703.1899999999996,
          3706.7899999999995,
          3709.13,
          3731.2700000000004,
          3767.2700000000004,
          3869.5099999999998,
          3879.5899999999997
         ],
         "xaxis": "x",
         "y": [
          7829.8,
          7829.1,
          7798.1,
          7845.6,
          7912.7,
          7870,
          7711.8,
          7493.7,
          7814.3,
          7518.8,
          7583.5,
          7643.7,
          7720,
          7296.5,
          7613.7,
          7659.8,
          7561.4,
          7454.4,
          7679.4,
          7669.4,
          7574.1,
          7448.6,
          7030.9,
          7389,
          6852.2,
          7287.9,
          7409,
          7273.8,
          7225.3,
          7374.2,
          7347.4,
          7211.9,
          7116.6,
          6721.2,
          7022.3,
          6941.8,
          7022,
          6861.8,
          6909.1,
          7408.6,
          7151.7,
          6876.1,
          6769.6,
          7013.4,
          6959.7,
          7180.2,
          7485.4,
          7237,
          6757.7,
          7224.6,
          7196
         ],
         "yaxis": "y"
        },
        {
         "customdata": [
          [
           "N/A",
           [
            "L"
           ],
           "A",
           "Resistive pulse heating",
           "origin: commercial source,99.996 % (total),stated by supplier,wire",
           2015
          ],
          [
           "N/A",
           [
            "L"
           ],
           "A",
           "Resistive pulse heating",
           "origin: commercial source,99.996 % (total),stated by supplier,wire",
           2015
          ],
          [
           "N/A",
           [
            "L"
           ],
           "A",
           "Resistive pulse heating",
           "origin: commercial source,99.996 % (total),stated by supplier,wire",
           2015
          ],
          [
           "N/A",
           [
            "L"
           ],
           "A",
           "Resistive pulse heating",
           "origin: commercial source,99.996 % (total),stated by supplier,wire",
           2015
          ],
          [
           "N/A",
           [
            "L"
           ],
           "A",
           "Resistive pulse heating",
           "origin: commercial source,99.996 % (total),stated by supplier,wire",
           2015
          ],
          [
           "N/A",
           [
            "L"
           ],
           "A",
           "Resistive pulse heating",
           "origin: commercial source,99.996 % (total),stated by supplier,wire",
           2015
          ],
          [
           "N/A",
           [
            "L"
           ],
           "A",
           "Resistive pulse heating",
           "origin: commercial source,99.996 % (total),stated by supplier,wire",
           2015
          ],
          [
           "N/A",
           [
            "L"
           ],
           "A",
           "Resistive pulse heating",
           "origin: commercial source,99.996 % (total),stated by supplier,wire",
           2015
          ],
          [
           "N/A",
           [
            "L"
           ],
           "A",
           "Resistive pulse heating",
           "origin: commercial source,99.996 % (total),stated by supplier,wire",
           2015
          ],
          [
           "N/A",
           [
            "L"
           ],
           "A",
           "Resistive pulse heating",
           "origin: commercial source,99.996 % (total),stated by supplier,wire",
           2015
          ],
          [
           "N/A",
           [
            "L"
           ],
           "A",
           "Resistive pulse heating",
           "origin: commercial source,99.996 % (total),stated by supplier,wire",
           2015
          ],
          [
           "N/A",
           [
            "L"
           ],
           "A",
           "Resistive pulse heating",
           "origin: commercial source,99.996 % (total),stated by supplier,wire",
           2015
          ],
          [
           "N/A",
           [
            "L"
           ],
           "A",
           "Resistive pulse heating",
           "origin: commercial source,99.996 % (total),stated by supplier,wire",
           2015
          ],
          [
           "N/A",
           [
            "L"
           ],
           "A",
           "Resistive pulse heating",
           "origin: commercial source,99.996 % (total),stated by supplier,wire",
           2015
          ],
          [
           "N/A",
           [
            "L"
           ],
           "A",
           "Resistive pulse heating",
           "origin: commercial source,99.996 % (total),stated by supplier,wire",
           2015
          ],
          [
           "N/A",
           [
            "L"
           ],
           "A",
           "Resistive pulse heating",
           "origin: commercial source,99.996 % (total),stated by supplier,wire",
           2015
          ],
          [
           "N/A",
           [
            "L"
           ],
           "A",
           "Resistive pulse heating",
           "origin: commercial source,99.996 % (total),stated by supplier,wire",
           2015
          ],
          [
           "N/A",
           [
            "L"
           ],
           "A",
           "Resistive pulse heating",
           "origin: commercial source,99.996 % (total),stated by supplier,wire",
           2015
          ],
          [
           "N/A",
           [
            "L"
           ],
           "A",
           "Resistive pulse heating",
           "origin: commercial source,99.996 % (total),stated by supplier,wire",
           2015
          ],
          [
           "N/A",
           [
            "L"
           ],
           "A",
           "Resistive pulse heating",
           "origin: commercial source,99.996 % (total),stated by supplier,wire",
           2015
          ]
         ],
         "error_y": {
          "array": [
           275.275,
           273.735,
           272.195,
           270.69,
           269.15,
           267.61,
           266.105,
           264.565,
           263.025,
           261.485,
           259.98,
           258.44,
           256.9,
           255.395,
           253.855,
           252.315,
           250.81,
           249.27,
           247.73,
           246.19
          ]
         },
         "hovertemplate": "Data Set ID=28096<br>Temperature: F=%{x}<br>Specific density: kg/m**3=%{y}<br>Ref Temp=%{customdata[0]}<br>State=%{customdata[1]}<br>Representation=%{customdata[2]}<br>Method=%{customdata[3]}<br>Description=%{customdata[4]}<br>Year=%{customdata[5]}<extra></extra>",
         "legendgroup": "28096",
         "marker": {
          "color": "#FECB52",
          "symbol": "circle"
         },
         "mode": "markers",
         "name": "28096",
         "orientation": "v",
         "showlegend": true,
         "type": "scatter",
         "x": [
          2150.33,
          2240.33,
          2330.33,
          2420.33,
          2510.33,
          2600.33,
          2690.33,
          2780.33,
          2870.33,
          2960.33,
          3050.33,
          3140.33,
          3230.33,
          3320.33,
          3410.33,
          3500.33,
          3590.33,
          3680.33,
          3770.33,
          3860.33
         ],
         "xaxis": "x",
         "y": [
          7865,
          7821,
          7777,
          7734,
          7690,
          7646,
          7603,
          7559,
          7515,
          7471,
          7428,
          7384,
          7340,
          7297,
          7253,
          7209,
          7166,
          7122,
          7078,
          7034
         ],
         "yaxis": "y"
        },
        {
         "customdata": [
          [
           "N/A",
           [
            "L"
           ],
           "A",
           "Shadow graph",
           "origin: commercial source,99.9999 % (total),stated by supplier,ingot",
           2015
          ],
          [
           "N/A",
           [
            "L"
           ],
           "A",
           "Shadow graph",
           "origin: commercial source,99.9999 % (total),stated by supplier,ingot",
           2015
          ],
          [
           "N/A",
           [
            "L"
           ],
           "A",
           "Shadow graph",
           "origin: commercial source,99.9999 % (total),stated by supplier,ingot",
           2015
          ],
          [
           "N/A",
           [
            "L"
           ],
           "A",
           "Shadow graph",
           "origin: commercial source,99.9999 % (total),stated by supplier,ingot",
           2015
          ],
          [
           "N/A",
           [
            "L"
           ],
           "A",
           "Shadow graph",
           "origin: commercial source,99.9999 % (total),stated by supplier,ingot",
           2015
          ],
          [
           "N/A",
           [
            "L"
           ],
           "A",
           "Shadow graph",
           "origin: commercial source,99.9999 % (total),stated by supplier,ingot",
           2015
          ],
          [
           "N/A",
           [
            "L"
           ],
           "A",
           "Shadow graph",
           "origin: commercial source,99.9999 % (total),stated by supplier,ingot",
           2015
          ],
          [
           "N/A",
           [
            "L"
           ],
           "A",
           "Shadow graph",
           "origin: commercial source,99.9999 % (total),stated by supplier,ingot",
           2015
          ],
          [
           "N/A",
           [
            "L"
           ],
           "A",
           "Shadow graph",
           "origin: commercial source,99.9999 % (total),stated by supplier,ingot",
           2015
          ],
          [
           "N/A",
           [
            "L"
           ],
           "A",
           "Shadow graph",
           "origin: commercial source,99.9999 % (total),stated by supplier,ingot",
           2015
          ],
          [
           "N/A",
           [
            "L"
           ],
           "A",
           "Shadow graph",
           "origin: commercial source,99.9999 % (total),stated by supplier,ingot",
           2015
          ],
          [
           "N/A",
           [
            "L"
           ],
           "A",
           "Shadow graph",
           "origin: commercial source,99.9999 % (total),stated by supplier,ingot",
           2015
          ],
          [
           "N/A",
           [
            "L"
           ],
           "A",
           "Shadow graph",
           "origin: commercial source,99.9999 % (total),stated by supplier,ingot",
           2015
          ],
          [
           "N/A",
           [
            "L"
           ],
           "A",
           "Shadow graph",
           "origin: commercial source,99.9999 % (total),stated by supplier,ingot",
           2015
          ],
          [
           "N/A",
           [
            "L"
           ],
           "A",
           "Shadow graph",
           "origin: commercial source,99.9999 % (total),stated by supplier,ingot",
           2015
          ],
          [
           "N/A",
           [
            "L"
           ],
           "A",
           "Shadow graph",
           "origin: commercial source,99.9999 % (total),stated by supplier,ingot",
           2015
          ],
          [
           "N/A",
           [
            "L"
           ],
           "A",
           "Shadow graph",
           "origin: commercial source,99.9999 % (total),stated by supplier,ingot",
           2015
          ],
          [
           "N/A",
           [
            "L"
           ],
           "A",
           "Shadow graph",
           "origin: commercial source,99.9999 % (total),stated by supplier,ingot",
           2015
          ],
          [
           "N/A",
           [
            "L"
           ],
           "A",
           "Shadow graph",
           "origin: commercial source,99.9999 % (total),stated by supplier,ingot",
           2015
          ],
          [
           "N/A",
           [
            "L"
           ],
           "A",
           "Shadow graph",
           "origin: commercial source,99.9999 % (total),stated by supplier,ingot",
           2015
          ],
          [
           "N/A",
           [
            "L"
           ],
           "A",
           "Shadow graph",
           "origin: commercial source,99.9999 % (total),stated by supplier,ingot",
           2015
          ],
          [
           "N/A",
           [
            "L"
           ],
           "A",
           "Shadow graph",
           "origin: commercial source,99.9999 % (total),stated by supplier,ingot",
           2015
          ],
          [
           "N/A",
           [
            "L"
           ],
           "A",
           "Shadow graph",
           "origin: commercial source,99.9999 % (total),stated by supplier,ingot",
           2015
          ],
          [
           "N/A",
           [
            "L"
           ],
           "A",
           "Shadow graph",
           "origin: commercial source,99.9999 % (total),stated by supplier,ingot",
           2015
          ],
          [
           "N/A",
           [
            "L"
           ],
           "A",
           "Shadow graph",
           "origin: commercial source,99.9999 % (total),stated by supplier,ingot",
           2015
          ],
          [
           "N/A",
           [
            "L"
           ],
           "A",
           "Shadow graph",
           "origin: commercial source,99.9999 % (total),stated by supplier,ingot",
           2015
          ],
          [
           "N/A",
           [
            "L"
           ],
           "A",
           "Shadow graph",
           "origin: commercial source,99.9999 % (total),stated by supplier,ingot",
           2015
          ],
          [
           "N/A",
           [
            "L"
           ],
           "A",
           "Shadow graph",
           "origin: commercial source,99.9999 % (total),stated by supplier,ingot",
           2015
          ],
          [
           "N/A",
           [
            "L"
           ],
           "A",
           "Shadow graph",
           "origin: commercial source,99.9999 % (total),stated by supplier,ingot",
           2015
          ],
          [
           "N/A",
           [
            "L"
           ],
           "A",
           "Shadow graph",
           "origin: commercial source,99.9999 % (total),stated by supplier,ingot",
           2015
          ],
          [
           "N/A",
           [
            "L"
           ],
           "A",
           "Shadow graph",
           "origin: commercial source,99.9999 % (total),stated by supplier,ingot",
           2015
          ],
          [
           "N/A",
           [
            "L"
           ],
           "A",
           "Shadow graph",
           "origin: commercial source,99.9999 % (total),stated by supplier,ingot",
           2015
          ],
          [
           "N/A",
           [
            "L"
           ],
           "A",
           "Shadow graph",
           "origin: commercial source,99.9999 % (total),stated by supplier,ingot",
           2015
          ],
          [
           "N/A",
           [
            "L"
           ],
           "A",
           "Shadow graph",
           "origin: commercial source,99.9999 % (total),stated by supplier,ingot",
           2015
          ],
          [
           "N/A",
           [
            "L"
           ],
           "A",
           "Shadow graph",
           "origin: commercial source,99.9999 % (total),stated by supplier,ingot",
           2015
          ],
          [
           "N/A",
           [
            "L"
           ],
           "A",
           "Shadow graph",
           "origin: commercial source,99.9999 % (total),stated by supplier,ingot",
           2015
          ],
          [
           "N/A",
           [
            "L"
           ],
           "A",
           "Shadow graph",
           "origin: commercial source,99.9999 % (total),stated by supplier,ingot",
           2015
          ],
          [
           "N/A",
           [
            "L"
           ],
           "A",
           "Shadow graph",
           "origin: commercial source,99.9999 % (total),stated by supplier,ingot",
           2015
          ],
          [
           "N/A",
           [
            "L"
           ],
           "A",
           "Shadow graph",
           "origin: commercial source,99.9999 % (total),stated by supplier,ingot",
           2015
          ],
          [
           "N/A",
           [
            "L"
           ],
           "A",
           "Shadow graph",
           "origin: commercial source,99.9999 % (total),stated by supplier,ingot",
           2015
          ],
          [
           "N/A",
           [
            "L"
           ],
           "A",
           "Shadow graph",
           "origin: commercial source,99.9999 % (total),stated by supplier,ingot",
           2015
          ],
          [
           "N/A",
           [
            "L"
           ],
           "A",
           "Shadow graph",
           "origin: commercial source,99.9999 % (total),stated by supplier,ingot",
           2015
          ],
          [
           "N/A",
           [
            "L"
           ],
           "A",
           "Shadow graph",
           "origin: commercial source,99.9999 % (total),stated by supplier,ingot",
           2015
          ],
          [
           "N/A",
           [
            "L"
           ],
           "A",
           "Shadow graph",
           "origin: commercial source,99.9999 % (total),stated by supplier,ingot",
           2015
          ],
          [
           "N/A",
           [
            "L"
           ],
           "A",
           "Shadow graph",
           "origin: commercial source,99.9999 % (total),stated by supplier,ingot",
           2015
          ]
         ],
         "error_y": {
          "array": [
           125.437,
           125.805,
           124.835,
           125.661,
           124.389,
           125.306,
           123.974,
           124.354,
           123.253,
           124.747,
           125.694,
           123.821,
           123.174,
           122.872,
           124.581,
           122.523,
           124.638,
           123.894,
           124.323,
           124.402,
           123.616,
           122.501,
           123.558,
           122.864,
           123.97,
           122.466,
           124.083,
           122.864,
           124.397,
           121.597,
           122.501,
           121.92,
           122.493,
           121.592,
           123.091,
           122.117,
           121.011,
           122.672,
           122.008,
           120.072,
           121.387,
           121.571,
           121.178,
           119.403,
           121.256
          ]
         },
         "hovertemplate": "Data Set ID=28097<br>Temperature: F=%{x}<br>Specific density: kg/m**3=%{y}<br>Ref Temp=%{customdata[0]}<br>State=%{customdata[1]}<br>Representation=%{customdata[2]}<br>Method=%{customdata[3]}<br>Description=%{customdata[4]}<br>Year=%{customdata[5]}<extra></extra>",
         "legendgroup": "28097",
         "marker": {
          "color": "#636efa",
          "symbol": "circle"
         },
         "mode": "markers",
         "name": "28097",
         "orientation": "v",
         "showlegend": true,
         "type": "scatter",
         "x": [
          1975.0099999999998,
          1975.0099999999998,
          1975.7299999999998,
          1995.3500000000001,
          2015.5099999999998,
          2018.5700000000002,
          2054.3900000000003,
          2074.0099999999998,
          2089.4900000000002,
          2093.4500000000003,
          2093.63,
          2121.17,
          2133.05,
          2141.8700000000003,
          2158.07,
          2190.65,
          2194.25,
          2199.83,
          2237.4500000000003,
          2244.83,
          2277.9500000000003,
          2282.9900000000002,
          2298.1099999999997,
          2319.5299999999997,
          2321.15,
          2325.65,
          2336.9900000000002,
          2340.7700000000004,
          2362.1900000000005,
          2377.4900000000002,
          2384.15,
          2387.93,
          2409.7099999999996,
          2411.5099999999998,
          2426.4500000000003,
          2456.8700000000003,
          2466.5900000000006,
          2501.5099999999998,
          2513.57,
          2518.9700000000003,
          2522.75,
          2527.6099999999997,
          2548.4900000000002,
          2572.9700000000003,
          2604.4700000000003
         ],
         "xaxis": "x",
         "y": [
          7839.8,
          7862.8,
          7802.2,
          7853.8,
          7774.3,
          7831.6,
          7748.4,
          7772.1,
          7703.3,
          7796.7,
          7855.9,
          7738.8,
          7698.4,
          7679.5,
          7786.3,
          7657.7,
          7789.9,
          7743.4,
          7770.2,
          7775.1,
          7726,
          7656.3,
          7722.4,
          7679,
          7748.1,
          7654.1,
          7755.2,
          7679,
          7774.8,
          7599.8,
          7656.3,
          7620,
          7655.8,
          7599.5,
          7693.2,
          7632.3,
          7563.2,
          7667,
          7625.5,
          7504.5,
          7586.7,
          7598.2,
          7573.6,
          7462.7,
          7578.5
         ],
         "yaxis": "y"
        },
        {
         "customdata": [
          [
           "N/A",
           [
            "L"
           ],
           "A",
           "Shadow graph",
           "origin: commercial source,99.9999 % (total),stated by supplier,ingot",
           2015
          ],
          [
           "N/A",
           [
            "L"
           ],
           "A",
           "Shadow graph",
           "origin: commercial source,99.9999 % (total),stated by supplier,ingot",
           2015
          ],
          [
           "N/A",
           [
            "L"
           ],
           "A",
           "Shadow graph",
           "origin: commercial source,99.9999 % (total),stated by supplier,ingot",
           2015
          ],
          [
           "N/A",
           [
            "L"
           ],
           "A",
           "Shadow graph",
           "origin: commercial source,99.9999 % (total),stated by supplier,ingot",
           2015
          ],
          [
           "N/A",
           [
            "L"
           ],
           "A",
           "Shadow graph",
           "origin: commercial source,99.9999 % (total),stated by supplier,ingot",
           2015
          ],
          [
           "N/A",
           [
            "L"
           ],
           "A",
           "Shadow graph",
           "origin: commercial source,99.9999 % (total),stated by supplier,ingot",
           2015
          ],
          [
           "N/A",
           [
            "L"
           ],
           "A",
           "Shadow graph",
           "origin: commercial source,99.9999 % (total),stated by supplier,ingot",
           2015
          ],
          [
           "N/A",
           [
            "L"
           ],
           "A",
           "Shadow graph",
           "origin: commercial source,99.9999 % (total),stated by supplier,ingot",
           2015
          ]
         ],
         "error_y": {
          "array": [
           125.328,
           124.752,
           124.128,
           123.488,
           122.864,
           122.224,
           121.6,
           120.96
          ]
         },
         "hovertemplate": "Data Set ID=28098<br>Temperature: F=%{x}<br>Specific density: kg/m**3=%{y}<br>Ref Temp=%{customdata[0]}<br>State=%{customdata[1]}<br>Representation=%{customdata[2]}<br>Method=%{customdata[3]}<br>Description=%{customdata[4]}<br>Year=%{customdata[5]}<extra></extra>",
         "legendgroup": "28098",
         "marker": {
          "color": "#EF553B",
          "symbol": "circle"
         },
         "mode": "markers",
         "name": "28098",
         "orientation": "v",
         "showlegend": true,
         "type": "scatter",
         "x": [
          1979.33,
          2060.33,
          2150.33,
          2240.33,
          2330.33,
          2420.33,
          2510.33,
          2600.33
         ],
         "xaxis": "x",
         "y": [
          7833,
          7797,
          7758,
          7718,
          7679,
          7639,
          7600,
          7560
         ],
         "yaxis": "y"
        }
       ],
       "layout": {
        "height": 600,
        "legend": {
         "title": {
          "text": "Data Set ID"
         },
         "tracegroupgap": 0
        },
        "template": {
         "data": {
          "bar": [
           {
            "error_x": {
             "color": "#2a3f5f"
            },
            "error_y": {
             "color": "#2a3f5f"
            },
            "marker": {
             "line": {
              "color": "#E5ECF6",
              "width": 0.5
             },
             "pattern": {
              "fillmode": "overlay",
              "size": 10,
              "solidity": 0.2
             }
            },
            "type": "bar"
           }
          ],
          "barpolar": [
           {
            "marker": {
             "line": {
              "color": "#E5ECF6",
              "width": 0.5
             },
             "pattern": {
              "fillmode": "overlay",
              "size": 10,
              "solidity": 0.2
             }
            },
            "type": "barpolar"
           }
          ],
          "carpet": [
           {
            "aaxis": {
             "endlinecolor": "#2a3f5f",
             "gridcolor": "white",
             "linecolor": "white",
             "minorgridcolor": "white",
             "startlinecolor": "#2a3f5f"
            },
            "baxis": {
             "endlinecolor": "#2a3f5f",
             "gridcolor": "white",
             "linecolor": "white",
             "minorgridcolor": "white",
             "startlinecolor": "#2a3f5f"
            },
            "type": "carpet"
           }
          ],
          "choropleth": [
           {
            "colorbar": {
             "outlinewidth": 0,
             "ticks": ""
            },
            "type": "choropleth"
           }
          ],
          "contour": [
           {
            "colorbar": {
             "outlinewidth": 0,
             "ticks": ""
            },
            "colorscale": [
             [
              0,
              "#0d0887"
             ],
             [
              0.1111111111111111,
              "#46039f"
             ],
             [
              0.2222222222222222,
              "#7201a8"
             ],
             [
              0.3333333333333333,
              "#9c179e"
             ],
             [
              0.4444444444444444,
              "#bd3786"
             ],
             [
              0.5555555555555556,
              "#d8576b"
             ],
             [
              0.6666666666666666,
              "#ed7953"
             ],
             [
              0.7777777777777778,
              "#fb9f3a"
             ],
             [
              0.8888888888888888,
              "#fdca26"
             ],
             [
              1,
              "#f0f921"
             ]
            ],
            "type": "contour"
           }
          ],
          "contourcarpet": [
           {
            "colorbar": {
             "outlinewidth": 0,
             "ticks": ""
            },
            "type": "contourcarpet"
           }
          ],
          "heatmap": [
           {
            "colorbar": {
             "outlinewidth": 0,
             "ticks": ""
            },
            "colorscale": [
             [
              0,
              "#0d0887"
             ],
             [
              0.1111111111111111,
              "#46039f"
             ],
             [
              0.2222222222222222,
              "#7201a8"
             ],
             [
              0.3333333333333333,
              "#9c179e"
             ],
             [
              0.4444444444444444,
              "#bd3786"
             ],
             [
              0.5555555555555556,
              "#d8576b"
             ],
             [
              0.6666666666666666,
              "#ed7953"
             ],
             [
              0.7777777777777778,
              "#fb9f3a"
             ],
             [
              0.8888888888888888,
              "#fdca26"
             ],
             [
              1,
              "#f0f921"
             ]
            ],
            "type": "heatmap"
           }
          ],
          "heatmapgl": [
           {
            "colorbar": {
             "outlinewidth": 0,
             "ticks": ""
            },
            "colorscale": [
             [
              0,
              "#0d0887"
             ],
             [
              0.1111111111111111,
              "#46039f"
             ],
             [
              0.2222222222222222,
              "#7201a8"
             ],
             [
              0.3333333333333333,
              "#9c179e"
             ],
             [
              0.4444444444444444,
              "#bd3786"
             ],
             [
              0.5555555555555556,
              "#d8576b"
             ],
             [
              0.6666666666666666,
              "#ed7953"
             ],
             [
              0.7777777777777778,
              "#fb9f3a"
             ],
             [
              0.8888888888888888,
              "#fdca26"
             ],
             [
              1,
              "#f0f921"
             ]
            ],
            "type": "heatmapgl"
           }
          ],
          "histogram": [
           {
            "marker": {
             "pattern": {
              "fillmode": "overlay",
              "size": 10,
              "solidity": 0.2
             }
            },
            "type": "histogram"
           }
          ],
          "histogram2d": [
           {
            "colorbar": {
             "outlinewidth": 0,
             "ticks": ""
            },
            "colorscale": [
             [
              0,
              "#0d0887"
             ],
             [
              0.1111111111111111,
              "#46039f"
             ],
             [
              0.2222222222222222,
              "#7201a8"
             ],
             [
              0.3333333333333333,
              "#9c179e"
             ],
             [
              0.4444444444444444,
              "#bd3786"
             ],
             [
              0.5555555555555556,
              "#d8576b"
             ],
             [
              0.6666666666666666,
              "#ed7953"
             ],
             [
              0.7777777777777778,
              "#fb9f3a"
             ],
             [
              0.8888888888888888,
              "#fdca26"
             ],
             [
              1,
              "#f0f921"
             ]
            ],
            "type": "histogram2d"
           }
          ],
          "histogram2dcontour": [
           {
            "colorbar": {
             "outlinewidth": 0,
             "ticks": ""
            },
            "colorscale": [
             [
              0,
              "#0d0887"
             ],
             [
              0.1111111111111111,
              "#46039f"
             ],
             [
              0.2222222222222222,
              "#7201a8"
             ],
             [
              0.3333333333333333,
              "#9c179e"
             ],
             [
              0.4444444444444444,
              "#bd3786"
             ],
             [
              0.5555555555555556,
              "#d8576b"
             ],
             [
              0.6666666666666666,
              "#ed7953"
             ],
             [
              0.7777777777777778,
              "#fb9f3a"
             ],
             [
              0.8888888888888888,
              "#fdca26"
             ],
             [
              1,
              "#f0f921"
             ]
            ],
            "type": "histogram2dcontour"
           }
          ],
          "mesh3d": [
           {
            "colorbar": {
             "outlinewidth": 0,
             "ticks": ""
            },
            "type": "mesh3d"
           }
          ],
          "parcoords": [
           {
            "line": {
             "colorbar": {
              "outlinewidth": 0,
              "ticks": ""
             }
            },
            "type": "parcoords"
           }
          ],
          "pie": [
           {
            "automargin": true,
            "type": "pie"
           }
          ],
          "scatter": [
           {
            "marker": {
             "colorbar": {
              "outlinewidth": 0,
              "ticks": ""
             }
            },
            "type": "scatter"
           }
          ],
          "scatter3d": [
           {
            "line": {
             "colorbar": {
              "outlinewidth": 0,
              "ticks": ""
             }
            },
            "marker": {
             "colorbar": {
              "outlinewidth": 0,
              "ticks": ""
             }
            },
            "type": "scatter3d"
           }
          ],
          "scattercarpet": [
           {
            "marker": {
             "colorbar": {
              "outlinewidth": 0,
              "ticks": ""
             }
            },
            "type": "scattercarpet"
           }
          ],
          "scattergeo": [
           {
            "marker": {
             "colorbar": {
              "outlinewidth": 0,
              "ticks": ""
             }
            },
            "type": "scattergeo"
           }
          ],
          "scattergl": [
           {
            "marker": {
             "colorbar": {
              "outlinewidth": 0,
              "ticks": ""
             }
            },
            "type": "scattergl"
           }
          ],
          "scattermapbox": [
           {
            "marker": {
             "colorbar": {
              "outlinewidth": 0,
              "ticks": ""
             }
            },
            "type": "scattermapbox"
           }
          ],
          "scatterpolar": [
           {
            "marker": {
             "colorbar": {
              "outlinewidth": 0,
              "ticks": ""
             }
            },
            "type": "scatterpolar"
           }
          ],
          "scatterpolargl": [
           {
            "marker": {
             "colorbar": {
              "outlinewidth": 0,
              "ticks": ""
             }
            },
            "type": "scatterpolargl"
           }
          ],
          "scatterternary": [
           {
            "marker": {
             "colorbar": {
              "outlinewidth": 0,
              "ticks": ""
             }
            },
            "type": "scatterternary"
           }
          ],
          "surface": [
           {
            "colorbar": {
             "outlinewidth": 0,
             "ticks": ""
            },
            "colorscale": [
             [
              0,
              "#0d0887"
             ],
             [
              0.1111111111111111,
              "#46039f"
             ],
             [
              0.2222222222222222,
              "#7201a8"
             ],
             [
              0.3333333333333333,
              "#9c179e"
             ],
             [
              0.4444444444444444,
              "#bd3786"
             ],
             [
              0.5555555555555556,
              "#d8576b"
             ],
             [
              0.6666666666666666,
              "#ed7953"
             ],
             [
              0.7777777777777778,
              "#fb9f3a"
             ],
             [
              0.8888888888888888,
              "#fdca26"
             ],
             [
              1,
              "#f0f921"
             ]
            ],
            "type": "surface"
           }
          ],
          "table": [
           {
            "cells": {
             "fill": {
              "color": "#EBF0F8"
             },
             "line": {
              "color": "white"
             }
            },
            "header": {
             "fill": {
              "color": "#C8D4E3"
             },
             "line": {
              "color": "white"
             }
            },
            "type": "table"
           }
          ]
         },
         "layout": {
          "annotationdefaults": {
           "arrowcolor": "#2a3f5f",
           "arrowhead": 0,
           "arrowwidth": 1
          },
          "autotypenumbers": "strict",
          "coloraxis": {
           "colorbar": {
            "outlinewidth": 0,
            "ticks": ""
           }
          },
          "colorscale": {
           "diverging": [
            [
             0,
             "#8e0152"
            ],
            [
             0.1,
             "#c51b7d"
            ],
            [
             0.2,
             "#de77ae"
            ],
            [
             0.3,
             "#f1b6da"
            ],
            [
             0.4,
             "#fde0ef"
            ],
            [
             0.5,
             "#f7f7f7"
            ],
            [
             0.6,
             "#e6f5d0"
            ],
            [
             0.7,
             "#b8e186"
            ],
            [
             0.8,
             "#7fbc41"
            ],
            [
             0.9,
             "#4d9221"
            ],
            [
             1,
             "#276419"
            ]
           ],
           "sequential": [
            [
             0,
             "#0d0887"
            ],
            [
             0.1111111111111111,
             "#46039f"
            ],
            [
             0.2222222222222222,
             "#7201a8"
            ],
            [
             0.3333333333333333,
             "#9c179e"
            ],
            [
             0.4444444444444444,
             "#bd3786"
            ],
            [
             0.5555555555555556,
             "#d8576b"
            ],
            [
             0.6666666666666666,
             "#ed7953"
            ],
            [
             0.7777777777777778,
             "#fb9f3a"
            ],
            [
             0.8888888888888888,
             "#fdca26"
            ],
            [
             1,
             "#f0f921"
            ]
           ],
           "sequentialminus": [
            [
             0,
             "#0d0887"
            ],
            [
             0.1111111111111111,
             "#46039f"
            ],
            [
             0.2222222222222222,
             "#7201a8"
            ],
            [
             0.3333333333333333,
             "#9c179e"
            ],
            [
             0.4444444444444444,
             "#bd3786"
            ],
            [
             0.5555555555555556,
             "#d8576b"
            ],
            [
             0.6666666666666666,
             "#ed7953"
            ],
            [
             0.7777777777777778,
             "#fb9f3a"
            ],
            [
             0.8888888888888888,
             "#fdca26"
            ],
            [
             1,
             "#f0f921"
            ]
           ]
          },
          "colorway": [
           "#636efa",
           "#EF553B",
           "#00cc96",
           "#ab63fa",
           "#FFA15A",
           "#19d3f3",
           "#FF6692",
           "#B6E880",
           "#FF97FF",
           "#FECB52"
          ],
          "font": {
           "color": "#2a3f5f"
          },
          "geo": {
           "bgcolor": "white",
           "lakecolor": "white",
           "landcolor": "#E5ECF6",
           "showlakes": true,
           "showland": true,
           "subunitcolor": "white"
          },
          "hoverlabel": {
           "align": "left"
          },
          "hovermode": "closest",
          "mapbox": {
           "style": "light"
          },
          "paper_bgcolor": "white",
          "plot_bgcolor": "#E5ECF6",
          "polar": {
           "angularaxis": {
            "gridcolor": "white",
            "linecolor": "white",
            "ticks": ""
           },
           "bgcolor": "#E5ECF6",
           "radialaxis": {
            "gridcolor": "white",
            "linecolor": "white",
            "ticks": ""
           }
          },
          "scene": {
           "xaxis": {
            "backgroundcolor": "#E5ECF6",
            "gridcolor": "white",
            "gridwidth": 2,
            "linecolor": "white",
            "showbackground": true,
            "ticks": "",
            "zerolinecolor": "white"
           },
           "yaxis": {
            "backgroundcolor": "#E5ECF6",
            "gridcolor": "white",
            "gridwidth": 2,
            "linecolor": "white",
            "showbackground": true,
            "ticks": "",
            "zerolinecolor": "white"
           },
           "zaxis": {
            "backgroundcolor": "#E5ECF6",
            "gridcolor": "white",
            "gridwidth": 2,
            "linecolor": "white",
            "showbackground": true,
            "ticks": "",
            "zerolinecolor": "white"
           }
          },
          "shapedefaults": {
           "line": {
            "color": "#2a3f5f"
           }
          },
          "ternary": {
           "aaxis": {
            "gridcolor": "white",
            "linecolor": "white",
            "ticks": ""
           },
           "baxis": {
            "gridcolor": "white",
            "linecolor": "white",
            "ticks": ""
           },
           "bgcolor": "#E5ECF6",
           "caxis": {
            "gridcolor": "white",
            "linecolor": "white",
            "ticks": ""
           }
          },
          "title": {
           "x": 0.05
          },
          "xaxis": {
           "automargin": true,
           "gridcolor": "white",
           "linecolor": "white",
           "ticks": "",
           "title": {
            "standoff": 15
           },
           "zerolinecolor": "white",
           "zerolinewidth": 2
          },
          "yaxis": {
           "automargin": true,
           "gridcolor": "white",
           "linecolor": "white",
           "ticks": "",
           "title": {
            "standoff": 15
           },
           "zerolinecolor": "white",
           "zerolinewidth": 2
          }
         }
        },
        "title": {
         "text": "['Cu']"
        },
        "xaxis": {
         "anchor": "y",
         "domain": [
          0,
          1
         ],
         "title": {
          "text": "Temperature: F"
         }
        },
        "yaxis": {
         "anchor": "x",
         "domain": [
          0,
          1
         ],
         "title": {
          "text": "Specific density: kg/m**3"
         }
        }
       }
      }
     },
     "metadata": {}
    }
   ],
   "metadata": {}
  },
  {
   "cell_type": "code",
   "execution_count": null,
   "source": [
    "df.to_csv('test_data', index = False)"
   ],
   "outputs": [],
   "metadata": {}
  }
 ],
 "metadata": {
  "orig_nbformat": 4,
  "language_info": {
   "name": "python",
   "version": "3.9.6",
   "mimetype": "text/x-python",
   "codemirror_mode": {
    "name": "ipython",
    "version": 3
   },
   "pygments_lexer": "ipython3",
   "nbconvert_exporter": "python",
   "file_extension": ".py"
  },
  "kernelspec": {
   "name": "python3",
   "display_name": "Python 3.9.6 64-bit"
  },
  "interpreter": {
   "hash": "0dd487d8b67d21e4b7135c6574fdc74d729bc193aa7ee7c5c4cc47f0ab29d439"
  }
 },
 "nbformat": 4,
 "nbformat_minor": 2
}